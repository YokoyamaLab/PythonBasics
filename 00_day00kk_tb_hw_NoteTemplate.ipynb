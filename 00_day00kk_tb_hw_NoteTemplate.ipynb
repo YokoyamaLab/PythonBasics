{
  "nbformat": 4,
  "nbformat_minor": 0,
  "metadata": {
    "colab": {
      "provenance": [],
      "authorship_tag": "ABX9TyO+OtCnFSp34E020knOTiu8",
      "include_colab_link": true
    },
    "kernelspec": {
      "name": "python3",
      "display_name": "Python 3"
    },
    "language_info": {
      "name": "python"
    }
  },
  "cells": [
    {
      "cell_type": "markdown",
      "metadata": {
        "id": "view-in-github",
        "colab_type": "text"
      },
      "source": [
        "<a href=\"https://colab.research.google.com/github/YokoyamaLab/PythonBasics/blob/2025/00_day00kk_tb_hw_NoteTemplate.ipynb\" target=\"_parent\"><img src=\"https://colab.research.google.com/assets/colab-badge.svg\" alt=\"Open In Colab\"/></a>"
      ]
    },
    {
      "cell_type": "markdown",
      "source": [
        "**ノート00**\n",
        "\n",
        "# [Day00 講義内課題 Textbook Homework] タイトルタイトルタイトル"
      ],
      "metadata": {
        "id": "ZWvS0cSUo8ak"
      }
    },
    {
      "cell_type": "code",
      "execution_count": null,
      "metadata": {
        "cellView": "form",
        "id": "RFTFPAZ0oSZZ"
      },
      "outputs": [],
      "source": [
        "# @title 提出者情報\n",
        "学籍番号 = 0 # @param {\"type\":\"number\"}\n",
        "名前 = \"\" # @param {\"type\":\"string\"}\n"
      ]
    }
  ]
}