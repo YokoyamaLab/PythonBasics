{
  "nbformat": 4,
  "nbformat_minor": 0,
  "metadata": {
    "colab": {
      "provenance": [],
      "authorship_tag": "ABX9TyPGt4UktTzleAPGkFVgyX7k",
      "include_colab_link": true
    },
    "kernelspec": {
      "name": "python3",
      "display_name": "Python 3"
    },
    "language_info": {
      "name": "python"
    }
  },
  "cells": [
    {
      "cell_type": "markdown",
      "metadata": {
        "id": "view-in-github",
        "colab_type": "text"
      },
      "source": [
        "<a href=\"https://colab.research.google.com/github/YokoyamaLab/PythonBasics/blob/2025/01_day01kk_SortProgramming.ipynb\" target=\"_parent\"><img src=\"https://colab.research.google.com/assets/colab-badge.svg\" alt=\"Open In Colab\"/></a>"
      ]
    },
    {
      "cell_type": "markdown",
      "source": [
        "**ノート01**\n",
        "# [Day01 講義内課題] ソートのプログラミング"
      ],
      "metadata": {
        "id": "ZWvS0cSUo8ak"
      }
    },
    {
      "cell_type": "code",
      "execution_count": null,
      "metadata": {
        "cellView": "form",
        "id": "RFTFPAZ0oSZZ"
      },
      "outputs": [],
      "source": [
        "# @title 提出者情報\n",
        "学籍番号 = 0 # @param {\"type\":\"number\"}\n",
        "名前 = \"\" # @param {\"type\":\"string\"}\n"
      ]
    },
    {
      "cell_type": "markdown",
      "source": [
        "## お題"
      ],
      "metadata": {
        "id": "rJQ5isgVqVo3"
      }
    },
    {
      "cell_type": "markdown",
      "source": [
        "Google Colabのコード生成AI機能を使って、大きな配列データをソートして表示するプログラムを実装せよ。また、コードの説明も記せ。"
      ],
      "metadata": {
        "id": "yFqcY726q4FS"
      }
    },
    {
      "cell_type": "markdown",
      "source": [
        "## 解答欄"
      ],
      "metadata": {
        "id": "ABZqd3QSrG12"
      }
    },
    {
      "cell_type": "code",
      "source": [],
      "metadata": {
        "id": "LliDc2ozrLEj"
      },
      "execution_count": null,
      "outputs": []
    },
    {
      "cell_type": "markdown",
      "source": [
        "### コードの説明はこちら"
      ],
      "metadata": {
        "id": "vLNz6s0arMZC"
      }
    },
    {
      "cell_type": "markdown",
      "source": [
        "> ここにコードの説明をかく\n",
        "\n",
        "\n"
      ],
      "metadata": {
        "id": "O5RywKJmrQGn"
      }
    }
  ]
}