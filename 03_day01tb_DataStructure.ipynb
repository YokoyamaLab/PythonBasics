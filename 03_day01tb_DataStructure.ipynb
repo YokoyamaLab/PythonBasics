{
  "nbformat": 4,
  "nbformat_minor": 0,
  "metadata": {
    "colab": {
      "provenance": [],
      "toc_visible": true,
      "include_colab_link": true
    },
    "kernelspec": {
      "name": "python3",
      "display_name": "Python 3"
    },
    "language_info": {
      "name": "python"
    }
  },
  "cells": [
    {
      "cell_type": "markdown",
      "metadata": {
        "id": "view-in-github",
        "colab_type": "text"
      },
      "source": [
        "<a href=\"https://colab.research.google.com/github/YokoyamaLab/PythonBasics/blob/2025/03_day01tb_DataStructure.ipynb\" target=\"_parent\"><img src=\"https://colab.research.google.com/assets/colab-badge.svg\" alt=\"Open In Colab\"/></a>"
      ]
    },
    {
      "cell_type": "markdown",
      "source": [
        "**ノート03**\n",
        "\n",
        "# [Day01 Textbook]  データ構造"
      ],
      "metadata": {
        "id": "YQ3pAgoeAB1d"
      }
    },
    {
      "cell_type": "markdown",
      "source": [
        "これまでに、変数にデータを割り当てる方法は学びました。この資料では、複数のデータを一塊として扱うデータ構造を学びます。\n",
        "\n",
        "尚、まだ制御構造はやっていませんが、データを作り出す部分で本ノートにはfor文がでてきます。for文は次回以降学びますが、このノートでも書き方を覚えておいてください。"
      ],
      "metadata": {
        "id": "AGt2b4lMsGAd"
      }
    },
    {
      "cell_type": "markdown",
      "source": [
        "## 🌀リスト (List) ##\n"
      ],
      "metadata": {
        "id": "Il5B1XG4AfhP"
      }
    },
    {
      "cell_type": "markdown",
      "source": [
        "「配列」の英訳は「Array」で、多くの言語でArrayと表現されていますが、Pythonでは「List」と呼びます。厳密に言うとArrayや後述するNumPy配列(Array)があるのですが、Java等で配列として知られているような機能はPythonではListで実装できます。\n",
        "\n",
        "では、ある変数をListとして定義しましょう。"
      ],
      "metadata": {
        "id": "LHCmNzklwSZT"
      }
    },
    {
      "cell_type": "code",
      "source": [
        "my_list = []\n",
        "print(len(my_list))"
      ],
      "metadata": {
        "id": "vUT3owhdx_Zg",
        "colab": {
          "base_uri": "https://localhost:8080/"
        },
        "outputId": "6761af9b-2d06-436d-c3d1-f2ee0d7f2235"
      },
      "execution_count": null,
      "outputs": [
        {
          "output_type": "stream",
          "name": "stdout",
          "text": [
            "0\n"
          ]
        }
      ]
    },
    {
      "cell_type": "markdown",
      "source": [
        "これで**長さ0**のListが、変数**my_list**として定義されます。なお```len(LIST)```でLISTの長さを得る事ができます。\n",
        "\n",
        "定義と同時に初期値を入れる方法もあります。"
      ],
      "metadata": {
        "id": "xISUfygHyC79"
      }
    },
    {
      "cell_type": "code",
      "source": [
        "my_list= [0, 1, 2.0, 3.5, '要素', 5j, 0]\n",
        "print(my_list[3])\n",
        "print(my_list)\n",
        "print(len(my_list))"
      ],
      "metadata": {
        "id": "5V_Cgms6yQsV",
        "colab": {
          "base_uri": "https://localhost:8080/"
        },
        "outputId": "97b6c415-42c6-4eb9-a4d7-e88eb88ab035"
      },
      "execution_count": null,
      "outputs": [
        {
          "output_type": "stream",
          "name": "stdout",
          "text": [
            "3.5\n",
            "[0, 1, 2.0, 3.5, '要素', 5j, 0]\n",
            "7\n"
          ]
        }
      ]
    },
    {
      "cell_type": "markdown",
      "source": [
        "Javaやその他の多くの言語同様、添え字は0から始まり、```list[n]```の形で参照します。"
      ],
      "metadata": {
        "id": "XubM9nE-LKLp"
      }
    },
    {
      "cell_type": "markdown",
      "source": [
        "### 💮添え字の機能"
      ],
      "metadata": {
        "id": "YO7gIPCLE92-"
      }
    },
    {
      "cell_type": "markdown",
      "source": [
        "Pythonのリストの添え字は単に「何番目」を指定する以上の高度な機能を持っており、リスト内の連続した一部分を指定する事も可能です。\n",
        "\n",
        "では以下のリストを考えてみましょう。"
      ],
      "metadata": {
        "id": "cw48-X4SFB8C"
      }
    },
    {
      "cell_type": "code",
      "source": [
        "my_list = [0, 10, 20, 30, 40, 50, 60]"
      ],
      "metadata": {
        "id": "EmKQCfS9FzsX"
      },
      "execution_count": null,
      "outputs": []
    },
    {
      "cell_type": "markdown",
      "source": [
        "4番目の要素(30)は以下の様に表現する事は上で説明しました。"
      ],
      "metadata": {
        "id": "a4EXlMWaF2R2"
      }
    },
    {
      "cell_type": "code",
      "source": [
        "print(my_list[3])"
      ],
      "metadata": {
        "id": "yXc5JPbaGBeO",
        "colab": {
          "base_uri": "https://localhost:8080/"
        },
        "outputId": "5793cb59-e15b-4f4b-be03-df42a85d2105"
      },
      "execution_count": null,
      "outputs": [
        {
          "output_type": "stream",
          "name": "stdout",
          "text": [
            "30\n"
          ]
        }
      ]
    },
    {
      "cell_type": "markdown",
      "source": [
        "Pythonでは範囲で指定する事もできます。例えば3番目から5番目の要素をしていするには以下の様に記述します。"
      ],
      "metadata": {
        "id": "j-CEICFGGbUV"
      }
    },
    {
      "cell_type": "code",
      "source": [
        "print(my_list[2:5]) # インデクスで2≦x＜5の箇所が帰ってきます"
      ],
      "metadata": {
        "id": "l86MzksVGsiy",
        "colab": {
          "base_uri": "https://localhost:8080/"
        },
        "outputId": "0f2f4705-1cbc-4f7d-ad16-09cd31d87ba7"
      },
      "execution_count": null,
      "outputs": [
        {
          "output_type": "stream",
          "name": "stdout",
          "text": [
            "[20, 30, 40]\n"
          ]
        }
      ]
    },
    {
      "cell_type": "markdown",
      "source": [
        "範囲は省略する事も可能です、例えばインデクスで2以降、あるいは5未満と言うような指定は次の様に書きます。"
      ],
      "metadata": {
        "id": "YzcfiYMbHz-e"
      }
    },
    {
      "cell_type": "code",
      "source": [
        "print(my_list[2:])\n",
        "print(my_list[:5])"
      ],
      "metadata": {
        "id": "qdc8bq42IBm5",
        "colab": {
          "base_uri": "https://localhost:8080/"
        },
        "outputId": "60d096d3-b85d-409e-a8df-54e6a825c845"
      },
      "execution_count": null,
      "outputs": [
        {
          "output_type": "stream",
          "name": "stdout",
          "text": [
            "[20, 30, 40, 50, 60]\n",
            "[0, 10, 20, 30, 40]\n"
          ]
        }
      ]
    },
    {
      "cell_type": "markdown",
      "source": [
        "さらには1個飛ばしで指定という事もできます。"
      ],
      "metadata": {
        "id": "9Kvvt-7fHYrQ"
      }
    },
    {
      "cell_type": "code",
      "source": [
        "print(my_list[2:5:2])"
      ],
      "metadata": {
        "id": "RM5r3BQ_HcAj",
        "colab": {
          "base_uri": "https://localhost:8080/"
        },
        "outputId": "125c5fb2-751c-4cca-d52c-59676cf8b9dc"
      },
      "execution_count": null,
      "outputs": [
        {
          "output_type": "stream",
          "name": "stdout",
          "text": [
            "[20, 40]\n"
          ]
        }
      ]
    },
    {
      "cell_type": "markdown",
      "source": [
        "インデクスには負の数を与える事も可能です。以下のコードが何をしているか考えてみてください。"
      ],
      "metadata": {
        "id": "zVErcBScIK8u"
      }
    },
    {
      "cell_type": "code",
      "source": [
        "print(my_list[-2])\n"
      ],
      "metadata": {
        "id": "-xxF733CIT15",
        "colab": {
          "base_uri": "https://localhost:8080/"
        },
        "outputId": "5cd1ae1d-6c57-4a3f-cdb6-02c0aebd860c"
      },
      "execution_count": null,
      "outputs": [
        {
          "output_type": "stream",
          "name": "stdout",
          "text": [
            "50\n"
          ]
        }
      ]
    },
    {
      "cell_type": "markdown",
      "source": [
        "後ろから2番目の要素が帰ってきました。これは以下のコードと同等です。"
      ],
      "metadata": {
        "id": "-8aANtIcInyA"
      }
    },
    {
      "cell_type": "code",
      "source": [
        "print(my_list[len(my_list) - 2])"
      ],
      "metadata": {
        "id": "jULCmYhiI5aW",
        "colab": {
          "base_uri": "https://localhost:8080/"
        },
        "outputId": "795b97f6-17d3-45fa-93e7-cd7576901813"
      },
      "execution_count": null,
      "outputs": [
        {
          "output_type": "stream",
          "name": "stdout",
          "text": [
            "50\n"
          ]
        }
      ]
    },
    {
      "cell_type": "markdown",
      "source": [
        "#### 通番のListを作る"
      ],
      "metadata": {
        "id": "0Q1btV_Uz2t7"
      }
    },
    {
      "cell_type": "markdown",
      "source": [
        "添え字にはfor文を入れるような事も可能です。たとえば、0からの連番からなるリストを作るには以下の様に書きます。"
      ],
      "metadata": {
        "id": "ziPGl4G_z6EV"
      }
    },
    {
      "cell_type": "code",
      "source": [
        "seq_list = [i for i in range(10)]\n",
        "print(seq_list)"
      ],
      "metadata": {
        "id": "7cSo3SWo0K65",
        "colab": {
          "base_uri": "https://localhost:8080/"
        },
        "outputId": "5a655df5-e75b-4d84-973a-3c6356243914"
      },
      "execution_count": null,
      "outputs": [
        {
          "output_type": "stream",
          "name": "stdout",
          "text": [
            "[0, 1, 2, 3, 4, 5, 6, 7, 8, 9]\n"
          ]
        }
      ]
    },
    {
      "cell_type": "markdown",
      "source": [
        "これを少し変えると例えば、こんな事もできます。"
      ],
      "metadata": {
        "id": "IJAK7OEg3v-C"
      }
    },
    {
      "cell_type": "code",
      "source": [
        "seq_list = [i+5 for i in range(10)]\n",
        "print(seq_list)\n",
        "seq_list = [i*i for i in range(10)]\n",
        "print(seq_list)"
      ],
      "metadata": {
        "id": "_L60COYD38EN",
        "colab": {
          "base_uri": "https://localhost:8080/"
        },
        "outputId": "29b42645-75a9-4fbe-b46e-2f0a5571aeec"
      },
      "execution_count": null,
      "outputs": [
        {
          "output_type": "stream",
          "name": "stdout",
          "text": [
            "[5, 6, 7, 8, 9, 10, 11, 12, 13, 14]\n",
            "[0, 1, 4, 9, 16, 25, 36, 49, 64, 81]\n"
          ]
        }
      ]
    },
    {
      "cell_type": "markdown",
      "source": [
        "### 💮要素の操作"
      ],
      "metadata": {
        "id": "0_QnC_kM2QfJ"
      }
    },
    {
      "cell_type": "markdown",
      "source": [
        "Listには、すでに定義されたListに対して、新たな要素を追加・削除したり連結したりするメソッドが多数用意されています。\n",
        "\n",
        "【追加削除系】\n",
        "*  ```list.append(x)```\n",
        "  * **list**の末尾に**x**を追加\n",
        "  * **x**がListの場合は**list**と**x**が連結される\n",
        "*   ```list.insert(i, x)```\n",
        "  * **list**の**i**番目(0スタートなのを忘れずに)**x**を追加\n",
        "  * ```list.insert(0, x)```で先頭に追加\n",
        "*   ```list.pop()```\n",
        "  * **list**の末尾から要素を**取り除いて**返す\n",
        "*   ```list.pop(i)```\n",
        "  * **list**の**i**番目の要素を**取り除いて**返す\n",
        "  * ```list.pop(0)```で先頭の要素を**取り除いて**返す\n",
        "*   ```list.clear()```\n",
        "  * **list**の全ての要素を削除する\n",
        "*   ```list.remove(x)```\n",
        "  * **list**の中の要素**x**を削除\n",
        "  * その要素が無い時はエラーを返す\n",
        "\n",
        "\n",
        "【並び順の変更系】\n",
        "*   ```list.reverse()```\n",
        "  * **list**の並び順を逆にする\n",
        "*   ```list.sort()```\n",
        "  * **list**(そのものを)をソートする\n",
        "*   ```sorted(list)```\n",
        "  * **list**をソートした結果を返す(listは変化しない)\n",
        "\n",
        "\n",
        "【各要素を処理する系】※後で学習します\n",
        "*   ```list.map()```\n",
        "  * **list**の各要素を処理し、処理結果からなる新たなリストを返す\n",
        "*   ```list.reduce()```\n",
        "  * **list**の全ての要素を一つの要素に集約して返す\n",
        "*   ```list.filter()```\n",
        "  * **list**の要素から条件に合致した要素のみからなるリストを返す\n",
        "\n",
        "【その他】\n",
        "*   ```list.index(i)```\n",
        "  * **list**の**i**番目の値を返す\n",
        "*  ```list.count(x)```\n",
        "  * **list**中にある要素**x**の個数を返す\n",
        "*  ```list.copy()```\n",
        "  * **list**のコピーを返す\n",
        "\n",
        "\n",
        "\n",
        "ではこれらを使った実際のコードを見てみましょう。実行したり改変したりして、それぞれのメソッドがどのように動いているのか理解をしてください。"
      ],
      "metadata": {
        "id": "-v-_17Gw2WY3"
      }
    },
    {
      "cell_type": "code",
      "source": [
        "print('配列を定義する')\n",
        "fruits = ['Cherry','Banana','Elderberry','Dragon Fruits']\n",
        "print(fruits)\n",
        "\n",
        "print('\\n配列をソートする（非破壊）')\n",
        "sorted_fruits = sorted(fruits)\n",
        "print('ソート済み：',sorted_fruits)\n",
        "print('元リスト：',fruits)\n",
        "\n",
        "print('\\n配列をソートする（破壊）')\n",
        "fruits.sort()\n",
        "print('元リスト：',fruits)\n",
        "\n",
        "print('\\n末尾にFigを追加')\n",
        "fruits.append('Fig')\n",
        "print(fruits)\n",
        "\n",
        "print('\\n先頭にAppleを追加')\n",
        "fruits.insert(0,'Apple')\n",
        "print(fruits)\n",
        "\n",
        "print('\\n順番を逆にする')\n",
        "fruits.reverse()\n",
        "print(fruits)\n",
        "\n",
        "print('\\nCherryが何番目にあるか探してiに入れる')\n",
        "i = fruits.index('Cherry')\n",
        "print('i = ', i)\n",
        "\n",
        "print('\\ni番目の値を取り除く')\n",
        "print('返された値: ', fruits.pop(3))\n",
        "print('配列に残った値', fruits)\n",
        "\n",
        "print('\\ni番目にCranberryを挿入')\n",
        "fruits.insert(i,'Cranberry')\n",
        "print(fruits)\n",
        "\n",
        "print('\\n2番目から3個(つまり5番目の要素の前(つまり4番目))までを返す')\n",
        "print('返された値: ', fruits[2:5])\n",
        "print('配列に残った値: ', fruits)\n",
        "\n",
        "print('\\nfruitsをコピーしてfruits_copyに代入')\n",
        "fruits_copy = fruits.copy()\n",
        "print(\"fruits:\",fruits);\n",
        "print(\"fruits_copy:\",fruits_copy);\n",
        "\n",
        "print('\\nコピーと代入の違いを知るためにfruitsをfruits_assignに代入しておく')\n",
        "fruits_assign = fruits\n",
        "print(\"fruits:\",fruits);\n",
        "print(\"fruits_assign :\",fruits_assign);\n",
        "\n",
        "print('\\nfruitsをクリアする')\n",
        "fruits.clear()\n",
        "print(fruits)\n",
        "\n",
        "print('\\nfruits_copyは？')\n",
        "print(fruits_copy)\n",
        "\n",
        "print('\\nfruits_assignは？')\n",
        "print(fruits_assign)"
      ],
      "metadata": {
        "id": "trlrk5A0_e_z",
        "colab": {
          "base_uri": "https://localhost:8080/"
        },
        "outputId": "0e64298c-1d32-4b6e-b03a-4e5744139ba7"
      },
      "execution_count": null,
      "outputs": [
        {
          "output_type": "stream",
          "name": "stdout",
          "text": [
            "配列を定義する\n",
            "['Cherry', 'Banana', 'Elderberry', 'Dragon Fruits']\n",
            "\n",
            "配列をソートする（非破壊）\n",
            "ソート済み： ['Banana', 'Cherry', 'Dragon Fruits', 'Elderberry']\n",
            "元リスト： ['Cherry', 'Banana', 'Elderberry', 'Dragon Fruits']\n",
            "\n",
            "配列をソートする（破壊）\n",
            "元リスト： ['Banana', 'Cherry', 'Dragon Fruits', 'Elderberry']\n",
            "\n",
            "末尾にFigを追加\n",
            "['Banana', 'Cherry', 'Dragon Fruits', 'Elderberry', 'Fig']\n",
            "\n",
            "先頭にAppleを追加\n",
            "['Apple', 'Banana', 'Cherry', 'Dragon Fruits', 'Elderberry', 'Fig']\n",
            "\n",
            "順番を逆にする\n",
            "['Fig', 'Elderberry', 'Dragon Fruits', 'Cherry', 'Banana', 'Apple']\n",
            "\n",
            "Cherryが何番目にあるか探してiに入れる\n",
            "i =  3\n",
            "\n",
            "i番目の値を取り除く\n",
            "返された値:  Cherry\n",
            "配列に残った値 ['Fig', 'Elderberry', 'Dragon Fruits', 'Banana', 'Apple']\n",
            "\n",
            "i番目にCranberryを挿入\n",
            "['Fig', 'Elderberry', 'Dragon Fruits', 'Cranberry', 'Banana', 'Apple']\n",
            "\n",
            "2番目から3個(つまり5番目の要素の前(つまり4番目))までを返す\n",
            "返された値:  ['Dragon Fruits', 'Cranberry', 'Banana']\n",
            "配列に残った値:  ['Fig', 'Elderberry', 'Dragon Fruits', 'Cranberry', 'Banana', 'Apple']\n",
            "\n",
            "fruitsをコピーしてfruits_copyに代入\n",
            "fruits: ['Fig', 'Elderberry', 'Dragon Fruits', 'Cranberry', 'Banana', 'Apple']\n",
            "fruits_copy: ['Fig', 'Elderberry', 'Dragon Fruits', 'Cranberry', 'Banana', 'Apple']\n",
            "\n",
            "コピーと代入の違いを知るためにfruitsをfruits_assignに代入しておく\n",
            "fruits: ['Fig', 'Elderberry', 'Dragon Fruits', 'Cranberry', 'Banana', 'Apple']\n",
            "fruits_assign : ['Fig', 'Elderberry', 'Dragon Fruits', 'Cranberry', 'Banana', 'Apple']\n",
            "\n",
            "fruitsをクリアする\n",
            "[]\n",
            "\n",
            "fruits_copyは？\n",
            "['Fig', 'Elderberry', 'Dragon Fruits', 'Cranberry', 'Banana', 'Apple']\n",
            "\n",
            "fruits_assignは？\n",
            "[]\n"
          ]
        }
      ]
    },
    {
      "cell_type": "markdown",
      "source": [
        "命令一つ一つのソースコードと実行結果を見比べてリストの機能を理解してください。コードをいじって再実行してみても良いでしょう。リストは実装の基礎になりますので、習得しておく事が重要です。\n",
        "\n",
        "<big>重要</big>\n",
        "\n",
        "１点だけ、最後に```fruits_copy```には配列の値が残っていますが、```fruits_assign```は空っぽになっていますが、これは何故でしょうか？\n",
        "\n",
        "まず、前提として以下の操作をしています。\n",
        "* ```fruits_copy```は```fruits```をコピーした\n",
        "* ```fruits_assign```は```fruits```を代入した\n",
        "* ```fruits```を```clear()```したら、```fruits_assign```のみが消えた\n",
        "\n",
        "\n",
        "実はこれはPythonだけでなく、JavaScript等最近のモダンなプログラミング言語を扱うにあたり、非常に重要なポイントです。```fruits_copy```は```frutis_copy = frutis,copy()```というコードで作成されました。Listだとややこしいので、普通の変数で考えてみましょう。"
      ],
      "metadata": {
        "id": "-VR985a9GINL"
      }
    },
    {
      "cell_type": "code",
      "source": [
        "val_a = 1\n",
        "val_b = val_a\n",
        "val_a = 0\n",
        "print(\"val_a: \",val_a) # 0が直前で代入されたので0を表示\n",
        "print(\"val_b: \",val_b) # 代入した時点での値1のまま"
      ],
      "metadata": {
        "id": "pyxfwv58Hi_R",
        "colab": {
          "base_uri": "https://localhost:8080/"
        },
        "outputId": "13b603ae-98be-4c52-803c-83db0b8aac12"
      },
      "execution_count": null,
      "outputs": [
        {
          "output_type": "stream",
          "name": "stdout",
          "text": [
            "val_a:  0\n",
            "val_b:  1\n"
          ]
        }
      ]
    },
    {
      "cell_type": "markdown",
      "source": [
        "この様に```val_b```に```val_a```の値を代入した後で```cal_a```の値を更新したとしても、```val_b```の値は、当然代入時の```val_a```の値のままです。\n",
        "\n",
        "ところが先ほどのListの例ではそうはなりませんでした。もう一度その部分のコードだけ見てみましょう。"
      ],
      "metadata": {
        "id": "7u0JaeIQHwvF"
      }
    },
    {
      "cell_type": "code",
      "source": [
        "list_a = ['Fig', 'Elderberry', 'Dragon Fruits', 'Cranberry', 'Banana', 'Apple'];\n",
        "list_b = list_a\n",
        "list_c = list_a.copy()\n",
        "list_a.clear()\n",
        "print(\"list_a: \", list_a)\n",
        "print(\"list_b: \", list_b)\n",
        "print(\"list_c: \", list_c)"
      ],
      "metadata": {
        "id": "FFVybo_2IEGv",
        "colab": {
          "base_uri": "https://localhost:8080/"
        },
        "outputId": "939baf4b-90fb-46c7-abd9-18b6cfc52ec0"
      },
      "execution_count": null,
      "outputs": [
        {
          "output_type": "stream",
          "name": "stdout",
          "text": [
            "list_a:  []\n",
            "list_b:  []\n",
            "list_c:  ['Fig', 'Elderberry', 'Dragon Fruits', 'Cranberry', 'Banana', 'Apple']\n"
          ]
        }
      ]
    },
    {
      "cell_type": "markdown",
      "source": [
        "```list_a```だけクリアしたはずなのに、list_bも消えています。```list_b = list_a```というコードは、値そのものではなくて、値が格納されているメモリ番地を代入しています。つまり```list_a```と```list_b```は同じメモリ番地を指す事になります。```list_a```が指し示すメモリ番地にあるListを更新すれば、当然```list_b```は同じ所を指していますので、```list_b```も更新されます。\n",
        "\n",
        "一方で```list_c```は**copyメソッド**で作り出されました。**copyメソッド**はListの内容をメモリの別の部分にコピーし、その番地を返す関数です。なので```list_c```は```list_a```や```list_c```と異なる番地にあるデータを見ていますので、```list_a```からクリアされても影響を受けません。\n",
        "\n",
        "この事を頭の片隅に置いておかないと、今後、複雑なプログラムを実装する際に、思わぬバグを生み出す事になりますので、気を付けましょう。"
      ],
      "metadata": {
        "id": "dgQphRPlIY-1"
      }
    },
    {
      "cell_type": "markdown",
      "source": [
        "### 💮多次元リスト ###"
      ],
      "metadata": {
        "id": "s5D5z-_GsQtt"
      }
    },
    {
      "cell_type": "markdown",
      "source": [
        "Listの要素としてListを持つこともできます。これを多次元配列と呼びます。"
      ],
      "metadata": {
        "id": "IotecvCl-b2e"
      }
    },
    {
      "cell_type": "code",
      "source": [
        "matrix = [\n",
        "    [1, 2, 3, 4],\n",
        "    [5, 6, 7, 8],\n",
        "    [9, 10, 11, 12],\n",
        "]\n",
        "print(matrix)"
      ],
      "metadata": {
        "id": "bSUeQwHk_ORo",
        "colab": {
          "base_uri": "https://localhost:8080/"
        },
        "outputId": "e7566072-4ec7-4b10-ef26-510b89cce00e"
      },
      "execution_count": null,
      "outputs": [
        {
          "output_type": "stream",
          "name": "stdout",
          "text": [
            "[[1, 2, 3, 4], [5, 6, 7, 8], [9, 10, 11, 12]]\n"
          ]
        }
      ]
    },
    {
      "cell_type": "markdown",
      "source": [
        "### 💮リストのまとめ"
      ],
      "metadata": {
        "id": "6IdZcvZKWeGe"
      }
    },
    {
      "cell_type": "code",
      "source": [
        "# ←再生ボタンでスライドを表示します\n",
        "# ←再生ボタンを押すたびにスライドのページが進みます。\n",
        "from IPython.display import Image\n",
        "image_pages = 3;\n",
        "if 'image_cur' not in locals(): # これはローカル変数としてimage_curが定義されていない場合にTrueを返す\n",
        "  image_cur = -1\n",
        "print(str(image_pages)+'ページ中'+str(((image_cur:=image_cur+1)%image_pages)+1)+'ページ目を表示しています')\n",
        "Image('https://raw.githubusercontent.com/YokoyamaLab/PythonBasics/main/images/ComputerScience_C_day2_list_'+str((image_cur%image_pages)+1)+'.png', format='png')"
      ],
      "metadata": {
        "id": "qIZXGcO-Wgjp",
        "colab": {
          "base_uri": "https://localhost:8080/",
          "height": 588
        },
        "outputId": "c10926be-c084-4e73-c782-79c978843f30"
      },
      "execution_count": null,
      "outputs": [
        {
          "output_type": "stream",
          "name": "stdout",
          "text": [
            "3ページ中1ページ目を表示しています\n"
          ]
        },
        {
          "output_type": "execute_result",
          "data": {
            "image/png": "[encoded data removed]",
            "text/plain": [
              "<IPython.core.display.Image object>"
            ]
          },
          "metadata": {},
          "execution_count": 16
        }
      ]
    },
    {
      "cell_type": "markdown",
      "source": [
        "## 🌀タプル (Tuple) ##"
      ],
      "metadata": {
        "id": "jQ10TnC3pa6A"
      }
    },
    {
      "cell_type": "markdown",
      "source": [
        "Listと似たデータ構造にTupleというのもがあります。以下の様に定義します。"
      ],
      "metadata": {
        "id": "9ZDcufXLKjAZ"
      }
    },
    {
      "cell_type": "code",
      "source": [
        "my_tuple= (0, 1, 2.0, 3.5, '要素', 5j, 0)\n",
        "print(my_tuple)\n",
        "print(my_tuple[3])\n",
        "print(len(my_tuple))"
      ],
      "metadata": {
        "id": "Ju1ckrW3KpGt",
        "colab": {
          "base_uri": "https://localhost:8080/"
        },
        "outputId": "d002e360-06e8-4884-edd6-85beb353861e"
      },
      "execution_count": null,
      "outputs": [
        {
          "output_type": "stream",
          "name": "stdout",
          "text": [
            "(0, 1, 2.0, 3.5, '要素', 5j, 0)\n",
            "3.5\n",
            "7\n"
          ]
        }
      ]
    },
    {
      "cell_type": "markdown",
      "source": [
        "定義の角括弧が丸括弧に変更しただけで、使い方はListと同じです。では何が違うのでしょうか。以下のコードを実行してください。"
      ],
      "metadata": {
        "id": "9c1yPDCML79g"
      }
    },
    {
      "cell_type": "code",
      "source": [
        "my_tuple[0] = 10"
      ],
      "metadata": {
        "id": "aDZraz0qMH51",
        "colab": {
          "base_uri": "https://localhost:8080/",
          "height": 145
        },
        "outputId": "b66e20a7-f7c4-449a-8226-0ed6c2437a79"
      },
      "execution_count": null,
      "outputs": [
        {
          "output_type": "error",
          "ename": "TypeError",
          "evalue": "'tuple' object does not support item assignment",
          "traceback": [
            "\u001b[0;31m---------------------------------------------------------------------------\u001b[0m",
            "\u001b[0;31mTypeError\u001b[0m                                 Traceback (most recent call last)",
            "\u001b[0;32m<ipython-input-18-b455177814b8>\u001b[0m in \u001b[0;36m<cell line: 1>\u001b[0;34m()\u001b[0m\n\u001b[0;32m----> 1\u001b[0;31m \u001b[0mmy_tuple\u001b[0m\u001b[0;34m[\u001b[0m\u001b[0;36m0\u001b[0m\u001b[0;34m]\u001b[0m \u001b[0;34m=\u001b[0m \u001b[0;36m10\u001b[0m\u001b[0;34m\u001b[0m\u001b[0;34m\u001b[0m\u001b[0m\n\u001b[0m",
            "\u001b[0;31mTypeError\u001b[0m: 'tuple' object does not support item assignment"
          ]
        }
      ]
    },
    {
      "cell_type": "markdown",
      "source": [
        "このコードは0番目の値を更新しようとしていますが、エラーが発生してしまいます。ListとTupleの最大の違いはここで、Tupleは値の更新が出来ません。"
      ],
      "metadata": {
        "id": "Gn1XcZU6MO34"
      }
    },
    {
      "cell_type": "markdown",
      "source": [
        "## 🌀セット (Set) ##"
      ],
      "metadata": {
        "id": "VCAJt7m-qXKy"
      }
    },
    {
      "cell_type": "markdown",
      "source": [
        "もうひとつ似たようなデータ構造にSetがあります。"
      ],
      "metadata": {
        "id": "BqjFD8GhMbnc"
      }
    },
    {
      "cell_type": "code",
      "source": [
        "my_set= {0, 1, 2.0, 3.5, '要素', 5j, 0}\n",
        "print(my_set)\n",
        "print(len(my_set))"
      ],
      "metadata": {
        "id": "UUhZfElkMhVz",
        "colab": {
          "base_uri": "https://localhost:8080/"
        },
        "outputId": "c785c572-55d9-4360-a1d6-20b0bf059cbf"
      },
      "execution_count": null,
      "outputs": [
        {
          "output_type": "stream",
          "name": "stdout",
          "text": [
            "{0, 1, 2.0, 3.5, '要素', 5j}\n",
            "6\n"
          ]
        }
      ]
    },
    {
      "cell_type": "markdown",
      "source": [
        "SetはListやTupleと何が違うでしょうか。上記のコードの実行結果にそのヒントがあります。"
      ],
      "metadata": {
        "id": "-c135OiCNR0v"
      }
    },
    {
      "cell_type": "code",
      "source": [
        "print(\"List:\", len(my_list))\n",
        "print(\"Tuple:\", len(my_tuple))\n",
        "print(\"Set:\", len(my_set))"
      ],
      "metadata": {
        "id": "Z1rNrGxaNcZ-",
        "colab": {
          "base_uri": "https://localhost:8080/"
        },
        "outputId": "0a31e58b-37c2-4d99-d96c-8c853be5f037"
      },
      "execution_count": null,
      "outputs": [
        {
          "output_type": "stream",
          "name": "stdout",
          "text": [
            "List: 7\n",
            "Tuple: 7\n",
            "Set: 6\n"
          ]
        }
      ]
    },
    {
      "cell_type": "markdown",
      "source": [
        "同じデータで初期化しているのに、Setだけ**長さが6**です。これは、**Setは重複を許さない**という制約によるものです。初期化に使ったデータには0が2回登場しています。これが排除されるので長さが1少ない6になるのです。\n",
        "\n",
        "もう一つの大きな違いは**順序が無い**という事です。Setはすなわち数学で習う集合の事です。集合の要素に順序がないように、PythonのSetにも順序がありません。なので以下の様なコードはエラーを吐きます。"
      ],
      "metadata": {
        "id": "tohCSljwNrGK"
      }
    },
    {
      "cell_type": "code",
      "source": [
        "print(my_set[3])"
      ],
      "metadata": {
        "id": "YVpinsWJQLZ6",
        "colab": {
          "base_uri": "https://localhost:8080/",
          "height": 145
        },
        "outputId": "de9e4e0d-0cd3-436b-d5ed-f924497bd308"
      },
      "execution_count": null,
      "outputs": [
        {
          "output_type": "error",
          "ename": "TypeError",
          "evalue": "'set' object is not subscriptable",
          "traceback": [
            "\u001b[0;31m---------------------------------------------------------------------------\u001b[0m",
            "\u001b[0;31mTypeError\u001b[0m                                 Traceback (most recent call last)",
            "\u001b[0;32m<ipython-input-21-7bcf5529fe4b>\u001b[0m in \u001b[0;36m<cell line: 1>\u001b[0;34m()\u001b[0m\n\u001b[0;32m----> 1\u001b[0;31m \u001b[0mprint\u001b[0m\u001b[0;34m(\u001b[0m\u001b[0mmy_set\u001b[0m\u001b[0;34m[\u001b[0m\u001b[0;36m3\u001b[0m\u001b[0;34m]\u001b[0m\u001b[0;34m)\u001b[0m\u001b[0;34m\u001b[0m\u001b[0;34m\u001b[0m\u001b[0m\n\u001b[0m",
            "\u001b[0;31mTypeError\u001b[0m: 'set' object is not subscriptable"
          ]
        }
      ]
    },
    {
      "cell_type": "markdown",
      "source": [
        "Setに入っている要素を取り出す場合は`pop()`を使います"
      ],
      "metadata": {
        "id": "FvOoyCWkqIsS"
      }
    },
    {
      "cell_type": "code",
      "source": [
        "print('取り出された値\\t',my_set.pop())\n",
        "print('残っている値\\t',my_set)"
      ],
      "metadata": {
        "colab": {
          "base_uri": "https://localhost:8080/",
          "height": 163
        },
        "id": "b7N-qn34qRIR",
        "outputId": "f6017eb9-1e31-4846-95ad-2cf54a90d8fa"
      },
      "execution_count": null,
      "outputs": [
        {
          "output_type": "error",
          "ename": "KeyError",
          "evalue": "'pop from an empty set'",
          "traceback": [
            "\u001b[0;31m---------------------------------------------------------------------------\u001b[0m",
            "\u001b[0;31mKeyError\u001b[0m                                  Traceback (most recent call last)",
            "\u001b[0;32m<ipython-input-28-0f4016697c64>\u001b[0m in \u001b[0;36m<cell line: 1>\u001b[0;34m()\u001b[0m\n\u001b[0;32m----> 1\u001b[0;31m \u001b[0mprint\u001b[0m\u001b[0;34m(\u001b[0m\u001b[0;34m'取り出された値\\t'\u001b[0m\u001b[0;34m,\u001b[0m\u001b[0mmy_set\u001b[0m\u001b[0;34m.\u001b[0m\u001b[0mpop\u001b[0m\u001b[0;34m(\u001b[0m\u001b[0;34m)\u001b[0m\u001b[0;34m)\u001b[0m\u001b[0;34m\u001b[0m\u001b[0;34m\u001b[0m\u001b[0m\n\u001b[0m\u001b[1;32m      2\u001b[0m \u001b[0mprint\u001b[0m\u001b[0;34m(\u001b[0m\u001b[0;34m'残っている値\\t'\u001b[0m\u001b[0;34m,\u001b[0m\u001b[0mmy_set\u001b[0m\u001b[0;34m)\u001b[0m\u001b[0;34m\u001b[0m\u001b[0;34m\u001b[0m\u001b[0m\n",
            "\u001b[0;31mKeyError\u001b[0m: 'pop from an empty set'"
          ]
        }
      ]
    },
    {
      "cell_type": "markdown",
      "source": [
        "上記のコードブロックを何回か実行。実行するたびにSetから要素が一つ取り出される事がわかります。"
      ],
      "metadata": {
        "id": "JCobPKY8qvRj"
      }
    },
    {
      "cell_type": "markdown",
      "source": [
        "## 🌀辞書 (Dictionary) ##"
      ],
      "metadata": {
        "id": "yADMOoawqZfK"
      }
    },
    {
      "cell_type": "markdown",
      "source": [
        "Dictionary型、ここまで紹介したList、Tuple、Setとは少し異なったデータ型です。まずは初期化コードを見てみましょう。"
      ],
      "metadata": {
        "id": "QkSgix9xOdG2"
      }
    },
    {
      "cell_type": "code",
      "source": [
        "my_dict = {\n",
        "    '講義番号':'CS3070',\n",
        "    '講義名':'情報科学C',\n",
        "    '担当者':'横山昌平'\n",
        "}\n",
        "print(my_dict)\n",
        "print(len(my_dict))"
      ],
      "metadata": {
        "id": "LH22UdrvQcu0"
      },
      "execution_count": null,
      "outputs": []
    },
    {
      "cell_type": "markdown",
      "source": [
        "これは別名、連想配列やハッシュテーブルとも呼ばれるデータ構造で、**Key**と**Value**のペアの羅列を保持します。上記の例では**講義番号**、**講義名**、**担当者**が**Key**で、**講義番号**に対応する**Value**が**CS307**、**講義名**に対応する**Value**が**情報科学C**、**担当者**に対応する**Value**が**横山昌平**となります。\n",
        "\n",
        "Valueは何も文字列や数値のような一つの値だけでなく、ListやDictionaryを格納する事ができます。"
      ],
      "metadata": {
        "id": "wG_2wS12LtaM"
      }
    },
    {
      "cell_type": "code",
      "source": [
        "my_dict['参考書'] = [\n",
        "    'Python 1年生 プログラミングのしくみ',\n",
        "    'Python 2年生 データ分析のしくみ',\n",
        "    'Python 3年生 機械学習のしくみ'\n",
        "]\n",
        "my_dict['講義日'] = {\n",
        "    'day1' : '4/19',\n",
        "    'day2' : '4/26',\n",
        "    'day3' : '5/10',\n",
        "    'day4' : '5/17',\n",
        "    'day5' : '5/24',\n",
        "    'day6' : '5/31',\n",
        "    'day7' : '6/7',\n",
        "    'day8' : '6/14',\n",
        "    'day9' : '6/21'\n",
        "}\n",
        "print(my_dict)"
      ],
      "metadata": {
        "id": "W_nL0f87NEBo"
      },
      "execution_count": null,
      "outputs": []
    },
    {
      "cell_type": "markdown",
      "source": [
        "長くてちょっと見づらいですね。そんな時は[**pprint**](https://docs.python.org/ja/3/library/pprint.html)を使います。```print```は標準機能ではないのでまず```import```してから使います。PythonはJavaに比べると呪文の少ない言語ですが、とりあえずこの時点では１行目と２行目は呪文だと思って使ってください。"
      ],
      "metadata": {
        "id": "nu4PpbYQQKps"
      }
    },
    {
      "cell_type": "code",
      "source": [
        "import pprint\n",
        "pp = pprint.PrettyPrinter(indent=4,compact=True)\n",
        "pp.pprint(my_dict);"
      ],
      "metadata": {
        "id": "eE10hwI9QYe1"
      },
      "execution_count": null,
      "outputs": []
    },
    {
      "cell_type": "markdown",
      "source": [
        "きちんと改行されて分かりやすく表示されました。ListやTupleも出せます。このノートの前半で作ったList、Tuple、Setだと短すぎてpprintの効能は見えにくいですが、長い配列だと、ちょうど良いところで改行してくれる(compact=Trueの効能)ので、効果は大きいです。"
      ],
      "metadata": {
        "id": "4o3VHaciUcMt"
      }
    },
    {
      "cell_type": "code",
      "source": [
        "pp.pprint(my_list)\n",
        "pp.pprint(my_tuple)\n",
        "pp.pprint(my_set)\n",
        "pp.pprint( [i for i in range(100)] )"
      ],
      "metadata": {
        "id": "XwIbJU3EU082"
      },
      "execution_count": null,
      "outputs": []
    },
    {
      "cell_type": "markdown",
      "source": [
        "### 💮JSON (JavaScript Object Notation) ###"
      ],
      "metadata": {
        "id": "3mCnUhI0q3F0"
      }
    },
    {
      "cell_type": "markdown",
      "source": [
        "少しばかり余談になりますが、Dictionary型と一緒に覚えておいた方が良いのが**JSON**というデータ形式です。正式名称は**JavaScript Object Notation**といい、JavaScriptの文法に則った、文字列としてDictionary(JavaScriptではObject形と呼びます)を表現する形式の事です。殆どPythonのList型やDictionary型を定義する時の右辺と同じなので、一緒に覚えておくと手間が省けます。\n",
        "\n",
        "なぜここで**JavaScript**の話がでてきたかというと、JavaScriptはWeb界隈で最もよく使われている言語というだけでなく、Web界隈だけでなく世界で最も使われている言語です(GitHub調べ、2022年)。インターネット上でプログラムとプログラムの間でデータを通信する際に、共通したデータ形式としてJavaScriptに限らず多くの言語でJSON形式のデータが使われています。Pythonもメモリ上のデータをJSON形式の文字列に変換する機能を持っています。"
      ],
      "metadata": {
        "id": "D990UoYJR9kX"
      }
    },
    {
      "cell_type": "code",
      "source": [
        "# json機能を使うためにimportします\n",
        "import json\n",
        "\n",
        "# my_dictをJSON形式にしてみましょう\n",
        "my_json = json.dumps(my_dict,ensure_ascii=False)\n",
        "# 出力して確認します\n",
        "print(my_json)\n",
        "# JSONは文字列型なので、そのまま文字列として通信する事ができます\n",
        "print(type(my_json))\n",
        "\n",
        "# JSON文字列を受け取ったら、Dictionary形式へ戻してやります\n",
        "my_decode = json.loads(my_json)\n",
        "# 整形して出力してみましょう\n",
        "pp.pprint(my_decode)\n",
        "# データ型が文字列型からDictionaryに戻ったか確認しましょう\n",
        "print(type(my_decode))\n",
        "# 無事、普通のDictionaryのように使えるようになりました\n",
        "print(my_decode['講義名'])"
      ],
      "metadata": {
        "id": "aqEqXDGXRpjJ"
      },
      "execution_count": null,
      "outputs": []
    },
    {
      "cell_type": "markdown",
      "source": [
        "## 🌀まとめ"
      ],
      "metadata": {
        "id": "wkkO6_49a369"
      }
    },
    {
      "cell_type": "markdown",
      "source": [
        "このノートブックでは、複数の値をまとめて管理するために**List**、**Tuple**、**Set**、**Dictionary**を学びました。またそれらのデータをインターネットを介して他のマシンと通信するための共通形式**JSON**へ変換・復元する仕組みを学びました。\n",
        "\n",
        "以下の事項はざっくりと理解していてください。\n",
        "* **List**はPythonの基本機能における配列の役割がある\n",
        "* **Tuple**は値を上書きできないListである\n",
        "* **Set**はListと似ているが要素に重複を許さずまた順序が無い\n",
        "\n",
        "それではこのノートの簡単な復習としてClassroomで配布した**課題Q1**をやりましょう。"
      ],
      "metadata": {
        "id": "EYqpI0Lva4-g"
      }
    }
  ]
}