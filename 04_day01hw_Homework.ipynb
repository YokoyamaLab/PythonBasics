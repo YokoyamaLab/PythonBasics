{
  "nbformat": 4,
  "nbformat_minor": 0,
  "metadata": {
    "colab": {
      "provenance": [],
      "toc_visible": true,
      "authorship_tag": "ABX9TyM61oPZ1TYBYVNUKlpRNgOz",
      "include_colab_link": true
    },
    "kernelspec": {
      "name": "python3",
      "display_name": "Python 3"
    },
    "language_info": {
      "name": "python"
    }
  },
  "cells": [
    {
      "cell_type": "markdown",
      "metadata": {
        "id": "view-in-github",
        "colab_type": "text"
      },
      "source": [
        "<a href=\"https://colab.research.google.com/github/YokoyamaLab/PythonBasics/blob/2025/04_day01hw_Homework.ipynb\" target=\"_parent\"><img src=\"https://colab.research.google.com/assets/colab-badge.svg\" alt=\"Open In Colab\"/></a>"
      ]
    },
    {
      "cell_type": "markdown",
      "source": [
        "**ノート04**\n",
        "\n",
        "# [Day01 Homework] リテラルと変数とデータ構造の宿題"
      ],
      "metadata": {
        "id": "ZWvS0cSUo8ak"
      }
    },
    {
      "cell_type": "code",
      "execution_count": null,
      "metadata": {
        "cellView": "form",
        "id": "RFTFPAZ0oSZZ"
      },
      "outputs": [],
      "source": [
        "# @title 提出者情報\n",
        "学籍番号 = 0 # @param {\"type\":\"number\"}\n",
        "名前 = \"\" # @param {\"type\":\"string\"}\n"
      ]
    },
    {
      "cell_type": "markdown",
      "source": [
        "## 問1 リテラルの出力について以下の問いに答えよ"
      ],
      "metadata": {
        "id": "v88wKba4udLL"
      }
    },
    {
      "cell_type": "markdown",
      "source": [
        "### 【a】十進数の64206を16進数のリテラルで表現し出力(print)するコードを示せ。"
      ],
      "metadata": {
        "id": "XuzjsMU3tgVE"
      }
    },
    {
      "cell_type": "code",
      "source": [
        "# 回答はこのブロックに記せ"
      ],
      "metadata": {
        "id": "ZYHxkV11uwfz"
      },
      "execution_count": null,
      "outputs": []
    },
    {
      "cell_type": "markdown",
      "source": [
        "### 【b】1345円を出力するプログラムを作りたい。以下のコードを書いたがこれを実行するとなぜか5円と表示されてしまう。理由を簡単に述べ、正しく出力するプログラムを記せ。"
      ],
      "metadata": {
        "id": "wcdirhUCu0UB"
      }
    },
    {
      "cell_type": "code",
      "source": [
        "print('\\1345-')"
      ],
      "metadata": {
        "colab": {
          "base_uri": "https://localhost:8080/"
        },
        "id": "UpXome5gvGH8",
        "outputId": "91e29212-151c-4496-dda4-b555f90a933c"
      },
      "execution_count": null,
      "outputs": [
        {
          "output_type": "stream",
          "name": "stdout",
          "text": [
            "\\5-\n"
          ]
        }
      ]
    },
    {
      "cell_type": "markdown",
      "source": [
        "問1【b】の解答(理由)はこのブロックに記せ"
      ],
      "metadata": {
        "id": "VTuH4c8DvnNL"
      }
    },
    {
      "cell_type": "code",
      "source": [
        "# 正しいプログラムはこのブロックに記せ"
      ],
      "metadata": {
        "id": "3A3j_GNtvptP"
      },
      "execution_count": null,
      "outputs": []
    },
    {
      "cell_type": "markdown",
      "source": [
        "## 問２ 変数について以下の問いに答えよ"
      ],
      "metadata": {
        "id": "SVBeak49vzy-"
      }
    },
    {
      "cell_type": "markdown",
      "source": [
        "### 【a】このノートの冒頭の提出者情報を実行すると学籍番号と名前がとある変数に代入される。「コードを表示」というリンクをクリックすると、その変数に代入するコードが見られる。では、代入された学籍番号を表示するコードを以下に記せ。"
      ],
      "metadata": {
        "id": "d0qhhaRGwBjB"
      }
    },
    {
      "cell_type": "code",
      "source": [
        "# 問2【a】の解答はこのブロックに記せ"
      ],
      "metadata": {
        "id": "M6YM_4SYwkU8"
      },
      "execution_count": null,
      "outputs": []
    },
    {
      "cell_type": "markdown",
      "source": [
        "## 問３ 変数について以下の問に答えよ。"
      ],
      "metadata": {
        "id": "bMUR4XGSrOrX"
      }
    },
    {
      "cell_type": "markdown",
      "source": [
        "### 【a】 文字列\"津田塾大学\"を変数univを作成して格納せよ。"
      ],
      "metadata": {
        "id": "eCTVWPHArVb6"
      }
    },
    {
      "cell_type": "code",
      "source": [
        "# 問3【a】の解答はこのブロックに記せ"
      ],
      "metadata": {
        "id": "6SMq0mbOrfk0"
      },
      "execution_count": null,
      "outputs": []
    },
    {
      "cell_type": "markdown",
      "source": [
        "### 【b】 変数univのデータ型を表示するコードを記せ"
      ],
      "metadata": {
        "id": "EsiHfr1Jrf_4"
      }
    },
    {
      "cell_type": "code",
      "source": [
        "# 問3【b】の解答はこのブロックに記せ"
      ],
      "metadata": {
        "id": "sLH8GF-xrqPB"
      },
      "execution_count": null,
      "outputs": []
    },
    {
      "cell_type": "markdown",
      "source": [
        "## 問４ リスト**hw_list**について続く問に答えよ。"
      ],
      "metadata": {
        "id": "64pCZbsswq35"
      }
    },
    {
      "cell_type": "code",
      "source": [
        "# まずこのブロックを実行してhw_listを定義せよ\n",
        "hw_list =  [i for i in range(10)]"
      ],
      "metadata": {
        "id": "yrUM02-4zuK5"
      },
      "execution_count": null,
      "outputs": []
    },
    {
      "cell_type": "markdown",
      "source": [
        "### 【a】5番目以降を出力する簡潔なコードを示せ"
      ],
      "metadata": {
        "id": "u1B4MKxAz-TA"
      }
    },
    {
      "cell_type": "code",
      "source": [
        "# 問3【a】の解答はここに示せ"
      ],
      "metadata": {
        "id": "udPZdNcR0Qpw"
      },
      "execution_count": null,
      "outputs": []
    },
    {
      "cell_type": "markdown",
      "source": [
        "### 【b】2番目から4番目までを表示する簡潔なコードを示せ"
      ],
      "metadata": {
        "id": "CCuWM9Hw0XtL"
      }
    },
    {
      "cell_type": "code",
      "source": [
        "# 問3【b】の解答はここに示せ"
      ],
      "metadata": {
        "id": "XnMs9l-h0jiR"
      },
      "execution_count": null,
      "outputs": []
    },
    {
      "cell_type": "markdown",
      "source": [
        "### 【c】 3番目の値を取り除き、取り除いた値とリストに残った値をそれぞれ表示せよ"
      ],
      "metadata": {
        "id": "RX33L6WQr8je"
      }
    },
    {
      "cell_type": "code",
      "source": [
        "# 問3【b】の解答はここに示せ"
      ],
      "metadata": {
        "id": "bKHdBA6OsZRO"
      },
      "execution_count": null,
      "outputs": []
    },
    {
      "cell_type": "markdown",
      "source": [
        "【宿題はここまでです】"
      ],
      "metadata": {
        "id": "ePph2mUqsjD-"
      }
    }
  ]
}