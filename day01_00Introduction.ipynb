{
  "nbformat": 4,
  "nbformat_minor": 0,
  "metadata": {
    "colab": {
      "provenance": [],
      "include_colab_link": true
    },
    "kernelspec": {
      "name": "python3",
      "display_name": "Python 3"
    },
    "language_info": {
      "name": "python"
    }
  },
  "cells": [
    {
      "cell_type": "markdown",
      "metadata": {
        "id": "view-in-github",
        "colab_type": "text"
      },
      "source": [
        "<a href=\"https://colab.research.google.com/github/YokoyamaLab/PythonBasics/blob/main/day01_00Introduction.ipynb\" target=\"_parent\"><img src=\"https://colab.research.google.com/assets/colab-badge.svg\" alt=\"Open In Colab\"/></a>"
      ]
    },
    {
      "cell_type": "markdown",
      "source": [
        "# 情報科学Ｃ Day1 解説\n",
        "\n",
        "## 講義の進め方\n",
        "\n",
        "この講義ではPythonの基本をGoogle Colaboratory (以下Colab)というクラウド環境を使って学びます。9回の講義の殆どの時間を、実際に手を動かす演習形式で行いますので、毎回PCを講義に持ってきてください。スマホでも可能ですが、画面が大きい方がやりやすいでしょう。また、講義開始時刻までにインターネットに接続し、講義ホームページをブラウザで表示しておいてください。\n",
        "\n",
        "*   [講義ホームページ](https://github.com/YokoyamaLab/PythonBasics)\n",
        "\n",
        "講義ホームページには日毎に何件かの講義資料がリストアップされています。この一覧の講義資料のリンクをクリックすると、Colab上で講義資料が表示されます。講義資料には講義で使うスライド、解説、プログラム例、演習課題等が全て含まれています。この講義資料は、自分のメモを追加したり、例示したソースコードを改変したりもできます。ただ聞いているだけでなくて、聞きながら、ソースコードを改変して、どのように動くかを手元で確かめつつ講義に参加しましょう。講義をただ聞いていてもプログラミングのスキルは絶対に向上しません。以下に自分の手を動かすかがカギです。\n",
        "\n",
        "本日はまずこのColabの使い方を学びますが、基本的には毎回、講義資料の順に、私が解説しつつ、皆さんが演習を進めていくという形で学習を勧めます。\n",
        "\n",
        "プログラミングは、得意な人・苦手な人の差が激しい教科です。しかも、座学で知識を得たからと言って、上達するものでもありません。個人的な経験で言うなら、大学の講義なんて、プログラミングの上達に何の意味も無いです。ただ、一方で週に90分だけでも、自ら興味を持ってプログラミングの習得に取り組めば、皆さんのプログラミングのスキルを飛躍的に上達させる事ができる事も事実です。もし、これまでにプログラミングに苦手意識を持ってしまった人も、この90分間は「私はスーパーハッカーになる！」と自分を騙して、能動的・積極的に参加してください。\n",
        "\n",
        "それでは、 [講義ホームページ](https://github.com/YokoyamaLab/PythonBasics)に戻って、Day01資料01から始めましょう！"
      ],
      "metadata": {
        "id": "NB3od4Qh9riP"
      }
    }
  ]
}