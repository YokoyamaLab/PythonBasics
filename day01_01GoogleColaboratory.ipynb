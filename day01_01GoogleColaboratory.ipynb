{
  "nbformat": 4,
  "nbformat_minor": 0,
  "metadata": {
    "colab": {
      "provenance": [],
      "authorship_tag": "ABX9TyPXbKwDpASBK23V8JJtkQ9H",
      "include_colab_link": true
    },
    "kernelspec": {
      "name": "python3",
      "display_name": "Python 3"
    },
    "language_info": {
      "name": "python"
    }
  },
  "cells": [
    {
      "cell_type": "markdown",
      "metadata": {
        "id": "view-in-github",
        "colab_type": "text"
      },
      "source": [
        "<a href=\"https://colab.research.google.com/github/YokoyamaLab/PythonBasics/blob/main/day01_01GoogleColaboratory.ipynb\" target=\"_parent\"><img src=\"https://colab.research.google.com/assets/colab-badge.svg\" alt=\"Open In Colab\"/></a>"
      ]
    },
    {
      "cell_type": "markdown",
      "source": [
        "# 情報科学Ｃ Day1-01: Google Coraboratoryとは\n",
        "\n",
        "# はじめに\n",
        "\n",
        "もし、この画面の左上にオレンジ色で∞、あるいはCOのように読めるロゴが表示されているなら、すでに皆さんはGoogle Coraboratoryのユーザです。この講義で行う演習の環境構築は完成です。この上で解説を読んだり、例示されたプログラムを実行したり、はたまた皆さん自身のプログラムを実装する準備が整っています。Google Colaboratoryは長ったらしいので、以下Colabと呼びます。\n",
        "\n",
        "本講義はこのColabを演習のテキストとして使います。では、皆さん、これまでに取ったプログラミングの講義を思い出してください。そこで使ったテキストにはどんな情報が載っていたでしょうか。\n",
        "\n",
        "おそらく、大きくは「解説文」と「プログラム例」だったと思います。このColabでも、その両方が表示できます。今、皆さんが見ているこの文章は「解説文」に相当する情報です。そして「プログラム例」は次の様に表示されます。"
      ],
      "metadata": {
        "id": "hvszbOsPW5o3"
      }
    },
    {
      "cell_type": "code",
      "source": [
        "%%capture\n",
        "!apt-get install poppler-utils\n",
        "!pip install pdf2image\n",
        "import requests,pdf2image\n",
        "pdf = requests.get('https://github.com/YokoyamaLab/PythonBasics/raw/main/playground/test02.pdf', stream=True)\n",
        "slides = pdf2image.convert_from_bytes(pdf.raw.read())"
      ],
      "metadata": {
        "id": "2sKvOrwod9DO"
      },
      "execution_count": null,
      "outputs": []
    },
    {
      "cell_type": "markdown",
      "source": [
        "プログラムの内容はまだ理解しなくて構いません。この時点では、Colabは、プログラミングの教科書のように「解説文」と「プログラム例」が表示できるんだとだけ覚えてください。\n",
        "\n",
        "その上で、紙の教科書とColabの違いを説明します。ColabはGoogleのクラウドサービスの一つです。世界中に膨大な数あるGoogleのコンピュータのどこかで、今見ている画面は処理されています。紙ではなく、コンピュータ上ですので、当然上記のPythonのコードは、そのまま実行できます。\n",
        "\n",
        "上記のプログラムにマウスカーソルを合わせると、左上に**再生ボタン**が出てきます。このボタンをクリックすると、書かれたコードがGoogleのどこかにあるコンピュータ上で実行されます。当然ですが、皆さんのコンピュータにPythonをインストールしていなくとも問題ありません。\n",
        "\n",
        "上のコードは、実はこの講義のスライド資料を読みこむプログラムが書かれています。では、スライド資料の2ページ目を表示してみましょう。以下のコードを実行してみてください。"
      ],
      "metadata": {
        "id": "adie50qReLKh"
      }
    },
    {
      "cell_type": "code",
      "source": [
        "slides[1]"
      ],
      "metadata": {
        "id": "16qDT8_Jf-Jb"
      },
      "execution_count": null,
      "outputs": []
    },
    {
      "cell_type": "markdown",
      "source": [
        "どうですか？スライドが表示されましたか？\n",
        "\n",
        "紙の教科書との決定的な違いは、プログラムが実行できる事です。そして、プログラムが実行できるのなら、やりたい事はだいたいできる訳で、当然PDFの特定のページを画面に表示するなんて事は簡単です。この講義では、文章では説明が難しい事などを、ちょくちょくこの方法で図示します。\n",
        "\n",
        "さぁ、これで準備は終了。Pythonの学習を開始しましょう。"
      ],
      "metadata": {
        "id": "ydNZ4QX3gZA7"
      }
    },
    {
      "cell_type": "markdown",
      "source": [
        "# Pythonとは\n",
        "\n",
        "この講義はPythonの基礎を学ぶ講義です。皆さんにはPythonで色々なプログラムを実装し・実行してもらいます。PythonとはWikipediaには以下の説明があります。[🔗](https://ja.wikipedia.org/wiki/Python)\n",
        "\n",
        "> Python（パイソン）はインタープリタ型の高水準汎用プログラミング言語である。\n",
        "\n",
        "プログラミング言語は、コンパイラ型言語とインタープリタ型言語とに分類され、前者は、プログラムを事前にコンパイルする事によって、予めコンピュータが直接実行できる**0と1の列**(機械化語)を生成するタイプの言語、後者は実行時にインタープリタがプログラムを読み込み、逐次実行するタイプの言語です。\n",
        "\n",
        "ただし、Javaのようなコンパイルで中間バイトコードを生成し、実行時に機械語へと翻訳するタイプの言語や、インタープリタ型言語であっても、インタプリタではなくJIT(Just-In-Time)コンパイラを使う事が主流になったりと、あまりこの区分は意味が無くなってきています。\n",
        "\n",
        "一方で、Pythonは**スクリプト言語**と呼ばれる事もあります。このスクリプト言語もWikipediaを見ると以下のような解説になっています。\n",
        "\n",
        "> スクリプト言語（スクリプトげんご、英語: scripting language）とは、アプリケーションソフトウェアを作成するための簡易的なプログラミング言語の一種を指す。\n",
        "\n",
        "この説明を字面どおり受けとり「そうかPythonは簡易的なプログラミング言語なんだ。」と、捉えると痛い目にあいます。GitHubが発表した最も使われているプログラミング言語(2022年度版)のランキングを見てください。\n",
        "\n",
        "Rank | Language \n",
        "-----|------------------\n",
        " 1   | **JavaScript**\n",
        " 2   | **Python**\n",
        " 3   | Java \n",
        " 4   | **TypeScript**\n",
        " 5   | C#\n",
        " 6   | C++\n",
        " 7   | **PHP**\n",
        " 8   | **Shell**\n",
        " 9   | C\n",
        "10   | **Ruby**\n",
        "\n",
        "※出典：[The top programming languages](https://octoverse.github.com/2022/top-programming-languages) by GitHub\n",
        "\n",
        "このうちJavaScript、Python、TypeScript、PHP、Shell、Rubyの6言語がスクリプト言語です。JavaScriptやTypeScriptは皆さんがWebブラウザで見る殆ど全てのWebページ上で動く言語で、例えばColabのインタフェースもJavaScript/TypeScriptで動いています。またPHPやRubyは多くのWebサーバ上で動いています。Shellはサーバ管理者が作業の自動化に必ず使っていますし、皆さんが学ぼうとしているPythonは昨今の人工知能ブームに乗っかって、急速にシェアを拡大しています。\n",
        "\n",
        "簡易的言語というと「おもちゃ的な」と思い浮かべてしまうかもしれませんが、どちらかというと「**簡単な手間ですんごい事ができる言語**」と考える方が本質をとらえているように思います。\n",
        "\n",
        "そして、その簡単な手間ですんごい事ができる言語であるPythonを殆ど手間なく、実装・実行ができる環境が、このColabです。\n",
        "\n",
        "では、早速Pythonの文法から学んでいきましょう。講義ホームページへ戻り、**Day1-資料02**に進んでください。\n",
        "\n",
        "[講義ホームページへ戻る](https://github.com/YokoyamaLab/PythonBasics/)\n"
      ],
      "metadata": {
        "id": "zY8g-YCbeEOu"
      }
    }
  ]
}