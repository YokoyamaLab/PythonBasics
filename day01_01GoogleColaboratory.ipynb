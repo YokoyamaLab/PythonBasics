{
  "nbformat": 4,
  "nbformat_minor": 0,
  "metadata": {
    "colab": {
      "provenance": [],
      "toc_visible": true,
      "include_colab_link": true
    },
    "kernelspec": {
      "name": "python3",
      "display_name": "Python 3"
    },
    "language_info": {
      "name": "python"
    }
  },
  "cells": [
    {
      "cell_type": "markdown",
      "metadata": {
        "id": "view-in-github",
        "colab_type": "text"
      },
      "source": [
        "<a href=\"https://colab.research.google.com/github/YokoyamaLab/PythonBasics/blob/main/day01_01GoogleColaboratory.ipynb\" target=\"_parent\"><img src=\"https://colab.research.google.com/assets/colab-badge.svg\" alt=\"Open In Colab\"/></a>"
      ]
    },
    {
      "cell_type": "markdown",
      "source": [
        "# Day01 資料01: Google Coraboratoryとは"
      ],
      "metadata": {
        "id": "y5BQ33Ew6yac"
      }
    },
    {
      "cell_type": "markdown",
      "source": [
        "## 🌀はじめに"
      ],
      "metadata": {
        "id": "w8Zzuedc6yKy"
      }
    },
    {
      "cell_type": "markdown",
      "source": [
        "もし、この画面の左上にオレンジ色で∞、あるいはCOのように読めるロゴが表示されているなら、すでに皆さんは**Google Coraboratory**のユーザです。この講義で行う演習の環境構築は完成です。この上で解説を読んだり、例示されたプログラムを実行したり、はたまた皆さん自身のプログラムを実装する準備が整っています。Google Colaboratoryは長ったらしいので、以下**Colab**と呼びます。\n",
        "\n",
        "そして、皆さんが今見ているこのコンテンツは、**Jupyter Notebook形式**のファイルです。表示だけでなく書き込みの可能です。\n",
        "\n",
        "**Jupyter Notebookとは、文書とPythonのソースコードをごちゃまぜに書いて、さらにソースコードの実行もできる便利なノートブック形式です。**[講義ホームページ](https://github.com/YokoyamaLab/PythonBasics/)にある講義資料のリンクをクリックすると、このノートブックが皆さん一人ひとりにコピーされます。ですので、このファイルは、皆さんが個人的に書きこんでもOKです。書き込んだファイルは皆さんのGoogle Driveに保存されます。もし、右上に**ログイン**というボタンが表示されている人は、Colabにログインできていません。ログインしていないと、皆さんのノートブックを保存する事はできません。Googleアカウントが無い人は、作っておきましょう。もし作りたくないという人は、ファイルのメニューからダウンロードを選んで皆さんのPCにダウンロードする事もできます。\n",
        "\n",
        "本講義はこのColabを演習の**テキスト兼ノートブック**として使います。皆さんが、これまでに取ったプログラミングの講義を思い出してください。そこで使ったテキストにはどんな情報が載っていたでしょうか。おそらく、大きくは「解説文」と「プログラム例」だったと思います。このノートブックにも、その両方が表示できます。今、皆さんが見ているこの文章は「解説文」に相当する情報です。\n",
        "\n",
        "そして「プログラム」は次の様に表されます。"
      ],
      "metadata": {
        "id": "hvszbOsPW5o3"
      }
    },
    {
      "cell_type": "code",
      "source": [
        "from IPython.display import Image\n",
        "Image('https://github.com/YokoyamaLab/PythonBasics/blob/main/images/ComputerScience_C.gif?raw=true', format='gif')"
      ],
      "metadata": {
        "id": "3dzxuYyb8vc6"
      },
      "execution_count": null,
      "outputs": []
    },
    {
      "cell_type": "markdown",
      "source": [
        "プログラムの内容はまだ理解しなくて構いません。この時点では、Colabは、プログラミングの教科書のように「解説文」と「プログラム例」が表示できるんだとだけ覚えてください。\n",
        "\n",
        "その上で、紙の教科書とColabの違いを説明します。ColabはGoogleのクラウドサービスの一つです。世界中に膨大な数あるGoogleのコンピュータのどこかで、今見ている画面は処理されています。紙ではなく、コンピュータ上ですので、当然上記のPythonのコードは、そのまま実行できます。\n",
        "\n",
        "上記のプログラムにマウスカーソルを合わせると、左上に**再生ボタン**が出てきます。このボタンをクリックすると、書かれたコードが世界のどこかにあるGoogleのコンピュータ上で実行されます。当然ですが、皆さんのコンピュータにPythonをインストールしていなくとも問題ありません。\n",
        "\n",
        "再生ボタンの左側に緑色の**✓**が表示されたら、そのセルに書かれたプログラムの実行が終了した事を意味します。上記のプログラムは講義冒頭に紹介したスライド(gifアニメ化したもの)を表示するというプログラムでしたので、スライドが表示されたのではないでしょうか。プログラムにエラーがある場合はエラーメッセージが表示されます。"
      ],
      "metadata": {
        "id": "m0lqDTTy9gUl"
      }
    },
    {
      "cell_type": "markdown",
      "source": [
        "## 🌀注意事項"
      ],
      "metadata": {
        "id": "T39RYJTv-fWQ"
      }
    },
    {
      "cell_type": "markdown",
      "source": [
        "一つだけ非常に重要な注意事項があります。\n",
        "\n",
        "例えば変数を定義して、その内容を表示するというプログラムが以下の様に３つのコードブロックにまたがって存在していたとします。\n"
      ],
      "metadata": {
        "id": "DtcLYpwx-iJ_"
      }
    },
    {
      "cell_type": "code",
      "source": [
        "var = \"Hello World!\""
      ],
      "metadata": {
        "id": "BYSuNUzK-vAA"
      },
      "execution_count": 4,
      "outputs": []
    },
    {
      "cell_type": "code",
      "source": [
        "print(var)"
      ],
      "metadata": {
        "id": "q6CTS3e6-x6d",
        "outputId": "48399833-eb39-4fa8-a4b9-e48f3500b877",
        "colab": {
          "base_uri": "https://localhost:8080/"
        }
      },
      "execution_count": 3,
      "outputs": [
        {
          "output_type": "stream",
          "name": "stdout",
          "text": [
            "Good Bye!\n"
          ]
        }
      ]
    },
    {
      "cell_type": "code",
      "source": [
        "var = \"Good Bye!\""
      ],
      "metadata": {
        "id": "zuCMG1Ba_Jgs"
      },
      "execution_count": 2,
      "outputs": []
    },
    {
      "cell_type": "markdown",
      "source": [
        "上から順に実行した場合、これは問題無く実行でき、『**Hello World!』と表示されます。ところが、いきなり真ん中のセルを実行した場合は『**NameError: name 'var' is not defined**』というエラーが出ます。また下から実行した場合は『Good Bye!』と表示されます。\n",
        "\n",
        "また一度実行したら、ブラウザを閉じるか、[ランタイム]-[ランタイムを再起動]をクリックするまで有効です。\n",
        "\n",
        "一般的なプログラムはプログラム内の命令を実行する順序は決定していますが、Colabでは、ユーザが実行した順番にコードが実行されるため、書かれている順序はあまり関係ありません。\n",
        "\n",
        "これは、以下のシナリオで、皆さんを困らせるかもしれません。\n",
        "\n",
        "> あるノートブックを学習していて、途中で間違ってブラウザを閉じてしまった。もう一度ブラウザを開いて、さっき読んでいた箇所まで、ページをスクロールし、そこから学習を再開した。\n",
        "\n",
        "ネットで調べものや読書とかしてして、良くあるシナリオですが、この場合、その読んでいた箇所より上にあるコードは実行されていませんので、いきなり途中から、コードブロックを実行しても、その講義資料が想定する実行結果が得られない可能性が高いです。その時はスクロールしたあと、[ランタイム]-[より前のセルを実行]をまずクリックしてから学習を再開してください。\n",
        "\n"
      ],
      "metadata": {
        "id": "s3eT2TUA-1Lx"
      }
    },
    {
      "cell_type": "markdown",
      "source": [
        "## 🌀紙とColabの違い"
      ],
      "metadata": {
        "id": "3yYtTF7S9-EP"
      }
    },
    {
      "cell_type": "markdown",
      "source": [
        "紙の教科書との決定的な違いは、プログラムが実行できる事です。そして、プログラムが実行できるのなら、やりたい事はだいたいできる訳で、当然PDFの特定のページを画面に表示するなんて事は簡単です。\n",
        "\n",
        "あと覚えて置くべき便利な機能は、画面左上の『☰』ボタンです。これをクリックすると、**目次**が表示されます。講義中、今どこを見ているのか分からなくなったときは、目次を見ると良いでしょう。\n",
        "\n",
        "一つだけ注意点があります。ノートブックには、沢山のコードを記載する事ができますが、全体で一つのプログラムだという事です。つまり、コードは必ず上から順番に全てのセルを実行していかないと、問題が起こる事があります。その点注意してください。例えば、ノートブックを半分ぐらいまで実行してから、ブラウザをリロードした場合、もう一度、最初から、各セルを実行していかないと、問題が生じる事があります。\n",
        "\n",
        "さぁ、これで準備は終了。Pythonの学習を開始しましょう。"
      ],
      "metadata": {
        "id": "ydNZ4QX3gZA7"
      }
    },
    {
      "cell_type": "markdown",
      "source": [
        "## 🌀Pythonとは\n",
        "\n",
        "この講義はPythonの基礎を学ぶ講義です。皆さんにはPythonで色々なプログラムを実装し・実行してもらいます。PythonとはWikipediaには以下の説明があります。[🔗](https://ja.wikipedia.org/wiki/Python)\n",
        "\n",
        "> Python（パイソン）はインタープリタ型の高水準汎用プログラミング言語である。\n",
        "\n",
        "プログラミング言語は、**コンパイラ型言語**と**インタープリタ型言語**とに分類され、前者は、プログラムを事前にコンパイルする事によって、予めコンピュータが直接実行できる**0と1の列**(機械化語)を生成するタイプの言語、後者は実行時にインタープリタがプログラムを読み込み、逐次実行するタイプの言語です。**Pythonはインタープリタ型言語**です。\n",
        "\n",
        "ただし、Javaのようなコンパイルで中間バイトコードを生成し、実行時に機械語へと翻訳するタイプの言語や、インタープリタ型言語であっても、インタプリタではなくJIT(Just-In-Time)コンパイラを使う事が主流になったりと、あまりこの区分は意味が無くなってきています。\n",
        "\n",
        "一方で、Pythonは**スクリプト言語**と呼ばれる事もあります。このスクリプト言語もWikipediaを見ると以下のような解説になっています。\n",
        "\n",
        "> スクリプト言語（スクリプトげんご、英語: scripting language）とは、アプリケーションソフトウェアを作成するための簡易的なプログラミング言語の一種を指す。\n",
        "\n",
        "この説明を字面どおり受けとり「そうかPythonは簡易的なプログラミング言語なんだ。」と、捉えると痛い目にあいます。GitHubが発表した最も使われているプログラミング言語(2022年度版)のランキングを見てください。\n",
        "\n",
        "Rank | Language \n",
        "-----|------------------\n",
        " 1   | **JavaScript**\n",
        " 2   | **Python**\n",
        " 3   | Java \n",
        " 4   | **TypeScript**\n",
        " 5   | C#\n",
        " 6   | C++\n",
        " 7   | **PHP**\n",
        " 8   | **Shell**\n",
        " 9   | C\n",
        "10   | **Ruby**\n",
        "\n",
        "※出典：[The top programming languages](https://octoverse.github.com/2022/top-programming-languages) by GitHub\n",
        "\n",
        "このうちJavaScript、Python、TypeScript、PHP、Shell、Rubyの6言語がスクリプト言語です。JavaScriptやTypeScriptは皆さんがWebブラウザで見る殆ど全てのWebページ上で動く言語で、例えばColabのインタフェースもJavaScript/TypeScriptで動いています。またPHPやRubyは多くのWebサーバ上で動いています。Shellはサーバ管理者が作業の自動化に必ず使っていますし、皆さんが学ぼうとしているPythonは昨今の人工知能ブームに乗っかって、急速にシェアを拡大しています。\n",
        "\n",
        "簡易的言語というと「おもちゃ的な」と思い浮かべてしまうかもしれませんが、どちらかというと「**簡単な手間ですんごい事ができる言語**」と考える方が本質をとらえているように思います。\n",
        "\n",
        "そして、その簡単な手間ですんごい事ができる言語であるPythonを殆ど手間なく、実装・実行ができる環境が、このColabです。"
      ],
      "metadata": {
        "id": "zY8g-YCbeEOu"
      }
    },
    {
      "cell_type": "markdown",
      "source": [
        "## 🌀まとめ"
      ],
      "metadata": {
        "id": "P2zD2l6k-WNN"
      }
    },
    {
      "cell_type": "markdown",
      "source": [
        "このノートブックでは本講義で使うGoogle Colabの利用方法と、この講義で取り上げるPythonについての基本的な情報を学びました。\n",
        "\n",
        "では、早速Pythonの文法から学んでいきましょう。講義ホームページへ戻り、**Day1-資料02**に進んでください。\n",
        "\n",
        "[講義ホームページへ戻る](https://github.com/YokoyamaLab/PythonBasics/)\n"
      ],
      "metadata": {
        "id": "A8_ZrDve-Vjl"
      }
    }
  ]
}