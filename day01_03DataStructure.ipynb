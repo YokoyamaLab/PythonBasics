{
  "nbformat": 4,
  "nbformat_minor": 0,
  "metadata": {
    "colab": {
      "provenance": [],
      "toc_visible": true,
      "authorship_tag": "ABX9TyNEjAebWYddoZOX1O+L1fzE",
      "include_colab_link": true
    },
    "kernelspec": {
      "name": "python3",
      "display_name": "Python 3"
    },
    "language_info": {
      "name": "python"
    }
  },
  "cells": [
    {
      "cell_type": "markdown",
      "metadata": {
        "id": "view-in-github",
        "colab_type": "text"
      },
      "source": [
        "<a href=\"https://colab.research.google.com/github/YokoyamaLab/PythonBasics/blob/main/day01_03DataStructure.ipynb\" target=\"_parent\"><img src=\"https://colab.research.google.com/assets/colab-badge.svg\" alt=\"Open In Colab\"/></a>"
      ]
    },
    {
      "cell_type": "markdown",
      "source": [
        "# Day1-03 データ構造"
      ],
      "metadata": {
        "id": "YQ3pAgoeAB1d"
      }
    },
    {
      "cell_type": "markdown",
      "source": [
        "変数にデータを割り当てる方法は学びました。この資料では、複数のデータを一塊として扱うデータ構造を学びます。"
      ],
      "metadata": {
        "id": "AGt2b4lMsGAd"
      }
    },
    {
      "cell_type": "markdown",
      "source": [
        "## 🌀リスト (List) ##\n"
      ],
      "metadata": {
        "id": "Il5B1XG4AfhP"
      }
    },
    {
      "cell_type": "markdown",
      "source": [
        "「配列」の英訳は「Array」で、多くの言語でArrayと表現されていますが、Pythonでは「List」と呼びます。厳密に言うとArrayや後述するNumPy配列(Array)があるのですが、Java等で配列として知られているような機能はPythonではListで実装できます。\n",
        "\n",
        "では、ある変数をListとして定義しましょう。"
      ],
      "metadata": {
        "id": "LHCmNzklwSZT"
      }
    },
    {
      "cell_type": "code",
      "source": [
        "my_list = []\n",
        "print(len(my_list))"
      ],
      "metadata": {
        "id": "vUT3owhdx_Zg"
      },
      "execution_count": null,
      "outputs": []
    },
    {
      "cell_type": "markdown",
      "source": [
        "これで**長さ0**のListが、変数**my_list**として定義されます。なお```len(LIST)```でLISTの長さを得る事ができます。\n",
        "\n",
        "定義と同時に初期値を入れる方法もあります。"
      ],
      "metadata": {
        "id": "xISUfygHyC79"
      }
    },
    {
      "cell_type": "code",
      "source": [
        "my_list= [0, 1, 2.0, 3.5, '要素', 5j, 0]\n",
        "print(my_list[3])\n",
        "print(my_list)\n",
        "print(len(my_list))"
      ],
      "metadata": {
        "id": "5V_Cgms6yQsV"
      },
      "execution_count": null,
      "outputs": []
    },
    {
      "cell_type": "markdown",
      "source": [
        "Javaやその他の多くの言語同様、添え字は0から始まり、```list[n]```の形で参照します。`"
      ],
      "metadata": {
        "id": "XubM9nE-LKLp"
      }
    },
    {
      "cell_type": "markdown",
      "source": [
        "### 💮通番のListを作る"
      ],
      "metadata": {
        "id": "0Q1btV_Uz2t7"
      }
    },
    {
      "cell_type": "markdown",
      "source": [
        "0からの連番からなるリストを作るには```range()```を用います。後で制御構文として習う**for文**が入っていますが、この時点ではこういうもんだと思っておいてください。"
      ],
      "metadata": {
        "id": "ziPGl4G_z6EV"
      }
    },
    {
      "cell_type": "code",
      "source": [
        "seq_list = [i for i in range(10)]\n",
        "print(seq_list)"
      ],
      "metadata": {
        "id": "7cSo3SWo0K65"
      },
      "execution_count": null,
      "outputs": []
    },
    {
      "cell_type": "markdown",
      "source": [
        "これを少し変えると例えば、こんな事もできます。"
      ],
      "metadata": {
        "id": "IJAK7OEg3v-C"
      }
    },
    {
      "cell_type": "code",
      "source": [
        "seq_list = [i+5 for i in range(10)]\n",
        "print(seq_list)\n",
        "seq_list = [i*i for i in range(10)]\n",
        "print(seq_list)"
      ],
      "metadata": {
        "id": "_L60COYD38EN"
      },
      "execution_count": null,
      "outputs": []
    },
    {
      "cell_type": "markdown",
      "source": [
        "### 💮要素の操作"
      ],
      "metadata": {
        "id": "0_QnC_kM2QfJ"
      }
    },
    {
      "cell_type": "markdown",
      "source": [
        "Listには、すでに定義されたListに対して、新たな要素を追加・削除したり連結したりするメソッドが多数用意されています。\n",
        "\n",
        "【追加削除系】\n",
        "*  ```list.append(x)```\n",
        "  * **list**の末尾に**x**を追加\n",
        "  * **x**がListの場合は**list**と**x**が連結される\n",
        "*   ```list.insert(i, x)```\n",
        "  * **list**の**i**番目(0スタートなのを忘れずに)**x**を追加\n",
        "  * ```list.insert(0, x)```で先頭に追加\n",
        "*   ```list.pop()```\n",
        "  * **list**の末尾から要素を**取り除いて**返す\n",
        "*   ```list.pop(i)```\n",
        "  * **list**の**i**番目の要素を**取り除いて**返す\n",
        "  * ```list.pop(0)```で先頭の要素を**取り除いて**返す\n",
        "*   ```list.clear()```\n",
        "  * **list**の全ての要素を削除する\n",
        "*   ```list.remove(x)```\n",
        "  * **list**の中の要素**x**を削除\n",
        "  * その要素が無い時はエラーを返す\n",
        "\n",
        "【 一部を**返す**系】\n",
        "*   ```list.index(i)```\n",
        "  * **list**の**i**番目の値を返す\n",
        "*   ```list[i,i+l]```\n",
        "  * **lisr**の**i**番目から**l**要素文返す\n",
        "  * メソッドではなくて添え字として書く事ができます\n",
        "\n",
        "【並び順の変更系】\n",
        "*   ```list.reverse()```\n",
        "  * **list**の並び順を逆にする\n",
        "*   ```list.sort()```\n",
        "  * **list**をソートする\n",
        "\n",
        "【その他】\n",
        "*  ```list.count(x)```\n",
        "  * **list**中にある要素**x**の個数を返す\n",
        "*  ```list.copy()```\n",
        "  * **list**のコピーを返す\n",
        "\n",
        "ではこれらを使った実際のコードを見てみましょう。実行したり改変したりして、それぞれのメソッドがどのように動いているのか理解をしてください。"
      ],
      "metadata": {
        "id": "-v-_17Gw2WY3"
      }
    },
    {
      "cell_type": "code",
      "source": [
        "print('配列を定義する')\n",
        "fruits = ['Cherry','Banana','Elderberry','Dragon Fruits']\n",
        "print(fruits)\n",
        "\n",
        "print('配列をソートする')\n",
        "fruits.sort()\n",
        "print(fruits)\n",
        "\n",
        "print('末尾にFigを追加')\n",
        "fruits.append('Fig')\n",
        "print(fruits)\n",
        "\n",
        "print('先頭にAppleを追加')\n",
        "fruits.insert(0,'Apple')\n",
        "print(fruits)\n",
        "\n",
        "print('順番を逆にする')\n",
        "fruits.reverse()\n",
        "print(fruits)\n",
        "\n",
        "print('Cherryが何番目にあるか探してiに入れる')\n",
        "i = fruits.index('Cherry')\n",
        "print('i = ', i)\n",
        "\n",
        "print('i番目の値を取り除く')\n",
        "print('返された値: ', fruits.pop(3))\n",
        "print('配列に残った値', fruits)\n",
        "\n",
        "print('i番目にCranberryを挿入')\n",
        "fruits.insert(i,'Cranberry')\n",
        "print(fruits)\n",
        "\n",
        "print('2番目から3個(つまり5番目の要素の前(つまり4番目))までを返す')\n",
        "print('返された値: ', fruits[2:5])\n",
        "print('配列に残った値: ', fruits)\n",
        "\n",
        "print('fruitsをコピーしてfruits_copyに代入')\n",
        "fruits_copy = fruits.copy()\n",
        "print(\"fruits:\",fruits);\n",
        "print(\"fruits_copy:\",fruits_copy);\n",
        "\n",
        "print('コピーと代入の違いを知るためにfruitsをfruits_2に代入しておく')\n",
        "fruits_2 = fruits\n",
        "print(\"fruits:\",fruits);\n",
        "print(\"fruits_2:\",fruits_2);\n",
        "\n",
        "print('fruitsをクリア')\n",
        "fruits.clear()\n",
        "print(fruits)\n",
        "\n",
        "print('fruits_copyは？')\n",
        "print(fruits_copy)\n",
        "\n",
        "print('fruits_2は？')\n",
        "print(fruits_2)"
      ],
      "metadata": {
        "id": "trlrk5A0_e_z"
      },
      "execution_count": null,
      "outputs": []
    },
    {
      "cell_type": "markdown",
      "source": [
        "命令一つ一つのソースコードと実行結果を見比べてリストの機能を理解してください。コードをいじって再実行してみても良いでしょう。リストは実装の基礎になりますので、習得しておく事が重要です。\n",
        "\n",
        "１点だけ、最後に```fruits_coopy```には配列の値が残っていますが、```fruits_2``は空っぽになっていますが、これは何故でしょうか？\n",
        "\n",
        "```clear()```で空にしたのは```fruits_2```ではなくて```fruits```だけなはずです。\n",
        "\n",
        "実はこれはPythonだけでなく、JavaScript等最近のモダンなプログラミング言語を扱うにあたり、非常に重要なポイントです。```fruits_copy```は```frutis_copy = frutis```というコードで作成されました。Listだとややこしいので、普通の変数で考えてみましょう。"
      ],
      "metadata": {
        "id": "-VR985a9GINL"
      }
    },
    {
      "cell_type": "code",
      "source": [
        "val_a = 1\n",
        "val_b = val_a\n",
        "val_a = 0\n",
        "print(\"val_a: \",val_a)\n",
        "print(\"val_b: \",val_b)"
      ],
      "metadata": {
        "id": "pyxfwv58Hi_R"
      },
      "execution_count": null,
      "outputs": []
    },
    {
      "cell_type": "markdown",
      "source": [
        "この様に```val_b```に```val_a```の値を代入した後で```cal_a```の値を更新したとしても、```val_b```の値は、当然代入時の```val_a```の値のままです。\n",
        "\n",
        "ところが先ほどのListの例ではそうはなりませんでした。もう一度その部分のコードだけ見てみましょう。"
      ],
      "metadata": {
        "id": "7u0JaeIQHwvF"
      }
    },
    {
      "cell_type": "code",
      "source": [
        "list_a = ['Fig', 'Elderberry', 'Dragon Fruits', 'Cranberry', 'Banana', 'Apple'];\n",
        "list_b = list_a\n",
        "list_c = list_a.copy()\n",
        "list_a.clear()\n",
        "print(\"list_a: \", list_a)\n",
        "print(\"list_b: \", list_b)\n",
        "print(\"list_c: \", list_c)"
      ],
      "metadata": {
        "id": "FFVybo_2IEGv"
      },
      "execution_count": null,
      "outputs": []
    },
    {
      "cell_type": "markdown",
      "source": [
        "```list_a```だけクリアしたはずなのに、list_bも消えています。これは、数値や文字列と違てListは値そのものではなくて、値が格納されているメモリ番地が変数に格納されているから起こります。つまり```list_a```と```list_b```は同じメモリ番地を指しています。```list_a```が指し示すメモリ番地にあるListを更新すれば、当然```list_b```は同じ所を指していますので、```list_b```も更新されます。\n",
        "\n",
        "一方で```list_c```は**copyメソッド**で作り出されました。**copyメソッド**はListの内容をメモリの別の部分にコピーし、その番地を返す関数です。なので```list_c```は```list_a```や```list_c```と異なる番地にあるデータを見ていますので、```list_a```からクリアされても影響を受けません。\n",
        "\n",
        "この事を頭の片隅に置いておかないと、今後、複雑なプログラムを実装する際に、思わぬバグを生み出す事になりますので、気を付けましょう。"
      ],
      "metadata": {
        "id": "dgQphRPlIY-1"
      }
    },
    {
      "cell_type": "markdown",
      "source": [
        "### 💮多次元リスト ###"
      ],
      "metadata": {
        "id": "s5D5z-_GsQtt"
      }
    },
    {
      "cell_type": "markdown",
      "source": [
        "Listの要素としてListを持つこともできます。これを多次元配列と呼びます。"
      ],
      "metadata": {
        "id": "IotecvCl-b2e"
      }
    },
    {
      "cell_type": "code",
      "source": [
        "matrix = [\n",
        "    [1, 2, 3, 4],\n",
        "    [5, 6, 7, 8],\n",
        "    [9, 10, 11, 12],\n",
        "]\n",
        "print(matrix)"
      ],
      "metadata": {
        "id": "bSUeQwHk_ORo"
      },
      "execution_count": null,
      "outputs": []
    },
    {
      "cell_type": "markdown",
      "source": [
        "## 🌀タプル (Tuple) ##"
      ],
      "metadata": {
        "id": "jQ10TnC3pa6A"
      }
    },
    {
      "cell_type": "markdown",
      "source": [
        "Listと似たデータ構造にTupleというのもがあります。以下の様に定義します。"
      ],
      "metadata": {
        "id": "9ZDcufXLKjAZ"
      }
    },
    {
      "cell_type": "code",
      "source": [
        "my_tuple= (0, 1, 2.0, 3.5, '要素', 5j, 0)\n",
        "print(my_tuple)\n",
        "print(my_tuple[3])\n",
        "print(len(my_tuple))"
      ],
      "metadata": {
        "id": "Ju1ckrW3KpGt"
      },
      "execution_count": null,
      "outputs": []
    },
    {
      "cell_type": "markdown",
      "source": [
        "定義の角括弧が丸括弧に変更しただけで、使い方はListと同じです。では何が違うのでしょうか。以下のコードを実行してください。"
      ],
      "metadata": {
        "id": "9c1yPDCML79g"
      }
    },
    {
      "cell_type": "code",
      "source": [
        "my_tuple[0] = 10"
      ],
      "metadata": {
        "id": "aDZraz0qMH51"
      },
      "execution_count": null,
      "outputs": []
    },
    {
      "cell_type": "markdown",
      "source": [
        "このコードは0番目の値を更新しようとしていますが、エラーが発生してしまいます。ListとTupleの最大の違いはここで、Tupleは値の更新が出来ません。"
      ],
      "metadata": {
        "id": "Gn1XcZU6MO34"
      }
    },
    {
      "cell_type": "markdown",
      "source": [
        "## 🌀セット (Set) ##"
      ],
      "metadata": {
        "id": "VCAJt7m-qXKy"
      }
    },
    {
      "cell_type": "markdown",
      "source": [
        "もうひとつ似たようなデータ構造にSetがあります。"
      ],
      "metadata": {
        "id": "BqjFD8GhMbnc"
      }
    },
    {
      "cell_type": "code",
      "source": [
        "my_set= {0, 1, 2.0, 3.5, '要素', 5j, 0}\n",
        "print(my_set)\n",
        "print(len(my_set))"
      ],
      "metadata": {
        "id": "UUhZfElkMhVz"
      },
      "execution_count": null,
      "outputs": []
    },
    {
      "cell_type": "markdown",
      "source": [
        "SetはListやTupleと何が違うでしょうか。上記のコードの実行結果にそのヒントがあります。"
      ],
      "metadata": {
        "id": "-c135OiCNR0v"
      }
    },
    {
      "cell_type": "code",
      "source": [
        "print(\"List:\", len(my_list))\n",
        "print(\"Tuple:\", len(my_tuple))\n",
        "print(\"Set:\", len(my_set))"
      ],
      "metadata": {
        "id": "Z1rNrGxaNcZ-"
      },
      "execution_count": null,
      "outputs": []
    },
    {
      "cell_type": "markdown",
      "source": [
        "同じデータで初期化しているのに、Setだけ**長さが6**です。これは、**Setは重複を許さない**という制約によるものです。初期化に使ったデータには0が2回登場しています。これが排除されるので長さが1少ない6になるのです。\n",
        "\n",
        "もう一つの大きな違いは**順序が無い**という事です。Setはすなわち数学で習う集合の事です。集合の要素に順序がないように、PythonのSetにも順序がありません。なので以下の様なコードはエラーを吐きます。"
      ],
      "metadata": {
        "id": "tohCSljwNrGK"
      }
    },
    {
      "cell_type": "code",
      "source": [
        "print(my_set[3])"
      ],
      "metadata": {
        "id": "YVpinsWJQLZ6"
      },
      "execution_count": null,
      "outputs": []
    },
    {
      "cell_type": "markdown",
      "source": [
        "## 🌀辞書 (Dictionary) ##"
      ],
      "metadata": {
        "id": "yADMOoawqZfK"
      }
    },
    {
      "cell_type": "markdown",
      "source": [
        "Dictionary型、ここまで紹介したList、Tuple、Setとは少し異なったデータ型です。まずは初期化コードを見てみましょう。"
      ],
      "metadata": {
        "id": "QkSgix9xOdG2"
      }
    },
    {
      "cell_type": "code",
      "source": [
        "my_dict = {\n",
        "    '講義番号':'CS3070',\n",
        "    '講義名':'情報科学C',\n",
        "    '担当者':'横山昌平'\n",
        "}\n",
        "print(my_dict)\n",
        "print(len(my_dict))"
      ],
      "metadata": {
        "id": "LH22UdrvQcu0"
      },
      "execution_count": null,
      "outputs": []
    },
    {
      "cell_type": "markdown",
      "source": [
        "これは別名、連想配列やハッシュテーブルとも呼ばれるデータ構造で、**Key**と**Value**のペアの羅列を保持します。上記の例では**講義番号**、**講義名**、**担当者**が**Key**で、**講義番号**に対応する**Value**が**CS307**、**講義名**に対応する**Value**が**情報科学C**、**担当者**に対応する**Value**が**横山昌平**となります。\n",
        "\n",
        "Valueは何も文字列や数値のような一つの値だけでなく、ListやDictionaryを格納する事ができます。"
      ],
      "metadata": {
        "id": "wG_2wS12LtaM"
      }
    },
    {
      "cell_type": "code",
      "source": [
        "my_dict['参考書'] = [\n",
        "    'Python 1年生 プログラミングのしくみ',\n",
        "    'Python 2年生 データ分析のしくみ',\n",
        "    'Python 3年生 機械学習のしくみ'\n",
        "]\n",
        "my_dict['講義日'] = {\n",
        "    'day1' : '4/19',\n",
        "    'day2' : '4/26',\n",
        "    'day3' : '5/10',\n",
        "    'day4' : '5/17',\n",
        "    'day5' : '5/24',\n",
        "    'day6' : '5/31',\n",
        "    'day7' : '6/7',\n",
        "    'day8' : '6/14',\n",
        "    'day9' : '6/21'\n",
        "}\n",
        "print(my_dict)"
      ],
      "metadata": {
        "id": "W_nL0f87NEBo"
      },
      "execution_count": null,
      "outputs": []
    },
    {
      "cell_type": "markdown",
      "source": [
        "長くてちょっと見づらいですね。そんな時は[**pprint**](https://docs.python.org/ja/3/library/pprint.html)を使います。```print```は標準機能ではないのでまず```import```してから使います。PythonはJavaに比べると呪文の少ない言語ですが、とりあえずこの時点では１行目と２行目は呪文だと思って使ってください。"
      ],
      "metadata": {
        "id": "nu4PpbYQQKps"
      }
    },
    {
      "cell_type": "code",
      "source": [
        "import pprint\n",
        "pp = pprint.PrettyPrinter(indent=4,compact=True)\n",
        "pp.pprint(my_dict);"
      ],
      "metadata": {
        "id": "eE10hwI9QYe1"
      },
      "execution_count": null,
      "outputs": []
    },
    {
      "cell_type": "markdown",
      "source": [
        "きちんと改行されて分かりやすく表示されました。ListやTupleも出せます。このノートの前半で作ったList、Tuple、Setだと短すぎてpprintの効能は見えにくいですが、長い配列だと、ちょうど良いところで改行してくれるので、効果は大きいです。"
      ],
      "metadata": {
        "id": "4o3VHaciUcMt"
      }
    },
    {
      "cell_type": "code",
      "source": [
        "pp.pprint(my_list)\n",
        "pp.pprint(my_tuple)\n",
        "pp.pprint(my_set)\n",
        "pp.pprint( [i for i in range(100)] )"
      ],
      "metadata": {
        "id": "XwIbJU3EU082"
      },
      "execution_count": null,
      "outputs": []
    },
    {
      "cell_type": "markdown",
      "source": [
        "### 💮JSON (JavaScript Object Notation) ###"
      ],
      "metadata": {
        "id": "3mCnUhI0q3F0"
      }
    },
    {
      "cell_type": "markdown",
      "source": [
        "少しばかり余談になりますが、Dictionary型と一緒に覚えておいた方が良いのが**JSON**というデータ形式です。正式名称は**JavaScript Object Notation**といい、JavaScriptの文法に則った、文字列としてDictionary(JavaScriptではObject形と呼びます)を表現する形式の事です。殆どPythonのList型やDictionary型を定義する時の右辺と同じなので、一緒に覚えておくと手間が省けます。\n",
        "\n",
        "なぜここで**JavaScript**の話がでてきたかというと、JavaScriptはWeb界隈で最もよく使われている言語というだけでなく、Web界隈だけでなく世界で最も使われている言語です(GitHub調べ、2022年)。インターネット上でプログラムとプログラムの間でデータを通信する際に、共通したデータ形式としてJavaScriptに限らず多くの言語でJSON形式のデータが使われています。Pythonもメモリ上のデータをJSON形式の文字列に変換する機能を持っています。"
      ],
      "metadata": {
        "id": "D990UoYJR9kX"
      }
    },
    {
      "cell_type": "code",
      "source": [
        "# json機能を使うためにimportします\n",
        "import json\n",
        "\n",
        "# my_dictをJSON形式にしてみましょう\n",
        "my_json = json.dumps(my_dict,ensure_ascii=False)\n",
        "# 出力して確認します\n",
        "print(my_json)\n",
        "# JSONは文字列型なので、そのまま文字列として通信する事ができます\n",
        "print(type(my_json))\n",
        "\n",
        "# JSON文字列を受け取ったら、Dictionary形式へ戻してやります\n",
        "my_decode = json.loads(my_json)\n",
        "# 整形して出力してみましょう\n",
        "pp.pprint(my_decode)\n",
        "# データ型が文字列型からDictionaryに戻ったか確認しましょう\n",
        "print(type(my_decode))\n",
        "# 無事、普通のDictionaryのように使えるようになりました\n",
        "print(my_decode['講義名'])"
      ],
      "metadata": {
        "id": "aqEqXDGXRpjJ"
      },
      "execution_count": null,
      "outputs": []
    },
    {
      "cell_type": "markdown",
      "source": [
        "## 🌀まとめ ##"
      ],
      "metadata": {
        "id": "wkkO6_49a369"
      }
    },
    {
      "cell_type": "markdown",
      "source": [
        "このノートブックでは、複数の値をまとめて管理するために**List**、**Tuple**、**Set**、**Dictionary**を学びました。またそれらのデータを通信するためにJSON形式へ変換・復元する仕組みを学びました。\n",
        "\n",
        "[講義サポートページ](https://github.com/YokoyamaLab/PythonBasics/)に戻り課題Q1に進んでください。"
      ],
      "metadata": {
        "id": "EYqpI0Lva4-g"
      }
    }
  ]
}