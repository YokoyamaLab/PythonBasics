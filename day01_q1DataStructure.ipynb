{
  "nbformat": 4,
  "nbformat_minor": 0,
  "metadata": {
    "colab": {
      "provenance": [],
      "include_colab_link": true
    },
    "kernelspec": {
      "name": "python3",
      "display_name": "Python 3"
    },
    "language_info": {
      "name": "python"
    }
  },
  "cells": [
    {
      "cell_type": "markdown",
      "metadata": {
        "id": "view-in-github",
        "colab_type": "text"
      },
      "source": [
        "<a href=\"https://colab.research.google.com/github/YokoyamaLab/PythonBasics/blob/main/day01_q1DataStructure.ipynb\" target=\"_parent\"><img src=\"https://colab.research.google.com/assets/colab-badge.svg\" alt=\"Open In Colab\"/></a>"
      ]
    },
    {
      "cell_type": "markdown",
      "source": [
        "# Day01 課題Q1"
      ],
      "metadata": {
        "id": "lE8xFVXGpJcD"
      }
    },
    {
      "cell_type": "markdown",
      "source": [
        "まず、以下のセルに学籍番号と名前とフリガナを入れて、実行してください。Google Classroomから配布された場合はこのファイルに直接書き込んで保存してください。Classroomの課題のページで[**提出**]ボタンを押さないと、提出した事になりませんので注意してください。"
      ],
      "metadata": {
        "id": "hpuRDyTBv-_G"
      }
    },
    {
      "cell_type": "code",
      "execution_count": null,
      "metadata": {
        "id": "pSf5cUl6nrdc"
      },
      "outputs": [],
      "source": [
        "#@title 学籍番号、名前\n",
        "id = \"\" #@param {type:\"string\"}\n",
        "name = \"\" #@param {type:\"string\"}"
      ]
    },
    {
      "cell_type": "markdown",
      "source": [
        "皆さんの身の回りにある情報を使って『一覧』を作ってみましょう。例えば好きな映画のリストや、カフェのリスト等でも構いません、List型の中にDictionary型、そのDictionary型の中に、さらに別のDictironary型やList型を入れ込む等、今日習った事を沢山盛り込みましょう。\n",
        "\n",
        "例えば、『大学のリスト』は以下の様になるかもしれません。\n",
        "\n",
        "```\n",
        "my_homework = [\n",
        "  {\n",
        "    \"大学名\":\"津田塾大学\",\n",
        "    \"キャンパス\":[\n",
        "      \"小平キャンパス\",\n",
        "      \"千駄ヶ谷キャンパス\"\n",
        "    ]\n",
        "  },\n",
        "  {\n",
        "    \"大学名\":\"東京都立大学\",\n",
        "    \"キャンパス\":[\n",
        "      \"南大沢キャンパス\",\n",
        "      \"日野キャンパス\",\n",
        "      \"荒川キャンパス\"\n",
        "    ]\n",
        "  }\n",
        "]\n",
        "```\n",
        "\n",
        "**皆さんの身の回りに実際にある情報をPythonの変数で管理したら？**という点がこの宿題の主眼です。ただの意味の無いダミーデータは避けてください。\n",
        "\n",
        "**Tips**\n",
        "\n",
        "『美しいデータ』である事を追求しましょう。\n"
      ],
      "metadata": {
        "id": "XED-y6zjsinW"
      }
    },
    {
      "cell_type": "markdown",
      "source": [
        "## 期限\n",
        "\n"
      ],
      "metadata": {
        "id": "bk2GMQDsdNPh"
      }
    },
    {
      "cell_type": "markdown",
      "source": [
        "次回講義の１日前の23:59までに提出したものを評価します。かならず、一度実行してみてエラーの無い状態で提出しましょう。\n",
        "\n",
        "**お約束**\n",
        "\n",
        "来週講義の冒頭で皆さんがどんなものを作ったから、みんなでレビューしますので、センシティブな個人情報は載せないでください、また、あまりにも個人的なリストも避けてください。\n"
      ],
      "metadata": {
        "id": "kzC-CzuRdP6X"
      }
    },
    {
      "cell_type": "markdown",
      "source": [
        "## 仕様\n",
        "\n"
      ],
      "metadata": {
        "id": "B2cMheUEdTj-"
      }
    },
    {
      "cell_type": "markdown",
      "source": [
        "以下のコード例のセルはDictionary型を改変して作成してください。今はDictionary型にダミーの内容が入っていますが、これを削除して、自分自身のデータを作ってください。以下のセルそのものに書き込んでください。ただし、```my_homework```という変数名は変更してはいけません。"
      ],
      "metadata": {
        "id": "mDCC65apdWVL"
      }
    },
    {
      "cell_type": "code",
      "source": [
        "my_homework = []"
      ],
      "metadata": {
        "id": "EU_j44GhwOmO"
      },
      "execution_count": null,
      "outputs": []
    },
    {
      "cell_type": "markdown",
      "source": [
        "実行してエラーが無い事を確認したら、以下のセルに```my_homework```を**整形して出力するコード**を記入し、エラー無く、自分で定義したデータが、きちんと整形されて表示されるかを確認してください。\n"
      ],
      "metadata": {
        "id": "-IvG_5HYwdMS"
      }
    },
    {
      "cell_type": "code",
      "source": [
        "print(id,name)\n",
        "#この下にmy_homeworkを整形して出力(print)するコードを書きましょう。"
      ],
      "metadata": {
        "id": "4XQsYClW0WW1"
      },
      "execution_count": null,
      "outputs": []
    },
    {
      "cell_type": "markdown",
      "source": [
        "# おしまい\n",
        "\n",
        "講義内で説明した方法に従って、この宿題を提出してください。お疲れ様でした。\n",
        "\n",
        "以下のコードは集計用のコードですので、変更しないでください。"
      ],
      "metadata": {
        "id": "8hYsLSP8z8YV"
      }
    },
    {
      "cell_type": "code",
      "source": [
        "if not('marged_homework' in locals()):\n",
        "    marged_homework = {}\n",
        "marged_homework[id] = {\n",
        "    \"name\": name,\n",
        "    \"report\": my_homework.copy()\n",
        "}"
      ],
      "metadata": {
        "id": "9N9hk4GTwsrV"
      },
      "execution_count": null,
      "outputs": []
    }
  ]
}