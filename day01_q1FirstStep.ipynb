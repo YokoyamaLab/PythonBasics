{
  "nbformat": 4,
  "nbformat_minor": 0,
  "metadata": {
    "colab": {
      "provenance": [],
      "include_colab_link": true
    },
    "kernelspec": {
      "name": "python3",
      "display_name": "Python 3"
    },
    "language_info": {
      "name": "python"
    }
  },
  "cells": [
    {
      "cell_type": "markdown",
      "metadata": {
        "id": "view-in-github",
        "colab_type": "text"
      },
      "source": [
        "<a href=\"https://colab.research.google.com/github/YokoyamaLab/PythonBasics/blob/2024/day01_q1FirstStep.ipynb\" target=\"_parent\"><img src=\"https://colab.research.google.com/assets/colab-badge.svg\" alt=\"Open In Colab\"/></a>"
      ]
    },
    {
      "cell_type": "markdown",
      "source": [
        "# Day01 課題Q1 講義のおさらい"
      ],
      "metadata": {
        "id": "lE8xFVXGpJcD"
      }
    },
    {
      "cell_type": "markdown",
      "source": [
        "Day01の内容のおさらいです。なるべく講義資料を見ずに考えてみると良いでしょう。\n",
        "\n",
        "まずは、以下のidに学籍番号、nameに名前を入れて実行してください。"
      ],
      "metadata": {
        "id": "hpuRDyTBv-_G"
      }
    },
    {
      "cell_type": "code",
      "source": [
        "#@title 学籍番号、名前\n",
        "id = \"\" #@param {type:\"string\"}\n",
        "name = \"\" #@param {type:\"string\"}"
      ],
      "metadata": {
        "id": "BryAfuInHu77"
      },
      "execution_count": null,
      "outputs": []
    },
    {
      "cell_type": "markdown",
      "source": [
        "## お願い"
      ],
      "metadata": {
        "id": "ZAy2rhqTHzRD"
      }
    },
    {
      "cell_type": "markdown",
      "source": [
        "提出前にすべて実行し、エラーの無い状態で提出してください。"
      ],
      "metadata": {
        "id": "8C1ZPSKqH1tb"
      }
    },
    {
      "cell_type": "markdown",
      "source": [
        "## 問題1"
      ],
      "metadata": {
        "id": "772AU_9LHPVm"
      }
    },
    {
      "cell_type": "markdown",
      "source": [
        "以下のプログラムは「John's Book」という文字を出力するプログラムです。ただ、このまま実行するとエラーが出ます。エラーが出ないように修正してください。"
      ],
      "metadata": {
        "id": "5yWU_2W4HROo"
      }
    },
    {
      "cell_type": "code",
      "source": [
        "print('Johon's Book')"
      ],
      "metadata": {
        "colab": {
          "base_uri": "https://localhost:8080/",
          "height": 106
        },
        "id": "WsgI6Y1hHkWa",
        "outputId": "3089c6ee-06de-4ad8-c691-968e5ebcb3a8"
      },
      "execution_count": null,
      "outputs": [
        {
          "output_type": "error",
          "ename": "SyntaxError",
          "evalue": "unterminated string literal (detected at line 1) (<ipython-input-2-5a91899e4f99>, line 1)",
          "traceback": [
            "\u001b[0;36m  File \u001b[0;32m\"<ipython-input-2-5a91899e4f99>\"\u001b[0;36m, line \u001b[0;32m1\u001b[0m\n\u001b[0;31m    print('Johon's Book')\u001b[0m\n\u001b[0m                       ^\u001b[0m\n\u001b[0;31mSyntaxError\u001b[0m\u001b[0;31m:\u001b[0m unterminated string literal (detected at line 1)\n"
          ]
        }
      ]
    },
    {
      "cell_type": "markdown",
      "source": [
        "## 問題2"
      ],
      "metadata": {
        "id": "5Z1srCrQLb46"
      }
    },
    {
      "cell_type": "markdown",
      "source": [
        "以下のコードは複数行を出力するコードです。"
      ],
      "metadata": {
        "id": "v90Ik8gkLdUy"
      }
    },
    {
      "cell_type": "code",
      "source": [
        "print(\"こ\\nん\\nに\\nち\\nわ\")"
      ],
      "metadata": {
        "colab": {
          "base_uri": "https://localhost:8080/"
        },
        "id": "3-zWvFSxLlSV",
        "outputId": "ee2130af-adc1-47be-aff9-27289f6af4c9"
      },
      "execution_count": null,
      "outputs": [
        {
          "output_type": "stream",
          "name": "stdout",
          "text": [
            "こ\n",
            "ん\n",
            "に\n",
            "ち\n",
            "わ\n"
          ]
        }
      ]
    },
    {
      "cell_type": "markdown",
      "source": [
        "これをエスケープシーケンスではなく、ヒアドキュメントを使って以下のボックスに書き直してください。"
      ],
      "metadata": {
        "id": "z6DHT30ZLsks"
      }
    },
    {
      "cell_type": "code",
      "source": [
        "# 問題2のコートはここへ\n"
      ],
      "metadata": {
        "id": "ybgHkuCYL6ij"
      },
      "execution_count": null,
      "outputs": []
    },
    {
      "cell_type": "markdown",
      "source": [
        "## 問題3"
      ],
      "metadata": {
        "id": "CaMuR-vTIBu0"
      }
    },
    {
      "cell_type": "markdown",
      "source": [
        "2、4、5、6という数字をタブで区切って一行で出力してください。(ヒント：エスケープシーケンスを使う)"
      ],
      "metadata": {
        "id": "gGEFAX0ZIDeJ"
      }
    },
    {
      "cell_type": "code",
      "source": [
        "# 問題3のコードはここへ\n"
      ],
      "metadata": {
        "id": "LUz7aZ0LIRKr"
      },
      "execution_count": null,
      "outputs": []
    },
    {
      "cell_type": "markdown",
      "source": [
        "## 問題4"
      ],
      "metadata": {
        "id": "ASz1g1lPIlwT"
      }
    },
    {
      "cell_type": "markdown",
      "source": [
        "「Final exam scores」という変数に100を代入してください。ただし変数名はUpper Camel Case、Lower Camel Case、Kebab Case、Sneak Caseにしてください。"
      ],
      "metadata": {
        "id": "A7WIKajYInUv"
      }
    },
    {
      "cell_type": "code",
      "source": [
        "# Upper Camel Caseの場合\n",
        "\n",
        "\n",
        "# Lower Camel Caseの場合\n",
        "\n",
        "\n",
        "# Kebab Caseの場合\n",
        "\n",
        "\n",
        "# Sneke Caseの場合\n",
        "\n"
      ],
      "metadata": {
        "id": "pjzQn27IKL1N"
      },
      "execution_count": null,
      "outputs": []
    },
    {
      "cell_type": "markdown",
      "source": [
        "## 復習事項　(宿題ではないですが以下の事項を復習しておきましょう)"
      ],
      "metadata": {
        "id": "e9tO1toCLOWI"
      }
    },
    {
      "cell_type": "markdown",
      "source": [
        "\n",
        "\n",
        "*   十進法以外の数値の表現方法\n",
        "*   小数値の表し方\n",
        "*   日付の表現方法\n",
        "\n"
      ],
      "metadata": {
        "id": "aBMdnzTOLSQV"
      }
    }
  ]
}