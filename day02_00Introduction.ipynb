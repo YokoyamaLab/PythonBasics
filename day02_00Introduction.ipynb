{
  "nbformat": 4,
  "nbformat_minor": 0,
  "metadata": {
    "colab": {
      "provenance": [],
      "include_colab_link": true
    },
    "kernelspec": {
      "name": "python3",
      "display_name": "Python 3"
    },
    "language_info": {
      "name": "python"
    }
  },
  "cells": [
    {
      "cell_type": "markdown",
      "metadata": {
        "id": "view-in-github",
        "colab_type": "text"
      },
      "source": [
        "<a href=\"https://colab.research.google.com/github/YokoyamaLab/PythonBasics/blob/2023/day02_00Introduction.ipynb\" target=\"_parent\"><img src=\"https://colab.research.google.com/assets/colab-badge.svg\" alt=\"Open In Colab\"/></a>"
      ]
    },
    {
      "cell_type": "markdown",
      "source": [
        "# Day02 解説\n",
        "\n"
      ],
      "metadata": {
        "id": "5kLywc2JohsN"
      }
    },
    {
      "cell_type": "markdown",
      "source": [
        "前回はPythonで**リテラル**をどのように表現するかを学びました。数値(整数・小数・複素数)や文字列そして、文字列を表現する時に重要なエスケープシーケンスをすでに理解したはずです。\n",
        "\n",
        "今日はそれらを使ってもうすこし難しいデータ構造を学び、それを処理するための演算子・制御構文を学びます。\n",
        "\n",
        "それでは、 [講義ホームページ](https://github.com/YokoyamaLab/PythonBasics)に戻って、Day02資料01から始めましょう！"
      ],
      "metadata": {
        "id": "34sIhI1IoX4e"
      }
    }
  ]
}