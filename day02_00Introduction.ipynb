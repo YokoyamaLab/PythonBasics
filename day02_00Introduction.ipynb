{
  "nbformat": 4,
  "nbformat_minor": 0,
  "metadata": {
    "colab": {
      "provenance": [],
      "include_colab_link": true
    },
    "kernelspec": {
      "name": "python3",
      "display_name": "Python 3"
    },
    "language_info": {
      "name": "python"
    }
  },
  "cells": [
    {
      "cell_type": "markdown",
      "metadata": {
        "id": "view-in-github",
        "colab_type": "text"
      },
      "source": [
        "<a href=\"https://colab.research.google.com/github/YokoyamaLab/PythonBasics/blob/2024/day02_00Introduction.ipynb\" target=\"_parent\"><img src=\"https://colab.research.google.com/assets/colab-badge.svg\" alt=\"Open In Colab\"/></a>"
      ]
    },
    {
      "cell_type": "markdown",
      "source": [
        "# Day02 解説\n",
        "\n"
      ],
      "metadata": {
        "id": "5kLywc2JohsN"
      }
    },
    {
      "cell_type": "markdown",
      "source": [
        "前回はPythonで**リテラル**をどのように表現するかを学びました。数値(整数・小数・複素数)や文字列そして、文字列を表現する時に重要なエスケープシーケンスをすでに理解したはずです。\n",
        "\n",
        "今日はそれらを使ってもうすこし難しいデータ構造を学び、それを処理するための演算子・制御構文を学びます。\n",
        "\n",
        "今日の流れは次の通りです\n",
        "1. **データ構造**\n",
        "   * 学習(資料01)\n",
        "      * リスト型・辞書型など複雑なデータの表現方法を学びます\n",
        "   * 演習(演習Q1)\n",
        "      * 複雑なデータ構造を自分で定義してみよう  \n",
        "1. **演算子**\n",
        "   * 学習(資料02)\n",
        "      * 四則演算など、他の言語同様Pythonは豊富な演算子を持っています\n",
        "   * 演習(演習Q2)\n",
        "      * :計算してみよう\n",
        "1. **制御構文** ※ここの自宅学習と演習が宿題となります\n",
        "   * 学習(資料03)\n",
        "      * IF文などを学びます\n",
        "1. 宿題(演習Q3)\n",
        "   * データ構造、演算子、制御構文を駆使して課題を解こう\n",
        "\n",
        "それでは、Google Classroomで配布したDay02資料01から始めましょう！"
      ],
      "metadata": {
        "id": "34sIhI1IoX4e"
      }
    }
  ]
}