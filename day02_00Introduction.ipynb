{
  "nbformat": 4,
  "nbformat_minor": 0,
  "metadata": {
    "colab": {
      "provenance": [],
      "authorship_tag": "ABX9TyNGnaNHbJN0IlrMgWLJzNy9",
      "include_colab_link": true
    },
    "kernelspec": {
      "name": "python3",
      "display_name": "Python 3"
    },
    "language_info": {
      "name": "python"
    }
  },
  "cells": [
    {
      "cell_type": "markdown",
      "metadata": {
        "id": "view-in-github",
        "colab_type": "text"
      },
      "source": [
        "<a href=\"https://colab.research.google.com/github/YokoyamaLab/PythonBasics/blob/main/day02_00Introduction.ipynb\" target=\"_parent\"><img src=\"https://colab.research.google.com/assets/colab-badge.svg\" alt=\"Open In Colab\"/></a>"
      ]
    },
    {
      "cell_type": "markdown",
      "source": [
        "# Day2 解説\n",
        "\n"
      ],
      "metadata": {
        "id": "5kLywc2JohsN"
      }
    },
    {
      "cell_type": "markdown",
      "source": [
        "前回はPythonで表現する色々なデータを学びました。皆さんはPythonで数字や文字列、そしてそれらの配列を作る事が出来ます。\n",
        "\n",
        "今日はそのデータを処理するための演算子・制御構文・関数を学びます。\n",
        "\n",
        "\n",
        "それでは、 [講義ホームページ](https://github.com/YokoyamaLab/PythonBasics)に戻って、Day2資料01から始めましょう！"
      ],
      "metadata": {
        "id": "34sIhI1IoX4e"
      }
    }
  ]
}