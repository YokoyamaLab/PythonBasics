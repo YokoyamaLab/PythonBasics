{
  "nbformat": 4,
  "nbformat_minor": 0,
  "metadata": {
    "colab": {
      "provenance": [],
      "toc_visible": true,
      "authorship_tag": "ABX9TyMOG+sRePiOTqEAiKbrVyxu",
      "include_colab_link": true
    },
    "kernelspec": {
      "name": "python3",
      "display_name": "Python 3"
    },
    "language_info": {
      "name": "python"
    }
  },
  "cells": [
    {
      "cell_type": "markdown",
      "metadata": {
        "id": "view-in-github",
        "colab_type": "text"
      },
      "source": [
        "<a href=\"https://colab.research.google.com/github/YokoyamaLab/PythonBasics/blob/main/day02_01Operator.ipynb\" target=\"_parent\"><img src=\"https://colab.research.google.com/assets/colab-badge.svg\" alt=\"Open In Colab\"/></a>"
      ]
    },
    {
      "cell_type": "markdown",
      "source": [
        "# DAY2 資料01: 演算子"
      ],
      "metadata": {
        "id": "i0jEh37op2-o"
      }
    },
    {
      "cell_type": "markdown",
      "source": [
        "## 🌀演算子の種類\n"
      ],
      "metadata": {
        "id": "rXnRGIyhqknc"
      }
    },
    {
      "cell_type": "markdown",
      "source": [
        "\n",
        "\n",
        "* **代入演算子**\n",
        "  * 右辺の値を左辺に代入する演算子\n",
        "* **算術演算子**\n",
        "  * コンピュータが電子**計算機**である所以。四則演算＋α\n",
        "* **累算代入演算子**\n",
        "  * 計算と代入を一度に行う便利な演算子\n",
        "* **比較演算子**\n",
        "  * 左辺と右辺を比較する演算子\n",
        "* **ブール演算子**\n",
        "  * 論理演算を行う演算子\n",
        "* **ビット演算子**\n",
        "  * ビット列同士の演算を行う演算子\n",
        "* **シフト演算子**\n",
        "  * ビット列を左右にずらす演算子\n",
        "* **三項演算子**\n",
        "  * これを知っていると三行書くところが一行で済む演算子\n",
        "* **セイウチ演算子**\n",
        "  * これも知っていれば二行書くところが一行で済む演算子\n",
        "\n"
      ],
      "metadata": {
        "id": "XBjAm9EcqzNk"
      }
    },
    {
      "cell_type": "markdown",
      "source": [
        "## 🌀代入演算子"
      ],
      "metadata": {
        "id": "69xSBYBcqTaR"
      }
    },
    {
      "cell_type": "markdown",
      "source": [
        "すでに変数の所でできていますが、例えば右辺にリテラルをとり左辺に変数をとれば、リテラルの値が変数に代入されます。"
      ],
      "metadata": {
        "id": "nwqLBaJatov8"
      }
    },
    {
      "cell_type": "code",
      "source": [
        "# scoreという変数に100を代入する\n",
        "score = 100\n",
        "print(score)"
      ],
      "metadata": {
        "id": "WfetVOo4tobZ"
      },
      "execution_count": null,
      "outputs": []
    },
    {
      "cell_type": "markdown",
      "source": [
        "よくよく考えると、数学で習って来た「**=**(イコール)」と意味が違う事が分かります。数学のイコールはどちらかと言うと右と左が同じである事を表しており、右辺と左辺を入れ替えても問題ありませんが、代入演算子のイコールは、右辺を左辺に代入するという方向が決まっています。Javaでもそうですが殆どの言語で「**=**」を代入演算子としていますが、これはよくバグの元になります。例えば後述する**比較演算子**の「**==**」と間違えて「**=**」としてしまうと、**比較のつもりが代入をする事になってしまいます**。厄介なのは、文法的には間違いで無いため、バグとして発見するのが困難です。"
      ],
      "metadata": {
        "id": "m0zKg0siuBI5"
      }
    },
    {
      "cell_type": "markdown",
      "source": [
        "## 🌀算術演算子"
      ],
      "metadata": {
        "id": "M_p5K4EoqhDm"
      }
    },
    {
      "cell_type": "markdown",
      "source": [
        "コンピューターは電子計算機ですから計算できなければいけません。"
      ],
      "metadata": {
        "id": "uhubNtIdwlKj"
      }
    },
    {
      "cell_type": "markdown",
      "source": [
        "### 💮加減乗除など数値計算"
      ],
      "metadata": {
        "id": "8LE-BG0MwmMV"
      }
    },
    {
      "cell_type": "markdown",
      "source": [
        "まずは基本的な演算から。足し算、引き算、掛け算、割り算です。"
      ],
      "metadata": {
        "id": "mdDhXF8Mwst0"
      }
    },
    {
      "cell_type": "code",
      "source": [
        "a = 17\n",
        "b = 5\n",
        "c = 8\n",
        "\n",
        "print(a + b)\n",
        "print(a - c)\n",
        "print(a * b)\n",
        "print(a / c)"
      ],
      "metadata": {
        "id": "X5kA7yGzwrgQ"
      },
      "execution_count": null,
      "outputs": []
    },
    {
      "cell_type": "markdown",
      "source": [
        "ここで、割り算で「おやっ」と思った人はセンスがあります。整数同士の割り算ですが答えが小数になりました。Javaの場合は整数割る整数は整数になります。Pythonの場合は割り切れない場合はもちろん、たとえ割り切れたとしても小数値になります。\n",
        "\n",
        "ではJavaのような、小数部を切り捨てた除算はどのようにするのでしょうか。"
      ],
      "metadata": {
        "id": "wtQcgV3kxeZI"
      }
    },
    {
      "cell_type": "code",
      "source": [
        "a // c"
      ],
      "metadata": {
        "id": "o_A4dKKFwdbz"
      },
      "execution_count": null,
      "outputs": []
    },
    {
      "cell_type": "markdown",
      "source": [
        "演算子「**//**」を使います。当然これをやると、余りも出したくなりますね。剰余を出す演算子は「**%**」です。"
      ],
      "metadata": {
        "id": "oMi4sWRZyRJH"
      }
    },
    {
      "cell_type": "code",
      "source": [
        "a % c"
      ],
      "metadata": {
        "id": "ujOudrtsyf-S"
      },
      "execution_count": null,
      "outputs": []
    },
    {
      "cell_type": "markdown",
      "source": [
        "その他、べき乗を表す演算子もあります。aのb上は次の様に書きます"
      ],
      "metadata": {
        "id": "K-6CLF3s03ww"
      }
    },
    {
      "cell_type": "code",
      "source": [
        "a ** b"
      ],
      "metadata": {
        "id": "_Dh7YKi11IKa"
      },
      "execution_count": null,
      "outputs": []
    },
    {
      "cell_type": "markdown",
      "source": [
        "### 💮リストの算術演算!?"
      ],
      "metadata": {
        "id": "OJjNbLqS1Uts"
      }
    },
    {
      "cell_type": "markdown",
      "source": [
        "算術演算子は数値以外に適用できるのでしょうか？試してみましょう。"
      ],
      "metadata": {
        "id": "g9RiHlM01prr"
      }
    },
    {
      "cell_type": "code",
      "source": [
        "[1,2,3] + [4,5,6]"
      ],
      "metadata": {
        "id": "l1AL2CCQ1xHY"
      },
      "execution_count": null,
      "outputs": []
    },
    {
      "cell_type": "markdown",
      "source": [
        "なんとリストが連結されました。\n",
        "\n",
        "では次。"
      ],
      "metadata": {
        "id": "E4wyyLvl2L8s"
      }
    },
    {
      "cell_type": "code",
      "source": [
        "[1,2,3] * 2"
      ],
      "metadata": {
        "id": "55i5iB1B2TUJ"
      },
      "execution_count": null,
      "outputs": []
    },
    {
      "cell_type": "markdown",
      "source": [
        "リストが二回繰り返されたものが帰ってきました。このようにいくつかの演算子はリストに対して、ちょっと素敵な演算を行ってくれます。"
      ],
      "metadata": {
        "id": "eS9CN6Ob2YCQ"
      }
    },
    {
      "cell_type": "markdown",
      "source": [
        "### 💮文字列の算術演算!?"
      ],
      "metadata": {
        "id": "tpDJx5Z52sBk"
      }
    },
    {
      "cell_type": "markdown",
      "source": [
        "リストができるという事は文字列もできるのでは？という事で、前回「**+**」で文字列が連結できる事は示しましたが、「*」はどうでしょうか。"
      ],
      "metadata": {
        "id": "WX3-Yz-i2wbM"
      }
    },
    {
      "cell_type": "code",
      "source": [
        "'tsuru' * 2"
      ],
      "metadata": {
        "id": "gnkViaiw3EWs"
      },
      "execution_count": null,
      "outputs": []
    },
    {
      "cell_type": "markdown",
      "source": [
        "二回繰り返されました。\n",
        "\n",
        "このように、算術演算子の一部はリストや配列に対しても適用する事ができます。"
      ],
      "metadata": {
        "id": "fvrmzx8r3uCc"
      }
    },
    {
      "cell_type": "markdown",
      "source": [
        "## 🌀累算代入演算子"
      ],
      "metadata": {
        "id": "E_VKtGP5qwP6"
      }
    },
    {
      "cell_type": "markdown",
      "source": [
        "名前は難しいですがメンドクサガリ屋の貴方にとっては素敵な演算子です。例えば『変数**i**に整数**n**を足した数を再び**i**に代入して戻す』というような処理は、プログラムでよく出てきます。これをやるには、以下のようなコードになるでしょう。"
      ],
      "metadata": {
        "id": "E569AUXJ36SM"
      }
    },
    {
      "cell_type": "code",
      "source": [
        "i = 10\n",
        "n = 5\n",
        "\n",
        "i = i + n\n",
        "\n",
        "print(i)"
      ],
      "metadata": {
        "id": "vh5t45Vb4WEh"
      },
      "execution_count": null,
      "outputs": []
    },
    {
      "cell_type": "markdown",
      "source": [
        "メンドクサガリ屋の貴方は「**i**を二回も書きたくないよ」と思うかもしれません。そんな時には以下の様にも書けます。"
      ],
      "metadata": {
        "id": "T-NZJQ5M4tQO"
      }
    },
    {
      "cell_type": "code",
      "source": [
        "i += n\n",
        "\n",
        "print(i)"
      ],
      "metadata": {
        "id": "W9ta5seg5CLL"
      },
      "execution_count": null,
      "outputs": []
    },
    {
      "cell_type": "markdown",
      "source": [
        "足し算だけじゃなく、他の算術演算子でもできます。"
      ],
      "metadata": {
        "id": "10pk8kvc5Nkh"
      }
    },
    {
      "cell_type": "code",
      "source": [
        "i -= n\n",
        "print(i)\n",
        "i *= n\n",
        "print(i)\n",
        "i //= n\n",
        "print (i)\n",
        "i %= n+1 # 5だと割り切れちゃうので1足して6の剰余を求めます\n",
        "print(i)\n",
        "i /= n\n",
        "print (i)\n"
      ],
      "metadata": {
        "id": "dnb4kwST5SgF"
      },
      "execution_count": null,
      "outputs": []
    },
    {
      "cell_type": "markdown",
      "source": [
        "## 🌀比較演算子"
      ],
      "metadata": {
        "id": "OxpNX2Xzq-qB"
      }
    },
    {
      "cell_type": "markdown",
      "source": [
        "比較演算子とは右項と左項を文字通り比較し、ブール値を返す演算子です。"
      ],
      "metadata": {
        "id": "ZQthUFagF-2E"
      }
    },
    {
      "cell_type": "markdown",
      "source": [
        "### 💮等号"
      ],
      "metadata": {
        "id": "vHfCTo5gWklU"
      }
    },
    {
      "cell_type": "code",
      "source": [
        "a = 10\n",
        "b = 10\n",
        "c = 5\n",
        "s = 'Hello'\n",
        "t = 'Hello'\n",
        "u = 'World'\n",
        "l = [1, 2, 3]\n",
        "m = [1, 2, 3]\n",
        "n = [4, 5, 6]"
      ],
      "metadata": {
        "id": "MisC2AeEGMQM"
      },
      "execution_count": null,
      "outputs": []
    },
    {
      "cell_type": "markdown",
      "source": [
        "まず上のセルを実行して、変数**a**～**c**、**s**～**u**をセットしましょう。\n",
        "\n",
        "では、まずは等価比較演算子を見てみましょう。"
      ],
      "metadata": {
        "id": "Z4jwnSVSGP7D"
      }
    },
    {
      "cell_type": "code",
      "source": [
        "print(a == b)\n",
        "print(a == c)\n",
        "print(s == t)\n",
        "print(s == u)\n",
        "print(l == m)\n",
        "print(l == n)"
      ],
      "metadata": {
        "id": "FEOHu3y5HA2W"
      },
      "execution_count": null,
      "outputs": []
    },
    {
      "cell_type": "markdown",
      "source": [
        "**a**と**b**は同じく**10**が入っているので**True**を返します。**c**は**5**なので**False**を返します。文字列や配列も等しいか等しくないかで結果を返します。これは右項と左項が**等しい時にTrueを返します。**\n",
        "\n",
        "では、**等しくない時にTrueを返す演算子**を見てみましょう。"
      ],
      "metadata": {
        "id": "5ErHxuHvHPcb"
      }
    },
    {
      "cell_type": "code",
      "source": [
        "print(a != b)\n",
        "print(a != c)\n",
        "print(s != t)\n",
        "print(s != u)\n",
        "print(l != m)\n",
        "print(l != n)"
      ],
      "metadata": {
        "id": "-05RXc4wH4Z0"
      },
      "execution_count": null,
      "outputs": []
    },
    {
      "cell_type": "markdown",
      "source": [
        "当然ながら結果は逆になりました。\n",
        "\n",
        "これと同じような比較演算子に**is**と**is not**があります。**==**や**!=**に似ていますが、明確な違いがあり区別しなければなりません。\n",
        "\n",
        "その違いを見るために**==**が**True**を返す**a**と**b**、**s**と**t**、**l**と**m**で見てみましょう。"
      ],
      "metadata": {
        "id": "HqcZh0k_KPj-"
      }
    },
    {
      "cell_type": "code",
      "source": [
        "print(a is b)\n",
        "print(s is t)\n",
        "print(l is m)"
      ],
      "metadata": {
        "id": "t2qFNHBAKi32"
      },
      "execution_count": null,
      "outputs": []
    },
    {
      "cell_type": "markdown",
      "source": [
        "なぜかリストだけ**False**になりました。\n",
        "\n",
        "なぜでしょうか？それを理解するために、もうすこし簡単な例で**isとは何か？**を考えてみましょう。\n",
        "\n",
        "以下のコードでは、TrueとTrueや1を比較しています。当然TrueはTrueと等しいはずですし、Trueと1は異なっているはずです。"
      ],
      "metadata": {
        "id": "hW48JmYeNFjs"
      }
    },
    {
      "cell_type": "code",
      "source": [
        "t = True\n",
        "print(t == True)\n",
        "print(t == 1)\n",
        "print(t is True)\n",
        "print(t is 1)"
      ],
      "metadata": {
        "id": "FvgLCybuPnBV"
      },
      "execution_count": null,
      "outputs": []
    },
    {
      "cell_type": "markdown",
      "source": [
        "ところが、予想に反して、**Trueと1が「==」で比較した場合に「等しい」と返されました**(3行目)。しかも**is**で比較した場合(5行目)は、お節介にも「**==なんじゃないの？**」とWarningを出してくれていますね。\n",
        "\n",
        "ここで、**True == 1**が**True**を返しているのは、歴史的な経緯として、**0をFalse、1をTrueとする**、という慣習に基づいています。今ではどの言語も**True**と**False**を持つブール値を扱う事ができますが、例えば**C言語**では1999年までブール値をデータ型として扱う事はできませんでした。なので、それ以前は、やむを得ず整数型を使って**0をFalse、1をTrueとする**としているケースが多かったのです。今でも多くの言語で**True == 1**は、**値としては同じ意味を持ちますからTrue**を返します。ちなみに、Pythonもv.2.3以前はブール型はありませんでした。\n"
      ],
      "metadata": {
        "id": "dlhDQH1_QTmZ"
      }
    },
    {
      "cell_type": "markdown",
      "source": [
        "一方で**is**は**同じオブジェクトか？**を調べる演算子です。**1は整数型のオブジェクトですし、Trueはブール型のオブジェクト**ですから、当然ながらこの両者は**異なって**いるため、**False**を返します。\n",
        "\n",
        "理由が理解できなくても、この時点では問題ありませんが、**Trueは1、Falseは0と等価だけど、オブジェクトとしては異なる**とだけ覚えておくと、これに起因したバグを防ぐ事ができます。"
      ],
      "metadata": {
        "id": "X7Uw8vTaY2Oc"
      }
    },
    {
      "cell_type": "markdown",
      "source": [
        "#### 余談(危険！読むな！)"
      ],
      "metadata": {
        "id": "emWhmtSeWvNg"
      }
    },
    {
      "cell_type": "markdown",
      "source": [
        "**で、ここからは余談です。頭がぐちゃぐちゃになりたい人だけ読んでください。**\n",
        "\n",
        "リストにおける**=**と**is**の話に戻りましょう。もう一度コードを確認します。"
      ],
      "metadata": {
        "id": "6BJ0tk5TW3H9"
      }
    },
    {
      "cell_type": "code",
      "source": [
        "l = [1, 2, 3]\n",
        "m = [1, 2, 3]\n",
        "print(l == m)\n",
        "print(l is m)"
      ],
      "metadata": {
        "id": "iyYzhSI_TXl1"
      },
      "execution_count": null,
      "outputs": []
    },
    {
      "cell_type": "markdown",
      "source": [
        "**l**も**m**もリストの内容は同じですが、**print**の結果が異なります。これを理解するには、「**値が同じか？**」「**オブジェクトが同じか？**」を考えます。**l**と**m**は共に**[1,2,3]**という値を持っています。なので```l == m```は**True**を返します。ところが、オブジェクトとしては別モノです。つまり**l**はコードの一行目で定義され、実行時にはメモリ上のどこかに保持されます。そして**m**はコードの二行目で定義され、これまた実行時にはメモリ上のどこか**l**とは別の場所に保持されます。このように**l**と**m**の実体は異なっています。なので**is**は**False**を返します。\n",
        "\n",
        "では**l**を新しい変数**o**に代入してみましょう。この時(リストの所で学びましたが)、新しいオブジェクトが作られるのではなく、同じオブジェクトの参照が代入されます。つまり**l**と**o**は共にメモリ上の同一のリストを参照する事になります。同じオブジェクトを指している訳なので、、**is**は**True**を返すはずです。\n",
        "\n",
        "やってみましょう。"
      ],
      "metadata": {
        "id": "ooQGEY9ATjSg"
      }
    },
    {
      "cell_type": "code",
      "source": [
        "o = l\n",
        "print(l is o)"
      ],
      "metadata": {
        "id": "9x86yaNYVTHa"
      },
      "execution_count": null,
      "outputs": []
    },
    {
      "cell_type": "markdown",
      "source": [
        "**True**がでてきました。**==**と**is**の違いがなんとなく理解できたのではないでしようか。\n",
        "\n",
        "でも、思い出してください。先ほど整数値や文字列では異なる行で定義を行った変数同時の比較で、**==**と**is**は同じ結果を返していました。"
      ],
      "metadata": {
        "id": "IQ6m43vKVXwv"
      }
    },
    {
      "cell_type": "code",
      "source": [
        "a = 1\n",
        "b = 1\n",
        "print(a == b)\n",
        "print(a is b)"
      ],
      "metadata": {
        "id": "BgFtIbTqUSvH"
      },
      "execution_count": null,
      "outputs": []
    },
    {
      "cell_type": "markdown",
      "source": [
        "一見、リストの時の説明と矛盾するように感じるのではないでしょうか。\n",
        "\n",
        "これを理解するには、**ミュータブル**、**イミュータブル**という用語がキーワードになります。整数・小数・文字列のような単純な型は**イミュータブル**、リストや後で出てくるクラスのインスタンス等は**ミュータブル**です。\n",
        "\n",
        "**ミュータブル**は**変更可能**、**イミュータブル**は**変更不可能**という意味の形容詞です。\n",
        "\n",
        "**イミュータブル**な整数を例にとって説明すると、```a += 1```というコードは、**変数a**を変更している様に見えて、内部的には、**aを更新するのではなく、aに1を足した新しいオブジェクト**を創り出しています。でもそうすると無尽蔵にオブジェクトが増えてしまいます。なので**1**という値を持つオブジェクトは、全て同じオブジェクトとしています。**2**もそう、**3**もそうです。"
      ],
      "metadata": {
        "id": "HEwiNwFrU1YF"
      }
    },
    {
      "cell_type": "code",
      "source": [
        "x = 1 + 4\n",
        "y = 2 + 3\n",
        "print(x is y)"
      ],
      "metadata": {
        "id": "TCoFKGE5CQ1R"
      },
      "execution_count": null,
      "outputs": []
    },
    {
      "cell_type": "markdown",
      "source": [
        "ですので、上記のコードのように、別の演算からたまたま**5**が創り出されたとしても、**5**は常に、同じオブジェクト(メモリ上の同じ所に保存されている値)と見なされます。実際のところ、Pythonのインタープリタは予めメモリ上に**-5～256**の全ての数をメモリ上にオブジェクトとして作っておきます。そして、演算の結果が**5**になった場合、予めつくっておいた**5**が割り当てられる訳です。もちろんそれ以外の数が出てきた時は、そのオブジェクトが作られ、同じ値の整数が次に出てきた時には使いまわされます。またそのメモリ上の**5**は常に**5**で書き換えされません、なので**イミュータブル**とされます。(さらにさらにこんがらがる話をすると、これはインタープリタの実装によっても異なります。)\n",
        "\n",
        "一方で**リスト**は**ミュータブル**です。上記、整数の例のように、全く同じ値を変数に割り当てたとしても、それは、メモリ上で異なる場所に、異なる実体として保存されており、**is**演算子は**False**を返します。もう一度コードを見てみましょう。"
      ],
      "metadata": {
        "id": "SHYA5GJrCecQ"
      }
    },
    {
      "cell_type": "code",
      "source": [
        "l = [1, 2, 3]\n",
        "m = [1, 2, 3]\n",
        "print(l is m)"
      ],
      "metadata": {
        "id": "7PUPAwuvvRoz"
      },
      "execution_count": null,
      "outputs": []
    },
    {
      "cell_type": "markdown",
      "source": [
        "これがなぜ**ミュータブル**すなわち変更可能であると呼ばれるかは、以下のコードを見ると分かります。"
      ],
      "metadata": {
        "id": "-VPeZtwXvf2E"
      }
    },
    {
      "cell_type": "code",
      "source": [
        "# イミュータブル（整数）\n",
        "a = 5\n",
        "print(id(a))\n",
        "a += 1\n",
        "print(id(a))\n",
        "\n",
        "# ミュータブル（リスト）\n",
        "print(id(l))\n",
        "l.append(4)\n",
        "print(id(l))\n",
        "print(l)"
      ],
      "metadata": {
        "id": "5mCqntBcvlMr"
      },
      "execution_count": null,
      "outputs": []
    },
    {
      "cell_type": "markdown",
      "source": [
        "```id(var)```は変数varに割り当てられたidを返す関数で、idは異なるオブジェクトには必ず異なる値が割り振られるものです。つまりidが同じなら同じオブジェクトかなわち、**変数名は違えどメモリ上は同じ場所を見ているもの**、idが異なっているのなら、**たとえ値は同じでも、全く別のもの**を表します。\n",
        "\n",
        "で上記のセルの実行結果を見ると、整数は1を加算すると異なるオブジェクトになっている事が分かります。こちらは**イミュータブル**なので、変数**i**値を書き換えるのではなく、変数**i**が指し示すオブジェクトを変えるという処理をします。\n",
        "\n",
        "一方でリストの方は、末尾に整数値**4**を追加する処理をしていますが、処理の前後で、idが変わっていません。という事は値そのものが変更されたと分かります。これが**ミュータブル**の動作です。\n",
        "\n",
        "どの型が**ミュータブル**で、どの型が**イミュータブル**かは、普遍的な決まりはなく、言語を設計する段階で、その作者らがどう考えるかにかかっています。またC言語等の古典的な言語では、そもそもこの仕組みをとっていません。(聞いたことがあるかもしれませんが、メモリ番地を直接管理するポインタという仕組みが使われていました。Pythonもインタープリタの中ではidからメモリ番地へ変換する表を持っています。)"
      ],
      "metadata": {
        "id": "6pbH4YYjoGYZ"
      }
    },
    {
      "cell_type": "markdown",
      "source": [
        "### 💮不等号"
      ],
      "metadata": {
        "id": "_NCQ-1l3WpRl"
      }
    },
    {
      "cell_type": "markdown",
      "source": [
        "**等号**の説明が長くなりましたが、、は**不等号**はどう書くのでしょうか？(出力が分かりやすいように文字列を足しています。)"
      ],
      "metadata": {
        "id": "fet8za3OIADs"
      }
    },
    {
      "cell_type": "code",
      "source": [
        "print('a:'     , a)\n",
        "print('b:'     , b)\n",
        "print('c:'     , c)\n",
        "print('a < b:' , a < b)\n",
        "print('a < c:' , a < c)\n",
        "print('a > b:' , a < b)\n",
        "print('a > c:' , a < c)\n",
        "print('a <= b:', a <= b)\n",
        "print('a <= c:', a <= c)\n",
        "print('a >= b:', a <= b)\n",
        "print('a >= c:', a <= c)"
      ],
      "metadata": {
        "id": "sH98b2KqIYot"
      },
      "execution_count": null,
      "outputs": []
    },
    {
      "cell_type": "markdown",
      "source": [
        "**大なり小なり**と**大なりイコール小なりイコール**の両方が書けます。\n",
        "\n",
        "では、文字列に対して不等号を適用するとどうなるでしょうか？\n",
        "\n"
      ],
      "metadata": {
        "id": "sfEOdPw7JyTg"
      }
    },
    {
      "cell_type": "code",
      "source": [
        "['😊'] > ['a']"
      ],
      "metadata": {
        "id": "XLFBlB8QrN16"
      },
      "execution_count": null,
      "outputs": []
    },
    {
      "cell_type": "markdown",
      "source": [
        "**a**より**😊**の方が大きいと出ましたが、これは何故でしょうか。初回講義の時に、**文字列はUnicodeで管理されている**と学びました。Unicodeとは、全ての文字に異なるビットパターンを割り当てる割り当て表のようなものです。このビットパターンは整数として解釈する事も可能です。例えば二進数であるならば、ビットパターンそのまま解釈できますし、当然十六進や十進表現にも変換可能です。\n",
        "\n",
        "整数になるのであれば、当然『順序関係』が発生します。見てみましょう。```ord(str)``は、strのunicodeに基づく整数値を返す関数です。\n",
        "\n"
      ],
      "metadata": {
        "id": "p2sbKFMrxxjg"
      }
    },
    {
      "cell_type": "code",
      "source": [
        "print(ord('😊'))\n",
        "print(ord('a'))\n",
        "print(ord('b'))"
      ],
      "metadata": {
        "id": "oylp0o2lzSew"
      },
      "execution_count": null,
      "outputs": []
    },
    {
      "cell_type": "markdown",
      "source": [
        "**a**が**97**、**b**が**98**なのに対して、**😊**は**128522**になります。このことから**😊**の方が**a**より大きいと言えます。アルファベットやひらがな・カタカナは辞書順と文字コード順が同じなので、この大小関係を使えば、文字列を辞書順でソートする事ができます。"
      ],
      "metadata": {
        "id": "zQVGZqhVzcWb"
      }
    },
    {
      "cell_type": "markdown",
      "source": [
        "\n",
        "## 🌀ブール演算子"
      ],
      "metadata": {
        "id": "0_GE0FkGrBn9"
      }
    },
    {
      "cell_type": "markdown",
      "source": [
        "論理学や電子回路などで登場する論理演算と同じものです。"
      ],
      "metadata": {
        "id": "rWToe2cV2EGo"
      }
    },
    {
      "cell_type": "markdown",
      "source": [
        "### 💮論理積 (かつ - and)"
      ],
      "metadata": {
        "id": "5965_XypfXD7"
      }
    },
    {
      "cell_type": "code",
      "source": [
        "print(True and True)\n",
        "print(True and False)\n",
        "print(False and True)\n",
        "print(False and False)"
      ],
      "metadata": {
        "id": "YG8GCFiFfnpv"
      },
      "execution_count": null,
      "outputs": []
    },
    {
      "cell_type": "markdown",
      "source": [
        "### 💮論理和 (または - or)"
      ],
      "metadata": {
        "id": "UR6gObmafdFu"
      }
    },
    {
      "cell_type": "code",
      "source": [
        "print(True or True)\n",
        "print(True or False)\n",
        "print(False or True)\n",
        "print(False or False)"
      ],
      "metadata": {
        "id": "TBvThlv0fxtb"
      },
      "execution_count": null,
      "outputs": []
    },
    {
      "cell_type": "markdown",
      "source": [
        "### 💮否定 (でない - not)"
      ],
      "metadata": {
        "id": "Bn-_aaj8fg7s"
      }
    },
    {
      "cell_type": "code",
      "source": [
        "print(not True)\n",
        "print(not False)"
      ],
      "metadata": {
        "id": "4rExRMVlf1ae"
      },
      "execution_count": null,
      "outputs": []
    },
    {
      "cell_type": "markdown",
      "source": [
        "### 💮式の入れ子 (ド・モルガンの法則を例に)"
      ],
      "metadata": {
        "id": "MITYjtQ9gLpv"
      }
    },
    {
      "cell_type": "markdown",
      "source": [
        "$$\n",
        "\\overline{\\overline{A} \\cdot \\overline{B}} = A + B\n",
        "$$\n",
        "\n",
        "この式の**A**と**B**に**True**や**False**を入力し右辺と左辺が同じかどうかを見てみましょう。"
      ],
      "metadata": {
        "id": "RUmkdl_vhhol"
      }
    },
    {
      "cell_type": "code",
      "source": [
        "T = True\n",
        "F = False\n",
        "print(not(not(T) and not(T)) , T or T)\n",
        "print(not(not(T) and not(F)) , T or F)\n",
        "print(not(not(F) and not(T)) , F or T)\n",
        "print(not(not(F) and not(F)) , F or F)\n"
      ],
      "metadata": {
        "id": "l2O7MtHxgQ2t"
      },
      "execution_count": null,
      "outputs": []
    },
    {
      "cell_type": "markdown",
      "source": [
        "## 🌀ビット演算子"
      ],
      "metadata": {
        "id": "U-A1ufF-rL2r"
      }
    },
    {
      "cell_type": "markdown",
      "source": [
        "ブール演算子はTrueとFalse、すなわち1bit同士の演算ですが、これをn bitに拡張したものです。"
      ],
      "metadata": {
        "id": "R1DR3yGW2Q_J"
      }
    },
    {
      "cell_type": "code",
      "source": [
        "bin_A = 0b11110000\n",
        "bin_B = 0b11001100"
      ],
      "metadata": {
        "id": "W9leVkpxvQST"
      },
      "execution_count": null,
      "outputs": []
    },
    {
      "cell_type": "markdown",
      "source": [
        "### 💮論理積 (かつ - and)"
      ],
      "metadata": {
        "id": "FIUcKi-ji-PG"
      }
    },
    {
      "cell_type": "code",
      "source": [
        "print(bin(bin_A & bin_B))"
      ],
      "metadata": {
        "id": "Yw0C4a3lvZWn"
      },
      "execution_count": null,
      "outputs": []
    },
    {
      "cell_type": "markdown",
      "source": [
        "### 💮論理和 (または - or)"
      ],
      "metadata": {
        "id": "PAIYswAFi_TF"
      }
    },
    {
      "cell_type": "code",
      "source": [
        "print(bin(bin_A | bin_B))"
      ],
      "metadata": {
        "id": "mGQ-mUJUwEvY"
      },
      "execution_count": null,
      "outputs": []
    },
    {
      "cell_type": "markdown",
      "source": [
        "### 💮排他的論理和 (xor)"
      ],
      "metadata": {
        "id": "xSfAVh22jJhL"
      }
    },
    {
      "cell_type": "code",
      "source": [
        "print(bin(bin_A ^ bin_B))"
      ],
      "metadata": {
        "id": "qFMFlDW9wJQ3"
      },
      "execution_count": null,
      "outputs": []
    },
    {
      "cell_type": "markdown",
      "source": [
        "### 💮ビット反転"
      ],
      "metadata": {
        "id": "Q0-o4Td5jNKa"
      }
    },
    {
      "cell_type": "markdown",
      "source": [
        "ビット反転は『**10011010**』を『**01100101**』のように、1を0に、0を1にする演算です。前者は十進数だと**-102**、後者は**101**です。"
      ],
      "metadata": {
        "id": "VwqqrZeDeMKT"
      }
    },
    {
      "cell_type": "code",
      "source": [
        "dec_A = -102\n",
        "print(dec_A)\n",
        "print(~dec_A)"
      ],
      "metadata": {
        "id": "ai_RDc4tgKjJ"
      },
      "execution_count": null,
      "outputs": []
    },
    {
      "cell_type": "markdown",
      "source": [
        "なんで「**0b10011010**」の形式を使わないのか？と思った方は、結構ここまでの内容が頭に入っている人です。ただ、ちょっとこれは難しい話です。\n",
        "\n",
        "ビットパターンとは**2の補数表現**で実際にメモリ上に格納される0と1の列を意味します。一方で「**0b**」で始まる表現はあくまで数値としての**二進数**で、負の数は**マイナス符号**で表現されるため、0b表現やbin()関数を使って、ビットパターンを直接覗く事ができません。"
      ],
      "metadata": {
        "id": "pwEWwFZ4gkWr"
      }
    },
    {
      "cell_type": "markdown",
      "source": [
        "## 🌀シフト演算子"
      ],
      "metadata": {
        "id": "T3h2JCVMrO9z"
      }
    },
    {
      "cell_type": "markdown",
      "source": [
        "> 昔々のその昔。シフト演算を**整数の二のべき乗倍**の用途で使っていた時代がありました。会社ではこれを知らない人が知っている人に、トロい計算をしているんじゃないよ！と馬鹿にされる、そんな時代があったのです。"
      ],
      "metadata": {
        "id": "jXe8arXljvZx"
      }
    },
    {
      "cell_type": "markdown",
      "source": [
        "ビット演算子の一種ですが、項目を別建てにしました。ビット演算とはメモリ上のビットパターンを右にずらしたり左にずらしたりする演算です。何に使うのか？と思うかもしれませんが、有名な使い方として「**数を２倍にするには左に1bitシフトする**」というものがあります。\n",
        "\n",
        "例えば**5**は二進数で**101**です。その２倍の10は二進数で**1010**です。左に1bitずれている事が分かると思います。コードで見てみましょう。"
      ],
      "metadata": {
        "id": "rflNZYaR2aM-"
      }
    },
    {
      "cell_type": "code",
      "source": [
        "dec_A = 5\n",
        "#二進表現を見てみる\n",
        "print(bin(dec_A))\n",
        "#左に\n",
        "1ビットシフト\n",
        "dec_B = dec_A << 1\n",
        "#2倍になった?\n",
        "print(dec_B)\n",
        "#ビットパターンが右に1bitずれてる？\n",
        "print(bin(dec_B))"
      ],
      "metadata": {
        "id": "zwam9Logmh4y"
      },
      "execution_count": null,
      "outputs": []
    },
    {
      "cell_type": "markdown",
      "source": [
        "これは、```dec_A * 2```とするより速いという事で、昔々では、プログラムの高速化テクニックとして使われていました。しかしながら、最近ではコンパイラやインタープリタが、**2のべき乗倍**になっている所を発見し、勝手にシフト演算を使ってくれる事もあります。ともあれ、最近の複雑なプログラム内では、プログラムの可読性を下げますので、「**トークの引き出しを増やす**」程度の話題という考えていればOKです。"
      ],
      "metadata": {
        "id": "RGg-YAWXm-s1"
      }
    },
    {
      "cell_type": "markdown",
      "source": [
        "## 🌀三項演算子"
      ],
      "metadata": {
        "id": "3K4tmBidrT_g"
      }
    },
    {
      "cell_type": "markdown",
      "source": [
        "三項演算子はプログラムを長々と書きたくない怠け者のための演算子です。プログラムを長々と書きたい人はプログラマに向いていないので、結果、全てのプログラマのために便利な演算子です。\n",
        "\n",
        "**if文**はこの次のノートで学びますが、別の言語(Java?/英語?)を習っている皆さんは**if文**が何かを分かっているでしょう。文字通り**もし**です。\n",
        "\n",
        "「もし変数xが偶数なら変数yに\"even\"を、それ以外なら\"odd\"を代入する」という仕様を満たすコードをJava考えてみましょう。\n",
        "```\n",
        "String y;\n",
        "if(x % 2 == 0){\n",
        "  y = \"even\";\n",
        "}else{\n",
        "  y = \"odd\"\n",
        "}\n",
        "```\n",
        "2で割って余りが無ければ偶数ですので、こんな感じになりますね。変数を定義して、場合分けによって、\"even\"か\"odd\"を代入する。この例自体は説明のためだけの例ですが、こんな感じのコードは実際にも頻出します。これを一行でやるのが三項演算子です。\n",
        "\n",
        "Javaの例でみてましょう。\n",
        "\n",
        "```\n",
        "String y = x % 2 == 0 ? \"even\" : \"odd\";\n",
        "```\n",
        "\n",
        "簡単になりました。この三項演算子は多くの言語で採用されています。ではPythonの例を見てみましょう。"
      ],
      "metadata": {
        "id": "84uGK9hpm02E"
      }
    },
    {
      "cell_type": "code",
      "source": [
        "x = 16\n",
        "\n",
        "y = x % 2 == 0 if \"even\" else \"odd\"\n",
        "print(y)"
      ],
      "metadata": {
        "id": "pUDMLL1yrF9R"
      },
      "execution_count": null,
      "outputs": []
    },
    {
      "cell_type": "markdown",
      "source": [
        "Trueが出てきましたか？では、16を奇数に変えてみましょう。"
      ],
      "metadata": {
        "id": "LGe4YX6EpEB5"
      }
    },
    {
      "cell_type": "code",
      "source": [
        "x = 15\n",
        "\n",
        "y = \"even\" if x % 2 == 0 else \"odd\"\n",
        "print(y)"
      ],
      "metadata": {
        "id": "hFJ7HSbErtce"
      },
      "execution_count": null,
      "outputs": []
    },
    {
      "cell_type": "markdown",
      "source": [
        "今度はFalseが出てきたと思います。\n",
        "\n",
        "このコードに若干の見にくさというか醜さがありますので、説明の為に補助的に括弧を使って説明します。(文法的には余計ではありますが、問題ありません）"
      ],
      "metadata": {
        "id": "fJaEqBTvrvqX"
      }
    },
    {
      "cell_type": "code",
      "source": [
        "y = \"even\" if (x % 2 == 0) else \"odd\""
      ],
      "metadata": {
        "id": "SkHvkkbpsAc4"
      },
      "execution_count": null,
      "outputs": []
    },
    {
      "cell_type": "markdown",
      "source": [
        "括弧の中が**True**なら**if**の値が返り、それ以外なら**else**の値が返ります。\n",
        "\n",
        "もちろん等号でなくてもかまいません。"
      ],
      "metadata": {
        "id": "1pi3XU_WsIIJ"
      }
    },
    {
      "cell_type": "code",
      "source": [
        "score = 89\n",
        "result = \"合格\" if score >= 60 else \"落第\"\n",
        "print(result)"
      ],
      "metadata": {
        "id": "guk5Mgj0scIJ"
      },
      "execution_count": null,
      "outputs": []
    },
    {
      "cell_type": "markdown",
      "source": [
        "この例ではテストの点数が60点以上なら合格、そうでなければ落第という文字がresultに代入されます。\n",
        "\n",
        "非常に見にくいですが、これは入れ子にもできます。"
      ],
      "metadata": {
        "id": "O_MWpbj_szia"
      }
    },
    {
      "cell_type": "code",
      "source": [
        "score = 89\n",
        "result = \"不可\" if (score < 60) else \"可\" if (score < 70) else \"良\" if (score < 80) else \"優\" if (score < 90) else \"秀\"\n",
        "print(result)"
      ],
      "metadata": {
        "id": "25uB8MvrtGfI"
      },
      "execution_count": null,
      "outputs": []
    },
    {
      "cell_type": "markdown",
      "source": [
        "## 🌀セイウチ演算子 (Python3.8から)"
      ],
      "metadata": {
        "id": "KWXRe0VQrkAv"
      }
    },
    {
      "cell_type": "markdown",
      "source": [
        "さて、この講義で学ぶ最後の演算子はセイウチ演算子というもの。Python3.8という比較的最近のバージョンから使えるようになった演算子です。これは代入と評価を一度に行える非常に便利な演算子です。\n",
        "\n",
        "では、この演算子、どんな時に使うのでしょうか？Pythonの学習が進んでいくと、例えばファイル入出力の時に使うと便利など、様々な使う機会が出てきますが、まずは非常に簡単な例で考えてみましょう。\n",
        "\n",
        "まず、以下のコードを実行して食べ物リストを作りましょう。"
      ],
      "metadata": {
        "id": "n9L65Sqwj5_t"
      }
    },
    {
      "cell_type": "code",
      "source": [
        "my_list = [\"クッキー\", \"チョコレート\", \"ビスケット\",\"飴ちゃん\", \"おせんべい\"]\n",
        "\n",
        "#リストの長さはlen(list)で得ます\n",
        "print(len(my_list))\n",
        "#当然長さが0のはず。"
      ],
      "metadata": {
        "id": "4LlAhIb0lO0E"
      },
      "execution_count": null,
      "outputs": []
    },
    {
      "cell_type": "markdown",
      "source": [
        "このリストはあなたのバッグに入っている食料のリストです。貴方は雪山で遭難してしまい、救助が来るまでこれらの食料で食いつなぐしかありません。\n",
        "\n",
        "以下のコードでは、このリストの末尾から一つ削除し、それを表示します。もしリストに何も入っていない場合は、**もう食べ物がありません**と表示します。コードの再生ボタンを押すたびに実行されますので、リストが空になるまで、何回か押してみましょう。最初から試したい場合は、一度、上のセルのコードを実行した後、また下のセルのコードを実行してみましょう。"
      ],
      "metadata": {
        "id": "S4UPRf5ElZph"
      }
    },
    {
      "cell_type": "code",
      "source": [
        "result = \"もう食べ物がありません。\" if (n := len(my_list)) == 0 else (my_list.pop() + \"を食べました。あと、食料は\" + str(n - 1) + \"個です。\")\n",
        "print(result) "
      ],
      "metadata": {
        "id": "-RK94qQVnWip"
      },
      "execution_count": null,
      "outputs": []
    },
    {
      "cell_type": "markdown",
      "source": [
        "何が起こったのかを解説します。まず変数**n**に着目して下さい。変数nは残りの食料の数を示すために使われています。if文の条件の所でリストの長さを得ています。通常なら長さが0かどうかを調べるには```len(my_list)```が**0**かどうかをしらべれば良いはずです。しかしながら、この例では```n := len(my_list)```と**0**を比較しています。\n",
        "\n",
        "```(n := len(my_list)) == 0```のコードは、まず```len(my_list)```が変数```c```に代入され、その```c```と```0```が比較されます。\n",
        "\n",
        "なんで、そんな事をするためにわざわざ**セイウチ演算子**などという新しい機能を追加したのでしょうか。もちろん、便利になるからです。\n",
        "\n",
        "変数**n**はもう一か所で登場します。```str(n - 1)```の所です。これは何をしているのでしょうか。```str()```は数値を文字列に変換するものですので無視してOKです。```n - 1```の部分です。食べ物を一つ抜く前のリストの長さが```n```ですので、```n - 1```は、食べ物を一つ抜いた後の残りの食べ物の数です。\n",
        "\n",
        "食べ物を一つ抜く操作は```my_list.pop()```です。この時点で配列の要素数は1つ減りますので、実は```n - 1```の代わりに```len(my_list)```と書いても、同じように動作します。（興味があったらやってみてください。）\n",
        "\n",
        "もちろん、この方法でもOKなのですが、```len(my_list)```という、リストの長さを調べる操作が二回登場します。ところがセイウチ演算子を使って、一回目の結果を変数に保存しておけば、それ以降は、その変数を使う事によって、もう一度同じ事をしなくても、住むという利点があります。配列の長さを得る```len(my_list)```はたいして重い操作ではありませんが、実際のプログラムでは往々にして重たい操作が頻出します。何も考えずに、気軽に繰り返して使っていると、プログラムはどんどん重たくなります。\n",
        "\n",
        "もちろん、代入と比較を別々の命令として書く事もできますが、セイウチ演算子を使いこなす事により、スマートで映えるプログラムになります。"
      ],
      "metadata": {
        "id": "fXmjSMC4qiLi"
      }
    },
    {
      "cell_type": "markdown",
      "source": [
        "## 🌀まとめ"
      ],
      "metadata": {
        "id": "sRac6H3Cvddz"
      }
    },
    {
      "cell_type": "markdown",
      "source": [
        "このノートブックでは、Pythonで使う演算子について学習しました。これまでに、リテラル、変数、データ型、演算子を学びましたが、まだこれではプログラムは書けません。\n",
        "\n",
        "次の**制御構造**を学んで初めてPythonでプログラムを書く準備が整います。それでは[講義サポートページ](https://github.com/YokoyamaLab/PythonBasics/)に戻り資料02に進んでください。"
      ],
      "metadata": {
        "id": "oNEsgpBzvfR6"
      }
    }
  ]
}