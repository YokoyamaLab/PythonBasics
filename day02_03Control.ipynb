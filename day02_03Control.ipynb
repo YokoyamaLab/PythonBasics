{
  "nbformat": 4,
  "nbformat_minor": 0,
  "metadata": {
    "colab": {
      "provenance": [],
      "include_colab_link": true
    },
    "kernelspec": {
      "name": "python3",
      "display_name": "Python 3"
    },
    "language_info": {
      "name": "python"
    }
  },
  "cells": [
    {
      "cell_type": "markdown",
      "metadata": {
        "id": "view-in-github",
        "colab_type": "text"
      },
      "source": [
        "<a href=\"https://colab.research.google.com/github/YokoyamaLab/PythonBasics/blob/main/day02_03Control.ipynb\" target=\"_parent\"><img src=\"https://colab.research.google.com/assets/colab-badge.svg\" alt=\"Open In Colab\"/></a>"
      ]
    },
    {
      "cell_type": "markdown",
      "source": [
        "# DAY2 資料03: 制御構文"
      ],
      "metadata": {
        "id": "LZdvVme13oNy"
      }
    },
    {
      "cell_type": "markdown",
      "source": [
        "## 🌀コンピュータをコンピュータたらしめるモノ\n"
      ],
      "metadata": {
        "id": "iM1WpSRd-dmm"
      }
    },
    {
      "cell_type": "markdown",
      "source": [
        "その昔、コンピュータ(電子計算機)の登場する前、私達はどのようなツールを使って計算していたのでしょうか。この中に習っていた人もいるかもしれませんが、**そろばん**というツールがあります。これを使えば暗算ではできないような計算をする事ができます。\n",
        "\n",
        "![](https://upload.wikimedia.org/wikipedia/commons/e/ea/Soroban.jpg)\n",
        "\n",
        "[CC 表示-継承 3.0](https://ja.wikipedia.org/wiki/%E3%81%9D%E3%82%8D%E3%81%B0%E3%82%93#/media/%E3%83%95%E3%82%A1%E3%82%A4%E3%83%AB:Soroban.jpg) on Wikimedia \n",
        "\n",
        "\n",
        "ただ、実際には、そろばんは**計算をするツール**ではなく、計算は人間の頭でやっています。そろばんは単に数字を覚えているだけですので、これはコンピュータで言うとメモリに相当します。\n",
        "\n"
      ],
      "metadata": {
        "id": "yYBRqZlk4ggB"
      }
    },
    {
      "cell_type": "markdown",
      "source": [
        "もう一つ、これは見たことが無いかもしれませんが、機械式計算機というものがありました。\n",
        "\n",
        "![](https://upload.wikimedia.org/wikipedia/commons/thumb/8/80/Arts_et_Metiers_Pascaline_dsc03869.jpg/640px-Arts_et_Metiers_Pascaline_dsc03869.jpg)\n",
        "\n",
        "[CC 表示-継承 3.0](https://commons.wikimedia.org/wiki/File:Arts_et_Metiers_Pascaline_dsc03869.jpg) on Wikimedia Commons\n",
        "\n",
        "これは1640年代に制作されたパスカルの計算機と呼ばれるものです。ダイヤル錠のように、数字を歯車の位置で合わせて、数字を表現し、足し算ができるという機械です。\n",
        "\n"
      ],
      "metadata": {
        "id": "3SEJI_Wt5eUC"
      }
    },
    {
      "cell_type": "markdown",
      "source": [
        "この**そろばん**と**機械式計算機**、**現代のコンピュータと最も異なっている箇所**はなんでしょうか？\n",
        "\n",
        "コンピュータアーキテクチャ系の講義ですでに習ったと思いますが『**プログラム内蔵方式**』あるいは『**ノイマン型コンピュータ**』という語がキーワードになります。\n",
        "\n",
        "そろばんはただのメモリ、機械式計算機がただの足し算マシーンであるのに対して、現代のコンピュータは、**どのように計算するかの手順を指示できる**という点が最も違います。それには、計算に使う数値だけではなく、計算の手順書もコンピュータが保存して実行する点が、今のコンピュータ(スマホもそうです)の技術のキモです。\n",
        "\n",
        "そういう意味では、このノートで学習する**制御構文**というのが最も重要だといえます。例えば皆さんが**足し算しかできないコンピュータ**を持っていたとしましょう。足し算しか機能が無いので、当然**3×5**のような掛け算はできません。でもプログラムで**0に3を5回足す**と書けるのであれば、その足し算しかできないコンピュータは**掛け算もできるコンピュータ**と言っても良いですよね？\n",
        "\n",
        "あるいは**割り算しかできないコンピュータ**があったとしましょう、そのコンピュータに二つ数値を入れると前の数字を後の数字で割った結果が出てきます。ところが、このコンピュータは、後の数字として0をいれると壊れてしまうという欠陥があったとします。これでは製品になりません。でも、プログラムで**もし後の数字が0ならエラーを表示する、そうでなければ割り算結果を表示する**と書けたらどうでしょうか、**ゼロ除算にも安心安全な割り算コンピュータ**が実現できます。\n",
        "\n",
        "ここで説明した**n回繰り返す**とか**もし～だったらこうする**というような手順を各方法を**制御構文**と呼びます。これが出来るだけで、コンピュータの物理的な能力を飛躍的に拡張できます。だから、皆さんのコンピュータはブラウザでこのColabのページを表示しつつも、別のタブでこっそり、YouTubeをみたり、ゲームをしたり、あるいは別の教科の宿題をやったりと、様々な異なる種類の作業をコンピュータという一つの箱に行わせる事でできる訳です。"
      ],
      "metadata": {
        "id": "fS5h5s4s8vqe"
      }
    },
    {
      "cell_type": "markdown",
      "source": [
        "## 🌀if文\n"
      ],
      "metadata": {
        "id": "Z-4unxOQBB7I"
      }
    },
    {
      "cell_type": "markdown",
      "source": [
        "まずPythonのif文を見てみましょう。"
      ],
      "metadata": {
        "id": "xfVvgxRtBSV-"
      }
    },
    {
      "cell_type": "code",
      "source": [
        "num = 5\n",
        "\n",
        "if num%2 == 0:\n",
        "  print(\"偶数\")\n",
        "else:\n",
        "  print(\"奇数\")"
      ],
      "metadata": {
        "id": "C60jlOaRHGFk"
      },
      "execution_count": null,
      "outputs": []
    },
    {
      "cell_type": "markdown",
      "source": [
        "実行すると**奇数**と表示されます。このプログラムは与えられた数字**num**が**もし2で割り切れるなら偶数**、**さもなければ奇数**と判定するプログラムです。\n",
        "\n",
        "**さて、ここまで、沢山のPythonの基本事項を学んできましたが、もっとも重要かつ、他の言語と比べて最も特異的な文法について説明していませんでした。**\n",
        "\n",
        "C系の言語を考えてみましょう。以下はJavaScriptで同じブログラムを書いた例です。"
      ],
      "metadata": {
        "id": "ve50t8-BIPNQ"
      }
    },
    {
      "cell_type": "code",
      "source": [
        "%%javascript\n",
        "let num = 5;\n",
        "if(num % 2 == 0){\n",
        "  console.log(\"偶数\");\n",
        "}else{\n",
        "  console.log(\"奇数\");\n",
        "}"
      ],
      "metadata": {
        "id": "P34gTMycJET1"
      },
      "execution_count": null,
      "outputs": []
    },
    {
      "cell_type": "markdown",
      "source": [
        "JavaScriptの出力はノート上ではなく、ブラウザのコンソールに出てきますので、Windowsなら**F12**を押してコンソールを表示してみてください。**奇数**と出てくるはずです。もちろんnumの代入を偶数に帰れば、偶数と表示されます。\n",
        "\n",
        "ではPythonとJavaScriptのプログラムを見比べてみてください。この両者の違いはなんでしょうか。一番目に付くのは**括弧の有無**ではないでしょうか。C系の言語はこの括弧で、if文の中など纏まったコードのブロックの範囲を表します。なので、同様のプログラムを以下の様に一行で書く事もできます。"
      ],
      "metadata": {
        "id": "xEmLQ4EAJahk"
      }
    },
    {
      "cell_type": "code",
      "source": [
        "%%javascript\n",
        "if(num % 2 == 0){console.log(\"偶数\");}else{console.log(\"奇数\");}"
      ],
      "metadata": {
        "id": "6nu-yZSMKP7M"
      },
      "execution_count": null,
      "outputs": []
    },
    {
      "cell_type": "markdown",
      "source": [
        "では括弧を使わずにPythonではどのようにコードブロックを表現するのでしょうか。\n",
        "\n",
        "それはインデントです。先ほどのプログラムをもう一度見てみましょう。"
      ],
      "metadata": {
        "id": "8N1tqnaIKU0D"
      }
    },
    {
      "cell_type": "code",
      "source": [
        "num = 5\n",
        "\n",
        "if num % 2 == 0:\n",
        "  print(\"偶数\")\n",
        "else:\n",
        "  print(\"奇数\")"
      ],
      "metadata": {
        "id": "D16LvCDSKdYx"
      },
      "execution_count": null,
      "outputs": []
    },
    {
      "cell_type": "markdown",
      "source": [
        "if文の条件が合致した時に実行されるブロックは、if文に続く、if文よりも一つインデントが深いブロックです。この場合は```print(\"偶数\")```の一行がそれに相当します。同様にelse文に属するブロックは```print(\"奇数\")```です。"
      ],
      "metadata": {
        "id": "J4wBbhhUKkUF"
      }
    },
    {
      "cell_type": "markdown",
      "source": [
        "さて、このプログラムは、一つ問題があって、numに小数値が与えられてしまっても、偶奇が表示されてしまうバグがあります。もちろん今は```num = 5 ```と書いてあるし、ここに自分が間違って小数値を入れてしまう事はないかもしれませんが、この数値が、ユーザが適当に入れてくるものだとしたら、もしかしたら小数を入れてくる不届き者が居ないとも限りません。\n",
        "\n",
        "* もし整数値以外なら\n",
        "    * エラーを表示\n",
        "* それ以外でもし2で割り切れるなら\n",
        "    * 偶数と表示\n",
        "* それ以外なら\n",
        "    * 奇数と表示\n",
        "\n",
        "このような場合分けをすれば、まず最初に整数でない場合を排除できます。条件を複数各場合、それが排他的であるならば、**elif文**を使います。もちろの**else if**の意味です。なお、ある変数の型を調べるには```type```関数を使い、下記のif文の条件の様に書きます。"
      ],
      "metadata": {
        "id": "OiK9mDqjLCSv"
      }
    },
    {
      "cell_type": "code",
      "source": [
        "num = 5.3\n",
        "\n",
        "print(type(num))\n",
        "\n",
        "if type(num) is not int:\n",
        "  print(\"エラー\")\n",
        "elif num % 2 == 0:\n",
        "  print(\"偶数\")\n",
        "else:\n",
        "  print(\"奇数\")"
      ],
      "metadata": {
        "id": "kHwrXzncMFHC"
      },
      "execution_count": null,
      "outputs": []
    },
    {
      "cell_type": "markdown",
      "source": [
        "この時numは小数値の5.3ですのでエラーと表示されます。これを整数値に直すときちんと偶奇判定ができます。"
      ],
      "metadata": {
        "id": "bQjFJnJnNB5o"
      }
    },
    {
      "cell_type": "markdown",
      "source": [
        "## 🌀match文"
      ],
      "metadata": {
        "id": "d5sleubtBEBt"
      }
    },
    {
      "cell_type": "markdown",
      "source": [
        "match文はif～elif～else文と機能は同じです。ただ条件が多数ある時(elif文が沢山必要な時)、ちょっとだけコードを素敵な見栄えにしてくれます。Python3.10からの新しい機能です。2023年正月の時点でGoogle Colabのバージョンは3.9台ですので、実行できませんが、もし3.10にアップデートされたら実行できるようになります。"
      ],
      "metadata": {
        "id": "AoPXShroBRa_"
      }
    },
    {
      "cell_type": "code",
      "source": [
        "#バージョンの確認\n",
        "!python --version"
      ],
      "metadata": {
        "id": "HzFVeSMLH-WL"
      },
      "execution_count": null,
      "outputs": []
    },
    {
      "cell_type": "code",
      "source": [
        "#バージョンが3.10以降なら動きます\n",
        "day = \"木\"\n",
        "\n",
        "match day:\n",
        "  case '月':\n",
        "    print('Monday')\n",
        "  case '火':\n",
        "    print('Tuesday')\n",
        "  case '水':\n",
        "    print('Wednesday')\n",
        "  case '木':\n",
        "    # dayが「木」ならここが実行されます\n",
        "    print('Thursday')\n",
        "  case '金':\n",
        "    print('Friday')\n",
        "  case '土':\n",
        "    print('Saturday')\n",
        "  case '日':\n",
        "    print('Sunday')\n",
        "  case _:\n",
        "    # どの条件にもマッチしない場合\n",
        "    print('??')"
      ],
      "metadata": {
        "id": "nskOwkp4e_9S"
      },
      "execution_count": null,
      "outputs": []
    },
    {
      "cell_type": "markdown",
      "source": [
        "## 🌀while文"
      ],
      "metadata": {
        "id": "gINiShXpBI41"
      }
    },
    {
      "cell_type": "markdown",
      "source": [
        "さて次はループです、ループには**while文**と**for文**があります。まずは単純な**While文**から見てみましょう。10の階乗を求めるコードです。"
      ],
      "metadata": {
        "id": "KOOjiyKvBS6l"
      }
    },
    {
      "cell_type": "code",
      "source": [
        "n = 10\n",
        "m = 1\n",
        "\n",
        "while n > 0:\n",
        "  m *= n\n",
        "  n = n - 1\n",
        "\n",
        "print(m)"
      ],
      "metadata": {
        "id": "nJ60oefvJSOm"
      },
      "execution_count": null,
      "outputs": []
    },
    {
      "cell_type": "markdown",
      "source": [
        "まず、**whileの条件**がチェックされます。**n**は**10**ですので**whileブロック**に進みます。**whileブロック**の中では、予め答えを格納するために1で初期化しておいた変数**m**に**n**を掛け合わせ、**n**を**1**減らします。\n",
        "\n",
        "そして**whileの条件**のチェックに戻ります。**n**は**9**ですので**whileブロック**に進みます。。。。と、これを**n**が**0**になるまで続けます。**n**が**0**なると**whileの条件**を満たさなくなりますので、whileを抜け、次の行の``print(m)```に進み、階乗の答えが表示されます。"
      ],
      "metadata": {
        "id": "wrkr5COKJqdc"
      }
    },
    {
      "cell_type": "markdown",
      "source": [
        "実は**while**には**if**と同様に**else**を欠くことができます。**else**は**whileの条件に合致しなくなった時、ループを抜ける前に一回だけ実行されるブロック**です。\n",
        "\n",
        "どのような動きをするか、実例で試してみましょう。皆さんの持っているSUICAに1000円チャージしてあるとして、改札を通るたびに数百円引かれるという場面を考えてみましょう。横浜の上大岡駅から鷹の台駅まで以下のルートになります。\n",
        "\n",
        "* 上大岡駅→横浜駅：199円（京急）\n",
        "* 横浜駅→国分寺駅：726円(ＪＲ)\n",
        "* 国分寺駅→鷹の台駅：147円（西武線）\n",
        "\n",
        "では、チャージした金額から次々、金額を引いていくプログラムを考えてみましょう。\n",
        "\n",
        "残高を変数**suica+**に入れて置き、料金は一区間毎にリスト**fee**に入れておきましょう。**while**ループにて、**fee**の先頭から一つづつ取り出し、**suica**から減らしていきます。リスト**fee**が空っぽになったらループを抜ければOKですね？"
      ],
      "metadata": {
        "id": "vIdVWJTxxqAC"
      }
    },
    {
      "cell_type": "code",
      "source": [
        "suica = 1000\n",
        "fee = [199,726,147]\n",
        "\n",
        "while len(fee) > 0:\n",
        "  suica -= fee.pop(0)\n",
        "\n",
        "print('ようこそ津田塾大学へ！Suicaの残金は', suica, '円です') "
      ],
      "metadata": {
        "id": "kQyk3PPrzpiS"
      },
      "execution_count": null,
      "outputs": []
    },
    {
      "cell_type": "markdown",
      "source": [
        "おっと、**残高がマイナス**になってしまいました。チャージが足りていないのに鷹の台駅に到着してしまうのは、バグですね。これを防ぐには、ループ内で料金を**suica**から引く前に、残高が料金以上である事を確認しなければなりません。**残高が足りなければ、エラーを吐いてループから抜けてしまいましょう。**\n",
        "\n",
        "ループから明示的に抜ける命令は**break**です。コード中に前のノートで学んだセイウチ演算子が出てきますので、意味を忘れた人は見なおしてくださいね。"
      ],
      "metadata": {
        "id": "vYuFC3xO2q0F"
      }
    },
    {
      "cell_type": "code",
      "source": [
        "suica = 1000\n",
        "fee = [199,726,147]\n",
        "\n",
        "while len(fee) > 0:\n",
        "  if(suica < (f := fee.pop(0))):\n",
        "    print('残高が足りません！チャージしてください！！')\n",
        "    break\n",
        "  suica -= f\n",
        "\n",
        "print('ようこそ津田塾大学へ！Suicaの残金は', suica, '円です') "
      ],
      "metadata": {
        "id": "m5OOM8fk32wZ"
      },
      "execution_count": null,
      "outputs": []
    },
    {
      "cell_type": "markdown",
      "source": [
        "おおっと。まだバグがあります。国分寺駅で**suica**の残高が足らず、足止めのはずなのに、「ようこそ津田塾大学へ」が表示されてしまいました。\n",
        "\n",
        "こんな時に**else文**が使えます。最後の**print**を**else**に入れてみましょう。"
      ],
      "metadata": {
        "id": "Ttxyb4uk4ar9"
      }
    },
    {
      "cell_type": "code",
      "source": [
        "suica = 1000\n",
        "fee = [199,726,147]\n",
        "\n",
        "while len(fee) > 0:\n",
        "  if(suica < (f := fee.pop(0))):\n",
        "    print('残高が足りません！チャージしてください！！')\n",
        "    break\n",
        "  suica -= f\n",
        "else:\n",
        "  print('ようこそ津田塾大学へ！Suicaの残金は', suica, '円です') "
      ],
      "metadata": {
        "id": "ZzecHtmi5l_k"
      },
      "execution_count": null,
      "outputs": []
    },
    {
      "cell_type": "markdown",
      "source": [
        "どうでしょうか？確認のために**suica**の残高を2000円にして実行してみましょう。分かりやすさのために、最終行(**while～else文**の外)で「プログラム終了」と表示するようにしました．"
      ],
      "metadata": {
        "id": "yrkMSZUt5q4t"
      }
    },
    {
      "cell_type": "code",
      "source": [
        "suica = 2000\n",
        "fee = [199,726,147]\n",
        "\n",
        "while len(fee) > 0:\n",
        "  if(suica < (f := fee.pop(0))):\n",
        "    print('残高が足りません！チャージしてください！！')\n",
        "    break\n",
        "  suica -= f\n",
        "else:\n",
        "  print('ようこそ津田塾大学へ！Suicaの残金は', suica, '円です')\n",
        "print('プログラム終了'); "
      ],
      "metadata": {
        "id": "udes4Mgg566J"
      },
      "execution_count": null,
      "outputs": []
    },
    {
      "cell_type": "markdown",
      "source": [
        "この場合は、「ようこそ津田塾大学へ！」と正しい残高が表示されました。\n",
        "\n",
        "この**else**についてちょっと説明します。**else**は**whileの条件を満たさなくなった時に、ループから抜ける前に実行**されます。すなわち、**fee**入れつが空っぽになったとき、すなわち鷹の台駅に到達したときに、条件を満たさなくなりますので、**else**が実行され「ようこそ津田塾大学へ！」と実行されます。\n",
        "\n",
        "一方で残高が足りない場合は、**if文**の中に入りエラーメッセージを表示した後、**break**でループから強制的に抜けてしまいます。その時**else**は実行されません。\n",
        "\n",
        "では、上記のプログラムのsuicaの残高を1000円に修正してみましょうか？"
      ],
      "metadata": {
        "id": "Xn70-Gkn59l_"
      }
    },
    {
      "cell_type": "code",
      "source": [
        "suica = 1000\n",
        "fee = [199,726,147]\n",
        "\n",
        "while len(fee) > 0:\n",
        "  if(suica < (f := fee.pop(0))):\n",
        "    print('残高が足りません！チャージしてください！！')\n",
        "    break\n",
        "  suica -= f\n",
        "else:\n",
        "  print('ようこそ津田塾大学へ！Suicaの残金は', suica, '円です')\n",
        "print('プログラム終了'); "
      ],
      "metadata": {
        "id": "2vZ4Nniv7LDc"
      },
      "execution_count": null,
      "outputs": []
    },
    {
      "cell_type": "markdown",
      "source": [
        "エラーを吐いた直後に**else**を実行せずにプログラムが終了しています。"
      ],
      "metadata": {
        "id": "r0fzQ_5v7Paj"
      }
    },
    {
      "cell_type": "markdown",
      "source": [
        "## 🌀for文"
      ],
      "metadata": {
        "id": "iFydg1vIBLNw"
      }
    },
    {
      "cell_type": "markdown",
      "source": [
        "実は、リストを『総なめ』するループを書く場合、**while文**よりも**for文**を使った方が、見栄え良く書けます。"
      ],
      "metadata": {
        "id": "9BnVygwnBTwk"
      }
    },
    {
      "cell_type": "code",
      "source": [
        "suica = 2000\n",
        "fee = [199,726,147]\n",
        "\n",
        "for f in fee:\n",
        "  if(suica < f):\n",
        "    print('残高が足りません！チャージしてください！！')\n",
        "    break\n",
        "  suica -= f\n",
        "else:\n",
        "  print('ようこそ津田塾大学へ！Suicaの残金は', suica, '円です')\n",
        "print('プログラム終了'); "
      ],
      "metadata": {
        "id": "vo4r5oRU8I69"
      },
      "execution_count": null,
      "outputs": []
    },
    {
      "cell_type": "markdown",
      "source": [
        "リスト**fee**の値が順次**f**に代入され、リストの全ての要素分だけループが回ります。先ほどの**while文**の例との違いは、**while**の方はループの中で**fee**の要素から一つづつ取り出しているのに対して、**for**ではリストの先頭から順次参照しているだけなので、**for文**で実装した方は、ループが終わった後も**fee**がそのままの状態です。\n",
        "\n",
        "もし、この説明でピンとこない人は、**while文**、**for文**の双方の最終行に```print(fee)```と加えて実行してみてください。ループを抜けた時点での**fee**の中身が表示されます。\n",
        "\n",
        "この様に**for文**はリスト等と共に利用する事が多いです。ついでにタプルや辞書や他のデータ型に適用した時どうなるか見てみましょう。"
      ],
      "metadata": {
        "id": "mrvBuYNj95Ls"
      }
    },
    {
      "cell_type": "code",
      "source": [
        "print('●文字列のリスト')\n",
        "for i in ['Aa','Bb','Cc']:\n",
        "  print(i)\n",
        "\n",
        "print('●数字のタプル')\n",
        "for i in (1,2.2,3+3j):\n",
        "  print(i)\n",
        "\n",
        "print('●辞書')\n",
        "for i in {'りんご':'apple','みかん':'mandarin orange','ぶどう':'grape'}:\n",
        "  print(i)\n",
        "print('●文字列は？')\n",
        "for i in '津田塾大学':\n",
        "  print(i)"
      ],
      "metadata": {
        "id": "G2gNbvva_tur"
      },
      "execution_count": null,
      "outputs": []
    },
    {
      "cell_type": "markdown",
      "source": [
        "さて、ここでプログラムが得意な皆さんは**for**の大事な使い方が出てきていない事に気づいたかと思います。たとえばC系の言語では以下の書き方ができます。\n",
        "\n",
        "```\n",
        "for(let c = 0; c < 10; c++){\n",
        "  // ここが10回繰り返される\n",
        "}\n",
        "```\n",
        "\n",
        "Pythonではこれをもう少し単純に書く事ができます。例えば10回繰り返したい時は次のようなコードになります。"
      ],
      "metadata": {
        "id": "WdCCTpCqA6HH"
      }
    },
    {
      "cell_type": "code",
      "source": [
        "for i in range(10):\n",
        "  print(i)"
      ],
      "metadata": {
        "id": "ACbniB_V_Kp0"
      },
      "execution_count": null,
      "outputs": []
    },
    {
      "cell_type": "markdown",
      "source": [
        "この**range関数**を使った例は以下のコードと**ほぼ**同等です。"
      ],
      "metadata": {
        "id": "sTdCEZlAC1GW"
      }
    },
    {
      "cell_type": "code",
      "source": [
        "for i in [0,1,2,3,4,5,6,7,8,9]:\n",
        "  print(i)"
      ],
      "metadata": {
        "id": "RFt35zwhDA00"
      },
      "execution_count": null,
      "outputs": []
    },
    {
      "cell_type": "markdown",
      "source": [
        "ここで**ほぼ**と書いたのは、**range**が、もし指定された要素数からなるリストを実際に生成していたら、大変な事になります。例えばrange(10000000000000)としたらどうでしょう？メモリがパンクしてしまいますよね？実はPython2まではそうなっていましたが、Python3では、リストの個々の要素はアクセスされる時まで生成されない仮想的なリストが帰ってくるようになりました。ここらへんの話は現時点では難しいので省略します。\n",
        "\n",
        "ついでに**range**の機能を見てみましょう。引数が一つの場合、例えば10なら、0から9までの数値を要素に持つ、長さ10の(仮想的な)リストが帰ってきました。引数が二つの場合は最初の引数が配列の開始の数になります。実際に見てみましょう。"
      ],
      "metadata": {
        "id": "6xI_ZGC4DG2U"
      }
    },
    {
      "cell_type": "code",
      "source": [
        "for i in range(5,10):\n",
        "  print(i)"
      ],
      "metadata": {
        "id": "ECEbIYBLDdwp"
      },
      "execution_count": null,
      "outputs": []
    },
    {
      "cell_type": "markdown",
      "source": [
        "引数三つ場合は、三つ目の引数で間隔が設定できます。"
      ],
      "metadata": {
        "id": "4ixW5VVFFbQe"
      }
    },
    {
      "cell_type": "code",
      "source": [
        "for i in range(5,10,2):\n",
        "  print(i)"
      ],
      "metadata": {
        "id": "vgdTAQ6ZFmOz"
      },
      "execution_count": null,
      "outputs": []
    },
    {
      "cell_type": "markdown",
      "source": [
        "つまり```range(x,y,z)```と会ったとすると、xから開始し間隔zでy未満の整数からなる仮想的なリストが返される。"
      ],
      "metadata": {
        "id": "-GdeVxfPF1er"
      }
    },
    {
      "cell_type": "markdown",
      "source": [
        "## 🌀try文"
      ],
      "metadata": {
        "id": "OWK0LE7NBN_4"
      }
    },
    {
      "cell_type": "markdown",
      "source": [
        "**if文**の所でも**while文**の所でも、エラーを出力するという例示をしました。実際プログラムを書いていると、特にWebやスマホのアプリのように、ユーザが何らかの入力をするプログラムは、何が入力されるか分かりませんので、プログラムが期待した入力かどうかを精査し、もし異なる場合はエラーを出力するという事は、よくあります。これは、そもそもプログラムの文法が間違っているようなエラーと対比して、**実行時エラー**と呼ばれます。\n",
        "\n",
        "Pythonそのものもエラーを吐きます。以下のコードはゼロ除算をするコードです。文法的には何も間違っていませんが、分母に0があるため数学的には間違いです。これは実行時エラーの典型的な例です。"
      ],
      "metadata": {
        "id": "Wv9VdViTBUqM"
      }
    },
    {
      "cell_type": "code",
      "source": [
        "a = 1\n",
        "b = 0\n",
        "c = a / b"
      ],
      "metadata": {
        "id": "naqIMxOsPYaO"
      },
      "execution_count": null,
      "outputs": []
    },
    {
      "cell_type": "markdown",
      "source": [
        "当然ですが、実行するとエラーで終了してしまいます。**ZeroDivisionError**というエラーが表示されたと思います。この説明で重要なのは「**終了してしまいます**」という部分です。\n",
        "\n",
        "もし皆さんが、**素敵な割り算アプリ**を作ったとして、ユーザがそれを使って、誤ってゼロ除算をしてしまったとします。そしたら、上記実行例のような**ZeroDivisionError**という無機質なメッセージがユーザに表示されて、しかもアプリが終了してしまいます。そんなアプリはどうでしょうか？当然口コミスコアは★１つが並んでしまうでしょう。\n",
        "\n",
        "ここで**ゼロ除算にも対応した素敵な割り算アプリ**としては２つの機能が必要でしょう。\n",
        "\n",
        "* ZeroDivisionErrorなんてエラーではなく、素敵なエラーメッセージを表示したい\n",
        "* プログラムが終了しちゃダメ\n",
        "\n",
        "これを実現するのが**例外処理**であり**try文**です。\n",
        "\n",
        "このZeroDivisionErrorの発出の仕組みを考えてみましょう。ゼロ除算が起こったとき、Pythonのインタプリターはそれを検知して、ZeroDivisionErrorという例外を発生させます。この例外は誰も掴まなければ、インタープリタが掴んで、エラーを表示しプログラムを異常終了させます。\n",
        "\n",
        "ここで重要なのは「**誰も掴まなければ**」の部分です。もし発生した例外を、皆さん自身のプログラムで掴めたら、皆さんのプログラム内で好きにエラー処理をする事ができます。\n",
        "\n",
        "では、ゼロ除算に対応した素敵な割り算アプリ実現のためにコードを追加してみましょう。"
      ],
      "metadata": {
        "id": "USXkXa20Pd8A"
      }
    },
    {
      "cell_type": "code",
      "source": [
        "# ゼロ除算\n",
        "try:\n",
        "  a = 1\n",
        "  b = 0\n",
        "  c = a / b\n",
        "except ZeroDivisionError:\n",
        "  print('0で割っちゃだめよ！')\n",
        "else:\n",
        "  print('割り算の答えは',c)\n",
        "finally:\n",
        "  print('次の割り算いってみよーぅ');"
      ],
      "metadata": {
        "id": "DolpJ8HYS7SY"
      },
      "execution_count": null,
      "outputs": []
    },
    {
      "cell_type": "markdown",
      "source": [
        "上記のセルを実行しても、さっきのようなPythonによる無味乾燥なエラーは出ずに、「0で割っちゃだめよ！」という優しいエラーを表示する事ができました。しかも、そこでプログラムは終了せず、「次の割り算行ってみよーぅ」の行も表示できました。\n",
        "\n",
        "これ、例えば**b**を**2**とかに変更してみると、きちんと答えが出ます。"
      ],
      "metadata": {
        "id": "GKY6HZYdUUqS"
      }
    },
    {
      "cell_type": "code",
      "source": [
        "# 1÷2\n",
        "try:\n",
        "  a = 1\n",
        "  b = 2\n",
        "  c = a / b\n",
        "except ZeroDivisionError:\n",
        "  print('0で割っちゃだめよ！')\n",
        "else:\n",
        "  print('割り算の答えは',c)\n",
        "finally:\n",
        "  print('次の割り算いってみよーぅ');"
      ],
      "metadata": {
        "id": "OqH3UoZ0VCa0"
      },
      "execution_count": null,
      "outputs": []
    },
    {
      "cell_type": "markdown",
      "source": [
        "ではZeroDivisionError以外を発生させたらどうでしょうか。例えば1を文字で割るとどうなるでしょう。試してみましょう。"
      ],
      "metadata": {
        "id": "igpQjbQVVH52"
      }
    },
    {
      "cell_type": "code",
      "source": [
        "# 1÷あ\n",
        "try:\n",
        "  a = 1\n",
        "  b = 'あ'\n",
        "  c = a / b\n",
        "except ZeroDivisionError:\n",
        "  print('0で割っちゃだめよ！')\n",
        "else:\n",
        "  print('割り算の答えは',c)\n",
        "finally:\n",
        "  print('次の割り算いってみよーぅ');"
      ],
      "metadata": {
        "id": "p0mSdkuCVSo2"
      },
      "execution_count": null,
      "outputs": []
    },
    {
      "cell_type": "markdown",
      "source": [
        "また、無味乾燥なエラーが出てしまいました。\n",
        "\n",
        "例外処理の仕組みを説明します。**tryブロック**無いで発生した例外(エラー)は**except**でキャッチする事ができます。キャッチされた場合は、無味乾燥なエラーを表示してプログラムを中止する代わりに、そのブロックが実行されます。もし何も例外(エラー)が発生しなかった場合は、**else**が実行されます。そして例外が発生してもしなくても**finally**が実行されます。もし**except**で明記されなかった(つまりつかみ損ねた)例外は、Pythonのインタープリタによって拿捕されて、無味乾燥なエラーを表示し、プログラムはストップしてしまいます。\n",
        "\n",
        "それではちょっと時間を与えますので、以下のコードに文字列など想定しない入力があった場合のエラーをキャッチし、素敵なエラーメッセージを表示するコードを追加してみてください。ヒントはさっきのエラーメッセージにあるエラーの名前です。"
      ],
      "metadata": {
        "id": "dr07iVGiVf8B"
      }
    },
    {
      "cell_type": "code",
      "source": [
        "# 「1÷あ」が入力された場合に発生するエラーをキャッチして素敵なエラーメッセージを表示してみよう\n",
        "try:\n",
        "  a = 1\n",
        "  b = 'あ'\n",
        "  c = a / b\n",
        "except ZeroDivisionError:\n",
        "  print('0で割っちゃだめよ！')\n",
        "else:\n",
        "  print('割り算の答えは',c)\n",
        "finally:\n",
        "  print('次の割り算いってみよーぅ');"
      ],
      "metadata": {
        "id": "W4GuPA7OZaY3"
      },
      "execution_count": null,
      "outputs": []
    },
    {
      "cell_type": "markdown",
      "source": [
        "Pythonには組み込みて沢山の例外・エラーが定義されています。[全リストはこちらを見て](https://docs.python.org/ja/3/library/exceptions.html)ください。\n",
        "\n",
        "この定義済みエラーを裁量する事で、ここの**if文**や**while文**の所にあったアプリケーションエラーを**try～except文**でキャッチする事ができます。\n",
        "\n",
        "まずはif文の所のコードをもう一度見てみましょう。"
      ],
      "metadata": {
        "id": "Jh3LE1iuZ50F"
      }
    },
    {
      "cell_type": "code",
      "source": [
        "num = 5.3\n",
        "\n",
        "if type(num) is not int:\n",
        "  print(\"エラー\")\n",
        "elif num % 2 == 1:\n",
        "  print(\"奇数\")\n",
        "else:\n",
        "  print(\"偶数\")"
      ],
      "metadata": {
        "id": "K52ASvf2a3Oz"
      },
      "execution_count": null,
      "outputs": []
    },
    {
      "cell_type": "markdown",
      "source": [
        "**2で割ったあまり**で偶奇を判断していますが、偶奇性は整数ならではの概念であるのに対して、剰余は小数値に対しても求められます。だから**if文**でint型以外の場合はエラーと表示するようにしています。\n",
        "\n",
        "では、これをPythonの通常の例外・エラーのお作法に直すとどうなるでしょうか。全体を**try文**で括ったあと、```print('エラー')```の代わりに、ここでエラーを発生させ、後でキャッチします。どんなエラーを発生させるのかについては、上記でリンクした組み込みの例外(エラー)でも良いし、自作のエラーでも良いのですが、自作のエラーを作るには**オブジェクト指向**の概念が必要になります。Pythonにおけるオブジェクト指向については、別の日に学びますので、ここはひとまず[組み込み例外](https://docs.python.org/ja/3/library/exceptions.html)から選びましょう。\n",
        "\n",
        "リストをざーっとみるとValueErrorというのがありますから、これを使えば良さそうです。(文法上は何を使っても問題ないのですが、**名は体を表す**の原則で選びましょう)"
      ],
      "metadata": {
        "id": "Vn29ddSdbU4H"
      }
    },
    {
      "cell_type": "code",
      "source": [
        "num = 5.3\n",
        "\n",
        "try:\n",
        "  if type(num) is not int:\n",
        "    raise ValueError()\n",
        "  elif num % 2 == 1:\n",
        "    print(\"奇数\")\n",
        "  else:\n",
        "    print(\"偶数\")\n",
        "except ValueError:\n",
        "  print(\"整数以外の偶奇性は求められません\")"
      ],
      "metadata": {
        "id": "cV-UyhPUf0Eu"
      },
      "execution_count": null,
      "outputs": []
    },
    {
      "cell_type": "markdown",
      "source": [
        "はい。これで、お作法に則ったエラーの表示が出来ました。エラーを表示するだけなら、別にこんな事までしなくて良いと考えるかもしれませんが、**try文**を使えば、そのブロックで発生する様々なエラーの処理をその末尾の**except**にまとめる事ができます。10行程度のプログラムではこの効能は薄いですが、もっと行数が多く、また入り組んだコードでは、この些細な見易さの向上が、すさまじい効能を発揮します。"
      ],
      "metadata": {
        "id": "ji9j2fgmgz_-"
      }
    },
    {
      "cell_type": "markdown",
      "source": [
        "# 🌀まとめ"
      ],
      "metadata": {
        "id": "sOrTy70Bhp7M"
      }
    },
    {
      "cell_type": "markdown",
      "source": [
        "このノートブックでは、**if文**、**match文**、**while文**、**for文**といった制御構造を学びました。また**try文**とともに、基礎的なエラー処理・例外処理について学びました。\n",
        "\n",
        "それでは、[講義サポートページ](https://github.com/YokoyamaLab/PythonBasics/)に戻り**資料03**に進んでください。"
      ],
      "metadata": {
        "id": "W-1crNqchqnu"
      }
    }
  ]
}