{
  "nbformat": 4,
  "nbformat_minor": 0,
  "metadata": {
    "colab": {
      "provenance": [],
      "authorship_tag": "ABX9TyO0kgrh+ftBunpGyKadyjRG",
      "include_colab_link": true
    },
    "kernelspec": {
      "name": "python3",
      "display_name": "Python 3"
    },
    "language_info": {
      "name": "python"
    }
  },
  "cells": [
    {
      "cell_type": "markdown",
      "metadata": {
        "id": "view-in-github",
        "colab_type": "text"
      },
      "source": [
        "<a href=\"https://colab.research.google.com/github/YokoyamaLab/PythonBasics/blob/main/day02_03TypeCheck.ipynb\" target=\"_parent\"><img src=\"https://colab.research.google.com/assets/colab-badge.svg\" alt=\"Open In Colab\"/></a>"
      ]
    },
    {
      "cell_type": "markdown",
      "source": [
        "# Day02 資料03: 型チェック"
      ],
      "metadata": {
        "id": "9mqXiPTmvcFw"
      }
    },
    {
      "cell_type": "code",
      "execution_count": null,
      "metadata": {
        "id": "lNkhPduRvajb"
      },
      "outputs": [],
      "source": []
    },
    {
      "cell_type": "markdown",
      "source": [
        "## 🌀まとめ "
      ],
      "metadata": {
        "id": "KrgfH9SNvsgZ"
      }
    },
    {
      "cell_type": "markdown",
      "source": [
        "このノートブックでは、これまで学んだ、データ型と制御構文を使って、ある変数に格納されたデータの型は何かを判定する方法を学習しました。\n",
        "\n",
        "[講義サポートページ](https://github.com/YokoyamaLab/PythonBasics/)に戻り**課題Q1**に進んでください。"
      ],
      "metadata": {
        "id": "o-485t8EvtLo"
      }
    }
  ]
}