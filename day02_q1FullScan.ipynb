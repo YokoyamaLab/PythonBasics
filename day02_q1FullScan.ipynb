{
  "nbformat": 4,
  "nbformat_minor": 0,
  "metadata": {
    "colab": {
      "provenance": [],
      "include_colab_link": true
    },
    "kernelspec": {
      "name": "python3",
      "display_name": "Python 3"
    },
    "language_info": {
      "name": "python"
    }
  },
  "cells": [
    {
      "cell_type": "markdown",
      "metadata": {
        "id": "view-in-github",
        "colab_type": "text"
      },
      "source": [
        "<a href=\"https://colab.research.google.com/github/YokoyamaLab/PythonBasics/blob/main/day02_q1FullScan.ipynb\" target=\"_parent\"><img src=\"https://colab.research.google.com/assets/colab-badge.svg\" alt=\"Open In Colab\"/></a>"
      ]
    },
    {
      "cell_type": "markdown",
      "source": [
        "# Day02 課題Q1"
      ],
      "metadata": {
        "id": "m4B0j1_P9TEy"
      }
    },
    {
      "cell_type": "markdown",
      "source": [
        "## 前準備"
      ],
      "metadata": {
        "id": "xOxbNAstXg6X"
      }
    },
    {
      "cell_type": "markdown",
      "source": [
        "今回の宿題は、実装に取り掛かる前に、まず前準備が必要です。**皆さん、Google Crassroomで示したアンケート**に答えてください。皆さんの名前と、今、皆さんのお財布に入っている小銭の金額を入力してください。そうしてできた**List**を、リッチな順にソートするプログラムを作るというのが課題です。なので、まずリストをみんなで作りましょう。\n",
        "\n",
        "ColabはGoogleのツールなのでGoogle Driveに保存したスプレッドシートをPythonのコードから読むことができます。またGoogle Formsで作ったアンケートはスプレッドシート形式で保存されますので、皆さんが答えたアンケート結果を、そのままColabから利用できます。\n",
        "\n",
        "ColabからGoogleスプレッドシートを読みこむのは、使いこなすと非常に便利ですので、まずはそのコードを見てみましょう。"
      ],
      "metadata": {
        "id": "ZQ0p57NlXjZE"
      }
    },
    {
      "cell_type": "markdown",
      "source": [
        "### Googleスプレッドシートの読み込み"
      ],
      "metadata": {
        "id": "iN2TUWUybmLy"
      }
    },
    {
      "cell_type": "markdown",
      "source": [
        "ClabからGoogleスプレッドシートを読みこむには**gspread**ライブラリを有効にし、ログインしなければなりません。以下のコードを実行するとそれが出来ます。(1つのノートで1回実行すればOKです)"
      ],
      "metadata": {
        "id": "snyOKz2fbo_p"
      }
    },
    {
      "cell_type": "code",
      "source": [
        "# 認証のためのコード\n",
        "from google.colab import auth\n",
        "auth.authenticate_user()\n",
        "import gspread\n",
        "from google.auth import default\n",
        "creds, _ = default()\n",
        "gc = gspread.authorize(creds)"
      ],
      "metadata": {
        "id": "41yWNM86brdr"
      },
      "execution_count": 1,
      "outputs": []
    },
    {
      "cell_type": "markdown",
      "source": [
        "次に、Googleスプレッドシートのファイル名を指定して読み込みます。ここでは[有名なアヤメのデータ](https://en.wikipedia.org/wiki/Iris_flower_data_set)をGoogleスプレッドシート形式で保存したものを読みこみます。元データは[こちら](https://docs.google.com/spreadsheets/d/1ak83Mr0L3IKaccDWI6zopgLNEXpDh0Zv6N1h6M9s7DA/edit?usp=sharing)から。コードは次の通り。"
      ],
      "metadata": {
        "id": "vyQFx2FSb849"
      }
    },
    {
      "cell_type": "code",
      "source": [
        "## スプレッドシートを開く（名前から）\n",
        "filename = \"Test Data Iris\"\n",
        "file = gc.open(filename)\n",
        "sheet = file.get_worksheet(0)\n",
        "list = sheet.get_all_values()\n",
        "print(list)"
      ],
      "metadata": {
        "id": "rsdAICuycCRy",
        "outputId": "c48378ee-cb59-400b-9636-13e6909c12a7",
        "colab": {
          "base_uri": "https://localhost:8080/"
        }
      },
      "execution_count": 2,
      "outputs": [
        {
          "output_type": "stream",
          "name": "stdout",
          "text": [
            "[['sepal_length', 'sepal_width', 'petal_length', 'petal_width', 'species'], ['5.1', '3.5', '1.4', '0.2', 'setosa'], ['4.9', '3', '1.4', '0.2', 'setosa'], ['4.7', '3.2', '1.3', '0.2', 'setosa'], ['4.6', '3.1', '1.5', '0.2', 'setosa'], ['5', '3.6', '1.4', '0.2', 'setosa'], ['5.4', '3.9', '1.7', '0.4', 'setosa'], ['4.6', '3.4', '1.4', '0.3', 'setosa'], ['5', '3.4', '1.5', '0.2', 'setosa'], ['4.4', '2.9', '1.4', '0.2', 'setosa'], ['4.9', '3.1', '1.5', '0.1', 'setosa'], ['5.4', '3.7', '1.5', '0.2', 'setosa'], ['4.8', '3.4', '1.6', '0.2', 'setosa'], ['4.8', '3', '1.4', '0.1', 'setosa'], ['4.3', '3', '1.1', '0.1', 'setosa'], ['5.8', '4', '1.2', '0.2', 'setosa'], ['5.7', '4.4', '1.5', '0.4', 'setosa'], ['5.4', '3.9', '1.3', '0.4', 'setosa'], ['5.1', '3.5', '1.4', '0.3', 'setosa'], ['5.7', '3.8', '1.7', '0.3', 'setosa'], ['5.1', '3.8', '1.5', '0.3', 'setosa'], ['5.4', '3.4', '1.7', '0.2', 'setosa'], ['5.1', '3.7', '1.5', '0.4', 'setosa'], ['4.6', '3.6', '1', '0.2', 'setosa'], ['5.1', '3.3', '1.7', '0.5', 'setosa'], ['4.8', '3.4', '1.9', '0.2', 'setosa'], ['5', '3', '1.6', '0.2', 'setosa'], ['5', '3.4', '1.6', '0.4', 'setosa'], ['5.2', '3.5', '1.5', '0.2', 'setosa'], ['5.2', '3.4', '1.4', '0.2', 'setosa'], ['4.7', '3.2', '1.6', '0.2', 'setosa'], ['4.8', '3.1', '1.6', '0.2', 'setosa'], ['5.4', '3.4', '1.5', '0.4', 'setosa'], ['5.2', '4.1', '1.5', '0.1', 'setosa'], ['5.5', '4.2', '1.4', '0.2', 'setosa'], ['4.9', '3.1', '1.5', '0.1', 'setosa'], ['5', '3.2', '1.2', '0.2', 'setosa'], ['5.5', '3.5', '1.3', '0.2', 'setosa'], ['4.9', '3.1', '1.5', '0.1', 'setosa'], ['4.4', '3', '1.3', '0.2', 'setosa'], ['5.1', '3.4', '1.5', '0.2', 'setosa'], ['5', '3.5', '1.3', '0.3', 'setosa'], ['4.5', '2.3', '1.3', '0.3', 'setosa'], ['4.4', '3.2', '1.3', '0.2', 'setosa'], ['5', '3.5', '1.6', '0.6', 'setosa'], ['5.1', '3.8', '1.9', '0.4', 'setosa'], ['4.8', '3', '1.4', '0.3', 'setosa'], ['5.1', '3.8', '1.6', '0.2', 'setosa'], ['4.6', '3.2', '1.4', '0.2', 'setosa'], ['5.3', '3.7', '1.5', '0.2', 'setosa'], ['5', '3.3', '1.4', '0.2', 'setosa'], ['7', '3.2', '4.7', '1.4', 'versicolor'], ['6.4', '3.2', '4.5', '1.5', 'versicolor'], ['6.9', '3.1', '4.9', '1.5', 'versicolor'], ['5.5', '2.3', '4', '1.3', 'versicolor'], ['6.5', '2.8', '4.6', '1.5', 'versicolor'], ['5.7', '2.8', '4.5', '1.3', 'versicolor'], ['6.3', '3.3', '4.7', '1.6', 'versicolor'], ['4.9', '2.4', '3.3', '1', 'versicolor'], ['6.6', '2.9', '4.6', '1.3', 'versicolor'], ['5.2', '2.7', '3.9', '1.4', 'versicolor'], ['5', '2', '3.5', '1', 'versicolor'], ['5.9', '3', '4.2', '1.5', 'versicolor'], ['6', '2.2', '4', '1', 'versicolor'], ['6.1', '2.9', '4.7', '1.4', 'versicolor'], ['5.6', '2.9', '3.6', '1.3', 'versicolor'], ['6.7', '3.1', '4.4', '1.4', 'versicolor'], ['5.6', '3', '4.5', '1.5', 'versicolor'], ['5.8', '2.7', '4.1', '1', 'versicolor'], ['6.2', '2.2', '4.5', '1.5', 'versicolor'], ['5.6', '2.5', '3.9', '1.1', 'versicolor'], ['5.9', '3.2', '4.8', '1.8', 'versicolor'], ['6.1', '2.8', '4', '1.3', 'versicolor'], ['6.3', '2.5', '4.9', '1.5', 'versicolor'], ['6.1', '2.8', '4.7', '1.2', 'versicolor'], ['6.4', '2.9', '4.3', '1.3', 'versicolor'], ['6.6', '3', '4.4', '1.4', 'versicolor'], ['6.8', '2.8', '4.8', '1.4', 'versicolor'], ['6.7', '3', '5', '1.7', 'versicolor'], ['6', '2.9', '4.5', '1.5', 'versicolor'], ['5.7', '2.6', '3.5', '1', 'versicolor'], ['5.5', '2.4', '3.8', '1.1', 'versicolor'], ['5.5', '2.4', '3.7', '1', 'versicolor'], ['5.8', '2.7', '3.9', '1.2', 'versicolor'], ['6', '2.7', '5.1', '1.6', 'versicolor'], ['5.4', '3', '4.5', '1.5', 'versicolor'], ['6', '3.4', '4.5', '1.6', 'versicolor'], ['6.7', '3.1', '4.7', '1.5', 'versicolor'], ['6.3', '2.3', '4.4', '1.3', 'versicolor'], ['5.6', '3', '4.1', '1.3', 'versicolor'], ['5.5', '2.5', '4', '1.3', 'versicolor'], ['5.5', '2.6', '4.4', '1.2', 'versicolor'], ['6.1', '3', '4.6', '1.4', 'versicolor'], ['5.8', '2.6', '4', '1.2', 'versicolor'], ['5', '2.3', '3.3', '1', 'versicolor'], ['5.6', '2.7', '4.2', '1.3', 'versicolor'], ['5.7', '3', '4.2', '1.2', 'versicolor'], ['5.7', '2.9', '4.2', '1.3', 'versicolor'], ['6.2', '2.9', '4.3', '1.3', 'versicolor'], ['5.1', '2.5', '3', '1.1', 'versicolor'], ['5.7', '2.8', '4.1', '1.3', 'versicolor'], ['6.3', '3.3', '6', '2.5', 'virginica'], ['5.8', '2.7', '5.1', '1.9', 'virginica'], ['7.1', '3', '5.9', '2.1', 'virginica'], ['6.3', '2.9', '5.6', '1.8', 'virginica'], ['6.5', '3', '5.8', '2.2', 'virginica'], ['7.6', '3', '6.6', '2.1', 'virginica'], ['4.9', '2.5', '4.5', '1.7', 'virginica'], ['7.3', '2.9', '6.3', '1.8', 'virginica'], ['6.7', '2.5', '5.8', '1.8', 'virginica'], ['7.2', '3.6', '6.1', '2.5', 'virginica'], ['6.5', '3.2', '5.1', '2', 'virginica'], ['6.4', '2.7', '5.3', '1.9', 'virginica'], ['6.8', '3', '5.5', '2.1', 'virginica'], ['5.7', '2.5', '5', '2', 'virginica'], ['5.8', '2.8', '5.1', '2.4', 'virginica'], ['6.4', '3.2', '5.3', '2.3', 'virginica'], ['6.5', '3', '5.5', '1.8', 'virginica'], ['7.7', '3.8', '6.7', '2.2', 'virginica'], ['7.7', '2.6', '6.9', '2.3', 'virginica'], ['6', '2.2', '5', '1.5', 'virginica'], ['6.9', '3.2', '5.7', '2.3', 'virginica'], ['5.6', '2.8', '4.9', '2', 'virginica'], ['7.7', '2.8', '6.7', '2', 'virginica'], ['6.3', '2.7', '4.9', '1.8', 'virginica'], ['6.7', '3.3', '5.7', '2.1', 'virginica'], ['7.2', '3.2', '6', '1.8', 'virginica'], ['6.2', '2.8', '4.8', '1.8', 'virginica'], ['6.1', '3', '4.9', '1.8', 'virginica'], ['6.4', '2.8', '5.6', '2.1', 'virginica'], ['7.2', '3', '5.8', '1.6', 'virginica'], ['7.4', '2.8', '6.1', '1.9', 'virginica'], ['7.9', '3.8', '6.4', '2', 'virginica'], ['6.4', '2.8', '5.6', '2.2', 'virginica'], ['6.3', '2.8', '5.1', '1.5', 'virginica'], ['6.1', '2.6', '5.6', '1.4', 'virginica'], ['7.7', '3', '6.1', '2.3', 'virginica'], ['6.3', '3.4', '5.6', '2.4', 'virginica'], ['6.4', '3.1', '5.5', '1.8', 'virginica'], ['6', '3', '4.8', '1.8', 'virginica'], ['6.9', '3.1', '5.4', '2.1', 'virginica'], ['6.7', '3.1', '5.6', '2.4', 'virginica'], ['6.9', '3.1', '5.1', '2.3', 'virginica'], ['5.8', '2.7', '5.1', '1.9', 'virginica'], ['6.8', '3.2', '5.9', '2.3', 'virginica'], ['6.7', '3.3', '5.7', '2.5', 'virginica'], ['6.7', '3', '5.2', '2.3', 'virginica'], ['6.3', '2.5', '5', '1.9', 'virginica'], ['6.5', '3', '5.2', '2', 'virginica'], ['6.2', '3.4', '5.4', '2.3', 'virginica'], ['5.9', '3', '5.1', '1.8', 'virginica']]\n"
          ]
        }
      ]
    },
    {
      "cell_type": "markdown",
      "source": [
        "配列の配列(二次元配列)として表形式のデータが得られました。"
      ],
      "metadata": {
        "id": "v_YU3J9Md4L_"
      }
    }
  ]
}