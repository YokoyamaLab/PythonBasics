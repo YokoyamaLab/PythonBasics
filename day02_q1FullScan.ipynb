{
  "nbformat": 4,
  "nbformat_minor": 0,
  "metadata": {
    "colab": {
      "provenance": [],
      "include_colab_link": true
    },
    "kernelspec": {
      "name": "python3",
      "display_name": "Python 3"
    },
    "language_info": {
      "name": "python"
    }
  },
  "cells": [
    {
      "cell_type": "markdown",
      "metadata": {
        "id": "view-in-github",
        "colab_type": "text"
      },
      "source": [
        "<a href=\"https://colab.research.google.com/github/YokoyamaLab/PythonBasics/blob/main/day02_q1FullScan.ipynb\" target=\"_parent\"><img src=\"https://colab.research.google.com/assets/colab-badge.svg\" alt=\"Open In Colab\"/></a>"
      ]
    },
    {
      "cell_type": "markdown",
      "source": [
        "# Day02 課題Q1"
      ],
      "metadata": {
        "id": "m4B0j1_P9TEy"
      }
    },
    {
      "cell_type": "markdown",
      "source": [
        "## 前準備"
      ],
      "metadata": {
        "id": "xOxbNAstXg6X"
      }
    },
    {
      "cell_type": "markdown",
      "source": [
        "今回の宿題は、実装に取り掛かる前に、まず前準備が必要です。**皆さん、Google Crassroomで示したアンケート**に答えてください。皆さんの名前と、今、皆さんのお財布に入っている小銭の金額を入力してください。そうしてできた**List**を、リッチな順にソートするプログラムを作るというのが課題です。なので、まずリストをみんなで作りましょう。\n",
        "\n",
        "ColabはGoogleのツールなのでGoogle Driveに保存したスプレッドシートをPythonのコードから読むことができます。またGoogle Formsで作ったアンケートはスプレッドシート形式で保存されますので、皆さんが答えたアンケート結果を、そのままColabから利用できます。\n",
        "\n",
        "ColabからGoogleスプレッドシートを読みこむのは、使いこなすと非常に便利ですので、まずはそのコードを見てみましょう。"
      ],
      "metadata": {
        "id": "ZQ0p57NlXjZE"
      }
    },
    {
      "cell_type": "markdown",
      "source": [
        "### Googleスプレッドシートの読み込み"
      ],
      "metadata": {
        "id": "iN2TUWUybmLy"
      }
    },
    {
      "cell_type": "markdown",
      "source": [
        "ClabからGoogleスプレッドシートを読みこむには**gspread**ライブラリを有効にし、ログインしなければなりません。以下のコードを実行するとそれが出来ます。(1つのノートで1回実行すればOKです)"
      ],
      "metadata": {
        "id": "snyOKz2fbo_p"
      }
    },
    {
      "cell_type": "code",
      "source": [
        "# 認証のためのコード\n",
        "from google.colab import auth\n",
        "auth.authenticate_user()\n",
        "import gspread\n",
        "from google.auth import default\n",
        "creds, _ = default()\n",
        "gc = gspread.authorize(creds)"
      ],
      "metadata": {
        "id": "41yWNM86brdr"
      },
      "execution_count": null,
      "outputs": []
    },
    {
      "cell_type": "markdown",
      "source": [
        "次に、Googleスプレッドシートのファイル名を指定して読み込みます。ここでは[有名なアヤメのデータ](https://en.wikipedia.org/wiki/Iris_flower_data_set)をGoogleスプレッドシート形式で保存したものを読みこみます。元データは[こちら](https://docs.google.com/spreadsheets/d/1ak83Mr0L3IKaccDWI6zopgLNEXpDh0Zv6N1h6M9s7DA/edit?usp=sharing)から。コードは次の通り。"
      ],
      "metadata": {
        "id": "vyQFx2FSb849"
      }
    },
    {
      "cell_type": "code",
      "source": [
        "## スプレッドシートを開く（名前から）\n",
        "filename = \"Test Data Iris\"\n",
        "file = gc.open(filename)\n",
        "sheet = file.get_worksheet(0)\n",
        "list = sheet.get_all_values()\n",
        "print(list)"
      ],
      "metadata": {
        "id": "rsdAICuycCRy"
      },
      "execution_count": null,
      "outputs": []
    },
    {
      "cell_type": "markdown",
      "source": [
        "実行するとスプレッドシートが、配列の配列(二次元配列)として得られました。ただ、このまま**print**で表示してもちょっと味気ないですね。\n",
        "\n",
        "では、ループで全て回して**species**と**petal_length**だけ、見やすく表示してみましょう。\n"
      ],
      "metadata": {
        "id": "v_YU3J9Md4L_"
      }
    },
    {
      "cell_type": "code",
      "source": [
        "# とりあえず１行目はヘッダなので抜いておく\n",
        "header = list.pop(0)\n",
        "\n",
        "print(header)\n",
        "\n",
        "for i in list:\n",
        "  print(i[4],i[1])\n"
      ],
      "metadata": {
        "id": "kH0iZppQf3aq"
      },
      "execution_count": null,
      "outputs": []
    },
    {
      "cell_type": "markdown",
      "source": [
        "## 課題"
      ],
      "metadata": {
        "id": "liv_UauelEe6"
      }
    },
    {
      "cell_type": "markdown",
      "source": [
        "さて"
      ],
      "metadata": {
        "id": "uTbbAZ6llFlV"
      }
    }
  ]
}