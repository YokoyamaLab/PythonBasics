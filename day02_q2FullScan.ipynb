{
  "nbformat": 4,
  "nbformat_minor": 0,
  "metadata": {
    "colab": {
      "provenance": [],
      "include_colab_link": true
    },
    "kernelspec": {
      "name": "python3",
      "display_name": "Python 3"
    },
    "language_info": {
      "name": "python"
    }
  },
  "cells": [
    {
      "cell_type": "markdown",
      "metadata": {
        "id": "view-in-github",
        "colab_type": "text"
      },
      "source": [
        "<a href=\"https://colab.research.google.com/github/YokoyamaLab/PythonBasics/blob/main/day02_q2FullScan.ipynb\" target=\"_parent\"><img src=\"https://colab.research.google.com/assets/colab-badge.svg\" alt=\"Open In Colab\"/></a>"
      ]
    },
    {
      "cell_type": "markdown",
      "source": [
        "# Day02 課題Q2"
      ],
      "metadata": {
        "id": "m4B0j1_P9TEy"
      }
    },
    {
      "cell_type": "markdown",
      "source": [
        "今回の課題は前準備が必要です。講義内に前準備だけ終わらせてしまいましょう。"
      ],
      "metadata": {
        "id": "2Re5MuciH--y"
      }
    },
    {
      "cell_type": "markdown",
      "source": [
        "## 前準備"
      ],
      "metadata": {
        "id": "xOxbNAstXg6X"
      }
    },
    {
      "cell_type": "markdown",
      "source": [
        "今回の宿題は、実装に取り掛かる前に、まず前準備が必要です。**皆さん、Google Crassroomで示したアンケート**に答えてください。\n",
        "\n",
        "このアンケートでは、皆さんの名前と、今、皆さんのお財布に入っている**小銭（コイン）**の金額を入力してください。そうしてできた**List**を、リッチな順にソートするプログラムを作るというのが課題です。なので、まずリストをみんなで作りましょう。(【注意】<u>お札やSuicaのチャージ金額等は含めないでください。データが生々しくなってしまいます</u>ので・・・、小銭でも抵抗がある人は偽名で登録もOKです)\n",
        "\n",
        "ColabはGoogleのツールなのでGoogle Driveに保存したスプレッドシートをPythonのコードから読むことができます。またGoogle Formsで作ったアンケートはスプレッドシート形式で保存されますので、皆さんが答えたアンケート結果を、そのままColabから利用できます。\n",
        "\n",
        "ColabからGoogleスプレッドシートを読みこむのは、使いこなすと非常に便利ですので、まずはそのコードを見てみましょう。"
      ],
      "metadata": {
        "id": "ZQ0p57NlXjZE"
      }
    },
    {
      "cell_type": "markdown",
      "source": [
        "### Googleスプレッドシートの読み込み"
      ],
      "metadata": {
        "id": "iN2TUWUybmLy"
      }
    },
    {
      "cell_type": "markdown",
      "source": [
        "ColabからGoogleスプレッドシートを読みこむには**gspread**ライブラリを有効にし、ログインしなければなりません。以下のコードを実行するとそれが出来ます。(1つのノートで1回実行すればOKです)"
      ],
      "metadata": {
        "id": "snyOKz2fbo_p"
      }
    },
    {
      "cell_type": "code",
      "source": [
        "# 認証のためのコード\n",
        "from google.colab import auth\n",
        "auth.authenticate_user()\n",
        "import gspread\n",
        "from google.auth import default\n",
        "creds, _ = default()\n",
        "gc = gspread.authorize(creds)"
      ],
      "metadata": {
        "id": "41yWNM86brdr"
      },
      "execution_count": null,
      "outputs": []
    },
    {
      "cell_type": "markdown",
      "source": [
        "次に、Googleスプレッドシートのファイル名を指定して読み込みます。ここでは[有名なアヤメのデータ](https://en.wikipedia.org/wiki/Iris_flower_data_set)をGoogleスプレッドシート形式で保存したものを読みこみます。読みこむデータは[こちら](https://docs.google.com/spreadsheets/d/1ak83Mr0L3IKaccDWI6zopgLNEXpDh0Zv6N1h6M9s7DA/edit?usp=sharing)で、学内限定でGoogle Drive上にあります。中身はこんな感じ。\n",
        "\n",
        " | sepal_length | sepal_width | petal_length | petal_width | species |\n",
        " |:------------:|:-----------:|:------------:|:-----------:|:------:|\n",
        "| 5.1| 3.5 | 1.4 | 0.2 | setosa |\n",
        "| 4.9 | 3  | 1.4 | 0.2 | setosa |\n",
        "| 4.7 | 3.2| 1.3 | 0.2 | setosa |\n",
        "\n",
        "それぞれの列の意味は次の通り\n",
        "* *sepal_length*: **ガクの長さ**\n",
        "* *sepal_width*: **ガクの幅**\n",
        "* *petal_length*: **花びらの長さ**\n",
        "* *petal_width*: **花びらの幅**\n",
        "* *species*: **生物分類上の種**\n",
        "\n",
        "\n",
        "Google Drive上に保存されたGoogleスプレッドシートのファイルを呼び出すにはいくつか方法があるのですが、一番お手軽なファイル名で呼び出す方法を使ってみましょう。コードは次の通り。"
      ],
      "metadata": {
        "id": "vyQFx2FSb849"
      }
    },
    {
      "cell_type": "code",
      "source": [
        "## スプレッドシートを開く（名前から）\n",
        "filename = \"Test Data Iris\"\n",
        "file = gc.open(filename)\n",
        "sheet = file.get_worksheet(0)\n",
        "table = sheet.get_all_values()\n",
        "print(table)"
      ],
      "metadata": {
        "id": "rsdAICuycCRy"
      },
      "execution_count": null,
      "outputs": []
    },
    {
      "cell_type": "markdown",
      "source": [
        "実行するとスプレッドシートが、配列の配列(二次元配列)として得られました。ただ、このまま**print**で表示してもちょっと味気ないですね。\n",
        "\n",
        "では、ループで全て回して**species**と**petal_length**だけ、見やすく表示してみましょう。\n"
      ],
      "metadata": {
        "id": "v_YU3J9Md4L_"
      }
    },
    {
      "cell_type": "code",
      "source": [
        "# とりあえず１行目はヘッダなので抜いておく\n",
        "header = table.pop(0)\n",
        "\n",
        "print(header)\n",
        "\n",
        "for raw in table:\n",
        "  for cell in raw:\n",
        "    print(cell, end=\"\\t\") # 出力のお尻を改行ではなくタブにしています\n",
        "  print() # ここで改行"
      ],
      "metadata": {
        "id": "kH0iZppQf3aq"
      },
      "execution_count": null,
      "outputs": []
    },
    {
      "cell_type": "markdown",
      "source": [
        "## 課題"
      ],
      "metadata": {
        "id": "liv_UauelEe6"
      }
    },
    {
      "cell_type": "markdown",
      "source": [
        "さて、以下の二つの準備が終わっている事を確認してください。\n",
        "\n",
        "* Google Classroomで通知したGoogle Formsアンケートに回答した\n",
        "* Google Drive上のGoogleスプレッドシートのColabo上での呼び出し方を理解した\n",
        "\n",
        "そして、本日までに以下の文法を学びました。\n",
        "\n",
        "* 代入\n",
        "* ループ\n",
        "* 大小比較\n",
        "\n",
        "これらを使えば、Googleスプレッドシートのデータを呼び出してソートする事が出来るはずです。\n",
        "\n",
        "アンケートで皆さんのお財布に入っている小銭の金額が登録されているはずです。ではお金持ち(小銭持ち？)順にソートして、**my_homework**という変数に格納するプログラムを作ってみましょう。\n",
        "\n",
        "ちなみに一番上にある【**認証のためのコード**】は、二回書く必要は無い(一度実行すればこのノート全域で有効)ので、以下のブロックには不要です。"
      ],
      "metadata": {
        "id": "uTbbAZ6llFlV"
      }
    },
    {
      "cell_type": "code",
      "source": [
        "## 課題のプログラムはここに書いてください。\n",
        "my_homework = []"
      ],
      "metadata": {
        "id": "fVKAp1nMFrZR"
      },
      "execution_count": null,
      "outputs": []
    },
    {
      "cell_type": "markdown",
      "source": [
        "次に以下のコードを実行して、きちんとソートされているか確認してください。"
      ],
      "metadata": {
        "id": "o67x1Nk2bKnb"
      }
    },
    {
      "cell_type": "code",
      "source": [
        "import pprint\n",
        "\n",
        "pprint.pprint(my_homework)"
      ],
      "metadata": {
        "id": "ovF9ZEOcbX8n"
      },
      "execution_count": null,
      "outputs": []
    },
    {
      "cell_type": "markdown",
      "source": [
        "ソートされていれば成功です。"
      ],
      "metadata": {
        "id": "P_PZ3U_nb1EE"
      }
    },
    {
      "cell_type": "markdown",
      "source": [
        "## 期限"
      ],
      "metadata": {
        "id": "Nz9GIjrUb9j0"
      }
    },
    {
      "cell_type": "markdown",
      "source": [
        "次回講義の１日前の23:59までに提出したものを評価します。かならず、一度実行してみてエラーの無い状態で提出しましょう。\n",
        "\n",
        "**お約束**\n",
        "\n",
        "次回講義の時にこの講義受講者のビリオネアランキングを発表します。"
      ],
      "metadata": {
        "id": "iU-nNA8Ib--S"
      }
    },
    {
      "cell_type": "markdown",
      "source": [
        "# おしまい"
      ],
      "metadata": {
        "id": "FLtKcV10cIav"
      }
    },
    {
      "cell_type": "markdown",
      "source": [
        "講義内で説明した方法に従って、この宿題を提出してください。お疲れ様でした。\n",
        "\n",
        "以下のコードは集計用のコードですので、変更しないでください。"
      ],
      "metadata": {
        "id": "a8yf6t-wcJBJ"
      }
    },
    {
      "cell_type": "code",
      "source": [
        "if not('marged_homework' in locals()):\n",
        "    marged_homework = {}\n",
        "marged_homework[id] = {\n",
        "    \"name\": name,\n",
        "    \"report\": my_homework.copy()\n",
        "}"
      ],
      "metadata": {
        "id": "OVuzC75VcJvz"
      },
      "execution_count": null,
      "outputs": []
    }
  ]
}