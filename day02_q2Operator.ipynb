{
  "nbformat": 4,
  "nbformat_minor": 0,
  "metadata": {
    "colab": {
      "provenance": [],
      "include_colab_link": true
    },
    "kernelspec": {
      "name": "python3",
      "display_name": "Python 3"
    },
    "language_info": {
      "name": "python"
    }
  },
  "cells": [
    {
      "cell_type": "markdown",
      "metadata": {
        "id": "view-in-github",
        "colab_type": "text"
      },
      "source": [
        "<a href=\"https://colab.research.google.com/github/YokoyamaLab/PythonBasics/blob/2024/day02_q2Operator.ipynb\" target=\"_parent\"><img src=\"https://colab.research.google.com/assets/colab-badge.svg\" alt=\"Open In Colab\"/></a>"
      ]
    },
    {
      "cell_type": "markdown",
      "source": [
        "# Day02 課題Q2"
      ],
      "metadata": {
        "id": "m4B0j1_P9TEy"
      }
    },
    {
      "cell_type": "code",
      "source": [
        "#@title 学籍番号、名前\n",
        "id = \"\" #@param {type:\"string\"}\n",
        "name = \"\" #@param {type:\"string\"}"
      ],
      "metadata": {
        "id": "2M39mrexCtx1"
      },
      "execution_count": 1,
      "outputs": []
    },
    {
      "cell_type": "markdown",
      "source": [
        "## 課題\n",
        "\n",
        "以下の方程式の答えを解の公式で求めよ。\n",
        "\n",
        "$$\n",
        "x^2+2x+3=0\n",
        "$$\n",
        "\n",
        "入力を汎用化するために以下のa、b、cを変数として準備し、そこから始めましょう。\n",
        "\n",
        "$$\n",
        "ax^2+b+x+c=0\n",
        "$$\n",
        "\n",
        "解の公式覚えていますよね？\n",
        "\n",
        "$$\n",
        "x_1 =\\frac{-b+\\sqrt{b^2-4ac}}{2a}, x_2 =\\frac{-b-\\sqrt{b^2-4ac}}{2a}\n",
        "$$\n",
        "\n",
        "では以下のコードブロックに作成してください。"
      ],
      "metadata": {
        "id": "uASa6AUoXxHx"
      }
    },
    {
      "cell_type": "code",
      "source": [
        "# 方程式の定義\n",
        "a = 1\n",
        "b = 2\n",
        "c = 3\n",
        "# 結果はx1,x2に代入せよ\n",
        "x1 = None\n",
        "x2 = None"
      ],
      "metadata": {
        "id": "28SmA2pgYqaS"
      },
      "execution_count": null,
      "outputs": []
    },
    {
      "cell_type": "markdown",
      "source": [
        "## 期限"
      ],
      "metadata": {
        "id": "Nz9GIjrUb9j0"
      }
    },
    {
      "cell_type": "markdown",
      "source": [
        "この時点で時間があれば講義内課題とし、時間がなければ宿題とします。指示に従ってください。"
      ],
      "metadata": {
        "id": "iU-nNA8Ib--S"
      }
    },
    {
      "cell_type": "markdown",
      "source": [
        "# おしまい"
      ],
      "metadata": {
        "id": "FLtKcV10cIav"
      }
    },
    {
      "cell_type": "markdown",
      "source": [
        "講義内で説明した方法に従って、この宿題を提出してください。お疲れ様でした。"
      ],
      "metadata": {
        "id": "a8yf6t-wcJBJ"
      }
    }
  ]
}