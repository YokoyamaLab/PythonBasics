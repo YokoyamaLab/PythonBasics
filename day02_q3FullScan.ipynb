{
  "nbformat": 4,
  "nbformat_minor": 0,
  "metadata": {
    "colab": {
      "provenance": [],
      "include_colab_link": true
    },
    "kernelspec": {
      "name": "python3",
      "display_name": "Python 3"
    },
    "language_info": {
      "name": "python"
    }
  },
  "cells": [
    {
      "cell_type": "markdown",
      "metadata": {
        "id": "view-in-github",
        "colab_type": "text"
      },
      "source": [
        "<a href=\"https://colab.research.google.com/github/YokoyamaLab/PythonBasics/blob/2024/day02_q3FullScan.ipynb\" target=\"_parent\"><img src=\"https://colab.research.google.com/assets/colab-badge.svg\" alt=\"Open In Colab\"/></a>"
      ]
    },
    {
      "cell_type": "markdown",
      "source": [
        "# Day02 課題Q3"
      ],
      "metadata": {
        "id": "m4B0j1_P9TEy"
      }
    },
    {
      "cell_type": "code",
      "source": [
        "#@title 学籍番号、名前\n",
        "id = \"\" #@param {type:\"string\"}\n",
        "name = \"\" #@param {type:\"string\"}"
      ],
      "metadata": {
        "id": "2M39mrexCtx1"
      },
      "execution_count": 1,
      "outputs": []
    },
    {
      "cell_type": "markdown",
      "source": [
        "### Googleスプレッドシートの読み込み"
      ],
      "metadata": {
        "id": "iN2TUWUybmLy"
      }
    },
    {
      "cell_type": "markdown",
      "source": [
        "前回やったアンケートの回答はGoogle Driveのスプレッドシートとして保存されています。ColabからGoogleスプレッドシートを読みこむには**gspread**ライブラリを有効にし、ログインしなければなりません。以下のコードを実行するとそれが出来ます。なお、初回はログインや権限付与の画面が出てきます。(1つのノートで1回実行すればOKです)"
      ],
      "metadata": {
        "id": "snyOKz2fbo_p"
      }
    },
    {
      "cell_type": "code",
      "source": [
        "# 認証のためのコード\n",
        "from google.colab import auth\n",
        "auth.authenticate_user()\n",
        "import gspread\n",
        "from google.auth import default\n",
        "creds, _ = default()\n",
        "gc = gspread.authorize(creds)"
      ],
      "metadata": {
        "id": "41yWNM86brdr"
      },
      "execution_count": 2,
      "outputs": []
    },
    {
      "cell_type": "markdown",
      "source": [
        "アンケートの回答は**ShoePrice**というファイル名で保存していますので、それを開いて**pprint**で表示してみましょう。"
      ],
      "metadata": {
        "id": "GjYDHN5vDYp7"
      }
    },
    {
      "cell_type": "code",
      "source": [
        "import pprint\n",
        "## スプレッドシートを開く（名前から）\n",
        "filename = \"ShoesPrice\"\n",
        "file = gc.open(filename)\n",
        "sheet = file.get_worksheet(0)\n",
        "table = sheet.get_all_values()\n",
        "pprint.pprint(table)"
      ],
      "metadata": {
        "id": "rsdAICuycCRy"
      },
      "execution_count": null,
      "outputs": []
    },
    {
      "cell_type": "markdown",
      "source": [
        "実行するとスプレッドシートが、配列の配列(二次元配列)として得られました。ただ、このまま**pprint**で表示してもちょっと味気ないですね。\n",
        "\n",
        "では、ループで全て回して見やすく表示してみましょう。\n"
      ],
      "metadata": {
        "id": "v_YU3J9Md4L_"
      }
    },
    {
      "cell_type": "code",
      "source": [
        "print(table[0][0]+'\\t'+table[0][1]) # 1行目の列名を表示\n",
        "\n",
        "for raw in table[1:]: # 2行目以降がデータ\n",
        "  #各行ここで処理されます\n",
        "  for cell in raw:\n",
        "    #各行の各セルがここで処理されます\n",
        "    print(cell, end=\"\\t\") # 出力のお尻はデフォルトでは改行ですが、タブに変更してまいす\n",
        "  print() # ここで改行"
      ],
      "metadata": {
        "id": "kH0iZppQf3aq"
      },
      "execution_count": null,
      "outputs": []
    },
    {
      "cell_type": "markdown",
      "source": [
        "## 課題"
      ],
      "metadata": {
        "id": "liv_UauelEe6"
      }
    },
    {
      "cell_type": "markdown",
      "source": [
        "本日までに以下の文法を学びました。\n",
        "\n",
        "* 代入\n",
        "* ループ\n",
        "* 大小比較\n",
        "\n",
        "これらを使えば、Googleスプレッドシートのデータを呼び出して処理する事が出来るはずです。\n",
        "\n",
        "では3つの課題に取り組んでください。\n",
        "\n",
        "1. 最大値をrich、最小値をpoorという変数に代入する\n",
        "2. 平均値をavgという変数に代入する\n",
        "3. 価格を降順で並べる\n",
        "\n"
      ],
      "metadata": {
        "id": "uTbbAZ6llFlV"
      }
    },
    {
      "cell_type": "markdown",
      "source": [
        "課題は以下のコードブロックに書いてください。"
      ],
      "metadata": {
        "id": "k_uR1SkQFWCK"
      }
    },
    {
      "cell_type": "code",
      "source": [
        "# 課題1\n",
        "max = None\n",
        "min = None"
      ],
      "metadata": {
        "id": "fM1JAyniFRhQ"
      },
      "execution_count": 5,
      "outputs": []
    },
    {
      "cell_type": "code",
      "source": [
        "# 課題2\n",
        "avg = None"
      ],
      "metadata": {
        "id": "Z6BYQMrJFYcc"
      },
      "execution_count": 6,
      "outputs": []
    },
    {
      "cell_type": "code",
      "source": [
        "## 課題3\n",
        "sorted = None"
      ],
      "metadata": {
        "id": "fVKAp1nMFrZR"
      },
      "execution_count": 7,
      "outputs": []
    },
    {
      "cell_type": "markdown",
      "source": [
        "次に以下のコードを実行して、きちんとソートされているか確認してください。"
      ],
      "metadata": {
        "id": "o67x1Nk2bKnb"
      }
    },
    {
      "cell_type": "code",
      "source": [
        "import pprint\n",
        "\n",
        "print('最大値:\\t'+str(max))\n",
        "print('最小値:\\t'+str(min))\n",
        "print('平均値:\\t'+str(avg))\n",
        "\n",
        "print('降順')\n",
        "pprint.pprint(sorted)"
      ],
      "metadata": {
        "id": "ovF9ZEOcbX8n",
        "collapsed": true
      },
      "execution_count": null,
      "outputs": []
    },
    {
      "cell_type": "markdown",
      "source": [
        "正しい値が出てきていたら成功です。提出してください。"
      ],
      "metadata": {
        "id": "P_PZ3U_nb1EE"
      }
    },
    {
      "cell_type": "markdown",
      "source": [
        "## 期限"
      ],
      "metadata": {
        "id": "Nz9GIjrUb9j0"
      }
    },
    {
      "cell_type": "markdown",
      "source": [
        "次回講義の１日前の23:59までに提出したものを評価します。かならず、一度実行してみてエラーの無い状態で提出しましょう。\n",
        "\n",
        "**お約束**\n",
        "\n",
        "次回講義の時にこの講義受講者の靴ランキングを発表します。"
      ],
      "metadata": {
        "id": "iU-nNA8Ib--S"
      }
    },
    {
      "cell_type": "markdown",
      "source": [
        "# おしまい"
      ],
      "metadata": {
        "id": "FLtKcV10cIav"
      }
    },
    {
      "cell_type": "markdown",
      "source": [
        "講義内で説明した方法に従って、この宿題を提出してください。お疲れ様でした。"
      ],
      "metadata": {
        "id": "a8yf6t-wcJBJ"
      }
    }
  ]
}