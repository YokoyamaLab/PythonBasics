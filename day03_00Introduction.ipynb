{
  "nbformat": 4,
  "nbformat_minor": 0,
  "metadata": {
    "colab": {
      "provenance": [],
      "include_colab_link": true
    },
    "kernelspec": {
      "name": "python3",
      "display_name": "Python 3"
    },
    "language_info": {
      "name": "python"
    }
  },
  "cells": [
    {
      "cell_type": "markdown",
      "metadata": {
        "id": "view-in-github",
        "colab_type": "text"
      },
      "source": [
        "<a href=\"https://colab.research.google.com/github/YokoyamaLab/PythonBasics/blob/main/day03_00Introduction.ipynb\" target=\"_parent\"><img src=\"https://colab.research.google.com/assets/colab-badge.svg\" alt=\"Open In Colab\"/></a>"
      ]
    },
    {
      "cell_type": "markdown",
      "source": [
        "# Day03 資料00: イントロダクション"
      ],
      "metadata": {
        "id": "OTHrqQcfOpUk"
      }
    },
    {
      "cell_type": "markdown",
      "source": [
        "Pythonは、Javaのような言語仕様からオブジェクト指向な言語では無い、手続き型の言語ですが、オブジェクト指向でプログラミングをする事ができます。様々なプログラミング言語を俯瞰すると、実はJavaのようなObject指向的な書き方以外出来ない言語の方が少ないかもしれません。\n",
        "\n",
        "Pythonはクラスを定義してオブジェクト指向で書く事もできますし、一行目から実行し最終行(あるいは終了命令)まで実行して終わりという手続き型でのプログラムを書く事も出来ます。これはWebアプリケーションのデファクトスタンダードでもあるJavaScriptと同じ特徴です。最近のモダンな言語の特徴でもあるので、ぜひとも習得しましょう。\n",
        "\n",
        "オブジェクト指向については、本日、その前段となる関数と、クラス定義・インスタンス作成について学びます。そして次回、グラフィック処理を学びつつ、クラスの継承などの概念を学びます。\n",
        "\n",
        "それでは、 [講義ホームページ](https://github.com/YokoyamaLab/PythonBasics)に戻って、Day03資料01から始めましょう！"
      ],
      "metadata": {
        "id": "RPCc1bpePJcH"
      }
    }
  ]
}