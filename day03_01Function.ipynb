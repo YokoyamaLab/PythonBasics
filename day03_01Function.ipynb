{
  "nbformat": 4,
  "nbformat_minor": 0,
  "metadata": {
    "colab": {
      "provenance": [],
      "include_colab_link": true
    },
    "kernelspec": {
      "name": "python3",
      "display_name": "Python 3"
    },
    "language_info": {
      "name": "python"
    }
  },
  "cells": [
    {
      "cell_type": "markdown",
      "metadata": {
        "id": "view-in-github",
        "colab_type": "text"
      },
      "source": [
        "<a href=\"https://colab.research.google.com/github/YokoyamaLab/PythonBasics/blob/main/day03_01Function.ipynb\" target=\"_parent\"><img src=\"https://colab.research.google.com/assets/colab-badge.svg\" alt=\"Open In Colab\"/></a>"
      ]
    },
    {
      "cell_type": "markdown",
      "source": [
        "# DAY3 資料01: 関数とラムダ式"
      ],
      "metadata": {
        "id": "gzGTq1PkkCM4"
      }
    },
    {
      "cell_type": "markdown",
      "source": [
        "さて次は関数の定義と利用です。すでに他の言語にて「関数とは何か」は理解しているものとして講義をすすめます。\n",
        "\n",
        "今週から、講義にメリハリをつけるために内容を**基礎**・**応用**・**発展**、**資料**に分類します。**基礎**は絶対に使いこなすべき事項、**応用**は情報科学科の学生としては覚えるべき事項、**発展**はプログラミングが得意になりたいなら習得すべき事項です。授業時間内は応用までをやり、時間があったら発展部分も説明します。教材は自学自習できるように作っていますので、興味がある人は読み進めてください。**資料**は、リファレンスとして参考までに載せておく情報です。授業では簡単に触れるにとどめますが、後々必要になる事もあるので、目を通しておきましょう。\n",
        "\n",
        "本ノートの内容は大きくは3点です。\n",
        "- 【資料】Python組み込みの関数\n",
        "- 【基礎】（普通の）関数\n",
        "- 【応用】高階関数\n",
        "- 【発展】ラムダ関数\n",
        "\n",
        "\n"
      ],
      "metadata": {
        "id": "rq5Uroo1ULAx"
      }
    },
    {
      "cell_type": "markdown",
      "source": [
        "## 🌀組み込み関数【資料】"
      ],
      "metadata": {
        "id": "klSAX0c2bBkx"
      }
    },
    {
      "cell_type": "markdown",
      "source": [
        "関数は自分で定義するものの他、Pythonが最初から準備している関数もあります。例えばこれまでにも```print(var)```で変数の内容を画面に表示していましたが、この```print```も組み込み関数です。\n",
        "\n",
        "[Pythonの組み込み変数一覧](https://docs.python.org/ja/3/library/functions.html)\n",
        "\n",
        "重要なのをいくつか紹介します。"
      ],
      "metadata": {
        "id": "zJzsZI_CbES6"
      }
    },
    {
      "cell_type": "code",
      "source": [
        "# 絶対値\n",
        "print( abs(-2) )\n",
        "\n",
        "# 最大・最小のものを得る\n",
        "print( max(1,2,3,-1,-2,-3) )\n",
        "print( min(1,2,3,-1,-2,-3) )\n",
        "\n",
        "# 四捨五入\n",
        "print( round(3.14) )\n",
        "# （2桁目を）四捨五入\n",
        "print( round(3.14, ndigits=1) )\n",
        "\n",
        "# 合計\n",
        "print( sum([1,2,3,4,5,6,7,8,9,10]) ) \n",
        "\n",
        "# 長さ\n",
        "print( len(\"文字列の長さ\"))\n",
        "print( len([\"リスト\",\"の\",\"長さ\"]))"
      ],
      "metadata": {
        "id": "3JZrRPd0biKX"
      },
      "execution_count": null,
      "outputs": []
    },
    {
      "cell_type": "markdown",
      "source": [
        "このようによく使う機能はすでにPythonによって関数として提供されています。もちろんこれ以外にもさまざまなライブラリを通じて、例えば深層学習だの画像処理だのを簡単に使う事も可能です。\n",
        "\n",
        "一点だけ組み込み関数に関して注意事項があります。それは**絶対に組み込み関数と同名の変数を作らない事**です。例えばmaxという変数を作ると、maxという組み込み関数が使えなくなってしまいます。"
      ],
      "metadata": {
        "id": "mPEdVCWedXE_"
      }
    },
    {
      "cell_type": "markdown",
      "source": [
        "## 🌀関数の定義【基礎】"
      ],
      "metadata": {
        "id": "rrDqsyrOVift"
      }
    },
    {
      "cell_type": "markdown",
      "source": [
        "### 💮最もシンプルな関数"
      ],
      "metadata": {
        "id": "cjLXdZByWN-T"
      }
    },
    {
      "cell_type": "markdown",
      "source": [
        "ではまず関数定義の基本形を学びましょう。最もシンプルなのは**引数**(ひきすう)も**返り値**(戻り値)も無い関数です。"
      ],
      "metadata": {
        "id": "5GYYiO4zXwrW"
      }
    },
    {
      "cell_type": "code",
      "source": [
        "# 常に12÷4の結果を表示する関数\n",
        "def division():\n",
        "  print(12 / 4)\n",
        "\n",
        "# 使ってみよう\n",
        "division()"
      ],
      "metadata": {
        "id": "-q0-GRKVWgE_"
      },
      "execution_count": null,
      "outputs": []
    },
    {
      "cell_type": "markdown",
      "source": [
        "### 💮引数をとる関数"
      ],
      "metadata": {
        "id": "Tnz7TLkgYkBI"
      }
    },
    {
      "cell_type": "markdown",
      "source": [
        "上記のコードだと、常に12÷4のみを行うだけの関数ですので、関数にする意味はありません。数学で習った関数を思い出してください、例えば一次関数はxの値によってyの値が変化しますよね？そのように入力した値に応じた出力をさせるのが『関数』です。\n",
        "\n",
        "それでは、入力した二つの数字の商を求める関数を作ってみましょう。"
      ],
      "metadata": {
        "id": "ELuQ24J0YoxF"
      }
    },
    {
      "cell_type": "code",
      "source": [
        "# a÷bの商を表示する関数\n",
        "def division(numerator, denominator):\n",
        "  print(numerator / denominator)\n",
        "\n",
        "# 使ってみよう\n",
        "division(12, 4)\n",
        "division(12, 3)"
      ],
      "metadata": {
        "id": "JgXlWxneZly0"
      },
      "execution_count": null,
      "outputs": []
    },
    {
      "cell_type": "markdown",
      "source": [
        "これで関数らしくなりました。引数を変える事により**division関数**は12÷4をする関数にも、12÷3をする関数にもなります。\n",
        "\n",
        "これは馬鹿らしい程単純な例ですが、プログラミングをする上で非常に重要です。似たような処理がプログラムのあちこちに書かれるよりは、それを関数として抽象化してまとめる事により、コードのメンテナンス性が向上するし、見た目も素敵になります。"
      ],
      "metadata": {
        "id": "Rash2RwpcTFi"
      }
    },
    {
      "cell_type": "markdown",
      "source": [
        "### 💮値を返す関数"
      ],
      "metadata": {
        "id": "9aWfpTObXrDC"
      }
    },
    {
      "cell_type": "markdown",
      "source": [
        "引数にて関数に値を渡す事は説明しましたが、関数から値を返す事も当然できます。\n",
        "\n",
        "割り算関数は、関数内部で結果を表示していましたが、結果を返したい場合を考えてみましょう。"
      ],
      "metadata": {
        "id": "VLsGHaC6dSye"
      }
    },
    {
      "cell_type": "code",
      "source": [
        "# a÷bの商を返す関数\n",
        "def division(numerator, denominator):\n",
        " return numerator / denominator\n",
        "\n",
        "# 使ってみよう(関数は商を返してくるのでここで表示する)\n",
        "print(division(12, 4))\n",
        "# あるいは結果を変数に代入する\n",
        "result = division(12, 3)\n",
        "print(result)"
      ],
      "metadata": {
        "id": "NlVrmZv9eNfF"
      },
      "execution_count": null,
      "outputs": []
    },
    {
      "cell_type": "markdown",
      "source": [
        "### 💮複数の値を返す関数"
      ],
      "metadata": {
        "id": "LL3iU65VfC98"
      }
    },
    {
      "cell_type": "markdown",
      "source": [
        "ここで勘の良い皆さんはモヤモヤする訳です。\n",
        "\n",
        "「引数は二つ渡しているのに、返り値は一つじゃなきゃだめなの？」と。\n",
        "\n",
        "もちろん複数の返り値を返す事も可能です。それでは、割り算関数を、商と余りの二値を返す関数に改造してみましょう。"
      ],
      "metadata": {
        "id": "fj33AXakfEV4"
      }
    },
    {
      "cell_type": "code",
      "source": [
        "# a÷bの商と余りを返す関数\n",
        "def division(numerator, denominator):\n",
        "  remainder = numerator % denominator\n",
        "  quotient = int((numerator - remainder)/denominator) # 商は小数値になるのでint()で整数値にしておく\n",
        "  return quotient, remainder\n",
        "\n",
        "r, q = division(12, 5)\n",
        "print('商', r)\n",
        "print('余', q)"
      ],
      "metadata": {
        "id": "5KsORpxffc8X"
      },
      "execution_count": null,
      "outputs": []
    },
    {
      "cell_type": "markdown",
      "source": [
        "### 💮引数の順序なんて覚えてられない人へ【応用】"
      ],
      "metadata": {
        "id": "UjVUWat5jG9J"
      }
    },
    {
      "cell_type": "markdown",
      "source": [
        "この割り算関数は、『**第一引数**割る**第二引数**』というデザインになっています。ところが、これを覚えて置くのは非常に面倒です。万が一『**第一引数**分の**第二引数**』と考えてしまうと、計算が逆になってしまいます。\n",
        "\n",
        "そんな皆さん向けの書き方があります。関数呼び出しの際に、**引数の名前**を使って引数を渡してやる事ができます。そうすれば、順序は関係なくなります。"
      ],
      "metadata": {
        "id": "8iY7IIVVjQtV"
      }
    },
    {
      "cell_type": "code",
      "source": [
        "def division(numerator, denominator):\n",
        "  remainder = numerator % denominator\n",
        "  quotient = int((numerator - remainder)/denominator)\n",
        "  return quotient, remainder\n",
        "\n",
        "r, q = division(numerator=12, denominator=5)\n",
        "print('商', r)\n",
        "print('余', q)\n",
        "#順番を逆にしても大丈夫\n",
        "r, q = division(denominator=5, numerator=12)\n",
        "print('商', r)\n",
        "print('余', q)"
      ],
      "metadata": {
        "id": "vTPDWJKHk8bK"
      },
      "execution_count": null,
      "outputs": []
    },
    {
      "cell_type": "markdown",
      "source": [
        "### 💮返り値の順序も覚えてられない人へ【応用】"
      ],
      "metadata": {
        "id": "72VZ8R4mqigx"
      }
    },
    {
      "cell_type": "markdown",
      "source": [
        "返り値も同様に順序ではなくて名前付きでアクセスしたい場合があります。Pythonは複数の値を返す時、それがタプルであるかのように動作します。タプルはリスト同様順番が重要ですので、このままでは、名前付きでアクセスできません。\n",
        "\n",
        "そこでちょっとだけ**resutn文**を改変して、辞書を返すようにする事で、順序に依らず、名前でアクセスできます。"
      ],
      "metadata": {
        "id": "UVSCKp6zqjQA"
      }
    },
    {
      "cell_type": "code",
      "source": [
        "def division(numerator, denominator):\n",
        "  remainder = numerator % denominator\n",
        "  quotient = int((numerator - remainder)/denominator)\n",
        "  return {'quotient':quotient, 'remainder':remainder}\n",
        "\n",
        "result = division(numerator=12, denominator=5)\n",
        "print('商', result[\"quotient\"])\n",
        "print('余', result[\"remainder\"])\n",
        "#順番を逆にしても大丈夫\n",
        "result = division(denominator=5, numerator=12)\n",
        "print('余', result[\"remainder\"])\n",
        "print('商', result[\"quotient\"])"
      ],
      "metadata": {
        "id": "KD6uGKsCpVzk"
      },
      "execution_count": null,
      "outputs": []
    },
    {
      "cell_type": "markdown",
      "source": [
        "### 💮引数にデフォルトの値を定義する\n",
        "\n"
      ],
      "metadata": {
        "id": "ydpUNwE1sjnx"
      }
    },
    {
      "cell_type": "markdown",
      "source": [
        "ここまで割り算の商と余りを出す関数を作ってきましたが、この関数は2で割った時の余りをみる事によって、前のノートでやった偶数奇数判定にも使えます。\n",
        "\n",
        "ですが、毎回に**denominator**に**2**を代入するのはめんどくさいですので、これを省略できるようにしましょう。つまり**denominator**が指定されていなかったら、自動で**2**が代入されるようにします。"
      ],
      "metadata": {
        "id": "8vsQUAWkss44"
      }
    },
    {
      "cell_type": "code",
      "source": [
        "def division(numerator, denominator=2):\n",
        "  remainder = numerator % denominator\n",
        "  quotient = int((numerator - remainder)/denominator)\n",
        "  return {'quotient':quotient, 'remainder':remainder}\n",
        "\n",
        "result = division(15)\n",
        "if result['remainder'] == 1:\n",
        "  print('奇数')\n",
        "else:\n",
        "  print('偶数')"
      ],
      "metadata": {
        "id": "6e7cPKCVtP4p"
      },
      "execution_count": null,
      "outputs": []
    },
    {
      "cell_type": "markdown",
      "source": [
        "```division(15)```と引数が一つだけしか指定されていませんが、第二引数には```def division(numerator, denominator=2):```と***2***がデフォルト値として指定されていますので、2で割ったときの商と余りを返しています。\n",
        "\n",
        "若干話がそれますが、上記の偶奇判定の部分は以下のように簡単に書く事ができます。"
      ],
      "metadata": {
        "id": "UefA0BpvskRF"
      }
    },
    {
      "cell_type": "code",
      "source": [
        "print('奇数' if division(15)['remainder'] == 1 else '偶数')"
      ],
      "metadata": {
        "id": "4uzVIYxrvChO"
      },
      "execution_count": null,
      "outputs": []
    },
    {
      "cell_type": "markdown",
      "source": [
        "まず式としては以前学んだ**三項演算子**の形になっています。ここで```division(15)['remainder']```の書き方を不思議に思うかもしれませんが、これはよく使う正しい書き方です。```division(15)```は辞書型を返す関数ですので、この関数呼び出しは全体で、辞書型の変数であると考える事ができます。つまり、以下のコードの省略形が```division(15)['remainder']```であると考えます。"
      ],
      "metadata": {
        "id": "ZzDEgaakvhCL"
      }
    },
    {
      "cell_type": "markdown",
      "source": [],
      "metadata": {
        "id": "DBl9hurPRqBs"
      }
    },
    {
      "cell_type": "code",
      "source": [
        "result = division(15)\n",
        "result['remainder']"
      ],
      "metadata": {
        "id": "cLarYWlUwUci"
      },
      "execution_count": null,
      "outputs": []
    },
    {
      "cell_type": "markdown",
      "source": [
        "さて、先ほどのコードは以下の様に省略的に書き換えられますがなぜか分かりますか？"
      ],
      "metadata": {
        "id": "qZN3eLdDNkZF"
      }
    },
    {
      "cell_type": "code",
      "source": [
        "print('奇数' if division(15)['remainder'] else '偶数')"
      ],
      "metadata": {
        "id": "GN8OMcZAOIJX"
      },
      "execution_count": null,
      "outputs": []
    },
    {
      "cell_type": "markdown",
      "source": [
        "```==1```が省略されてる点に注目してください。\n",
        "\n",
        "**リテラルと変数**の所でブール型を学びましたが、以下のような説明がありました。\n",
        "\n",
        "* **なお、実際に、Pythonではブール型のTrueは整数の1、Falseが整数の0と同等とされています。**\n",
        "\n",
        "これを踏まえてif文の条件を見てみましょう。```division(15)['remainder']```は、15の剰余を返しますので、15が奇数なら1、偶数なら0を返します。一方で**if文の条件**という視点では、```division(15)['remainder']```が**1ならTrue**と解釈され、**0ならFalse**と解釈されます。つまり```==1```が無くても、剰余がそのまま偶奇判定のTrueとFalseになる訳です。ちょっとした豆知識ですが、偶奇判定以外にも活用場面は結構ありますので、覚えて置きましょう。\n"
      ],
      "metadata": {
        "id": "P47nek4xORkp"
      }
    },
    {
      "cell_type": "markdown",
      "source": [
        "### 💮引数の型を指定する (colab環境では動作しません) ※参考"
      ],
      "metadata": {
        "id": "mzUqc4Ix0tSX"
      }
    },
    {
      "cell_type": "markdown",
      "source": [
        "Pythonは**弱い型付け**の言語で、変数定義時に型を指定する必要はありません。この事を時々「Pythonの変数には型が無い」と勘違いする人がいますが「型はありまぁす！」。型は自動で推測、変換しているので、明示的に扱う事は少ないのですが、内部的には変数の値は型と共に管理されています。\n",
        "\n",
        "型指定しなくて良いというのは利点ではありますが、それはそれでめんどくさい問題を引き起こします。例えば引数に文字が与えられた時、もちろん実行時に割りあにエラーとなりますが、もし引数は整数だよと予め指定できれば、コーディング時にエラーを検知できます。\n",
        "\n",
        "Pythonでは**型ヒント**という文法を使って、引数と戻り値の型を指定できます。ただJava等の強い型付けの言語とは異なっており、厳密に言うと「**Pythonの文法チェッカに型のヒントを伝えられます**」という程度にすぎません。\n",
        "\n",
        "それでは割り算関数に戻りましょう、二つの引数は整数型(int)で、戻り値は辞書型(dict)です。では書き方を見てみましょう。（ただしこれはあくまでも型チェックツールに対して型情報を与えるだけですので、プログラムを書いているエディタに型チェックツールをインストールする必要があります。Colabではそのようなツールは無いのでサポートされません。）"
      ],
      "metadata": {
        "id": "SrnHmVw500_o"
      }
    },
    {
      "cell_type": "code",
      "source": [
        "def division(numerator:int, denominator:int = 2) -> dict:\n",
        "  remainder = numerator % denominator\n",
        "  quotient = int((numerator - remainder)/denominator)\n",
        "  return {'quotient':quotient, 'remainder':remainder}"
      ],
      "metadata": {
        "id": "nA7KNnAE7C-B"
      },
      "execution_count": null,
      "outputs": []
    },
    {
      "cell_type": "markdown",
      "source": [
        "駆け足で関数に関する沢山の機能を見てきましたが、まだまだ続きます。\n",
        "\n",
        "さて、次の高階関数を学習に使いますので、以下の数を二倍にする関数と二分の一にする関数を定義しましょう。"
      ],
      "metadata": {
        "id": "0-gy_0MG0sYh"
      }
    },
    {
      "cell_type": "code",
      "source": [
        "def double(x):\n",
        "  return x * 2\n",
        "\n",
        "def half(x):\n",
        "  return x / 2"
      ],
      "metadata": {
        "id": "Olkku_2_00iL"
      },
      "execution_count": null,
      "outputs": []
    },
    {
      "cell_type": "markdown",
      "source": [
        "### 🤯講義内演習：関数を作ってみる"
      ],
      "metadata": {
        "id": "-TRPNxeBVDEx"
      }
    },
    {
      "cell_type": "markdown",
      "source": [
        "制限時間5分の問題です。\n",
        "\n",
        "【問】二つの整数を引数にとり、小さい順に二つの整数並べて返す関数を作る\n",
        "\n",
        "【ヒント】以下の(Pythonデフォルトの)関数は役に立つかもしれない\n",
        "```\n",
        "# 引数の中で一番大きな数を返す\n",
        "max(val1,val2,val3,val4)\n",
        "# 引数の中で一番小さな数を返す\n",
        "min(val1,val2,val3,val4)\n",
        "```\n",
        "\n",
        "【解答】以下のコードブロックのmin_max関数を改造して題意を満たすコードを実装せよ\n"
      ],
      "metadata": {
        "id": "XuYK2r7fVfuA"
      }
    },
    {
      "cell_type": "code",
      "source": [
        "_def min_max():\n",
        "  #ここにコードを書く"
      ],
      "metadata": {
        "id": "wosuOq83WmJ7"
      },
      "execution_count": null,
      "outputs": []
    },
    {
      "cell_type": "markdown",
      "source": [
        "【答え合わせ】以下のコードを実行して、大小関係が合っていたら正解！"
      ],
      "metadata": {
        "id": "VoQ2bSTmZFdc"
      }
    },
    {
      "cell_type": "code",
      "source": [
        "min_val, max_val = min_max(5,4)\n",
        "print(\"小さい方の数は\",min_val)\n",
        "print(\"大きい方の数は\",max_val)"
      ],
      "metadata": {
        "id": "jnoixdglZNV_"
      },
      "execution_count": null,
      "outputs": []
    },
    {
      "cell_type": "markdown",
      "source": [
        "## 🌀高階関数【応用】"
      ],
      "metadata": {
        "id": "1fbRyW2By-lr"
      }
    },
    {
      "cell_type": "code",
      "source": [
        "# 以下の関数定義では2つの引数をとり、your_funcとnという二つの変数に格納されるようにみえる\n",
        "def my_func(your_func, n):\n",
        "  #ところが、以下の文ではyour_funcがnを引数にとる関数のようにみえる\n",
        "  return your_func(n)"
      ],
      "metadata": {
        "id": "dek6XvM-z6PJ"
      },
      "execution_count": null,
      "outputs": []
    },
    {
      "cell_type": "markdown",
      "source": [
        "**my_func関数**関数は与えられた引数が**your_func変数**と**n変数**に格納されます。ですが2行目を見ると、**your_func**があたかも**関数**であるかのように、**n**を引数として実行されています。\n",
        "\n",
        "これはどういう事でしょうか。\n",
        "\n",
        "実験として、**my_func関数**の第一引数に何か関数を渡してみましょう。"
      ],
      "metadata": {
        "id": "p1ZS1aos1zvA"
      }
    },
    {
      "cell_type": "code",
      "source": [
        "# 引数を二倍にするdouble(n)関数と、半分にするhalf関数を定義する\n",
        "def double(n):\n",
        "  return n*2\n",
        "\n",
        "def half(n):\n",
        "  return n/2\n",
        "\n",
        "# 関数doubleを渡してみるテスト\n",
        "print(my_func(double,10))\n",
        "\n",
        "# 関数halfを渡してみるテスト\n",
        "print(my_func(half,10))"
      ],
      "metadata": {
        "id": "dPXwlNZG2-E9"
      },
      "execution_count": null,
      "outputs": []
    },
    {
      "cell_type": "markdown",
      "source": [
        "なるほど、**dobule**や**half**は関数なのですが、それを引数として渡しています。そして、**my_func関数内ではそれをyour_funcとして呼び出しています。**\n",
        "\n",
        "これで使い方は分かったと思います。でも、この機能は何のためにあるのでしょうか？"
      ],
      "metadata": {
        "id": "hvuT-Ex98EKg"
      }
    },
    {
      "cell_type": "markdown",
      "source": [
        "### 💮sorted関数"
      ],
      "metadata": {
        "id": "pqrlXDdClk4b"
      }
    },
    {
      "cell_type": "markdown",
      "source": [
        "例えばリストのソートを考えてみましょう。Pythonでは文字列のリストならば辞書順、数値のリストならば数値の順序に従ってソートされます。でも、それ以外のルールでソートしたかったら、どうすれば良いでしょうか。そのルールに対応したクイックソートをゼロから実装するとなると、結構骨の折れる作業です。\n",
        "\n",
        "実はPythonの**sorted関数**は、隠れ高階関数になっています。省略可能な引数として、**キー関数**というものを渡す事ができます。この**キー関数**に、ソートのルールを定義する事で、ソートのアルゴリズム自体は実装せず、最低限のコーディングで済みます。\n",
        "\n",
        "この**キー関数**とは**リストの値を引数にとったとき、その値に対するソートの基準になる数値を返す関数**です。\n",
        "\n",
        "例えば、以下の様な写真(jpg)のリストをソートする事を考えましょう。よくデジカメやスマフォで撮った写真のファイル名に連番が付いていると思いますが、それです。"
      ],
      "metadata": {
        "id": "MOTBEzZflpat"
      }
    },
    {
      "cell_type": "code",
      "source": [
        "pictures = ['pict_1.jpg','pict_2.jpg','pict_3.jpg','pict_11.jpg','pict_20.jpg','pict_21.jpg','pict_10.jpg']"
      ],
      "metadata": {
        "id": "zCqHZ07OA0SM"
      },
      "execution_count": null,
      "outputs": []
    },
    {
      "cell_type": "markdown",
      "source": [
        "上記のリストは、ほぼ連番の順序になっていますが、**pict_10.jpg**だけ誤った位置にあります。これをソートで正してみましょう。"
      ],
      "metadata": {
        "id": "EGn-CQ7DBAQf"
      }
    },
    {
      "cell_type": "code",
      "source": [
        "sorted_pictures = sorted(pictures)\n",
        "print(sorted_pictures)"
      ],
      "metadata": {
        "id": "zSoDVAhDBHOA"
      },
      "execution_count": null,
      "outputs": []
    },
    {
      "cell_type": "markdown",
      "source": [
        "あれ？**1**の次に**10**と**11**がきて、その後に**2**が来ました。皆さんの想定とは違うのではないでしょうか。\n",
        "\n",
        "でも、この動作は仕様通りで、**ファイル名は文字列として定義されているので、辞書順で並んでしまった**のです\n",
        "\n",
        "違う違う、そうじゃ、そうじゃないですよね？\n",
        "\n",
        "**並び順を自分の思った通りにしたい**という場合に、sortは並べ方を関数として定義し、その関数をsorted関数に引数として渡す事(=高階関数)が可能です。\n",
        "\n",
        "ファイル名を数字順に並べるには、まず```pict_数字.jpg```から数字の所を取り出す必要があります。これは**split()**関数を使います。**_**と**.**で分解してやると```[pict,数字,jpg]```というリストが得られますので、そこから数字を取り出します。このままでは数字は文字列型ですので**int()**関数で整数に直します。\n",
        "\n",
        "「**_**と**.**で分解する」という部分で**正規表現**という機能を使いますが、これは別の日に触れます。\n",
        "\n",
        "【資料】[正規表現公式リファレンス](https://colab.research.google.com/github/YokoyamaLab/PythonBasics/blob/main/day03_01Function.ipynb#scrollTo=uHcFu9TNBQa0&line=13&uniqifier=1)／[Qiitaの記事](https://qiita.com/search?q=python+%E6%AD%A3%E8%A6%8F%E8%A1%A8%E7%8F%BE)"
      ],
      "metadata": {
        "id": "uHcFu9TNBQa0"
      }
    },
    {
      "cell_type": "code",
      "source": [
        "import re                  # 正規表現を使うのでパッケージのimportが必要です。\n",
        "\n",
        "def key_func(v):\n",
        "  parts = re.split('\\.|\\_',v)\n",
        "  return int(parts[1])"
      ],
      "metadata": {
        "id": "BrkcglusCYuV"
      },
      "execution_count": null,
      "outputs": []
    },
    {
      "cell_type": "markdown",
      "source": [
        "で、ここで定義した**key_func関数**を**sorted**の隠れ引数**key**に割り当ててみましょう。"
      ],
      "metadata": {
        "id": "7Pk6KhVGHqR2"
      }
    },
    {
      "cell_type": "code",
      "source": [
        "print( sorted(pictures,key=key_func) )"
      ],
      "metadata": {
        "id": "nHQJn9-RC63y"
      },
      "execution_count": null,
      "outputs": []
    },
    {
      "cell_type": "markdown",
      "source": [
        "実行結果はどうでしょうか。pict_10.jpgが正しい位置に移動したと思います。\n",
        "\n",
        "このように、ある関数(この場合はソート)のふるまいの一部(この場合は順序の決定)に影響を与える場面で、この高階関数はよく使われます。\n",
        "\n",
        "当然ですが、自分で定義した関数だけでなく、Pythonが標準で提供している関数も使えます。例えば正負が入り混じった整数を絶対値の昇順でソートするには以下のようにします。"
      ],
      "metadata": {
        "id": "4oxHOa2sIBo_"
      }
    },
    {
      "cell_type": "code",
      "source": [
        "# 絶対値を得る関数はabs\n",
        "print(abs(-5))\n",
        "\n",
        "# 正負入り混じったリストを準備\n",
        "nums = [3,-5,2,-2,1,-1]\n",
        "\n",
        "# 絶対値をキーとしてソート\n",
        "print(sorted(nums, key=abs))"
      ],
      "metadata": {
        "id": "Cs35ySy_YeLo"
      },
      "execution_count": null,
      "outputs": []
    },
    {
      "cell_type": "markdown",
      "source": [
        "最後にスライドでこの機能を確認しておきましょう。\n",
        "\n",
        "![](https://github.com/YokoyamaLab/PythonBasics/blob/main/images/ComputerScience_C_day3_sort_1.PNG?raw=true)"
      ],
      "metadata": {
        "id": "nVcB7JIakwKb"
      }
    },
    {
      "cell_type": "markdown",
      "source": [
        "### 💮Map, Filter, Reduce"
      ],
      "metadata": {
        "id": "2INBHtJhZFgC"
      }
    },
    {
      "cell_type": "markdown",
      "source": [
        "Sorted関数以外に高階関数を使う機会としてMap、Filter、Reduceという操作があります。通常なら**For文**で書かなければいけないような処理を完結に書く事ができるとても便利な使い方です。\n",
        "\n",
        "Map、Filter、Reduceはそれぞれ<u>リストと関数を引数に取る関数</u>で、リストを変形して返します。まずはスライドで、その三つの関数の動作をざっと把握しましょう。"
      ],
      "metadata": {
        "id": "glSUetS1ZuV_"
      }
    },
    {
      "cell_type": "code",
      "source": [
        "# ←再生ボタンでスライドを表示します\n",
        "# ←再生ボタンを押すたびにスライドのページが進みます。\n",
        "from IPython.display import Image\n",
        "image_pages = 4;\n",
        "if 'image_cur' not in locals(): # これはローカル変数としてimage_curが定義されていない場合にTrueを返す\n",
        "  image_cur = -1\n",
        "print(str(image_pages)+'ページ中'+str(((image_cur:=image_cur+1)%image_pages)+1)+'ページ目を表示しています')\n",
        "Image('https://raw.githubusercontent.com/YokoyamaLab/PythonBasics/main/images/ComputerScience_C_day3_map_filter_reduce_'+str((image_cur%image_pages)+1)+'.png', format='png')"
      ],
      "metadata": {
        "id": "Sxa-11R0ZKR1"
      },
      "execution_count": null,
      "outputs": []
    },
    {
      "cell_type": "markdown",
      "source": [
        "#### map関数"
      ],
      "metadata": {
        "id": "39Gf2Mtrlzug"
      }
    },
    {
      "cell_type": "markdown",
      "source": [
        "まずは**map関数**です。これは言葉での説明の代わりに、**for文**を使った等価のコードを示します。"
      ],
      "metadata": {
        "id": "YUWvIV8OmBCl"
      }
    },
    {
      "cell_type": "code",
      "source": [
        "num_list = [1, 2, 5, 9, 10, 13, 17, 20, 27]\n",
        "result_map = []\n",
        "for n in num_list:\n",
        "  result_map.append('奇' if n % 2 else '偶')\n",
        "\n",
        "print(result_map)"
      ],
      "metadata": {
        "id": "R12jGgDRmsqm"
      },
      "execution_count": null,
      "outputs": []
    },
    {
      "cell_type": "markdown",
      "source": [
        "このコードは**リストnum_list**の全ての要素について偶奇判定し、遇もしくは奇という文字からなるリストを**リストresult**に格納するプログラムです。\n",
        "\n",
        "このような、**全ての要素の値に何らかの処理をして、その結果をリストとして返す処理**を**map関数**を使って簡潔に表現できます。(mapの外側にlist関数がかかっていますが、mapの返り値はmap型でありこれをlist型に変える関数がlist関数です。)"
      ],
      "metadata": {
        "id": "d7dqn0clnVRY"
      }
    },
    {
      "cell_type": "code",
      "source": [
        "def odd_even(n):\n",
        "  # nを2で割った余りが1で偶奇判定をしていますか、1はTrueと解釈される事を思い出してください\n",
        "  return '奇' if n % 2 else '偶'\n",
        "\n",
        "result_map = list(map(odd_even,num_list))\n",
        "\n",
        "print(result_map)"
      ],
      "metadata": {
        "id": "VSRSYKXypQ6F"
      },
      "execution_count": null,
      "outputs": []
    },
    {
      "cell_type": "markdown",
      "source": [
        "#### filter関数"
      ],
      "metadata": {
        "id": "DAcSe8cul2HA"
      }
    },
    {
      "cell_type": "markdown",
      "source": [
        "**filter関数**はリストから条件に合致した一部の要素のみを抜き出すための機能です。これも等価の**for文**を見てみましょう。**result_map**から**奇**というノードのみを抜き出してみましょう。"
      ],
      "metadata": {
        "id": "-WZVj0TErFZm"
      }
    },
    {
      "cell_type": "code",
      "source": [
        "result_filter = []\n",
        "\n",
        "for v in result_map:\n",
        "  if v == '奇':\n",
        "    result_filter.append(v)\n",
        "\n",
        "print(result_filter)"
      ],
      "metadata": {
        "id": "jVDE-yfurWGY"
      },
      "execution_count": null,
      "outputs": []
    },
    {
      "cell_type": "markdown",
      "source": [
        "これを**filter関数**で書き換えると以下の様になります。要素の値が割ったとき関数が**True**を返す要素のみが結果のリストに残ります。"
      ],
      "metadata": {
        "id": "5l39QX7JsDSx"
      }
    },
    {
      "cell_type": "code",
      "source": [
        "# この関数がTrueを返す要素のみが結果に残る\n",
        "def only_odd(v):\n",
        "  return v == '奇'\n",
        "\n",
        "#                    filter(フィルタ関数,対象となるリスト)\n",
        "result_filter = list(filter(only_odd,result_map))\n",
        "#               filter関数は結果がコレクション型として返ってくるのでlistに変換します\n",
        "#               この説明が分からなかったらおまじないだとおもってlist(filter(引数))で覚えてOK\n",
        "\n",
        "print(result_filter)"
      ],
      "metadata": {
        "id": "iBA5VjYqsIGX"
      },
      "execution_count": null,
      "outputs": []
    },
    {
      "cell_type": "markdown",
      "source": [
        "奇の要素のみからなるリストが生成されました。"
      ],
      "metadata": {
        "id": "XJkU3lJPuKUn"
      }
    },
    {
      "cell_type": "markdown",
      "source": [
        "#### reduce関数"
      ],
      "metadata": {
        "id": "96LHodNjl3vl"
      }
    },
    {
      "cell_type": "markdown",
      "source": [
        "**map関数**は入力と出力の要素数が同じです、**filter関数**は、出力されるリストの要素数は、入力の要素数以下になります、そして最後の**reduce関数**は、入力されたリストの全ての要素を一つの変数に集約する関数です。\n",
        "\n",
        "例えば、入力したリストの要素数を返す等の処理は**reduce**になります。すでに**len関数**がありますが、ここでは**reduce関数**を使って自作してみましょう。\n",
        "\n",
        "まずは、等価の**for文**を使った処理を見てみましょう。先ほど生成した**result_filter**の要素を数え上げてみましょう。**result_reduce変数**を**0**で初期化しておいて、**for文**で回る回数だけ**1**を足し込んでいきます。"
      ],
      "metadata": {
        "id": "tqP3K-YsuRp-"
      }
    },
    {
      "cell_type": "code",
      "source": [
        "result_reduce = 0\n",
        "\n",
        "for v in result_filter:\n",
        "  result_reduce += 1\n",
        "\n",
        "print(result_reduce)"
      ],
      "metadata": {
        "id": "1YfM5JoIvy4k"
      },
      "execution_count": null,
      "outputs": []
    },
    {
      "cell_type": "markdown",
      "source": [
        "これを**reduce関数**で書くと以下の様になります。"
      ],
      "metadata": {
        "id": "9HKhSV-t2Dy8"
      }
    },
    {
      "cell_type": "code",
      "source": [
        "from functools import reduce  # reduceだけ別パッケージが必要なのでimportします\n",
        "\n",
        "# 引数：memoの値,vはresult_filterの要素→返り値:更新されたmemoの値\n",
        "def count(memo,v):\n",
        "  return memo + 1\n",
        "\n",
        "#               reduce(処理する関数,対象のリスト,memoの初期値)\n",
        "result_reduce = reduce(count,result_filter,0)\n",
        "\n",
        "print(result_reduce)"
      ],
      "metadata": {
        "id": "__GcoVPYxF_1"
      },
      "execution_count": null,
      "outputs": []
    },
    {
      "cell_type": "markdown",
      "source": [
        "**reduce関数**はmapやfilterと異なり3番目の引数があります。ここに、上のコードで**result_reduce**の初期値に相当するものを入れておきます。これは**count関数**の第一引数**memo**の初期値になります。**count関数**で返された値が次に**count関数**が呼び出された際の**memo**になります。最後の要素に関する**count**の返り値が**reduce関数**の返り値として**result_reduce**に格納されます。"
      ],
      "metadata": {
        "id": "BFSNCzye3H_H"
      }
    },
    {
      "cell_type": "markdown",
      "source": [
        "## 🌀高階関数の利点【応用】"
      ],
      "metadata": {
        "id": "-QcVKyD05d7l"
      }
    },
    {
      "cell_type": "markdown",
      "source": [
        "なぜ**for文**で書けるものを態々、別の**高階関数**という機能をつかって書くのでしょうか。そこには一つの大きな利点があります。\n",
        "\n",
        "もし**for文**で書いた三つの処理を合体させる必要があった場合、どのように実装するでしょうか？一つの**for文**に入れ込む場合、まったく新たなコードが必要になります、ところが、**map・filter・reduce関数**を使った方法なら以下の様に関数呼び出しの入れ子で表現できます。"
      ],
      "metadata": {
        "id": "qieYEEFw5kjk"
      }
    },
    {
      "cell_type": "code",
      "source": [
        "# 高階関数で書くと関数の入れ子で一行ですむ！\n",
        "result = reduce(count,filter(only_odd,map(odd_even,num_list)),0)\n",
        "\n",
        "print(result)"
      ],
      "metadata": {
        "id": "G6HfMTkg7bLs"
      },
      "execution_count": null,
      "outputs": []
    },
    {
      "cell_type": "markdown",
      "source": [
        "## 🌀ラムダ式（無名関数）【発展】"
      ],
      "metadata": {
        "id": "0vKL1fqt0zZ0"
      }
    },
    {
      "cell_type": "markdown",
      "source": [
        "\n",
        "\n",
        "> 先ほどの高階関数の例はラムダ式という機能を使うと一行で書けます。プログラムを何行も書きたくないという最高に怠け者の人はこのラムダ式を習得すると良いでしょう。\n",
        "\n",
        "\n",
        "\n",
        "一方で高階関数には構造上の欠点もあります。関数を引数として渡すので、当然ですが、予め関数を定義しておかなくてはなりません。上記の例でも、**odd_evern**、**only_odd**、**count**という三つの関数を**def**で定義しました。予め定義した関数名を、**map・filter・reduce関数**の引数に設定していましたが、この引数の部分で関数定義が出来たら、コードがだいぶ簡潔になります。少なくとも、関数名は何にしようかと悩む必要は無くなります。関数名は既存の関数名と被らないようにしなくてはいけないし、まじめに名前を考えたところで、定義してすぐに使うだけだし、これをどうにかすると、だいぶ便利になります。ちょっと疑似コードで表してみます。\n",
        "\n",
        "```\n",
        "def 関数名:\n",
        "  なんらかの関数定義\n",
        "\n",
        "結果 = map(リスト, 関数名)\n",
        "```\n",
        "よりも\n",
        "\n",
        "```\n",
        "結果 = map(リスト, 関数定義)\n",
        "```\n",
        "\n",
        "とできた方が良いよねという話です。\n",
        "\n",
        "\n",
        "そこで登場する機能がラムダ式です。別の言語(JavaScript等)では無名関数と呼ばれたりします。文字通り関数を名前を付けずに定義できる機能なのですが、**Pythonの場合は、関数、すなわち複数行からなるコードブロックには対応しておらず、一行で表現できる式だけしか定義できません**ので、**ラムダ<u>式</u>**と呼んだ方が意味的には正しいです。\n",
        "\n",
        "ではもう一度**map**で使った関数を見てみましょう。\n",
        "\n",
        "```\n",
        "def odd_even(n):\n",
        "  return '奇' if n % 2 else '偶'\n",
        "```\n",
        "これをラムダ式にすると\n",
        "```\n",
        "lambda n: '奇' if n % 2 else '偶'\n",
        "```\n",
        "となります。先頭にlambdaと宣言して、その次の**引数n**の定義、そして**コロン(:)**で区切って、式です。この場合は**if文**ですが、**三項演算子**で表されている為、**制御構文**ではなく**式**と見なされます。この式の値がラムダ式の値となります。\n",
        "\n",
        "では同様に、**filter**で使った関数も見てみましょう。\n",
        "\n",
        "```\n",
        "def only_odd(v):\n",
        "  return v == '奇'\n",
        "```\n",
        "\n",
        "**==**は左辺右辺が等しければTrue、それ以外はFalseを返す式ですので、これもそのままラムダ式にできます。\n",
        "\n",
        "```\n",
        "lambda v: v == '奇'\n",
        "```\n",
        "\n",
        "最後にreduceで使われた関数です。\n",
        "\n",
        "```\n",
        "def count(memo,v):\n",
        "  return memo + 1\n",
        "```\n",
        "\n",
        "これも同様にラムダ式にします。\n",
        "\n",
        "```\n",
        "lambda memo,v: memo + 1\n",
        "```\n",
        "\n",
        "**ラムダ式の形式で表された式は高階関数の関数をとる引数にそのまま入れる事ができます。**例えば**map関数**ならこんな感じ"
      ],
      "metadata": {
        "id": "0XAiyMLlV5pG"
      }
    },
    {
      "cell_type": "code",
      "source": [
        "result_map = list(map(lambda n: '奇' if n % 2 else '偶', num_list))\n",
        "\n",
        "print(result_map)"
      ],
      "metadata": {
        "id": "zoIS36k5M75A"
      },
      "execution_count": null,
      "outputs": []
    },
    {
      "cell_type": "markdown",
      "source": [
        "実行すると、偶数奇数判定ができましたね？\n",
        "\n",
        "では、三つの関数の組み合わせをラムダ式を使って表現してみましょう。"
      ],
      "metadata": {
        "id": "e7YUE_ieNbEq"
      }
    },
    {
      "cell_type": "code",
      "source": [
        "result = reduce(lambda memo,v: memo + 1, filter(lambda v: v == '奇', map(lambda n: '奇' if n % 2 else '偶', num_list)), 0)\n",
        "\n",
        "print(result)"
      ],
      "metadata": {
        "id": "LBZx-TIsNaj4"
      },
      "execution_count": null,
      "outputs": []
    },
    {
      "cell_type": "markdown",
      "source": [
        "**ラムダ式を使う事により、事前の関数定義が必要なくなった**ので、三つの高階関数を連ねる処理が一行で書けました。\n",
        "\n",
        "では、sortedの方もラムダ式で表現してみましょう。キー関数を確認します。\n",
        "\n",
        "```\n",
        "def key_func(v):\n",
        "  parts = re.split('\\.|\\_',v)\n",
        "  return int(parts[1])\n",
        "```\n",
        "\n",
        "ここで最大の問題はこの関数が二行からなるという事です。JavaScript等は関数定義ほぼそのままでラムダ式(無名関数)化できるのですが、Pythonは残念ながら一つの式しかラムダ式で表現できないので、これを一行に直します。\n",
        "\n",
        "```\n",
        "int(re.split('\\.|\\_',v)[1])\n",
        "```\n",
        "式をよく見比べて、何が起こっているのか理解してください。**re.split('\\.|\\_',v)**この部分がリストになりますのでそれに続いて**[1]**をくっつければ、リストの二番目の要素を表します。これを**int関数**に入れて整数化しています。これで式になりましたのでラムダ式表現に直すと、コードは次の様になります。"
      ],
      "metadata": {
        "id": "fkxVCPOfN5xp"
      }
    },
    {
      "cell_type": "code",
      "source": [
        "print(sorted(pictures, key=lambda v: int(re.split('\\.|\\_',v)[1])))"
      ],
      "metadata": {
        "id": "6ng0-KjdA-xp"
      },
      "execution_count": null,
      "outputs": []
    },
    {
      "cell_type": "markdown",
      "source": [
        "なんでも一行にすれば良いという訳ではないですが、**関数**というものが**複数回使う一連の処理をひとまとめにする事で、同じコードがプログラム中に何度も出てくる事を抑止する**という大きな目的があるのに対して、**高階関数の引数として渡される関数は、高階関数の振る舞いの一部をユーザが定義する**という意味で使われており、役割に若干のずれがあります。複数回使いまわすのでなければ、高階関数には積極的にラムダ式を使う方がコードが素敵になります。"
      ],
      "metadata": {
        "id": "o08W8VPnQn5d"
      }
    },
    {
      "cell_type": "markdown",
      "source": [
        "## 🌀まとめ \n",
        "\n",
        "このノートブックでは、関数について、引数や返り値について、そして関数を引数にとる高階関数について、それとよく一緒に使われるラムダ式について学びました。\n",
        "\n",
        "[講義サポートページ](https://github.com/YokoyamaLab/PythonBasics/)に戻り**資料02**に進んでください。"
      ],
      "metadata": {
        "id": "__YfGD-sSyqN"
      }
    }
  ]
}