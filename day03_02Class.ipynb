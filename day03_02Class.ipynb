{
  "nbformat": 4,
  "nbformat_minor": 0,
  "metadata": {
    "colab": {
      "provenance": [],
      "authorship_tag": "ABX9TyNx9D+jTkzuv+KXQpjTXPjm",
      "include_colab_link": true
    },
    "kernelspec": {
      "name": "python3",
      "display_name": "Python 3"
    },
    "language_info": {
      "name": "python"
    }
  },
  "cells": [
    {
      "cell_type": "markdown",
      "metadata": {
        "id": "view-in-github",
        "colab_type": "text"
      },
      "source": [
        "<a href=\"https://colab.research.google.com/github/YokoyamaLab/PythonBasics/blob/main/day03_02Class.ipynb\" target=\"_parent\"><img src=\"https://colab.research.google.com/assets/colab-badge.svg\" alt=\"Open In Colab\"/></a>"
      ]
    },
    {
      "cell_type": "markdown",
      "source": [
        "\n",
        "# DAY3 資料2: クラスとオブジェクト指向"
      ],
      "metadata": {
        "id": "1vAv76aATTW-"
      }
    },
    {
      "cell_type": "markdown",
      "source": [
        "このノートではPythonにおけるオブジェクト指向を学びますが、すでに皆さんは他の講義でオブジェクト指向を習っていると思います。なので、本講義ではオブジェクトシステムの教科書の定石から外れて、ちょっと違う角度からオブジェクト指向の理解を目指します。\n",
        "\n",
        "もしJava言語をすでに習得している人は、オブジェクト指向と言われるとJavaを思い浮かべるかもしれません。確かにJavaはオブジェクト指向プログラミングのために設計されています。一方でPythonはどうでしょうか。**Pythonは手続き型言語です。**\n",
        "\n",
        "**オブジェクト指向**や**手続き型**は**プログラミングパラダイム**と呼ばれますが、多くのモダン言語は、複数のプログラミングパラダイムに対応しています。ですので、あまり言語の分類は意味の無いものになりつつあります。\n",
        "\n",
        "確かにJavaはオブジェクト指向言語に分類されます。例えばJavaでHello Worldのプログラムを書いてみましょう。知っての通りHello Worldは言語を習う際の最初歩として書くコードです。\n",
        "\n",
        "```\n",
        "public class Main {\n",
        "    public static void main(String[] args) {       \n",
        "        System.out.println(\"Hello World\");\n",
        "    }\n",
        "}\n",
        "```\n",
        "\n",
        "いきなりオブジェクト指向プログラミングの根幹をなすクラスの概念がでてきます。これをJavaの一日目に習ったとして、皆さんは理解できたでしょうか。\n",
        "\n",
        "* **public class Main**って何？\n",
        "* **public static viod main**って何？\n",
        "* **String[] args**って何？\n",
        "* そもそもHello Worldを表現したいのになんで**２インデントの入れ子**が発生するの？\n",
        "\n",
        "プログラミングの初学者に対して初日からクラスなどオブジェクト指向プログラミングの概念を理解させるのは難しいので、多くの大学では「**最初の二行と最後の二行は呪文**だから、意味とか気にしないでコピペしてねー」と教えています。\n",
        "\n",
        "ただ、最初の二行と最後の二行を無視するのであれば、```System.out.println(\"Hello World\");```の所にダラダラとプログラムを書けば良い訳で、そうするとJavaは手続き型言語のようにも見えます。\n",
        "\n",
        "ではPythonではどうでしょうか。\n",
        "\n",
        "```\n",
        "print('Hello World')\n",
        "```\n",
        "以上！すごくスッキリしていますし、説明は殆ど必要ありません。Pythonは手続き型言語なので、プログラムの一行目から実行し、最終行あるいは終了命令とともに終了します。\n",
        "\n",
        "**でもそんな、Pythonでもオブジェクト指向プログラミングができます。**\n",
        "\n",
        "本講義では今日(後半)と次回の二回に分けてPythonでのオブジェクト指向プログラミングを学びます。まず**今回はクラスの定義や継承の概念、インスタンスの作成などを学びます**。そして**次回はPythonでのグラフィック処理と共に、オブジェクト指向プログラミングの便利さ**を学びます。\n",
        "\n",
        "オブジェクト指向プログラミングの概念そのものはJavaや他の講義でなんとなく頭に入っている事を前提に、でもそこで理解しきれなかった人むけの復習を兼ねて、なるべく簡単な説明で、Pythonでのオブジェクト指向を学びましょう。"
      ],
      "metadata": {
        "id": "t28j2qx2TntF"
      }
    },
    {
      "cell_type": "markdown",
      "source": [
        "## 🌀クラスの定義"
      ],
      "metadata": {
        "id": "W6bUMRkgff9e"
      }
    },
    {
      "cell_type": "markdown",
      "source": [
        "この講義では、座学としてあるいはJava等の言語を通してオブジェクト指向プログラミングの概念は習得している事を前提にしつつも、そこで理解しきれなかった人でも理解できるような、通常とは違う角度からの説明をします。コンピュータサイエンスの学問としてのオブジェクト指向は、それ専門の講義で身に着けてください。ここでは、あくまで分かりやすさ重視で進めます。\n",
        "\n",
        "さて、オブジェクト指向といえばまずはクラスの概念を理解しなければなりません。\n",
        "\n",
        "早速Wikipediaのクラスの説明を見てみましょう。\n",
        "\n",
        "> オブジェクト指向プログラミングにおけるクラス（英: class）は、オブジェクトを生成するための設計図あるいはひな形に相当するものである。抽象データ型の一つ。クラスから生成したオブジェクトの実体のことをインスタンスという。\n",
        "\n",
        "> クラスには、クラス自身またはクラスのインスタンスが保持するデータと、データに関連したオブジェクトの振る舞いを記述できる。プログラミング言語によっては、それぞれにアクセス修飾子（英語版）を指定できる。統一モデリング言語 (UML) のクラス図では、データのことを「属性」、振る舞いのことを「操作」と呼ぶ。Javaなどでは、データのことを「フィールド」、振る舞いのことを「メソッド」と呼ぶ。C++などでは、データのことを「メンバー変数」、振る舞いのことを「メンバー関数」と呼ぶ。\n",
        "\n",
        "※引用：Wikipedia「[クラス（コンピュータ）](https://ja.wikipedia.org/wiki/%E3%82%AF%E3%83%A9%E3%82%B9_(%E3%82%B3%E3%83%B3%E3%83%94%E3%83%A5%E3%83%BC%E3%82%BF)」"
      ],
      "metadata": {
        "id": "XbujpnvsUse9"
      }
    },
    {
      "cell_type": "markdown",
      "source": [
        "ちょっとなんの事か分からない・・・。\n",
        "\n",
        "オブジェクト指向を学ぼうとすると大抵、用語の洪水に悩まされます。ここでは用語からではなくて、なんでオブジェクト指向が便利なのかを、ボトムアップに解説します。\n",
        "\n",
        "**では、ゲームやSNSのようなアプリケーションにおいてユーザを管理する事を例に考えてみましょう。**"
      ],
      "metadata": {
        "id": "XHrwxdvgqmaa"
      }
    },
    {
      "cell_type": "markdown",
      "source": [
        "### 💮情報を文字列で管理する"
      ],
      "metadata": {
        "id": "LvB8EBykTh6_"
      }
    },
    {
      "cell_type": "markdown",
      "source": [
        "ユーザを管理するのに最低限何が必要でしょうか？まずは名前かハンドルネームですね。"
      ],
      "metadata": {
        "id": "YrDHNDsXTwmh"
      }
    },
    {
      "cell_type": "code",
      "source": [
        "name = '津田梅子'"
      ],
      "metadata": {
        "id": "wVc8meX4rwdP"
      },
      "execution_count": null,
      "outputs": []
    },
    {
      "cell_type": "markdown",
      "source": [
        "よし！これで完璧！・・・・とはなりませんよね？？"
      ],
      "metadata": {
        "id": "DATwwwQhVgwh"
      }
    },
    {
      "cell_type": "markdown",
      "source": [
        "### 💮情報を辞書型で管理する"
      ],
      "metadata": {
        "id": "eFQZReaLT4yd"
      }
    },
    {
      "cell_type": "markdown",
      "source": [
        "ユーザを管理する訳ですから、名前以外の情報も把握しておきたいですよね。性別とか、生年月日、年齢とか。これまで学習した技術の中では、辞書型を使えば名前以外の情報も管理できそうです。"
      ],
      "metadata": {
        "id": "rmJEQjH6r0Qk"
      }
    },
    {
      "cell_type": "code",
      "source": [
        "import datetime                                 # 折角なので誕生日はdatetime型で管理しましょう\n",
        "\n",
        "user = {\n",
        "    'name'    : '津田梅子',\n",
        "    'gender'     : 'female',\n",
        "    'brithday': datetime.datetime(1864,12,31),\n",
        "    'age'     : 158\n",
        "}"
      ],
      "metadata": {
        "id": "zDMyhIMOffPt"
      },
      "execution_count": null,
      "outputs": []
    },
    {
      "cell_type": "markdown",
      "source": [
        "これで、性別と生年月日、年齢もセットで管理できるようになりました。"
      ],
      "metadata": {
        "id": "ubBIIIAMV83r"
      }
    },
    {
      "cell_type": "markdown",
      "source": [
        "**ただ、ここで一つ問題が発生します。**\n",
        "\n",
        "年齢を158歳としましたが、これはこの講義の始まった2023年時点での年齢であり、12月31日を超えるたびに年齢は変わってしまいます。誕生日と異なり年齢は動的な値だと言えます。\n",
        "\n",
        "**手続き型の考え方**で永続的に正しい年齢を保持しておくには、毎年、誕生日の日になったら以下のコードを走らせれば、年齢を更新できます。"
      ],
      "metadata": {
        "id": "upEp9F9gAftB"
      }
    },
    {
      "cell_type": "code",
      "execution_count": null,
      "metadata": {
        "colab": {
          "base_uri": "https://localhost:8080/"
        },
        "id": "i8A-bPW7TOrq",
        "outputId": "6b95bb58-2964-47e7-ac3c-51596832aa29"
      },
      "outputs": [
        {
          "output_type": "stream",
          "name": "stdout",
          "text": [
            "{'name': '津田梅子', 'gender': 'female', 'brithday': datetime.datetime(1864, 12, 31, 0, 0), 'age': 159}\n"
          ]
        }
      ],
      "source": [
        "user['age'] += 1\n",
        "\n",
        "print(user)"
      ]
    },
    {
      "cell_type": "markdown",
      "source": [
        "上記のコードの実行を押すたびにageが1づつ増加します。"
      ],
      "metadata": {
        "id": "CK32ONwYWYyH"
      }
    },
    {
      "cell_type": "markdown",
      "source": [
        "### 💮情報をオブジェクト指向で管理する"
      ],
      "metadata": {
        "id": "1Wyl4dPBWUwt"
      }
    },
    {
      "cell_type": "markdown",
      "source": [
        "一方で**オブジェクト指向の考え方**では、このユーザデータそのものに年齢を算出する機能を付けられないか？という事を考えます。幸いな事に年齢は誕生日から算出できます。誕生日から年齢を算出するには以下の式を使います。"
      ],
      "metadata": {
        "id": "n_Fgb_Q4CJ91"
      }
    },
    {
      "cell_type": "code",
      "source": [
        "import datetime\n",
        "\n",
        "umeko_birthday = datetime.datetime(1864, 12, 31)\n",
        "today = datetime.datetime.now()\n",
        "age = (int(today.strftime(\"%Y%m%d\")) - int(umeko_birthday.strftime(\"%Y%m%d\"))) // 10000\n",
        "\n",
        "print(age)"
      ],
      "metadata": {
        "colab": {
          "base_uri": "https://localhost:8080/"
        },
        "id": "aiSKsYMxPuhq",
        "outputId": "5b09581b-45bb-46e0-c4f7-156f7e91ba2a"
      },
      "execution_count": null,
      "outputs": [
        {
          "output_type": "stream",
          "name": "stdout",
          "text": [
            "158\n"
          ]
        }
      ]
    },
    {
      "cell_type": "markdown",
      "source": [
        "**strptime()**は文字列からdatetime型を作り出す関数です。ここでは**1864-12-31**という形式の文字列からdatetimeを作り出します。次に、**strftime()**は**datetime**で表現された日付を指定したフォーマットで文字列化する関数で、ここでは**%Y%m%d**とあるので、津田梅子の誕生日は**18861231**という文字列になります。この文字列を**int()**で整数値にします。そしてそう表現された２つの日付の差をとりそれを**10000**で切り捨て除算をすると、あら不思議、年齢が出てきます。\n",
        "\n",
        "尚、datetimeの使い方に関しては以下のリファレンスが詳しいです。\n",
        "[Pythonリファレンス - datetime](https://docs.python.org/ja/3/library/datetime.html)\n",
        "\n",
        "年齢を見る際にこの処理を走らせれば良いという事は分かりますが、残念ながら辞書型はあくまでも**Key**と**Value(値)**のセットを複数保持できるデータ形式にすぎず、**Value(値)の代わりにFunction(関数)**を保持する事はできません。\n",
        "\n",
        "| Key      | Value      |\n",
        "|:--------:|:----------:|\n",
        "| name     | 津田梅子   |\n",
        "| gender   | female     | \n",
        "| birthday | 1864/12/31 | \n",
        "| age      | 158        |\n",
        "\n",
        "もし**Keyに対してValueもしくはFunctionも保持出来たら**、ageはFunctionを実行しその処理結果を返すようにする事で、その日の年齢という**動的な値が返せるようになる**はずです。"
      ],
      "metadata": {
        "id": "AIrs-IXWUFoo"
      }
    },
    {
      "cell_type": "markdown",
      "source": [
        "### 💮情報をクラスで管理する"
      ],
      "metadata": {
        "id": "elJJgTEZUAQb"
      }
    },
    {
      "cell_type": "markdown",
      "source": [
        "**そこでクラスの登場です。**\n",
        "\n",
        "クラスは**Key**に対して**Value**だけでなく、**Function**を持つことができます。まずは、age以外の情報をもったクラスを作りましょう。"
      ],
      "metadata": {
        "id": "WzrCEGpRUEJG"
      }
    },
    {
      "cell_type": "code",
      "source": [
        "class TsudaUmeko:\n",
        "  name   = '津田梅子'\n",
        "  gender = 'female'\n",
        "  birthday = datetime.datetime(1864, 12, 31)"
      ],
      "metadata": {
        "id": "7-9yZTjWXweH"
      },
      "execution_count": null,
      "outputs": []
    },
    {
      "cell_type": "markdown",
      "source": [
        "皆さんはPythonでTsudaUmekoクラスを作成しました。そしてその中にある**name**や**gender**や**birthday**が、実は冒頭のWikipediaの説明にあった、\n",
        "\n",
        "* UMLにおける**属性**\n",
        "* Javaにおける**フィールド**\n",
        "* C++にあける**メンバ変数**\n",
        "\n",
        "です。\n",
        "\n",
        "では**age**はどうしましょうか。ageは、誕生日と現在日時の２つ日付の差から年齢を作り出す処理を関数として定義すれば実現できます。クラスの中に関数を定義する方法は次のコードです。"
      ],
      "metadata": {
        "id": "6AXa8F9CYpqQ"
      }
    },
    {
      "cell_type": "code",
      "source": [
        "class TsudaUmeko:\n",
        "  name = '津田梅子'\n",
        "  gender  = 'female'\n",
        "  birthday = datetime.datetime(1864, 12, 31)\n",
        "\n",
        "  def age(self): #ageはクラス内の関数(メソッド)として定義する事で呼び出された時に動的に年齢を計算できる\n",
        "    today = datetime.datetime.now()\n",
        "    umeko_birthday = self.birthday\n",
        "    age = (int(today.strftime(\"%Y%m%d\")) - int(umeko_birthday.strftime(\"%Y%m%d\"))) // 10000\n",
        "    return age"
      ],
      "metadata": {
        "id": "7vxLW_HPa6L3"
      },
      "execution_count": null,
      "outputs": []
    },
    {
      "cell_type": "markdown",
      "source": [
        "関数定義とほぼ同じですが、使う使わないにかかわらず第一引数をselfとして定義ください。(あとで説明します)\n",
        "\n",
        "この関数が冒頭のWikipediaの記事でいう\n",
        "\n",
        "* 操作\n",
        "* メソッド\n",
        "* 操作関数\n",
        "\n",
        "と言います。\n",
        "\n",
        "これで、以下のような設計のクラスが出来上がりました。\n",
        "\n",
        "| Key      | Value           | \n",
        "|:--------:|:---------------:|\n",
        "| name     | 津田梅子        |\n",
        "| gender   | female          | \n",
        "| birthday | 1864/12/31      | \n",
        "| age      | ＜動的に計算＞  |\n"
      ],
      "metadata": {
        "id": "tOSvBtFNiiez"
      }
    },
    {
      "cell_type": "markdown",
      "source": [
        "## 🌀クラスの利用と拡張"
      ],
      "metadata": {
        "id": "6IZItchonZ41"
      }
    },
    {
      "cell_type": "markdown",
      "source": [
        "### 💮インスタンスの作成"
      ],
      "metadata": {
        "id": "z26vGjmAvsRy"
      }
    },
    {
      "cell_type": "markdown",
      "source": [
        "では、作ったクラスを使ってみましょう。クラスを使う際は、そのまま使うのではなく、インスタンスというものを生成する一手間が必要です。冒頭のWikipediaの引用では**クラスはオブジェクトを生成するための設計図あるいはひな形に相当する**と書かれていました。クラスはひな形で、そこから実体すなわち、メモリ上に必要な空間を確保し、設計図に沿ったデータを保持する作業が必要です。これをインスタンスの作成と言い、次のコードで行います。"
      ],
      "metadata": {
        "id": "wTUL9OF2nkko"
      }
    },
    {
      "cell_type": "code",
      "source": [
        "tsudaUmeko = TsudaUmeko()"
      ],
      "metadata": {
        "id": "q0912HWPgCtO"
      },
      "execution_count": null,
      "outputs": []
    },
    {
      "cell_type": "markdown",
      "source": [
        "**TsudaUmeko**がクラスで、**tsudaUmeko**がインスタンスです。これはよく使われる命名規則で、クラス名はUpper Camel Case、インスタンス名はLower Camel Caseを使うという慣習から来ています。**インスタンスはクラス型の変数**と考えておけばOKです。\n",
        "\n",
        "もちろん、一つのクラス(ひな型)から沢山のインスタンスを作る事も可能です。"
      ],
      "metadata": {
        "id": "LOWCo7ZeoC4z"
      }
    },
    {
      "cell_type": "markdown",
      "source": [
        "### 💮フィールドの読み書きとメソッドの呼び出し。"
      ],
      "metadata": {
        "id": "1AQENVPtv3V3"
      }
    },
    {
      "cell_type": "markdown",
      "source": [
        "生成したインスタンスに対してフィールドやメソッドにアクセスできるようになります。TsudaUmekoクラスにはname、gender、birthdayという３つのフィールドとage()という１つのメソッドを定義しました。そのアクセス方法も学んでおきましょう。基本的はに、フィールドは変数、メソッドは関数と同じようにアクセスできますが、「**インスタンス.フィールド**」「**インスタンス.メソッド()**」の形式でアクセスします。"
      ],
      "metadata": {
        "id": "lpqJ-tP5jNSh"
      }
    },
    {
      "cell_type": "code",
      "source": [
        "print(tsudaUmeko.name)\n",
        "print(tsudaUmeko.gender)\n",
        "print(tsudaUmeko.birthday)\n",
        "print(tsudaUmeko.age())"
      ],
      "metadata": {
        "colab": {
          "base_uri": "https://localhost:8080/"
        },
        "id": "XzBeLmQNjUFn",
        "outputId": "b81d246f-0947-4a8b-869b-53babacf872a"
      },
      "execution_count": null,
      "outputs": [
        {
          "output_type": "stream",
          "name": "stdout",
          "text": [
            "津田梅子\n",
            "female\n",
            "1864-12-31 00:00:00\n",
            "158\n"
          ]
        }
      ]
    },
    {
      "cell_type": "markdown",
      "source": [
        "さて、ここで気になるというか、気持ち悪いポイントが一つあります。フィールドにアクセスする時と異なり、ageにアクセスする時だけ**( )**を付ける必要があります。当然ageはフィールドではなくメソッドなので当然といえば当然ですが、コードのビューティフルさとしては、若干のマイナスポイントではないでしょうか？\n",
        "\n",
        "そこで出てくるのが**プロパティ**です。"
      ],
      "metadata": {
        "id": "VHjroa9WkzKr"
      }
    },
    {
      "cell_type": "markdown",
      "source": [
        "### 💮プロパティ"
      ],
      "metadata": {
        "id": "SMqyRwZooWcu"
      }
    },
    {
      "cell_type": "markdown",
      "source": [
        "プロパティーは、クラス内ではメソッドとして定義されますが、クラス外部からは、読み出し可能、書き込み禁止なフィールドとして見えます。以下のコードを見てみましょう。"
      ],
      "metadata": {
        "id": "2NqTAKRuoaq4"
      }
    },
    {
      "cell_type": "code",
      "source": [
        "class TsudaUmeko:\n",
        "  name   = '津田梅子'\n",
        "  gender = 'female'\n",
        "  birthday = datetime.datetime(1864, 12, 31)\n",
        "  \n",
        "  @property\n",
        "  def age(self):\n",
        "    today = datetime.datetime.now()\n",
        "    umeko_birthday = self.birthday\n",
        "    age = (int(today.strftime(\"%Y%m%d\")) - int(umeko_birthday.strftime(\"%Y%m%d\"))) // 10000\n",
        "    return age"
      ],
      "metadata": {
        "id": "sTHtdyyvmydh"
      },
      "execution_count": null,
      "outputs": []
    },
    {
      "cell_type": "markdown",
      "source": [
        "コードはほぼ同じですが、メソッドの前に**@Property**とつけると、ageはメソッドではなくあたかもフィールドとしてアクセスできるようになります。\n",
        "\n",
        "以下のコードを見てください。**print(tsudaUmeko.age)**の所で誕生日から年齢が計算され、返されます。一方で、**tsudaUmeko.age=12**のように代入しようとすると、エラーがでます。この動作から**プロパティは読み込み可能／書き込み不可**と分かるでしょう。"
      ],
      "metadata": {
        "id": "-m352Qh1nQZk"
      }
    },
    {
      "cell_type": "code",
      "source": [
        "tsudaUmeko = TsudaUmeko()\n",
        "print(tsudaUmeko.age)\n",
        "\n",
        "tsudaUmeko.age = 12"
      ],
      "metadata": {
        "colab": {
          "base_uri": "https://localhost:8080/",
          "height": 229
        },
        "id": "oA-C_mdpm17z",
        "outputId": "73c6c572-96e9-47ac-ca8b-e2f41271956a"
      },
      "execution_count": null,
      "outputs": [
        {
          "output_type": "stream",
          "name": "stdout",
          "text": [
            "158\n"
          ]
        },
        {
          "output_type": "error",
          "ename": "AttributeError",
          "evalue": "ignored",
          "traceback": [
            "\u001b[0;31m---------------------------------------------------------------------------\u001b[0m",
            "\u001b[0;31mAttributeError\u001b[0m                            Traceback (most recent call last)",
            "\u001b[0;32m<ipython-input-11-b18436a226bd>\u001b[0m in \u001b[0;36m<module>\u001b[0;34m\u001b[0m\n\u001b[1;32m      2\u001b[0m \u001b[0mprint\u001b[0m\u001b[0;34m(\u001b[0m\u001b[0mtsudaUmeko\u001b[0m\u001b[0;34m.\u001b[0m\u001b[0mage\u001b[0m\u001b[0;34m)\u001b[0m\u001b[0;34m\u001b[0m\u001b[0;34m\u001b[0m\u001b[0m\n\u001b[1;32m      3\u001b[0m \u001b[0;34m\u001b[0m\u001b[0m\n\u001b[0;32m----> 4\u001b[0;31m \u001b[0mtsudaUmeko\u001b[0m\u001b[0;34m.\u001b[0m\u001b[0mage\u001b[0m \u001b[0;34m=\u001b[0m \u001b[0;36m12\u001b[0m\u001b[0;34m\u001b[0m\u001b[0;34m\u001b[0m\u001b[0m\n\u001b[0m",
            "\u001b[0;31mAttributeError\u001b[0m: can't set attribute"
          ]
        }
      ]
    },
    {
      "cell_type": "markdown",
      "source": [
        "### 💮Setter"
      ],
      "metadata": {
        "id": "ffYeBp2Mo_pV"
      }
    },
    {
      "cell_type": "markdown",
      "source": [
        "さて、もうすこしクラスの持つ機能を見ていきましょう。**プロパティは読み込みのみ**できますが、**書き込みもしたい場合にはSetter**という機能を使います。\n",
        "\n",
        "例えば誕生日。これはフィールドですので当然インスタンスに対して読み書き可能です。"
      ],
      "metadata": {
        "id": "3fuH5B65pCXa"
      }
    },
    {
      "cell_type": "code",
      "source": [
        "tsudaUmeko = TsudaUmeko()\n",
        "\n",
        "print(tsudaUmeko.birthday)\n",
        "\n",
        "tsudaUmeko.birthday = datetime.datetime(1900, 4, 1)\n",
        "print(tsudaUmeko.birthday)\n",
        "\n",
        "tsudaUmeko.birthday = \"1864/12/31\"\n",
        "print(tsudaUmeko.birthday)"
      ],
      "metadata": {
        "id": "_cL_GaXdpXC1"
      },
      "execution_count": null,
      "outputs": []
    },
    {
      "cell_type": "markdown",
      "source": [
        "二個目の書き込み例を見てください。クラスの設計思想としてはここには**datetime型**が来て欲しいのですが、文字列として入力されています。緩い型付け言語のPythonでは、こういう事もしばしば起こります。もちろん「こんな間違いはしない」と100%の自信をもっている人は、それで良いのですが、大抵の場合、こういったバグは発生しえますし、複数人での開発や、ユーザがこの部分に適当な値を入れられるようなプログラムでは、必ずしもdatetime型で誕生日が入るとは限りません。\n",
        "\n",
        "こんな時に**Setter**が活躍します。クラス外部からフィールドに直接読み書きするのではなく、**Setter**と**プロパティ**(この文脈では**Getter**と呼んだりします)のメソッド経由で読み書きする事で、入力された値の検証等を行う事が出来ます。\n",
        "\n",
        "では**birthday**を**Setter**と**Getter**経由でのアクセスにしてみましょう。これを実現するには3ステップあります。\n",
        "\n",
        "1. 変数**birthday**を**_birthday**にリネーム (これにより外部から直接アクセスできなくなりますが、それは別途説明します)\n",
        "1. **birthday**の**getter**メソッドを定義\n",
        "1. **birthday**の**setter**メソッドを定義"
      ],
      "metadata": {
        "id": "nzjoiPnZv3O-"
      }
    },
    {
      "cell_type": "code",
      "source": [
        "class TsudaUmeko:\n",
        "  name   = '津田梅子'\n",
        "  gender = 'female'\n",
        "  _birthday = datetime.datetime(1864, 12, 31)\n",
        "  \n",
        "  @property\n",
        "  def age(self):\n",
        "    today = datetime.datetime.now()\n",
        "    umeko_birthday = self.birthday\n",
        "    age = (int(today.strftime(\"%Y%m%d\")) - int(umeko_birthday.strftime(\"%Y%m%d\"))) // 10000\n",
        "    return age\n",
        "\n",
        "  @property\n",
        "  def birthday(self):\n",
        "      return self._birthday\n",
        "  \n",
        "  @birthday.setter\n",
        "  def birthday(self, birthday):\n",
        "    if (type(birthday) is not datetime.datetime):  # 引数がdatetimeかどうかをチェック\n",
        "      raise TypeError('birthday must be datetime') # datetime出ない時は例外を送出\n",
        "    self._birthday = birthday\n",
        "\n",
        "tsudaUmeko = TsudaUmeko()\n",
        "tsudaUmeko.birthday = \"1900/4/1\";"
      ],
      "metadata": {
        "id": "tpQ9wIkGxpCd"
      },
      "execution_count": null,
      "outputs": []
    },
    {
      "cell_type": "markdown",
      "source": [
        "上記コードの最終行で、文字列として誕生日を入れていますが、実行するとそこでエラーがでます。\n",
        "\n",
        "上記例だと、エラーがでたらそこでプログラムはストップしてしまいますが、もちろん**catch文**で捕まえる事で、皆さんのプログラムとしてエラー処理を行う事ができます。\n",
        "\n"
      ],
      "metadata": {
        "id": "0rMA00lB0o1u"
      }
    },
    {
      "cell_type": "code",
      "source": [
        "# 失敗する例\n",
        "tsudaUmeko = TsudaUmeko()\n",
        "try:\n",
        "  tsudaUmeko.birthday = \"1900/4/1\";\n",
        "except TypeError:\n",
        "  print('異なる型が指定されました。')\n",
        "else:\n",
        "  print(\"誕生日の更新が成功しました。\")\n",
        "finally:\n",
        "  print(\"現在の誕生日\",tsudaUmeko.birthday)\n",
        "print(\"finallyの後はここが実行される。\")"
      ],
      "metadata": {
        "id": "kSYe2zeL178x"
      },
      "execution_count": null,
      "outputs": []
    },
    {
      "cell_type": "markdown",
      "source": [
        "このように文字列型が渡されると発せられる例外(エラー)を**except TyoeError**でキャッチして、エラー表示のみ行い、プログラムを止めずに次へ進める事が分かります。\n",
        "\n",
        "もちろん、きちっと**datetime型**が渡された場合は**elseブロック**が実行された後、**finallyブロック**が実行されプログラムは続きます。"
      ],
      "metadata": {
        "id": "LGcs7xpvXPJa"
      }
    },
    {
      "cell_type": "code",
      "source": [
        "# 成功する例\n",
        "tsudaUmeko = TsudaUmeko()\n",
        "try:\n",
        "  tsudaUmeko.birthday = datetime.datetime(1900, 4, 1);\n",
        "except TypeError:\n",
        "  print('異なる型が指定されました。')\n",
        "else:\n",
        "  print(\"誕生日の更新が成功しました。\")\n",
        "finally:\n",
        "  print(\"現在の誕生日\",tsudaUmeko.birthday)\n",
        "print(\"finallyの後はここが実行される。\")"
      ],
      "metadata": {
        "id": "nSvMYdzw2Xa9"
      },
      "execution_count": null,
      "outputs": []
    },
    {
      "cell_type": "markdown",
      "source": [
        "## 🌀クラスの設計"
      ],
      "metadata": {
        "id": "RYgXlEJUa6Qy"
      }
    },
    {
      "cell_type": "markdown",
      "source": [
        "### 💮抽象化"
      ],
      "metadata": {
        "id": "6vYemV73cvmO"
      }
    },
    {
      "cell_type": "markdown",
      "source": [
        "**TsudaUmekoクラス**を例に、Pythonにおけるクラスの学習を進めてきましたが、**実はTsudaUmekoクラスはオブジェクト指向設計として、<u>悪い見本</u>なんです。**\n",
        "\n",
        "**クラスは設計図**です。これまで「何かのシステムのユーザを管理する」という前提で、１ユーザの例としてTsudaUmekoをクラス化しました。\n",
        "\n",
        "**オブジェクト指向設計では、クラスを抽象化する事が求められます。**例えば、あるシステムのユーザが津田梅子先生しか居ないのであれば、TudaUmekoクラスだけでもよいかもしれませんが、ユーザが特定の一人という事は考えられません。ではそこに中野美由紀先生の情報も管理しなければならない場合、TsudaUmekoクラスとNakanoMiyukiクラスと２つのクラスを作るのは効率的ではありません。そうではなくて、Userというクラスを作り、そのクラスが実行時にTsudaUmekoやNakanoMiyuki、あるいは、YokoyamaShoheiや他のユーザを管理するオブジェクトに変化させる事が出来れば、プログラムの設計は非常に簡潔になります。\n",
        "\n"
      ],
      "metadata": {
        "id": "gle9sOPTbRzN"
      }
    },
    {
      "cell_type": "markdown",
      "source": [
        "### 💮インスタンス"
      ],
      "metadata": {
        "id": "E4WiKeTeRdCU"
      }
    },
    {
      "cell_type": "markdown",
      "source": [
        "**この抽象的なクラスから作り出された具体的なオブジェクトの事をインスタンスと呼びます。**\n",
        "\n",
        "Userという抽象的なクラスを作り、インスタンス作成の際に、それをtsudaUmekoのインスタンス、nakanoMiyukiのインスタンス、あるいはユーザXのインスタンスとして具体化する訳です。\n",
        "\n",
        "クラスというのは情報と機能の設計図です。そしてインスタンスはその設計図を基に作られた実体です。クラスというのは単に設計図、これまでに説明してきた例でいうとユーザの設計図ですが、特定のユーザを指す訳ではありません。そこにユーザの名前は性別、誕生日の情報を与えて初めて、特定のユーザをさす**モノ**が出来上がります。この**モノ**の名前が**インスタンス**です。図で書くと以下の様になります。"
      ],
      "metadata": {
        "id": "VVljbIWFR-ok"
      }
    },
    {
      "cell_type": "markdown",
      "source": [
        "![](https://raw.githubusercontent.com/YokoyamaLab/PythonBasics/main/images/day03_class-instance.svg)"
      ],
      "metadata": {
        "id": "HiiEpcbnWGd7"
      }
    },
    {
      "cell_type": "markdown",
      "source": [
        "### 💮コンストラクタ"
      ],
      "metadata": {
        "id": "CvTyZhe_cquG"
      }
    },
    {
      "cell_type": "markdown",
      "source": [
        "**抽象的なクラスから具体的なインスタンスを作り出す方法を説明します。**\n",
        "\n",
        "それにはインスタンスの作成時に具体的な情報を与え、そのクラスが具体的なユーザ(津田梅子あるいは中野美由紀)を指すようにする必要があります。\n",
        "\n",
        "この処理を行うのが**<u>コンストラクタ</u>と呼ばれる特別なメソッド**です。\n",
        "\n",
        "クラスからインスタンスを作成するコードを思い出してください。\n",
        "\n",
        "```\n",
        "tsudaUmeko = TsudaUmeko()\n",
        "```\n",
        "\n",
        "なんか関数呼び出しみたいですよね？括弧があるという事はここに引数を定義できそうな気がしてきませんか？\n",
        "\n",
        "もし、以下の様なコードで抽象的な**Userクラス**から具体的な**津田梅子インスタンス**を生成できれば、コードとして可読性があるように思えませんか？\n",
        "\n",
        "```\n",
        "tsudaUmeko = User(name='津田梅子', gender='female', birthday=datetime.datetime(1864, 12, 31))\n",
        "```\n",
        "**Userクラス**に対して、具体化するのに必要な**名前**、**性別**、**誕生日**を渡すと、インスタンスが生成され、それを**tsudaUmeko**という変数に格納している。そういうコードです。\n",
        "\n",
        "クラス内部にて、この```クラス名(引数)```で呼び出される**特別なメソッド**を定義する事ができます。この特別なメソッドを**コンストラクタ**と呼びます。コンストラクタはインスタンス作成の際に呼び出されます、主にここにはクラスを具体化するコードを定義します。\n",
        "\n",
        "と言う訳で、コンストラクタも含めてUserクラスを定義してみましょう。まだ分からないコードが出て来ますが、とりあえず何をやっているのか想像しつつ読み解いてください。"
      ],
      "metadata": {
        "id": "ahP0wYX6c0tm"
      }
    },
    {
      "cell_type": "code",
      "source": [
        "class User:\n",
        "  def __init__(self,name,gender,birthday):\n",
        "    self.name   = name\n",
        "    self.gender = gender\n",
        "    self._birthday = birthday\n",
        "  \n",
        "  @property\n",
        "  def age(self):\n",
        "    today = datetime.datetime.now()\n",
        "    umeko_birthday = self.birthday\n",
        "    age = (int(today.strftime(\"%Y%m%d\")) - int(umeko_birthday.strftime(\"%Y%m%d\"))) // 10000\n",
        "    return age\n",
        "\n",
        "  @property\n",
        "  def birthday(self):\n",
        "      return self._birthday\n",
        "  \n",
        "  @birthday.setter\n",
        "  def birthday(self, birthday):\n",
        "    if (type(birthday) is not datetime.datetime):  # 引数がdatetimeかどうかをチェック\n",
        "      raise TypeError('birthday must be datetime') # datetime出ない時は例外を送出\n",
        "    self._birthday = birthday"
      ],
      "metadata": {
        "id": "xPrfysngdrAi"
      },
      "execution_count": null,
      "outputs": []
    },
    {
      "cell_type": "markdown",
      "source": [
        "classの宣言直後、2行目で**\\_\\_init\\_\\_(self,name,gender,birthday)**という部分が変わりました。この**\\_\\_init\\_\\_**というメソッドが**コンストラクタ**です。\n",
        "他の普通のメソッドは(ほぼ)自由に名前を付けられますが、コンストラクタは**\\_\\_init\\_\\_**でなければなりません。"
      ],
      "metadata": {
        "id": "ugsMjrLzdqvo"
      }
    },
    {
      "cell_type": "markdown",
      "source": [
        "### 💮クラス変数とインスタンス変数、ローカル変数"
      ],
      "metadata": {
        "id": "HDV816CW0Irr"
      }
    },
    {
      "cell_type": "markdown",
      "source": [
        "さて、ここまで進んだ皆さんは、**self**の存在を不思議に思っているはずです。selfはメソッドの定義を見る限り第一引数ですが、呼び出し側では、第一引数にそれを設定する訳ではありません。\n",
        "\n",
        "例えばbirthdayメソッド(setter)はクラス内で次のように定義されます。\n",
        "```\n",
        "def birthday(self, birthday):\n",
        "```\n",
        "クラス内のメソッドは必ず最初の引数を**self**とし、２番目以降に必要な引数を定義します。ところがインスタンスからこのメソッドを呼び出す場合は次のようになります。\n",
        "\n",
        "```\n",
        "tsudaUmeko.birthday(datetime.datetime(1864, 12, 31))\n",
        "```\n",
        "\n",
        "引数は一つだけです。しかもこの第１引数は、メソッド側ではselfとbirthdayという２つの引数のうち２番目の引数に格納されます。**このselfはPythonの実行系によって自動的に付与される「<u>自分自身(インスタンス)を指す変数</u>」です。**Javaでいう**this**に相当するものだと考えると理解しやすいかもしれません。Javaの場合は最初の言語設計の段階からオブジェクト指向ですので、Pythonのような<u>まどろっこしさ</u>無しに、メソッドの中では普通に**this**が使えるような仕様になっていますが、Pythonではそれがメソッドの第一引数として渡される事によって、メソッド内で(thisに相当する)**self**が使えるようになります。\n",
        "\n",
        "では、もう一度コンストラクタ(**\\_\\_init\\_\\_**)を見てみましょう。この中で**self**を使って以下のような変数が作成されています。\n",
        "\n",
        "```\n",
        "    self.name   = name\n",
        "    self.gender = gender\n",
        "    self._birthday = birthday\n",
        "```\n",
        "\n",
        "**self**は**インスタンス**を指すので```self.name```はインスタンスに紐づいた**name**という変数を意味します。これを**インスタンス変数**と呼びます。\n",
        "\n",
        "**self**の意味が分かった所で、上の方で作った**TsudaUmekoクラス**と**Userクラス**を比較してみましょう。\n",
        "\n",
        "\n",
        "```\n",
        "class TsudaUmeko:\n",
        "  name   = '津田梅子'\n",
        "  gender = 'female'\n",
        "  _birthday = datetime.datetime(1864, 12, 31)\n",
        "\n",
        "```\n",
        "\n",
        "```\n",
        "class User:\n",
        "  def __init__(self,name,gender,birthday):\n",
        "    self.name   = name\n",
        "    self.gender = gender\n",
        "    self._birthday = birthday\n",
        "# 後略\n",
        "```\n",
        "\n",
        "TsudaUmekoクラスの方は```name='津田梅子'```となっているのに対して、Userクラスの方は```self.name='津田梅子'```となっています。**前者がクラス変数**、**後者がインスタンス変数**です。\n",
        "\n",
        "では、**クラス変数**と**インスタンス変数**は何が違うのでしょうか。\n",
        "\n",
        "言葉で説明すると以下のようになります。\n",
        "\n",
        "* クラス変数とは、その変数がクラスに属している変数です。\n",
        "* インスタンス変数とは、その変数がインスタンスに属している変数です。\n",
        "\n",
        "と、これじゃ何の事か分かりませんが、説明としては完璧です。これを理解する為に実例を見てみましょう。ちょっとTsudaUmekoクラスの例から離れます。"
      ],
      "metadata": {
        "id": "nBpUyVaFiQcO"
      }
    },
    {
      "cell_type": "code",
      "source": [
        "class Fruits:\n",
        "  classVar = 'フルーツ'\n",
        "  def __init__(self,localVar):\n",
        "    self.instanceVar = localVar\n",
        "\n",
        "  def showVars(self):\n",
        "    print (self.classVar + '\\tクラス変数')\n",
        "    print (self.instanceVar + '\\tインスタンス変数')\n",
        "\n",
        "  def updateClassVar(self,newVar):\n",
        "    self.classVar = newVar\n",
        "\n",
        "pinapple = Fruits('パイナップル')\n",
        "apple = Fruits('アップル')\n",
        "\n",
        "print ('パイナップルクラス===========================')\n",
        "pinapple.showVars()\n",
        "\n",
        "print ('アップルクラス===============================')\n",
        "apple.showVars()\n",
        "\n",
        "# クラス変数を変更する\n",
        "Fruits.classVar ='果実'\n",
        "\n",
        "print ('パイナップルクラス===========================')\n",
        "# クラス変数が更新されてる？\n",
        "pinapple.showVars()\n",
        "\n",
        "print ('アップルクラス===============================')\n",
        "# クラス変数が更新されてる？\n",
        "apple.showVars()\n",
        "\n"
      ],
      "metadata": {
        "colab": {
          "base_uri": "https://localhost:8080/"
        },
        "id": "2NCwNDVORqKv",
        "outputId": "dca426e6-e377-4416-ee4b-e2f2a460818d"
      },
      "execution_count": 2,
      "outputs": [
        {
          "output_type": "stream",
          "name": "stdout",
          "text": [
            "パイナップルクラス===========================\n",
            "フルーツ\tクラス変数\n",
            "パイナップル\tインスタンス変数\n",
            "アップルクラス===============================\n",
            "フルーツ\tクラス変数\n",
            "アップル\tインスタンス変数\n",
            "パイナップルクラス===========================\n",
            "果実\tクラス変数\n",
            "パイナップル\tインスタンス変数\n",
            "アップルクラス===============================\n",
            "果実\tクラス変数\n",
            "アップル\tインスタンス変数\n"
          ]
        }
      ]
    },
    {
      "cell_type": "markdown",
      "source": [
        "このコードで見るべきは、```Fruits.class='果実'```の所でクラス変数を書き換えている訳ですが、```pinapple```と```apple```の双方のクラス変数が書き換えられている点です。\n",
        "\n",
        "クラス変数が更新されると、その更新された時点より前に作成されたインスタンスのクラス変数も更新されます。というか、各インスタンスから参照されるクラス変数は全く同じものだと考えておけば良いです。\n",
        "\n",
        "ここで、Python**ならでわ**の注意事項があります。クラス変数は```Fruits.classVar```というように**クラス名.クラス変数名**という形式でアクセスしましたが、もし```pinapple.classVar```としてアクセスしてしまうとどうでしょう？"
      ],
      "metadata": {
        "id": "T-cuTjIDX33S"
      }
    },
    {
      "cell_type": "code",
      "source": [
        "pinapple.classVar = '間違えてインスタンス名を使ってクラス変数に参照てしまった';"
      ],
      "metadata": {
        "id": "vBy6KUp-xGsb"
      },
      "execution_count": 3,
      "outputs": []
    },
    {
      "cell_type": "markdown",
      "source": [
        "はい。このコードはエラーなく動きます。では双方のインスタンスのクラス変数を見てみましょう。"
      ],
      "metadata": {
        "id": "miC0nGNzxSEi"
      }
    },
    {
      "cell_type": "code",
      "source": [
        "print ('パイナップルクラス===========================')\n",
        "# クラス変数が更新されてる？\n",
        "pinapple.showVars()\n",
        "\n",
        "print ('アップルクラス===============================')\n",
        "# クラス変数が更新されてる？\n",
        "apple.showVars()"
      ],
      "metadata": {
        "colab": {
          "base_uri": "https://localhost:8080/"
        },
        "id": "S_M4bgNSxYVL",
        "outputId": "bd19037f-7c20-4c74-cabf-f46378d3f83a"
      },
      "execution_count": 4,
      "outputs": [
        {
          "output_type": "stream",
          "name": "stdout",
          "text": [
            "パイナップルクラス===========================\n",
            "間違えてインスタンス名を使ってクラス変数に参照てしまった\tクラス変数\n",
            "パイナップル\tインスタンス変数\n",
            "アップルクラス===============================\n",
            "果実\tクラス変数\n",
            "アップル\tインスタンス変数\n"
          ]
        }
      ]
    },
    {
      "cell_type": "markdown",
      "source": [
        "あれ、クラス変数は、そのクラスから作ったインスタンス全てで共通のはずなのに、なぜかパイナップルクラスのみが書き換わっています。\n",
        "\n",
        "これは、実はPythonの分かりずらい所でもありますし、これを理解せずにプログラムを組むとバグでハマる所でもあります。\n",
        "\n",
        "**実は**```pinapple.classVar='hogehoge'```**では、Fruitsのクラス変数へのアクセスにはなっていないんです。**\n",
        "\n",
        "これは、**pinappleインスタンス**に、新たに**classVar**というインスタンス変数を作って、そこに文字列**hogehoge**を格納しなさいという命令になってしまっています。\n",
        "\n",
        "そしてPythonは「**同名のクラス変数とインスタンス変数があったとき、インスタンス変数を優先する**」という仕様になっており、```print(self.classVar)```において、**pinappleインスタンス**はインスタンス変数の**classVar**を表示し、**appleインスタンス**はクラス変数の**classVar**を表示したため、違う値になってしまいました。\n",
        "\n",
        "これは何かの便利機能の為の仕様という訳ではなく、ある意味**災害をもたらす厄介な仕様**ですので、上記の説明が理解できなかったとしても、「**クラス変数は定数的なものを格納し、更新しない**」、「**クラス変数と同名のインスタンス変数は絶対に作らない**」と、この二点を守れば問題は起きません。またクラス変数とインスタンス変数は、区別しにくいので、命名規則で分かるようにしておくのも良いと思います。\n",
        "\n",
        "さて、**TsudaUmekoクラス**/**Userクラス**に話を戻します。もう一つ、Pythonにはローカル変数というものもあります。これも**Userクラス**のコード例にすでに存在しています。\n",
        "\n",
        "```\n",
        "  def __init__(self,localVar):\n",
        "    self.instanceVar = localVar\n",
        "```\n",
        "\n",
        "この引数で渡ってくるlocalVarは代表的なローカル変数です。その他、このメソッド(関数)内で定義された変数は全てローカル変数となります。ローカル変数はそのメソッド内でしか使う事のできない変数です。メソッドが終了する時にメモリ上からも削除されます。\n",
        "\n",
        "つまり**localVar**はローカル変数のため**__init__**コンストラクタが終了する時点でメモリ上から消えてしまいます。その為これをインスタンス変数**instanceVar**に代入する事で、インスタンスがメモリ上にある限り、アクセスできるようになる訳です。\n",
        "\n",
        "さて、このノートではクラスの機能を見てきました。関係性を図にすると以下のようになります。"
      ],
      "metadata": {
        "id": "yUVYGNxNxeFp"
      }
    },
    {
      "cell_type": "markdown",
      "source": [
        "![](https://raw.githubusercontent.com/YokoyamaLab/PythonBasics/main/images/day03_variable.svg)"
      ],
      "metadata": {
        "id": "bCRr__NTcUu6"
      }
    },
    {
      "cell_type": "markdown",
      "source": [
        "## 🌀まとめ \n",
        "\n",
        "データの塊からクラスを作るというボトムアップ式にPythonのオブジェクト指向を学びましたが、まだオブジェクト指向の最も重要な概念である「継承」の理解が残っています。これは次回、グラフィック処理と共に学ぶ事にします。\n",
        "\n",
        "[講義サポートページ](https://github.com/YokoyamaLab/PythonBasics/)に戻り**課題Q1**に進んでください。"
      ],
      "metadata": {
        "id": "j4mhlL801cz3"
      }
    }
  ]
}