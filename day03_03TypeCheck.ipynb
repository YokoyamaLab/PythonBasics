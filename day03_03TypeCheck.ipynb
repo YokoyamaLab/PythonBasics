{
  "nbformat": 4,
  "nbformat_minor": 0,
  "metadata": {
    "colab": {
      "provenance": [],
      "toc_visible": true,
      "include_colab_link": true
    },
    "kernelspec": {
      "name": "python3",
      "display_name": "Python 3"
    },
    "language_info": {
      "name": "python"
    }
  },
  "cells": [
    {
      "cell_type": "markdown",
      "metadata": {
        "id": "view-in-github",
        "colab_type": "text"
      },
      "source": [
        "<a href=\"https://colab.research.google.com/github/YokoyamaLab/PythonBasics/blob/main/day02_03TypeCheck.ipynb\" target=\"_parent\"><img src=\"https://colab.research.google.com/assets/colab-badge.svg\" alt=\"Open In Colab\"/></a>"
      ]
    },
    {
      "cell_type": "markdown",
      "source": [
        "# Day02 資料03: 型チェック"
      ],
      "metadata": {
        "id": "9mqXiPTmvcFw"
      }
    },
    {
      "cell_type": "markdown",
      "source": [
        "## 🌀変数の型が何か調べる"
      ],
      "metadata": {
        "id": "vQuAlWGyjFQ8"
      }
    },
    {
      "cell_type": "markdown",
      "source": [
        "Day01で単純な数値型から複雑なDictionary型まで、様々な型を学びました。Day02では条件によって処理を変化させる制御構文を学びました。これらを組み合わせる事により、「**変数の型によって処理を切り替える**」という事ができるようになります。\n",
        "\n",
        "ある変数の型を知るには、Day01でもちょっと紹介しましたが、**type()**関数を使います。"
      ],
      "metadata": {
        "id": "tNTuMdKujKlc"
      }
    },
    {
      "cell_type": "code",
      "source": [
        "# 整数型の変数を用意する\n",
        "i = 20\n",
        "\n",
        "# type関数に渡してみる\n",
        "print(type(i))\n",
        "\n",
        "# is intで整数かどうかをチェックする\n",
        "print(type(i) is int)\n",
        "\n",
        "# is intとif文を使って判定する\n",
        "if(type(i) is int):\n",
        "  print(\"変数iは整数みたいだ\")\n",
        "else:\n",
        "  print(\"変数iは整数ではないようだ\")"
      ],
      "metadata": {
        "id": "A4YkaP34kDC7"
      },
      "execution_count": null,
      "outputs": []
    },
    {
      "cell_type": "markdown",
      "source": [
        "他にはどのような型をチェックできるでしょうか。"
      ],
      "metadata": {
        "id": "vlC-10oT3wly"
      }
    },
    {
      "cell_type": "code",
      "source": [
        "values = [\n",
        "    \"Hello\",\n",
        "    100,\n",
        "    14.5,\n",
        "    7.0 + 5j,\n",
        "    [1, 2, 3],\n",
        "    (1, 2, 3),\n",
        "    {1:\"A\", 2:\"B\", 3:\"C\"},\n",
        "    True,\n",
        "    None,\n",
        "]\n",
        "\n",
        "for v in values:\n",
        "  print(v,type(v));"
      ],
      "metadata": {
        "id": "cZyhSuTr3X_c"
      },
      "execution_count": null,
      "outputs": []
    },
    {
      "cell_type": "markdown",
      "source": [
        "## 🌀まとめ "
      ],
      "metadata": {
        "id": "KrgfH9SNvsgZ"
      }
    },
    {
      "cell_type": "markdown",
      "source": [
        "このノートブックでは、これまで学んだ、データ型と制御構文を使って、ある変数に格納されたデータの型は何かを判定する方法を学習しました。\n",
        "\n",
        "[講義サポートページ](https://github.com/YokoyamaLab/PythonBasics/)に戻り**課題Q1**に進んでください。"
      ],
      "metadata": {
        "id": "o-485t8EvtLo"
      }
    }
  ]
}
