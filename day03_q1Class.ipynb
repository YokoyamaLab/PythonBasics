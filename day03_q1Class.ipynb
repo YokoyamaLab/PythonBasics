{
  "nbformat": 4,
  "nbformat_minor": 0,
  "metadata": {
    "colab": {
      "provenance": [],
      "toc_visible": true,
      "authorship_tag": "ABX9TyNHySgdlpmBqbEmgp7RWB/m",
      "include_colab_link": true
    },
    "kernelspec": {
      "name": "python3",
      "display_name": "Python 3"
    },
    "language_info": {
      "name": "python"
    }
  },
  "cells": [
    {
      "cell_type": "markdown",
      "metadata": {
        "id": "view-in-github",
        "colab_type": "text"
      },
      "source": [
        "<a href=\"https://colab.research.google.com/github/YokoyamaLab/PythonBasics/blob/main/day03_q1Class.ipynb\" target=\"_parent\"><img src=\"https://colab.research.google.com/assets/colab-badge.svg\" alt=\"Open In Colab\"/></a>"
      ]
    },
    {
      "cell_type": "markdown",
      "source": [
        "# Day3 課題Q1"
      ],
      "metadata": {
        "id": "qRHrBUGEg6vY"
      }
    },
    {
      "cell_type": "markdown",
      "source": [
        "まず、以下のセルに学籍番号と名前とフリガナを入れて、実行してください。次に[**ファイル**]-[ドライブにコピーを保存]から自分のGoogle Driveにこのノートブックのコピーを保存しましょう。"
      ],
      "metadata": {
        "id": "6AnnTOVbg_7-"
      }
    },
    {
      "cell_type": "code",
      "source": [
        "#@title 学籍番号、名前\n",
        "id = None #@param {type:\"integer\"}\n",
        "kana = \"\"  #@param {type:\"string\"}\n",
        "name = \"\" #@param {type:\"string\"}"
      ],
      "metadata": {
        "id": "eYiKslYwhCgN"
      },
      "execution_count": null,
      "outputs": []
    },
    {
      "cell_type": "markdown",
      "source": [
        "前回の宿題では『データ』を作成しました。今回は**『クラス』を設計・実装**してもらいます。次回講義ではグラフィックを学びますが、そこで皆さん自身のアバター(似顔絵)を描画するプログラムを書いてもらいます。その基礎となるクラスを設計しましょう。今回は、みんなで同じ仕様にしましょう。"
      ],
      "metadata": {
        "id": "88VUqa_knip9"
      }
    },
    {
      "cell_type": "markdown",
      "source": [
        "## 課題１：クラスの実装"
      ],
      "metadata": {
        "id": "Ke8r5LfZnqx6"
      }
    },
    {
      "cell_type": "markdown",
      "source": [
        "以下のコードセルにクラスを定義してください。ただし、クラス名は**Avator学籍番号**とする事。例えば学籍番号が0000000ならクラス名は**Avator0000000**となります。これは次回学習する事の布石として、全員のクラス名をバラバラにするための措置です。宿題として満たすべき仕様はコードセルの下に書いてあります。\n",
        "\n",
        "\n"
      ],
      "metadata": {
        "id": "m1S8NBt2jYGL"
      }
    },
    {
      "cell_type": "code",
      "source": [
        "# 課題１の解答はここへ"
      ],
      "metadata": {
        "id": "-6xQuW_ulbDY"
      },
      "execution_count": null,
      "outputs": []
    },
    {
      "cell_type": "markdown",
      "source": [
        "**仕様**\n",
        "\n",
        "* 名前、フリガナと学籍番号をインスタンス変数として管理するクラスを作成。\n",
        "* クラス名は**Avator学籍番号**\n",
        "* インスタンスの引数は以下の順序にせよ\n",
        "  1. 名前\n",
        "  1. フリガナ\n",
        "  1. 学籍番号\n",
        "* 以下のメソッドを作成せよ\n",
        "   * getName():名前を返す\n",
        "   * getKana():フリガナを返す\n",
        "   * getID(): 学籍番号を返す\n",
        "\n"
      ],
      "metadata": {
        "id": "cuY1lyucllnM"
      }
    },
    {
      "cell_type": "markdown",
      "source": [
        "## 課題２：クラスの利用"
      ],
      "metadata": {
        "id": "VuoqFsEPrq9H"
      }
    },
    {
      "cell_type": "markdown",
      "source": [
        "上記のクラスのインスタンスを作成し、**my_homework**という変数に格納せよ。"
      ],
      "metadata": {
        "id": "3xNQLVjNsD6T"
      }
    },
    {
      "cell_type": "code",
      "source": [
        "## 課題２のコードはここに"
      ],
      "metadata": {
        "id": "Xx4zPP86sM03"
      },
      "execution_count": null,
      "outputs": []
    },
    {
      "cell_type": "markdown",
      "source": [
        "**期限**\n",
        "\n",
        "次回講義の１日前の23:59までに提出したものを評価します。\n",
        "\n"
      ],
      "metadata": {
        "id": "1Evg4ieFrqes"
      }
    },
    {
      "cell_type": "markdown",
      "source": [
        "# おしまい"
      ],
      "metadata": {
        "id": "i-lE-W6ytGW6"
      }
    },
    {
      "cell_type": "markdown",
      "source": [
        "講義内で説明した方法に従って、この宿題を提出してください。お疲れ様でした。\n",
        "\n",
        "以下のコードは集計用のコードですので、変更しないでください。"
      ],
      "metadata": {
        "id": "jlouTEVStK2B"
      }
    },
    {
      "cell_type": "code",
      "source": [
        "if not('marged_homework' in locals()):\n",
        "    marged_homework = {}\n",
        "marged_homework[id] = {\n",
        "    \"name\": name,\n",
        "    \"report\": my_homework.copy()\n",
        "}"
      ],
      "metadata": {
        "id": "j4y82EmUtCk8"
      },
      "execution_count": null,
      "outputs": []
    }
  ]
}