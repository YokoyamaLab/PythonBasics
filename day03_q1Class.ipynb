{
  "nbformat": 4,
  "nbformat_minor": 0,
  "metadata": {
    "colab": {
      "provenance": [],
      "include_colab_link": true
    },
    "kernelspec": {
      "name": "python3",
      "display_name": "Python 3"
    },
    "language_info": {
      "name": "python"
    }
  },
  "cells": [
    {
      "cell_type": "markdown",
      "metadata": {
        "id": "view-in-github",
        "colab_type": "text"
      },
      "source": [
        "<a href=\"https://colab.research.google.com/github/YokoyamaLab/PythonBasics/blob/2024/day03_q1Class.ipynb\" target=\"_parent\"><img src=\"https://colab.research.google.com/assets/colab-badge.svg\" alt=\"Open In Colab\"/></a>"
      ]
    },
    {
      "cell_type": "markdown",
      "source": [
        "# Day03 課題Q1：クラスの設計"
      ],
      "metadata": {
        "id": "qRHrBUGEg6vY"
      }
    },
    {
      "cell_type": "markdown",
      "source": [
        "まず、以下のセルに学籍番号と名前を入れて、実行してください。Google Classroomから配布された場合はこのファイルに直接書き込んで保存してください。Classroomの課題のページで[**提出**]ボタンを押さないと、提出した事になりませんので注意してください。"
      ],
      "metadata": {
        "id": "6AnnTOVbg_7-"
      }
    },
    {
      "cell_type": "code",
      "source": [
        "#@title 学籍番号、名前\n",
        "id = \"\" #@param {type:\"string\"}\n",
        "name = \"\" #@param {type:\"string\"}"
      ],
      "metadata": {
        "id": "eYiKslYwhCgN"
      },
      "execution_count": null,
      "outputs": []
    },
    {
      "cell_type": "markdown",
      "source": [
        "前回の宿題では『データ』を作成しました。今回は**『クラス』を設計・実装**してもらいます。\n",
        "\n",
        "まず「人」を表すクラスを作ります。これを参考にして「大学生」を表すクラスを作りましょう。"
      ],
      "metadata": {
        "id": "88VUqa_knip9"
      }
    },
    {
      "cell_type": "markdown",
      "source": [
        "## 準備：Personクラスの実装"
      ],
      "metadata": {
        "id": "CuJjn1A5wYUm"
      }
    },
    {
      "cell_type": "markdown",
      "source": [
        "「人」を管理するクラスとして、以下のクラスを設計しました。まずこのセルを実行しましょう。"
      ],
      "metadata": {
        "id": "T989nV00wdm8"
      }
    },
    {
      "cell_type": "code",
      "source": [
        "class Person:\n",
        "  def __init__(self,name,gender,birthday):\n",
        "    self.name   = name\n",
        "    self.gender = gender　# femaleかmaleという文字列を入れる"
      ],
      "metadata": {
        "id": "vIE1x3Frw6PN"
      },
      "execution_count": null,
      "outputs": []
    },
    {
      "cell_type": "markdown",
      "source": [
        "インスタンスの作り方は以下の通り"
      ],
      "metadata": {
        "id": "B_eSpnK1xsmB"
      }
    },
    {
      "cell_type": "code",
      "source": [
        "tsudaUmeko = Person('津田梅子','female')"
      ],
      "metadata": {
        "id": "vlSt9h65xuWj"
      },
      "execution_count": null,
      "outputs": []
    },
    {
      "cell_type": "markdown",
      "source": [
        "ここまでは授業でやりました。ではこれを参考に「大学生」のクラスを設計してみましょう。"
      ],
      "metadata": {
        "id": "zaAO208gxwiB"
      }
    },
    {
      "cell_type": "markdown",
      "source": [
        "## 課題１：クラスの継承"
      ],
      "metadata": {
        "id": "Ke8r5LfZnqx6"
      }
    },
    {
      "cell_type": "markdown",
      "source": [
        "以下のコードセルにクラスを定義してください。ただし、クラス名は**Student**とする事。さて、大学生を表す情報として、Personクラスに追加して何が必要でしょうか？\n",
        "\n",
        "- 大学名\n",
        "- 学部名\n",
        "- 学科名\n",
        "- 入学年\n",
        "\n",
        "これぐらいは必要ですね。ではコンストラクタで名前などに加えてこれらの情報も指定できるようにしてみましょう。\n",
        "\n",
        "加えて以下の要件を満たすクラスを設計してください。\n",
        "\n",
        "* 以下のメソッドを作成せよ\n",
        "   * getGrade(y): 引数yに西暦を入れると、その時点で入学何年目かを返す。(2023年度入学の人は2023と引数に入れると1と返す。)\n",
        "* 以下のプロパティを実装せよ\n",
        "   * name: 名前(苗字 名前)を返す\n",
        "\n",
        "\n"
      ],
      "metadata": {
        "id": "m1S8NBt2jYGL"
      }
    },
    {
      "cell_type": "code",
      "source": [
        "# 課題１の解答はここへ"
      ],
      "metadata": {
        "id": "-6xQuW_ulbDY"
      },
      "execution_count": null,
      "outputs": []
    },
    {
      "cell_type": "markdown",
      "source": [
        "## 課題２：クラスの利用"
      ],
      "metadata": {
        "id": "VuoqFsEPrq9H"
      }
    },
    {
      "cell_type": "markdown",
      "source": [
        "上記のクラスに対して自分自身の情報を使ってインスタンスを作成し、**me**という変数に格納せよ。"
      ],
      "metadata": {
        "id": "3xNQLVjNsD6T"
      }
    },
    {
      "cell_type": "code",
      "source": [
        "## 課題２のコードはここに"
      ],
      "metadata": {
        "id": "Xx4zPP86sM03"
      },
      "execution_count": null,
      "outputs": []
    },
    {
      "cell_type": "markdown",
      "source": [
        "以下のコードが正しく動いたらおそらく、課題の仕様を満たしています。実行してチェックしてみましょう。"
      ],
      "metadata": {
        "id": "ZDA4Cb-W7SlU"
      }
    },
    {
      "cell_type": "code",
      "source": [
        "print(my_homework.getGrade(2023))\n",
        "print(my_homework.name)"
      ],
      "metadata": {
        "id": "wPn7RzgH7ZMz"
      },
      "execution_count": null,
      "outputs": []
    },
    {
      "cell_type": "markdown",
      "source": [
        "**期限**\n",
        "\n",
        "次回講義の１日前の23:59までに提出したものを評価します。\n",
        "\n"
      ],
      "metadata": {
        "id": "1Evg4ieFrqes"
      }
    },
    {
      "cell_type": "markdown",
      "source": [
        "# おしまい"
      ],
      "metadata": {
        "id": "i-lE-W6ytGW6"
      }
    },
    {
      "cell_type": "markdown",
      "source": [
        "講義内で説明した方法に従って、この宿題を提出してください。お疲れ様でした。"
      ],
      "metadata": {
        "id": "jlouTEVStK2B"
      }
    }
  ]
}