{
  "nbformat": 4,
  "nbformat_minor": 0,
  "metadata": {
    "colab": {
      "provenance": [],
      "authorship_tag": "ABX9TyOlnf1zopJCezfwM6n9kwn0",
      "include_colab_link": true
    },
    "kernelspec": {
      "name": "python3",
      "display_name": "Python 3"
    },
    "language_info": {
      "name": "python"
    }
  },
  "cells": [
    {
      "cell_type": "markdown",
      "metadata": {
        "id": "view-in-github",
        "colab_type": "text"
      },
      "source": [
        "<a href=\"https://colab.research.google.com/github/YokoyamaLab/PythonBasics/blob/main/day03_q2Lambda.ipynb\" target=\"_parent\"><img src=\"https://colab.research.google.com/assets/colab-badge.svg\" alt=\"Open In Colab\"/></a>"
      ]
    },
    {
      "cell_type": "markdown",
      "source": [
        "# Day03 課題Q2 発展課題"
      ],
      "metadata": {
        "id": "ei0kw-5dhD8c"
      }
    },
    {
      "cell_type": "markdown",
      "source": [
        "> 発展課題は提出必須ではありません\n",
        "\n",
        "まず、以下のセルに学籍番号と名前を入れて、実行してください。Google Classroomから配布された場合はこのファイルに直接書き込んで保存してください。Classroomの課題のページで[**提出**]ボタンを押さないと、提出した事になりませんので注意してください。"
      ],
      "metadata": {
        "id": "cbFRS8YdhBkv"
      }
    },
    {
      "cell_type": "code",
      "execution_count": null,
      "metadata": {
        "cellView": "form",
        "id": "NcLtFaPzg6lf"
      },
      "outputs": [],
      "source": [
        "#@title 学籍番号、名前\n",
        "id = \"\" #@param {type:\"string\"}\n",
        "name = \"\" #@param {type:\"string\"}"
      ]
    },
    {
      "cell_type": "markdown",
      "source": [
        "【課題】ランダムで生成したリストをMapで処理し、3の倍数か3が付く数の時だけ、正負を反転させよ。尚、ラムダ式を使い一行のプログラムで示せ。\n",
        "\n",
        "\n",
        "まず、以下のコードでランダムなリストを生成します。"
      ],
      "metadata": {
        "id": "9xdAcTLOhbHX"
      }
    },
    {
      "cell_type": "code",
      "source": [
        "import random\n",
        "in_list = random.sample(range(-50,50), k=30)\n",
        "print(in_list)"
      ],
      "metadata": {
        "colab": {
          "base_uri": "https://localhost:8080/"
        },
        "id": "KC1XZazDh9Qz",
        "outputId": "c03808a0-4a15-415a-ee24-c55c4cbcf1e2"
      },
      "execution_count": 3,
      "outputs": [
        {
          "output_type": "stream",
          "name": "stdout",
          "text": [
            "[-8, 2, -13, -4, 32, 39, 42, 16, -20, -34, 20, -43, 13, 5, 28, -31, -33, 14, -50, 31, -6, -30, -48, -2, 11, -46, -7, -28, 33, -23]\n"
          ]
        }
      ]
    },
    {
      "cell_type": "markdown",
      "source": [
        "**in_list**は長さ30の-50～50までの整数を持つリストです。これを3の倍数か3が付く数の時だけ符号を反転させて、**out_list**という変数に格納してください。\n",
        "\n",
        "コードは一行で実現してください。"
      ],
      "metadata": {
        "id": "O0qug7QniVeK"
      }
    },
    {
      "cell_type": "code",
      "source": [
        "# ここに実装\n",
        "out_list = "
      ],
      "metadata": {
        "id": "iK3sg8f1izbo"
      },
      "execution_count": null,
      "outputs": []
    },
    {
      "cell_type": "markdown",
      "source": [
        "以下のコードでout_listを確認して、正しければ提出してください。"
      ],
      "metadata": {
        "id": "nHyz0D3Ji4cY"
      }
    },
    {
      "cell_type": "code",
      "source": [
        "print(in_list)\n",
        "print(out_list)"
      ],
      "metadata": {
        "id": "P24KgJHEi7Go"
      },
      "execution_count": null,
      "outputs": []
    },
    {
      "cell_type": "markdown",
      "source": [
        "**期限**\n",
        "\n",
        "次回講義の１日前の23:59までに提出したものを評価します。\n"
      ],
      "metadata": {
        "id": "ZVex5IVzjFhp"
      }
    },
    {
      "cell_type": "markdown",
      "source": [
        "# おしまい"
      ],
      "metadata": {
        "id": "8IN18Q1NjI4v"
      }
    },
    {
      "cell_type": "markdown",
      "source": [
        "講義内で説明した方法に従って、この宿題を提出してください。お疲れ様でした。\n",
        "\n",
        "以下のコードは集計用のコードですので、変更しないでください。"
      ],
      "metadata": {
        "id": "AMCDRpxMjKgf"
      }
    },
    {
      "cell_type": "code",
      "source": [
        "if not('marged_homework' in locals()):\n",
        "    marged_homework = {}\n",
        "marged_homework[id] = {\n",
        "    \"name\": name,\n",
        "    \"report\": {\n",
        "        \"in_list\":in_list,\n",
        "        \"out_lsit\":out_list\n",
        "    }\n",
        "}"
      ],
      "metadata": {
        "id": "j0A5LZlJjMjv"
      },
      "execution_count": null,
      "outputs": []
    }
  ]
}