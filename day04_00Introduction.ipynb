{
  "nbformat": 4,
  "nbformat_minor": 0,
  "metadata": {
    "colab": {
      "provenance": [],
      "include_colab_link": true
    },
    "kernelspec": {
      "name": "python3",
      "display_name": "Python 3"
    },
    "language_info": {
      "name": "python"
    }
  },
  "cells": [
    {
      "cell_type": "markdown",
      "metadata": {
        "id": "view-in-github",
        "colab_type": "text"
      },
      "source": [
        "<a href=\"https://colab.research.google.com/github/YokoyamaLab/PythonBasics/blob/2024/day04_00Introduction.ipynb\" target=\"_parent\"><img src=\"https://colab.research.google.com/assets/colab-badge.svg\" alt=\"Open In Colab\"/></a>"
      ]
    },
    {
      "cell_type": "markdown",
      "source": [
        "# Day04 解説"
      ],
      "metadata": {
        "id": "PrpjSlTCTMIc"
      }
    },
    {
      "cell_type": "markdown",
      "source": [
        "これまでに講義3回かけてPythonの文法について学びました。ここからは応用に入ります。応用パートではDay05の演習デーを挟んで、グラフィック、文字列処理、数値処理と進めます。これからは説明を長々するよりも、自分でコードを書いてもらう事を多くしますので、がんばってついてきてください。\n",
        "\n",
        "後半の初めはグラフィックについて学びます。ここから三週は演習を交えて、皆さんの成果物を講義内で発表してもらいます。\n",
        "\n",
        "* Day04: グラフィックライブラリの習得\n",
        "* Day05: 一日丸々演習Day\n",
        "* Day06: 成果物発表会\n",
        "\n",
        "Day04はグラフィック処理をやりつつ、前回のクラスでまだ触れていない『継承』という概念を学びます。\n",
        "\n",
        "資料は01～03で、資料01ではTurtleグラフィックスを学びます。これは画面に線を描くための最初歩です。資料02ではPillowというちょっと高度な画像描画ライブラリを学びます。最後に資料03で、前回講義の続きであるオブジェクト指向の『継承』の概念と利点をグラフィック処理とともに学びます。\n",
        "\n",
        "それでは、 Day04資料01から始めましょう！"
      ],
      "metadata": {
        "id": "TSM2anAITOm0"
      }
    }
  ]
}