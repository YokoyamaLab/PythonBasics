{
  "nbformat": 4,
  "nbformat_minor": 0,
  "metadata": {
    "colab": {
      "provenance": [],
      "authorship_tag": "ABX9TyNcd74cfLtzz1+vfd1q/ebQ",
      "include_colab_link": true
    },
    "kernelspec": {
      "name": "python3",
      "display_name": "Python 3"
    },
    "language_info": {
      "name": "python"
    }
  },
  "cells": [
    {
      "cell_type": "markdown",
      "metadata": {
        "id": "view-in-github",
        "colab_type": "text"
      },
      "source": [
        "<a href=\"https://colab.research.google.com/github/YokoyamaLab/PythonBasics/blob/main/day04_00Introduction.ipynb\" target=\"_parent\"><img src=\"https://colab.research.google.com/assets/colab-badge.svg\" alt=\"Open In Colab\"/></a>"
      ]
    },
    {
      "cell_type": "markdown",
      "source": [
        "# Day04 解説"
      ],
      "metadata": {
        "id": "PrpjSlTCTMIc"
      }
    },
    {
      "cell_type": "markdown",
      "source": [
        "これまでに講義3回かけてPythonの文法について学びました。ここからは応用に入ります。応用パートではDay05の演習デーを挟んで、グラフィック、文字列処理、数値処理と進めます。これからは説明を長々するよりも、自分でコードを書いてもらう事を多くしますので、がんばってついてきてください。\n",
        "\n",
        "Day04はグラフィック処理をやりつつ、前回のクラスでまだ触れていない『継承』という概念を学びます。\n",
        "\n",
        "資料01ではTurtleグラフィックスを学びます。これは画面に線を描くための最初歩です。資料02ではPillowというちょっと高度な画像描画ライブラリを使いつつ、クラスの継承を学びます。資料03ではOpenCVと言う画像処理ライブラリを使う例を示します。\n",
        "\n",
        "それでは、 [講義ホームページ](https://github.com/YokoyamaLab/PythonBasics)に戻って、Day04資料01から始めましょう！"
      ],
      "metadata": {
        "id": "TSM2anAITOm0"
      }
    }
  ]
}