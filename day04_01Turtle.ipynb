{
  "nbformat": 4,
  "nbformat_minor": 0,
  "metadata": {
    "colab": {
      "provenance": [],
      "authorship_tag": "ABX9TyNbQrc8fIhSGB4hxqSKtfts",
      "include_colab_link": true
    },
    "kernelspec": {
      "name": "python3",
      "display_name": "Python 3"
    },
    "language_info": {
      "name": "python"
    }
  },
  "cells": [
    {
      "cell_type": "markdown",
      "metadata": {
        "id": "view-in-github",
        "colab_type": "text"
      },
      "source": [
        "<a href=\"https://colab.research.google.com/github/YokoyamaLab/PythonBasics/blob/main/day04_01Turtle.ipynb\" target=\"_parent\"><img src=\"https://colab.research.google.com/assets/colab-badge.svg\" alt=\"Open In Colab\"/></a>"
      ]
    },
    {
      "cell_type": "markdown",
      "source": [
        "# Day04 資料01: Turtleで描く"
      ],
      "metadata": {
        "id": "KeDyvX1dW6d7"
      }
    },
    {
      "cell_type": "markdown",
      "source": [
        "## 🌀Turtle Graphicsとは"
      ],
      "metadata": {
        "id": "qq98S-ZyXJ8x"
      }
    },
    {
      "cell_type": "markdown",
      "source": [
        "> In computer graphics, turtle graphics are vector graphics using a relative cursor (the \"turtle\") upon a Cartesian plane (x and y axis). \n",
        "\n",
        "https://en.wikipedia.org/wiki/Turtle_graphics\n",
        "\n",
        "キャンバス上の任意の位置からペンを動かすように描画する手法。コンピュータグラフィックの最初歩。\n",
        "\n",
        "[PythonにおけるTurtle Graphicsのリファレンス](https://docs.python.org/ja/3/library/turtle.html)\n",
        "\n",
        "ただしデフォルトのライブラリではColab上で描画できないので、Colab用にカスタマイズされたColabTurtleというライブラリをここでは使います。\n",
        "\n",
        "[Turtle for Google Colab notebooks](https://github.com/tolgaatam/ColabTurtle)"
      ],
      "metadata": {
        "id": "lUN8oF0OXUrd"
      }
    },
    {
      "cell_type": "markdown",
      "source": [
        "まずは以下のコードを実行して、Colab用Turtleのライブラリを読み込み、このノートで有効にします。"
      ],
      "metadata": {
        "id": "PrPmns_ceXXx"
      }
    },
    {
      "cell_type": "code",
      "source": [
        "!pip3 install ColabTurtle\n",
        "from ColabTurtle.Turtle import *\n"
      ],
      "metadata": {
        "id": "b2_y-N45eRM2"
      },
      "execution_count": null,
      "outputs": []
    },
    {
      "cell_type": "markdown",
      "source": [
        "Turtleは文字通り亀を使って図形を描きます。亀はプログラムで動かす事ができ、亀の動いた軌跡に線が引かれます。\n",
        "\n",
        "では、とりあえず亀を100pixel前進させてみましょう。前身は**forward**という関数を使います。"
      ],
      "metadata": {
        "id": "Qf8ZAMDzeT4z"
      }
    },
    {
      "cell_type": "code",
      "source": [
        "initializeTurtle(initial_speed=5)\n",
        "forward(100)"
      ],
      "metadata": {
        "id": "iCa-gJ1Mfomx"
      },
      "execution_count": null,
      "outputs": []
    },
    {
      "cell_type": "markdown",
      "source": [
        "真ん中から上に100pixelの直線が引かれました。\n",
        "\n",
        "では、100pixel動いたあと、右に90度回転し、また100pixel動かしてみましょう。右回転は**right**という関数を使います。"
      ],
      "metadata": {
        "id": "vyU1Y1pzgLn9"
      }
    },
    {
      "cell_type": "code",
      "source": [
        "initializeTurtle(initial_speed=5)\n",
        "forward(100)\n",
        "right(90)\n",
        "forward(100)"
      ],
      "metadata": {
        "id": "JEDpcUOXga9w"
      },
      "execution_count": null,
      "outputs": []
    },
    {
      "cell_type": "markdown",
      "source": [
        "だいたい使い方が分かってきたでしょうか？詳しい機能は次節にあります。"
      ],
      "metadata": {
        "id": "m1ki1d8FgsR5"
      }
    },
    {
      "cell_type": "markdown",
      "source": [
        "### 💮リファレンス"
      ],
      "metadata": {
        "id": "1YJ-Pn8Ihad-"
      }
    },
    {
      "cell_type": "markdown",
      "source": [
        "* 亀の操作(相対)\n",
        "\n",
        "| メソッド      | 説明 |\n",
        "|:-------------:|-|\n",
        "| forward(*p*)  | *p*ピクセル前身 |\n",
        "| backward(*p*) | *p*ピクセル後退 |\n",
        "| right(*d*)    | *d*度右に回転 |\n",
        "| left(*d*)     | *d*度左に回転 |\n",
        "\n",
        "* 亀の操作(絶対) \n",
        "\n",
        "| メソッド    | 説明 |\n",
        "|:-----------:|-|\n",
        "| setx(*x*)   | X座標*x*に移動 |\n",
        "| sety(*y*)   | Y座標*y*に移動 |\n",
        "| goto(*x,y*) | 座標*x,y*に移動 | \n",
        "| face(*d*)   | *d*度に正面を向く |\n",
        "| home()      | 初期位置に戻る |\n",
        "\n",
        "* その他の動作\n",
        "\n",
        "| メソッド    | 説明 |\n",
        "|:-----------:|-|\n",
        "| color(*col*)   | 線の色 ※[ここから選ぶ](https://www.w3schools.com/colors/colors_names.asp)もしくは[#RRGGBB](https://www.w3schools.com/colors/colors_hexadecimal.asp)表記 |\n",
        "| bgcolor(*col*) | 背景の色 ※[ここから選ぶ](https://www.w3schools.com/colors/colors_names.asp)もしくは[#RRGGBB](https://www.w3schools.com/colors/colors_hexadecimal.asp)表記 |\n",
        "| penup()      | ペンを上げる |\n",
        "| pendown()    | ペンを下げる |\n",
        "| showturtle() | 亀を表示する |\n",
        "| hideturtle() | 亀を隠す |\n",
        "| clear()      | 全て消去 |\n",
        "| shape(sh)    | キャラクター変更 sh=['turtle','circle']\n",
        "\n",
        "* 情報取得\n",
        "\n",
        "| メソッド  | 説明 |\n",
        "|:---------------:|-|\n",
        "| getx( )         | 亀のX座標を取得 |\n",
        "| gety()          | 亀のY座標を取得 |\n",
        "| distance(*x,y*) | 亀と座標(*x*,*y*)の距離\n",
        "| heading()       | 亀の向きを取得 |\n",
        "| isvisible()     | 亀が表示されているか？\n",
        "| window_width()  | キャンバスの幅\n",
        "| window_height() | キャンバスの高さ"
      ],
      "metadata": {
        "id": "BKNM5tFshkhp"
      }
    },
    {
      "cell_type": "markdown",
      "source": [
        "## 🌀円を描く"
      ],
      "metadata": {
        "id": "OtjpSc8Z9g_m"
      }
    },
    {
      "cell_type": "markdown",
      "source": [
        "亀は直進しかできませんが、少し進んでは角度を変える事で円も描けます。for文を使ってスマートに書きましょう。"
      ],
      "metadata": {
        "id": "bTdcQd7f9pN_"
      }
    },
    {
      "cell_type": "code",
      "source": [
        "initializeTurtle(initial_speed=10)\n",
        "\n",
        "for i in range(360): # 360回繰り返す\n",
        "  forward(1)         # 1pixel進む\n",
        "  right(1)           # 1度右に回る\n",
        "\n",
        "for i in range(360): # 360回繰り返す\n",
        "  forward(1)         # 1pixel進\n",
        "  left(1)            # 1度左に回る"
      ],
      "metadata": {
        "id": "Go-Jy8X1930-"
      },
      "execution_count": null,
      "outputs": []
    },
    {
      "cell_type": "markdown",
      "source": [
        "## 🌀フラクタル図形を描く"
      ],
      "metadata": {
        "id": "42WeAeYG_20t"
      }
    },
    {
      "cell_type": "code",
      "source": [
        "initializeTurtle(initial_speed=10)\n",
        "\n",
        "# 図形を書く再帰関数\n",
        "def koch(n, length):\n",
        "    if n == 0:\n",
        "        forward(length)\n",
        "        return\n",
        "    next_length = length / 3\n",
        "    koch(n-1, next_length)\n",
        "    left(60)\n",
        "    koch(n-1, next_length)\n",
        "    right(120)\n",
        "    koch(n-1, next_length)\n",
        "    left(60)\n",
        "    koch(n-1, next_length)\n",
        "\n",
        "# 亀の初期位置を設定\n",
        "penup() # [注意！]ペンを上げて移動しないと線が引かれてしまいます\n",
        "goto(25,window_height()-25) # 絶対座標で移動先を指定します\n",
        "face(0) # [注意！]ペンを上げたら下げましょう\n",
        "pendown()\n",
        "\n",
        "# フラクタル図形を描く\n",
        "koch(4, window_width()-50)\n",
        "# 第一引数を1～5ぐらいまで変更してどんな図形が描けるか見てみよう"
      ],
      "metadata": {
        "id": "nOwLF_p0A_iv"
      },
      "execution_count": null,
      "outputs": []
    },
    {
      "cell_type": "markdown",
      "source": [
        "## 🌀まとめ "
      ],
      "metadata": {
        "id": "5EULM9XJFvRH"
      }
    },
    {
      "cell_type": "markdown",
      "source": [
        "このノートではコンピュータグラフィックスの最初歩Turtleグラフィックスを学びました。\n",
        "\n",
        "[講義サポートページ](https://github.com/YokoyamaLab/PythonBasics/)に戻り**課題Q1**に進んでください。"
      ],
      "metadata": {
        "id": "SOdqeeflFxNI"
      }
    }
  ]
}