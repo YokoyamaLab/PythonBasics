{
  "nbformat": 4,
  "nbformat_minor": 0,
  "metadata": {
    "colab": {
      "provenance": [],
      "include_colab_link": true
    },
    "kernelspec": {
      "name": "python3",
      "display_name": "Python 3"
    },
    "language_info": {
      "name": "python"
    }
  },
  "cells": [
    {
      "cell_type": "markdown",
      "metadata": {
        "id": "view-in-github",
        "colab_type": "text"
      },
      "source": [
        "<a href=\"https://colab.research.google.com/github/YokoyamaLab/PythonBasics/blob/2024/day04_02Pil.ipynb\" target=\"_parent\"><img src=\"https://colab.research.google.com/assets/colab-badge.svg\" alt=\"Open In Colab\"/></a>"
      ]
    },
    {
      "cell_type": "markdown",
      "source": [
        "# Day04 資料02: PILで描く"
      ],
      "metadata": {
        "id": "OT4KIUzmHdRT"
      }
    },
    {
      "cell_type": "markdown",
      "source": [
        "## 🌀PILとは"
      ],
      "metadata": {
        "id": "AC-CC90vHm1k"
      }
    },
    {
      "cell_type": "markdown",
      "source": [
        "PILとはPython Image Libraryの略で、Pythonで画像処理を行うためのライブラリです。元々のPILはすでにメンテナンスを終了していますが、[Pillow](https://pillow.readthedocs.io/en/stable/)というプロジェクトに引き継がれて、今でもメンテナンスがされています。\n",
        "\n",
        "Turtleに比べて、キャンバスに直接図形を描いたり、あるいは画像ファイルの入出力、処理ができます。\n",
        "\n",
        "Pillowの機能はデフォルトでは使えないので、以下のコードを実行して、Pillowを有効化しましょう。"
      ],
      "metadata": {
        "id": "pZvMjawbIOui"
      }
    },
    {
      "cell_type": "code",
      "execution_count": null,
      "metadata": {
        "id": "Yme_H1sbSPtX"
      },
      "outputs": [],
      "source": [
        "# The Python Package Index に公開されているPythonパッケージ（機能の塊）をインストールするコマンド\n",
        "!pip install pillow\n",
        "\n",
        "# インストールしたPollow(PIL)をプログラム内に読みこむコード\n",
        "from PIL import Image, ImageDraw, ImageFont"
      ]
    },
    {
      "cell_type": "markdown",
      "source": [
        "さて、では図形を描いてみましょう。"
      ],
      "metadata": {
        "id": "TAVcavCVJXoC"
      }
    },
    {
      "cell_type": "markdown",
      "source": [
        "## 🌀PILによる描画【基礎】\n"
      ],
      "metadata": {
        "id": "LUvZZ-qwzdrk"
      }
    },
    {
      "cell_type": "markdown",
      "source": [
        "### 💮長方形"
      ],
      "metadata": {
        "id": "mEMaDTf0MBUo"
      }
    },
    {
      "cell_type": "markdown",
      "source": [
        "【[リファレンス](https://pillow.readthedocs.io/en/stable/reference/ImageDraw.html#PIL.ImageDraw.ImageDraw.rectangle)】"
      ],
      "metadata": {
        "id": "pkmYPJyFMuKN"
      }
    },
    {
      "cell_type": "code",
      "source": [
        "# 画像の大きさと背景色を決める(色は赤,緑,青の強さを0～255で表す)\n",
        "image = Image.new(\"RGBA\", (400, 400), (0, 0, 255))\n",
        "\n",
        "# 図形を描くキャンバスを準備する\n",
        "canvas = ImageDraw.Draw(image)\n",
        "\n",
        "# キャンバスに長方形を描画する\n",
        "canvas.rectangle(\n",
        "    [(50, 100), (300, 350)],  # 左上のxy座標、右下のXY座標\n",
        "    fill=(255, 0, 0),         # 塗りの色\n",
        "    outline=(0, 255, 0),      # 線の色\n",
        "    width=10                  # 線の太さ\n",
        ")\n",
        "\n",
        "# colabページ上に表示する\n",
        "image"
      ],
      "metadata": {
        "id": "tWTysk3dUt5p"
      },
      "execution_count": null,
      "outputs": []
    },
    {
      "cell_type": "markdown",
      "source": [
        "### 🤯講義内演習：角丸長方形を描く"
      ],
      "metadata": {
        "id": "QuYTeyuRPaOW"
      }
    },
    {
      "cell_type": "markdown",
      "source": [
        "ちょっと皆さんで手を動かしみましょう。次は角が丸い長方形を描きます。以下に記す仕様通りの四角形を書いてみましょう。\n",
        "\n",
        "- キャンバス横幅は400px（予め変数で定義）\n",
        "- 縦はキャンバス横幅の半分\n",
        "- キャンバスのど真ん中にキャンバス横幅の30%の辺を持つ正方形を描く\n",
        "    - ど真ん中に描くやり方が分からない人は、適当な場所に表示しましょう\n",
        "- 正方形の線の太さはキャンバス横幅の1%\n",
        "- 正方形の角丸の度合いはキャンバス横幅の5%\n",
        "\n",
        "【[角丸長方形のリファレンス](https://pillow.readthedocs.io/en/stable/reference/ImageDraw.html#PIL.ImageDraw.ImageDraw.rounded_rectangle)】\n",
        "※角丸の度合いを設定する引数はリファレンスにあります"
      ],
      "metadata": {
        "id": "3UX892EUPylw"
      }
    },
    {
      "cell_type": "code",
      "source": [
        "# この変数だけ使って、角丸長方形を描きましょう。（色は任須で良いです）\n",
        "width = 400"
      ],
      "metadata": {
        "id": "NtLKjFVfP2Cr"
      },
      "execution_count": null,
      "outputs": []
    },
    {
      "cell_type": "code",
      "source": [
        "## ここにコードを書きましょう。"
      ],
      "metadata": {
        "id": "FnqdjiFKP4t6"
      },
      "execution_count": null,
      "outputs": []
    },
    {
      "cell_type": "markdown",
      "source": [
        "### 💮線分"
      ],
      "metadata": {
        "id": "fhDyWULxX594"
      }
    },
    {
      "cell_type": "markdown",
      "source": [
        "【[リファレンス](https://pillow.readthedocs.io/en/stable/reference/ImageDraw.html#PIL.ImageDraw.ImageDraw.line)】"
      ],
      "metadata": {
        "id": "tql2Smi-YC1l"
      }
    },
    {
      "cell_type": "code",
      "source": [
        "# 画像の大きさと背景色を決める(色は赤,緑,青の強さを0～255で表す)\n",
        "image = Image.new(\"RGBA\", (400, 400), (0, 0, 255))\n",
        "\n",
        "# 図形を描くキャンバスを準備する\n",
        "canvas = ImageDraw.Draw(image)\n",
        "\n",
        "# キャンバスに線分を描画する\n",
        "canvas.line(\n",
        "    [(50, 100), (300, 350),(50, 350),(280, 20)],  # 左上のxy座標、右下のXY座標\n",
        "    fill=(0,255,0),\n",
        "    width=5\n",
        ")\n",
        "\n",
        "# colabページ上に表示する\n",
        "image"
      ],
      "metadata": {
        "id": "qdtqlB31YKjI"
      },
      "execution_count": null,
      "outputs": []
    },
    {
      "cell_type": "markdown",
      "source": [
        "### 💮ポリゴン"
      ],
      "metadata": {
        "id": "Gqi8bMsDgb4z"
      }
    },
    {
      "cell_type": "code",
      "source": [
        "# 画像の大きさと背景色を決める(色は赤,緑,青の強さを0～255で表す)\n",
        "image = Image.new(\"RGBA\", (400, 400), (0, 0, 255))\n",
        "\n",
        "# 図形を描くキャンバスを準備する\n",
        "canvas = ImageDraw.Draw(image)\n",
        "\n",
        "# キャンバスに線分を描画する\n",
        "canvas.polygon(\n",
        "    [(50, 100), (300, 350),(50, 350),(280, 20)],  # 左上のxy座標、右下のXY座標\n",
        "    fill=(0,255,0),\n",
        "    outline=(0,40,0)\n",
        ")\n",
        "\n",
        "# colabページ上に表示する\n",
        "image"
      ],
      "metadata": {
        "id": "Q_hMJaslgryk"
      },
      "execution_count": null,
      "outputs": []
    },
    {
      "cell_type": "markdown",
      "source": [
        "### 💮多角形"
      ],
      "metadata": {
        "id": "CUHz9G4VmqZB"
      }
    },
    {
      "cell_type": "markdown",
      "source": [
        "【[リファレンス](https://pillow.readthedocs.io/en/stable/reference/ImageDraw.html#PIL.ImageDraw.ImageDraw.regular_polygon)】"
      ],
      "metadata": {
        "id": "j_oGRIwDmtMp"
      }
    },
    {
      "cell_type": "code",
      "source": [
        "# 画像の大きさと背景色を決める(色は赤,緑,青の強さを0～255で表す)\n",
        "image = Image.new(\"RGBA\", (400, 400), (0, 0, 255))\n",
        "\n",
        "# 図形を描くキャンバスを準備する\n",
        "canvas = ImageDraw.Draw(image)\n",
        "\n",
        "steps = 10\n",
        "# for文で設定を変えながら沢山描いてみる\n",
        "for i in range(steps):\n",
        "  # キャンバスに多角形を描画する\n",
        "  canvas.regular_polygon(\n",
        "      (200,200,200-(i*15)),\n",
        "      n_sides = steps + 3 - i,\n",
        "      rotation = i * 360 / steps,\n",
        "      fill=(0,25 * i,0)\n",
        "  )\n",
        "\n",
        "# colabページ上に表示する\n",
        "image"
      ],
      "metadata": {
        "id": "gYXqJ0GonQGK"
      },
      "execution_count": null,
      "outputs": []
    },
    {
      "cell_type": "markdown",
      "source": [
        "### 💮楕円／円"
      ],
      "metadata": {
        "id": "e5Z2CoDVZEzJ"
      }
    },
    {
      "cell_type": "markdown",
      "source": [
        "【[リファレンス](https://pillow.readthedocs.io/en/stable/reference/ImageDraw.html#PIL.ImageDraw.ImageDraw.ellipse)】"
      ],
      "metadata": {
        "id": "TlnZ3qyUZJXD"
      }
    },
    {
      "cell_type": "code",
      "source": [
        "# 画像の大きさと背景色を決める(色は赤,緑,青の強さを0～255で表す)\n",
        "image = Image.new(\"RGBA\", (400, 400), (0, 0, 255))\n",
        "\n",
        "# 図形を描くキャンバスを準備する\n",
        "canvas = ImageDraw.Draw(image)\n",
        "\n",
        "# キャンバスに長方形を描画する\n",
        "canvas.rectangle(\n",
        "    [(50, 100), (300, 350)],  # 左上のxy座標、右下のXY座標\n",
        "    outline=(255, 255, 255),  # 線の色\n",
        "    width=1                   # 線の太さ\n",
        ")\n",
        "\n",
        "# キャンバスに楕円を描画する（上記長方形に内接する円が描ける）\n",
        "canvas.ellipse(\n",
        "    [(50, 100), (300, 350)],  # 左上のxy座標、右下のXY座標\n",
        "    outline=(0, 255, 0),      # 線の色\n",
        "    fill=(255,0,0),           # 塗りの色\n",
        "    width=3                   # 線の太さ\n",
        ")\n",
        "\n",
        "\n",
        "# colabページ上に表示する\n",
        "image"
      ],
      "metadata": {
        "id": "swaqrquBZd0y"
      },
      "execution_count": null,
      "outputs": []
    },
    {
      "cell_type": "markdown",
      "source": [
        "### 💮円弧"
      ],
      "metadata": {
        "id": "E8ENyib3dD25"
      }
    },
    {
      "cell_type": "markdown",
      "source": [
        "円弧は端点の処理方法で三種類あります。\n",
        "\n",
        "【[リファレンス: arc](https://pillow.readthedocs.io/en/stable/reference/ImageDraw.html#PIL.ImageDraw.ImageDraw.arc)】\n",
        "\n",
        "【[リファレンス: chord](https://pillow.readthedocs.io/en/stable/reference/ImageDraw.html#PIL.ImageDraw.ImageDraw.chord)】\n",
        "\n",
        "【[リファレンス: pieslice](https://pillow.readthedocs.io/en/stable/reference/ImageDraw.html#PIL.ImageDraw.ImageDraw.pieslice)】"
      ],
      "metadata": {
        "id": "u8_gx5O8dFoP"
      }
    },
    {
      "cell_type": "code",
      "source": [
        "# 画像の大きさと背景色を決める(色は赤,緑,青の強さを0～255で表す)\n",
        "image = Image.new(\"RGBA\", (400, 400), (0, 0, 255))\n",
        "\n",
        "# 図形を描くキャンバスを準備する\n",
        "canvas = ImageDraw.Draw(image)\n",
        "coordinates = [(50, 100), (300, 350)]\n",
        "\n",
        "# キャンバスに長方形を描画する\n",
        "canvas.rectangle(\n",
        "    coordinates,  # 左上のxy座標、右下のXY座標\n",
        "    outline=(255, 255, 255),  # 線の色\n",
        "    width=1                   # 線の太さ\n",
        ")\n",
        "\n",
        "# 赤がarc\n",
        "canvas.arc(\n",
        "    coordinates,  # 左上のxy座標、右下のXY座標\n",
        "    start=5,\n",
        "    end=115,\n",
        "    fill=(255,0,0),\n",
        "    width=3\n",
        ")\n",
        "\n",
        "# 緑がchord\n",
        "canvas.chord(\n",
        "    coordinates,\n",
        "    start=125,\n",
        "    end=235,\n",
        "    fill=(0,255,0),\n",
        "    outline=(0,120,0),\n",
        "    width=3\n",
        ")\n",
        "\n",
        "# 黄色がpieslice\n",
        "canvas.pieslice(\n",
        "    coordinates,  # 左上のxy座標、右下のXY座標\n",
        "    start=245,\n",
        "    end=355,\n",
        "    fill=(255,255,0),\n",
        "    outline=(120,120,0),\n",
        "    width=3\n",
        ")\n",
        "# colabページ上に表示する\n",
        "image"
      ],
      "metadata": {
        "id": "ix45vVO5dlhC"
      },
      "execution_count": null,
      "outputs": []
    },
    {
      "cell_type": "markdown",
      "source": [
        "### 💮文字を描く"
      ],
      "metadata": {
        "id": "fiB0ylwLr2bS"
      }
    },
    {
      "cell_type": "markdown",
      "source": [
        "【[リファレンス](https://pillow.readthedocs.io/en/stable/reference/ImageDraw.html#PIL.ImageDraw.ImageDraw.text)】"
      ],
      "metadata": {
        "id": "59PTGsMbnLkH"
      }
    },
    {
      "cell_type": "code",
      "source": [
        "# PILとColabはデフォルトで日本語フォントをサポートしていないので、\n",
        "# フォントファイルを講義の共有ディレクトリからColabにコピーしておく。\n",
        "from google.colab import drive\n",
        "drive.mount(\"/content/gdrive\")\n",
        "!cp \"/content/gdrive/Shareddrives/2024-35A01／情報科学 e／横山 昌平/font/NotoSansCJKjp-DemiLight.ttf\" \"/usr/share/fonts/\"\n",
        "cjk_font_path = \"/usr/share/fonts/NotoSansCJKjp-DemiLight.ttf\""
      ],
      "metadata": {
        "id": "pKtIhHscoQ-v"
      },
      "execution_count": null,
      "outputs": []
    },
    {
      "cell_type": "code",
      "source": [
        "# 画像の大きさと背景色を決める(色は赤,緑,青の強さを0～255で表す)\n",
        "image = Image.new(\"RGBA\", (400, 400), (244, 81, 30))\n",
        "\n",
        "# 図形を描くキャンバスを準備する\n",
        "canvas = ImageDraw.Draw(image)\n",
        "\n",
        "# キャンバスに文字列を描画する\n",
        "cjk_font = ImageFont.truetype(cjk_font_path, 32)\n",
        "canvas.text(\n",
        "    (10,20),\n",
        "    \"ハローワールド\",\n",
        "    fill=(248, 187, 208),\n",
        "    font=cjk_font,\n",
        "    spacing=4,\n",
        "    align='left')\n",
        "\n",
        "# colabページ上に表示する\n",
        "image"
      ],
      "metadata": {
        "id": "91Ep9BNrnMfs"
      },
      "execution_count": null,
      "outputs": []
    },
    {
      "cell_type": "markdown",
      "source": [
        "## 🌀まとめ"
      ],
      "metadata": {
        "id": "OfOaXLNhUEgH"
      }
    },
    {
      "cell_type": "markdown",
      "source": [
        "このノートではTurtleグラフィックに比べて、様々な図形を描く事ができるPILを学びました。PILには画像ファイルを読みこんだり加工したりする機能もありますが、この講義では省略します。\n",
        "\n",
        "さて、ここで話を前回のオブジェクト指向の話題に戻します。**資料03**に進んでください。"
      ],
      "metadata": {
        "id": "u2H_B-cbUGTn"
      }
    }
  ]
}