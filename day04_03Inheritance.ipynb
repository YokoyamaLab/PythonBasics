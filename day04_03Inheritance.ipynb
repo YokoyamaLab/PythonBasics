{
  "nbformat": 4,
  "nbformat_minor": 0,
  "metadata": {
    "colab": {
      "provenance": [],
      "authorship_tag": "ABX9TyPrL26IwEwIzKq9g3pphkyq",
      "include_colab_link": true
    },
    "kernelspec": {
      "name": "python3",
      "display_name": "Python 3"
    },
    "language_info": {
      "name": "python"
    }
  },
  "cells": [
    {
      "cell_type": "markdown",
      "metadata": {
        "id": "view-in-github",
        "colab_type": "text"
      },
      "source": [
        "<a href=\"https://colab.research.google.com/github/YokoyamaLab/PythonBasics/blob/main/day04_03Inheritance.ipynb\" target=\"_parent\"><img src=\"https://colab.research.google.com/assets/colab-badge.svg\" alt=\"Open In Colab\"/></a>"
      ]
    },
    {
      "cell_type": "markdown",
      "source": [
        "# Day04 資料03: クラスの継承"
      ],
      "metadata": {
        "id": "us_VgdNu0-os"
      }
    },
    {
      "cell_type": "markdown",
      "source": [
        "## 🌀継承とは【基礎】"
      ],
      "metadata": {
        "id": "_n7xVDKG1FKr"
      }
    },
    {
      "cell_type": "markdown",
      "source": [
        "さて、話は前回講義の続きに戻ります。\n",
        "\n",
        "前回の後半ではオブジェクト指向の重要な概念『クラス』を学びました。『データ（クラス変数／インスタンス変数）』と『機能（メソッド）』をひとまとめにするのが、オブジェクト指向プログラミングの重要な側面です。\n",
        "\n",
        "そしてもう一つの重要な側面がここで学ぶ**継承**です。\n",
        "\n",
        "皆さんは前回の宿題で、自分の名前や学科等を管理するクラスを作りました。クラスは受講生（宿題提出者）の数だけ出来ている事になります。\n",
        "\n",
        "宿題では、ある程度は仕様を限定したので、皆さん同じようなクラスの設計になっていると思いますが、でも、変数名や、ロジックの構成などがクラス間で異なっている事でしょう。\n",
        "\n",
        "つまり、ほぼ同じ機能を持つ、しかしなが実装の異なるユーザクラスが乱立してしまったと言えます。\n",
        "\n",
        "今回の宿題から次回の実習にかけて、アバター(似顔絵)を描画するクラスを作ってもらいます。作業を顔のパーツ毎に分担してもらおうと考えているのですが、後で取りまとめて一つの顔の絵を描く時に、皆さんバラバラの仕様のクラスだと、それを一つの絵として描画するのは、大変です。（ここの仕様を実装者に聞いて、そして描画するしかないです）\n",
        "\n",
        "でも、目だろうが、鼻だろうが、口だろうが、『●●描く』という機能は全部同じはずです。\n",
        "\n",
        "「描く」という機能を持つクラスを一つ作り、そのクラスを**継承**して、目を描くクラス、鼻を描くクラス、口を描くクラスを作成すると、「描く」という共通部分に関しては仕様を共通化できます。\n",
        "\n",
        "このような方法には以下のような「便利さ」があります。\n",
        "\n",
        "- 実装を分担できる\n",
        "    - デザイナーはパーツの描画に注力してもらい、プログラマーは与えられたデザインを画面に描くロジックに注力する\n",
        "- 変更が容易\n",
        "    - 「Colabに描く」という機能を変更し、「普通のMacの画面に描く」であったり「Webブラウザに描く」であったりと、描画方法の変更がしやすい。\n",
        "- 単純に実装量が少なくて済む\n",
        "    - 描く部分のコードを、鼻や口や、目の描画クラスに書かなくて良い"
      ],
      "metadata": {
        "id": "Q_aU5xtE1Imd"
      }
    },
    {
      "cell_type": "markdown",
      "source": [
        "## 🌀継承についての概念的な例示【基礎】"
      ],
      "metadata": {
        "id": "HqlNQFoBEIBJ"
      }
    },
    {
      "cell_type": "markdown",
      "source": [
        "例えば、ゲーム等でプレイヤーのアバターを描く機能を、複数人のチームで実装する事を考えてみましょう。\n",
        "\n",
        "Aさんは目を描く部分の実装する係、Bさんは口を描く部分を実装する係だったとします。それぞれが、好き勝手に実装する場合、もしかしたらAさんはTurtleグラフィックで実装し、BさんはPillowで実装してしまうかもしれません。\n",
        "\n",
        "二人の実装を合わせて、顔全体を描く時になって、初めて「あれ？」となってしまいます。\n",
        "\n",
        "Pillowでの実装を考えてみると、描くものにかかわらず、必ず以下の部分のコードは共通でした。\n",
        "\n",
        "```\n",
        "# 画像の大きさと背景色を決める(色は赤,緑,青の強さを0～255で表す)\n",
        "image = Image.new(\"RGBA\", (400, 400), (0, 0, 255))\n",
        "\n",
        "# 図形を描くキャンバスを準備する\n",
        "canvas = ImageDraw.Draw(image)\n",
        "```\n",
        "\n",
        "このコードを核に、目を描くコード、鼻を描くコード等を作っていけば、上記のような問題は起こりません。\n",
        "\n",
        "これを、プログラムとして構造的に書く仕組みが、「オブジェクト指向における継承」だと言えます。"
      ],
      "metadata": {
        "id": "cxZQsoLVCXJy"
      }
    },
    {
      "cell_type": "markdown",
      "source": [
        "## 🌀継承についての具体的な例示【基礎】"
      ],
      "metadata": {
        "id": "Nid2wA6cEMRS"
      }
    },
    {
      "cell_type": "markdown",
      "source": [
        "ではアバターの例でクラスを設計していきましょう。\n",
        "\n",
        "顔のパーツの元になる**Component**というクラスを作ります。これには**draw(canvas)**というメソッドを準備します。\n",
        "\n",
        "次にそれを**継承**した「顔」、「口」、「目」、「鼻」、「耳」、「髪」の6種類のクラスを作ります。これらパーツのクラスでは親クラスである**Component**の**draw()**が継承されていますが、これをオーバーライド(上書き)して、それぞれのパーツを描くコードを実装します。\n",
        "\n",
        "さらに前回宿題で作ったAvatorクラスを参考にして、アバターの描画機能付きにしていきましょう。\n",
        "\n",
        "具体的にはAvatorクラスに以下の機能を付けます。\n",
        "- パーツ登録・保存機能\n",
        "- 描画機能\n",
        "\n",
        "UML図にすると以下のような設計です。"
      ],
      "metadata": {
        "id": "UeDCpkjYEWAf"
      }
    },
    {
      "cell_type": "markdown",
      "source": [
        "![](https://raw.githubusercontent.com/YokoyamaLab/PythonBasics/main/images/day04_class_inheritance.svg)"
      ],
      "metadata": {
        "id": "o3ENy4suVQ1I"
      }
    },
    {
      "cell_type": "markdown",
      "source": [
        "## 🌀Pythonにおける継承の書き方【基礎】"
      ],
      "metadata": {
        "id": "UOZx0uiiY4kt"
      }
    },
    {
      "cell_type": "markdown",
      "source": [
        "ではコードで継承の機能をみていきましょう。\n",
        "\n",
        "**say()**メソッドを呼び出すと**Hello World!**と呟く**Greetings**クラスを作ってみましょう。"
      ],
      "metadata": {
        "id": "0Bscx7KkY-ai"
      }
    },
    {
      "cell_type": "code",
      "execution_count": null,
      "metadata": {
        "id": "pre_rss_09cl"
      },
      "outputs": [],
      "source": [
        "class Greetings:\n",
        "  def __init__(self,words=\"Hello World!\"):\n",
        "    self.words = words\n",
        "  \n",
        "  def say(self):\n",
        "    print(self.words)\n",
        "\n",
        "g = Greetings()\n",
        "g.say()"
      ]
    },
    {
      "cell_type": "markdown",
      "source": [
        "次に、このクラスを継承する別のクラスを作ります。"
      ],
      "metadata": {
        "id": "pYZ_kcXIaMNT"
      }
    },
    {
      "cell_type": "code",
      "source": [
        "class GreetingsAtNight(Greetings):\n",
        "  pass\n",
        "\n",
        "g = GreetingsAtNight()\n",
        "g.say()"
      ],
      "metadata": {
        "id": "KN5dIZoEaa1f"
      },
      "execution_count": null,
      "outputs": []
    },
    {
      "cell_type": "markdown",
      "source": [
        "書き方は以下の通り。\n",
        "```\n",
        "class クラス名(親クラス名):\n",
        "```\n",
        "\n",
        "**Greetings**クラスを継承した**GreetingsAtNight**クラスは、**say()**メソッドも継承していますので、そのまま使えます。\n",
        "\n",
        "ただ、このままだと、Greetingsのクローンを作ったにすぎません。コンストラクタやメソッドを上書きして、親クラスをちょっと改変した独自のクラスを作る事が出来ます。\n",
        "\n",
        "例えばGreetingsAtNightクラスのコンストラクタを上書きして、夜の挨拶を呟くようにしてみましょう。"
      ],
      "metadata": {
        "id": "nsPXF_gvauc5"
      }
    },
    {
      "cell_type": "code",
      "source": [
        "class GreetingsAtNight(Greetings):\n",
        "  def __init__(self):\n",
        "    super().__init__(\"Good Night World!\")\n",
        "\n",
        "g = GreetingsAtNight()\n",
        "g.say()"
      ],
      "metadata": {
        "id": "Gn2VErK9brNF"
      },
      "execution_count": null,
      "outputs": []
    },
    {
      "cell_type": "markdown",
      "source": [
        "コンストラクタを**GreetingsAtNight**クラス内に書けば、親クラスのコンストラクタを上書きできます。\n",
        "\n",
        "ただし、親クラスのコンストラクタは完全に消えてしまったわけではありません。**super()**を介して呼び出す事が可能です。親クラスのコンストラクタは引数に**呟くセリフ**を渡せますので、```super().__init__(\"Good Night World!\")```として、親クラスの機能を使っています。"
      ],
      "metadata": {
        "id": "058Ku1TRcJXU"
      }
    },
    {
      "cell_type": "markdown",
      "source": [
        "もちろんメソッドのオーバーライドも可能です。では、**say()**コンストラクタをオーバーライドして、牛が喋ったように表示してみましょう。([CowSay](https://ja.wikipedia.org/wiki/Cowsay)は昔から有名なジョークコマンドです)"
      ],
      "metadata": {
        "id": "qPXDIU8Xd43y"
      }
    },
    {
      "cell_type": "code",
      "source": [
        "class CowSay(Greetings):\n",
        "  cow = '''         \\   ^__^\n",
        "          \\  (oo)\\_______\n",
        "             (__)\\       )\\/\\ \n",
        "                 ||----w |\n",
        "                 ||     ||\n",
        "\n",
        "  '''\n",
        "  def say(self):\n",
        "    print(\"  \" + \"_\"*len(self.words)) # [覚えてる？]文字列に対して掛け算をするとその数だけ文字列を繰り返す\n",
        "    print(\" < \" + self.words + \" > \")\n",
        "    print(\"  \" + \"~\"*len(self.words))\n",
        "    print(self.cow);\n",
        "\n",
        "g = CowSay()\n",
        "g.say()"
      ],
      "metadata": {
        "id": "v0DW_5Zbarkp"
      },
      "execution_count": null,
      "outputs": []
    },
    {
      "cell_type": "markdown",
      "source": [
        "クラスの継承関係は大きなプロジェクトではしばしばスパゲッティーのように絡まってしまいます。このクラスの親クラスはなんだろう？と言う時、それを調べる方法がありますので、これも覚えて置きましょう。"
      ],
      "metadata": {
        "id": "ttzAdqzzei2w"
      }
    },
    {
      "cell_type": "code",
      "source": [
        "print(\"GreetingsはGreetingsAtNightの親クラスである\")\n",
        "print( issubclass(GreetingsAtNight,Greetings) )\n",
        "print(\"GreetingsAtNightはGreetingsの親クラスである\")\n",
        "print( issubclass(Greetings,GreetingsAtNight) )\n",
        "print(\"GreetingsはCowSayの親クラスである\")\n",
        "print( issubclass(CowSay,Greetings) )\n",
        "print(\"GreetingsAtNightはCowSayの親クラスである\")\n",
        "print( issubclass(CowSay,GreetingsAtNight) )"
      ],
      "metadata": {
        "id": "kBYNjK6Mew4y"
      },
      "execution_count": null,
      "outputs": []
    },
    {
      "cell_type": "markdown",
      "source": [
        "## 🌀Componentクラスとそのサブクラスを作る【基礎】"
      ],
      "metadata": {
        "id": "aLuMMhapqyzG"
      }
    },
    {
      "cell_type": "markdown",
      "source": [
        "まずはPillowをインストールして使えるようにしましょう。"
      ],
      "metadata": {
        "id": "u1K0zXMwvaC7"
      }
    },
    {
      "cell_type": "code",
      "source": [
        "# The Python Package Index に公開されているPythonパッケージ（機能の塊）をインストールするコマンド\n",
        "!pip install pillow\n",
        "\n",
        "# インストールしたPollow(PIL)をプログラム内に読みこむコード\n",
        "from PIL import Image, ImageDraw, ImageFont"
      ],
      "metadata": {
        "id": "ir9vt8rRvZrW"
      },
      "execution_count": null,
      "outputs": []
    },
    {
      "cell_type": "markdown",
      "source": [
        "では、顔を描く部分の実装を始めましょう。個々では、コードの単純化の為にcanvasのサイズは400ピクセル×400ピクセルの正方形を仮定します。"
      ],
      "metadata": {
        "id": "64pVa21qsc2D"
      }
    },
    {
      "cell_type": "code",
      "source": [
        "class Component:\n",
        "  def __init__(self,skincolor):\n",
        "    self.feature = \"顔のパーツの元になるクラス\"\n",
        "    self.skincolor = skincolor\n",
        "  \n",
        "  def draw(self,image):\n",
        "    pass # 親クラスでは何もしない"
      ],
      "metadata": {
        "id": "uexcubCgq_l9"
      },
      "execution_count": null,
      "outputs": []
    },
    {
      "cell_type": "markdown",
      "source": [
        "### 💮Faceクラスを作る"
      ],
      "metadata": {
        "id": "UOLyLXMXrys1"
      }
    },
    {
      "cell_type": "markdown",
      "source": [
        "顔の輪郭を描くクラスです。キャンバスが400×400ですので、それより一回り小さく、ちょっと縦長に描きましょうか。"
      ],
      "metadata": {
        "id": "7wOEM4kbssV7"
      }
    },
    {
      "cell_type": "code",
      "source": [
        "class Face(Component):\n",
        "  def __init__(self,skincolor):\n",
        "    super().__init__(skincolor)\n",
        "    self.feature = \"ベーシックな顔の輪郭\"\n",
        "\n",
        "  def draw(self,canvas):\n",
        "    canvas.ellipse(\n",
        "      [(80, 50), (320, 350)],  # 左上のxy座標、右下のXY座標\n",
        "      fill=self.skincolor            # 塗りの色\n",
        "    )\n",
        "\n",
        "image = Image.new(\"RGBA\", (400, 400), (236, 239, 241))\n",
        "canvas = ImageDraw.Draw(image)\n",
        "face = Face((249, 168, 37))\n",
        "face.draw(canvas)\n",
        "\n",
        "image.show()"
      ],
      "metadata": {
        "id": "CZKS1wQts_ui"
      },
      "execution_count": null,
      "outputs": []
    },
    {
      "cell_type": "markdown",
      "source": [
        "### 💮Eyesクラスを作る"
      ],
      "metadata": {
        "id": "42r66B3xxdJ-"
      }
    },
    {
      "cell_type": "markdown",
      "source": [
        "同様に目も描きましょう"
      ],
      "metadata": {
        "id": "NNzCQcNJxglh"
      }
    },
    {
      "cell_type": "code",
      "source": [
        "class Eyes(Component):\n",
        "  def __init__(self,skincolor):\n",
        "    super().__init__(skincolor)\n",
        "    self.feature = \"つぶらな瞳\"\n",
        "\n",
        "  def draw(self,canvas):\n",
        "    x = 160\n",
        "    y = 180\n",
        "    r = 10\n",
        "    canvas.ellipse(\n",
        "      [(x-r, y-r), (x+r, y+r)],  # 左上のxy座標、右下のXY座標\n",
        "      fill=(0,0,0)            # 塗りの色\n",
        "    )\n",
        "    x = 400 - x\n",
        "    canvas.ellipse(\n",
        "      [(x-r, y-r), (x+r, y+r)],  # 左上のxy座標、右下のXY座標\n",
        "      fill=(0,0,0)            # 塗りの色\n",
        "    )\n",
        "\n",
        "image = Image.new(\"RGBA\", (400, 400), (236, 239, 241))\n",
        "canvas = ImageDraw.Draw(image)\n",
        "skincolor = (249, 168, 37)\n",
        "face = Face(skincolor)\n",
        "face.draw(canvas)\n",
        "eyes = Eyes(skincolor)\n",
        "eyes.draw(canvas)\n",
        "image.show()"
      ],
      "metadata": {
        "id": "ArTaCoeBxjXz"
      },
      "execution_count": null,
      "outputs": []
    },
    {
      "cell_type": "markdown",
      "source": [
        "### 💮Mouthクラスを作る"
      ],
      "metadata": {
        "id": "rN-gBkUzywwz"
      }
    },
    {
      "cell_type": "markdown",
      "source": [
        "口は円弧が使えそうですね？"
      ],
      "metadata": {
        "id": "MSDPksFazEec"
      }
    },
    {
      "cell_type": "code",
      "source": [
        "class Mouth(Component):\n",
        "  def __init__(self,skincolor):\n",
        "    super().__init__(skincolor)\n",
        "    self.feature = \"スマイル!\"\n",
        "\n",
        "  def draw(self,canvas):\n",
        "    canvas.arc(\n",
        "      [(150,150),(250,300)],\n",
        "      start=45,\n",
        "      end=135,\n",
        "      fill=(194, 24, 91),\n",
        "      width=3\n",
        "    )\n",
        "\n",
        "image = Image.new(\"RGBA\", (400, 400), (236, 239, 241))\n",
        "canvas = ImageDraw.Draw(image)\n",
        "skincolor=(249, 168, 37)\n",
        "face = Face(skincolor)\n",
        "face.draw(canvas)\n",
        "eyes = Eyes(skincolor)\n",
        "eyes.draw(canvas)\n",
        "mouth = Mouth(skincolor)\n",
        "mouth.draw(canvas)\n",
        "image.show()"
      ],
      "metadata": {
        "id": "IFOFyXGQzQoE"
      },
      "execution_count": null,
      "outputs": []
    },
    {
      "cell_type": "markdown",
      "source": [
        "### 💮Noseクラスを作る"
      ],
      "metadata": {
        "id": "U31-XhtFy1ZT"
      }
    },
    {
      "cell_type": "markdown",
      "source": [
        "鼻はシンプルに「く」の字型でいきましょう。"
      ],
      "metadata": {
        "id": "SS1pnzx_1Yvo"
      }
    },
    {
      "cell_type": "code",
      "source": [
        "class Nose(Component):\n",
        "  def __init__(self,skincolor):\n",
        "    super().__init__(skincolor)\n",
        "    self.feature = \"シンプルな鼻\"\n",
        "\n",
        "  def draw(self,canvas):\n",
        "    x = 200\n",
        "    y = 220\n",
        "    canvas.line(\n",
        "      [(x+5, y-10), (x-5, y),(x+5, y+10)],\n",
        "      fill=(0,0,0), \n",
        "      width=2\n",
        "    )\n",
        "\n",
        "image = Image.new(\"RGBA\", (400, 400), (236, 239, 241))\n",
        "canvas = ImageDraw.Draw(image)\n",
        "skincolor=(249, 168, 37)\n",
        "face = Face(skincolor)\n",
        "face.draw(canvas)\n",
        "eyes = Eyes(skincolor)\n",
        "eyes.draw(canvas)\n",
        "mouth = Mouth(skincolor)\n",
        "mouth.draw(canvas)\n",
        "nose = Nose(skincolor)\n",
        "nose.draw(canvas)\n",
        "image.show()"
      ],
      "metadata": {
        "id": "bDcoOhnz1n6h"
      },
      "execution_count": null,
      "outputs": []
    },
    {
      "cell_type": "markdown",
      "source": [
        "### 💮Earsクラスを作る"
      ],
      "metadata": {
        "id": "p7A2Rv8q3C9c"
      }
    },
    {
      "cell_type": "markdown",
      "source": [
        "次は耳です。が、私の絵心では人間の耳をどうやって書いてよいのか分からないので、何も絵描かないメソッドを作ってみました。"
      ],
      "metadata": {
        "id": "_JEsaRQj3HnB"
      }
    },
    {
      "cell_type": "code",
      "source": [
        "class Ears(Component):\n",
        "  def __init__(self,skincolor):\n",
        "    super().__init__(skincolor)\n",
        "    self.feature = \"耳はパス！\"\n",
        "\n",
        "  def draw(self,canvas):\n",
        "    pass\n",
        "\n",
        "image = Image.new(\"RGBA\", (400, 400), (236, 239, 241))\n",
        "canvas = ImageDraw.Draw(image)\n",
        "skincolor=(249, 168, 37)\n",
        "face = Face(skincolor)\n",
        "face.draw(canvas)\n",
        "eyes = Eyes(skincolor)\n",
        "eyes.draw(canvas)\n",
        "mouth = Mouth(skincolor)\n",
        "mouth.draw(canvas)\n",
        "nose = Nose(skincolor)\n",
        "nose.draw(canvas)\n",
        "ears = Ears(skincolor)\n",
        "ears.draw(canvas)\n",
        "image.show()"
      ],
      "metadata": {
        "id": "RrU0lbBM3O97"
      },
      "execution_count": null,
      "outputs": []
    },
    {
      "cell_type": "markdown",
      "source": [
        "### 💮Hairクラスを作る【応用:ベジェ曲線を描く】"
      ],
      "metadata": {
        "id": "Vz2v_LFG68Yn"
      }
    },
    {
      "cell_type": "markdown",
      "source": [
        "#### とりあえず直線で髪の毛を描く"
      ],
      "metadata": {
        "id": "swo2hhtwFt8y"
      }
    },
    {
      "cell_type": "markdown",
      "source": [
        "最後に髪の毛を描きましょう。顔の左側だけ描いて、残りは座標をミラーリングして追加する事で、簡単に左右対称にできます。"
      ],
      "metadata": {
        "id": "3ech7esb7E3c"
      }
    },
    {
      "cell_type": "code",
      "source": [
        "class Hair(Component):\n",
        "  def __init__(self,skincolor):\n",
        "    super().__init__(skincolor)\n",
        "    self.feature = \"髪の毛\"\n",
        "\n",
        "  def mirrer(self,xy):\n",
        "    # 中央垂直軸に対するミラー座礁を得る\n",
        "    return (400 - xy[0] , xy[1])\n",
        "\n",
        "  def draw(self,canvas):\n",
        "      points = [(200, 160),(100, 160),(100, 300),(60,180),(100,90),(200,40)]\n",
        "      points.append(self.mirrer(points[4]))\n",
        "      points.append(self.mirrer(points[3]))\n",
        "      points.append(self.mirrer(points[2]))\n",
        "      points.append(self.mirrer(points[1]))\n",
        "      canvas.polygon(\n",
        "        points,  # 左上のxy座標、右下のXY座標\n",
        "        fill=(0,0,0),\n",
        "        outline=(0,0,0)\n",
        "      )\n",
        "\n",
        "image = Image.new(\"RGBA\", (400, 400), (236, 239, 241))\n",
        "canvas = ImageDraw.Draw(image)\n",
        "skincolor=(249, 168, 37)\n",
        "face = Face(skincolor)\n",
        "face.draw(canvas)\n",
        "eyes = Eyes(skincolor)\n",
        "eyes.draw(canvas)\n",
        "mouth = Mouth(skincolor)\n",
        "mouth.draw(canvas)\n",
        "nose = Nose(skincolor)\n",
        "nose.draw(canvas)\n",
        "ears = Ears(skincolor)\n",
        "ears.draw(canvas)\n",
        "hair = Hair(skincolor)\n",
        "hair.draw(canvas)\n",
        "image.show()"
      ],
      "metadata": {
        "id": "XsG_qB4A7PJq"
      },
      "execution_count": null,
      "outputs": []
    },
    {
      "cell_type": "markdown",
      "source": [
        "#### 曲線にしたい！"
      ],
      "metadata": {
        "id": "YI_vS0F8F4iB"
      }
    },
    {
      "cell_type": "markdown",
      "source": [
        "これまで円・円弧以外は直線でした。円弧でないような線も曲線が描ければ、表現力は一気に上がります。\n",
        "\n",
        "コンピュータグラフィックで曲線を描く代表的に手法に[スプライン曲線](https://ja.wikipedia.org/wiki/%E3%82%B9%E3%83%97%E3%83%A9%E3%82%A4%E3%83%B3%E6%9B%B2%E7%B7%9A)と[ベジェ曲線](https://ja.wikipedia.org/wiki/%E3%83%99%E3%82%B8%E3%82%A7%E6%9B%B2%E7%B7%9A)があります。\n",
        "\n",
        "ここでばベジェ曲線を描く事を考えましょう。ベジェ曲線とは曲線を4つの点で表します。下図の$P_0$～$P_3$です。この内、$P_0$が始点、$P_3$が終点、そして$P_1$と$P_2$は制御点と呼ばれ、カーブの度合いを決めます。直線$P_0 P_1$は$P_0$における接線となっています。尚、$P_2$と$P_3$を同一の点を与える場合は三点で曲線を定義できます。\n",
        "\n",
        "![](https://upload.wikimedia.org/wikipedia/commons/thumb/d/dd/Cubic_B%C3%A9zier_Curve.svg/1024px-Cubic_B%C3%A9zier_Curve.svg.png)\n",
        "\n",
        "ベジェ曲線はPillowではデフォルトでサポートされていませんが、[ここのコード](https://stackoverflow.com/questions/246525/how-can-i-draw-a-bezier-curve-using-pythons-pil)を参考にしてみましょう。とりあえず以下の関数を定義しておきます。中身は時間が無いので、興味ある人だけ自宅で読み解いてください。中身を理解していなくても利用可能です。"
      ],
      "metadata": {
        "id": "ptxTtORYF7VK"
      }
    },
    {
      "cell_type": "code",
      "source": [
        "def make_bezier(xys):\n",
        "    # xys should be a sequence of 2-tuples (Bezier control points)\n",
        "    n = len(xys)\n",
        "    combinations = pascal_row(n-1)\n",
        "    def bezier(ts):\n",
        "        # This uses the generalized formula for bezier curves\n",
        "        # http://en.wikipedia.org/wiki/B%C3%A9zier_curve#Generalization\n",
        "        result = []\n",
        "        for t in ts:\n",
        "            tpowers = (t**i for i in range(n))\n",
        "            upowers = reversed([(1-t)**i for i in range(n)])\n",
        "            coefs = [c*a*b for c, a, b in zip(combinations, tpowers, upowers)]\n",
        "            result.append(\n",
        "                tuple(sum([coef*p for coef, p in zip(coefs, ps)]) for ps in zip(*xys)))\n",
        "        return result\n",
        "    return bezier\n",
        "\n",
        "def pascal_row(n, memo={}):\n",
        "    # This returns the nth row of Pascal's Triangle\n",
        "    if n in memo:\n",
        "        return memo[n]\n",
        "    result = [1]\n",
        "    x, numerator = 1, n\n",
        "    for denominator in range(1, n//2+1):\n",
        "        # print(numerator,denominator,x)\n",
        "        x *= numerator\n",
        "        x /= denominator\n",
        "        result.append(x)\n",
        "        numerator -= 1\n",
        "    if n&1 == 0:\n",
        "        # n is even\n",
        "        result.extend(reversed(result[:-1]))\n",
        "    else:\n",
        "        result.extend(reversed(result))\n",
        "    memo[n] = result\n",
        "    return result"
      ],
      "metadata": {
        "id": "_BW2QGJ7ITJS"
      },
      "execution_count": null,
      "outputs": []
    },
    {
      "cell_type": "markdown",
      "source": [
        "使い方は次の通りです。"
      ],
      "metadata": {
        "id": "4ylCJErPPIqa"
      }
    },
    {
      "cell_type": "code",
      "source": [
        "image = Image.new('RGBA', (100, 100), (0, 0, 0, 0)) \n",
        "canvas = ImageDraw.Draw(image)\n",
        "\n",
        "# これは始点終点間をどれくらい細かい直線としてレンダリングするかに影響します。\n",
        "# この例では100の直線で曲線を描きます。\n",
        "ts = [t/100.0 for t in range(101)]\n",
        "\n",
        "# [始点,制御点1,制御点2,終点]というリストを作ります。制御点2は省略可能です。\n",
        "xys = [(50, 100), (80, 80), (100, 50)]\n",
        "bezier = make_bezier(xys)\n",
        "points = bezier(ts)\n",
        "# これで始点・終点間を100ステップで描くための座標のリストが得られます。\n",
        "\n",
        "xys = [(100, 50), (100, 0), (50, 0), (50, 35)]\n",
        "bezier = make_bezier(xys)\n",
        "# 座標のリストはextndを使って、追記していきます\n",
        "points.extend(bezier(ts))\n",
        "\n",
        "xys = [(50, 35), (50, 0), (0, 0), (0, 50)]\n",
        "bezier = make_bezier(xys)\n",
        "points.extend(bezier(ts))\n",
        "\n",
        "xys = [(0, 50), (20, 80), (50, 100)]\n",
        "bezier = make_bezier(xys)\n",
        "points.extend(bezier(ts))\n",
        "\n",
        "# 得られたpointsをpolygonに渡してベジェ曲線を描きます\n",
        "canvas.polygon(points, fill = (255,0,0))\n",
        "image.show()\n"
      ],
      "metadata": {
        "id": "GHrgo5GpOG2G"
      },
      "execution_count": null,
      "outputs": []
    },
    {
      "cell_type": "markdown",
      "source": [
        "ベジェ曲線を使いこなせれば、思い描く曲線の殆どを描く事ができますが、一つの曲線を描くのに始点終点以外に2点の制御点を決めるのは、この講義的には時間的困難があります。\n",
        "\n",
        "そこで、単純な曲線を描く為のユーティリティー関数**easy_bezier()**も定義しておきましょう。\n",
        "\n",
        "この関数は始点座標、終点座標に加えて、どれくらい曲がるのかという値**d**をとります。始点から終点を見て、右に曲がりたければ正の数、左に曲がりたければ負の数を入力します。単位はピクセルで、始点と終点の線分の中点と交わる垂線上の線分から距離**d**ピクセル離れた点を$P_2,P_3$としたベジェ曲線が描けます。"
      ],
      "metadata": {
        "id": "ZROYykj8MDtI"
      }
    },
    {
      "cell_type": "code",
      "source": [
        "import math\n",
        "def easy_bezier(start,end,d):\n",
        "  h = end[0] - start[0]\n",
        "  v = end[1] - start[1]\n",
        "  cx = start[0] + (h / 2)\n",
        "  cy = start[1] + (v / 2)\n",
        "  if v == 0:\n",
        "    return [start,(cx,cy + d),end]\n",
        "  else:\n",
        "    rad = math.atan(h/v) + (math.pi / 2) + (math.pi if (h < 0 and v >= 0) or (h >= 0 and v >= 0) else 0)\n",
        "    dx = d * math.sin(rad)\n",
        "    dy = d * math.cos(rad)\n",
        "    return [start,((cx + dx),(cy + dy)),end]"
      ],
      "metadata": {
        "id": "CPyK8LI4UTx2"
      },
      "execution_count": null,
      "outputs": []
    },
    {
      "cell_type": "markdown",
      "source": [
        "これの使い方も学びましょう。"
      ],
      "metadata": {
        "id": "jPEUi15uPQPc"
      }
    },
    {
      "cell_type": "code",
      "source": [
        "image = Image.new('RGBA', (100, 100), (0, 0, 0, 0)) \n",
        "canvas = ImageDraw.Draw(image)\n",
        "\n",
        "# これは始点終点間をどれくらい細かい直線としてレンダリングするかに影響します。\n",
        "# この例では100の直線で曲線を描きます。\n",
        "ts = [t/100.0 for t in range(101)]\n",
        "\n",
        "# [始点,制御点1,制御点2,終点]というリストを作ります。制御点2は省略可能です。\n",
        "xys = easy_bezier((50, 100),(100, 50),10)\n",
        "bezier = make_bezier(xys)\n",
        "points = bezier(ts)\n",
        "# これで始点・終点間を100ステップで描くための座標のリストが得られます。\n",
        "\n",
        "xys = easy_bezier((100, 50),(50, 35),65)\n",
        "bezier = make_bezier(xys)\n",
        "# 座標のリストはextndを使って、追記していきます\n",
        "points.extend(bezier(ts))\n",
        "\n",
        "xys = easy_bezier((50, 35),(0, 50),65)\n",
        "bezier = make_bezier(xys)\n",
        "points.extend(bezier(ts))\n",
        "\n",
        "xys = easy_bezier((0, 50),(50, 100),10)\n",
        "bezier = make_bezier(xys)\n",
        "points.extend(bezier(ts))\n",
        "\n",
        "# 得られたpointsをpolygonに渡してベジェ曲線を描きます\n",
        "canvas.polygon(points, fill = (255,0,0))\n",
        "image.show()"
      ],
      "metadata": {
        "id": "klklAVNfPYva"
      },
      "execution_count": null,
      "outputs": []
    },
    {
      "cell_type": "markdown",
      "source": [
        "ちょっと形はいびつですが、指定する座標は始点終点のみで、同じような図形が描画できました。"
      ],
      "metadata": {
        "id": "J-c506bTQXTu"
      }
    },
    {
      "cell_type": "markdown",
      "source": [
        "#### 曲線で髪の毛を描く"
      ],
      "metadata": {
        "id": "77o7rENHQuUs"
      }
    },
    {
      "cell_type": "markdown",
      "source": [
        "では先ほどの直線の髪の毛の座標リストを使って、曲線の髪の毛を描いてみます。"
      ],
      "metadata": {
        "id": "BmBZKMmWQxiV"
      }
    },
    {
      "cell_type": "code",
      "source": [
        "class SmoothHair(Hair):\n",
        "  def __init__(self,skincolor):\n",
        "    super().__init__(skincolor)\n",
        "    self.feature = \"髪の毛\"\n",
        "\n",
        "  def mirrer(self,xy):\n",
        "    # 中央垂直軸に対するミラー座礁を得る\n",
        "    return (400 - xy[0] , xy[1])\n",
        "\n",
        "  def draw(self,canvas):\n",
        "      points = [(200, 160),(100, 160),(100, 300),(60,180),(100,90),(200,40)]\n",
        "      points.append(self.mirrer(points[4])) # [6]\n",
        "      points.append(self.mirrer(points[3])) # [7]\n",
        "      points.append(self.mirrer(points[2])) # [8]\n",
        "      points.append(self.mirrer(points[1])) # [9]\n",
        "      points.append(self.mirrer(points[0])) # [10]\n",
        "      ts = [t/100.0 for t in range(101)]\n",
        "      hair = []\n",
        "      bend = [10,20,-50,-50,-50,-50,-50,-50,20,10]\n",
        "      for i in range(len(points)-1):\n",
        "        xys = easy_bezier(points[i],points[i+1],bend[i])\n",
        "        bezier = make_bezier(xys)\n",
        "        hair.extend(bezier(ts))\n",
        "      canvas.polygon(\n",
        "        hair,  # 左上のxy座標、右下のXY座標\n",
        "        fill=(0,0,0),\n",
        "        outline=(0,0,0)\n",
        "      )\n",
        "      #canvas.polygon(\n",
        "      #  points,  # 左上のxy座標、右下のXY座標\n",
        "      #  fill=(55,55,55,128),\n",
        "      #  outline=(255,255,255,128)\n",
        "      #)\n",
        "\n",
        "image = Image.new(\"RGBA\", (400, 400), (236, 239, 241))\n",
        "canvas = ImageDraw.Draw(image)\n",
        "skincolor=(249, 168, 37)\n",
        "face = Face(skincolor)\n",
        "face.draw(canvas)\n",
        "eyes = Eyes(skincolor)\n",
        "eyes.draw(canvas)\n",
        "mouth = Mouth(skincolor)\n",
        "mouth.draw(canvas)\n",
        "nose = Nose(skincolor)\n",
        "nose.draw(canvas)\n",
        "ears = Ears(skincolor)\n",
        "ears.draw(canvas)\n",
        "hair = SmoothHair(skincolor)\n",
        "hair.draw(canvas)\n",
        "image.show()"
      ],
      "metadata": {
        "id": "aJt2cIXp_dgP"
      },
      "execution_count": null,
      "outputs": []
    },
    {
      "cell_type": "markdown",
      "source": [
        "## 🌀まとめ"
      ],
      "metadata": {
        "id": "aBLeAf7eVzXw"
      }
    },
    {
      "cell_type": "markdown",
      "source": [
        "さて、これで無事、顔を描く事が出来ました。最後に少しコードをまとめておきましょう。\n",
        "\n",
        "曲線を描くために定義した三つの関数**make_bezier**、**pascal_row**、**easy_bezier**は、今はグローバルの関数として存在していますが、顔のパーツを描く共通機能ですので、**Component**クラスのメソッドとして定義しなおしましょう。"
      ],
      "metadata": {
        "id": "dGtmwK4zgvTj"
      }
    },
    {
      "cell_type": "code",
      "source": [
        "from PIL import Image, ImageDraw, ImageFont\n",
        "import math\n",
        " \n",
        "class Component:\n",
        "  def __init__(self,skincolor):\n",
        "    self.feature = \"顔のパーツの元になるクラス\"\n",
        "    self.skincolor = skincolor\n",
        "  \n",
        "  def draw(self,image):\n",
        "    pass # 親クラスでは何もしない\n",
        "  \n",
        "  def easy_bezier(self,start,end,d):\n",
        "    h = end[0] - start[0]\n",
        "    v = end[1] - start[1]\n",
        "    cx = start[0] + (h / 2)\n",
        "    cy = start[1] + (v / 2)\n",
        "    if v == 0:\n",
        "        return [start,(cx,cy + d),end]\n",
        "    else:\n",
        "        rad = math.atan(h/v) + (math.pi / 2) + (math.pi if (h < 0 and v >= 0) or (h >= 0 and v >= 0) else 0)\n",
        "        dx = d * math.sin(rad)\n",
        "        dy = d * math.cos(rad)\n",
        "        return [start,((cx + dx),(cy + dy)),end]\n",
        "  \n",
        "  def make_bezier(self,xys):\n",
        "    # xys should be a sequence of 2-tuples (Bezier control points)\n",
        "    n = len(xys)\n",
        "    combinations = self.pascal_row(n-1)\n",
        "    def bezier(ts):\n",
        "        # This uses the generalized formula for bezier curves\n",
        "        # http://en.wikipedia.org/wiki/B%C3%A9zier_curve#Generalization\n",
        "        result = []\n",
        "        for t in ts:\n",
        "            tpowers = (t**i for i in range(n))\n",
        "            upowers = reversed([(1-t)**i for i in range(n)])\n",
        "            coefs = [c*a*b for c, a, b in zip(combinations, tpowers, upowers)]\n",
        "            result.append(\n",
        "                tuple(sum([coef*p for coef, p in zip(coefs, ps)]) for ps in zip(*xys)))\n",
        "        return result\n",
        "    return bezier\n",
        "\n",
        "  def pascal_row(self, n, memo={}):\n",
        "      # This returns the nth row of Pascal's Triangle\n",
        "      if n in memo:\n",
        "          return memo[n]\n",
        "      result = [1]\n",
        "      x, numerator = 1, n\n",
        "      for denominator in range(1, n//2+1):\n",
        "          # print(numerator,denominator,x)\n",
        "          x *= numerator\n",
        "          x /= denominator\n",
        "          result.append(x)\n",
        "          numerator -= 1\n",
        "      if n&1 == 0:\n",
        "          # n is even\n",
        "          result.extend(reversed(result[:-1]))\n",
        "      else:\n",
        "          result.extend(reversed(result))\n",
        "      memo[n] = result\n",
        "      return result\n",
        " \n",
        "\n",
        "class Face(Component):\n",
        "  def __init__(self,skincolor):\n",
        "    super().__init__(skincolor)\n",
        "    self.feature = \"ベーシックな顔の輪郭\"\n",
        "\n",
        "  def draw(self,canvas):\n",
        "    canvas.ellipse(\n",
        "      [(80, 50), (320, 350)],  # 左上のxy座標、右下のXY座標\n",
        "      fill=self.skincolor            # 塗りの色\n",
        "    )\n",
        "\n",
        "class Eyes(Component):\n",
        "  def __init__(self,skincolor):\n",
        "    super().__init__(skincolor)\n",
        "    self.feature = \"つぶらな瞳\"\n",
        "\n",
        "  def draw(self,canvas):\n",
        "    x = 160\n",
        "    y = 180\n",
        "    r = 10\n",
        "    canvas.ellipse(\n",
        "      [(x-r, y-r), (x+r, y+r)],  # 左上のxy座標、右下のXY座標\n",
        "      fill=(0,0,0)            # 塗りの色\n",
        "    )\n",
        "    x = 400 - x\n",
        "    canvas.ellipse(\n",
        "      [(x-r, y-r), (x+r, y+r)],  # 左上のxy座標、右下のXY座標\n",
        "      fill=(0,0,0)            # 塗りの色\n",
        "    )\n",
        "\n",
        "class Mouth(Component):\n",
        "  def __init__(self,skincolor):\n",
        "    super().__init__(skincolor)\n",
        "    self.feature = \"スマイル!\"\n",
        "\n",
        "  def draw(self,canvas):\n",
        "    canvas.arc(\n",
        "      [(150,150),(250,300)],\n",
        "      start=45,\n",
        "      end=135,\n",
        "      fill=(194, 24, 91),\n",
        "      width=3\n",
        "    )\n",
        "\n",
        "class Nose(Component):\n",
        "  def __init__(self,skincolor):\n",
        "    super().__init__(skincolor)\n",
        "    self.feature = \"シンプルな鼻\"\n",
        "\n",
        "  def draw(self,canvas):\n",
        "    x = 200\n",
        "    y = 220\n",
        "    canvas.line(\n",
        "      [(x+5, y-10), (x-5, y),(x+5, y+10)],\n",
        "      fill=(0,0,0), \n",
        "      width=2\n",
        "    )\n",
        "\n",
        "class Ears(Component):\n",
        "  def __init__(self,skincolor):\n",
        "    super().__init__(skincolor)\n",
        "    self.feature = \"耳はパス！\"\n",
        "\n",
        "  def draw(self,canvas):\n",
        "    pass\n",
        "\n",
        "class Hair(Component):\n",
        "  def __init__(self,skincolor):\n",
        "    super().__init__(skincolor)\n",
        "    self.feature = \"髪の毛\"\n",
        "\n",
        "  def mirrer(self,xy):\n",
        "    # 中央垂直軸に対するミラー座礁を得る\n",
        "    return (400 - xy[0] , xy[1])\n",
        "\n",
        "  def draw(self,canvas):\n",
        "      points = [(200, 160),(100, 160),(100, 300),(60,180),(100,90),(200,40)]\n",
        "      points.append(self.mirrer(points[4]))\n",
        "      points.append(self.mirrer(points[3]))\n",
        "      points.append(self.mirrer(points[2]))\n",
        "      points.append(self.mirrer(points[1]))\n",
        "      canvas.polygon(\n",
        "        points,  # 左上のxy座標、右下のXY座標\n",
        "        fill=(0,0,0),\n",
        "        outline=(0,0,0)\n",
        "      )\n",
        "\n",
        "class SmoothHair(Hair):\n",
        "  def __init__(self,skincolor):\n",
        "    super().__init__(skincolor)\n",
        "    self.feature = \"髪の毛\"\n",
        "\n",
        "  def draw(self,canvas):\n",
        "      points = [(200, 160),(100, 160),(100, 300),(60,180),(100,90),(200,40)]\n",
        "      points.append(self.mirrer(points[4])) # [6]\n",
        "      points.append(self.mirrer(points[3])) # [7]\n",
        "      points.append(self.mirrer(points[2])) # [8]\n",
        "      points.append(self.mirrer(points[1])) # [9]\n",
        "      points.append(self.mirrer(points[0])) # [10]\n",
        "      ts = [t/100.0 for t in range(101)]\n",
        "      hair = []\n",
        "      bend = [10,20,-50,-50,-50,-50,-50,-50,20,10]\n",
        "      for i in range(len(points)-1):\n",
        "        xys = self.easy_bezier(points[i],points[i+1],bend[i])\n",
        "        bezier = self.make_bezier(xys)\n",
        "        hair.extend(bezier(ts))\n",
        "      canvas.polygon(\n",
        "        hair,  # 左上のxy座標、右下のXY座標\n",
        "        fill=(0,0,0),\n",
        "        outline=(0,0,0)\n",
        "      )\n",
        "\n",
        "\n",
        "image = Image.new(\"RGBA\", (400, 400), (236, 239, 241))\n",
        "canvas = ImageDraw.Draw(image)\n",
        "skincolor=(249, 168, 37)\n",
        "face = Face(skincolor)\n",
        "face.draw(canvas)\n",
        "eyes = Eyes(skincolor)\n",
        "eyes.draw(canvas)\n",
        "mouth = Mouth(skincolor)\n",
        "mouth.draw(canvas)\n",
        "nose = Nose(skincolor)\n",
        "nose.draw(canvas)\n",
        "ears = Ears(skincolor)\n",
        "ears.draw(canvas)\n",
        "hair = SmoothHair(skincolor)\n",
        "hair.draw(canvas)\n",
        "image.show()"
      ],
      "metadata": {
        "id": "zjjdBtvwfgBY"
      },
      "execution_count": null,
      "outputs": []
    },
    {
      "cell_type": "markdown",
      "source": [
        "この一連のソースコードは、[同じものが講義のGoogle Drive上に生のPythonファイルとしても保存してあります](https://drive.google.com/drive/folders/1mMOr87_L4iUZDg9mnIpqxNORFNIJ4JJT?usp=share_link)。\n",
        "\n",
        "これら顔のパーツを拡張したい場合は、Google DriveをColabにマウントして**import**文で自分のコードに取り込む事が出来ます。"
      ],
      "metadata": {
        "id": "yda8iQYBhfyP"
      }
    },
    {
      "cell_type": "code",
      "source": [
        "from google.colab import drive\n",
        "drive.mount('/content/gdrive')\n",
        "%cd /content/gdrive/Shareddrives/2023-35A01／情報科学 c/lib\n",
        "\n",
        "import face_component"
      ],
      "metadata": {
        "id": "Kk88oCa4ey3K"
      },
      "execution_count": null,
      "outputs": []
    },
    {
      "cell_type": "markdown",
      "source": [
        "では、この状態から、新しい目を描くクラスを追加して、それを使って顔を描いてみましょう。\n",
        "\n",
        "では、Eyesクラスを継承して、独自のSmileEyesクラスを作っていきましょう。（Componentクラスではなく、Eyesクラスを継承しましょう。**issubclass**を使って目であると後から判定可能です。）\n",
        "\n",
        "にっこりの目ですから円弧で描くのが楽でしょう。"
      ],
      "metadata": {
        "id": "wLhIC3EAmIyj"
      }
    },
    {
      "cell_type": "code",
      "source": [
        "class SmileEyes(Eyes):\n",
        "  def __init__(self,skincolor):\n",
        "    super().__init__(skincolor)\n",
        "    self.feature = \"笑っている目\"\n",
        "\n",
        "  def draw(self,canvas):\n",
        "    x = 160\n",
        "    y = 220\n",
        "    r = 20\n",
        "    canvas.arc(\n",
        "      [(x-r, y-r), (x+r, y+r)],  # 左上のxy座標、右下のXY座標\n",
        "      fill=(0,0,0),              # 塗りの色\n",
        "      start=270-40,\n",
        "      end=270+40,\n",
        "      width=3\n",
        "    )\n",
        "    x = 400 - x\n",
        "    canvas.arc(\n",
        "      [(x-r, y-r), (x+r, y+r)],  # 左上のxy座標、右下のXY座標\n",
        "      fill=(0,0,0),               # 塗りの色\n",
        "      start=270-40,\n",
        "      end=270+40,\n",
        "      width=3\n",
        "    )\n",
        "  \n",
        "  image = Image.new(\"RGBA\", (400, 400), (236, 239, 241))\n",
        "canvas = ImageDraw.Draw(image)\n",
        "skincolor=(249, 168, 37)\n",
        "face = Face(skincolor)\n",
        "face.draw(canvas)\n",
        "eyes = SmileEyes(skincolor)\n",
        "eyes.draw(canvas)\n",
        "mouth = Mouth(skincolor)\n",
        "mouth.draw(canvas)\n",
        "nose = Nose(skincolor)\n",
        "nose.draw(canvas)\n",
        "ears = Ears(skincolor)\n",
        "ears.draw(canvas)\n",
        "hair = SmoothHair(skincolor)\n",
        "hair.draw(canvas)\n",
        "image.show()"
      ],
      "metadata": {
        "id": "4KeQgwaWjMnZ"
      },
      "execution_count": null,
      "outputs": []
    },
    {
      "cell_type": "markdown",
      "source": [
        "クラスの継承の機能は理解しましたか？今日の課題はこのページで作った、顔のパーツのクラスをさらに継承して、皆さんの絵心を注入した顔のパーツを描くクラスを実装してもらいます。\n",
        "\n",
        "[講義サポートページ](https://github.com/YokoyamaLab/PythonBasics/)に戻り**課題Q2**に進んでください。"
      ],
      "metadata": {
        "id": "NCwVrIxFVyyk"
      }
    }
  ]
}