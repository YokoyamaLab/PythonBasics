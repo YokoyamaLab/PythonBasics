{
  "nbformat": 4,
  "nbformat_minor": 0,
  "metadata": {
    "colab": {
      "provenance": [],
      "authorship_tag": "ABX9TyOC1ph/Da5ccBSoyYiLdonQ",
      "include_colab_link": true
    },
    "kernelspec": {
      "name": "python3",
      "display_name": "Python 3"
    },
    "language_info": {
      "name": "python"
    }
  },
  "cells": [
    {
      "cell_type": "markdown",
      "metadata": {
        "id": "view-in-github",
        "colab_type": "text"
      },
      "source": [
        "<a href=\"https://colab.research.google.com/github/YokoyamaLab/PythonBasics/blob/main/day04_q1Star.ipynb\" target=\"_parent\"><img src=\"https://colab.research.google.com/assets/colab-badge.svg\" alt=\"Open In Colab\"/></a>"
      ]
    },
    {
      "cell_type": "markdown",
      "source": [
        "# Day04 課題Q1"
      ],
      "metadata": {
        "id": "zx77LyCqAung"
      }
    },
    {
      "cell_type": "code",
      "source": [
        "#@title 学籍番号、名前\n",
        "id = \"\" #@param {type:\"string\"}\n",
        "name = \"\" #@param {type:\"string\"}"
      ],
      "metadata": {
        "id": "0AhqkY4hC5qy"
      },
      "execution_count": null,
      "outputs": []
    },
    {
      "cell_type": "markdown",
      "source": [
        "## 課題解説"
      ],
      "metadata": {
        "id": "jxl0o07XC7Q_"
      }
    },
    {
      "cell_type": "markdown",
      "source": [
        "制限時間10分の課題です。Turtle Graphicsで星を描いてみましょう。どんな星でも構いません。ただし以下の評価ポイントがあります。\n",
        "\n",
        "* **Great!**: 一筆書きの五芒星\n",
        "* **Super!**: 色が星っぽい\n",
        "* **Genius!**: For文使ってコードが簡潔\n",
        "* **Mega!**: For文使って満天の星空を描く\n",
        "* **Guru!**: 任意の頂点数の星を描く\n",
        "\n",
        "\n"
      ],
      "metadata": {
        "id": "D32LnjmDAxyv"
      }
    },
    {
      "cell_type": "markdown",
      "source": [
        "とりあえず**ColabTurtle**を有効化・初期化しましょう。"
      ],
      "metadata": {
        "id": "89rqIqfdDESZ"
      }
    },
    {
      "cell_type": "code",
      "execution_count": null,
      "metadata": {
        "id": "nalWVL2I_07r"
      },
      "outputs": [],
      "source": [
        "!pip3 install ColabTurtle\n",
        "from ColabTurtle.Turtle import *"
      ]
    },
    {
      "cell_type": "markdown",
      "source": [
        "次に、色の指定方法だけ復習しておきましょう。\n",
        "\n",
        "色は**色の名前を表す文字列**で指定するか、**RGB(赤緑青)の三原色の強さ(00～ffまでの16進数)**で指定します。以下のコードでは最初の直線は**yellow**が指定されており、次の直線は**#ff00ff**が指定されています。**#ff00ff**は青成分と青成分が**ff**ともに最高値ですので、紫の線が表示されます。\n",
        "\n",
        "参考\n",
        "\n",
        "* [色の名前リスト](https://www.w3schools.com/colors/colors_names.asp)\n",
        "* [#RRGGBB表記法](https://www.w3schools.com/colors/colors_hexadecimal.asp)"
      ],
      "metadata": {
        "id": "RgPiyLFkDJ1s"
      }
    },
    {
      "cell_type": "code",
      "source": [
        "initializeTurtle(initial_speed=5)\n",
        "color(\"yellow\")\n",
        "bgcolor(\"black\")\n",
        "forward(100)\n",
        "color(\"#ff00ff\")\n",
        "right(90)\n",
        "forward(100)\n",
        "hideturtle()"
      ],
      "metadata": {
        "id": "Eb7KClcpDTvC"
      },
      "execution_count": null,
      "outputs": []
    },
    {
      "cell_type": "markdown",
      "source": [
        "## 提出物\n",
        "\n",
        "以下のソースコードに皆さんの『星を描くコード』を加筆してください。"
      ],
      "metadata": {
        "id": "BYLDXPaVEmvQ"
      }
    },
    {
      "cell_type": "code",
      "source": [
        "def drawing_star_学籍番号(): ###################　【要変更】学籍番号を皆さんの実際の学籍番号に置き換えてください。\n",
        "  # 皆さんの名前を左上に絵がくコードですここは触らないでください。\n",
        "  penup()\n",
        "  goto(20,20)\n",
        "  write(name)\n",
        "  goto(window_width()/2,window_height()/2)\n",
        "  # この下に皆さんの星を描くコードを書いてください。\n",
        "\n",
        "\n",
        "my_function = drawing_star_学籍番号 #############　【要変更】学籍番号を皆さんの実際の学籍番号に置き換えてください。\n",
        "\n",
        "# 試しに描いてみる\n",
        "initializeTurtle(initial_speed=5)\n",
        "my_function();"
      ],
      "metadata": {
        "id": "p6axT_UFEwDr"
      },
      "execution_count": null,
      "outputs": []
    },
    {
      "cell_type": "markdown",
      "source": [
        "# おしまい"
      ],
      "metadata": {
        "id": "oEyZc7y1Iq5E"
      }
    },
    {
      "cell_type": "markdown",
      "source": [
        "講義内で説明した方法に従って、この宿題を提出してください。例によって終わらなかった人は講義後、来週の講義前日までに提出してください。\n",
        "\n",
        "さて、[講義サポートページ](https://github.com/YokoyamaLab/PythonBasics/)に戻り**資料02**に進んでください。\n",
        "\n",
        "以下のコードは集計用のコードですので、変更しないでください。"
      ],
      "metadata": {
        "id": "WUQN-RpJIl46"
      }
    },
    {
      "cell_type": "code",
      "source": [
        "# 以下は宿題集計用のコードです。学籍番号の所だけ適切に修正してください。\n",
        "if not('marged_homework' in locals()):\n",
        "    marged_homework = {}\n",
        "marged_homework[id] = {\n",
        "    \"name\": name,\n",
        "    \"report\": my_function\n",
        "}"
      ],
      "metadata": {
        "id": "2uzJNaElImQy"
      },
      "execution_count": null,
      "outputs": []
    }
  ]
}