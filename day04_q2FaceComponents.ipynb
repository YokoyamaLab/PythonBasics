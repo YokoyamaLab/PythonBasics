{
  "nbformat": 4,
  "nbformat_minor": 0,
  "metadata": {
    "colab": {
      "provenance": [],
      "include_colab_link": true
    },
    "kernelspec": {
      "name": "python3",
      "display_name": "Python 3"
    },
    "language_info": {
      "name": "python"
    }
  },
  "cells": [
    {
      "cell_type": "markdown",
      "metadata": {
        "id": "view-in-github",
        "colab_type": "text"
      },
      "source": [
        "<a href=\"https://colab.research.google.com/github/YokoyamaLab/PythonBasics/blob/2024/day04_q2FaceComponents.ipynb\" target=\"_parent\"><img src=\"https://colab.research.google.com/assets/colab-badge.svg\" alt=\"Open In Colab\"/></a>"
      ]
    },
    {
      "cell_type": "markdown",
      "source": [
        "# Day04 課題Q2 アバターに使う顔のパーツを描こう"
      ],
      "metadata": {
        "id": "Iz0JNYLIqLFc"
      }
    },
    {
      "cell_type": "code",
      "execution_count": null,
      "metadata": {
        "cellView": "form",
        "id": "FlWv1Zm5psdd"
      },
      "outputs": [],
      "source": [
        "#@title 学籍番号、名前\n",
        "id = \"\" #@param {type:\"string\"}\n",
        "name = \"\" #@param {type:\"string\"}"
      ]
    },
    {
      "cell_type": "markdown",
      "source": [
        "### 課題説明"
      ],
      "metadata": {
        "id": "JIqcjj5-REfg"
      }
    },
    {
      "cell_type": "markdown",
      "source": [
        "この課題ではこれまでに作った顔のパーツを描くクラスの一部を拡張(継承)して、皆さんの自画像を描いてもらいます。\n",
        "\n",
        "解説は長くなるので講義資料と共に別ファイルで配布しています。まずはそちらを見てください。"
      ],
      "metadata": {
        "id": "DiHVudv5RETJ"
      }
    },
    {
      "cell_type": "markdown",
      "source": [
        "### 顔のパーツの実装"
      ],
      "metadata": {
        "id": "N8pxrdxEqZBO"
      }
    },
    {
      "cell_type": "markdown",
      "source": [
        "まずComponentクラスや各パーツの基本となるクラスをGoogle Driveからimportします。"
      ],
      "metadata": {
        "id": "9tWyYx82qcRU"
      }
    },
    {
      "cell_type": "code",
      "source": [
        "from google.colab import drive\n",
        "drive.mount(\"/content/gdrive\")\n",
        "\n",
        "# Gdrive上からGoogle Colabの環境にダウンロードする\n",
        "!cp \"/content/gdrive/Shareddrives/2024-35A01／情報科学 e／横山 昌平/lib/face_component.py\" \"/content\"\n",
        "\n",
        "# ダウンロードしたものを呼び出す\n",
        "from face_component import Component,Face,Eyes,Ears,Mouth,Nose,Hair,SmoothHair\n",
        "\n",
        "# 必要ライブラリのインポート\n",
        "from PIL import Image, ImageDraw, ImageFont\n",
        "import math"
      ],
      "metadata": {
        "id": "mSVKCKdsqmSf"
      },
      "execution_count": null,
      "outputs": []
    },
    {
      "cell_type": "markdown",
      "source": [
        "では、講義で皆さんに割り当てた顔のパーツを3つ実装してください。"
      ],
      "metadata": {
        "id": "aoU0XWCf57pF"
      }
    },
    {
      "cell_type": "markdown",
      "source": [
        "### 顔のパーツ（輪郭）"
      ],
      "metadata": {
        "id": "bj7UA7DeqyRQ"
      }
    },
    {
      "cell_type": "markdown",
      "source": [
        "輪郭を表すFaceクラスを継承して独自の輪郭を描くクラスを作成してください。インスタンス変数のfeatureには、そのパーツを端的に表すタイトルを付けてください。"
      ],
      "metadata": {
        "id": "PfQ4f5nlq21O"
      }
    },
    {
      "cell_type": "code",
      "source": [
        "# コードはここへ"
      ],
      "metadata": {
        "id": "08uXCBnmrCwj"
      },
      "execution_count": null,
      "outputs": []
    },
    {
      "cell_type": "markdown",
      "source": [
        "### 顔のパーツ（髪型）"
      ],
      "metadata": {
        "id": "7Tek5-w8rEu6"
      }
    },
    {
      "cell_type": "markdown",
      "source": [
        "髪の毛を表すHairクラスを継承して独自の輪郭を描くクラスを作成してください。インスタンス変数のfeatureには、そのパーツを端的に表すタイトルを付けてください。"
      ],
      "metadata": {
        "id": "W8e3G_XzrMta"
      }
    },
    {
      "cell_type": "code",
      "source": [
        "# コードはここへ"
      ],
      "metadata": {
        "id": "OZDYsnEtrO8m"
      },
      "execution_count": null,
      "outputs": []
    },
    {
      "cell_type": "markdown",
      "source": [
        "### 顔のパーツ（指定パーツ）"
      ],
      "metadata": {
        "id": "QACiX5n1fWcv"
      }
    },
    {
      "cell_type": "markdown",
      "source": [
        "指定された顔のパーツを指定されたクラス名で定義してください。インスタンス変数のfeatureには、そのパーツを端的に表すタイトルを付けてください。"
      ],
      "metadata": {
        "id": "3FQV_okDfdkc"
      }
    },
    {
      "cell_type": "code",
      "source": [
        "# コードはここへ"
      ],
      "metadata": {
        "id": "O7ToLVltgmRZ"
      },
      "execution_count": null,
      "outputs": []
    },
    {
      "cell_type": "markdown",
      "source": [
        "## 顔のパーツ（任意パーツ）"
      ],
      "metadata": {
        "id": "oSvo1ixgfouB"
      }
    },
    {
      "cell_type": "markdown",
      "source": [
        "上記で描いていないパーツを一つ選びそれを描くクラスを指定された番号を末尾につけたクラス名で(指定番号が12でEyesクラスを作るならEyes12)作成してください。"
      ],
      "metadata": {
        "id": "bZjZHH2bfuux"
      }
    },
    {
      "cell_type": "code",
      "source": [
        "# コードはここへ"
      ],
      "metadata": {
        "id": "2hyQwWF3fc7h"
      },
      "execution_count": null,
      "outputs": []
    },
    {
      "cell_type": "markdown",
      "source": [
        "### 検証用コード"
      ],
      "metadata": {
        "id": "_XKaE1uS6BP_"
      }
    },
    {
      "cell_type": "markdown",
      "source": [
        "ここで実装したパーツ以外は、講義ノートで作成したクラスを使って構いません。クラス定義はすでにインポートされていますので、クラス名を指定すれば使えます。"
      ],
      "metadata": {
        "id": "iCKi9FT66FIB"
      }
    },
    {
      "cell_type": "code",
      "source": [
        "# 検証用の描画コードはここへ"
      ],
      "metadata": {
        "id": "hXAXh-pr6i6S"
      },
      "execution_count": null,
      "outputs": []
    },
    {
      "cell_type": "markdown",
      "source": [
        "必ず検証用コードで自分の実装したコードを利用した顔が、想定通り描けている事を確認してから、提出してください。どんなものを実装したか確認しやすいので、顔を描画した状態で提出してください。"
      ],
      "metadata": {
        "id": "C3nwd2OVRAB-"
      }
    }
  ]
}