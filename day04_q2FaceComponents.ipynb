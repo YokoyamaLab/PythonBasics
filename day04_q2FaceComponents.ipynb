{
  "nbformat": 4,
  "nbformat_minor": 0,
  "metadata": {
    "colab": {
      "provenance": [],
      "include_colab_link": true
    },
    "kernelspec": {
      "name": "python3",
      "display_name": "Python 3"
    },
    "language_info": {
      "name": "python"
    }
  },
  "cells": [
    {
      "cell_type": "markdown",
      "metadata": {
        "id": "view-in-github",
        "colab_type": "text"
      },
      "source": [
        "<a href=\"https://colab.research.google.com/github/YokoyamaLab/PythonBasics/blob/main/day04_q2FaceComponents.ipynb\" target=\"_parent\"><img src=\"https://colab.research.google.com/assets/colab-badge.svg\" alt=\"Open In Colab\"/></a>"
      ]
    },
    {
      "cell_type": "markdown",
      "source": [
        "# Day04 課題Q2 アバターに使う顔のパーツを描こう"
      ],
      "metadata": {
        "id": "Iz0JNYLIqLFc"
      }
    },
    {
      "cell_type": "code",
      "execution_count": null,
      "metadata": {
        "cellView": "form",
        "id": "FlWv1Zm5psdd"
      },
      "outputs": [],
      "source": [
        "#@title 学籍番号、名前\n",
        "id = \"\" #@param {type:\"string\"}\n",
        "name = \"\" #@param {type:\"string\"}"
      ]
    },
    {
      "cell_type": "markdown",
      "source": [
        "### 顔のパーツの実装"
      ],
      "metadata": {
        "id": "N8pxrdxEqZBO"
      }
    },
    {
      "cell_type": "markdown",
      "source": [
        "まずComponentクラスや各パーツの基本となるクラスをGoogle Driveからimportします。"
      ],
      "metadata": {
        "id": "9tWyYx82qcRU"
      }
    },
    {
      "cell_type": "code",
      "source": [
        "from google.colab import drive\n",
        "drive.mount('/content/gdrive')\n",
        "%cd /content/gdrive/Shareddrives/2023-35A01／情報科学 c/lib\n",
        "\n",
        "from face_component import Component,Face,Eyes,Ears,Mouth,Nose,Hair,SmoothHair"
      ],
      "metadata": {
        "id": "mSVKCKdsqmSf",
        "outputId": "f118ec40-a8bb-4cab-811e-ecf2b95e3507",
        "colab": {
          "base_uri": "https://localhost:8080/"
        }
      },
      "execution_count": 2,
      "outputs": [
        {
          "output_type": "stream",
          "name": "stdout",
          "text": [
            "Drive already mounted at /content/gdrive; to attempt to forcibly remount, call drive.mount(\"/content/gdrive\", force_remount=True).\n",
            "/content/gdrive/Shareddrives/2023-35A01／情報科学 c/lib\n"
          ]
        }
      ]
    },
    {
      "cell_type": "code",
      "source": [],
      "metadata": {
        "id": "FoLrnAaGHEWm"
      },
      "execution_count": null,
      "outputs": []
    },
    {
      "cell_type": "markdown",
      "source": [
        "では、講義で皆さんに割り当てた顔のパーツを2つ実装してください。"
      ],
      "metadata": {
        "id": "aoU0XWCf57pF"
      }
    },
    {
      "cell_type": "markdown",
      "source": [
        "### 顔のパーツ①"
      ],
      "metadata": {
        "id": "bj7UA7DeqyRQ"
      }
    },
    {
      "cell_type": "markdown",
      "source": [
        "指定された顔のパーツのウチ、最初のものを指定されたクラス名で定義してください。時間の許す限り凝った絵を追求しましょう。インスタンス変数のfeatureには、そのパーツを端的に表すタイトルを付けてください。"
      ],
      "metadata": {
        "id": "PfQ4f5nlq21O"
      }
    },
    {
      "cell_type": "code",
      "source": [
        "# コードはここへ"
      ],
      "metadata": {
        "id": "08uXCBnmrCwj"
      },
      "execution_count": null,
      "outputs": []
    },
    {
      "cell_type": "markdown",
      "source": [
        "### 顔のパーツ②"
      ],
      "metadata": {
        "id": "7Tek5-w8rEu6"
      }
    },
    {
      "cell_type": "markdown",
      "source": [
        "指定された顔のパーツのウチ、二番目のものを指定されたクラス名で定義してください。時間の許す限り凝った絵を追求しましょう。インスタンス変数のfeatureには、そのパーツを端的に表すタイトルを付けてください。"
      ],
      "metadata": {
        "id": "W8e3G_XzrMta"
      }
    },
    {
      "cell_type": "code",
      "source": [
        "# コードはここへ"
      ],
      "metadata": {
        "id": "OZDYsnEtrO8m"
      },
      "execution_count": null,
      "outputs": []
    },
    {
      "cell_type": "markdown",
      "source": [
        "### 検証用コード"
      ],
      "metadata": {
        "id": "_XKaE1uS6BP_"
      }
    },
    {
      "cell_type": "markdown",
      "source": [
        "ここで実装したパーツ以外は、講義ノートで作成したクラスを使って構いません。クラス定義はすでにインポートされていますので、クラス名を指定すれば使えます。"
      ],
      "metadata": {
        "id": "iCKi9FT66FIB"
      }
    },
    {
      "cell_type": "code",
      "source": [
        "# 検証用の描画コードはここへ"
      ],
      "metadata": {
        "id": "hXAXh-pr6i6S"
      },
      "execution_count": null,
      "outputs": []
    },
    {
      "cell_type": "markdown",
      "source": [
        "必ず検証用コードで自分の実装したコードを利用した顔が、想定通り描けている事を確認してから、提出してください。どんなものを実装したか確認しやすいので、顔を描画した状態で提出してください。"
      ],
      "metadata": {
        "id": "C3nwd2OVRAB-"
      }
    }
  ]
}