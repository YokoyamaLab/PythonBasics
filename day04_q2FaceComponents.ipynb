{
  "nbformat": 4,
  "nbformat_minor": 0,
  "metadata": {
    "colab": {
      "provenance": [],
      "authorship_tag": "ABX9TyO4oWjKq8cjcUPQxCEBjsBT",
      "include_colab_link": true
    },
    "kernelspec": {
      "name": "python3",
      "display_name": "Python 3"
    },
    "language_info": {
      "name": "python"
    }
  },
  "cells": [
    {
      "cell_type": "markdown",
      "metadata": {
        "id": "view-in-github",
        "colab_type": "text"
      },
      "source": [
        "<a href=\"https://colab.research.google.com/github/YokoyamaLab/PythonBasics/blob/main/day04_q2FaceComponents.ipynb\" target=\"_parent\"><img src=\"https://colab.research.google.com/assets/colab-badge.svg\" alt=\"Open In Colab\"/></a>"
      ]
    },
    {
      "cell_type": "markdown",
      "source": [
        "# Day04 課題Q2 アバターに使う顔のパーツを描こう　"
      ],
      "metadata": {
        "id": "Iz0JNYLIqLFc"
      }
    },
    {
      "cell_type": "code",
      "execution_count": null,
      "metadata": {
        "cellView": "form",
        "id": "FlWv1Zm5psdd"
      },
      "outputs": [],
      "source": [
        "#@title 学籍番号、名前\n",
        "id = \"\" #@param {type:\"string\"}\n",
        "name = \"\" #@param {type:\"string\"}"
      ]
    },
    {
      "cell_type": "markdown",
      "source": [
        "### 顔のパーツの実装"
      ],
      "metadata": {
        "id": "N8pxrdxEqZBO"
      }
    },
    {
      "cell_type": "markdown",
      "source": [
        "講義で作ったComponentクラスや各パーツの基本となるクラスを読みこみましょう。"
      ],
      "metadata": {
        "id": "9tWyYx82qcRU"
      }
    },
    {
      "cell_type": "code",
      "source": [
        "from PIL import Image, ImageDraw, ImageFont\n",
        "import math\n",
        " \n",
        "class Component:\n",
        "  def __init__(self,skincolor):\n",
        "    self.feature = \"顔のパーツの元になるクラス\"\n",
        "    self.skincolor = skincolor\n",
        "  \n",
        "  def draw(self,image):\n",
        "    pass # 親クラスでは何もしない\n",
        "  \n",
        "  def easy_bezier(self,start,end,d):\n",
        "    h = end[0] - start[0]\n",
        "    v = end[1] - start[1]\n",
        "    cx = start[0] + (h / 2)\n",
        "    cy = start[1] + (v / 2)\n",
        "    if v == 0:\n",
        "        return [start,(cx,cy + d),end]\n",
        "    else:\n",
        "        rad = math.atan(h/v) + (math.pi / 2) + (math.pi if (h < 0 and v >= 0) or (h >= 0 and v >= 0) else 0)\n",
        "        dx = d * math.sin(rad)\n",
        "        dy = d * math.cos(rad)\n",
        "        return [start,((cx + dx),(cy + dy)),end]\n",
        "  \n",
        "  def make_bezier(self,xys):\n",
        "    # xys should be a sequence of 2-tuples (Bezier control points)\n",
        "    n = len(xys)\n",
        "    combinations = self.pascal_row(n-1)\n",
        "    def bezier(ts):\n",
        "        # This uses the generalized formula for bezier curves\n",
        "        # http://en.wikipedia.org/wiki/B%C3%A9zier_curve#Generalization\n",
        "        result = []\n",
        "        for t in ts:\n",
        "            tpowers = (t**i for i in range(n))\n",
        "            upowers = reversed([(1-t)**i for i in range(n)])\n",
        "            coefs = [c*a*b for c, a, b in zip(combinations, tpowers, upowers)]\n",
        "            result.append(\n",
        "                tuple(sum([coef*p for coef, p in zip(coefs, ps)]) for ps in zip(*xys)))\n",
        "        return result\n",
        "    return bezier\n",
        "\n",
        "  def pascal_row(self, n, memo={}):\n",
        "      # This returns the nth row of Pascal's Triangle\n",
        "      if n in memo:\n",
        "          return memo[n]\n",
        "      result = [1]\n",
        "      x, numerator = 1, n\n",
        "      for denominator in range(1, n//2+1):\n",
        "          # print(numerator,denominator,x)\n",
        "          x *= numerator\n",
        "          x /= denominator\n",
        "          result.append(x)\n",
        "          numerator -= 1\n",
        "      if n&1 == 0:\n",
        "          # n is even\n",
        "          result.extend(reversed(result[:-1]))\n",
        "      else:\n",
        "          result.extend(reversed(result))\n",
        "      memo[n] = result\n",
        "      return result\n",
        " \n",
        "\n",
        "class Face(Component):\n",
        "  def __init__(self,skincolor):\n",
        "    super().__init__(skincolor)\n",
        "    self.feature = \"ベーシックな顔の輪郭\"\n",
        "\n",
        "  def draw(self,canvas):\n",
        "    canvas.ellipse(\n",
        "      [(80, 50), (320, 350)],  # 左上のxy座標、右下のXY座標\n",
        "      fill=self.skincolor            # 塗りの色\n",
        "    )\n",
        "\n",
        "class Eyes(Component):\n",
        "  def __init__(self,skincolor):\n",
        "    super().__init__(skincolor)\n",
        "    self.feature = \"つぶらな瞳\"\n",
        "\n",
        "  def draw(self,canvas):\n",
        "    x = 160\n",
        "    y = 180\n",
        "    r = 10\n",
        "    canvas.ellipse(\n",
        "      [(x-r, y-r), (x+r, y+r)],  # 左上のxy座標、右下のXY座標\n",
        "      fill=(0,0,0)            # 塗りの色\n",
        "    )\n",
        "    x = 400 - x\n",
        "    canvas.ellipse(\n",
        "      [(x-r, y-r), (x+r, y+r)],  # 左上のxy座標、右下のXY座標\n",
        "      fill=(0,0,0)            # 塗りの色\n",
        "    )\n",
        "\n",
        "class Mouth(Component):\n",
        "  def __init__(self,skincolor):\n",
        "    super().__init__(skincolor)\n",
        "    self.feature = \"スマイル!\"\n",
        "\n",
        "  def draw(self,canvas):\n",
        "    canvas.arc(\n",
        "      [(150,150),(250,300)],\n",
        "      start=45,\n",
        "      end=135,\n",
        "      fill=(194, 24, 91),\n",
        "      width=3\n",
        "    )\n",
        "\n",
        "class Nose(Component):\n",
        "  def __init__(self,skincolor):\n",
        "    super().__init__(skincolor)\n",
        "    self.feature = \"シンプルな鼻\"\n",
        "\n",
        "  def draw(self,canvas):\n",
        "    x = 200\n",
        "    y = 220\n",
        "    canvas.line(\n",
        "      [(x+5, y-10), (x-5, y),(x+5, y+10)],\n",
        "      fill=(0,0,0), \n",
        "      width=2\n",
        "    )\n",
        "\n",
        "class Ears(Component):\n",
        "  def __init__(self,skincolor):\n",
        "    super().__init__(skincolor)\n",
        "    self.feature = \"耳はパス！\"\n",
        "\n",
        "  def draw(self,canvas):\n",
        "    pass\n",
        "\n",
        "class Hair(Component):\n",
        "  def __init__(self,skincolor):\n",
        "    super().__init__(skincolor)\n",
        "    self.feature = \"髪の毛\"\n",
        "\n",
        "  def mirrer(self,xy):\n",
        "    # 中央垂直軸に対するミラー座礁を得る\n",
        "    return (400 - xy[0] , xy[1])\n",
        "\n",
        "  def draw(self,canvas):\n",
        "      points = [(200, 160),(100, 160),(100, 300),(60,180),(100,90),(200,40)]\n",
        "      points.append(self.mirrer(points[4]))\n",
        "      points.append(self.mirrer(points[3]))\n",
        "      points.append(self.mirrer(points[2]))\n",
        "      points.append(self.mirrer(points[1]))\n",
        "      canvas.polygon(\n",
        "        points,  # 左上のxy座標、右下のXY座標\n",
        "        fill=(0,0,0),\n",
        "        outline=(0,0,0)\n",
        "      )\n",
        "\n",
        "class SmoothHair(Hair):\n",
        "  def __init__(self,skincolor):\n",
        "    super().__init__(skincolor)\n",
        "    self.feature = \"髪の毛\"\n",
        "\n",
        "  def draw(self,canvas):\n",
        "      points = [(200, 160),(100, 160),(100, 300),(60,180),(100,90),(200,40)]\n",
        "      points.append(self.mirrer(points[4])) # [6]\n",
        "      points.append(self.mirrer(points[3])) # [7]\n",
        "      points.append(self.mirrer(points[2])) # [8]\n",
        "      points.append(self.mirrer(points[1])) # [9]\n",
        "      points.append(self.mirrer(points[0])) # [10]\n",
        "      ts = [t/100.0 for t in range(101)]\n",
        "      hair = []\n",
        "      bend = [10,20,-50,-50,-50,-50,-50,-50,20,10]\n",
        "      for i in range(len(points)-1):\n",
        "        xys = self.easy_bezier(points[i],points[i+1],bend[i])\n",
        "        bezier = self.make_bezier(xys)\n",
        "        hair.extend(bezier(ts))\n",
        "      canvas.polygon(\n",
        "        hair,  # 左上のxy座標、右下のXY座標\n",
        "        fill=(0,0,0),\n",
        "        outline=(0,0,0)\n",
        "      )"
      ],
      "metadata": {
        "id": "mSVKCKdsqmSf"
      },
      "execution_count": null,
      "outputs": []
    },
    {
      "cell_type": "markdown",
      "source": [
        "では、講義で皆さんに割り当てた顔のパーツを2つ実装してください。"
      ],
      "metadata": {
        "id": "aoU0XWCf57pF"
      }
    },
    {
      "cell_type": "markdown",
      "source": [
        "### 顔のパーツ①"
      ],
      "metadata": {
        "id": "bj7UA7DeqyRQ"
      }
    },
    {
      "cell_type": "markdown",
      "source": [
        "指定された顔のパーツのウチ、最初のものを指定されたクラス名で定義してください。時間の許す限り凝った絵を追求しましょう。インスタンス変数のfeatureには、そのパーツを端的に表すタイトルを付けてください。"
      ],
      "metadata": {
        "id": "PfQ4f5nlq21O"
      }
    },
    {
      "cell_type": "code",
      "source": [
        "# コードはここへ"
      ],
      "metadata": {
        "id": "08uXCBnmrCwj"
      },
      "execution_count": null,
      "outputs": []
    },
    {
      "cell_type": "markdown",
      "source": [
        "### 顔のパーツ②"
      ],
      "metadata": {
        "id": "7Tek5-w8rEu6"
      }
    },
    {
      "cell_type": "markdown",
      "source": [
        "指定された顔のパーツのウチ、二番目のものを指定されたクラス名で定義してください。時間の許す限り凝った絵を追求しましょう。インスタンス変数のfeatureには、そのパーツを端的に表すタイトルを付けてください。"
      ],
      "metadata": {
        "id": "W8e3G_XzrMta"
      }
    },
    {
      "cell_type": "code",
      "source": [
        "# コードはここへ"
      ],
      "metadata": {
        "id": "OZDYsnEtrO8m"
      },
      "execution_count": null,
      "outputs": []
    },
    {
      "cell_type": "markdown",
      "source": [
        "### 検証用コード"
      ],
      "metadata": {
        "id": "_XKaE1uS6BP_"
      }
    },
    {
      "cell_type": "markdown",
      "source": [
        "ここで実装したパーツ以外は、講義ノートで作成したクラスを使って構いません。クラス定義はすでにインポートされていますので、クラス名を指定すれば使えます。"
      ],
      "metadata": {
        "id": "iCKi9FT66FIB"
      }
    },
    {
      "cell_type": "code",
      "source": [
        "# 検証用の描画コードはここへ"
      ],
      "metadata": {
        "id": "hXAXh-pr6i6S"
      },
      "execution_count": null,
      "outputs": []
    },
    {
      "cell_type": "markdown",
      "source": [
        "必ず検証用コードで自分の実装したコードを利用した顔が、想定通り描けている事を確認してから、提出してください。"
      ],
      "metadata": {
        "id": "C3nwd2OVRAB-"
      }
    }
  ]
}