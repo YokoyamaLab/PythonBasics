{
  "nbformat": 4,
  "nbformat_minor": 0,
  "metadata": {
    "colab": {
      "provenance": [],
      "authorship_tag": "ABX9TyOGlTaiQlNATwe1UPiXdvMY",
      "include_colab_link": true
    },
    "kernelspec": {
      "name": "python3",
      "display_name": "Python 3"
    },
    "language_info": {
      "name": "python"
    }
  },
  "cells": [
    {
      "cell_type": "markdown",
      "metadata": {
        "id": "view-in-github",
        "colab_type": "text"
      },
      "source": [
        "<a href=\"https://colab.research.google.com/github/YokoyamaLab/PythonBasics/blob/2024/day04_q2FaceComponents_explanation.ipynb\" target=\"_parent\"><img src=\"https://colab.research.google.com/assets/colab-badge.svg\" alt=\"Open In Colab\"/></a>"
      ]
    },
    {
      "cell_type": "markdown",
      "source": [
        "# Day04 課題Q2 の解説"
      ],
      "metadata": {
        "id": "5GXmh0ppHpgd"
      }
    },
    {
      "cell_type": "markdown",
      "source": [
        "課題ファイルが大きくなるのを防ぐため、このファイルにて課題の説明をします。課題の提出物はGoogle Classroomで配布したものですので間違えないようにしてください。"
      ],
      "metadata": {
        "id": "G2YHbGiCJlcQ"
      }
    },
    {
      "cell_type": "markdown",
      "source": [
        "講義中に以下のクラスを定義しました。\n",
        "- Component\n",
        "  - Face\n",
        "  - Eyes\n",
        "  - Mouth\n",
        "  - Nose\n",
        "  - Ears\n",
        "  - Hair\n",
        "    - SmoothHair\n",
        "\n",
        "これらのクラス定義を[一つのPythonファイルにして、講義共有フォルダにface_component.pyというファイル名で格納](https://drive.google.com/drive/folders/1mMOr87_L4iUZDg9mnIpqxNORFNIJ4JJT?usp=share_link)してあります。あるPythonプログラム内で別のPythonファイルに書いてあるコードを読みこむには**import**文を使います。"
      ],
      "metadata": {
        "id": "errgfnUFH5lJ"
      }
    },
    {
      "cell_type": "code",
      "execution_count": 3,
      "metadata": {
        "id": "8buX8Zo-HY03",
        "outputId": "34247bfd-6b8d-46a4-a3c9-ecf38f67cc50",
        "colab": {
          "base_uri": "https://localhost:8080/"
        }
      },
      "outputs": [
        {
          "output_type": "stream",
          "name": "stdout",
          "text": [
            "Drive already mounted at /content/gdrive; to attempt to forcibly remount, call drive.mount(\"/content/gdrive\", force_remount=True).\n"
          ]
        }
      ],
      "source": [
        "from google.colab import drive\n",
        "drive.mount(\"/content/gdrive\")\n",
        "\n",
        "# Gdrive上からGoogle Colabの環境にダウンロードする\n",
        "!cp \"/content/gdrive/Shareddrives/2024-35A01／情報科学 e／横山 昌平/lib/face_component.py\" \"/content\"\n",
        "\n",
        "# ダウンロードしたものを呼び出す\n",
        "from face_component import Component,Face,Eyes,Ears,Mouth,Nose,Hair,SmoothHair\n",
        "\n",
        "# 必要ライブラリのインポート\n",
        "from PIL import Image, ImageDraw, ImageFont\n",
        "import math"
      ]
    },
    {
      "cell_type": "markdown",
      "source": [
        "では、この状態から、皆さん一人ひとりに割り当てられたパーツを描くのが今回の宿題です。\n",
        "\n",
        "上記のimport文が成功していればEyesクラス(や全てのクラス)はすでに定義済みです。\n",
        "\n",
        "では、Eyesクラスを継承して、独自のSmileEyesクラスを作っていきましょう。（Componentクラスではなく、Eyesクラスを継承しましょう。issubclassを使って目であると後から判定可能です。）\n",
        "\n",
        "にっこりの目ですから円弧で描くのが楽でしょう。\n"
      ],
      "metadata": {
        "id": "wypYgh3LJS-g"
      }
    },
    {
      "cell_type": "code",
      "source": [
        "class SmileEyes(Eyes):\n",
        "  def __init__(self,skincolor):\n",
        "    super().__init__(skincolor)\n",
        "    self.feature = \"笑っている目\"\n",
        "\n",
        "  def draw(self,canvas):\n",
        "    x = 160\n",
        "    y = 220\n",
        "    r = 20\n",
        "    canvas.arc(\n",
        "      [(x-r, y-r), (x+r, y+r)],  # 左上のxy座標、右下のXY座標\n",
        "      fill=(0,0,0),              # 塗りの色\n",
        "      start=270-40,\n",
        "      end=270+40,\n",
        "      width=3\n",
        "    )\n",
        "    x = 400 - x\n",
        "    canvas.arc(\n",
        "      [(x-r, y-r), (x+r, y+r)],  # 左上のxy座標、右下のXY座標\n",
        "      fill=(0,0,0),               # 塗りの色\n",
        "      start=270-40,\n",
        "      end=270+40,\n",
        "      width=3\n",
        "    )\n",
        "\n",
        "# ここから検証用コード\n",
        "image = Image.new(\"RGBA\", (400, 400), (236, 239, 241))\n",
        "canvas = ImageDraw.Draw(image)\n",
        "skincolor=(249, 168, 37)\n",
        "face = Face(skincolor)\n",
        "face.draw(canvas)\n",
        "eyes = SmileEyes(skincolor) # SmileEyesクラスを使う\n",
        "eyes.draw(canvas)\n",
        "mouth = Mouth(skincolor)\n",
        "mouth.draw(canvas)\n",
        "nose = Nose(skincolor)\n",
        "nose.draw(canvas)\n",
        "ears = Ears(skincolor)\n",
        "ears.draw(canvas)\n",
        "hair = SmoothHair(skincolor)\n",
        "hair.draw(canvas)\n",
        "image"
      ],
      "metadata": {
        "id": "poLmLMnWJd7v",
        "outputId": "b6e9efed-623a-40c3-e0ea-66c3d4294fb5",
        "colab": {
          "base_uri": "https://localhost:8080/",
          "height": 417
        }
      },
      "execution_count": 4,
      "outputs": [
        {
          "output_type": "execute_result",
          "data": {
            "text/plain": [
              "<PIL.Image.Image image mode=RGBA size=400x400>"
            ],
            "image/png": "[encoded data removed]"
          },
          "metadata": {},
          "execution_count": 4
        }
      ]
    },
    {
      "cell_type": "markdown",
      "source": [
        "つぶらな瞳が笑っている目に変わりました。このように、ベースのパーツのクラスを継承して、独自のパーツを実装しましょう。\n",
        "\n",
        "次回の演習時間に、みんなで作ったパーツを組み合わせて、様々な顔を描く部分を講義時間丸々つかい、実装します。\n",
        "\n",
        "予め定義してあるパーツは多い方が楽しいのでぜひ、宿題を期限内に終わらせてください。それでは課題のノートに戻って実装を進めてください！"
      ],
      "metadata": {
        "id": "TXD-ftEWMI5_"
      }
    }
  ]
}