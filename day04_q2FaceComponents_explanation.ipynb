{
  "nbformat": 4,
  "nbformat_minor": 0,
  "metadata": {
    "colab": {
      "provenance": [],
      "authorship_tag": "ABX9TyOrE2aUckLGchcnOHmH5GgJ",
      "include_colab_link": true
    },
    "kernelspec": {
      "name": "python3",
      "display_name": "Python 3"
    },
    "language_info": {
      "name": "python"
    }
  },
  "cells": [
    {
      "cell_type": "markdown",
      "metadata": {
        "id": "view-in-github",
        "colab_type": "text"
      },
      "source": [
        "<a href=\"https://colab.research.google.com/github/YokoyamaLab/PythonBasics/blob/main/day04_q2FaceComponents_explanation.ipynb\" target=\"_parent\"><img src=\"https://colab.research.google.com/assets/colab-badge.svg\" alt=\"Open In Colab\"/></a>"
      ]
    },
    {
      "cell_type": "markdown",
      "source": [
        "# Day04 課題Q2 の解説"
      ],
      "metadata": {
        "id": "5GXmh0ppHpgd"
      }
    },
    {
      "cell_type": "markdown",
      "source": [
        "課題ファイルが大きくなるのを防ぐため、このファイルにて課題の説明をします。課題の提出物はGoogle Classroomで配布したものですので間違えないようにしてください。"
      ],
      "metadata": {
        "id": "G2YHbGiCJlcQ"
      }
    },
    {
      "cell_type": "markdown",
      "source": [
        "講義中に以下のクラスを定義しました。\n",
        "- Component\n",
        "  - Face\n",
        "  - Eyes\n",
        "  - Mouth\n",
        "  - Nose\n",
        "  - Ears\n",
        "  - Hair\n",
        "    - SmoothHair\n",
        "\n",
        "これらのクラス定義を[一つのPythonファイルにして、講義共有フォルダにface_component.pyというファイル名で格納](https://drive.google.com/drive/folders/1mMOr87_L4iUZDg9mnIpqxNORFNIJ4JJT?usp=share_link)してあります。あるPythonプログラム内で別のPythonファイルに書いてあるコードを読みこむには**import**文を使います。"
      ],
      "metadata": {
        "id": "errgfnUFH5lJ"
      }
    },
    {
      "cell_type": "code",
      "execution_count": null,
      "metadata": {
        "id": "8buX8Zo-HY03"
      },
      "outputs": [],
      "source": [
        "from google.colab import drive\n",
        "drive.mount('/content/gdrive')\n",
        "%cd /content/gdrive/Shareddrives/2023-35A01／情報科学 c/lib\n",
        "\n",
        "from face_component import Component,Face,Eyes,Ears,Mouth,Nose,Hair,SmoothHair\n",
        "from PIL import Image, ImageDraw, ImageFont\n",
        "import math"
      ]
    },
    {
      "cell_type": "markdown",
      "source": [
        "では、この状態から、皆さん一人ひとりに割り当てられたパーツを描くのが今回の宿題です。\n",
        "\n",
        "上記のimport文が成功していればEyesクラス(や全てのクラス)はすでに定義済みです。\n",
        "\n",
        "では、Eyesクラスを継承して、独自のSmileEyesクラスを作っていきましょう。（Componentクラスではなく、Eyesクラスを継承しましょう。issubclassを使って目であると後から判定可能です。）\n",
        "\n",
        "にっこりの目ですから円弧で描くのが楽でしょう。\n"
      ],
      "metadata": {
        "id": "wypYgh3LJS-g"
      }
    },
    {
      "cell_type": "code",
      "source": [
        "class SmileEyes(Eyes):\n",
        "  def __init__(self,skincolor):\n",
        "    super().__init__(skincolor)\n",
        "    self.feature = \"笑っている目\"\n",
        "\n",
        "  def draw(self,canvas):\n",
        "    x = 160\n",
        "    y = 220\n",
        "    r = 20\n",
        "    canvas.arc(\n",
        "      [(x-r, y-r), (x+r, y+r)],  # 左上のxy座標、右下のXY座標\n",
        "      fill=(0,0,0),              # 塗りの色\n",
        "      start=270-40,\n",
        "      end=270+40,\n",
        "      width=3\n",
        "    )\n",
        "    x = 400 - x\n",
        "    canvas.arc(\n",
        "      [(x-r, y-r), (x+r, y+r)],  # 左上のxy座標、右下のXY座標\n",
        "      fill=(0,0,0),               # 塗りの色\n",
        "      start=270-40,\n",
        "      end=270+40,\n",
        "      width=3\n",
        "    )\n",
        "\n",
        "# ここから検証用コード\n",
        "image = Image.new(\"RGBA\", (400, 400), (236, 239, 241))\n",
        "canvas = ImageDraw.Draw(image)\n",
        "skincolor=(249, 168, 37)\n",
        "face = Face(skincolor)\n",
        "face.draw(canvas)\n",
        "eyes = SmileEyes(skincolor)\n",
        "eyes.draw(canvas)\n",
        "mouth = Mouth(skincolor)\n",
        "mouth.draw(canvas)\n",
        "nose = Nose(skincolor)\n",
        "nose.draw(canvas)\n",
        "ears = Ears(skincolor)\n",
        "ears.draw(canvas)\n",
        "hair = SmoothHair(skincolor)\n",
        "hair.draw(canvas)\n",
        "image.show()"
      ],
      "metadata": {
        "id": "poLmLMnWJd7v"
      },
      "execution_count": null,
      "outputs": []
    },
    {
      "cell_type": "markdown",
      "source": [
        "つぶらな瞳が笑っている目に変わりました。このように、ベースのパーツのクラスを継承して、独自のパーツを実装しましょう。\n",
        "\n",
        "次回の演習時間に、みんなで作ったパーツを組み合わせて、様々な顔を描く部分を講義時間丸々つかい、実装します。\n",
        "\n",
        "予め定義してあるパーツは多い方が楽しいのでぜひ、宿題を期限内に終わらせてください。それでは課題のノートに戻って実装を進めてください！"
      ],
      "metadata": {
        "id": "TXD-ftEWMI5_"
      }
    }
  ]
}