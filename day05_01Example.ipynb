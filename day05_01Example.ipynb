{
  "nbformat": 4,
  "nbformat_minor": 0,
  "metadata": {
    "colab": {
      "provenance": [],
      "authorship_tag": "ABX9TyN40Q+8Ci3GhTC9Gqfr9ich",
      "include_colab_link": true
    },
    "kernelspec": {
      "name": "python3",
      "display_name": "Python 3"
    },
    "language_info": {
      "name": "python"
    },
    "widgets": {
      "application/vnd.jupyter.widget-state+json": {
        "5a16d90ef31546699365f0f868edd500": {
          "model_module": "@jupyter-widgets/controls",
          "model_name": "VBoxModel",
          "model_module_version": "1.5.0",
          "state": {
            "_dom_classes": [
              "widget-interact"
            ],
            "_model_module": "@jupyter-widgets/controls",
            "_model_module_version": "1.5.0",
            "_model_name": "VBoxModel",
            "_view_count": null,
            "_view_module": "@jupyter-widgets/controls",
            "_view_module_version": "1.5.0",
            "_view_name": "VBoxView",
            "box_style": "",
            "children": [
              "IPY_MODEL_2c4cdcb09a674b9db909472ec9907cbc",
              "IPY_MODEL_08f34c34fa5043188352d59ce91cbc65"
            ],
            "layout": "IPY_MODEL_709e716f15814e4ba2c9282d5214caab"
          }
        },
        "2c4cdcb09a674b9db909472ec9907cbc": {
          "model_module": "@jupyter-widgets/controls",
          "model_name": "DropdownModel",
          "model_module_version": "1.5.0",
          "state": {
            "_dom_classes": [],
            "_model_module": "@jupyter-widgets/controls",
            "_model_module_version": "1.5.0",
            "_model_name": "DropdownModel",
            "_options_labels": [
              "つぶらな瞳",
              "つぶらな瞳 (Yui Sakamoto)"
            ],
            "_view_count": null,
            "_view_module": "@jupyter-widgets/controls",
            "_view_module_version": "1.5.0",
            "_view_name": "DropdownView",
            "description": "Select data:",
            "description_tooltip": null,
            "disabled": false,
            "index": 0,
            "layout": "IPY_MODEL_b3dd6fc307c548dda6043b901d955ccf",
            "style": "IPY_MODEL_50895bad92594e7c9731ed1b492d80c7"
          }
        },
        "08f34c34fa5043188352d59ce91cbc65": {
          "model_module": "@jupyter-widgets/output",
          "model_name": "OutputModel",
          "model_module_version": "1.0.0",
          "state": {
            "_dom_classes": [],
            "_model_module": "@jupyter-widgets/output",
            "_model_module_version": "1.0.0",
            "_model_name": "OutputModel",
            "_view_count": null,
            "_view_module": "@jupyter-widgets/output",
            "_view_module_version": "1.0.0",
            "_view_name": "OutputView",
            "layout": "IPY_MODEL_3ac515cca91e42fab321b42ddbdecf97",
            "msg_id": "",
            "outputs": [
              {
                "output_type": "stream",
                "name": "stdout",
                "text": [
                  "0が選ばれました\n"
                ]
              }
            ]
          }
        },
        "709e716f15814e4ba2c9282d5214caab": {
          "model_module": "@jupyter-widgets/base",
          "model_name": "LayoutModel",
          "model_module_version": "1.2.0",
          "state": {
            "_model_module": "@jupyter-widgets/base",
            "_model_module_version": "1.2.0",
            "_model_name": "LayoutModel",
            "_view_count": null,
            "_view_module": "@jupyter-widgets/base",
            "_view_module_version": "1.2.0",
            "_view_name": "LayoutView",
            "align_content": null,
            "align_items": null,
            "align_self": null,
            "border": null,
            "bottom": null,
            "display": null,
            "flex": null,
            "flex_flow": null,
            "grid_area": null,
            "grid_auto_columns": null,
            "grid_auto_flow": null,
            "grid_auto_rows": null,
            "grid_column": null,
            "grid_gap": null,
            "grid_row": null,
            "grid_template_areas": null,
            "grid_template_columns": null,
            "grid_template_rows": null,
            "height": null,
            "justify_content": null,
            "justify_items": null,
            "left": null,
            "margin": null,
            "max_height": null,
            "max_width": null,
            "min_height": null,
            "min_width": null,
            "object_fit": null,
            "object_position": null,
            "order": null,
            "overflow": null,
            "overflow_x": null,
            "overflow_y": null,
            "padding": null,
            "right": null,
            "top": null,
            "visibility": null,
            "width": null
          }
        },
        "b3dd6fc307c548dda6043b901d955ccf": {
          "model_module": "@jupyter-widgets/base",
          "model_name": "LayoutModel",
          "model_module_version": "1.2.0",
          "state": {
            "_model_module": "@jupyter-widgets/base",
            "_model_module_version": "1.2.0",
            "_model_name": "LayoutModel",
            "_view_count": null,
            "_view_module": "@jupyter-widgets/base",
            "_view_module_version": "1.2.0",
            "_view_name": "LayoutView",
            "align_content": null,
            "align_items": null,
            "align_self": null,
            "border": null,
            "bottom": null,
            "display": null,
            "flex": null,
            "flex_flow": null,
            "grid_area": null,
            "grid_auto_columns": null,
            "grid_auto_flow": null,
            "grid_auto_rows": null,
            "grid_column": null,
            "grid_gap": null,
            "grid_row": null,
            "grid_template_areas": null,
            "grid_template_columns": null,
            "grid_template_rows": null,
            "height": null,
            "justify_content": null,
            "justify_items": null,
            "left": null,
            "margin": null,
            "max_height": null,
            "max_width": null,
            "min_height": null,
            "min_width": null,
            "object_fit": null,
            "object_position": null,
            "order": null,
            "overflow": null,
            "overflow_x": null,
            "overflow_y": null,
            "padding": null,
            "right": null,
            "top": null,
            "visibility": null,
            "width": null
          }
        },
        "50895bad92594e7c9731ed1b492d80c7": {
          "model_module": "@jupyter-widgets/controls",
          "model_name": "DescriptionStyleModel",
          "model_module_version": "1.5.0",
          "state": {
            "_model_module": "@jupyter-widgets/controls",
            "_model_module_version": "1.5.0",
            "_model_name": "DescriptionStyleModel",
            "_view_count": null,
            "_view_module": "@jupyter-widgets/base",
            "_view_module_version": "1.2.0",
            "_view_name": "StyleView",
            "description_width": ""
          }
        },
        "3ac515cca91e42fab321b42ddbdecf97": {
          "model_module": "@jupyter-widgets/base",
          "model_name": "LayoutModel",
          "model_module_version": "1.2.0",
          "state": {
            "_model_module": "@jupyter-widgets/base",
            "_model_module_version": "1.2.0",
            "_model_name": "LayoutModel",
            "_view_count": null,
            "_view_module": "@jupyter-widgets/base",
            "_view_module_version": "1.2.0",
            "_view_name": "LayoutView",
            "align_content": null,
            "align_items": null,
            "align_self": null,
            "border": null,
            "bottom": null,
            "display": null,
            "flex": null,
            "flex_flow": null,
            "grid_area": null,
            "grid_auto_columns": null,
            "grid_auto_flow": null,
            "grid_auto_rows": null,
            "grid_column": null,
            "grid_gap": null,
            "grid_row": null,
            "grid_template_areas": null,
            "grid_template_columns": null,
            "grid_template_rows": null,
            "height": null,
            "justify_content": null,
            "justify_items": null,
            "left": null,
            "margin": null,
            "max_height": null,
            "max_width": null,
            "min_height": null,
            "min_width": null,
            "object_fit": null,
            "object_position": null,
            "order": null,
            "overflow": null,
            "overflow_x": null,
            "overflow_y": null,
            "padding": null,
            "right": null,
            "top": null,
            "visibility": null,
            "width": null
          }
        }
      }
    }
  },
  "cells": [
    {
      "cell_type": "markdown",
      "metadata": {
        "id": "view-in-github",
        "colab_type": "text"
      },
      "source": [
        "<a href=\"https://colab.research.google.com/github/YokoyamaLab/PythonBasics/blob/2024/day05_01Example.ipynb\" target=\"_parent\"><img src=\"https://colab.research.google.com/assets/colab-badge.svg\" alt=\"Open In Colab\"/></a>"
      ]
    },
    {
      "cell_type": "markdown",
      "source": [
        "# Day05 資料01 参考情報"
      ],
      "metadata": {
        "id": "UW7H-bYe_FQf"
      }
    },
    {
      "cell_type": "markdown",
      "source": [
        "みなさんが提出した顔のパーツを描くクラスは、まとめてpythonファイルに保存しています。(最終的には講義前に全てアップロードします、当初は、最初の方で宿題を提出した数人のクラスのみ保存してあります)\n",
        "\n",
        "それを呼び出す定型コードです。"
      ],
      "metadata": {
        "id": "H5c8PxfE5CMm"
      }
    },
    {
      "cell_type": "code",
      "source": [
        "from google.colab import drive\n",
        "drive.mount(\"/content/gdrive\")"
      ],
      "metadata": {
        "id": "cUhXGN3DqBfF",
        "outputId": "d22fadcd-22e6-4244-89e0-c407aae08d71",
        "colab": {
          "base_uri": "https://localhost:8080/"
        }
      },
      "execution_count": 1,
      "outputs": [
        {
          "output_type": "stream",
          "name": "stdout",
          "text": [
            "Mounted at /content/gdrive\n",
            "cp: cannot stat '/content/gdrive/Shareddrives/2024-35A01／情報科学 e／横山 昌平/lib/*.py': No such file or directory\n"
          ]
        }
      ]
    },
    {
      "cell_type": "code",
      "source": [
        "# Gdrive上からGoogle Colabの環境にダウンロードする\n",
        "!cp \"/content/gdrive/Shareddrives/2024-35A01／情報科学 e／横山 昌平/lib/face_component.py\" \"/content\"\n",
        "!cp \"/content/gdrive/Shareddrives/2024-35A01／情報科学 e／横山 昌平/lib/face_students.py\" \"/content\""
      ],
      "metadata": {
        "id": "50EAQWdhv-Ql"
      },
      "execution_count": 19,
      "outputs": []
    },
    {
      "cell_type": "code",
      "source": [
        "# 元となるクラスを読みこむ\n",
        "from face_component import *\n",
        "# 宿題でみんなが提出したクラスを読みこむ\n",
        "from face_students import *\n",
        "# その他必要なクラスを読みこむ\n",
        "from PIL import Image, ImageDraw, ImageFont\n",
        "import math,sys,inspect"
      ],
      "metadata": {
        "id": "Zf1irk8ru1yX"
      },
      "execution_count": 20,
      "outputs": []
    },
    {
      "cell_type": "markdown",
      "source": [
        "次に、それを顔のパーツ事に分けて辞書型の変数に整理します。"
      ],
      "metadata": {
        "id": "0ATdJkCZ5hRr"
      }
    },
    {
      "cell_type": "code",
      "source": [
        "\n",
        "\n",
        "components = {\n",
        "    'Face':[],\n",
        "    'Eyes':[],\n",
        "    'Ears':[],\n",
        "    'Nose':[],\n",
        "    'Mouth':[],\n",
        "    'Hair':[]\n",
        "};\n",
        "current_module = sys.modules[__name__]\n",
        "for name, obj in inspect.getmembers(sys.modules[__name__]):\n",
        "  if inspect.isclass(obj) and issubclass(obj,Component) and obj != Component:\n",
        "    if issubclass(obj,Face):\n",
        "      components['Face'].append(obj)\n",
        "    elif issubclass(obj,Eyes):\n",
        "      components['Eyes'].append(obj)\n",
        "    elif issubclass(obj,Ears):\n",
        "      components['Ears'].append(obj)\n",
        "    elif issubclass(obj,Nose):\n",
        "      components['Nose'].append(obj)\n",
        "    elif issubclass(obj,Mouth):\n",
        "      components['Mouth'].append(obj)\n",
        "    elif issubclass(obj,Hair):\n",
        "      components['Hair'].append(obj)"
      ],
      "metadata": {
        "id": "IB6Dx5U1uz6c"
      },
      "execution_count": 21,
      "outputs": []
    },
    {
      "cell_type": "markdown",
      "source": [
        "最後に、どのパーツが何種類定義されているのかの一覧を出します。"
      ],
      "metadata": {
        "id": "ka6U92q85ovJ"
      }
    },
    {
      "cell_type": "code",
      "source": [
        "for type in components:\n",
        "  print(type + 'は'+ str(len(components[type])) + '種類定義されています。')\n",
        "  print(list(map(lambda x:x('yellow').feature,components[type])))"
      ],
      "metadata": {
        "id": "WLwzfZHi5f96",
        "outputId": "75e04d08-d3b0-4b34-af98-537168f304e6",
        "colab": {
          "base_uri": "https://localhost:8080/"
        }
      },
      "execution_count": 22,
      "outputs": [
        {
          "output_type": "stream",
          "name": "stdout",
          "text": [
            "Faceは2種類定義されています。\n",
            "['ベーシックな顔の輪郭', 'ベーシックな顔の輪郭 (Yui Sakamoto)']\n",
            "Eyesは2種類定義されています。\n",
            "['つぶらな瞳', 'つぶらな瞳 (Yui Sakamoto)']\n",
            "Earsは2種類定義されています。\n",
            "['耳はパス！', '耳 (Yui Sakamoto)']\n",
            "Noseは1種類定義されています。\n",
            "['シンプルな鼻']\n",
            "Mouthは1種類定義されています。\n",
            "['スマイル!']\n",
            "Hairは4種類定義されています。\n",
            "['髪の毛', 'マッシュヘア (Natsumi Kogusuri)', '髪の毛 (Yui Sakamoto)', '髪の毛']\n"
          ]
        }
      ]
    },
    {
      "cell_type": "markdown",
      "source": [
        "Day05の演習では、(ボトムラインとして)皆さんが宿題で作った沢山の顔のパーツを組み合わせて、前々回の宿題で作ったアバタークラスに似顔絵を追加する機能を実装してもらいます。\n",
        "\n",
        "ただ、それに限らず、福笑いであったり、面白い機能を実装するのに時間を使ってもらってもOKです。Day05の提出物の評価は加点にしか使いません(=出来の良し悪しで減点はしない)ので、面白いアイデアがあったら自由に実装してください。\n",
        "\n",
        "講義時間中に成果物を発表する機会を設けます。\n",
        "\n",
        "いくつか使えそうなリンクを貼っておきます。\n",
        "\n",
        "- [乱数](https://qiita.com/s_ryota/items/9cd748627e8c727ceca3)\n"
      ],
      "metadata": {
        "id": "gNmVKnsg5s28"
      }
    },
    {
      "cell_type": "code",
      "source": [
        "#定義された目からランダムに一つ選ぶ(実行する度に違うものがでてくる)\n",
        "import random\n",
        "\n",
        "current_eyes = components[\"Eyes\"][random.randint(0, len(components[\"Eyes\"])-1)](\"red\").feature\n",
        "# (\"red\")でクラスからインスタンスを作ってインスタンス変数のfeatureを表示しています\n",
        "# すみません。本来ならクラス変数にしておくべきでした。\n",
        "# (↑この説明の意味が分かる人は、クラスのところをマスターしています)"
      ],
      "metadata": {
        "id": "9hVbKecu7Szo",
        "outputId": "d2d50e76-67c5-4811-8bfe-e7fd89142aeb",
        "colab": {
          "base_uri": "https://localhost:8080/",
          "height": 35
        }
      },
      "execution_count": 28,
      "outputs": [
        {
          "output_type": "execute_result",
          "data": {
            "text/plain": [
              "'つぶらな瞳 (Yui Sakamoto)'"
            ],
            "application/vnd.google.colaboratory.intrinsic+json": {
              "type": "string"
            }
          },
          "metadata": {},
          "execution_count": 28
        }
      ]
    },
    {
      "cell_type": "markdown",
      "source": [
        "- [ipywidgets](https://ipywidgets.readthedocs.io/en/stable/) ※colabに入力UIを付けるモジュール\n",
        "    - 下記のコードは[ここ](https://sabopy.com/py/ipywidgets-24/)を参考にした\n",
        "    - ドロップダウンの詳しい使い方は別ノートにまとめてあるのでそれを参照にしてください。"
      ],
      "metadata": {
        "id": "NpMsQSGl8LF6"
      }
    },
    {
      "cell_type": "code",
      "source": [
        "from ipywidgets import interact,Dropdown\n",
        "\n",
        "# for文でリストの添え字(idx)も得たい場合の書き方です\n",
        "opts = []\n",
        "for idx,component in enumerate(components[\"Eyes\"]):\n",
        "  opts.append((component('red').feature,idx));\n",
        "\n",
        "ddEyes = Dropdown(\n",
        "    options=opts,\n",
        "    value=0,\n",
        "    description='Select data:')\n",
        "\n",
        "@interact(selectedIdxEyes=ddEyes)\n",
        "def EyesListener(selectedIdxEyes):\n",
        "  # ドロップダウンを選んだ時に実行されます。\n",
        "  print(str(selectedIdxEyes) + \"が選ばれました\")"
      ],
      "metadata": {
        "id": "uqToOhxH8Zre",
        "outputId": "7445c111-8c35-4cf6-d8df-ed091b4f3490",
        "colab": {
          "base_uri": "https://localhost:8080/",
          "height": 67,
          "referenced_widgets": [
            "5a16d90ef31546699365f0f868edd500",
            "2c4cdcb09a674b9db909472ec9907cbc",
            "08f34c34fa5043188352d59ce91cbc65",
            "709e716f15814e4ba2c9282d5214caab",
            "b3dd6fc307c548dda6043b901d955ccf",
            "50895bad92594e7c9731ed1b492d80c7",
            "3ac515cca91e42fab321b42ddbdecf97"
          ]
        }
      },
      "execution_count": 29,
      "outputs": [
        {
          "output_type": "display_data",
          "data": {
            "text/plain": [
              "interactive(children=(Dropdown(description='Select data:', options=(('つぶらな瞳', 0), ('つぶらな瞳 (Yui Sakamoto)', 1))…"
            ],
            "application/vnd.jupyter.widget-view+json": {
              "version_major": 2,
              "version_minor": 0,
              "model_id": "5a16d90ef31546699365f0f868edd500"
            }
          },
          "metadata": {}
        }
      ]
    }
  ]
}