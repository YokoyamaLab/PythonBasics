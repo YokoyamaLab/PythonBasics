{
  "nbformat": 4,
  "nbformat_minor": 0,
  "metadata": {
    "colab": {
      "provenance": [],
      "authorship_tag": "ABX9TyNBcj0mkMWB+D1FAkSfDwOl",
      "include_colab_link": true
    },
    "kernelspec": {
      "name": "python3",
      "display_name": "Python 3"
    },
    "language_info": {
      "name": "python"
    }
  },
  "cells": [
    {
      "cell_type": "markdown",
      "metadata": {
        "id": "view-in-github",
        "colab_type": "text"
      },
      "source": [
        "<a href=\"https://colab.research.google.com/github/YokoyamaLab/PythonBasics/blob/main/day05_01_example.ipynb\" target=\"_parent\"><img src=\"https://colab.research.google.com/assets/colab-badge.svg\" alt=\"Open In Colab\"/></a>"
      ]
    },
    {
      "cell_type": "markdown",
      "source": [
        "# Day05 資料01 参考情報"
      ],
      "metadata": {
        "id": "UW7H-bYe_FQf"
      }
    },
    {
      "cell_type": "markdown",
      "source": [
        "みなさんが提出した顔のパーツを描くクラスは、まとめてpythonファイルに保存しています。(最終的には講義前に全てアップロードします、当初は、最初の方で宿題を提出した数人のクラスのみ保存してあります)\n",
        "\n",
        "それを呼び出す定型コードです。"
      ],
      "metadata": {
        "id": "H5c8PxfE5CMm"
      }
    },
    {
      "cell_type": "code",
      "source": [
        "from google.colab import drive\n",
        "drive.mount('/content/gdrive')\n",
        "%cd /content/gdrive/Shareddrives/2023-35A01／情報科学 c/lib\n",
        "\n",
        "# 元となるクラスを読みこむ\n",
        "from face_component import *\n",
        "# 宿題でみんなが提出したクラスを読みこむ\n",
        "from face_homework import *\n",
        "# その他必要なクラスを読みこむ\n",
        "from PIL import Image, ImageDraw, ImageFont\n",
        "import math,sys,inspect"
      ],
      "metadata": {
        "id": "Zf1irk8ru1yX"
      },
      "execution_count": null,
      "outputs": []
    },
    {
      "cell_type": "markdown",
      "source": [
        "次に、それを顔のパーツ事に分けて辞書型の変数に整理します。"
      ],
      "metadata": {
        "id": "0ATdJkCZ5hRr"
      }
    },
    {
      "cell_type": "code",
      "source": [
        "\n",
        "\n",
        "components = {\n",
        "    'Face':[],\n",
        "    'Eyes':[],\n",
        "    'Ears':[],\n",
        "    'Nose':[],\n",
        "    'Mouth':[],\n",
        "    'Hair':[]\n",
        "};\n",
        "current_module = sys.modules[__name__]\n",
        "for name, obj in inspect.getmembers(sys.modules[__name__]):\n",
        "  if inspect.isclass(obj) and issubclass(obj,Component) and obj != Component:\n",
        "    if issubclass(obj,Face):\n",
        "      components['Face'].append(obj)\n",
        "    elif issubclass(obj,Eyes):\n",
        "      components['Eyes'].append(obj)\n",
        "    elif issubclass(obj,Ears):\n",
        "      components['Ears'].append(obj)\n",
        "    elif issubclass(obj,Nose):\n",
        "      components['Nose'].append(obj)\n",
        "    elif issubclass(obj,Mouth):\n",
        "      components['Mouth'].append(obj)\n",
        "    elif issubclass(obj,Hair):\n",
        "      components['Hair'].append(obj)"
      ],
      "metadata": {
        "id": "IB6Dx5U1uz6c"
      },
      "execution_count": null,
      "outputs": []
    },
    {
      "cell_type": "markdown",
      "source": [
        "最後に、どのパーツが何種類定義されているのかの一覧を出します。"
      ],
      "metadata": {
        "id": "ka6U92q85ovJ"
      }
    },
    {
      "cell_type": "code",
      "source": [
        "for type in components:\n",
        "  print(type + 'は'+ str(len(components[type])) + '種類定義されています。')\n",
        "  print(list(map(lambda x:x('yellow').feature,components[type])))"
      ],
      "metadata": {
        "id": "WLwzfZHi5f96"
      },
      "execution_count": null,
      "outputs": []
    },
    {
      "cell_type": "markdown",
      "source": [
        "Day05の演習では、(ボトムラインとして)皆さんが宿題で作った沢山の顔のパーツを組み合わせて、前々回の宿題で作ったアバタークラスに似顔絵を追加する機能を実装してもらいます。\n",
        "\n",
        "ただ、それに限らず、福笑いであったり、面白い機能を実装するのに時間を使ってもらってもOKです。Day05の提出物の評価は加点にしか使いません(=出来の良し悪しで減点はしない)ので、面白いアイデアがあったら自由に実装してください。\n",
        "\n",
        "講義時間中に成果物を発表する機会を設けます。\n",
        "\n",
        "いくつか使えそうなリンクを貼っておきます。\n",
        "\n",
        "- [乱数](https://qiita.com/s_ryota/items/9cd748627e8c727ceca3)\n"
      ],
      "metadata": {
        "id": "gNmVKnsg5s28"
      }
    },
    {
      "cell_type": "code",
      "source": [
        "#定義された目からランダムに一つ選ぶ(実行する度に違うものがでてくる)\n",
        "import random\n",
        "components[\"Eyes\"][random.randint(0, len(components[\"Eyes\"])-1)](\"red\").feature\n",
        "\n",
        "# (\"red\")でクラスからインスタンスを作ってインスタンス変数のfeatureを表示しています\n",
        "# すみません。本来ならクラス変数にしておくべきでした。\n",
        "# (↑この説明の意味が分かる人は、クラスのところをマスターしています)"
      ],
      "metadata": {
        "id": "9hVbKecu7Szo"
      },
      "execution_count": null,
      "outputs": []
    },
    {
      "cell_type": "markdown",
      "source": [
        "- [ipywidgets](https://ipywidgets.readthedocs.io/en/stable/) ※colabに入力UIを付けるモジュール\n",
        "    - 下記のコードは[ここ](https://sabopy.com/py/ipywidgets-24/)を参考にした"
      ],
      "metadata": {
        "id": "NpMsQSGl8LF6"
      }
    },
    {
      "cell_type": "code",
      "source": [
        "from ipywidgets import interact,Dropdown\n",
        "\n",
        "# for文でリストの添え字(idx)も得たい場合の書き方です\n",
        "opts = []\n",
        "for idx,component in enumerate(components[\"Eyes\"]):\n",
        "  opts.append((component('red').feature,idx));\n",
        "\n",
        "ddEyes = Dropdown(\n",
        "    options=opts,\n",
        "    value=0,\n",
        "    description='Select data:')\n",
        "\n",
        "@interact(selectedIdxEyes=ddEyes)\n",
        "def EyesListener(selectedIdxEyes):\n",
        "  # ドロップダウンを選んだ時に実行されます。\n",
        "  print(str(selectedIdxEyes) + \"が選ばれました\")"
      ],
      "metadata": {
        "id": "uqToOhxH8Zre"
      },
      "execution_count": null,
      "outputs": []
    }
  ]
}