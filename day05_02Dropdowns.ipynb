{
  "nbformat": 4,
  "nbformat_minor": 0,
  "metadata": {
    "colab": {
      "provenance": [],
      "authorship_tag": "ABX9TyMC5iKbw8y7VKbYNvz7nBFG",
      "include_colab_link": true
    },
    "kernelspec": {
      "name": "python3",
      "display_name": "Python 3"
    },
    "language_info": {
      "name": "python"
    },
    "widgets": {
      "application/vnd.jupyter.widget-state+json": {
        "792f706121b14942be728041c5c790d8": {
          "model_module": "@jupyter-widgets/controls",
          "model_name": "DropdownModel",
          "model_module_version": "1.5.0",
          "state": {
            "_dom_classes": [],
            "_model_module": "@jupyter-widgets/controls",
            "_model_module_version": "1.5.0",
            "_model_name": "DropdownModel",
            "_options_labels": [
              "ベーシックな顔の輪郭",
              "ベーシックな顔の輪郭 (Yui Sakamoto)"
            ],
            "_view_count": null,
            "_view_module": "@jupyter-widgets/controls",
            "_view_module_version": "1.5.0",
            "_view_name": "DropdownView",
            "description": "Face: ",
            "description_tooltip": null,
            "disabled": false,
            "index": 0,
            "layout": "IPY_MODEL_37dea4f493ba4ff2bbba01fa5690765d",
            "style": "IPY_MODEL_93cdf901806c430f855f3b7a7f780f62"
          }
        },
        "37dea4f493ba4ff2bbba01fa5690765d": {
          "model_module": "@jupyter-widgets/base",
          "model_name": "LayoutModel",
          "model_module_version": "1.2.0",
          "state": {
            "_model_module": "@jupyter-widgets/base",
            "_model_module_version": "1.2.0",
            "_model_name": "LayoutModel",
            "_view_count": null,
            "_view_module": "@jupyter-widgets/base",
            "_view_module_version": "1.2.0",
            "_view_name": "LayoutView",
            "align_content": null,
            "align_items": null,
            "align_self": null,
            "border": null,
            "bottom": null,
            "display": null,
            "flex": null,
            "flex_flow": null,
            "grid_area": null,
            "grid_auto_columns": null,
            "grid_auto_flow": null,
            "grid_auto_rows": null,
            "grid_column": null,
            "grid_gap": null,
            "grid_row": null,
            "grid_template_areas": null,
            "grid_template_columns": null,
            "grid_template_rows": null,
            "height": null,
            "justify_content": null,
            "justify_items": null,
            "left": null,
            "margin": null,
            "max_height": null,
            "max_width": null,
            "min_height": null,
            "min_width": null,
            "object_fit": null,
            "object_position": null,
            "order": null,
            "overflow": null,
            "overflow_x": null,
            "overflow_y": null,
            "padding": null,
            "right": null,
            "top": null,
            "visibility": null,
            "width": null
          }
        },
        "93cdf901806c430f855f3b7a7f780f62": {
          "model_module": "@jupyter-widgets/controls",
          "model_name": "DescriptionStyleModel",
          "model_module_version": "1.5.0",
          "state": {
            "_model_module": "@jupyter-widgets/controls",
            "_model_module_version": "1.5.0",
            "_model_name": "DescriptionStyleModel",
            "_view_count": null,
            "_view_module": "@jupyter-widgets/base",
            "_view_module_version": "1.2.0",
            "_view_name": "StyleView",
            "description_width": ""
          }
        },
        "731a30df1c124ff69e79596c950341a1": {
          "model_module": "@jupyter-widgets/controls",
          "model_name": "DropdownModel",
          "model_module_version": "1.5.0",
          "state": {
            "_dom_classes": [],
            "_model_module": "@jupyter-widgets/controls",
            "_model_module_version": "1.5.0",
            "_model_name": "DropdownModel",
            "_options_labels": [
              "つぶらな瞳",
              "つぶらな瞳 (Yui Sakamoto)"
            ],
            "_view_count": null,
            "_view_module": "@jupyter-widgets/controls",
            "_view_module_version": "1.5.0",
            "_view_name": "DropdownView",
            "description": "Eyes: ",
            "description_tooltip": null,
            "disabled": false,
            "index": 1,
            "layout": "IPY_MODEL_d7a3b0eedaaf48de9a20b1904d2dddf8",
            "style": "IPY_MODEL_2c2970bbc1fd4f3da83dc73cbb7c5247"
          }
        },
        "d7a3b0eedaaf48de9a20b1904d2dddf8": {
          "model_module": "@jupyter-widgets/base",
          "model_name": "LayoutModel",
          "model_module_version": "1.2.0",
          "state": {
            "_model_module": "@jupyter-widgets/base",
            "_model_module_version": "1.2.0",
            "_model_name": "LayoutModel",
            "_view_count": null,
            "_view_module": "@jupyter-widgets/base",
            "_view_module_version": "1.2.0",
            "_view_name": "LayoutView",
            "align_content": null,
            "align_items": null,
            "align_self": null,
            "border": null,
            "bottom": null,
            "display": null,
            "flex": null,
            "flex_flow": null,
            "grid_area": null,
            "grid_auto_columns": null,
            "grid_auto_flow": null,
            "grid_auto_rows": null,
            "grid_column": null,
            "grid_gap": null,
            "grid_row": null,
            "grid_template_areas": null,
            "grid_template_columns": null,
            "grid_template_rows": null,
            "height": null,
            "justify_content": null,
            "justify_items": null,
            "left": null,
            "margin": null,
            "max_height": null,
            "max_width": null,
            "min_height": null,
            "min_width": null,
            "object_fit": null,
            "object_position": null,
            "order": null,
            "overflow": null,
            "overflow_x": null,
            "overflow_y": null,
            "padding": null,
            "right": null,
            "top": null,
            "visibility": null,
            "width": null
          }
        },
        "2c2970bbc1fd4f3da83dc73cbb7c5247": {
          "model_module": "@jupyter-widgets/controls",
          "model_name": "DescriptionStyleModel",
          "model_module_version": "1.5.0",
          "state": {
            "_model_module": "@jupyter-widgets/controls",
            "_model_module_version": "1.5.0",
            "_model_name": "DescriptionStyleModel",
            "_view_count": null,
            "_view_module": "@jupyter-widgets/base",
            "_view_module_version": "1.2.0",
            "_view_name": "StyleView",
            "description_width": ""
          }
        },
        "9ad21246000346e4b2fc092e610a18a9": {
          "model_module": "@jupyter-widgets/controls",
          "model_name": "DropdownModel",
          "model_module_version": "1.5.0",
          "state": {
            "_dom_classes": [],
            "_model_module": "@jupyter-widgets/controls",
            "_model_module_version": "1.5.0",
            "_model_name": "DropdownModel",
            "_options_labels": [
              "シンプルな鼻"
            ],
            "_view_count": null,
            "_view_module": "@jupyter-widgets/controls",
            "_view_module_version": "1.5.0",
            "_view_name": "DropdownView",
            "description": "Nose: ",
            "description_tooltip": null,
            "disabled": false,
            "index": 0,
            "layout": "IPY_MODEL_a5a6a9063c614b55a2a6d99bf8d91d4d",
            "style": "IPY_MODEL_387572e0820e4fb6943d3d5cd2e77704"
          }
        },
        "a5a6a9063c614b55a2a6d99bf8d91d4d": {
          "model_module": "@jupyter-widgets/base",
          "model_name": "LayoutModel",
          "model_module_version": "1.2.0",
          "state": {
            "_model_module": "@jupyter-widgets/base",
            "_model_module_version": "1.2.0",
            "_model_name": "LayoutModel",
            "_view_count": null,
            "_view_module": "@jupyter-widgets/base",
            "_view_module_version": "1.2.0",
            "_view_name": "LayoutView",
            "align_content": null,
            "align_items": null,
            "align_self": null,
            "border": null,
            "bottom": null,
            "display": null,
            "flex": null,
            "flex_flow": null,
            "grid_area": null,
            "grid_auto_columns": null,
            "grid_auto_flow": null,
            "grid_auto_rows": null,
            "grid_column": null,
            "grid_gap": null,
            "grid_row": null,
            "grid_template_areas": null,
            "grid_template_columns": null,
            "grid_template_rows": null,
            "height": null,
            "justify_content": null,
            "justify_items": null,
            "left": null,
            "margin": null,
            "max_height": null,
            "max_width": null,
            "min_height": null,
            "min_width": null,
            "object_fit": null,
            "object_position": null,
            "order": null,
            "overflow": null,
            "overflow_x": null,
            "overflow_y": null,
            "padding": null,
            "right": null,
            "top": null,
            "visibility": null,
            "width": null
          }
        },
        "387572e0820e4fb6943d3d5cd2e77704": {
          "model_module": "@jupyter-widgets/controls",
          "model_name": "DescriptionStyleModel",
          "model_module_version": "1.5.0",
          "state": {
            "_model_module": "@jupyter-widgets/controls",
            "_model_module_version": "1.5.0",
            "_model_name": "DescriptionStyleModel",
            "_view_count": null,
            "_view_module": "@jupyter-widgets/base",
            "_view_module_version": "1.2.0",
            "_view_name": "StyleView",
            "description_width": ""
          }
        },
        "0c8fcc89ef8e44438bec1768c58928cc": {
          "model_module": "@jupyter-widgets/controls",
          "model_name": "DropdownModel",
          "model_module_version": "1.5.0",
          "state": {
            "_dom_classes": [],
            "_model_module": "@jupyter-widgets/controls",
            "_model_module_version": "1.5.0",
            "_model_name": "DropdownModel",
            "_options_labels": [
              "耳はパス！",
              "耳 (Yui Sakamoto)"
            ],
            "_view_count": null,
            "_view_module": "@jupyter-widgets/controls",
            "_view_module_version": "1.5.0",
            "_view_name": "DropdownView",
            "description": "Ears: ",
            "description_tooltip": null,
            "disabled": false,
            "index": 0,
            "layout": "IPY_MODEL_ed4e0f5b5c16480394c1277c0ab05f1c",
            "style": "IPY_MODEL_a55499245b23486094659daf5c6342bd"
          }
        },
        "ed4e0f5b5c16480394c1277c0ab05f1c": {
          "model_module": "@jupyter-widgets/base",
          "model_name": "LayoutModel",
          "model_module_version": "1.2.0",
          "state": {
            "_model_module": "@jupyter-widgets/base",
            "_model_module_version": "1.2.0",
            "_model_name": "LayoutModel",
            "_view_count": null,
            "_view_module": "@jupyter-widgets/base",
            "_view_module_version": "1.2.0",
            "_view_name": "LayoutView",
            "align_content": null,
            "align_items": null,
            "align_self": null,
            "border": null,
            "bottom": null,
            "display": null,
            "flex": null,
            "flex_flow": null,
            "grid_area": null,
            "grid_auto_columns": null,
            "grid_auto_flow": null,
            "grid_auto_rows": null,
            "grid_column": null,
            "grid_gap": null,
            "grid_row": null,
            "grid_template_areas": null,
            "grid_template_columns": null,
            "grid_template_rows": null,
            "height": null,
            "justify_content": null,
            "justify_items": null,
            "left": null,
            "margin": null,
            "max_height": null,
            "max_width": null,
            "min_height": null,
            "min_width": null,
            "object_fit": null,
            "object_position": null,
            "order": null,
            "overflow": null,
            "overflow_x": null,
            "overflow_y": null,
            "padding": null,
            "right": null,
            "top": null,
            "visibility": null,
            "width": null
          }
        },
        "a55499245b23486094659daf5c6342bd": {
          "model_module": "@jupyter-widgets/controls",
          "model_name": "DescriptionStyleModel",
          "model_module_version": "1.5.0",
          "state": {
            "_model_module": "@jupyter-widgets/controls",
            "_model_module_version": "1.5.0",
            "_model_name": "DescriptionStyleModel",
            "_view_count": null,
            "_view_module": "@jupyter-widgets/base",
            "_view_module_version": "1.2.0",
            "_view_name": "StyleView",
            "description_width": ""
          }
        },
        "85ad74e038d14a6ebec849270daaf2af": {
          "model_module": "@jupyter-widgets/controls",
          "model_name": "DropdownModel",
          "model_module_version": "1.5.0",
          "state": {
            "_dom_classes": [],
            "_model_module": "@jupyter-widgets/controls",
            "_model_module_version": "1.5.0",
            "_model_name": "DropdownModel",
            "_options_labels": [
              "スマイル!"
            ],
            "_view_count": null,
            "_view_module": "@jupyter-widgets/controls",
            "_view_module_version": "1.5.0",
            "_view_name": "DropdownView",
            "description": "Mouth: ",
            "description_tooltip": null,
            "disabled": false,
            "index": 0,
            "layout": "IPY_MODEL_7dd2d682cf7941a89e26f09eb9dc6cf8",
            "style": "IPY_MODEL_242e64df79ea47e189d9d16ea839be32"
          }
        },
        "7dd2d682cf7941a89e26f09eb9dc6cf8": {
          "model_module": "@jupyter-widgets/base",
          "model_name": "LayoutModel",
          "model_module_version": "1.2.0",
          "state": {
            "_model_module": "@jupyter-widgets/base",
            "_model_module_version": "1.2.0",
            "_model_name": "LayoutModel",
            "_view_count": null,
            "_view_module": "@jupyter-widgets/base",
            "_view_module_version": "1.2.0",
            "_view_name": "LayoutView",
            "align_content": null,
            "align_items": null,
            "align_self": null,
            "border": null,
            "bottom": null,
            "display": null,
            "flex": null,
            "flex_flow": null,
            "grid_area": null,
            "grid_auto_columns": null,
            "grid_auto_flow": null,
            "grid_auto_rows": null,
            "grid_column": null,
            "grid_gap": null,
            "grid_row": null,
            "grid_template_areas": null,
            "grid_template_columns": null,
            "grid_template_rows": null,
            "height": null,
            "justify_content": null,
            "justify_items": null,
            "left": null,
            "margin": null,
            "max_height": null,
            "max_width": null,
            "min_height": null,
            "min_width": null,
            "object_fit": null,
            "object_position": null,
            "order": null,
            "overflow": null,
            "overflow_x": null,
            "overflow_y": null,
            "padding": null,
            "right": null,
            "top": null,
            "visibility": null,
            "width": null
          }
        },
        "242e64df79ea47e189d9d16ea839be32": {
          "model_module": "@jupyter-widgets/controls",
          "model_name": "DescriptionStyleModel",
          "model_module_version": "1.5.0",
          "state": {
            "_model_module": "@jupyter-widgets/controls",
            "_model_module_version": "1.5.0",
            "_model_name": "DescriptionStyleModel",
            "_view_count": null,
            "_view_module": "@jupyter-widgets/base",
            "_view_module_version": "1.2.0",
            "_view_name": "StyleView",
            "description_width": ""
          }
        },
        "d0719068cb0b4713a918caf7e9e27e78": {
          "model_module": "@jupyter-widgets/controls",
          "model_name": "DropdownModel",
          "model_module_version": "1.5.0",
          "state": {
            "_dom_classes": [],
            "_model_module": "@jupyter-widgets/controls",
            "_model_module_version": "1.5.0",
            "_model_name": "DropdownModel",
            "_options_labels": [
              "髪の毛",
              "マッシュヘア (Natsumi Kogusuri)",
              "髪の毛 (Yui Sakamoto)",
              "髪の毛(SmoothHair)",
              "髪の毛(Hair)"
            ],
            "_view_count": null,
            "_view_module": "@jupyter-widgets/controls",
            "_view_module_version": "1.5.0",
            "_view_name": "DropdownView",
            "description": "Hair: ",
            "description_tooltip": null,
            "disabled": false,
            "index": 0,
            "layout": "IPY_MODEL_7137b735f06040e28a99aaacb091cd66",
            "style": "IPY_MODEL_2ea45ccfb398404687ccbc08b8533a80"
          }
        },
        "7137b735f06040e28a99aaacb091cd66": {
          "model_module": "@jupyter-widgets/base",
          "model_name": "LayoutModel",
          "model_module_version": "1.2.0",
          "state": {
            "_model_module": "@jupyter-widgets/base",
            "_model_module_version": "1.2.0",
            "_model_name": "LayoutModel",
            "_view_count": null,
            "_view_module": "@jupyter-widgets/base",
            "_view_module_version": "1.2.0",
            "_view_name": "LayoutView",
            "align_content": null,
            "align_items": null,
            "align_self": null,
            "border": null,
            "bottom": null,
            "display": null,
            "flex": null,
            "flex_flow": null,
            "grid_area": null,
            "grid_auto_columns": null,
            "grid_auto_flow": null,
            "grid_auto_rows": null,
            "grid_column": null,
            "grid_gap": null,
            "grid_row": null,
            "grid_template_areas": null,
            "grid_template_columns": null,
            "grid_template_rows": null,
            "height": null,
            "justify_content": null,
            "justify_items": null,
            "left": null,
            "margin": null,
            "max_height": null,
            "max_width": null,
            "min_height": null,
            "min_width": null,
            "object_fit": null,
            "object_position": null,
            "order": null,
            "overflow": null,
            "overflow_x": null,
            "overflow_y": null,
            "padding": null,
            "right": null,
            "top": null,
            "visibility": null,
            "width": null
          }
        },
        "2ea45ccfb398404687ccbc08b8533a80": {
          "model_module": "@jupyter-widgets/controls",
          "model_name": "DescriptionStyleModel",
          "model_module_version": "1.5.0",
          "state": {
            "_model_module": "@jupyter-widgets/controls",
            "_model_module_version": "1.5.0",
            "_model_name": "DescriptionStyleModel",
            "_view_count": null,
            "_view_module": "@jupyter-widgets/base",
            "_view_module_version": "1.2.0",
            "_view_name": "StyleView",
            "description_width": ""
          }
        }
      }
    }
  },
  "cells": [
    {
      "cell_type": "markdown",
      "metadata": {
        "id": "view-in-github",
        "colab_type": "text"
      },
      "source": [
        "<a href=\"https://colab.research.google.com/github/YokoyamaLab/PythonBasics/blob/2024/day05_02Dropdowns.ipynb\" target=\"_parent\"><img src=\"https://colab.research.google.com/assets/colab-badge.svg\" alt=\"Open In Colab\"/></a>"
      ]
    },
    {
      "cell_type": "markdown",
      "source": [
        "\n",
        "# Day05 資料02 参考情報\n",
        "\n",
        "## ドロップダウンメニューの作り方"
      ],
      "metadata": {
        "id": "8DBIGd_auCFk"
      }
    },
    {
      "cell_type": "markdown",
      "source": [
        "このノートでは、みんなで実装した顔のパーツからドロップダウンメニューを作り、選んだパーツのクラスを返す方法を示します。\n",
        "\n",
        "ドロップダウンが変更される度に```def on_value_change(change):```関数が呼ばれ、そのタイミングで全てのドロップダウンが何を選択しているかを取得すれば、「**今選ばれている顔のパーツ**」がわかります。"
      ],
      "metadata": {
        "id": "VoffrAlQuQXQ"
      }
    },
    {
      "cell_type": "code",
      "source": [
        "from google.colab import drive\n",
        "drive.mount(\"/content/gdrive\")"
      ],
      "metadata": {
        "id": "8YysrygKy7uf",
        "outputId": "01765ef7-5390-4871-9ae9-68ab4749fda7",
        "colab": {
          "base_uri": "https://localhost:8080/"
        }
      },
      "execution_count": 1,
      "outputs": [
        {
          "output_type": "stream",
          "name": "stdout",
          "text": [
            "Mounted at /content/gdrive\n"
          ]
        }
      ]
    },
    {
      "cell_type": "code",
      "source": [
        "# Gdrive上からGoogle Colabの環境にダウンロードする\n",
        "!cp \"/content/gdrive/Shareddrives/2024-35A01／情報科学 e／横山 昌平/lib/face_component.py\" \"/content\"\n",
        "!cp \"/content/gdrive/Shareddrives/2024-35A01／情報科学 e／横山 昌平/lib/face_students.py\" \"/content\""
      ],
      "metadata": {
        "id": "FducHIfty8C_"
      },
      "execution_count": 2,
      "outputs": []
    },
    {
      "cell_type": "code",
      "source": [
        "# 元となるクラスを読みこむ\n",
        "from face_component import *\n",
        "# 宿題でみんなが提出したクラスを読みこむ\n",
        "from face_students import *\n",
        "# その他必要なクラスを読みこむ\n",
        "from PIL import Image, ImageDraw, ImageFont\n",
        "import math,sys,inspect"
      ],
      "metadata": {
        "id": "6xLJ6fmqy9kX"
      },
      "execution_count": 3,
      "outputs": []
    },
    {
      "cell_type": "code",
      "execution_count": 12,
      "metadata": {
        "id": "xOh4SOXSOdth",
        "outputId": "5ef41d66-6b23-4935-ad03-31d5b74317e7",
        "colab": {
          "base_uri": "https://localhost:8080/",
          "height": 345,
          "referenced_widgets": [
            "792f706121b14942be728041c5c790d8",
            "37dea4f493ba4ff2bbba01fa5690765d",
            "93cdf901806c430f855f3b7a7f780f62",
            "731a30df1c124ff69e79596c950341a1",
            "d7a3b0eedaaf48de9a20b1904d2dddf8",
            "2c2970bbc1fd4f3da83dc73cbb7c5247",
            "9ad21246000346e4b2fc092e610a18a9",
            "a5a6a9063c614b55a2a6d99bf8d91d4d",
            "387572e0820e4fb6943d3d5cd2e77704",
            "0c8fcc89ef8e44438bec1768c58928cc",
            "ed4e0f5b5c16480394c1277c0ab05f1c",
            "a55499245b23486094659daf5c6342bd",
            "85ad74e038d14a6ebec849270daaf2af",
            "7dd2d682cf7941a89e26f09eb9dc6cf8",
            "242e64df79ea47e189d9d16ea839be32",
            "d0719068cb0b4713a918caf7e9e27e78",
            "7137b735f06040e28a99aaacb091cd66",
            "2ea45ccfb398404687ccbc08b8533a80"
          ]
        }
      },
      "outputs": [
        {
          "output_type": "stream",
          "name": "stdout",
          "text": [
            "{'Face': [<class 'face_component.Face'>, <class 'face_students.Face38'>], 'Eyes': [<class 'face_component.Eyes'>, <class 'face_students.Eyes38'>], 'Nose': [<class 'face_component.Nose'>], 'Ears': [<class 'face_component.Ears'>, <class 'face_students.Ears38'>], 'Mouth': [<class 'face_component.Mouth'>], 'Hair': [<class 'face_component.Hair'>, <class 'face_students.Hair24'>, <class 'face_students.Hair38'>, <class 'face_component.SmoothHair'>, <class 'face_component.Hair'>, <class 'face_component.Hair'>]}\n"
          ]
        },
        {
          "output_type": "display_data",
          "data": {
            "text/plain": [
              "Dropdown(description='Face: ', options={'ベーシックな顔の輪郭': <class 'face_component.Face'>, 'ベーシックな顔の輪郭 (Yui Sakamoto…"
            ],
            "application/vnd.jupyter.widget-view+json": {
              "version_major": 2,
              "version_minor": 0,
              "model_id": "792f706121b14942be728041c5c790d8"
            }
          },
          "metadata": {}
        },
        {
          "output_type": "display_data",
          "data": {
            "text/plain": [
              "Dropdown(description='Eyes: ', options={'つぶらな瞳': <class 'face_component.Eyes'>, 'つぶらな瞳 (Yui Sakamoto)': <class…"
            ],
            "application/vnd.jupyter.widget-view+json": {
              "version_major": 2,
              "version_minor": 0,
              "model_id": "731a30df1c124ff69e79596c950341a1"
            }
          },
          "metadata": {}
        },
        {
          "output_type": "display_data",
          "data": {
            "text/plain": [
              "Dropdown(description='Nose: ', options={'シンプルな鼻': <class 'face_component.Nose'>}, value=<class 'face_component…"
            ],
            "application/vnd.jupyter.widget-view+json": {
              "version_major": 2,
              "version_minor": 0,
              "model_id": "9ad21246000346e4b2fc092e610a18a9"
            }
          },
          "metadata": {}
        },
        {
          "output_type": "display_data",
          "data": {
            "text/plain": [
              "Dropdown(description='Ears: ', options={'耳はパス！': <class 'face_component.Ears'>, '耳 (Yui Sakamoto)': <class 'fa…"
            ],
            "application/vnd.jupyter.widget-view+json": {
              "version_major": 2,
              "version_minor": 0,
              "model_id": "0c8fcc89ef8e44438bec1768c58928cc"
            }
          },
          "metadata": {}
        },
        {
          "output_type": "display_data",
          "data": {
            "text/plain": [
              "Dropdown(description='Mouth: ', options={'スマイル!': <class 'face_component.Mouth'>}, value=<class 'face_componen…"
            ],
            "application/vnd.jupyter.widget-view+json": {
              "version_major": 2,
              "version_minor": 0,
              "model_id": "85ad74e038d14a6ebec849270daaf2af"
            }
          },
          "metadata": {}
        },
        {
          "output_type": "display_data",
          "data": {
            "text/plain": [
              "Dropdown(description='Hair: ', options={'髪の毛': <class 'face_component.Hair'>, 'マッシュヘア (Natsumi Kogusuri)': <cl…"
            ],
            "application/vnd.jupyter.widget-view+json": {
              "version_major": 2,
              "version_minor": 0,
              "model_id": "d0719068cb0b4713a918caf7e9e27e78"
            }
          },
          "metadata": {}
        },
        {
          "output_type": "stream",
          "name": "stdout",
          "text": [
            "<class 'face_component.Face'>\n",
            "<class 'face_students.Eyes38'>\n",
            "<class 'face_component.Nose'>\n",
            "<class 'face_component.Ears'>\n",
            "<class 'face_component.Mouth'>\n",
            "<class 'face_component.Hair'>\n"
          ]
        }
      ],
      "source": [
        "# UIをColab上で実現するモジュールを読みこむ\n",
        "import ipywidgets as widgets\n",
        "from IPython.display import display\n",
        "# その他必要なクラスを読みこむ\n",
        "from PIL import Image, ImageDraw, ImageFont\n",
        "import math,sys,inspect\n",
        "\n",
        "# パーツのベースクラスをリストにしておく\n",
        "component_base_classes = [Face, Eyes, Nose, Ears, Mouth, Hair]\n",
        "\n",
        "# パーツを格納する辞書型変数を作る\n",
        "components = {}\n",
        "for base in component_base_classes:\n",
        "  components[base.__name__] = [] # base.__name__はbaseのクラス名を文字列で得る\n",
        "\n",
        "# みんなの実装したクラスを分類する\n",
        "for name, component_class in inspect.getmembers(sys.modules[__name__]):\n",
        "  if inspect.isclass(component_class) and issubclass(component_class,Component) and component_class != Component:\n",
        "    types = list(filter(lambda x: issubclass(component_class,x), component_base_classes))\n",
        "    if(len(types) > 0):\n",
        "      components[types[0].__name__].append(component_class)\n",
        "    else:\n",
        "      pass\n",
        "\n",
        "# 分類されているか確認したい場合は以下の行のコメントを外して実行する\n",
        "# print(components)\n",
        "\n",
        "# 値が変更された時に呼ばれる関数を作っておく\n",
        "def on_value_change(change):\n",
        "  # 何が選ばれたか見たかったら以下の行のコメントを外す\n",
        "  # print('【' + change['old']('red').feature + '】から【' + change['new']('red').feature + '】に変更されました。')\n",
        "  # (何が変更されたかに関係なく、)全てdropdownの選ばれている値を取得する\n",
        "  for key, dropdown in dropdowns.items(): # 辞書型をfor文で走査する\n",
        "    # dropdown.valueは現在選ばれている値(今回の場合は顔のパーツクラス)\n",
        "    print(dropdown.value)\n",
        "\n",
        "\n",
        "# パーツ毎のドロップダウンリストを作る\n",
        "dropdowns = {}\n",
        "for base in component_base_classes:\n",
        "  component_name = base.__name__\n",
        "  # Dropdownには辞書型(key=feature/value=クラスそのもの)を格納(keyが表示される)\n",
        "  opts = {}\n",
        "  for idx,component in enumerate(components[component_name]):\n",
        "    # もし同じfeatureのクラスがすでに存在していた場合は判別のためにクラス名を末尾に付与する\n",
        "    if component('red').feature in opts:\n",
        "      opts[component('red').feature + '(' + component.__name__ + ')'] = component\n",
        "    else:\n",
        "      opts[component('red').feature] = component\n",
        "  dropdowns[component_name] = widgets.Dropdown(\n",
        "    options = opts,                        # 選択肢のリスト\n",
        "    description = component_name + \": \",   # ラベル\n",
        "  )\n",
        "  # Dropdownの選択が変わった時にon_value_change関数を呼び出し、選択肢のvalue(classそのもの)を返す\n",
        "  dropdowns[component_name].observe(on_value_change, names='value')\n",
        "  # Dropdownを表示する\n",
        "  display(dropdowns[component_name])"
      ]
    }
  ]
}