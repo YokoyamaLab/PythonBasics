{
  "nbformat": 4,
  "nbformat_minor": 0,
  "metadata": {
    "colab": {
      "provenance": [],
      "authorship_tag": "ABX9TyO1GVU6CnLKQ4+4u8pH7EkJ",
      "include_colab_link": true
    },
    "kernelspec": {
      "name": "python3",
      "display_name": "Python 3"
    },
    "language_info": {
      "name": "python"
    }
  },
  "cells": [
    {
      "cell_type": "markdown",
      "metadata": {
        "id": "view-in-github",
        "colab_type": "text"
      },
      "source": [
        "<a href=\"https://colab.research.google.com/github/YokoyamaLab/PythonBasics/blob/main/day05_02Dropdowns.ipynb\" target=\"_parent\"><img src=\"https://colab.research.google.com/assets/colab-badge.svg\" alt=\"Open In Colab\"/></a>"
      ]
    },
    {
      "cell_type": "markdown",
      "source": [
        "\n",
        "# Day05 資料02 参考情報\n",
        "\n",
        "## ドロップダウンメニューの作り方"
      ],
      "metadata": {
        "id": "8DBIGd_auCFk"
      }
    },
    {
      "cell_type": "markdown",
      "source": [
        "このノートでは、みんなで実装した顔のパーツからドロップダウンメニューを作り、選んだパーツのクラスを返す方法を示します。\n",
        "\n",
        "ドロップダウンが変更される度に```def on_value_change(change):```関数が呼ばれ、そのタイミングで全てのドロップダウンが何を選択しているかを取得すれば、「**今選ばれている顔のパーツ**」がわかります。"
      ],
      "metadata": {
        "id": "VoffrAlQuQXQ"
      }
    },
    {
      "cell_type": "code",
      "execution_count": null,
      "metadata": {
        "id": "xOh4SOXSOdth"
      },
      "outputs": [],
      "source": [
        "# Google Driveに接続する\n",
        "from google.colab import drive\n",
        "drive.mount('/content/gdrive')\n",
        "%cd /content/gdrive/Shareddrives/2023-35A01／情報科学 c/lib\n",
        "\n",
        "# UIをColab上で実現するモジュールを読みこむ\n",
        "import ipywidgets as widgets\n",
        "from IPython.display import display\n",
        "# 元となるクラスをGoogle Driveから読みこむ\n",
        "from face_component import *\n",
        "# 宿題でみんなが提出したクラスをGoogle Driveから読みこむ\n",
        "from face_homework import *\n",
        "# その他必要なクラスを読みこむ\n",
        "from PIL import Image, ImageDraw, ImageFont\n",
        "import math,sys,inspect\n",
        "\n",
        "# パーツのベースクラスをリストにしておく\n",
        "component_base_classes = [Face, Eyes, Nose, Ears, Mouth, Hair]\n",
        "\n",
        "# パーツを格納する辞書型変数を作る\n",
        "components = {}\n",
        "for base in component_base_classes:\n",
        "  components[base.__name__] = [] # base.__name__はbaseのクラス名を文字列で得る\n",
        "\n",
        "# みんなの実装したクラスを分類する\n",
        "for name, component_class in inspect.getmembers(sys.modules[__name__]):\n",
        "  if inspect.isclass(component_class) and issubclass(component_class,Component) and component_class != Component:\n",
        "    types = list(filter(lambda x: issubclass(component_class,x), component_base_classes))\n",
        "    if(len(types) > 0):\n",
        "      components[types[0].__name__].append(component_class)\n",
        "    else:\n",
        "      print('Error: 認識していないクラスを継承しています')\n",
        "\n",
        "# 分類されているか確認したい場合は以下の行のコメントを外して実行する\n",
        "# print(components)\n",
        "\n",
        "# 値が変更された時に呼ばれる関数を作っておく\n",
        "def on_value_change(change):\n",
        "  # 何が選ばれたか見たかったら以下の行のコメントを外す\n",
        "  # print('【' + change['old']('red').feature + '】から【' + change['new']('red').feature + '】に変更されました。')\n",
        "  # (何が変更されたかに関係なく、)全てdropdownの選ばれている値を取得する\n",
        "  for key, dropdown in dropdowns.items(): # 辞書型をfor文で走査する\n",
        "    # dropdown.valueは現在選ばれている値(今回の場合は顔のパーツクラス)\n",
        "    print(dropdown.value)\n",
        "\n",
        "\n",
        "# パーツ毎のドロップダウンリストを作る\n",
        "dropdowns = {}\n",
        "for base in component_base_classes:\n",
        "  component_name = base.__name__\n",
        "  # Dropdownには辞書型(key=feature/value=クラスそのもの)を格納(keyが表示される)\n",
        "  opts = {}\n",
        "  for idx,component in enumerate(components[component_name]):\n",
        "    # もし同じfeatureのクラスがすでに存在していた場合は判別のためにクラス名を末尾に付与する\n",
        "    if component('red').feature in opts:\n",
        "      opts[component('red').feature + '(' + component.__name__ + ')'] = component\n",
        "    else:\n",
        "      opts[component('red').feature] = component\n",
        "  dropdowns[component_name] = widgets.Dropdown(\n",
        "    options = opts,                        # 選択肢のリスト\n",
        "    description = component_name + \": \",   # ラベル\n",
        "  )\n",
        "  # Dropdownの選択が変わった時にon_value_change関数を呼び出し、選択肢のvalue(classそのもの)を返す\n",
        "  dropdowns[component_name].observe(on_value_change, names='value')\n",
        "  # Dropdownを表示する\n",
        "  display(dropdowns[component_name])"
      ]
    }
  ]
}