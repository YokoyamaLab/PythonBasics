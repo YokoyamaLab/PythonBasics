{
  "nbformat": 4,
  "nbformat_minor": 0,
  "metadata": {
    "colab": {
      "provenance": [],
      "authorship_tag": "ABX9TyNnXoYbnIB0U7YqmDbhkwJ8",
      "include_colab_link": true
    },
    "kernelspec": {
      "name": "python3",
      "display_name": "Python 3"
    },
    "language_info": {
      "name": "python"
    },
    "widgets": {
      "application/vnd.jupyter.widget-state+json": {
        "4b606d0c6e424b9488573a5e73d20d97": {
          "model_module": "@jupyter-widgets/output",
          "model_name": "OutputModel",
          "model_module_version": "1.0.0",
          "state": {
            "_dom_classes": [],
            "_model_module": "@jupyter-widgets/output",
            "_model_module_version": "1.0.0",
            "_model_name": "OutputModel",
            "_view_count": null,
            "_view_module": "@jupyter-widgets/output",
            "_view_module_version": "1.0.0",
            "_view_name": "OutputView",
            "layout": "IPY_MODEL_c0cf382e19014beeb94b78d429542d1c",
            "msg_id": "",
            "outputs": [
              {
                "output_type": "display_data",
                "data": {
                  "text/plain": "<PIL.Image.Image image mode=RGBA size=400x400 at 0x7F5392FAD4E0>",
                  "image/png": "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\n"
                },
                "metadata": {}
              }
            ]
          }
        },
        "c0cf382e19014beeb94b78d429542d1c": {
          "model_module": "@jupyter-widgets/base",
          "model_name": "LayoutModel",
          "model_module_version": "1.2.0",
          "state": {
            "_model_module": "@jupyter-widgets/base",
            "_model_module_version": "1.2.0",
            "_model_name": "LayoutModel",
            "_view_count": null,
            "_view_module": "@jupyter-widgets/base",
            "_view_module_version": "1.2.0",
            "_view_name": "LayoutView",
            "align_content": null,
            "align_items": null,
            "align_self": null,
            "border": "1px solid black",
            "bottom": null,
            "display": null,
            "flex": null,
            "flex_flow": null,
            "grid_area": null,
            "grid_auto_columns": null,
            "grid_auto_flow": null,
            "grid_auto_rows": null,
            "grid_column": null,
            "grid_gap": null,
            "grid_row": null,
            "grid_template_areas": null,
            "grid_template_columns": null,
            "grid_template_rows": null,
            "height": null,
            "justify_content": null,
            "justify_items": null,
            "left": null,
            "margin": null,
            "max_height": null,
            "max_width": null,
            "min_height": null,
            "min_width": null,
            "object_fit": null,
            "object_position": null,
            "order": null,
            "overflow": null,
            "overflow_x": null,
            "overflow_y": null,
            "padding": null,
            "right": null,
            "top": null,
            "visibility": null,
            "width": null
          }
        }
      }
    }
  },
  "cells": [
    {
      "cell_type": "markdown",
      "metadata": {
        "id": "view-in-github",
        "colab_type": "text"
      },
      "source": [
        "<a href=\"https://colab.research.google.com/github/YokoyamaLab/PythonBasics/blob/main/day05_03Redraw.ipynb\" target=\"_parent\"><img src=\"https://colab.research.google.com/assets/colab-badge.svg\" alt=\"Open In Colab\"/></a>"
      ]
    },
    {
      "cell_type": "markdown",
      "source": [
        "\n",
        "# Day05 資料03 参考情報\n",
        "\n",
        "## 画像の再描画"
      ],
      "metadata": {
        "id": "sPOXaRLlv-1O"
      }
    },
    {
      "cell_type": "markdown",
      "source": [
        "colabの出力は基本的にはコマンドラインでプログラムを動かした時の標準出力を表示しているにすぎないので、オンデマンドな書き換え等が容易ではありません。\n",
        "\n",
        "ただ、[IPyWidgets](https://ipywidgets.readthedocs.io/en/stable/)の[Output](https://ipywidgets.readthedocs.io/en/stable/examples/Output%20Widget.html)を使うとそれが実現できます。例えば顔を書き換えたい時などには参考にしてください。"
      ],
      "metadata": {
        "id": "dYgKXub106u9"
      }
    },
    {
      "cell_type": "code",
      "source": [
        "# Google Driveに接続する\n",
        "from google.colab import drive\n",
        "drive.mount('/content/gdrive')\n",
        "%cd /content/gdrive/Shareddrives/2023-35A01／情報科学 c/lib\n",
        "\n",
        "# UIをColab上で実現するモジュールを読みこむ\n",
        "import ipywidgets as widgets\n",
        "from IPython.display import display\n",
        "# 元となるクラスをGoogle Driveから読みこむ\n",
        "from face_component import *\n",
        "# 宿題でみんなが提出したクラスをGoogle Driveから読みこむ\n",
        "from face_homework import *\n",
        "# その他必要なクラスを読みこむ\n",
        "from PIL import Image, ImageDraw, ImageFont\n",
        "import math,sys,inspect"
      ],
      "metadata": {
        "colab": {
          "base_uri": "https://localhost:8080/"
        },
        "id": "wmrDg1rSwZ9D",
        "outputId": "68eea5f8-e389-416b-9e0c-492901140f6c"
      },
      "execution_count": 2,
      "outputs": [
        {
          "output_type": "stream",
          "name": "stdout",
          "text": [
            "Mounted at /content/gdrive\n",
            "/content/gdrive/Shareddrives/2023-35A01／情報科学 c/lib\n"
          ]
        }
      ]
    },
    {
      "cell_type": "markdown",
      "source": [
        "### その１：画像を何回も表示する（ダメな例）"
      ],
      "metadata": {
        "id": "uOAiKGtmwCy3"
      }
    },
    {
      "cell_type": "markdown",
      "source": [
        "まず2個の顔を連続して出すコードを示します。\n",
        "\n",
        "ここでは、顔１を描いた後に、顔２を描く時、顔１を上書きして欲しいのですが、２つの顔が縦に並んでしまいます。"
      ],
      "metadata": {
        "id": "U9-ZBG-8xzph"
      }
    },
    {
      "cell_type": "code",
      "execution_count": 14,
      "metadata": {
        "colab": {
          "base_uri": "https://localhost:8080/",
          "height": 817
        },
        "id": "26OV2DsWv-Fd",
        "outputId": "1b48336f-7ab9-4adf-8275-c449b81cb268"
      },
      "outputs": [
        {
          "output_type": "display_data",
          "data": {
            "text/plain": [
              "<PIL.Image.Image image mode=RGBA size=400x400 at 0x7F53903DEBF0>"
            ],
            "image/png": "[encoded data removed]"
          },
          "metadata": {}
        },
        {
          "output_type": "display_data",
          "data": {
            "text/plain": [
              "<PIL.Image.Image image mode=RGBA size=400x400 at 0x7F53903DDC90>"
            ],
            "image/png": "[encoded data removed]"
          },
          "metadata": {}
        }
      ],
      "source": [
        "image = Image.new(\"RGBA\", (400, 400), (236, 239, 241))\n",
        "canvas = ImageDraw.Draw(image)\n",
        "skincolor=(249, 168, 37)\n",
        "face = Face(skincolor)\n",
        "face.draw(canvas)\n",
        "eyes = Eyes(skincolor)\n",
        "eyes.draw(canvas)\n",
        "mouth = Mouth(skincolor)\n",
        "mouth.draw(canvas)\n",
        "nose = Nose(skincolor)\n",
        "nose.draw(canvas)\n",
        "ears = Ears(skincolor)\n",
        "ears.draw(canvas)\n",
        "hair = Hair(skincolor)\n",
        "hair.draw(canvas)\n",
        "image.show()\n",
        "\n",
        "image = Image.new(\"RGBA\", (400, 400), (236, 239, 241))\n",
        "canvas = ImageDraw.Draw(image)\n",
        "skincolor=(249, 168, 37)\n",
        "face = Face(skincolor)\n",
        "face.draw(canvas)\n",
        "eyes = Eyes(skincolor)\n",
        "eyes.draw(canvas)\n",
        "mouth = Mouth(skincolor)\n",
        "mouth.draw(canvas)\n",
        "nose = Nose(skincolor)\n",
        "nose.draw(canvas)\n",
        "ears = Ears(skincolor)\n",
        "ears.draw(canvas)\n",
        "hair = SmoothHair(skincolor)\n",
        "hair.draw(canvas)\n",
        "image.show()"
      ]
    },
    {
      "cell_type": "markdown",
      "source": [
        "## その２：ipywidgetsのOutputを使う"
      ],
      "metadata": {
        "id": "JUTgGPTPwSj4"
      }
    },
    {
      "cell_type": "markdown",
      "source": [
        "出力の一部を書き換えたい時[IPyWidgets](https://ipywidgets.readthedocs.io/en/stable/)の[Output](https://ipywidgets.readthedocs.io/en/stable/examples/Output%20Widget.html)が便利です。"
      ],
      "metadata": {
        "id": "TW75myO4yMJs"
      }
    },
    {
      "cell_type": "code",
      "source": [
        "import time # sleep関数を使うのに必要\n",
        "\n",
        "# 書き換え可能な領域を作成しout変数に入れる\n",
        "out = widgets.Output(layout={'border': '1px solid black'})\n",
        "# それを表示する\n",
        "display(out)\n",
        "\n",
        "# 書き換え可能な領域に顔を描く\n",
        "with out:\n",
        "  image = Image.new(\"RGBA\", (400, 400), (236, 239, 241))\n",
        "  canvas = ImageDraw.Draw(image)\n",
        "  skincolor=(249, 168, 37)\n",
        "  face = Face(skincolor)\n",
        "  face.draw(canvas)\n",
        "  eyes = Eyes(skincolor)\n",
        "  eyes.draw(canvas)\n",
        "  mouth = Mouth(skincolor)\n",
        "  mouth.draw(canvas)\n",
        "  nose = Nose(skincolor)\n",
        "  nose.draw(canvas)\n",
        "  ears = Ears(skincolor)\n",
        "  ears.draw(canvas)\n",
        "  hair = Hair(skincolor)\n",
        "  hair.draw(canvas)\n",
        "  image.show()\n",
        "\n",
        "# 3秒待って消して新しい顔を描く\n",
        "time.sleep(3)\n",
        "out.clear_output()\n",
        "with out:\n",
        "  \n",
        "  image = Image.new(\"RGBA\", (400, 400), (236, 239, 241))\n",
        "  canvas = ImageDraw.Draw(image)\n",
        "  skincolor=(249, 168, 37)\n",
        "  face = Face(skincolor)\n",
        "  face.draw(canvas)\n",
        "  eyes = Eyes(skincolor)\n",
        "  eyes.draw(canvas)\n",
        "  mouth = Mouth(skincolor)\n",
        "  mouth.draw(canvas)\n",
        "  nose = Nose(skincolor)\n",
        "  nose.draw(canvas)\n",
        "  ears = Ears(skincolor)\n",
        "  ears.draw(canvas)\n",
        "  hair = SmoothHair(skincolor)\n",
        "  hair.draw(canvas)\n",
        "  image.show()"
      ],
      "metadata": {
        "colab": {
          "base_uri": "https://localhost:8080/",
          "height": 418,
          "referenced_widgets": [
            "4b606d0c6e424b9488573a5e73d20d97",
            "c0cf382e19014beeb94b78d429542d1c"
          ]
        },
        "id": "zmMIcG9IwZL5",
        "outputId": "c7a6abac-4dac-44fd-c41a-e88a23cf38fa"
      },
      "execution_count": 22,
      "outputs": [
        {
          "output_type": "display_data",
          "data": {
            "text/plain": [
              "Output(layout=Layout(border='1px solid black'))"
            ],
            "application/vnd.jupyter.widget-view+json": {
              "version_major": 2,
              "version_minor": 0,
              "model_id": "4b606d0c6e424b9488573a5e73d20d97"
            }
          },
          "metadata": {}
        }
      ]
    }
  ]
}