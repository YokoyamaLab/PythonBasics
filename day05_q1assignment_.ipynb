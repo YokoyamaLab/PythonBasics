{
  "nbformat": 4,
  "nbformat_minor": 0,
  "metadata": {
    "colab": {
      "provenance": [],
      "authorship_tag": "ABX9TyNLhwlKqF3zTChkWXgp/p3J",
      "include_colab_link": true
    },
    "kernelspec": {
      "name": "python3",
      "display_name": "Python 3"
    },
    "language_info": {
      "name": "python"
    }
  },
  "cells": [
    {
      "cell_type": "markdown",
      "metadata": {
        "id": "view-in-github",
        "colab_type": "text"
      },
      "source": [
        "<a href=\"https://colab.research.google.com/github/YokoyamaLab/PythonBasics/blob/main/day05_q1assignment_.ipynb\" target=\"_parent\"><img src=\"https://colab.research.google.com/assets/colab-badge.svg\" alt=\"Open In Colab\"/></a>"
      ]
    },
    {
      "cell_type": "markdown",
      "source": [
        "# Day05 講義内演習課題"
      ],
      "metadata": {
        "id": "-GKf8MtfaCrN"
      }
    },
    {
      "cell_type": "code",
      "execution_count": null,
      "metadata": {
        "cellView": "form",
        "id": "NAuNFDQvZtEX"
      },
      "outputs": [],
      "source": [
        "#@title 学籍番号、名前\n",
        "id = \"\" #@param {type:\"string\"}\n",
        "name = \"\" #@param {type:\"string\"}"
      ]
    },
    {
      "cell_type": "markdown",
      "source": [
        "今回は自由に進めてもらいます。課題としては２つのコースがあります。\n",
        "1. 前に作ったAvatorクラスに似顔絵登録機能を付ける\n",
        "    - [設計図](https://raw.githubusercontent.com/YokoyamaLab/PythonBasics/main/images/day04_class_inheritance.svg)を参考に作る\n",
        "    - setComponentメソッドで顔のパーツを登録\n",
        "    - drawAvatorメソッドで顔を描画する\n",
        "        - できれば肌の色を自分なりに変える\n",
        "        - できれば名前・所属を画像の下部に表示\n",
        "        - その他、時間の許す限り機能を加えてOK\n",
        "1. クラスのみんなが実装した沢山の顔のパーツが集まったので、これを活用した自由なアイデアに基づくプログラムの実装\n",
        "    - 顔のパーツを使って面白いプログラムを作る\n",
        "    - 『ただ表示する』だけはダメ\n",
        "    - アイデア例\n",
        "        - ランダム顔生成\n",
        "        - 異なる顔を多種生成し、一覧で表示する\n",
        "        - 福笑い"
      ],
      "metadata": {
        "id": "pJjLLgkqaHsg"
      }
    },
    {
      "cell_type": "markdown",
      "source": [
        "コードブロックだけでなく、必ず、作ったプログラムの説明のテキストブロックを含めてください。"
      ],
      "metadata": {
        "id": "Bv6Qm92ucD74"
      }
    },
    {
      "cell_type": "markdown",
      "source": [
        "## 説明"
      ],
      "metadata": {
        "id": "edTn9nkJcSJy"
      }
    },
    {
      "cell_type": "markdown",
      "source": [
        "ここに説明"
      ],
      "metadata": {
        "id": "KdUoMw1kcWUd"
      }
    },
    {
      "cell_type": "markdown",
      "source": [
        "## コード"
      ],
      "metadata": {
        "id": "xL9CTE64cXlI"
      }
    },
    {
      "cell_type": "code",
      "source": [
        "# ここに実装してください。動くものを提出してください。"
      ],
      "metadata": {
        "id": "5bkTERLdb6wy"
      },
      "execution_count": null,
      "outputs": []
    }
  ]
}