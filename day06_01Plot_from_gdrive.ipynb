{
  "nbformat": 4,
  "nbformat_minor": 0,
  "metadata": {
    "colab": {
      "provenance": [],
      "authorship_tag": "ABX9TyNdSLma5ukbu0Ho+HWy9BU2",
      "include_colab_link": true
    },
    "kernelspec": {
      "name": "python3",
      "display_name": "Python 3"
    },
    "language_info": {
      "name": "python"
    }
  },
  "cells": [
    {
      "cell_type": "markdown",
      "metadata": {
        "id": "view-in-github",
        "colab_type": "text"
      },
      "source": [
        "<a href=\"https://colab.research.google.com/github/YokoyamaLab/PythonBasics/blob/main/day06_01Plot_from_gdrive.ipynb\" target=\"_parent\"><img src=\"https://colab.research.google.com/assets/colab-badge.svg\" alt=\"Open In Colab\"/></a>"
      ]
    },
    {
      "cell_type": "markdown",
      "source": [
        "# Day06 資料01: Pythonで数値処理とは？"
      ],
      "metadata": {
        "id": "kUmpGSobbYzi"
      }
    },
    {
      "cell_type": "markdown",
      "source": [
        "## 🌀Pythonで散布図を描く【基本】"
      ],
      "metadata": {
        "id": "-dOtCcDQbpIK"
      }
    },
    {
      "cell_type": "markdown",
      "source": [
        "最初の方の講義で、皆さんの財布の小銭の金額と財布の値段を登録してもらった事を覚えていますか？あのデータを、可視化してみましょう。\n",
        "\n",
        "データ分析の基本は**仮説立案**→**収集**→**分析**→**可視化**です。\n",
        "\n",
        "今回は先に収集をしてしまいましたが、本来ならば仮説立案が大切です。では、あのデータでどのような仮説を立てられるでしょうか。例えば以下の仮説はどうでしょうか？\n",
        "\n",
        "【仮説】\n",
        "高価な財布を持っている人は、入っている小銭も沢山あるはず！\n",
        "\n",
        "これなら集めたデータで検証できそうです。ではデータを読みこんでみましょう。"
      ],
      "metadata": {
        "id": "a3MLC4bnby6J"
      }
    },
    {
      "cell_type": "code",
      "execution_count": null,
      "metadata": {
        "id": "sMLur5gPsBAC"
      },
      "outputs": [],
      "source": [
        "from google.colab import auth\n",
        "auth.authenticate_user()\n",
        "import gspread\n",
        "from google.auth import default\n",
        "creds, _ = default()\n",
        "gc = gspread.authorize(creds)\n",
        "import pandas as pd\n",
        "import numpy as np\n",
        "import matplotlib.pyplot as plt\n",
        "\n",
        "filename = \"Day2 課題02 前準備（回答）\"\n",
        "file = gc.open(filename)\n",
        "sheet = file.get_worksheet(0)\n",
        "table = sheet.get_all_values()\n",
        "# print(table)\n",
        "\n"
      ]
    },
    {
      "cell_type": "markdown",
      "source": [
        "これで、皆さんのノートにアンケート結果が読みこまれました。\n",
        "\n",
        "次の分析では何をすればよいでしょうか。財布の値段と小銭の額のデータがありますので、これを散布図にして表示してみます。"
      ],
      "metadata": {
        "id": "js5nguVqcvwX"
      }
    },
    {
      "cell_type": "code",
      "source": [
        "# 一行目は列名文字列なので抜いておく\n",
        "table.pop(0)\n",
        "# 金額も文字列として入っているのでintに変換しておく\n",
        "table = list(map(lambda x: (x[0],x[1],int(x[2]),int(x[3]),x[4],x[5]),table))\n",
        "# tableをPandasのデータフレームに変換\n",
        "dataframe = pd.DataFrame.from_records(table)\n",
        "# print(dataframe)\n",
        "\n",
        "dataframe.plot.scatter(x=2, y=3, xlabel=\"Amount of coins\", ylabel=\"Price of wallets\")\n"
      ],
      "metadata": {
        "id": "hf355_Xacswb"
      },
      "execution_count": null,
      "outputs": []
    },
    {
      "cell_type": "markdown",
      "source": [
        "出て来ました。\n",
        "\n",
        "これだけでは、目で見て「ふーん」という事しかできません。データサイエンス的には、ここに何か仮説を検証するための情報を加えてみます。\n",
        "\n",
        "ここで調べたいのは、財布の値段と小銭の額が比例関係にあるかどうかですので、回帰直線を引いてみましょう。"
      ],
      "metadata": {
        "id": "bjznyUYsc7V7"
      }
    },
    {
      "cell_type": "code",
      "source": [
        "from sklearn.linear_model import LinearRegression\n",
        "\n",
        "model = LinearRegression()\n",
        "\n",
        "model.fit(dataframe.loc[:, [2]].values,dataframe.loc[:, 3].values)\n",
        "\n",
        "plt.figure(figsize=(5,5))\n",
        "plt.scatter(dataframe.loc[:, [2]].values,dataframe.loc[:, 3].values)\n",
        "plt.plot(dataframe.loc[:, 2],model.predict(dataframe.loc[:, [2]].values),color=\"red\")"
      ],
      "metadata": {
        "id": "atlpsXBEzD_z"
      },
      "execution_count": null,
      "outputs": []
    },
    {
      "cell_type": "markdown",
      "source": [
        "うーん、相関がなさそうですね。\n",
        "\n",
        "と、Pythonは数値処理や可視化のライブラリが非常に充実しているので、ほんの数行書くだけで、様々なデータ分析を行う事ができます。\n",
        "\n",
        "教科書には色々な機械学習アルゴリズムが載っていますので、次回以降、それらに取り組みます。"
      ],
      "metadata": {
        "id": "UslsLHd8dOCN"
      }
    }
  ]
}