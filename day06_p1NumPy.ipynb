{
  "nbformat": 4,
  "nbformat_minor": 0,
  "metadata": {
    "colab": {
      "provenance": [],
      "collapsed_sections": [
        "mIrWJ9qDF3ym",
        "NqC8PwC4KL-V",
        "Hyo3XGNVNRyG",
        "Z133AXU2PgL7",
        "nmh_nX1SgpUO",
        "mhCBFJpEjmCD",
        "s8irCxoZjomB",
        "W2ck-81jjppu",
        "Pcl1tYueLzZ2",
        "TZtsssKcVQ7G",
        "pXcPp9lR3MZU",
        "FSoq4dUBe13f",
        "rI4dQiL8ijGA",
        "wpbZvISZik66",
        "XR1SWbA4imEU",
        "sgAjsyHZin2Q"
      ],
      "toc_visible": true,
      "include_colab_link": true
    },
    "kernelspec": {
      "name": "python3",
      "display_name": "Python 3"
    },
    "language_info": {
      "name": "python"
    }
  },
  "cells": [
    {
      "cell_type": "markdown",
      "metadata": {
        "id": "view-in-github",
        "colab_type": "text"
      },
      "source": [
        "<a href=\"https://colab.research.google.com/github/YokoyamaLab/PythonBasics/blob/2024/day06_p1NumPy.ipynb\" target=\"_parent\"><img src=\"https://colab.research.google.com/assets/colab-badge.svg\" alt=\"Open In Colab\"/></a>"
      ]
    },
    {
      "cell_type": "markdown",
      "source": [
        "# Day07 資料01 NumPy　16本ノック"
      ],
      "metadata": {
        "id": "jcr96j9oCzxW"
      }
    },
    {
      "cell_type": "code",
      "source": [
        "# まず、これを実行してください。（ノート途中からやる時も必ず！）\n",
        "import numpy as np"
      ],
      "metadata": {
        "id": "cfLIFBJLGbRj"
      },
      "execution_count": null,
      "outputs": []
    },
    {
      "cell_type": "markdown",
      "source": [
        "## 🌀データを作る【基本】"
      ],
      "metadata": {
        "id": "MZtU8UG_C4UH"
      }
    },
    {
      "cell_type": "markdown",
      "source": [
        "### 💮[1本目] 配列を作る"
      ],
      "metadata": {
        "id": "-JcczpeCEA4Z"
      }
    },
    {
      "cell_type": "markdown",
      "source": [
        "NumPyの最も基本的なデータ型は配列(ndarray)です。\n",
        "\n",
        "```Python\n",
        "k1 = np.array([1,2,3])\n",
        "```"
      ],
      "metadata": {
        "id": "1V1jT1_mEQGR"
      }
    },
    {
      "cell_type": "code",
      "execution_count": null,
      "metadata": {
        "id": "Fbr3gmKyCMS9"
      },
      "outputs": [],
      "source": [
        "# [1] # 10、20、30を要素にもつndarrayをつくりそれを表示(print)せよ\n"
      ]
    },
    {
      "cell_type": "markdown",
      "source": [
        "#### 💯解答例[1本目]"
      ],
      "metadata": {
        "id": "mIrWJ9qDF3ym"
      }
    },
    {
      "cell_type": "code",
      "source": [
        "k1 = np.array([10,20,30])\n",
        "print(k1)"
      ],
      "metadata": {
        "id": "7a_dbfqcGSrc"
      },
      "execution_count": null,
      "outputs": []
    },
    {
      "cell_type": "markdown",
      "source": [
        "##### 🐍補足①\n",
        "実はk1に代入しなくても以下のコードでも表示はできます。colabではコードブロックの最後の行の結果を表示する機能があります。ただこれはcolab(IPython)特有の機能で、Pythonのプログラムとしての機能ではありませんので、この講義ではあえてprintを使って値を表示します。"
      ],
      "metadata": {
        "id": "gfiwE5kEN0GO"
      }
    },
    {
      "cell_type": "code",
      "source": [
        "np.array([10,20,30])"
      ],
      "metadata": {
        "id": "E3k8L_qtOUeq"
      },
      "execution_count": null,
      "outputs": []
    },
    {
      "cell_type": "markdown",
      "source": [
        "##### 🐍補足②\n",
        "ndarrayとリスト型の最大の違いは、データ型を混在できるか否かです。リスト型は文字列と数値を混在させられましたが、ndarray型はできません。配列の最初のデータの型に統一されます。ですので以下の例では数値として表現されている(つまりコーテーションがない)20と30も、文字列として保存されます。"
      ],
      "metadata": {
        "id": "PmO1k1OvG2B5"
      }
    },
    {
      "cell_type": "code",
      "source": [
        "print(np.array(['十',20,30]))"
      ],
      "metadata": {
        "id": "NhV0d6HwHgC1"
      },
      "execution_count": null,
      "outputs": []
    },
    {
      "cell_type": "markdown",
      "source": [
        "### 💮[2本目] 連番による配列生成"
      ],
      "metadata": {
        "id": "Eg9ydOclHN9h"
      }
    },
    {
      "cell_type": "markdown",
      "source": [
        "連番の配列を生成するには[numpy.arange関数](https://numpy.org/doc/stable/reference/generated/numpy.arange.html)を使います。\n",
        "\n",
        "```\n",
        "arange([start, ]stop, [step, ]dtype=None, *, like=None)\n",
        "```\n",
        "* start: 始点\n",
        "* stop: 終点(未満)\n",
        "* step: 間隔\n"
      ],
      "metadata": {
        "id": "Nj9JA8NfIqkq"
      }
    },
    {
      "cell_type": "code",
      "source": [
        "# [2] # 0から10までで間隔2の値を持つndarrayをつくりそれを表示(print)せよ(以後「表示せよ」は省略する)\n"
      ],
      "metadata": {
        "id": "Db4ERz-YJi6O"
      },
      "execution_count": null,
      "outputs": []
    },
    {
      "cell_type": "markdown",
      "source": [
        "#### 💯解答例[2本目]"
      ],
      "metadata": {
        "id": "NqC8PwC4KL-V"
      }
    },
    {
      "cell_type": "code",
      "source": [
        "k2 = np.arange(0,10,2)\n",
        "print(k2)"
      ],
      "metadata": {
        "id": "ZTocP8gJKNgv"
      },
      "execution_count": null,
      "outputs": []
    },
    {
      "cell_type": "markdown",
      "source": [
        "ここで10が含まれていない事に着目してください。ある区間で等分したいという時は次のnp.linspace関数が便利です。"
      ],
      "metadata": {
        "id": "Cpvdw77BKT0l"
      }
    },
    {
      "cell_type": "markdown",
      "source": [
        "### 💮[3本目] 均等区間割りによる配列生成"
      ],
      "metadata": {
        "id": "9du0jgodKiz6"
      }
    },
    {
      "cell_type": "markdown",
      "source": [
        "始点と終点(含む)の間を任意の数で均等に割って配列の値を生成するには[numpy.linspace関数]()を使います。\n",
        "\n",
        "```\n",
        "numpy.linspace(start, stop, num=50, endpoint=True, retstep=False, dtype=None, axis=0)\n",
        "```\n",
        "* start: 始点\n",
        "* stop: 終点\n",
        "* num: 分割数"
      ],
      "metadata": {
        "id": "Za263XHfK1sj"
      }
    },
    {
      "cell_type": "code",
      "source": [
        "# [3] # 100から200までの数を17等分する\n"
      ],
      "metadata": {
        "id": "PcuQk0pEMITO"
      },
      "execution_count": null,
      "outputs": []
    },
    {
      "cell_type": "markdown",
      "source": [
        "#### 💯解答例[3本目]"
      ],
      "metadata": {
        "id": "Hyo3XGNVNRyG"
      }
    },
    {
      "cell_type": "code",
      "source": [
        "#@title\n",
        "k3 = np.linspace(0,20,17)\n",
        "print(k3)"
      ],
      "metadata": {
        "id": "ktGxwqPwNT70"
      },
      "execution_count": null,
      "outputs": []
    },
    {
      "cell_type": "markdown",
      "source": [
        "### 💮[4本目] 多次元配列(行列)の生成"
      ],
      "metadata": {
        "id": "9axMMw2pPKY1"
      }
    },
    {
      "cell_type": "markdown",
      "source": [
        "ndarrayはリストと同様に多次元配列を作る事も可能です。実はndarrayはN-dimensional arrayの略です。主に行列計算として使われます。\n",
        "\n",
        "では、ヒント無しで以下の行列を作ってください。なお、<u>この行列は後で使うので変数k4に代入しておいてください。</u>\n",
        "\n",
        "|     |     |     |\n",
        "|:---:|:---:|:---:|\n",
        "|  1  |  2  |  3  |\n",
        "|  4  |  5  |  6  |\n",
        "|  7  |  8  |  9  |\n"
      ],
      "metadata": {
        "id": "unq5ETkDPjQL"
      }
    },
    {
      "cell_type": "markdown",
      "source": [
        "#### 💯解答例[4本目]"
      ],
      "metadata": {
        "id": "Z133AXU2PgL7"
      }
    },
    {
      "cell_type": "code",
      "source": [
        "k4 = np.array([[1,2,3],[4,5,6],[7,8,9]])\n",
        "print(k4)"
      ],
      "metadata": {
        "id": "ZHY769u-RadI"
      },
      "execution_count": null,
      "outputs": []
    },
    {
      "cell_type": "markdown",
      "source": [
        "## 🌀行列演算【発展】"
      ],
      "metadata": {
        "id": "naPyim1ahuHL"
      }
    },
    {
      "cell_type": "markdown",
      "source": [
        "### 💮[5本目] 転置行列"
      ],
      "metadata": {
        "id": "KEDfiAjLR5Gp"
      }
    },
    {
      "cell_type": "markdown",
      "source": [
        "ndarrayが行列計算で使われる事が多いと説明しました。という事は行列に関する様々な処理が容易にできるはずです。\n",
        "\n",
        "転置行列はndarrayのTというインスタンス変数(@property)に格納されています。もしくは[numpy.transpose関数](https://numpy.org/doc/stable/reference/generated/numpy.transpose.html#numpy-transpose)で得る事も可能です。\n",
        "\n",
        "```\n",
        "numpy.transpose(a, axes=None)\n",
        "```\n",
        "\n",
        "両方のやり方でk4に格納された3×3の行列を転置してみましょう。"
      ],
      "metadata": {
        "id": "C2416V0QR749"
      }
    },
    {
      "cell_type": "code",
      "source": [
        "# [5] # 1ndarray.Tを使って転置行列を得る\n",
        "\n",
        "# [5] # 1np.transpose(ndarray)を使って転置行列をえる\n"
      ],
      "metadata": {
        "id": "BxG7wmp7S6tJ"
      },
      "execution_count": null,
      "outputs": []
    },
    {
      "cell_type": "markdown",
      "source": [
        "#### 💯解答例[5本目]"
      ],
      "metadata": {
        "id": "nmh_nX1SgpUO"
      }
    },
    {
      "cell_type": "code",
      "source": [
        "print( k4.T )\n",
        "\n",
        "k5 = np.transpose(k4)\n",
        "print(k5)\n"
      ],
      "metadata": {
        "id": "l-Sh32J5gqeY"
      },
      "execution_count": null,
      "outputs": []
    },
    {
      "cell_type": "markdown",
      "source": [
        "### 💮[6本目] 固有値・固有ベクトル"
      ],
      "metadata": {
        "id": "VMYqOr7uiCVd"
      }
    },
    {
      "cell_type": "markdown",
      "source": [
        "線形代数でお馴染みの固有値・固有ベクトルも**numpy**なら簡単に求める事ができます。ただし、**numpy**のサブモジュールである**linalg**を**import**しなければなりません。**linalg**は慣習で**LA**に短縮リネームして使用します。(ただりしリファレンス等では**linalg**と書かれていますが、同じです)"
      ],
      "metadata": {
        "id": "1LpKtE4-j445"
      }
    },
    {
      "cell_type": "code",
      "source": [
        "import numpy.linalg as LA"
      ],
      "metadata": {
        "id": "PmDxd7sskRWz"
      },
      "execution_count": null,
      "outputs": []
    },
    {
      "cell_type": "markdown",
      "source": [
        "固有値・固有ベクトルは[linalg.eig関数](https://numpy.org/doc/stable/reference/generated/numpy.linalg.eig.html)を使います。\n",
        "\n",
        "```\n",
        "w,v = linalg.eig(a)\n",
        "```\n",
        "**w**(固有値)と**v**(固有ベクトル)を一度に返す点に注意してください。\n",
        "\n",
        "それでは以下の行列の固有値と固有ベクトルを求めましょう。\n",
        "\n",
        "$$\n",
        "\\begin{pmatrix}\n",
        "5 & 3 \\\\\n",
        "4 & 9 \\\\\n",
        "\\end{pmatrix}\n",
        "$$"
      ],
      "metadata": {
        "id": "ncZBYvc0lKtK"
      }
    },
    {
      "cell_type": "code",
      "source": [
        "# [6] # 上記行列の固有値・固有ベクトルを求める\n"
      ],
      "metadata": {
        "id": "QLQY44KJmE49"
      },
      "execution_count": null,
      "outputs": []
    },
    {
      "cell_type": "markdown",
      "source": [
        "#### 💯解答例[6本目]"
      ],
      "metadata": {
        "id": "mhCBFJpEjmCD"
      }
    },
    {
      "cell_type": "code",
      "source": [
        "k6 = np.array([[5,3],[4,9]])\n",
        "w,v =LA.eig(k6)\n",
        "\n",
        "print(w)\n",
        "print(v)\n"
      ],
      "metadata": {
        "id": "L0vZ6ZwfmFX6"
      },
      "execution_count": null,
      "outputs": []
    },
    {
      "cell_type": "markdown",
      "source": [
        "##### 🐍補足\n",
        "固有値ベクトルは変数vの縦方向に入っています。さらに規格化もされていません。"
      ],
      "metadata": {
        "id": "mW9KVDVPwJsS"
      }
    },
    {
      "cell_type": "code",
      "source": [
        "print('value: ', w[0])\n",
        "# 定数倍してそれっぽくだす\n",
        "print('vector: ', 2 * v[:, 0] / v[1, 0])"
      ],
      "metadata": {
        "id": "Rb5DxyJ2wdb0"
      },
      "execution_count": null,
      "outputs": []
    },
    {
      "cell_type": "markdown",
      "source": [
        "### 💮[7本目] ランク"
      ],
      "metadata": {
        "id": "N7c2yZm2jExC"
      }
    },
    {
      "cell_type": "markdown",
      "source": [
        "これも線形代数の基本的な行列操作です。行列のランクは[linalg.matrix_rank関数](https://numpy.org/doc/stable/reference/generated/numpy.linalg.matrix_rank.html)を使います。\n",
        "\n",
        "```\n",
        "linalg.matrix_rank(A, tol=None, hermitian=False)\n",
        "```\n",
        "では以下の行列のランクを求めてみましょう。\n",
        "\n",
        "$$\n",
        "\\begin{pmatrix}\n",
        " 1 &  2 &  3 & -1 \\\\\n",
        " 0 & -1 & -1 &  1 \\\\\n",
        " 2 &  3 &  5 & -1 \\\\\n",
        "\\end{pmatrix}\n",
        "$$"
      ],
      "metadata": {
        "id": "65s8__lUxabD"
      }
    },
    {
      "cell_type": "code",
      "source": [
        "# [7] # 上の行列を定義し、ランクを出す\n"
      ],
      "metadata": {
        "id": "M5qDp6ErxntL"
      },
      "execution_count": null,
      "outputs": []
    },
    {
      "cell_type": "markdown",
      "source": [
        "#### 💯解答例[7本目]"
      ],
      "metadata": {
        "id": "s8irCxoZjomB"
      }
    },
    {
      "cell_type": "code",
      "source": [
        "k7 = np.array([[1,2,3,-1],[0,-1,-1,1],[2,3,5,-1]])\n",
        "print( LA.matrix_rank(k7) )"
      ],
      "metadata": {
        "id": "rzExqaa9xpQ4"
      },
      "execution_count": null,
      "outputs": []
    },
    {
      "cell_type": "markdown",
      "source": [
        "### 💮[8本目] 逆行列"
      ],
      "metadata": {
        "id": "bvAal7o8jZUp"
      }
    },
    {
      "cell_type": "markdown",
      "source": [
        "手計算では3×3でも苦労する逆行列もnumpyで求められます。逆行列は[linalg.inv関数](https://numpy.org/doc/stable/reference/generated/numpy.linalg.inv.html)を使います。\n",
        "\n",
        "\n",
        "では以下の行列の逆行列を求めましょう。\n",
        "\n",
        "```\n",
        "linalg.inv(a)\n",
        "```\n",
        "\n",
        "$$\n",
        "\\begin{pmatrix}\n",
        " 1 & -6 &  0 \\\\\n",
        "-3 &  2 &  1 \\\\\n",
        "-3 &  3 &  1 \\\\\n",
        "\\end{pmatrix}\n",
        "$$"
      ],
      "metadata": {
        "id": "p9R1_KmAHYGk"
      }
    },
    {
      "cell_type": "code",
      "source": [
        "# 8 # 上の行列の逆行列を求める。\n"
      ],
      "metadata": {
        "id": "n3xLxxYMJ4av"
      },
      "execution_count": null,
      "outputs": []
    },
    {
      "cell_type": "markdown",
      "source": [
        "#### 💯解答例[8本目]"
      ],
      "metadata": {
        "id": "W2ck-81jjppu"
      }
    },
    {
      "cell_type": "code",
      "source": [
        "k8 = np.array([[1,-6,0],[-3,2,1],[-3,3,1]])\n",
        "k8_inv = LA.inv(k8)\n",
        "print(k8_inv)"
      ],
      "metadata": {
        "id": "tvDJ5dy8J8Eh"
      },
      "execution_count": null,
      "outputs": []
    },
    {
      "cell_type": "markdown",
      "source": [
        "##### 🐍補足\n",
        "\n",
        "当然ですが逆行列を持たない行列の逆行列は作れません。\n",
        "\n",
        "$$\n",
        "\\begin{pmatrix}\n",
        "  2 & -6 \\\\\n",
        " -1 &  3 \\\\\n",
        "\\end{pmatrix}\n",
        "$$\n",
        "\n",
        "例えばこの行列の逆行列を求めるとエラーが出て来ます。"
      ],
      "metadata": {
        "id": "S6M1kMHYK5Tf"
      }
    },
    {
      "cell_type": "code",
      "source": [
        "LA.inv(np.array([[2,-6],[-1,3]]))"
      ],
      "metadata": {
        "id": "2amAiToEK_gD"
      },
      "execution_count": null,
      "outputs": []
    },
    {
      "cell_type": "markdown",
      "source": [
        "### 💮[9本目] 行列式"
      ],
      "metadata": {
        "id": "CVKqjk3mLuPK"
      }
    },
    {
      "cell_type": "markdown",
      "source": [
        "前問の補足で逆行列を持たない行列を紹介しました。逆行列は余因子行列を行列式で割ったもので、逆行列を持たない条件は、分母である行列式が$0$の時です。\n",
        "\n",
        "行列式は[linalg.det関数](https://numpy.org/doc/stable/reference/generated/numpy.linalg.det.html)を使います。\n",
        "\n",
        "```\n",
        "linalg.det(a)\n",
        "```\n",
        "\n",
        "では以下の行列式が$0$となる事を確認しましょう。\n",
        "\n",
        "\n",
        "$$\n",
        "\\begin{vmatrix}\n",
        "  2 & -6 \\\\\n",
        " -1 &  3 \\\\\n",
        "\\end{vmatrix}\n",
        "$$"
      ],
      "metadata": {
        "id": "LP-8L6ELL0iL"
      }
    },
    {
      "cell_type": "code",
      "source": [
        "# 9 # 上の行列式を求めよ\n"
      ],
      "metadata": {
        "id": "9GM5H2g-PeQY"
      },
      "execution_count": null,
      "outputs": []
    },
    {
      "cell_type": "markdown",
      "source": [
        "#### 💯解答例[9本目]"
      ],
      "metadata": {
        "id": "Pcl1tYueLzZ2"
      }
    },
    {
      "cell_type": "code",
      "source": [
        "print( LA.det(np.array([[2,-6],[-1,3]])) )"
      ],
      "metadata": {
        "id": "-YY2zWK7L0KT"
      },
      "execution_count": null,
      "outputs": []
    },
    {
      "cell_type": "markdown",
      "source": [
        "$0$になりましたか？"
      ],
      "metadata": {
        "id": "ZQ70LFDIPxG1"
      }
    },
    {
      "cell_type": "markdown",
      "source": [
        "## 🌀配列の基本操作【基本】"
      ],
      "metadata": {
        "id": "8eFsX3WsP7qr"
      }
    },
    {
      "cell_type": "markdown",
      "source": [
        "### 💮[10本目] ブロードキャスト"
      ],
      "metadata": {
        "id": "pxXHLv-2RZnS"
      }
    },
    {
      "cell_type": "markdown",
      "source": [
        "例えば以下のような二次元配列**k10**を定義したとします。**k10**に1を足すコードを書いて、その結果を表示し、動作を見てみましょう。"
      ],
      "metadata": {
        "id": "AwK1PB5RU0j7"
      }
    },
    {
      "cell_type": "code",
      "source": [
        "k10 = np.array([[1,2],[1,3]])\n",
        "# k10に1をたしたものを表示する\n"
      ],
      "metadata": {
        "id": "BxuHUQlFVIGI"
      },
      "execution_count": null,
      "outputs": []
    },
    {
      "cell_type": "markdown",
      "source": [
        "#### 💯解答例[10本目]"
      ],
      "metadata": {
        "id": "TZtsssKcVQ7G"
      }
    },
    {
      "cell_type": "code",
      "source": [
        "# 1を足す\n",
        "print(k10 + 1)\n",
        "\n",
        "# ついでに2をかける\n",
        "print(k10 * 2)"
      ],
      "metadata": {
        "id": "k5K1BKXiVSoD"
      },
      "execution_count": null,
      "outputs": []
    },
    {
      "cell_type": "markdown",
      "source": [
        "このように、四則演算が配列全ての要素に対して適用されます。これをブロードキャストと呼びます。for文やmap文が必要ないので、コードが簡潔になります。"
      ],
      "metadata": {
        "id": "nG8HPbCmVhaq"
      }
    },
    {
      "cell_type": "markdown",
      "source": [
        "### 💮[11本目] スライシング"
      ],
      "metadata": {
        "id": "gVkIkRRERl3u"
      }
    },
    {
      "cell_type": "markdown",
      "source": [
        "スライシングとはデータの一部を取り出す操作の事です。[リストの所](https://github.com/YokoyamaLab/PythonBasics/blob/main/day02_01DataStructure.ipynb)でも学びましたが、もうすこし高度な機能を見ていきましょう。\n",
        "\n",
        "ndarrayもリストと同様に添え字が```[start:stop:step]```という形で、配列中の一部を選択する事ができます。では以下の二次元配列を考えてみます。(なお**reshape関数**は初出ですが、この関数により**arrange関数で作り出した一次元配列を**3×4の二次元入り列に変更しています。)"
      ],
      "metadata": {
        "id": "WdA3tSTf_lih"
      }
    },
    {
      "cell_type": "code",
      "source": [
        "k11 = np.arange(12).reshape((3, 4))\n",
        "print(k11)"
      ],
      "metadata": {
        "id": "6DI_uFQmBCZx"
      },
      "execution_count": null,
      "outputs": []
    },
    {
      "cell_type": "markdown",
      "source": [
        "二次元配列中の一つの値を得る方法は二つあります。\n",
        "\n",
        "```\n",
        "print(k11[1][1])\n",
        "print(k11[1,1])\n",
        "```\n",
        "\n",
        "効率的なのは後者の方法ですので、こちらを使いましょう。"
      ],
      "metadata": {
        "id": "Q8dDPmeWBzGi"
      }
    },
    {
      "cell_type": "markdown",
      "source": [
        "配列の添え字の書き方は\n",
        "```\n",
        "[start:end:step]\n",
        "```\n",
        "です。それぞれの意味は次の通り。\n",
        "\n",
        "- **start**: 始点$<$\n",
        "- **end**: $\\leqq$終点\n",
        "- **step**: この数ぶんスキップする\n",
        "\n",
        "これらの数はそれぞれ省略可能です。\n",
        "\n",
        "```\n",
        "[start] #単にstart番目の値が選ばれます\n",
        "\n",
        "[start:] # startから配列の末尾まで(end/step省略)\n",
        "[:end] # 配列の先頭からendまで(start/step省略)\n",
        "\n",
        "[start::step] # startから末尾までstepおきに(end省略)\n",
        "[:end:step] # 先頭からendまでstepおきに(start省略)\n",
        "\n",
        "[::step] # 先頭から末尾までstepお気に(start/end省略)\n",
        "\n",
        "[:] # start,end,step全部省略(全ての要素を選択)\n",
        "```\n",
        "\n",
        "まだ二次元の場合はカンマで区切って並べる事ができます。\n",
        "\n",
        "では先ほどのk11をstep=2でスライスする事を考えよう。"
      ],
      "metadata": {
        "id": "FTIAS3yhCG6p"
      }
    },
    {
      "cell_type": "code",
      "source": [
        "# 元の配列\n",
        "print(k11)\n",
        "# 11-1 # k11の１次元目をstep=2でスライス\n",
        "\n",
        "# 11-2 # k11の２次元目をstep=2でスライス\n",
        "\n",
        "# 11-3 # k11の量次元をstep=2でスライス\n"
      ],
      "metadata": {
        "id": "MaKEnCMZ3CYD"
      },
      "execution_count": null,
      "outputs": []
    },
    {
      "cell_type": "markdown",
      "source": [
        "#### 💯解答例[11本目]"
      ],
      "metadata": {
        "id": "pXcPp9lR3MZU"
      }
    },
    {
      "cell_type": "markdown",
      "source": [
        "元の配列がどのようにスライスされたか確認しましょう。"
      ],
      "metadata": {
        "id": "SJ2r1HdARwuG"
      }
    },
    {
      "cell_type": "code",
      "source": [
        "print(k11)\n",
        "print( k11[::2] )\n",
        "print( k11[:,::2] )\n",
        "print( k11[::2,::2] )"
      ],
      "metadata": {
        "id": "zuabg6CB3NsK"
      },
      "execution_count": null,
      "outputs": []
    },
    {
      "cell_type": "markdown",
      "source": [
        "### 💮【閑話休題】 軸・次元\n"
      ],
      "metadata": {
        "id": "msOEoW8iRpFj"
      }
    },
    {
      "cell_type": "markdown",
      "source": [
        "NumPyのndarrayが普通のリストと異なり便利なのは、軸・次元の考え方がある事です。\n",
        "\n",
        "例えば以下の三次元配列を考えます。"
      ],
      "metadata": {
        "id": "uR3QOcI0SILS"
      }
    },
    {
      "cell_type": "code",
      "source": [
        "dim3 = np.array([\n",
        "    [\n",
        "      [0,1,2,3],\n",
        "      [4,5,6,7],\n",
        "      [8,9,10,11],\n",
        "    ],[\n",
        "      [20,21,22,23],\n",
        "      [24,25,26,27],\n",
        "      [28,29,30,31],\n",
        "    ]\n",
        "])"
      ],
      "metadata": {
        "id": "30UEyYacShA9"
      },
      "execution_count": null,
      "outputs": []
    },
    {
      "cell_type": "markdown",
      "source": [
        "この配列は軸が3つあります。まず、大外を見てください。配列の中に配列が２つあります。そしてそれらの中にはにはそれぞれ配列が３つずつ格納されています、それらの配列の中には整数値が４つ格納されています。\n",
        "\n",
        "では、この配列の形を見てみましょう。配列の形は**shapeアドリビュート**で確認できます。"
      ],
      "metadata": {
        "id": "-rBtGhXIWcrN"
      }
    },
    {
      "cell_type": "code",
      "source": [
        "print( dim3.shape )"
      ],
      "metadata": {
        "id": "i4EakJxZXGk4"
      },
      "execution_count": null,
      "outputs": []
    },
    {
      "cell_type": "markdown",
      "source": [
        "数字が３つでてきたので、これは三次元配列です。そして軸１に要素が２つ、軸２に要素が３つ、軸３に要素が４つ入っています。\n",
        "\n",
        "図にすると分かりやすいかもしれません。\n",
        "\n",
        "![](https://raw.githubusercontent.com/YokoyamaLab/PythonBasics/main/images/day07_ndarray_3d.svg)\n"
      ],
      "metadata": {
        "id": "U1u-dbchXF5-"
      }
    },
    {
      "cell_type": "markdown",
      "source": [
        "この図を頭に入れつつ、スライスをしてみましょう。数値や取り出す軸を変えて、多次元配列をどのように切り刻むかを試して理解しましょう。"
      ],
      "metadata": {
        "id": "asNf2Z0uYh36"
      }
    },
    {
      "cell_type": "code",
      "source": [
        "print( dim3[:,1,:] )"
      ],
      "metadata": {
        "id": "6tDE0VlLYWJC"
      },
      "execution_count": null,
      "outputs": []
    },
    {
      "cell_type": "markdown",
      "source": [
        "### 💮[12本目] 配列の連結"
      ],
      "metadata": {
        "id": "vfMblDmFRreI"
      }
    },
    {
      "cell_type": "markdown",
      "source": [
        "まずは以下のコードを実行して二次元配列を作ります。"
      ],
      "metadata": {
        "id": "UBXpl7KNZ2pK"
      }
    },
    {
      "cell_type": "code",
      "source": [
        "k12 = np.arange(12).reshape((3,4))\n",
        "print(k12)"
      ],
      "metadata": {
        "id": "ASV3jwWyZ5d6"
      },
      "execution_count": null,
      "outputs": []
    },
    {
      "cell_type": "markdown",
      "source": [
        "ここに**[append関数](https://numpy.org/doc/stable/reference/generated/numpy.append.html)**を使って配列をくっつけてみましょう。"
      ],
      "metadata": {
        "id": "bTTjQcmXaous"
      }
    },
    {
      "cell_type": "code",
      "source": [
        "np.append(k12, [12,13,14,15])"
      ],
      "metadata": {
        "id": "uhSbtl81a2yW"
      },
      "execution_count": null,
      "outputs": []
    },
    {
      "cell_type": "markdown",
      "source": [
        "あれ？一次元配列になってしまいました。n次元配列を表現する**ndarray**への**append**は、追加する次元数を指定しなければなりません。"
      ],
      "metadata": {
        "id": "fI1Gvqnla_xg"
      }
    },
    {
      "cell_type": "code",
      "source": [
        "np.append(k12,[12,13,14,15],axis=0)"
      ],
      "metadata": {
        "id": "HMx9C8tvbmIP"
      },
      "execution_count": null,
      "outputs": []
    },
    {
      "cell_type": "markdown",
      "source": [
        "今度はエラーがでます。ここがちょっと分かりずらいところですが、次元をそろえなければいけません。"
      ],
      "metadata": {
        "id": "cfPBfj3qbuh9"
      }
    },
    {
      "cell_type": "code",
      "source": [
        "print( np.append(k12,[[12,13,14,15]],axis=0) )\n",
        "print( np.append(k12,[[102],[103],[104]],axis=1) )"
      ],
      "metadata": {
        "id": "Cst1c1vvcpMN"
      },
      "execution_count": null,
      "outputs": []
    },
    {
      "cell_type": "markdown",
      "source": [
        "ではやっとここで問題です。\n",
        "\n",
        "dim3の三次元配列に対して、以下の図の赤い要素を追加する**np.append**を書いてみましょう。\n",
        "\n",
        "![](https://raw.githubusercontent.com/YokoyamaLab/PythonBasics/main/images/day07_ndarray_3d_append.svg)"
      ],
      "metadata": {
        "id": "VRdLLvrjeb6u"
      }
    },
    {
      "cell_type": "code",
      "source": [
        "# 13 # dim3の軸2に要素を追加する\n"
      ],
      "metadata": {
        "id": "WJ_4SSx8eqGe"
      },
      "execution_count": null,
      "outputs": []
    },
    {
      "cell_type": "markdown",
      "source": [
        "#### 💯解答例[12本目]"
      ],
      "metadata": {
        "id": "FSoq4dUBe13f"
      }
    },
    {
      "cell_type": "markdown",
      "source": [
        "理解するまではトライ＆エラーで行きましょう。正解の以下のコードです。\n",
        "\n",
        "図から軸は2だと分かりまする軸2は配列が３０入れ子になった箇所ですので、以下のように表現されます。"
      ],
      "metadata": {
        "id": "xKk3mtEtgkGg"
      }
    },
    {
      "cell_type": "code",
      "source": [
        "print( np.append(dim3,[[[51],[52],[53]],[[61],[62],[63]]],axis=2) )"
      ],
      "metadata": {
        "id": "7VLMuKHwe2cA"
      },
      "execution_count": null,
      "outputs": []
    },
    {
      "cell_type": "markdown",
      "source": [
        "この他、配列の連結には**[numpy.hstack関数](https://numpy.org/doc/stable/reference/generated/numpy.hstack.html)**と**[numpy.vstack関数](https://numpy.org/doc/stable/reference/generated/numpy.vstack.html)**が良く用いられます。この講義では省略しますが、興味があったら調べてみましょう。"
      ],
      "metadata": {
        "id": "yiFQ5n0-oU7O"
      }
    },
    {
      "cell_type": "markdown",
      "source": [
        "## 🌀配列の数学的操作【基本+α】"
      ],
      "metadata": {
        "id": "hbvF8ut5TbZf"
      }
    },
    {
      "cell_type": "markdown",
      "source": [
        "**ndarray**は行列とみなした線形代数的な利用方法以外に、統計処理的な活用も得意分野です。"
      ],
      "metadata": {
        "id": "nOuzPp8RiTj-"
      }
    },
    {
      "cell_type": "markdown",
      "source": [
        "### 💮[13本目] ソート"
      ],
      "metadata": {
        "id": "7ZSGgsb1TElh"
      }
    },
    {
      "cell_type": "markdown",
      "source": [
        "ソートは[numpy.sort関数](https://numpy.org/doc/stable/reference/generated/numpy.sort.html)を使います。多次元配列に対して軸を指定してソートができる点が、通常のリストと異なります。"
      ],
      "metadata": {
        "id": "fSERnu7tlvML"
      }
    },
    {
      "cell_type": "code",
      "source": [
        "# 二次元配列の例\n",
        "k13_2dim = [\n",
        "    [28,3,27,4],\n",
        "    [8,23,7,24]\n",
        "]\n",
        "# 多次元配列の場合はソートの軸を指定します\n",
        "print( np.sort(k13_2dim,axis=0) )\n",
        "print( np.sort(k13_2dim,axis=1) )\n",
        "\n",
        "\n",
        "# 一次元配列も当然OK\n",
        "k13_1dim = np.random.randint(1,100,size=20)\n",
        "print( k13_1dim )\n",
        "# ソートアルゴリズムの指定も可能（デフォルトはクイックソート）\n",
        "print( np.sort(k13_1dim))\n",
        "print( np.sort(k13_1dim))\n",
        "print( np.sort(k13_1dim,kind='mergesort'))\n",
        "print( np.sort(k13_1dim,kind='heapsort'))\n"
      ],
      "metadata": {
        "id": "mqvEvKsAjaZq"
      },
      "execution_count": null,
      "outputs": []
    },
    {
      "cell_type": "markdown",
      "source": [
        "では、ランダムの三次元配列を使って、全ての軸(0～2)まででソートの動作を見てみましょう。"
      ],
      "metadata": {
        "id": "3mLnCdkomNp-"
      }
    },
    {
      "cell_type": "code",
      "source": [
        "# ランダムな三次元配列を生成\n",
        "k13_3dim = np.random.randint(1,100,size=12).reshape((2,2,3))\n",
        "print(k13_3dim)\n",
        "\n",
        "# 13 # 軸1で、軸2で、軸3でsortを行い、動作を理解する。"
      ],
      "metadata": {
        "id": "bk42eciVmXmN"
      },
      "execution_count": null,
      "outputs": []
    },
    {
      "cell_type": "markdown",
      "source": [
        "#### 💯解答例[13本目]"
      ],
      "metadata": {
        "id": "rI4dQiL8ijGA"
      }
    },
    {
      "cell_type": "code",
      "source": [
        "print( np.sort(k13_3dim,axis=0) )\n",
        "print(\"===\")\n",
        "print( np.sort(k13_3dim,axis=1) )\n",
        "print(\"===\")\n",
        "print( np.sort(k13_3dim,axis=2) )"
      ],
      "metadata": {
        "id": "i4YXgMshnTHo"
      },
      "execution_count": null,
      "outputs": []
    },
    {
      "cell_type": "markdown",
      "source": [
        "### 💮参考資料 数学系基本関数と定数"
      ],
      "metadata": {
        "id": "AEa2gtw-T9O9"
      }
    },
    {
      "cell_type": "markdown",
      "source": [
        "次にざっと良くある数学の定数と基本操作をリストアップします。ここらへんは、さっと使えるようになりましょう。"
      ],
      "metadata": {
        "id": "95Z5VzDDusFG"
      }
    },
    {
      "cell_type": "code",
      "source": [
        "print(\"ネイピア数\",np.e)\n",
        "print(\"π\",np.pi)\n",
        "\n",
        "a = np.array([-1,0,7])\n",
        "b = np.array([3,4,2])\n",
        "print(\"a=\",a)\n",
        "print(\"b=\",b)\n",
        "print(\"a+b\",a+b)\n",
        "print(\"a-b\",a-b)\n",
        "print(\"a*b\",a*b)\n",
        "print(\"a/b\",a/b)\n",
        "print(\"a//b\",a//b)\n",
        "print(\"a%b\",a%b)\n",
        "print(\"a**b\",a**b)\n",
        "print(\"np.sqrt(b)\",np.sqrt(b))\n",
        "print(\"np.abs(a)\",np.abs(a))\n",
        "\n",
        "print(\"np.sin(np.pi*0.5)\",np.sin(np.pi*0.5))\n",
        "print(\"np.cos(np.pi*0.5)=0?\",np.cos(np.pi*0.5))\n",
        "print(\"np.tan(np.pi*0.5)=∞?\",np.tan(np.pi*0.5))\n",
        "\n",
        "print(\"πラジアンは\",np.rad2deg(np.pi),\"度\")\n",
        "print(\"120度は\",np.deg2rad(120),\"ラジアン\")\n",
        "\n",
        "print(\"np.exp(2)\",np.exp(2))\n",
        "print(\"np.log(2)\",np.log(2)) # 底がe\n",
        "print(\"np.log2(2)\",np.log2(2)) # 底が2\n",
        "print(\"np.log10(2)\",np.log10(2)) # 底が10\n",
        "\n",
        "print(\"np.floor([np.pi,np.e])\",np.floor([np.pi,np.e]))\n",
        "print(\"np.ceil([np.pi,np.e])\",np.ceil([np.pi,np.e]))\n",
        "print(\"np.round([np.pi,np.e])\",np.round([np.pi,np.e]))\n"
      ],
      "metadata": {
        "colab": {
          "base_uri": "https://localhost:8080/"
        },
        "id": "pFgWDX8sqBR0",
        "outputId": "0a828f73-53a5-4226-f9b7-75d2c25d9484"
      },
      "execution_count": null,
      "outputs": [
        {
          "output_type": "stream",
          "name": "stdout",
          "text": [
            "ネイピア数 2.718281828459045\n",
            "π 3.141592653589793\n",
            "a= [-1  0  7]\n",
            "b= [3 4 2]\n",
            "a+b [2 4 9]\n",
            "a-b [-4 -4  5]\n",
            "a*b [-3  0 14]\n",
            "a/b [-0.33333333  0.          3.5       ]\n",
            "a//b [-1  0  3]\n",
            "a%b [2 0 1]\n",
            "a**b [-1  0 49]\n",
            "np.sqrt(b) [1.73205081 2.         1.41421356]\n",
            "np.abs(a) [1 0 7]\n",
            "np.sin(np.pi*0.5) 1.0\n",
            "np.cos(np.pi*0.5)=0? 6.123233995736766e-17\n",
            "np.tan(np.pi*0.5)=∞? 1.633123935319537e+16\n",
            "πラジアンは 180.0 度\n",
            "120度は 2.0943951023931953 ラジアン\n",
            "np.exp(2) 7.38905609893065\n",
            "np.log(2) 0.6931471805599453\n",
            "np.log2(2) 1.0\n",
            "np.log10(2) 0.3010299956639812\n",
            "np.floor([np.pi,np.e]) [3. 2.]\n",
            "np.ceil([np.pi,np.e]) [4. 3.]\n",
            "np.round([np.pi,np.e]) [3. 3.]\n"
          ]
        }
      ]
    },
    {
      "cell_type": "markdown",
      "source": [
        "### 💮[14本目] 最大値・最小値・平均値・中央値・総和・標準偏差"
      ],
      "metadata": {
        "id": "DXwmSmnrS-Lr"
      }
    },
    {
      "cell_type": "markdown",
      "source": [
        "以下の二次元配列の要素に対して集約演算をしてみましょう。\n",
        "\n",
        "例えば最大値は**max関数**を使いますが、**NumPy**では以下の２通りの呼び出し方があります。両方覚えて置きましょう。\n",
        "\n",
        "```\n",
        "np.max(ndarray)\n",
        "ndarray.max()\n",
        "```\n",
        "ここでは後者の書き方で説明します。まず以下の配列を作りましょう。"
      ],
      "metadata": {
        "id": "XAYzgZPD2ekO"
      }
    },
    {
      "cell_type": "code",
      "source": [
        "k14 = np.array([\n",
        "    [6,1,8],\n",
        "    [7,5,3],\n",
        "    [2,9,4]\n",
        "])"
      ],
      "metadata": {
        "id": "wlls8Q6w12MX"
      },
      "execution_count": null,
      "outputs": []
    },
    {
      "cell_type": "markdown",
      "source": [
        "最大値は[**numpy.ndarray.max関数**](https://numpy.org/doc/stable/reference/generated/numpy.ndarray.max.html)を使います。特定の軸の最大値を出す事も可能です。"
      ],
      "metadata": {
        "id": "6Raj50oU3I_w"
      }
    },
    {
      "cell_type": "code",
      "source": [
        "print( \"全体\",k14.max() )\n",
        "print( \"軸0\",k14.max(axis=0) )\n",
        "print( \"軸1\",k14.max(axis=1) )"
      ],
      "metadata": {
        "colab": {
          "base_uri": "https://localhost:8080/"
        },
        "id": "yQrPRrBv3i--",
        "outputId": "a317e585-2b84-4968-b74c-c0687567745c"
      },
      "execution_count": null,
      "outputs": [
        {
          "output_type": "stream",
          "name": "stdout",
          "text": [
            "全体 9\n",
            "軸0 [7 9 8]\n",
            "軸1 [8 7 9]\n"
          ]
        }
      ]
    },
    {
      "cell_type": "markdown",
      "source": [
        "では同様に、最小値([**numpy.ndarray.min関数**](https://numpy.org/doc/stable/reference/generated/numpy.ndarray.min.html))、平均値([**numpy.ndarray.mean関数**](https://numpy.org/doc/stable/reference/generated/numpy.ndarray.mean.html))、中央値([**numpy.median関数**](https://numpy.org/doc/stable/reference/generated/numpy.median.html))、総和([**numpy.ndarray.sum関数**](https://numpy.org/doc/stable/reference/generated/numpy.ndarray.sum.html))、標準偏差([**numpy.ndarray.std関数**](https://numpy.org/doc/stable/reference/generated/numpy.ndarray.std.html))、分散([**numpy.ndarray.var関数**](https://numpy.org/doc/stable/reference/generated/numpy.ndarray.var.html))を、全体と各軸でもとめ、動作を確認しましょう。(なぜか、中央値だけ```numpy.median(ndarray)```という方法でしか呼び出せない仕様なので注意。)"
      ],
      "metadata": {
        "id": "FsD_AoRN37OA"
      }
    },
    {
      "cell_type": "code",
      "source": [
        "## 14-1 ## 最小値\n",
        "\n",
        "## 14-2 ## 平均値\n",
        "\n",
        "## 14-3 ## 中央値\n",
        "\n",
        "## 14-4 ## 総和\n",
        "\n",
        "## 14-5 ## 標準偏差\n",
        "\n",
        "## 14-5 ## 分散\n"
      ],
      "metadata": {
        "id": "o9fmpp9142ZZ"
      },
      "execution_count": null,
      "outputs": []
    },
    {
      "cell_type": "markdown",
      "source": [
        "#### 💯解答例[14本目]"
      ],
      "metadata": {
        "id": "wpbZvISZik66"
      }
    },
    {
      "cell_type": "code",
      "source": [
        "## 14-1 ## 最小値\n",
        "print( k14.min() )\n",
        "print( k14.min(axis=0) )\n",
        "print( k14.min(axis=1) )\n",
        "## 14-2 ## 平均値\n",
        "print( k14.mean() )\n",
        "print( k14.mean(axis=0) )\n",
        "print( k14.mean(axis=1) )\n",
        "## 14-3 ## 中央値\n",
        "print( np.median(k14) )\n",
        "print( np.median(k14,axis=0) )\n",
        "print( np.median(k14,axis=1) )\n",
        "## 14-4 ## 総和\n",
        "print( k14.sum() )\n",
        "print( k14.sum(axis=0) )\n",
        "print( k14.sum(axis=1) )\n",
        "## 14-5 ## 標準偏差\n",
        "print( k14.std() )\n",
        "print( k14.std(axis=0) )\n",
        "print( k14.std(axis=1) )\n",
        "## 14-5 ## 分散\n",
        "print( k14.var() )\n",
        "print( k14.var(axis=0) )\n",
        "print( k14.var(axis=1) )"
      ],
      "metadata": {
        "colab": {
          "base_uri": "https://localhost:8080/"
        },
        "id": "gkpzWkhx5B3m",
        "outputId": "46ba1aca-2e53-4843-b4b2-4ee46fe7b05d"
      },
      "execution_count": null,
      "outputs": [
        {
          "output_type": "stream",
          "name": "stdout",
          "text": [
            "1\n",
            "[2 1 3]\n",
            "[1 3 2]\n",
            "5.0\n",
            "[5. 5. 5.]\n",
            "[5. 5. 5.]\n",
            "5.0\n",
            "[6. 5. 4.]\n",
            "[6. 5. 4.]\n",
            "45\n",
            "[15 15 15]\n",
            "[15 15 15]\n",
            "2.581988897471611\n",
            "[2.1602469  3.26598632 2.1602469 ]\n",
            "[2.94392029 1.63299316 2.94392029]\n",
            "6.666666666666667\n",
            "[ 4.66666667 10.66666667  4.66666667]\n",
            "[8.66666667 2.66666667 8.66666667]\n"
          ]
        }
      ]
    },
    {
      "cell_type": "markdown",
      "source": [
        "そうなんです。この行列は魔法陣です。"
      ],
      "metadata": {
        "id": "XRtlSkfD6LTU"
      }
    },
    {
      "cell_type": "markdown",
      "source": [
        "### 💮[15本目] 共分散・相関関係"
      ],
      "metadata": {
        "id": "y1NtuL3hUFjz"
      }
    },
    {
      "cell_type": "code",
      "source": [
        "import matplotlib.pyplot as plt\n",
        "\n",
        "mean = np.array([0,0])\n",
        "cov = np.array([\n",
        "    [1,0.7],\n",
        "    [0.7,1]\n",
        "])\n",
        "# 平均と共分散を指定してデータを作る\n",
        "k15_x,k15_y = np.random.multivariate_normal(mean,cov,5000).T\n",
        "\n",
        "plt.plot(k15_x,k15_y,'x')\n",
        "# とりあえずどんなデータができたか見てみる\n"
      ],
      "metadata": {
        "colab": {
          "base_uri": "https://localhost:8080/",
          "height": 448
        },
        "id": "NM9FXAR5hU0p",
        "outputId": "91e759e8-9d30-4331-b20b-7a4a81ca40f6"
      },
      "execution_count": null,
      "outputs": [
        {
          "output_type": "execute_result",
          "data": {
            "text/plain": [
              "[<matplotlib.lines.Line2D at 0x7f15743949a0>]"
            ]
          },
          "metadata": {},
          "execution_count": 5
        },
        {
          "output_type": "display_data",
          "data": {
            "text/plain": [
              "<Figure size 640x480 with 1 Axes>"
            ],
            "image/png": "[encoded data removed]"
          },
          "metadata": {}
        }
      ]
    },
    {
      "cell_type": "markdown",
      "source": [
        "なんだかxとyで関係がありそうなデータが作れました。これの共分散を求めるのは[**numpy.cov関数**](https://numpy.org/doc/stable/reference/generated/numpy.cov.html)を使います。"
      ],
      "metadata": {
        "id": "VGx7uDzbcfoa"
      }
    },
    {
      "cell_type": "code",
      "source": [
        "print( \"xとyの共分散\",np.cov(k15_x,k15_y) )"
      ],
      "metadata": {
        "colab": {
          "base_uri": "https://localhost:8080/"
        },
        "id": "-V2caQS9iG65",
        "outputId": "6c12aac5-e5f1-4ef0-dda2-49b8891b4ba9"
      },
      "execution_count": null,
      "outputs": [
        {
          "output_type": "stream",
          "name": "stdout",
          "text": [
            "xとyの共分散 [[1.0028477  0.69465007]\n",
            " [0.69465007 0.97979753]]\n"
          ]
        }
      ]
    },
    {
      "cell_type": "markdown",
      "source": [
        "では同様に相関関係を求めてみましょう。相関関係は[numpy.corrcoef関数](https://numpy.org/doc/stable/reference/generated/numpy.corrcoef.html)で求められます。"
      ],
      "metadata": {
        "id": "3iiatj72cowd"
      }
    },
    {
      "cell_type": "code",
      "source": [
        "# 15 # xとyの相関係数\n"
      ],
      "metadata": {
        "id": "4Fzjtaock9JN"
      },
      "execution_count": null,
      "outputs": []
    },
    {
      "cell_type": "markdown",
      "source": [
        "#### 💯解答例[15本目]"
      ],
      "metadata": {
        "id": "XR1SWbA4imEU"
      }
    },
    {
      "cell_type": "code",
      "source": [
        "print( np.corrcoef(k15_x,k15_y) )"
      ],
      "metadata": {
        "colab": {
          "base_uri": "https://localhost:8080/"
        },
        "id": "IA-3PhTvi1_g",
        "outputId": "86c2f711-7b15-4f3e-d425-fc8c18252075"
      },
      "execution_count": null,
      "outputs": [
        {
          "output_type": "stream",
          "name": "stdout",
          "text": [
            "[[1.         0.70077794]\n",
            " [0.70077794 1.        ]]\n"
          ]
        }
      ]
    },
    {
      "cell_type": "markdown",
      "source": [
        "右上・左下がxとyの相関関係ですが、高い相関がみられる事が分かります。"
      ],
      "metadata": {
        "id": "xoafvcHmdemb"
      }
    },
    {
      "cell_type": "markdown",
      "source": [
        "### 💮[16本目] 内積・外積・直積"
      ],
      "metadata": {
        "id": "rthpPWrRUWVe"
      }
    },
    {
      "cell_type": "markdown",
      "source": [
        "最後に内積・外積・直積に触れておきましょう。"
      ],
      "metadata": {
        "id": "OFjG3KjTdldE"
      }
    },
    {
      "cell_type": "code",
      "source": [
        "k16_1 = np.array([1,2])\n",
        "k16_2 = np.array([4,3])\n",
        "\n",
        "# 内積\n",
        "print( np.dot(k16_1,k16_2) )\n",
        "# 外積\n",
        "print( np.cross(k16_1,k16_2) )\n",
        "# 直積\n",
        "print( np.outer(k16_1,k16_2) )"
      ],
      "metadata": {
        "colab": {
          "base_uri": "https://localhost:8080/"
        },
        "id": "R9ZEu65Ep6Rd",
        "outputId": "6c4f982d-7c08-47a5-dbb6-6a2ca5fc1d62"
      },
      "execution_count": null,
      "outputs": [
        {
          "output_type": "stream",
          "name": "stdout",
          "text": [
            "10\n",
            "-5\n",
            "[[4 3]\n",
            " [8 6]]\n"
          ]
        }
      ]
    },
    {
      "cell_type": "markdown",
      "source": [
        "では2×3と3×2の行列をつくり、その内積・外積・直積を求めなさい。(ただし外積は同じ形でないと掛け合わせらない事に注意してください。)"
      ],
      "metadata": {
        "id": "amFm8VmTeJts"
      }
    },
    {
      "cell_type": "code",
      "source": [
        "# 16 # 二次元配列の内積・外積・直積"
      ],
      "metadata": {
        "id": "zi8L438CeZXq"
      },
      "execution_count": null,
      "outputs": []
    },
    {
      "cell_type": "markdown",
      "source": [
        "#### 💯解答例[16本目]"
      ],
      "metadata": {
        "id": "sgAjsyHZin2Q"
      }
    },
    {
      "cell_type": "code",
      "source": [
        "k16_3 = np.array([[1,2,3],[4,5,6]])\n",
        "k16_4 = np.array([[11,12],[13,14],[15,16]])\n",
        "\n",
        "\n",
        "# 内積\n",
        "print( np.dot(k16_3,k16_4) )\n",
        "# 外積\n",
        "print( np.cross(k16_3,k16_4.T) ) #　k16_4の転置と\n",
        "# 直積\n",
        "print( np.outer(k16_3,k16_4) )\n"
      ],
      "metadata": {
        "colab": {
          "base_uri": "https://localhost:8080/"
        },
        "id": "Tx36ooWtq_af",
        "outputId": "71e0b619-59a5-44e2-8186-ac8304bf853a"
      },
      "execution_count": null,
      "outputs": [
        {
          "output_type": "stream",
          "name": "stdout",
          "text": [
            "[[ 82  88]\n",
            " [199 214]]\n",
            "[[-9 18 -9]\n",
            " [-4  8 -4]]\n",
            "[[11 12 13 14 15 16]\n",
            " [22 24 26 28 30 32]\n",
            " [33 36 39 42 45 48]\n",
            " [44 48 52 56 60 64]\n",
            " [55 60 65 70 75 80]\n",
            " [66 72 78 84 90 96]]\n"
          ]
        }
      ]
    }
  ]
}