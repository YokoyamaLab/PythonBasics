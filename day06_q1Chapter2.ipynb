{
  "nbformat": 4,
  "nbformat_minor": 0,
  "metadata": {
    "colab": {
      "provenance": [],
      "include_colab_link": true
    },
    "kernelspec": {
      "name": "python3",
      "display_name": "Python 3"
    },
    "language_info": {
      "name": "python"
    }
  },
  "cells": [
    {
      "cell_type": "markdown",
      "metadata": {
        "id": "view-in-github",
        "colab_type": "text"
      },
      "source": [
        "<a href=\"https://colab.research.google.com/github/YokoyamaLab/PythonBasics/blob/2024/day06_q1Chapter2.ipynb\" target=\"_parent\"><img src=\"https://colab.research.google.com/assets/colab-badge.svg\" alt=\"Open In Colab\"/></a>"
      ]
    },
    {
      "cell_type": "markdown",
      "source": [
        "# Day06 課題1　教科書第二章の自習"
      ],
      "metadata": {
        "id": "g8XIBMPDXXlz"
      }
    },
    {
      "cell_type": "code",
      "source": [
        "#@title 学籍番号、名前\n",
        "id = \"\" #@param {type:\"string\"}\n",
        "name = \"\" #@param {type:\"string\"}"
      ],
      "metadata": {
        "cellView": "form",
        "id": "cXVfoCXJXx4S"
      },
      "execution_count": null,
      "outputs": []
    },
    {
      "cell_type": "markdown",
      "source": [
        "教科書の第二章は、ダミーデータを作り出す方法が色々と書かれています。これをできるだけ試してみましょう。\n",
        "\n",
        "今回は宿題として特に何をやらなければいけない等の制約はありません。ただ、この後の学習はこのダミーデータを使ってやりますので、教科書の内容は理解しておく必要があります。\n",
        "\n",
        "また教科書に書かれている以外にも色々なデータを生成する機能がありますので、興味ある人は検索してみると、生成方法が色々と出て来ます。\n",
        "\n",
        "適宜、この下にテキストブロックやコードブロックを追加して、やった事をまとめてください。"
      ],
      "metadata": {
        "id": "RS--L8vMXcnY"
      }
    }
  ]
}
