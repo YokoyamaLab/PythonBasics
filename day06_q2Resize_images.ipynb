{
  "nbformat": 4,
  "nbformat_minor": 0,
  "metadata": {
    "colab": {
      "provenance": [],
      "authorship_tag": "ABX9TyMts3F77t46bvlrd82iJ8MB",
      "include_colab_link": true
    },
    "kernelspec": {
      "name": "python3",
      "display_name": "Python 3"
    },
    "language_info": {
      "name": "python"
    }
  },
  "cells": [
    {
      "cell_type": "markdown",
      "metadata": {
        "id": "view-in-github",
        "colab_type": "text"
      },
      "source": [
        "<a href=\"https://colab.research.google.com/github/YokoyamaLab/PythonBasics/blob/main/day06_q2Resize_images.ipynb\" target=\"_parent\"><img src=\"https://colab.research.google.com/assets/colab-badge.svg\" alt=\"Open In Colab\"/></a>"
      ]
    },
    {
      "cell_type": "markdown",
      "source": [
        "# Day06 課題2 共有画像の読み込みとリサイズ　※発展課題"
      ],
      "metadata": {
        "id": "6n2S9G66Y6kh"
      }
    },
    {
      "cell_type": "code",
      "execution_count": null,
      "metadata": {
        "cellView": "form",
        "id": "81_XQZW2Yn8h"
      },
      "outputs": [],
      "source": [
        "#@title 学籍番号、名前\n",
        "id = \"\" #@param {type:\"string\"}\n",
        "name = \"\" #@param {type:\"string\"}"
      ]
    },
    {
      "cell_type": "markdown",
      "source": [
        "## 課題\n",
        "\n",
        "教科書の最後の章で手書き数字を機械学習によって認識するという課題があります。これをやりたいのですが、それには、みんなで作った数字の画像を読みこんで、8ピクセル×8ピクセルに変換しなければなりません。\n",
        "\n",
        "そのプログラム作りに挑戦したい人はいますか？\n",
        "\n",
        "やる事は\n",
        "1. 共有フォルダから画像を読みこむ\n",
        "1. 画像を8ピクセル×8ピクセルにリサイズする\n",
        "1. 手元のフォルダ(/content/)に保存する\n",
        "です。\n",
        "\n",
        "共有フォルダから読み取る方法等は過去のノートにあります。画像のリサイズはPillowライブラリでできます。保存もPillowでできます。\n",
        "\n",
        "もし、この実装が成功したら**大きく評価**します。\n",
        "\n",
        "コードは以下に書いて、提出してください。"
      ],
      "metadata": {
        "id": "_GVFQ_nkZH-X"
      }
    },
    {
      "cell_type": "code",
      "source": [],
      "metadata": {
        "id": "_VGOYd0kai5k"
      },
      "execution_count": null,
      "outputs": []
    }
  ]
}