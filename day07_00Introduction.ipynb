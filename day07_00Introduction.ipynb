{
  "nbformat": 4,
  "nbformat_minor": 0,
  "metadata": {
    "colab": {
      "provenance": [],
      "authorship_tag": "ABX9TyObCoEiQtSS/g7SpFPj1u9V",
      "include_colab_link": true
    },
    "kernelspec": {
      "name": "python3",
      "display_name": "Python 3"
    },
    "language_info": {
      "name": "python"
    }
  },
  "cells": [
    {
      "cell_type": "markdown",
      "metadata": {
        "id": "view-in-github",
        "colab_type": "text"
      },
      "source": [
        "<a href=\"https://colab.research.google.com/github/YokoyamaLab/PythonBasics/blob/main/day07_00Introduction.ipynb\" target=\"_parent\"><img src=\"https://colab.research.google.com/assets/colab-badge.svg\" alt=\"Open In Colab\"/></a>"
      ]
    },
    {
      "cell_type": "markdown",
      "source": [
        " # Day07 イントロダクション"
      ],
      "metadata": {
        "id": "b3l-ziG90YYg"
      }
    },
    {
      "cell_type": "markdown",
      "source": [
        "## 🌀本日の講義の進め方"
      ],
      "metadata": {
        "id": "mzOIb0Nq0ixp"
      }
    },
    {
      "cell_type": "markdown",
      "source": [
        "今日はPythonでの数値処理・データ処理の核となるNumPyを中心に学びます。NumPyの機能は膨大ですが、今日は、「[$x$本ノック](https://qiita.com/search?q=%E6%9C%AC%E3%83%8E%E3%83%83%E3%82%AF)」的な感じで、小さな課題を時間の許す限りやるスタイルで進めます。"
      ],
      "metadata": {
        "id": "MP5IREM20owC"
      }
    },
    {
      "cell_type": "markdown",
      "source": [
        "## 🌀基本の基本"
      ],
      "metadata": {
        "id": "xu_3YJ7t1tzY"
      }
    },
    {
      "cell_type": "markdown",
      "source": [
        "Pythonで数値処理・データ処理をする際に以下の三つのライブラリが良く使われます。\n",
        "\n",
        "- NumPy: 配列・行列・ベクトル処理\n",
        "- Pandas: データの前処理(読み込み、整形など)\n",
        "- Matplotlib: グラフ描画の標準的なライブラリ\n",
        "\n",
        "加えて、高度な処理で以下のライブラリが良く使われます\n",
        "\n",
        "- SciPy: 高度な科学技術計算\n",
        "- scikit-learn: 機械学習\n",
        "\n",
        "これらを使う場合、Pythonの標準機能ではないので、冒頭でimportしておかなければなりません。"
      ],
      "metadata": {
        "id": "NwzEwJLk1-tn"
      }
    },
    {
      "cell_type": "code",
      "source": [
        "# 数値計算ならmathが必要になる場合が多い\n",
        "import math\n",
        "\n",
        "# np,pd,pltという変数名はなんでも良いのですが、慣例に従いましょう\n",
        "import numpy as np\n",
        "import pandas as pd\n",
        "import matplotlib.pyplot as plt\n",
        "\n",
        "# SciPyはspが慣例となりますが、加えて使うライブラリ毎にimportします\n",
        "import scipy as sp\n",
        "# SciPyの積分機能をimportする\n",
        "from scipy import integrate\n",
        "\n",
        "# scikit-learnも使う機能毎にimportします\n",
        "# 例えばサポートベクタマシンを使う場合\n",
        "from sklearn import svm\n"
      ],
      "metadata": {
        "id": "GLjN7Fma4Hi1"
      },
      "execution_count": null,
      "outputs": []
    },
    {
      "cell_type": "markdown",
      "source": [
        "## 🌀import文"
      ],
      "metadata": {
        "id": "rAEIRaykBY02"
      }
    },
    {
      "cell_type": "markdown",
      "source": [
        "ついでにimportの機能にも触れておきましょう。これは何も難しい事をしている訳ではありません。\n",
        "\n",
        "以下のコードを実行して、helloworldと出力するPythonのプログラムをColab上に**hello.py**という名前で保存しましょう。"
      ],
      "metadata": {
        "id": "RE3dUMqO6ZFT"
      }
    },
    {
      "cell_type": "code",
      "source": [
        "! echo \"print('Hello World')\" > hello.py"
      ],
      "metadata": {
        "id": "Y4rym7pg6z5j"
      },
      "execution_count": null,
      "outputs": []
    },
    {
      "cell_type": "markdown",
      "source": [
        "画面左側のフォルダのアイコン(📁)をクリックし**hello.py**が出来た事を確認してください。\n",
        "\n",
        "では、これを**import**するプログラムを実行してみましょう。"
      ],
      "metadata": {
        "id": "CzK8_Xxm69Hq"
      }
    },
    {
      "cell_type": "code",
      "source": [
        "import hello"
      ],
      "metadata": {
        "id": "vu1isVVD7L-D"
      },
      "execution_count": null,
      "outputs": []
    },
    {
      "cell_type": "markdown",
      "source": [
        "わかりましたか？**imoprt**は単に、今いるディレクトリ、あるいはPythonのライブラリが格納されているライブラリにある**Pythonファイルを呼び出して実行する**という事しかしていません。\n",
        "\n",
        "では関数をもつPythonファイルを作ってみましょう。"
      ],
      "metadata": {
        "id": "0KSpbFUz7VYj"
      }
    },
    {
      "cell_type": "code",
      "source": [
        "! echo \"def world():\" > hello2.py\n",
        "! echo \"  print('Hello from function')\" >> hello2.py"
      ],
      "metadata": {
        "id": "JInFVHF_7vug"
      },
      "execution_count": null,
      "outputs": []
    },
    {
      "cell_type": "markdown",
      "source": [
        "これは関数定義ですので、**import**しただけでは、メモリ上に関数が定義されるにすぎません、その関数を呼び出すには、以下の様に書きます。"
      ],
      "metadata": {
        "id": "GSESrL228g0Z"
      }
    },
    {
      "cell_type": "code",
      "source": [
        "import hello2\n",
        "hello2.world()"
      ],
      "metadata": {
        "id": "C9LrDKrg8tIp"
      },
      "execution_count": null,
      "outputs": []
    },
    {
      "cell_type": "markdown",
      "source": [
        "次にhello2に別名helloを割り当ててみましょう。"
      ],
      "metadata": {
        "id": "iyGfcgUx-3DG"
      }
    },
    {
      "cell_type": "code",
      "source": [
        "import hello2 as hello\n",
        "hello.world()"
      ],
      "metadata": {
        "id": "l7HCiaQZ--dJ"
      },
      "execution_count": null,
      "outputs": []
    },
    {
      "cell_type": "markdown",
      "source": [
        "冒頭の**import**の例では**from**と書かれている呼び出し文もありました。これは、ファイルから特定の変数・関数・クラスのみを呼び出す方法です。\n",
        "\n",
        "では**hello**と**world**と二つの変数が保存されているPythonファイルを作ってみます。"
      ],
      "metadata": {
        "id": "o08e8MwB_UP9"
      }
    },
    {
      "cell_type": "code",
      "source": [
        "! echo \"hello='こんにちは'\" > hello3.py\n",
        "! echo \"world='世界'\" >> hello3.py"
      ],
      "metadata": {
        "id": "g1pf6CK-_sKD"
      },
      "execution_count": null,
      "outputs": []
    },
    {
      "cell_type": "markdown",
      "source": [
        "このファイルの**hello**変数のみを読みこみます。"
      ],
      "metadata": {
        "id": "okT6eFtYAF3v"
      }
    },
    {
      "cell_type": "code",
      "source": [
        "from hello3 import hello"
      ],
      "metadata": {
        "id": "W5-kkx3x_37x"
      },
      "execution_count": null,
      "outputs": []
    },
    {
      "cell_type": "markdown",
      "source": [
        "そして、**hello**と**world**と両方表示してみましょう。**hello**はきちんと**こんにちは**"
      ],
      "metadata": {
        "id": "dXd6qXzwALmY"
      }
    },
    {
      "cell_type": "code",
      "source": [
        "print(hello)\n",
        "print(world)"
      ],
      "metadata": {
        "id": "GVVLdMmLAB4y"
      },
      "execution_count": null,
      "outputs": []
    },
    {
      "cell_type": "markdown",
      "source": [
        "理解できましたか？\n",
        "\n",
        "これから習う機械学習系の様々なモジュールは**import**と書くだけで、膨大な機能が簡単に使えるようになる**魔法の文**のように思えるかもしれませんが、実は、やっている事は単純なんです。"
      ],
      "metadata": {
        "id": "Ho8zItOXAd56"
      }
    },
    {
      "cell_type": "markdown",
      "source": [
        "それでは、 [講義ホームページ](https://github.com/YokoyamaLab/PythonBasics/)に戻って、Day07資料01から始めましょう！"
      ],
      "metadata": {
        "id": "b4EWgpNeBt9L"
      }
    }
  ]
}