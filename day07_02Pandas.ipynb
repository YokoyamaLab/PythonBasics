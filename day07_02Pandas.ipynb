{
  "nbformat": 4,
  "nbformat_minor": 0,
  "metadata": {
    "colab": {
      "provenance": [],
      "collapsed_sections": [
        "dWrtf8DPlzXA",
        "S9kN3Mtol1DK",
        "-TJqyckal2gd",
        "LBEeOuGLl4Nh",
        "lNmjvBqgl5gB",
        "_ks1tZDEl61L",
        "soYG5E9bl9dw",
        "zdtGEYA0mMlw",
        "gBNOYBhLmOhO",
        "CsdFdo50mQj-",
        "FQQRM1_JmSrq",
        "VtBGExjcmUNj",
        "uxBpnR0ImVpJ",
        "7vcR_31OmWxk",
        "e9xGAOZImYU7",
        "cYA-6ayLmZsG"
      ],
      "toc_visible": true,
      "authorship_tag": "ABX9TyOLB+SMCRbI/F99rX3H3acJ",
      "include_colab_link": true
    },
    "kernelspec": {
      "name": "python3",
      "display_name": "Python 3"
    },
    "language_info": {
      "name": "python"
    }
  },
  "cells": [
    {
      "cell_type": "markdown",
      "metadata": {
        "id": "view-in-github",
        "colab_type": "text"
      },
      "source": [
        "<a href=\"https://colab.research.google.com/github/YokoyamaLab/PythonBasics/blob/main/day07_02Pandas.ipynb\" target=\"_parent\"><img src=\"https://colab.research.google.com/assets/colab-badge.svg\" alt=\"Open In Colab\"/></a>"
      ]
    },
    {
      "cell_type": "markdown",
      "source": [
        "# Day07 資料02 Pandas　16本ノック"
      ],
      "metadata": {
        "id": "ba3vW_tmerlU"
      }
    },
    {
      "cell_type": "code",
      "execution_count": null,
      "metadata": {
        "id": "VyaAzKu7ejvS"
      },
      "outputs": [],
      "source": [
        "# まず、これを実行してください。（ノート途中からやる時も必ず！）\n",
        "import pandas as pd\n",
        "import numpy as np # ノート中NumPyも使うので読みこんでおく\n",
        "from matplotlib import pyplot as plt # Plotも使うので読み込んでおく"
      ]
    },
    {
      "cell_type": "markdown",
      "source": [
        "## 🌀データを作る【基本】"
      ],
      "metadata": {
        "id": "cnuo3H_mfkiS"
      }
    },
    {
      "cell_type": "markdown",
      "source": [
        "Pandasはよくデータの前処理に使うと説明されるライブラリです。Pandasの機能はデータベース(関係データベース)とNumPyの中間のような役割を持っています。つまりデータベースで使うようなテーブル操作と、NumPyでやるような行列操作の両方の機能を持っています。またCSVファイル等の静的なデータを読みこむ機能もあるため、機械学習など大量のデータ処理を伴うプロジェクトで、関係データベースやNumPy等とともに、データ管理に使われています。\n",
        "\n",
        "Pandasは非常に大きなライブラリですので、全ての機能を学ぶには時間が足りませんが、後々興味を持った時に自学自習がやりやすいように、ここでは大切なエッセンスのみ学びます。\n",
        "\n"
      ],
      "metadata": {
        "id": "u30w_0KwflTC"
      }
    },
    {
      "cell_type": "markdown",
      "source": [
        "### 💮[1本目] データ型『シリーズ』"
      ],
      "metadata": {
        "id": "VmMhWQ9OguE3"
      }
    },
    {
      "cell_type": "markdown",
      "source": [
        "Pandasでのデータ表現は、リストやNumPyのndarrayと異なり、皆さんがエクセルで作る表のようなものだと捉えてください。表は基本的には行方向に延びていき、また行や列には名前があったりします。\n",
        "\n",
        "Pandasで元も単純なデータモデルはシリーズです。"
      ],
      "metadata": {
        "id": "nAc_2LRln1Vh"
      }
    },
    {
      "cell_type": "code",
      "source": [
        "# Pythonのリスト\n",
        "k1_height_list = [180,171,175,164,155,173,168]\n",
        "# Pandasのシリーズ\n",
        "k1_height_series = pd.Series(k1_height_list)\n",
        "print(k1_height_list)\n",
        "print(\"====\")\n",
        "print(k1_height_series)"
      ],
      "metadata": {
        "id": "gLTgmlEYoiWi"
      },
      "execution_count": null,
      "outputs": []
    },
    {
      "cell_type": "markdown",
      "source": [
        "PandasはNumPyとの親和性が高くNumPyのndarrayからシリーズを作り出す事が出来ます。"
      ],
      "metadata": {
        "id": "YmfqPbiQpD_9"
      }
    },
    {
      "cell_type": "code",
      "source": [
        "# Pythonのリスト\n",
        "k1_height_ndarray = np.array([180,171,175,164,155,173,168])\n",
        "# Pandasのシリーズ\n",
        "k1_height_series = pd.Series(k1_height_ndarray)\n",
        "print(k1_height_ndarray)\n",
        "print(\"====\")\n",
        "print(k1_height_series)"
      ],
      "metadata": {
        "id": "pk2RHo0opPCl"
      },
      "execution_count": null,
      "outputs": []
    },
    {
      "cell_type": "markdown",
      "source": [
        "デフォルトではインデクス(左の列に振られている通番)は0から増加する整数が割り当てられていますが、これを任意のラベルに変更する事も可能です。またデータそのものにタイトルを付ける事もできます。"
      ],
      "metadata": {
        "id": "Rlra69Gkptb9"
      }
    },
    {
      "cell_type": "code",
      "source": [
        "k1_labels = ['aさん','bさん','cさん','dさん','eさん','fさん','gさん']\n",
        "k1_height_labeled_series = pd.Series(k1_height_ndarray, index=k1_labels, name=\"身長一覧\")\n",
        "print(k1_height_labeled_series)"
      ],
      "metadata": {
        "id": "btODgP5mp6Gp"
      },
      "execution_count": null,
      "outputs": []
    },
    {
      "cell_type": "markdown",
      "source": [
        "ただ、あまりインデクスを別のリストとして作る事は、プログラムのデータ取り扱いとして、手間です。大抵のケースで辞書型のデータから作り出す事で、これを達成するのが容易です。"
      ],
      "metadata": {
        "id": "F0fyiZP0qh30"
      }
    },
    {
      "cell_type": "code",
      "source": [
        "k1_height_dict = {\n",
        "    'aさん':180,\n",
        "    'bさん':171,\n",
        "    'cさん':175,\n",
        "    'dさん':164,\n",
        "    'eさん':155,\n",
        "    'fさん':173,\n",
        "    'gさん':168\n",
        "}"
      ],
      "metadata": {
        "id": "2rUyvwGHqwKi"
      },
      "execution_count": null,
      "outputs": []
    },
    {
      "cell_type": "markdown",
      "source": [
        "ではこの**k1_height_dict**からシリーズを作り、きちんと格納されたか確認してください。"
      ],
      "metadata": {
        "id": "we0ZLPVHrK4i"
      }
    },
    {
      "cell_type": "code",
      "source": [
        "# 1 # k1_height_dictからシリーズを作る\n"
      ],
      "metadata": {
        "id": "HX6ofyQvrVmr"
      },
      "execution_count": null,
      "outputs": []
    },
    {
      "cell_type": "markdown",
      "source": [
        "#### 💯解答例[1本目]"
      ],
      "metadata": {
        "id": "dWrtf8DPlzXA"
      }
    },
    {
      "cell_type": "code",
      "source": [
        "k1_height_series = pd.Series(k1_height_dict)\n",
        "print( k1_height_series )"
      ],
      "metadata": {
        "id": "tf8ASWuIrY4E"
      },
      "execution_count": null,
      "outputs": []
    },
    {
      "cell_type": "markdown",
      "source": [
        "##### 🐍補足"
      ],
      "metadata": {
        "id": "lAYOwQi2sJgi"
      }
    },
    {
      "cell_type": "markdown",
      "source": [
        "NumPyのndarrayでは四則演算がそのまま各要素の演算として展開されました。ではSeriesではどうでしょうか。センチをインチに変換する0.3937を作っ多シリーズに掛けてみましょう。"
      ],
      "metadata": {
        "id": "wNjwMa-_sMDM"
      }
    },
    {
      "cell_type": "code",
      "source": [
        "k1_height_series * 0.3937"
      ],
      "metadata": {
        "id": "-4RGmKOjr94b"
      },
      "execution_count": null,
      "outputs": []
    },
    {
      "cell_type": "markdown",
      "source": [
        "全ての要素がインチになりました。PandasのデータもNumPyのような演算処理が可能になっています。"
      ],
      "metadata": {
        "id": "NMuqXCYwsZLY"
      }
    },
    {
      "cell_type": "markdown",
      "source": [
        "### 💮[2本目] データ型『データフレーム』"
      ],
      "metadata": {
        "id": "_yMAf3Ztgy_b"
      }
    },
    {
      "cell_type": "markdown",
      "source": [
        "シリーズは文字通りデータ列を表していますが、実際のエクセル等でデータを表現する時は、表形式だと思います。この表形式を表現するのがデータフレームです。Pandasを使うという事は、すなわちこのデータフレームを使うという事と同義だと思って構いません。それほど重要かつ中心の機能です。"
      ],
      "metadata": {
        "id": "c4XeXKs3sjrm"
      }
    },
    {
      "cell_type": "markdown",
      "source": [
        "簡単なテスト用データを作ってみましょう。個々では以下の表を作る事を想定します。\n",
        "\n",
        "| laebl | did | price |\n",
        "|:-------- |:-:| ----:|\n",
        "| シャブリ | A | 2400 |\n",
        "| ジュヴレシャンベルタン | A | 3000 |\n",
        "| サンテミリオン | B| 5800 |\n",
        "| オーメドック | B | 2200 | \n",
        "| サンセール | C | 2800 |\n",
        "| シャンパン | D | 4000 |"
      ],
      "metadata": {
        "id": "QxEtWmy6tAdZ"
      }
    },
    {
      "cell_type": "code",
      "source": [
        "labels = ['シャブリ','ジュヴレシャンベルタン','サンテミリオン','オーメドック','サンセール','シャンパン']\n",
        "dids = ['A','A','B','B','C','D']\n",
        "prices = [2400,3000,5800,2200,2800,4000]\n",
        "k2_wines = pd.DataFrame({\n",
        "    'label':labels,\n",
        "    'did':dids,\n",
        "    'price':prices\n",
        "})\n",
        "print(k2_wines)"
      ],
      "metadata": {
        "id": "tw9ir1KEuUc3"
      },
      "execution_count": null,
      "outputs": []
    },
    {
      "cell_type": "markdown",
      "source": [
        "あるいはレコード(横方向の組)で入れたい場合は[**Pandas.DataFrame.from_records関数**](https://pandas.pydata.org/docs/reference/api/pandas.DataFrame.from_records.html)が使えます。\n",
        "\n",
        "それでは、リファレンスを見ながら以下の**k2_records**からデータフレームを作ってみましょう。columsの指定も忘れずに行って下さい。"
      ],
      "metadata": {
        "id": "ql2wYqLHvUwM"
      }
    },
    {
      "cell_type": "code",
      "source": [
        "k2_records = [\n",
        "    ['シャブリ','A',2400],\n",
        "    ['ジュヴレシャンベルタン','A',3000],\n",
        "    ['サンテミリオン','B',5800],\n",
        "    ['オーメドック','B',2200],\n",
        "    ['サンセール','C',2800],\n",
        "    ['シャンパン','D',4000]\n",
        "]"
      ],
      "metadata": {
        "id": "2b03gU_pxs-p"
      },
      "execution_count": null,
      "outputs": []
    },
    {
      "cell_type": "markdown",
      "source": [
        "#### 💯解答例[2本目]"
      ],
      "metadata": {
        "id": "S9kN3Mtol1DK"
      }
    },
    {
      "cell_type": "code",
      "source": [
        "\n",
        "k2_wines_records = pd.DataFrame.from_records(k2_records,columns=['label','did','price'])\n",
        "k2_wines_records"
      ],
      "metadata": {
        "id": "fbXva1N_vtYt"
      },
      "execution_count": null,
      "outputs": []
    },
    {
      "cell_type": "markdown",
      "source": [
        "### 💮[3本目] インデクス"
      ],
      "metadata": {
        "id": "GLBs-4TPg9SC"
      }
    },
    {
      "cell_type": "markdown",
      "source": [
        "データフレームをprintした時に表れる、一番左の列の事をインデクスと呼びます。インデクスは```pandas.DataFrame.index```で取得できます。\n",
        "\n",
        "また取得したインデクスに何等かの処理をして、再付与する事も可能です。では、**k2_wines**テーブルからインデクスを取り出し、シャッフルし、再付与してみましょう。また、シャッフルしたインデクス順にデータをソートして表示してみましょう。\n",
        "\n",
        "インデクスの再付与は\n",
        "```\n",
        "k2_wines.index = 新しいインデクス(リスト型)\n",
        "```\n",
        "で行えます。また```k2_wine.sort_index()```でインデクスでソートされたデータフレームを取得できます。途中までコードが書いてありますので、完成させま私用。"
      ],
      "metadata": {
        "id": "9zgZnLr-yf8k"
      }
    },
    {
      "cell_type": "code",
      "source": [
        "import random\n",
        "# k2_winesのインデクスを取り出してリストにする\n",
        "k2_wines_index = k2_wines.index.tolist()\n",
        "# シャッフルする\n",
        "random.shuffle(k2_wines_index)\n",
        "# シャッフルされたか確認\n",
        "print(k2_wines_index)\n",
        "\n",
        "# 2 # シャッフルしたk2_wines_indexをk2_wineに再インデクス付与しインデクスでソート\n"
      ],
      "metadata": {
        "id": "DoyYCJGByv_r"
      },
      "execution_count": null,
      "outputs": []
    },
    {
      "cell_type": "markdown",
      "source": [
        "#### 💯解答例[3本目]"
      ],
      "metadata": {
        "id": "-TJqyckal2gd"
      }
    },
    {
      "cell_type": "code",
      "source": [
        "k2_wines.index = k2_wines_index\n",
        "print(k2_wines)\n",
        "print(\"=== インデクスでソートして表示 ===\")\n",
        "print(k2_wines.sort_index())"
      ],
      "metadata": {
        "id": "WuQs_NoZ2R8j"
      },
      "execution_count": null,
      "outputs": []
    },
    {
      "cell_type": "markdown",
      "source": [
        "## 🌀データを見る【基本】"
      ],
      "metadata": {
        "id": "M2wZiKdnhN05"
      }
    },
    {
      "cell_type": "markdown",
      "source": [
        "### 💮実サンプルデータに触ってみよう"
      ],
      "metadata": {
        "id": "bYrZOMv4hVcH"
      }
    },
    {
      "cell_type": "markdown",
      "source": [
        "折角なので、実際の統計情報を扱ってみましょう。ここではカリフォルニア大学アーバイン校(UCI)が公開しているAdult Data Setを読みます。このデータは1994年の国勢調査データの一部です。年齢や学歴、職業、性別、収入等が含まれています。\n",
        "\n",
        "関数等の使い方はこの後に説明するので、まずは、どんな事ができるのかの概要をつかみましょう。"
      ],
      "metadata": {
        "id": "Jz7mfZQJ6uH7"
      }
    },
    {
      "cell_type": "code",
      "source": [
        "url = 'https://archive.ics.uci.edu/ml/machine-learning-databases/adult/adult.data'\n",
        "df_adult = pd.read_csv(url,header=None,skipinitialspace=True)\n",
        "df_adult.columns = ['age','workclass','fnlwgt','education','education-num','marital-status','occupation','relationship','race','sex','capital-gain','capital-loss','hours-per-week','native-country','income']\n"
      ],
      "metadata": {
        "id": "ZMEQgXJv4whY"
      },
      "execution_count": null,
      "outputs": []
    },
    {
      "cell_type": "markdown",
      "source": [
        "これで読み込めました。カラム名はデータに含まれていないので別途付与しています。\n",
        "\n",
        "さて、まず、データの先頭と末尾を見てみましょう。**head関数**と**tail関数**で行います。"
      ],
      "metadata": {
        "id": "ppz72Ea87iMM"
      }
    },
    {
      "cell_type": "code",
      "source": [
        "df_adult.head()"
      ],
      "metadata": {
        "id": "_KmIuDpJ7uCA"
      },
      "execution_count": null,
      "outputs": []
    },
    {
      "cell_type": "code",
      "source": [
        "df_adult.tail()"
      ],
      "metadata": {
        "id": "ylnm20Lv78Pb"
      },
      "execution_count": null,
      "outputs": []
    },
    {
      "cell_type": "markdown",
      "source": [
        "データの統計情報も簡単に出せます。例えばageの統計情報を見てみましょう。[**Pandas.DataFrame.decscibe関数**](https://pandas.pydata.org/docs/reference/api/pandas.DataFrame.describe.html)で行います。"
      ],
      "metadata": {
        "id": "Ks0Vj3GG76_O"
      }
    },
    {
      "cell_type": "code",
      "source": [
        "df_adult['age'].describe()"
      ],
      "metadata": {
        "id": "hAafiSPS8b3j"
      },
      "execution_count": null,
      "outputs": []
    },
    {
      "cell_type": "markdown",
      "source": [
        "女性のみの統計量も簡単に取得できます。"
      ],
      "metadata": {
        "id": "J_zI7zzu9u7w"
      }
    },
    {
      "cell_type": "code",
      "source": [
        "df_adult[df_adult['sex'] == 'Female']['age'].describe()"
      ],
      "metadata": {
        "id": "QEjV4N7U91nx"
      },
      "execution_count": null,
      "outputs": []
    },
    {
      "cell_type": "markdown",
      "source": [
        "文字列を含むカラムの場合は、異なる統計量が出て来ます。"
      ],
      "metadata": {
        "id": "WpkO4rGV8mD3"
      }
    },
    {
      "cell_type": "code",
      "source": [
        "df_adult[['education','workclass']].describe()"
      ],
      "metadata": {
        "id": "9OrT6B1k8q-K"
      },
      "execution_count": null,
      "outputs": []
    },
    {
      "cell_type": "markdown",
      "source": [
        "次は、データを年齢と修学年数でソートして表示します。（元のデータがソートされるのでなく、ソートされたデータを得る操作になります。）"
      ],
      "metadata": {
        "id": "1hYAoH-z-L1c"
      }
    },
    {
      "cell_type": "code",
      "source": [
        "df_adult.sort_values(by=['age','education-num']).head()"
      ],
      "metadata": {
        "id": "3cwDGHPY-Z6S"
      },
      "execution_count": null,
      "outputs": []
    },
    {
      "cell_type": "markdown",
      "source": [
        "このように、従来はエクセルや統計用のソフトを使ってやっていたことが、Pythonのプログラムとして簡単に行えることが分かります。\n",
        "\n",
        "では、次にここでやった操作も含めてデータフレームの使い方を学びましょう。"
      ],
      "metadata": {
        "id": "rYFv4I6k--Hu"
      }
    },
    {
      "cell_type": "markdown",
      "source": [
        "## 🌀データ参照【基本】"
      ],
      "metadata": {
        "id": "C8q-UoANhyu3"
      }
    },
    {
      "cell_type": "markdown",
      "source": [
        "### 💮[4本目] データ参照方法"
      ],
      "metadata": {
        "id": "xvS9OYt4idur"
      }
    },
    {
      "cell_type": "markdown",
      "source": [
        "データフレームは配列のようにアクセス可能です。例えばインデクスが2のデータを得る場合は次のようにします。"
      ],
      "metadata": {
        "id": "yIs68LhJGJaI"
      }
    },
    {
      "cell_type": "code",
      "source": [
        "df_adult.loc[2]"
      ],
      "metadata": {
        "id": "aYTD3qoZGRcT"
      },
      "execution_count": null,
      "outputs": []
    },
    {
      "cell_type": "markdown",
      "source": [
        "**loc**と似たような機能で**iloc**というのがあります。"
      ],
      "metadata": {
        "id": "eEnD5cKpHF0J"
      }
    },
    {
      "cell_type": "code",
      "source": [
        "df_adult.iloc[2]"
      ],
      "metadata": {
        "id": "Yg0PSK8ZHKwh"
      },
      "execution_count": null,
      "outputs": []
    },
    {
      "cell_type": "markdown",
      "source": [
        "２つとも同じ行が表示されました。でも、この２者には明確な違いがあります。\n",
        "\n",
        "では**k2_wines**データフレームで考えましょう。"
      ],
      "metadata": {
        "id": "ofzQsTRwHgSU"
      }
    },
    {
      "cell_type": "code",
      "source": [
        "k2_wines"
      ],
      "metadata": {
        "id": "_Uolv-50Htl6"
      },
      "execution_count": null,
      "outputs": []
    },
    {
      "cell_type": "markdown",
      "source": [
        "このテーブルに対してloc[1]とiloc[1]を試して、何が違うのか考察してみましょう。"
      ],
      "metadata": {
        "id": "uLy4jtHuHwDf"
      }
    },
    {
      "cell_type": "code",
      "source": [
        "# 4 # locとilocの違い\n"
      ],
      "metadata": {
        "id": "s-wbdZp-H13o"
      },
      "execution_count": null,
      "outputs": []
    },
    {
      "cell_type": "markdown",
      "source": [
        "#### 💯解答例[4本目]"
      ],
      "metadata": {
        "id": "LBEeOuGLl4Nh"
      }
    },
    {
      "cell_type": "code",
      "source": [
        "print(\"loc[1]\")\n",
        "print( k2_wines.loc[1] )\n",
        "print(\"iloc[1]\")\n",
        "print( k2_wines.iloc[1] )"
      ],
      "metadata": {
        "id": "38RkxmrXH57M"
      },
      "execution_count": null,
      "outputs": []
    },
    {
      "cell_type": "markdown",
      "source": [
        "違うものが出て来ました。\n",
        "\n",
        "元々のテーブルと見比べてみてください。**loc**はインデクスが1の所が出力されています。一方で**iloc**の方が(0スタートで)1行目が表示されている事が分かります。\n",
        "\n",
        "つまり**loc**はインデクスに基づく参照、**iloc**は位置に基づく参照であると分かります。"
      ],
      "metadata": {
        "id": "pcN2XNmNIN9I"
      }
    },
    {
      "cell_type": "markdown",
      "source": [
        "### 💮[5本目] スライス"
      ],
      "metadata": {
        "id": "jIx5a4ZYirzA"
      }
    },
    {
      "cell_type": "markdown",
      "source": [
        "リストやndarrayと同じようにデータフレームも豊富なスライシングを行えます。\n",
        "\n",
        "* ```DataFrame[label]```\n",
        "  * データフレームの列ラベルを指定して列を選択\n",
        "* ```DataFrame[[label1,label2]]```\n",
        "  * データフレームの複数の列ラベルを指定して列を選択\n",
        "* ```DataFrame[iloc1:iloc2]```\n",
        "  * データフレームの行位置インデクスを指定して行の範囲を選択\n",
        "* ```DataFrame.loc[label]```\n",
        "  * データフレームの行ラベルを指定して行を選択\n",
        "* ```DataFrame.loc[:,label]```\n",
        "  * データフレームの列ラベルを指定して全行を選択\n",
        "* ```DataFrame.iloc[iloc]```\n",
        "  * データフレームの行の位置インデクスをしていして行を選択\n",
        "* ```DataFrame.iloc[[iloc1,iloc2]]```\n",
        "  * データフレームの複数の行の位置インデクスを指定して複数行を選択\n",
        "* ```DataFrame.iloc[iloc1,iloc2]```\n",
        "  * データフレームの行インデクスiloc1と列インデクスiloc2を指定して要素を選択\n"
      ],
      "metadata": {
        "id": "mIxCsDGXJ5YQ"
      }
    },
    {
      "cell_type": "markdown",
      "source": [
        "それでは、k2_wineに対して様々なスライシングをしてみましょう。"
      ],
      "metadata": {
        "id": "nZ4Wg2KJIWgV"
      }
    },
    {
      "cell_type": "code",
      "source": [
        "# 5 # k2_wineのスライシング（一個一個コードボックスを作ると見やすいです）\n"
      ],
      "metadata": {
        "id": "zJSArAHcIc3X"
      },
      "execution_count": null,
      "outputs": []
    },
    {
      "cell_type": "markdown",
      "source": [
        "#### 💯解答例[5本目]"
      ],
      "metadata": {
        "id": "lNmjvBqgl5gB"
      }
    },
    {
      "cell_type": "code",
      "source": [
        "k2_wines['label']"
      ],
      "metadata": {
        "id": "xFjnSSZ7Gqv7"
      },
      "execution_count": null,
      "outputs": []
    },
    {
      "cell_type": "code",
      "source": [
        "k2_wines[['label','price']]"
      ],
      "metadata": {
        "id": "dTyGgwslHTwG"
      },
      "execution_count": null,
      "outputs": []
    },
    {
      "cell_type": "code",
      "source": [
        "k2_wines[1:3]"
      ],
      "metadata": {
        "id": "s295pq-YHUOF"
      },
      "execution_count": null,
      "outputs": []
    },
    {
      "cell_type": "code",
      "source": [
        "k2_wines.loc[2]"
      ],
      "metadata": {
        "id": "OEkwoc79Hdgw"
      },
      "execution_count": null,
      "outputs": []
    },
    {
      "cell_type": "code",
      "source": [
        "k2_wines.loc[:,'label']"
      ],
      "metadata": {
        "id": "73QUafx5HjY7"
      },
      "execution_count": null,
      "outputs": []
    },
    {
      "cell_type": "code",
      "source": [
        "k2_wines.iloc[2]"
      ],
      "metadata": {
        "id": "9ts1oLv2HvCs"
      },
      "execution_count": null,
      "outputs": []
    },
    {
      "cell_type": "code",
      "source": [
        "k2_wines.iloc[[2,3]]"
      ],
      "metadata": {
        "id": "Zecx_uS0H0pE"
      },
      "execution_count": null,
      "outputs": []
    },
    {
      "cell_type": "code",
      "source": [
        "k2_wines.iloc[3,0]"
      ],
      "metadata": {
        "id": "zVT2DB0aH8ZY"
      },
      "execution_count": null,
      "outputs": []
    },
    {
      "cell_type": "markdown",
      "source": [
        "### 💮[6本目] プロパティー参照"
      ],
      "metadata": {
        "id": "0dnIiUL3iuAV"
      }
    },
    {
      "cell_type": "markdown",
      "source": [
        "データフレームの列は配列添え字として参照する方法の他、プロパティのように参照する事も可能です。たとえば以下の二者は全く同じです。"
      ],
      "metadata": {
        "id": "erEaSypUJncE"
      }
    },
    {
      "cell_type": "code",
      "source": [
        "print( k2_wines['price'] )\n",
        "print( k2_wines.price )"
      ],
      "metadata": {
        "id": "5uA-3frmIx7Z"
      },
      "execution_count": null,
      "outputs": []
    },
    {
      "cell_type": "markdown",
      "source": [
        "ただしプロパティとしてアクセスする場合はラベルに使える文字に制約があります。変数名として使える文字の並びでなければなりません。例えば**df_adult**の**sex**はプロパティとして参照できますが、**education-num**は「**-**」が入っているので、プロパティとして参照できません。プロパティとして参照したい場合はデータフレームの列名を気を付けましょう。"
      ],
      "metadata": {
        "id": "AQbSwj4XKrCo"
      }
    },
    {
      "cell_type": "code",
      "source": [
        "print(df_adult.sex)\n",
        "# print(df_adult.education-num) # こちらはエラーが出ます"
      ],
      "metadata": {
        "id": "3rWgKqNfKsRz"
      },
      "execution_count": null,
      "outputs": []
    },
    {
      "cell_type": "markdown",
      "source": [
        "それでは、df_winesのlabelをプロパティとして参照してみましょう。"
      ],
      "metadata": {
        "id": "AThVN-fbKJu3"
      }
    },
    {
      "cell_type": "code",
      "source": [
        "# 6 # k2_winesのlabel列をプロパティとして参照する\n"
      ],
      "metadata": {
        "id": "YC5xoNhrLpPe"
      },
      "execution_count": null,
      "outputs": []
    },
    {
      "cell_type": "markdown",
      "source": [
        "#### 💯解答例[6本目]"
      ],
      "metadata": {
        "id": "_ks1tZDEl61L"
      }
    },
    {
      "cell_type": "code",
      "source": [
        "k2_wines.label"
      ],
      "metadata": {
        "id": "PejinvfZLzQp"
      },
      "execution_count": null,
      "outputs": []
    },
    {
      "cell_type": "markdown",
      "source": [
        "### 💮[7本目] 条件式による参照"
      ],
      "metadata": {
        "id": "2m9lwl5PjLLS"
      }
    },
    {
      "cell_type": "markdown",
      "source": [
        "巨大なデータフレームから目的のデータを検索する時、indexや列名を指定してそこにたどり着くのは容易ではありません。なので、条件を指定し、その条件に合致する行と列を取り出す方法を学びましょう。\n",
        "\n",
        "まずはもう一度k2_wineテーブルを確認しましょう。"
      ],
      "metadata": {
        "id": "rNmARTxoL6AE"
      }
    },
    {
      "cell_type": "code",
      "source": [
        "k2_wines"
      ],
      "metadata": {
        "id": "WJD6ShJmNcY7"
      },
      "execution_count": null,
      "outputs": []
    },
    {
      "cell_type": "markdown",
      "source": [
        "3000円以上のワインを調べます。調べ方はお馴染み比較演算子を使います。データフレームの列に対して比較演算子で3000円以上としてみましょう。"
      ],
      "metadata": {
        "id": "ZqQP4Us7NmCb"
      }
    },
    {
      "cell_type": "code",
      "source": [
        "k2_wines['price']>=3000"
      ],
      "metadata": {
        "id": "DfVOuOhJNuIs"
      },
      "execution_count": null,
      "outputs": []
    },
    {
      "cell_type": "markdown",
      "source": [
        "そうすると、TrueとFalseの配列が出て来ます。k2_winesと見比べてください。3000円以上の列がTrue、それ以外がFalseになっている事が分かります。\n",
        "\n",
        "このTrueとFalseのシリーズを、データフレームの添え字とすると、Trueの行のみ、すなわち、3000円以上のワインのみが選択されます。"
      ],
      "metadata": {
        "id": "WZLIP51gOXN1"
      }
    },
    {
      "cell_type": "code",
      "source": [
        "k2_wines[k2_wines['price']>=3000]"
      ],
      "metadata": {
        "id": "x4keutiMPB8f"
      },
      "execution_count": null,
      "outputs": []
    },
    {
      "cell_type": "markdown",
      "source": [
        "条件は複数指定する事も出来ます。3000円以上かつdidがD以外のものを選択してみましょう。"
      ],
      "metadata": {
        "id": "ghAHuSfRPanU"
      }
    },
    {
      "cell_type": "code",
      "source": [
        "k2_wines[(k2_wines['price']>=3000) & (k2_wines['did']!='D')]"
      ],
      "metadata": {
        "id": "aUguYzkXPdpx"
      },
      "execution_count": null,
      "outputs": []
    },
    {
      "cell_type": "markdown",
      "source": [
        "では、priceが2500円未満もしくは5000円以上のワインを選択してください。"
      ],
      "metadata": {
        "id": "_pj9WDBZQ4ZF"
      }
    },
    {
      "cell_type": "code",
      "source": [
        "# 6 # priceが2500円未満もしくは5000円以上のワイン\n"
      ],
      "metadata": {
        "id": "R22b6220Q_i_"
      },
      "execution_count": null,
      "outputs": []
    },
    {
      "cell_type": "markdown",
      "source": [
        "#### 💯解答例[7本目]"
      ],
      "metadata": {
        "id": "soYG5E9bl9dw"
      }
    },
    {
      "cell_type": "code",
      "source": [
        "k2_wines[(k2_wines['price']<2500) | (k2_wines['price']>=5000)]"
      ],
      "metadata": {
        "id": "Jq89NzUzRDBq"
      },
      "execution_count": null,
      "outputs": []
    },
    {
      "cell_type": "markdown",
      "source": [
        "## 🌀ファイルからの読み込み【発展】"
      ],
      "metadata": {
        "id": "lf1jQXVyjVew"
      }
    },
    {
      "cell_type": "markdown",
      "source": [
        "### 💮[8本目] CSVファイル"
      ],
      "metadata": {
        "id": "W-zsVcqtjYEs"
      }
    },
    {
      "cell_type": "markdown",
      "source": [
        "GitHub上にWinesテーブルが[CSVで置いてあります](https://github.com/YokoyamaLab/PythonBasics/blob/main/dataset/wines.csv)。それを**[Pandas.read_csv関数](https://pandas.pydata.org/docs/reference/api/pandas.read_csv.html)**を使って読み込んでみましょう。このCSVはk2_winesと同様のシャッフルしたindexもデータ(0列目)に含んでいるので**index_col=0**と引数に指定します。**read_csv**はこの他にも沢山のオプションがあるので、様々なデータを読み込むことができます。"
      ],
      "metadata": {
        "id": "SjnCH2iRUaTZ"
      }
    },
    {
      "cell_type": "code",
      "source": [
        "url = \"https://raw.githubusercontent.com/YokoyamaLab/PythonBasics/main/dataset/wines.csv\"\n",
        "k8_wines = pd.read_csv(url,index_col=0)\n",
        "k8_wines"
      ],
      "metadata": {
        "id": "FZfIzrp9S-G5"
      },
      "execution_count": null,
      "outputs": []
    },
    {
      "cell_type": "markdown",
      "source": [
        "ではもう一つ別のテーブルが**https://raw.githubusercontent.com/YokoyamaLab/PythonBasics/main/dataset/vineyard.csv**にあるので、それを読み込んでみましょう。なお、indexはデータに含まれていません。"
      ],
      "metadata": {
        "id": "jb2tjmuPXuBp"
      }
    },
    {
      "cell_type": "code",
      "source": [
        "# 8 # CSVの読み込み\n"
      ],
      "metadata": {
        "id": "22fdelVMbA5h"
      },
      "execution_count": null,
      "outputs": []
    },
    {
      "cell_type": "markdown",
      "source": [
        "#### 💯解答例[8本目]"
      ],
      "metadata": {
        "id": "zdtGEYA0mMlw"
      }
    },
    {
      "cell_type": "code",
      "source": [
        "url = \"https://raw.githubusercontent.com/YokoyamaLab/PythonBasics/main/dataset/vineyard.csv\"\n",
        "k8_vineyard = pd.read_csv(url)\n",
        "k8_vineyard"
      ],
      "metadata": {
        "id": "9G5fufocbEPB"
      },
      "execution_count": null,
      "outputs": []
    },
    {
      "cell_type": "markdown",
      "source": [
        "### 💮[9本目] Excelファイル"
      ],
      "metadata": {
        "id": "CIx1B2zgjcLI"
      }
    },
    {
      "cell_type": "markdown",
      "source": [
        "エクセルファイルも同様に読み込めます。シートの名前を入れれば、そのシートのデータを読み込みます。"
      ],
      "metadata": {
        "id": "UaKjKDUGel_d"
      }
    },
    {
      "cell_type": "code",
      "source": [
        "url = \"https://github.com/YokoyamaLab/PythonBasics/raw/main/dataset/wine.xlsx\"\n",
        "k9_wine = pd.read_excel(url, index_col=0, sheet_name='SheetWine')\n",
        "k9_wine"
      ],
      "metadata": {
        "id": "6tdn2aUTceoQ"
      },
      "execution_count": null,
      "outputs": []
    },
    {
      "cell_type": "markdown",
      "source": [
        "では、SheetVineyardシートをk9_vinyardに読み込んでみましょう。indexが無いので注意してください。"
      ],
      "metadata": {
        "id": "vfYHqtfYevgU"
      }
    },
    {
      "cell_type": "code",
      "source": [
        "# 9 # ExcelからVineyardテーブルの読み込み\n"
      ],
      "metadata": {
        "id": "hygW14uhfShH"
      },
      "execution_count": null,
      "outputs": []
    },
    {
      "cell_type": "markdown",
      "source": [
        "#### 💯解答例[9本目]"
      ],
      "metadata": {
        "id": "gBNOYBhLmOhO"
      }
    },
    {
      "cell_type": "code",
      "source": [
        "url = \"https://github.com/YokoyamaLab/PythonBasics/raw/main/dataset/wine.xlsx\"\n",
        "k9_vineyard = pd.read_excel(url, sheet_name='SheetVineyard')\n",
        "k9_vineyard"
      ],
      "metadata": {
        "id": "7niIKmfRfW-s"
      },
      "execution_count": null,
      "outputs": []
    },
    {
      "cell_type": "markdown",
      "source": [
        "## 🌀データ変形【発展】"
      ],
      "metadata": {
        "id": "b9a5ZO_dj2Dv"
      }
    },
    {
      "cell_type": "markdown",
      "source": [
        "### 💮[10本目] 列の追加"
      ],
      "metadata": {
        "id": "KUl3bDrzkBRo"
      }
    },
    {
      "cell_type": "markdown",
      "source": [
        "ではk2_wineに**color**というコラムを追加してみましょう。追加の方法はいくつかありますが、ここでは、スライスの所で出てきた指定方法を使って追加する例を紹介します。"
      ],
      "metadata": {
        "id": "HMZWTPdzgy2O"
      }
    },
    {
      "cell_type": "code",
      "source": [
        "k2_wines.loc[:,'color'] = ['白','赤','赤','赤','白','白']\n",
        "k2_wines"
      ],
      "metadata": {
        "id": "o2qvDkAyhaww"
      },
      "execution_count": null,
      "outputs": []
    },
    {
      "cell_type": "markdown",
      "source": [
        "それではk8_vinyardに国名を追加しましょう。チリはチリ、それ以外はフランスです。"
      ],
      "metadata": {
        "id": "P3eiAFE0neCR"
      }
    },
    {
      "cell_type": "code",
      "source": [
        "# 10 # k8_vineyardへ国名の追加\n"
      ],
      "metadata": {
        "id": "xLV3QECdiy74"
      },
      "execution_count": null,
      "outputs": []
    },
    {
      "cell_type": "markdown",
      "source": [
        "#### 💯解答例[10本目]"
      ],
      "metadata": {
        "id": "CsdFdo50mQj-"
      }
    },
    {
      "cell_type": "code",
      "source": [
        "k8_vineyard.loc[:,'country'] = ['フランス','フランス','フランス','フランス','チリ']\n",
        "k8_vineyard"
      ],
      "metadata": {
        "id": "ILUTa-RKn4hE"
      },
      "execution_count": null,
      "outputs": []
    },
    {
      "cell_type": "markdown",
      "source": [
        "### 💮[11本目] 行の追加(concat)"
      ],
      "metadata": {
        "id": "JQzCWY8_kE8W"
      }
    },
    {
      "cell_type": "markdown",
      "source": [
        "行の追加は、追加したい行からなるデータフレームを作成し、[**Pandas.concat関数**](https://pandas.pydata.org/docs/reference/api/pandas.concat.html)で連結させます。その際、デフォルトでは両方のindexをキープしてしまい重複が発生してしまいます。それを避けたい時は```ignore_index=True```としてインデクスを振り直します。(ただし、シャッフルしたインデクスも解除されてしまいます。)\n",
        "\n",
        "それでは、**k8_vineyard**に新たなワイン産地```[[\"J\",\"山梨県\",\"日本\"]]```を追加しましょう。"
      ],
      "metadata": {
        "id": "kGkYgZgcOxyQ"
      }
    },
    {
      "cell_type": "code",
      "source": [
        "k11_new_vineyard = pd.DataFrame.from_records(\n",
        "    [[\"J\",\"山梨県\",\"日本\"]],\n",
        "    columns=[\"did\",\"district\",\"country\"])\n",
        "k11_vineyard = pd.concat([k8_vineyard, k11_new_vineyard], ignore_index=True)\n",
        "k11_vineyard"
      ],
      "metadata": {
        "id": "qQz5iWiosmPW"
      },
      "execution_count": null,
      "outputs": []
    },
    {
      "cell_type": "markdown",
      "source": [
        "同様にk2_winesに以下の２つのワインを加えてみましょう。\n",
        "```\n",
        "[\n",
        "  [\"プイィ・フュメ\",\"C\",3800,\"白\"],\n",
        "  [\"甲州 鳥居平畑\",\"J\",4000,\"白\"]\n",
        "]\n",
        "```"
      ],
      "metadata": {
        "id": "UhEirHZQPiFQ"
      }
    },
    {
      "cell_type": "markdown",
      "source": [
        "#### 💯解答例[11本目]"
      ],
      "metadata": {
        "id": "FQQRM1_JmSrq"
      }
    },
    {
      "cell_type": "code",
      "source": [
        "k11_new_wine = pd.DataFrame.from_records(\n",
        "    [\n",
        "        [\"プイィ・フュメ\",\"C\",3800,\"白\"],\n",
        "        [\"甲州 鳥居平畑\",\"J\",4000,\"白\"]\n",
        "     ],\n",
        "    columns=['label','did','price','color'])\n",
        "k11_wines = pd.concat([k2_wines, k11_new_wine], ignore_index=True)\n",
        "k11_wines"
      ],
      "metadata": {
        "id": "elI3Uv8bnnfg"
      },
      "execution_count": null,
      "outputs": []
    },
    {
      "cell_type": "markdown",
      "source": [
        "### 💮[12本目] データ連結(merge)"
      ],
      "metadata": {
        "id": "l7BNSx61kWnJ"
      }
    },
    {
      "cell_type": "markdown",
      "source": [
        "ここでデータの**did**を考えます。ここにはアルファベットが１文字入っていますが、**k11_wines**に**もk11_vineyard**にも出現します。これは関係データベースでいうところの外部キーの役割を持っており、ワインの産地を示すためのキーになります。つまり**k11_wines**の**甲州 鳥居平畑**には**J**が割り振ってありますが、**k11_vineyard**を見ると**J**は**日本**の**山梨**であると定義されています。\n",
        "\n",
        "毎回２つのデータフレームに分かれていると何かと不便ですので、この２つのデータフレームを**did**が同じ値を取る行でくっつけてしまいましょう。それには[**Pandas.merge関数**](https://pandas.pydata.org/docs/reference/api/pandas.merge.html)を使います。\n",
        "\n",
        "```\n",
        "pd.merge(dataframe1,dataframe2,on=\"キー列名\")\n",
        "```\n",
        "\n",
        "この例を参考にdidをキーとしてk11_winesとk11_vineyardsをマージしてみましょう。"
      ],
      "metadata": {
        "id": "CuQNNFUYP7Jj"
      }
    },
    {
      "cell_type": "markdown",
      "source": [
        "#### 💯解答例[12本目]"
      ],
      "metadata": {
        "id": "VtBGExjcmUNj"
      }
    },
    {
      "cell_type": "code",
      "source": [
        "k12_wines = pd.merge(k11_wines,k11_vineyard,on=\"did\")\n",
        "k12_wines"
      ],
      "metadata": {
        "id": "SDwZDCnOuGMH"
      },
      "execution_count": null,
      "outputs": []
    },
    {
      "cell_type": "markdown",
      "source": [
        "### 💮[13本目] Group Byによる集計"
      ],
      "metadata": {
        "id": "V2bzWvFPkk3L"
      }
    },
    {
      "cell_type": "markdown",
      "source": [
        "データフレームにはも**mean関数**等の強力な統計系の関数が多数ありますが、リストとの比較においてデータフレームの利点は、指定したグループ毎の統計情報が簡単に取れる事です。\n",
        "\n",
        "例えば、k12_winesには白ワインと赤ワインが格納されていますが、色別の平均価格を出してみましょう。\n",
        "\n",
        "まずは色別にグループ可します。グループの**indices**プロパティを表示すると、色毎に位置インデクスが配列になっている事が分かります。"
      ],
      "metadata": {
        "id": "9GxumpOdRc69"
      }
    },
    {
      "cell_type": "code",
      "source": [
        "k13_grouped = k12_wines.groupby(\"color\")\n",
        "k13_grouped.indices"
      ],
      "metadata": {
        "id": "JZX6eYrLurC8"
      },
      "execution_count": null,
      "outputs": []
    },
    {
      "cell_type": "markdown",
      "source": [
        "**k13_grouped**には色毎にグループ可されたワインリストが入っています。これに対して値段の平均を得るには次のようにします。"
      ],
      "metadata": {
        "id": "v9U-gxsCSA64"
      }
    },
    {
      "cell_type": "code",
      "source": [
        "k13_grouped[\"price\"].mean()"
      ],
      "metadata": {
        "id": "tB4WuksUvP95"
      },
      "execution_count": null,
      "outputs": []
    },
    {
      "cell_type": "markdown",
      "source": [
        "これは、１行で書く事も可能です。"
      ],
      "metadata": {
        "id": "OqoKC4sqSMii"
      }
    },
    {
      "cell_type": "code",
      "source": [
        "k12_wines.groupby(\"color\")[\"price\"].mean()"
      ],
      "metadata": {
        "id": "bTlKXhQBOjaD"
      },
      "execution_count": null,
      "outputs": []
    },
    {
      "cell_type": "markdown",
      "source": [
        "さて、では組み合わせの問題です。k11_winesとk11_vineyardをマージしたものに対して、国別の最も安いワインを出してください。できればワンライナー(１行のプログラム)で。"
      ],
      "metadata": {
        "id": "VeC71rKESPs4"
      }
    },
    {
      "cell_type": "markdown",
      "source": [
        "#### 💯解答例[13本目]"
      ],
      "metadata": {
        "id": "uxBpnR0ImVpJ"
      }
    },
    {
      "cell_type": "code",
      "source": [
        "pd.merge(k11_wines,k11_vineyard,on=\"did\").groupby('country')[\"price\"].min()"
      ],
      "metadata": {
        "id": "VzvmdqDXmf4J"
      },
      "execution_count": null,
      "outputs": []
    },
    {
      "cell_type": "markdown",
      "source": [
        "## 🌀データ可視化【基本】"
      ],
      "metadata": {
        "id": "ejU7IgF2k8sd"
      }
    },
    {
      "cell_type": "markdown",
      "source": [
        "### 💮[14本目] 散布図"
      ],
      "metadata": {
        "id": "fmBaGUSwljpX"
      }
    },
    {
      "cell_type": "code",
      "source": [
        "df_adult.plot(kind='scatter', s=2, alpha=0.2, x='age',y='hours-per-week')"
      ],
      "metadata": {
        "id": "juSDO202mdK7"
      },
      "execution_count": null,
      "outputs": []
    },
    {
      "cell_type": "markdown",
      "source": [
        "ちなみに、男女別で色分けをしたい場合は、最初のプロットの返り値を保存しておき、重ねたいグラフのplot関数の引数axに指定します。また色(**color**)や透明度(**alpha**)やマーカー(**marker**)を設定しておくと、見やすいグラフになります。\n",
        "\n",
        "```\n",
        "ax = df.plot(～省略～,color='b',alpha=0.4)\n",
        "df2.plot(～省略～,ax=ax,color='r',alpha=0.4,marker=\"^\")\n",
        "```"
      ],
      "metadata": {
        "id": "BA3_ZWvZIplr"
      }
    },
    {
      "cell_type": "code",
      "source": [
        "ax = df_adult[df_adult['sex']=='Male'].plot(kind='scatter', color=\"b\", s=2, x='age',y='hours-per-week',alpha=0.4)\n",
        "df_adult[df_adult['sex']=='Female'].plot(kind='scatter', color=\"r\", s=2, marker=\"^\", x='age',y='hours-per-week',alpha=0.4,ax=ax)"
      ],
      "metadata": {
        "id": "ETHlOjKAqhkT"
      },
      "execution_count": null,
      "outputs": []
    },
    {
      "cell_type": "markdown",
      "source": [
        "散布図を重ねるのは注意が必要です。どちらを前にするか(あとで描画するか)で印象ががらりと変わります。この特性を留意した上で、どのように描画するかを決める必要があります。"
      ],
      "metadata": {
        "id": "1KVirgcMKhF7"
      }
    },
    {
      "cell_type": "code",
      "source": [
        "# MaleとFemaleを逆に描画する\n",
        "ax = df_adult[df_adult['sex']=='Female'].plot(kind='scatter', color=\"r\", s=2, x='age',y='hours-per-week',alpha=0.4)\n",
        "df_adult[df_adult['sex']=='Male'].plot(kind='scatter', color=\"b\", s=2, x='age',y='hours-per-week',alpha=0.4,ax=ax)"
      ],
      "metadata": {
        "id": "W_C380b4KhfI"
      },
      "execution_count": null,
      "outputs": []
    },
    {
      "cell_type": "markdown",
      "source": [
        "それでは、男女別の年齢×労働時間散布図を応用して、収入別の年齢×労働時間散布図を描いてみましょう。収入は**df_adult['income']**に**<=50K**か**>50K**と2分類されています。前者を赤、後者を青のマーカーとして散布図を作りましょう。"
      ],
      "metadata": {
        "id": "A659gQYkNwE1"
      }
    },
    {
      "cell_type": "code",
      "source": [
        "#  14  # 収入別の年齢×労働時間散布図\n"
      ],
      "metadata": {
        "id": "W47boaSNOTEP"
      },
      "execution_count": null,
      "outputs": []
    },
    {
      "cell_type": "markdown",
      "source": [
        "#### 💯解答例[14本目]"
      ],
      "metadata": {
        "id": "7vcR_31OmWxk"
      }
    },
    {
      "cell_type": "code",
      "source": [
        "ax = df_adult[df_adult['income']=='<=50K'].plot(kind='scatter', color=\"r\", s=2, x='age',y='hours-per-week',alpha=0.4)\n",
        "df_adult[df_adult['income']=='>50K'].plot(kind='scatter', color=\"b\", s=2, x='age',y='hours-per-week',alpha=0.4,ax=ax)"
      ],
      "metadata": {
        "id": "wDO1bIM0IovU"
      },
      "execution_count": null,
      "outputs": []
    },
    {
      "cell_type": "markdown",
      "source": [
        "### 💮[15本目] ヒストグラム"
      ],
      "metadata": {
        "id": "lDyLtNAClnGA"
      }
    },
    {
      "cell_type": "markdown",
      "source": [
        "散布図とは違ったタイプのグラフという事でヒストグラムも描いてみましょう。ヒストグラムはデータ系列を与えると同時にbinの数を指定します。\n"
      ],
      "metadata": {
        "id": "pD3s09z56aTb"
      }
    },
    {
      "cell_type": "code",
      "source": [
        "df_adult['age'].plot(kind='hist',bins=10)"
      ],
      "metadata": {
        "id": "Clb93uzr61FG"
      },
      "execution_count": null,
      "outputs": []
    },
    {
      "cell_type": "markdown",
      "source": [
        "では、ageの最大値と最小値を取得し、一歳がbinとなるように設定したヒストグラムを描いてください。"
      ],
      "metadata": {
        "id": "Yhf2-xpO7CZ8"
      }
    },
    {
      "cell_type": "markdown",
      "source": [
        "#### 💯解答例[15本目]"
      ],
      "metadata": {
        "id": "e9xGAOZImYU7"
      }
    },
    {
      "cell_type": "code",
      "source": [
        "bins=df_adult[\"age\"].max()-df_adult[\"age\"].min()+1\n",
        "df_adult['age'].plot(kind='hist',bins=bins)"
      ],
      "metadata": {
        "id": "NYSK43H97Td1"
      },
      "execution_count": null,
      "outputs": []
    },
    {
      "cell_type": "markdown",
      "source": [
        "### 💮[16本目] 円グラフ"
      ],
      "metadata": {
        "id": "cuu9aH76lorR"
      }
    },
    {
      "cell_type": "markdown",
      "source": [
        "さて、最後に定番の円グラフを描いてみましょう。**df_adult**には性別と学歴の列があります。まず男性の学歴を円グラフで見てみましょう。"
      ],
      "metadata": {
        "id": "4PDPU3FJtHg-"
      }
    },
    {
      "cell_type": "code",
      "source": [
        "df_adult[df_adult['sex']==\"Male\"]['education'].value_counts().plot(kind='pie')"
      ],
      "metadata": {
        "id": "ytMg06M5uXUw"
      },
      "execution_count": null,
      "outputs": []
    },
    {
      "cell_type": "markdown",
      "source": [
        "では次に、男性の円グラフと女性の円グラフを並べて描画してみましょう。グラフを並べて表示する時は**matplotlib**の[**subplots関数**](https://matplotlib.org/stable/api/_as_gen/matplotlib.pyplot.subplots.html)を使います。\n",
        "\n",
        "では、1行2列の描画領域を作成し、そこに２つグラフを並べてみましょう。"
      ],
      "metadata": {
        "id": "CKzZgqqFL0hp"
      }
    },
    {
      "cell_type": "code",
      "source": [
        "fig, axes = plt.subplots(1,2)\n",
        "\n",
        "df_adult[df_adult['sex']==\"Male\"]['education'].value_counts().plot(kind='pie',ax=axes[0])\n",
        "df_adult[df_adult['sex']==\"Female\"]['education'].value_counts().plot(kind='pie',ax=axes[1])\n",
        "plt.show()"
      ],
      "metadata": {
        "id": "lMXTA8RCta_U"
      },
      "execution_count": null,
      "outputs": []
    },
    {
      "cell_type": "markdown",
      "source": [
        "男女のグラフが並びました。「綺麗さ」を求めるにはオプションで細かくレイアウトを定める必要がありますが、時間の関係でここでは説明しません。\n",
        "\n",
        "さて、最後に少し複雑なコーディングを伴うグラフ表示に挑戦しましょう。\n",
        "\n",
        "まず**df_adult['workclass']**には職種が入っているのですが、そのデータの種類を見てみましょう。[**Pandas.DataFrame.drop_duplicates関数**](https://pandas.pydata.org/docs/reference/api/pandas.DataFrame.drop_duplicates.html)はデータから重複を除去します。ある列に対してこの関数を適用する事で、その列に含まれる値の**種類**を出す事が出来ます。"
      ],
      "metadata": {
        "id": "icNlt3nA7UW_"
      }
    },
    {
      "cell_type": "code",
      "source": [
        "for i in df_adult['workclass'].drop_duplicates():\n",
        "  print(i)"
      ],
      "metadata": {
        "id": "qeZezQKe-x2U"
      },
      "execution_count": null,
      "outputs": []
    },
    {
      "cell_type": "markdown",
      "source": [
        "DataFrameはFor文で全行走査する事ができるので、各値に対して何か処理を行う事が出来ます。\n",
        "\n",
        "もう一つ**値の種類**を出す方法は**groupby**を使う方法です。この方法は**count()**と併用する事で。値の首位と共に**それが何行あるのか**も調べる事ができます。"
      ],
      "metadata": {
        "id": "WAOMWKCk_vYw"
      }
    },
    {
      "cell_type": "code",
      "source": [
        "df_adult.groupby('income').count()"
      ],
      "metadata": {
        "id": "HxVW4bao8SEH"
      },
      "execution_count": null,
      "outputs": []
    },
    {
      "cell_type": "markdown",
      "source": [
        "ではここで最後のノックです。\n",
        "\n",
        "workclass毎にincomeを円グラフで表示してみましょう。円グラフは3列、3行に並べてください。\n",
        "\n",
        "尚、先ほどのsubplotの例は2列1行でしたが、複数行になる場合はaxesは二次元配列になるので注意してください。ちなみに、ここまで説明した方法では、円グラフの彩色は値の多い順に割り振られてしまい、固定ではありません。もし余力があれば、色を固定する方法を検索して実装してください。(分からなくても構いません。方法は解答で示しています。)\n",
        "```\n",
        "fig, axes = plt.subplots(2,2)\n",
        "df_adult[df_adult['sex']==\"Male\"]['education'].value_counts().plot(kind='pie',ax=axes[0,0])\n",
        "df_adult[df_adult['sex']==\"Female\"]['education'].value_counts().plot(kind='pie',ax=axes[0,1])\n",
        "plt.show()\n",
        "```"
      ],
      "metadata": {
        "id": "kE4DceETAwgH"
      }
    },
    {
      "cell_type": "code",
      "source": [
        "fig, axes = plt.subplots(3,3)\n",
        "\n",
        "# 16 # 3×3の円グラフを描く\n",
        "\n",
        "plt.show()"
      ],
      "metadata": {
        "id": "DCHhbMOSBl2t"
      },
      "execution_count": null,
      "outputs": []
    },
    {
      "cell_type": "markdown",
      "source": [
        "#### 💯解答例[16本目]"
      ],
      "metadata": {
        "id": "cYA-6ayLmZsG"
      }
    },
    {
      "cell_type": "code",
      "source": [
        "colours = {'<=50K': 'C0',\n",
        "           '>50K': 'C1'}\n",
        "fig, axes = plt.subplots(3,3)\n",
        "n = 0\n",
        "for workclass in df_adult['workclass'].drop_duplicates():\n",
        "  df = df_adult[df_adult['workclass']==workclass]['income'].value_counts()\n",
        "  df.plot(\n",
        "      kind='pie',\n",
        "      title=workclass,\n",
        "      ax=axes[n//3,n%3],\n",
        "      colors=df.keys().map(lambda x: colours[x])\n",
        "  )\n",
        "  n+=1"
      ],
      "metadata": {
        "id": "SKGsX9lDB8E-"
      },
      "execution_count": null,
      "outputs": []
    },
    {
      "cell_type": "markdown",
      "source": [
        "色を固定する手法を解説します。\n",
        "\n",
        "値と色の配列**colours**を作っておきます。**C0**、**C1**とはplotによる自動彩色の１番目の色、２番目の色という意味です。\n",
        "\n",
        "円グラフの彩色は**colors**オプションで設定します。ここにリストで色を指定します。ここでの問題は**df**において、**<=50K**と**>50K**がどちらが先にデータが入っているか分からないという事です。そこでdfのキーリスト(```[\"<=50K\",\">50K\"]```もしくは[\">50K\",\"<=50K\"])を得て、map関数とラムダ式を用いてそれを色のリスト(```[\"C0\",\"C1\"]```もしくは```[\"C1\",\"C0\"]```)に変換する事で色を固定しています。"
      ],
      "metadata": {
        "id": "MIs60wRKG54-"
      }
    }
  ]
}