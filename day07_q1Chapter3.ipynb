{
  "nbformat": 4,
  "nbformat_minor": 0,
  "metadata": {
    "colab": {
      "provenance": [],
      "authorship_tag": "ABX9TyN7geKFCWn2kE0Rv+0Hw0X8",
      "include_colab_link": true
    },
    "kernelspec": {
      "name": "python3",
      "display_name": "Python 3"
    },
    "language_info": {
      "name": "python"
    }
  },
  "cells": [
    {
      "cell_type": "markdown",
      "metadata": {
        "id": "view-in-github",
        "colab_type": "text"
      },
      "source": [
        "<a href=\"https://colab.research.google.com/github/YokoyamaLab/PythonBasics/blob/main/day07_q1Chapter3.ipynb\" target=\"_parent\"><img src=\"https://colab.research.google.com/assets/colab-badge.svg\" alt=\"Open In Colab\"/></a>"
      ]
    },
    {
      "cell_type": "markdown",
      "source": [
        "# Day07 課題1　教科書第三章"
      ],
      "metadata": {
        "id": "g8XIBMPDXXlz"
      }
    },
    {
      "cell_type": "code",
      "source": [
        "#@title 学籍番号、名前\n",
        "id = \"\" #@param {type:\"string\"}\n",
        "name = \"\" #@param {type:\"string\"}"
      ],
      "metadata": {
        "cellView": "form",
        "id": "cXVfoCXJXx4S"
      },
      "execution_count": null,
      "outputs": []
    },
    {
      "cell_type": "markdown",
      "source": [
        "教科書の第三章は機械学習の手順が一通り説明されています。ここで書かれている事は、殆どのアルゴリズムに共通の手順でする。トレーニングしてテストするという段階を一通り試してみましょう。\n",
        "\n",
        "自分のPython得意度に応じて松竹梅コースから一つ選んでください。\n",
        "\n",
        "- **梅コース**\n",
        "  - 教科書と同じデータとコードを使って試行する。ただし、講義時間内に終わらせること。\n",
        "- **竹コース**\n",
        "  - 梅コースに加えて、データのばらつきと個数を少し増やしたデータもやってみる。例えばほぼ一つのかたまりに見えるようなデータを生成しどうなるのかを確かめる。\n",
        "- **松コース**\n",
        "  - 梅コースに加えて、三つ・四つ・五つの塊を持つデータや、三日月型のデータなどを生成し、それを分ける事に挑戦する。\n",
        "\n",
        "  なお、どのコースを選択したかを以下にチェックしてください。\n"
      ],
      "metadata": {
        "id": "RS--L8vMXcnY"
      }
    },
    {
      "cell_type": "code",
      "source": [
        "松コース = False #@param {type:\"boolean\"}\n",
        "竹コース = False #@param {type:\"boolean\"}\n",
        "梅コース = False #@param {type:\"boolean\"}"
      ],
      "metadata": {
        "cellView": "form",
        "id": "_4XU-Q7J9rA0"
      },
      "execution_count": 2,
      "outputs": []
    },
    {
      "cell_type": "markdown",
      "source": [
        "それでは以下にコードを記してください。適宜コードブロックを分け、間に説明のためのテキストブロックを入れて、何をやっているのか分かりやすいノートにしてください。"
      ],
      "metadata": {
        "id": "HGS432IdgIYt"
      }
    },
    {
      "cell_type": "code",
      "source": [
        "# ここからコードを記せ"
      ],
      "metadata": {
        "id": "3FX1Eq_X_pQf"
      },
      "execution_count": null,
      "outputs": []
    }
  ]
}