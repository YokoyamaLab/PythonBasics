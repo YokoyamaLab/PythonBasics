{
  "nbformat": 4,
  "nbformat_minor": 0,
  "metadata": {
    "colab": {
      "provenance": [],
      "toc_visible": true,
      "include_colab_link": true
    },
    "kernelspec": {
      "name": "python3",
      "display_name": "Python 3"
    },
    "language_info": {
      "name": "python"
    }
  },
  "cells": [
    {
      "cell_type": "markdown",
      "metadata": {
        "id": "view-in-github",
        "colab_type": "text"
      },
      "source": [
        "<a href=\"https://colab.research.google.com/github/YokoyamaLab/PythonBasics/blob/2024/day07_q1NumPy.ipynb\" target=\"_parent\"><img src=\"https://colab.research.google.com/assets/colab-badge.svg\" alt=\"Open In Colab\"/></a>"
      ]
    },
    {
      "cell_type": "markdown",
      "source": [
        "# Day07 講義内課題1　NumPy"
      ],
      "metadata": {
        "id": "g8XIBMPDXXlz"
      }
    },
    {
      "cell_type": "code",
      "source": [],
      "metadata": {
        "id": "t9SSNWfv1yCk"
      },
      "execution_count": null,
      "outputs": []
    },
    {
      "cell_type": "code",
      "source": [
        "#@title 学籍番号、名前\n",
        "id = \"\" #@param {type:\"string\"}\n",
        "name = \"\" #@param {type:\"string\"}"
      ],
      "metadata": {
        "cellView": "form",
        "id": "cXVfoCXJXx4S"
      },
      "execution_count": null,
      "outputs": []
    },
    {
      "cell_type": "code",
      "source": [
        "import numpy as np\n",
        "import numpy.linalg as LA\n",
        "import random"
      ],
      "metadata": {
        "id": "2Qj7cqHk4wxI"
      },
      "execution_count": 1,
      "outputs": []
    },
    {
      "cell_type": "markdown",
      "source": [
        "# 課題"
      ],
      "metadata": {
        "id": "3pAiQ48W-xMJ"
      }
    },
    {
      "cell_type": "markdown",
      "source": [
        "任意のサイズの正方行列において、逆行列を持たない行列を探したい。以下の問に答えよ。"
      ],
      "metadata": {
        "id": "DIP-XNjH_Yh6"
      }
    },
    {
      "cell_type": "markdown",
      "source": [
        "## ステップ1"
      ],
      "metadata": {
        "id": "VVNKBIjp_UOI"
      }
    },
    {
      "cell_type": "markdown",
      "source": [
        "逆行列を持たない条件に基づいた関数を作成'''hasInv(M)'''せよ。引数に```numpy.array()```を取り、逆行列を持つ場合はTrue、逆行列を持たない場合はFalseを返せ。"
      ],
      "metadata": {
        "id": "Sqkhv6Zb-0Ba"
      }
    },
    {
      "cell_type": "code",
      "source": [
        "def hasInv(M):\n",
        "  pass # ここを書き換える"
      ],
      "metadata": {
        "id": "N1fdnKC3_ODo"
      },
      "execution_count": null,
      "outputs": []
    },
    {
      "cell_type": "markdown",
      "source": [
        "## ステップ2"
      ],
      "metadata": {
        "id": "zwxYbpko-w50"
      }
    },
    {
      "cell_type": "markdown",
      "source": [
        "-9から9のランダムな整数で構成されるn行n列の正方行列を作成し返す関数```createMatrix(n)'''を作成せよ。サイズを引数とし、ランダムな整数が要素となっているn行n列の行列を返せ。"
      ],
      "metadata": {
        "id": "2v--1nOZ_qp4"
      }
    },
    {
      "cell_type": "code",
      "source": [
        "def createMatrix(n):\n",
        "  pass # ここを書き換える"
      ],
      "metadata": {
        "id": "uNf965PDANcH"
      },
      "execution_count": null,
      "outputs": []
    },
    {
      "cell_type": "markdown",
      "source": [
        "## ステップ3"
      ],
      "metadata": {
        "id": "kx8YWlzlASal"
      }
    },
    {
      "cell_type": "markdown",
      "source": [
        "10万回繰り返すループを作成し、各回、ランダムな行列を作成し、それが逆行列を持たない場合のに```print()```関数にて画面に出力するコードを書け。"
      ],
      "metadata": {
        "id": "-z_1FaWEAU3D"
      }
    },
    {
      "cell_type": "code",
      "source": [
        "n = 5 # 五行五列(変更しても動くか確認せよ)\n",
        "\n",
        "# ここにループを書け"
      ],
      "metadata": {
        "id": "6vpZj4KNAUVO"
      },
      "execution_count": null,
      "outputs": []
    },
    {
      "cell_type": "markdown",
      "source": [
        "## ステップ3(改)"
      ],
      "metadata": {
        "id": "MpdEe2h9A1Dx"
      }
    },
    {
      "cell_type": "markdown",
      "source": [
        "[逆行列を求める関数の公式ドキュメント](https://numpy.org/doc/stable/reference/generated/numpy.linalg.inv.html)を読むと、何も自分で判定しなくても、逆行列を持たない行列が入力された場合***LinAlgError***というエラーが投げられるようである。エラーは***Try～Except文***でキャッチする事ができる。では上記のコードからhasInv関数を排除し、前述のエラーを活用して判定するコードを書け。"
      ],
      "metadata": {
        "id": "COlyTye8A403"
      }
    },
    {
      "cell_type": "code",
      "source": [
        "n = 5\n",
        "\n",
        "# ここにコードを記せ"
      ],
      "metadata": {
        "id": "Ods9rJ28BsE2"
      },
      "execution_count": null,
      "outputs": []
    }
  ]
}