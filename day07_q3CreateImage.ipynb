{
  "nbformat": 4,
  "nbformat_minor": 0,
  "metadata": {
    "colab": {
      "provenance": [],
      "include_colab_link": true
    },
    "kernelspec": {
      "name": "python3",
      "display_name": "Python 3"
    },
    "language_info": {
      "name": "python"
    }
  },
  "cells": [
    {
      "cell_type": "markdown",
      "metadata": {
        "id": "view-in-github",
        "colab_type": "text"
      },
      "source": [
        "<a href=\"https://colab.research.google.com/github/YokoyamaLab/PythonBasics/blob/2024/day07_q3CreateImage.ipynb\" target=\"_parent\"><img src=\"https://colab.research.google.com/assets/colab-badge.svg\" alt=\"Open In Colab\"/></a>"
      ]
    },
    {
      "cell_type": "markdown",
      "source": [
        "# Day07 課題3　数字画像の作成とアップロード"
      ],
      "metadata": {
        "id": "g8XIBMPDXXlz"
      }
    },
    {
      "cell_type": "code",
      "source": [
        "#@title 学籍番号、名前\n",
        "id = \"\" #@param {type:\"string\"}\n",
        "name = \"\" #@param {type:\"string\"}"
      ],
      "metadata": {
        "cellView": "form",
        "id": "cXVfoCXJXx4S"
      },
      "execution_count": null,
      "outputs": []
    },
    {
      "cell_type": "markdown",
      "source": [
        "# 課題説明"
      ],
      "metadata": {
        "id": "eAgEC_HdyMOZ"
      }
    },
    {
      "cell_type": "markdown",
      "source": [
        "> 【注意！】この課題は、このノートブックに書き込む課題ではありません。以下の説明を良く読んで、対応してください。"
      ],
      "metadata": {
        "id": "D3K85sWUyNwX"
      }
    },
    {
      "cell_type": "markdown",
      "source": [
        "次回講義は画像に書かれた数字(0～9)をPythonのコードで認識させる事に挑戦します。教科書にはすでに数字画像のデータがありますが、折角ですので、自分たちで描いた数字を使いましょう。\n",
        "\n",
        "というわけで、各自以下の手順で0～9の数字を描いて、[ここにアップロード](https://drive.google.com/drive/folders/1iFV-NnFh80PeoOh9esbI29fYlk_y5KmL?usp=drive_link)してください。\n",
        "\n",
        "- [お絵描きボード](https://oekaki.natureblue.com/)を開く\n",
        "- キャンパスサイズを**200×200**にする\n",
        "- 線の太さを太くする(ドロップダウンで選べるので太い線を選んでください)\n",
        "- 数字を描く\n",
        "- ダウンロードする\n",
        "    - この時、ファイル名を「学籍番号_数字.png」にしてください。\n",
        "    - 例: 4を描いたなら「G00000_4.png」のようにする\n",
        "- Google Driceの[指定されたフォルダ](https://drive.google.com/drive/folders/1iFV-NnFh80PeoOh9esbI29fYlk_y5KmL?usp=drive_link)にアップロードする\n",
        "- これを0～9まで繰り返す\n",
        "- 全部アップロードを終えたら、このClassroomの課題を提出する。"
      ],
      "metadata": {
        "id": "WzwNY88Huwq8"
      }
    }
  ]
}