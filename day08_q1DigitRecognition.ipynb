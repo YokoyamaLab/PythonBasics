{
  "nbformat": 4,
  "nbformat_minor": 0,
  "metadata": {
    "colab": {
      "provenance": [],
      "authorship_tag": "ABX9TyNEbUyKithYw47Ot6xbHxpu",
      "include_colab_link": true
    },
    "kernelspec": {
      "name": "python3",
      "display_name": "Python 3"
    },
    "language_info": {
      "name": "python"
    }
  },
  "cells": [
    {
      "cell_type": "markdown",
      "metadata": {
        "id": "view-in-github",
        "colab_type": "text"
      },
      "source": [
        "<a href=\"https://colab.research.google.com/github/YokoyamaLab/PythonBasics/blob/main/day08_q1DigitRecognition.ipynb\" target=\"_parent\"><img src=\"https://colab.research.google.com/assets/colab-badge.svg\" alt=\"Open In Colab\"/></a>"
      ]
    },
    {
      "cell_type": "markdown",
      "source": [
        "# Day08 講義中課題 文字画像認識"
      ],
      "metadata": {
        "id": "ok31ygr_mAqJ"
      }
    },
    {
      "cell_type": "code",
      "source": [
        "#@title 学籍番号、名前\n",
        "id = \"\" #@param {type:\"string\"}\n",
        "name = \"\" #@param {type:\"string\"}"
      ],
      "metadata": {
        "cellView": "form",
        "id": "cXVfoCXJXx4S"
      },
      "execution_count": null,
      "outputs": []
    },
    {
      "cell_type": "markdown",
      "source": [
        "教科書の四章は最終回にまわして、今日は五章をやります。\n",
        "\n",
        "教科書に書かれている事を一通りやった(梅コース)後、みんなで作った数字について認識して、うまくいく行かないを考察してみましょう(竹コース)。もし可能なら、学習にも取り入れて、精度がかわるのか試してみましょう(松コース)。\n",
        "\n",
        "[ヒント]文字の太さでうまくいかないがあるようです。\n",
        "\n",
        "発展課題で有志が皆さんが描いた画像を取り込むスクリプトを実装してくれました。ソースコードを共有するので、そのコードを使ってOKです。"
      ],
      "metadata": {
        "id": "qR3AZ6PrX8TP"
      }
    }
  ]
}