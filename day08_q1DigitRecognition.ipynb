{
  "nbformat": 4,
  "nbformat_minor": 0,
  "metadata": {
    "colab": {
      "provenance": [],
      "include_colab_link": true
    },
    "kernelspec": {
      "name": "python3",
      "display_name": "Python 3"
    },
    "language_info": {
      "name": "python"
    }
  },
  "cells": [
    {
      "cell_type": "markdown",
      "metadata": {
        "id": "view-in-github",
        "colab_type": "text"
      },
      "source": [
        "<a href=\"https://colab.research.google.com/github/YokoyamaLab/PythonBasics/blob/2024/day08_q1DigitRecognition.ipynb\" target=\"_parent\"><img src=\"https://colab.research.google.com/assets/colab-badge.svg\" alt=\"Open In Colab\"/></a>"
      ]
    },
    {
      "cell_type": "markdown",
      "source": [
        "# Day08 講義内課題01: 第五章　文字画像認識"
      ],
      "metadata": {
        "id": "ok31ygr_mAqJ"
      }
    },
    {
      "cell_type": "code",
      "source": [
        "#@title 学籍番号、名前\n",
        "id = \"\" #@param {type:\"string\"}\n",
        "name = \"\" #@param {type:\"string\"}"
      ],
      "metadata": {
        "id": "cXVfoCXJXx4S"
      },
      "execution_count": null,
      "outputs": []
    },
    {
      "cell_type": "markdown",
      "source": [
        "教科書の四章は最終回にまわして、今日は五章をやります。\n",
        "\n",
        "まずは、教科書に書かれている事を一通りやってみましょう。20分～30分時間を与えますので、講義内で完成し提出してください。(この後に応用課題があるので、ここでは教科書の内容を確認するだけでOKです。)"
      ],
      "metadata": {
        "id": "qR3AZ6PrX8TP"
      }
    },
    {
      "cell_type": "code",
      "source": [
        "## コードをここに"
      ],
      "metadata": {
        "id": "np9fDMuHrUq1"
      },
      "execution_count": null,
      "outputs": []
    }
  ]
}