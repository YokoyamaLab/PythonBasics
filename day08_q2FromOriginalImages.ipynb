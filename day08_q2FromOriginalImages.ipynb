{
  "nbformat": 4,
  "nbformat_minor": 0,
  "metadata": {
    "colab": {
      "provenance": [],
      "authorship_tag": "ABX9TyO+P63w1gY3+itkbHOBTZJ2",
      "include_colab_link": true
    },
    "kernelspec": {
      "name": "python3",
      "display_name": "Python 3"
    },
    "language_info": {
      "name": "python"
    }
  },
  "cells": [
    {
      "cell_type": "markdown",
      "metadata": {
        "id": "view-in-github",
        "colab_type": "text"
      },
      "source": [
        "<a href=\"https://colab.research.google.com/github/YokoyamaLab/PythonBasics/blob/2024/day08_q2FromOriginalImages.ipynb\" target=\"_parent\"><img src=\"https://colab.research.google.com/assets/colab-badge.svg\" alt=\"Open In Colab\"/></a>"
      ]
    },
    {
      "cell_type": "code",
      "source": [
        "from google.colab import drive\n",
        "drive.mount(\"/content/gdrive\")\n",
        "\n",
        "dir = \"/content/images/\"\n",
        "dir_original = \"/content/img/\"\n",
        "\n",
        "# Gdrive上からGoogle Colabの環境にダウンロードする\n",
        "!cp -r \"/content/gdrive/Shareddrives/2024-35A01／情報科学 e／横山 昌平/img\" \"/content\"\n",
        "# 学習用データのサイズに縮小した画像を保存するディレクトリの作成\n",
        "!mkdir \"images\""
      ],
      "metadata": {
        "colab": {
          "base_uri": "https://localhost:8080/"
        },
        "id": "qXmuh6uL31hK",
        "outputId": "99c9d071-7528-49c7-8e39-233a58e44ab2"
      },
      "execution_count": 43,
      "outputs": [
        {
          "output_type": "stream",
          "name": "stdout",
          "text": [
            "Drive already mounted at /content/gdrive; to attempt to forcibly remount, call drive.mount(\"/content/gdrive\", force_remount=True).\n",
            "mkdir: cannot create directory ‘images’: File exists\n"
          ]
        }
      ]
    },
    {
      "cell_type": "code",
      "source": [
        "import os\n",
        "import re\n",
        "from PIL import Image\n",
        "import numpy as np\n",
        "import pprint\n",
        "\n",
        "# ファイル名の一覧を取得（この講義では教えていないPython特有の書き方をしてみました）\n",
        "files = [\n",
        "    f for f in os.listdir(dir_original) if os.path.isfile(os.path.join(dir_original, f))\n",
        "]\n",
        "# とりあえずファイル一覧を表示してみる\n",
        "print(files)\n",
        "\n",
        "# 学習用画像のサイズ(一辺のピクセル数)\n",
        "size = 8\n",
        "\n",
        "# 数字毎にファイルパスを格納しておく辞書型の変数を準備する\n",
        "images = []\n",
        "numbers =  []\n",
        "# originalディレクトリの画像ファイルを縮小してimagesに入れる\n",
        "for file in files:\n",
        "  try:\n",
        "    # ファイルを開く\n",
        "    img = Image.open(dir_original + file)\n",
        "    # ファイルを指定されたサイズでリサイズし白黒化する\n",
        "    img_resized = img.resize((size, size),Image.ANTIALIAS).convert('L')\n",
        "    # 小さくしたファイルを保存する\n",
        "    img_resized.save(dir + file, quality=90)\n",
        "    # 正規表現で学籍番号、番号、拡張子に分割する\n",
        "    student,number,extension = re.split('[_.]', file)\n",
        "    # 画像は二次元配列なのでこれを一次元化しimagesに追加\n",
        "    images.append(np.asarray(img_resized).flatten())\n",
        "    # 画像が表す数もnumbersに追加\n",
        "    numbers = np.append(numbers,int(number))\n",
        "  # PILで画像として読めないファイルだった時\n",
        "  except Image.UnidentifiedImageError:\n",
        "    print(file,\"読めない画像形式なのでスキップします\")\n",
        "\n",
        "# imagesをnumPy配列に変換\n",
        "images =  np.asarray(images,dtype=float)\n",
        "# このままだと0～255のグレースケール画像なので、\n",
        "# 教科書で使っているsklearn.datasetsのload_digitsと同様に0(黒)～16(白)に変換\n",
        "images = 16 - np.floor(17*images/256)\n"
      ],
      "metadata": {
        "id": "LXxxxhc5aL7Q",
        "colab": {
          "base_uri": "https://localhost:8080/"
        },
        "outputId": "bab83f0a-44e1-4b65-da5f-e2535ab0a716"
      },
      "execution_count": 44,
      "outputs": [
        {
          "output_type": "stream",
          "name": "stdout",
          "text": [
            "['G22930_9.png', 'G22947_7.png', 'G22938_7.png', 'G29918_0.png', 'G22938_8.png', 'G22906_7.png', 'G20922_6.png', 'G22952_8.png', 'G22947_3.png', 'G22916_6.png', 'G22922_3.png', 'G22906_5.png', 'G22930_10.png', 'G22940_0.png', 'G22916_1.png', 'G22922_1.png', 'G20932_8.png', 'G22922_9.png', 'G22916_2.png', 'G22936_0.png', 'G21948_1.png', 'G22924_3.png', 'g22951_6.png', 'G22939_5.png', 'G22932_4.png', 'G21948_8.png', 'G22921_2.png', 'G22927_6.png', 'G22932_7.png', 'G22937_4.png', 'G22909_9.png', 'G22952_0.png', 'G22921_1.png', 'G22932_6.png', 'G22929_3.png', 'G22924_6.png', 'G22946_6.png', 'G22949_1.png', 'G22952_2.png', 'G22930_3.png', 'G22909_5.png', 'G22916_7.png', 'G22930_5.png', 'G22916_4.png', 'G22938_5.png', 'G22940_8.png', 'G22921_7.png', 'G22936_7.png', 'G22946_4.png', 'G22909_2.png', 'G22936_6.png', 'G22929_5.png', 'G22930_6.png', 'G22924_7.png', 'G22932_9.png', 'G22906_6.png', 'G22916_0.png', 'G21929_4.png', 'G22929_6.png', 'G22907_7.png', 'G22932_8.png', 'G22926_4.png', 'G22924_4.png', 'G22927_5.png', 'G22906_9.png', 'G22909_4.png', 'G22907_9.png', 'G22908_3.png', 'G22927_0.png', 'G21929_0.png', 'G22952_1.png', 'G22946_9.png', 'G22940_1.png', 'G22927_1.png', 'G22924_5.png', 'G22946_1.png', 'G22952_4.png', 'G22918_8.png', 'G21948_3.png', 'G22908_6.png', 'G22922_2.png', 'G21929_1.png', 'G22937_2.png', 'G22921_8.png', 'G22939_8.png', 'G20922_3.png', 'G22921_3.png', 'G22938_4.png', 'G21948_4.png', 'G22908_7.png', 'G22949_0.png', 'G22926_6.png', 'G22939_2.png', 'G20932_5.png', 'G22901_9.png', 'G22949_3.png', 'G21948_2.png', 'G22949_2.png', 'G22908_1.png', 'G22939_9.png', 'G22930_7.png', 'G22927_4.png', 'G22929_9.png', 'G22901_8.png', 'G22949_9.png', 'G22937_0.png', 'G22935_5.png', 'G20922_9.png', 'G22952_9.png', 'G22938_0.png', 'G22935_3.png', 'G22939_7.png', 'g22951_4.png', 'G22916_9.png', 'G21929_7.png', 'G22932_5.png', 'G22940_6.png', 'G22946_7.png', 'G21929_9.png', 'G22916_5.png', 'G22939_1.png', 'G22924_0.png', 'G22927_3.png', 'G22918_4.png', 'G21948_0.png', 'G22946_3.png', 'G22907_8.png', 'G22908_4.png', 'G21948_5.png', 'G20922_8.png', 'G22922_8.png', 'G22906_4.png', 'G22939_6.png', 'G22935_1.png', 'G20922_0.png', 'G22926_9.png', 'G22818_3.png', 'G21929_8.png', 'G22938_3.png', 'G22906_1.png', 'G22947_2.png', 'g22951_9.png', 'G22926_5.png', 'G22938_2.png', 'G22908_9.png', 'G22940_7.png', 'G20932_9.png', 'G20922_2.png', 'G22909_7.png', 'G22916_8.png', 'G22924_8.png', 'G22947_6.png', 'G22929_4.png', 'G22947_0.png', 'G22936_3.png', 'G22907_6.png', 'G22907_3.png', 'G22926_7.png', 'G22949_5.png', 'G22901_0.png', 'g22951_1.png', 'G22935_7.png', 'G22909_8.png', 'G22932_2.png', 'G22932_0.png', 'G22937_5.png', 'G22930_4.png', 'G22921_4.png', 'g22951_5.png', 'G22952_3.png', 'G22930_8.png', 'G22918_2.png', 'G20922_5.png', 'g22951_8.png', 'G22924_9.png', 'G22949_8.png', 'G22946_5.png', 'G22935_8.png', 'G22926_2.png', 'G22922_6.png', 'G22938_1.png', 'G22937_7.png', 'G22936_2.png', 'G22921_6.png', 'G20932_0.png', 'G22932_3.png', 'G22940_5.png', 'G22921_5.png', 'G22907_0.png', 'G22930_2.png', 'G22935_9.png', 'G21929_3.png', 'G22946_2.png', 'G22935_4.png', 'G22918_1.png', 'G22946_0.png', 'G21948_9.png', 'G22901_1.png', 'G22922_0.png', 'G22927_7.png', 'G22930_1.png', 'G22949_4.png', 'G20932_4.png', 'G22937_1.png', 'G22926_1.png', 'G22947_8.png', 'G22918_7.png', 'G20932_7.png', 'G22922_5.png', 'G22940_3.png', 'G22908_2.png', 'G22901_5.png', 'G22906_2.png', 'G22947_4.png', 'G22927_8.png', 'G22926_3.png', 'G22929_1.png', 'G22922_7.png', 'g22951_3.png', 'G20922_1.png', 'G20932_2.png', 'G22952_5.png', 'G22929_2.png', 'G22929_7.png', 'G22947_9.png', 'G22937_8.png', 'G20922_4.png', 'G22939_0.png', 'G22929_0.png', 'G22907_4.png', 'G22908_5.png', 'G21929_2.png', 'G22907_1.png', 'G22926_8.png', 'G22901_4.png', 'G22906_0.png', 'G22938_6.png', 'g22951_7.png', 'G22937_9.png', 'G21948_7.png', 'G22936_9.png', 'G22938_9.png', 'G22922_4.png', 'G22940_9.png', 'G22940_2.png', 'G21929_5.png', 'G22901_7.png', 'G20932_3.png', 'G22927_2.png', 'G22918_5.png', 'G22908_8.png', 'G22947_1.png', 'G22926_0.png', 'G22936_5.png', 'G20922_7.png', 'g22951_2.png', 'G22935_6.png', 'G22907_2.png', 'G22946_8.png', 'G22937_3.png', 'G22935_2.png', 'G22936_8.png', 'G22949_6.png', 'G22924_1.png', 'G22907_5.png', 'G22909_1.png', 'G22906_8.png', 'G22939_4.png', 'G20932_6.png', 'G22918_9.png', 'G22901_2.png', 'G22947_5.png', 'G22929_8.png', 'G22901_3.png', 'G22952_6.png', 'G22935_0.png', 'G22921_9.png', 'G22924_2.png', 'G22940_4.png', 'G22932_1.png', 'G22927_9.png', 'G22949_7.png', 'G22909_3.png', 'G22937_6.png', 'G20932_1.png', 'G21948_6.png', 'G22939_3.png', 'G21929_6.png', 'G22901_6.png', 'G22916_3.png', 'G22930_0.png', 'G22918_6.png', 'G22936_4.png', 'G22906_3.png', 'G22909_0.png', 'G22952_7.png', 'G22921_0.png', 'G22909_6.png', 'G22936_1.png']\n",
            "G22921_2.png 読めない画像形式なのでスキップします\n"
          ]
        },
        {
          "output_type": "stream",
          "name": "stderr",
          "text": [
            "<ipython-input-44-c8622e0d4a90>:26: DeprecationWarning: ANTIALIAS is deprecated and will be removed in Pillow 10 (2023-07-01). Use LANCZOS or Resampling.LANCZOS instead.\n",
            "  img_resized = img.resize((size, size),Image.ANTIALIAS).convert('L')\n"
          ]
        },
        {
          "output_type": "stream",
          "name": "stdout",
          "text": [
            "G22921_4.png 読めない画像形式なのでスキップします\n"
          ]
        }
      ]
    },
    {
      "cell_type": "code",
      "source": [
        "import matplotlib.pyplot as plot\n",
        "\n"
      ],
      "metadata": {
        "id": "U7xuOj9GZc6u"
      },
      "execution_count": 45,
      "outputs": []
    },
    {
      "cell_type": "code",
      "source": [
        "from sklearn.model_selection import train_test_split\n",
        "\n",
        "# ここで『Xからyを予測する』という機械学習に取り組む\n",
        "# つまり画像(を配列にしたもの)から画像に書かれている数字を予測する\n",
        "X = images\n",
        "y = numbers\n",
        "\n",
        "# 訓練データとテストデータに分ける(学習した画像とは違う画像で制度を検証するため)\n",
        "X_train,X_test,y_train,y_test= train_test_split(X,y)\n",
        "# 何も指定しないと25%がテストデータとなり75%が訓練データとなる\n",
        "# 以下のように明示的に割合を変える事も可能\n",
        "# X_train,X_test,y_train,y_test= train_test_split(X,y,test_size=0.6)\n",
        "\n",
        "print(\"訓練データ数: \", len(X_train))\n",
        "print(\"テストデータ数: \",len(X_test))\n",
        "\n",
        "np.savetxt('out.csv',X_train,delimiter=',')"
      ],
      "metadata": {
        "id": "9TvXwffWwk3Z",
        "colab": {
          "base_uri": "https://localhost:8080/"
        },
        "outputId": "e22dc52b-800e-4534-bd64-05c72a4d565b"
      },
      "execution_count": 46,
      "outputs": [
        {
          "output_type": "stream",
          "name": "stdout",
          "text": [
            "訓練データ数:  222\n",
            "テストデータ数:  75\n"
          ]
        }
      ]
    },
    {
      "cell_type": "code",
      "source": [
        "images"
      ],
      "metadata": {
        "colab": {
          "base_uri": "https://localhost:8080/"
        },
        "id": "dDheKAIsAn2o",
        "outputId": "60b51cf2-34db-4983-cb6a-1d0554724261"
      },
      "execution_count": 47,
      "outputs": [
        {
          "output_type": "execute_result",
          "data": {
            "text/plain": [
              "array([[ 2., 12., 16., ...,  0.,  0.,  0.],\n",
              "       [ 1.,  3.,  1., ...,  0.,  0.,  0.],\n",
              "       [ 0.,  4.,  6., ...,  0.,  0.,  0.],\n",
              "       ...,\n",
              "       [ 0.,  0.,  0., ...,  0.,  0.,  0.],\n",
              "       [ 0.,  0.,  0., ...,  1.,  0.,  0.],\n",
              "       [ 0.,  0.,  0., ...,  0.,  0.,  0.]])"
            ]
          },
          "metadata": {},
          "execution_count": 47
        }
      ]
    },
    {
      "cell_type": "code",
      "source": [
        "# 教科書p.180のコードを使って、自前の画像データで\n",
        "# 学習・推定し、正解率を計測しよう\n",
        "from sklearn import svm\n",
        "from sklearn.metrics import accuracy_score\n",
        "\n",
        "model = svm.SVC(kernel=\"rbf\", gamma=0.001)\n",
        "model.fit(X_train,y_train)\n",
        "\n",
        "pred = model.predict(X_test)\n",
        "score = accuracy_score(y_test, pred)\n",
        "\n",
        "print(\"正解率: \",score*100,\"%\")"
      ],
      "metadata": {
        "id": "J4gvBsbLz0bp",
        "colab": {
          "base_uri": "https://localhost:8080/"
        },
        "outputId": "345d3cba-e1cc-4537-b1b7-fe54a88ab1d0"
      },
      "execution_count": 48,
      "outputs": [
        {
          "output_type": "stream",
          "name": "stdout",
          "text": [
            "正解率:  88.0 %\n"
          ]
        }
      ]
    },
    {
      "cell_type": "code",
      "source": [
        "import pandas as pd\n",
        "from sklearn.datasets import load_digits\n",
        "\n",
        "sklearn_dataset = load_digits()\n",
        "sklearn_images = sklearn_dataset.data\n",
        "sklearn_numbers = sklearn_dataset.target\n",
        "\n",
        "X_train_plus = np.concatenate([X_train, sklearn_images])\n",
        "y_train_plus = np.concatenate([y_train, sklearn_numbers])\n"
      ],
      "metadata": {
        "id": "ZqichtLWZ6dZ"
      },
      "execution_count": 51,
      "outputs": []
    },
    {
      "cell_type": "code",
      "source": [
        "from PIL import Image\n",
        "import matplotlib.pyplot as plt\n",
        "\n",
        "model = svm.SVC(kernel=\"rbf\", gamma=0.001)\n",
        "model.fit(X_train_plus,y_train_plus)\n",
        "\n",
        "pred = model.predict(X_test)\n",
        "score = accuracy_score(y_test, pred)\n",
        "\n",
        "print(\"正解率: \",score*100,\"%\")\n"
      ],
      "metadata": {
        "colab": {
          "base_uri": "https://localhost:8080/"
        },
        "id": "Ho2GC-_Qb2j5",
        "outputId": "ee92a064-7c68-4dc7-efc7-87df126c718b"
      },
      "execution_count": 56,
      "outputs": [
        {
          "output_type": "stream",
          "name": "stdout",
          "text": [
            "正解率:  85.33333333333334 %\n"
          ]
        }
      ]
    },
    {
      "cell_type": "code",
      "source": [
        "dame = 0\n",
        "for xt in range(len(X_test)):\n",
        "  pred = model.predict([X_test[xt]])\n",
        "  if pred[0] != y_test[xt]:\n",
        "    print(\"【間違い！】推定:\",int(pred[0]),\"正解:\",int(y_test[xt]))\n",
        "    img = X_test[xt].reshape([8, 8])\n",
        "    plt.imshow(img,cmap=\"gray\")\n",
        "    plt.show()\n",
        "    dame += 1\n",
        "print(len(X_test),\"画像中\",dame,\"個ダメ！\",\"正解率:\",(len(X_test)-dame)/len(X_test),\"%\")"
      ],
      "metadata": {
        "colab": {
          "base_uri": "https://localhost:8080/",
          "height": 1000
        },
        "id": "HSzch2DlhjcZ",
        "outputId": "9a5a1554-a76d-47b1-d879-2e8574aa5589"
      },
      "execution_count": 57,
      "outputs": [
        {
          "output_type": "stream",
          "name": "stdout",
          "text": [
            "【間違い！】推定: 3 正解: 5\n"
          ]
        },
        {
          "output_type": "display_data",
          "data": {
            "text/plain": [
              "<Figure size 640x480 with 1 Axes>"
            ],
            "image/png": "[encoded data removed]"
          },
          "metadata": {}
        },
        {
          "output_type": "stream",
          "name": "stdout",
          "text": [
            "【間違い！】推定: 2 正解: 3\n"
          ]
        },
        {
          "output_type": "display_data",
          "data": {
            "text/plain": [
              "<Figure size 640x480 with 1 Axes>"
            ],
            "image/png": "[encoded data removed]"
          },
          "metadata": {}
        },
        {
          "output_type": "stream",
          "name": "stdout",
          "text": [
            "【間違い！】推定: 5 正解: 8\n"
          ]
        },
        {
          "output_type": "display_data",
          "data": {
            "text/plain": [
              "<Figure size 640x480 with 1 Axes>"
            ],
            "image/png": "[encoded data removed]"
          },
          "metadata": {}
        },
        {
          "output_type": "stream",
          "name": "stdout",
          "text": [
            "【間違い！】推定: 9 正解: 7\n"
          ]
        },
        {
          "output_type": "display_data",
          "data": {
            "text/plain": [
              "<Figure size 640x480 with 1 Axes>"
            ],
            "image/png": "[encoded data removed]"
          },
          "metadata": {}
        },
        {
          "output_type": "stream",
          "name": "stdout",
          "text": [
            "【間違い！】推定: 3 正解: 8\n"
          ]
        },
        {
          "output_type": "display_data",
          "data": {
            "text/plain": [
              "<Figure size 640x480 with 1 Axes>"
            ],
            "image/png": "[encoded data removed]"
          },
          "metadata": {}
        },
        {
          "output_type": "stream",
          "name": "stdout",
          "text": [
            "【間違い！】推定: 3 正解: 8\n"
          ]
        },
        {
          "output_type": "display_data",
          "data": {
            "text/plain": [
              "<Figure size 640x480 with 1 Axes>"
            ],
            "image/png": "[encoded data removed]"
          },
          "metadata": {}
        },
        {
          "output_type": "stream",
          "name": "stdout",
          "text": [
            "【間違い！】推定: 2 正解: 1\n"
          ]
        },
        {
          "output_type": "display_data",
          "data": {
            "text/plain": [
              "<Figure size 640x480 with 1 Axes>"
            ],
            "image/png": "[encoded data removed]"
          },
          "metadata": {}
        },
        {
          "output_type": "stream",
          "name": "stdout",
          "text": [
            "【間違い！】推定: 9 正解: 8\n"
          ]
        },
        {
          "output_type": "display_data",
          "data": {
            "text/plain": [
              "<Figure size 640x480 with 1 Axes>"
            ],
            "image/png": "[encoded data removed]"
          },
          "metadata": {}
        },
        {
          "output_type": "stream",
          "name": "stdout",
          "text": [
            "【間違い！】推定: 4 正解: 6\n"
          ]
        },
        {
          "output_type": "display_data",
          "data": {
            "text/plain": [
              "<Figure size 640x480 with 1 Axes>"
            ],
            "image/png": "[encoded data removed]"
          },
          "metadata": {}
        },
        {
          "output_type": "stream",
          "name": "stdout",
          "text": [
            "【間違い！】推定: 6 正解: 8\n"
          ]
        },
        {
          "output_type": "display_data",
          "data": {
            "text/plain": [
              "<Figure size 640x480 with 1 Axes>"
            ],
            "image/png": "[encoded data removed]"
          },
          "metadata": {}
        },
        {
          "output_type": "stream",
          "name": "stdout",
          "text": [
            "【間違い！】推定: 4 正解: 9\n"
          ]
        },
        {
          "output_type": "display_data",
          "data": {
            "text/plain": [
              "<Figure size 640x480 with 1 Axes>"
            ],
            "image/png": "[encoded data removed]"
          },
          "metadata": {}
        },
        {
          "output_type": "stream",
          "name": "stdout",
          "text": [
            "75 画像中 11 個ダメ！ 正解率: 0.8533333333333334 %\n"
          ]
        }
      ]
    },
    {
      "cell_type": "markdown",
      "source": [
        "## 数字予測　その２\n",
        "\n",
        "トレーニングした判定器を使って、全く別の画像を判定してみましょう。googleドライブのimg2ディレクトリに、手書きではなくコンピュータで描いた数字の画像が3セットあります。\n",
        "\n",
        "まずは、これをローカルにもってきます。"
      ],
      "metadata": {
        "id": "SS1tG_y7lZnx"
      }
    },
    {
      "cell_type": "code",
      "source": [
        "# Gdrive上からGoogle Colabの環境にダウンロードする\n",
        "!cp -r \"/content/gdrive/Shareddrives/2024-35A01／情報科学 e／横山 昌平/img2\" \"/content\"\n",
        "# 学習用データのサイズに縮小した画像を保存するディレクトリの作成\n",
        "!mkdir \"images2\""
      ],
      "metadata": {
        "id": "RwwB0cbYlKJc"
      },
      "execution_count": null,
      "outputs": []
    },
    {
      "cell_type": "markdown",
      "source": [
        "さて、これを判定してみましょう。"
      ],
      "metadata": {
        "id": "d28hkFXgly2o"
      }
    },
    {
      "cell_type": "code",
      "source": [
        "## コードをここに"
      ],
      "metadata": {
        "id": "kNoohe3wl10s"
      },
      "execution_count": null,
      "outputs": []
    }
  ]
}