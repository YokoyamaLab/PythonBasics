{
  "nbformat": 4,
  "nbformat_minor": 0,
  "metadata": {
    "colab": {
      "provenance": [],
      "toc_visible": true,
      "authorship_tag": "ABX9TyP4dXmxi3XJTeOHCWdQbvkf",
      "include_colab_link": true
    },
    "kernelspec": {
      "name": "python3",
      "display_name": "Python 3"
    },
    "language_info": {
      "name": "python"
    }
  },
  "cells": [
    {
      "cell_type": "markdown",
      "metadata": {
        "id": "view-in-github",
        "colab_type": "text"
      },
      "source": [
        "<a href=\"https://colab.research.google.com/github/YokoyamaLab/PythonBasics/blob/2024/day08_q2FromOriginalImages.ipynb\" target=\"_parent\"><img src=\"https://colab.research.google.com/assets/colab-badge.svg\" alt=\"Open In Colab\"/></a>"
      ]
    },
    {
      "cell_type": "markdown",
      "source": [
        "# Day08 講義内課題02: みんなの描いた数字で学習・認識"
      ],
      "metadata": {
        "id": "mVLTps7baFkb"
      }
    },
    {
      "cell_type": "markdown",
      "source": [
        "## 🌀はじめに\n"
      ],
      "metadata": {
        "id": "9PgDHsnUamPj"
      }
    },
    {
      "cell_type": "markdown",
      "source": [
        "今日のメインパートです。機械学習を使って、画像を認識できる手順は確認しました。ただ、教科書のままでは、もともとあったデータセットで学習も認識もしているため、なんとなく達成感を持てませんよね？\n",
        "\n",
        "という訳で、前回の宿題として皆さんが描いた0～9までの数字画像を使って学習と認識をやってみましょう。"
      ],
      "metadata": {
        "id": "fjWdwJ1Bapoo"
      }
    },
    {
      "cell_type": "markdown",
      "source": [
        "## 🌀ステップ1: Google Driveから画像のダウンロード\n"
      ],
      "metadata": {
        "id": "ywOv1pymbOUm"
      }
    },
    {
      "cell_type": "markdown",
      "source": [
        "皆さんの描いた画像は```/content/gdrive/Shareddrives/2024-35A01／情報科学 e／横山 昌平/img```に保存されています。このファイルを手元の環境にダウンロードしましょう。"
      ],
      "metadata": {
        "id": "CuTo93EJbUzI"
      }
    },
    {
      "cell_type": "code",
      "source": [
        "from google.colab import drive\n",
        "drive.mount(\"/content/gdrive\")\n",
        "\n",
        "# Gdrive上からGoogle Colabの環境にダウンロードする\n",
        "!cp -r \"/content/gdrive/Shareddrives/2024-35A01／情報科学 e／横山 昌平/img\" \"/content\"\n",
        "# 学習用データのサイズに縮小した画像を保存するディレクトリの作成\n",
        "!mkdir \"images\""
      ],
      "metadata": {
        "id": "qXmuh6uL31hK"
      },
      "execution_count": null,
      "outputs": []
    },
    {
      "cell_type": "markdown",
      "source": [
        "## 🌀ステップ2: Google Driveから画像のダウンロード\n",
        "\n"
      ],
      "metadata": {
        "id": "oFpoG9i4bci_"
      }
    },
    {
      "cell_type": "markdown",
      "source": [
        "教科書で扱っている画像と同等に、サイズを8ピクセル×8ピクセル、色はグレースケールで0～16の画像として保存しましょう。"
      ],
      "metadata": {
        "id": "v-Of36iSb7qS"
      }
    },
    {
      "cell_type": "code",
      "source": [
        "import os\n",
        "import re\n",
        "from PIL import Image\n",
        "import numpy as np\n",
        "import pprint\n",
        "\n",
        "# リサイズ済み画像(学習に食わせる画像)の置き場\n",
        "dir = \"/content/images/\"\n",
        "# 大きな元画像の置き場\n",
        "dir_original = \"/content/img/\"\n",
        "\n",
        "# ファイル名の一覧を取得（この講義では教えていないPython特有の書き方をしてみました）\n",
        "files = [\n",
        "    f for f in os.listdir(dir_original) if os.path.isfile(os.path.join(dir_original, f))\n",
        "]\n",
        "# とりあえずファイル一覧を表示してみる\n",
        "print(files)\n",
        "\n",
        "# 学習用画像のサイズ(一辺のピクセル数)\n",
        "size = 8\n",
        "\n",
        "# 数字毎にファイルパスを格納しておく辞書型の変数を準備する\n",
        "images = []\n",
        "numbers =  []\n",
        "sources = []\n",
        "# originalディレクトリの画像ファイルを縮小してimagesに入れる\n",
        "for file in files:\n",
        "  try:\n",
        "    # ファイルを開く\n",
        "    img = Image.open(dir_original + file)\n",
        "    # ファイルを指定されたサイズでリサイズし白黒化する\n",
        "    img_resized = img.resize((size, size),Image.ANTIALIAS).convert('L')\n",
        "    # 小さくしたファイルを保存する\n",
        "    img_resized.save(dir + file, quality=90)\n",
        "    # 正規表現で学籍番号、番号、拡張子に分割する\n",
        "    student,number,extension = re.split('[_.]', file)\n",
        "    # 画像は二次元配列なのでこれを一次元化しimagesに追加\n",
        "    images.append(np.asarray(img_resized).flatten())\n",
        "    # 画像が表す数もnumbersに追加\n",
        "    numbers = np.append(numbers,int(number))\n",
        "    # エラー無いものだけsoucesにファイルパス追加\n",
        "    sources.append(file)\n",
        "  # PILで画像として読めないファイルだった時\n",
        "  except Image.UnidentifiedImageError:\n",
        "    print(file,\"読めない画像形式なのでスキップします\")\n",
        "\n",
        "# imagesをnumPy配列に変換\n",
        "images =  np.asarray(images,dtype=float)\n",
        "# このままだと0～255のグレースケール画像なので、\n",
        "# 教科書で使っているsklearn.datasetsのload_digitsと同様に0(黒)～16(白)に変換\n",
        "images = 16 - np.floor(17*images/256)\n"
      ],
      "metadata": {
        "id": "LXxxxhc5aL7Q"
      },
      "execution_count": null,
      "outputs": []
    },
    {
      "cell_type": "markdown",
      "source": [
        "## 🌀ステップ3:画像を確認してみる。\n"
      ],
      "metadata": {
        "id": "gFbOaRO2b95C"
      }
    },
    {
      "cell_type": "markdown",
      "source": [
        "どんな画像があるのか、さっと一覧で出してみましょう。"
      ],
      "metadata": {
        "id": "Xj3vYqTbcBeC"
      }
    },
    {
      "cell_type": "code",
      "source": [
        "import matplotlib.pyplot as plt\n",
        "\n",
        "col = 10\n",
        "fig, axes = plt.subplots( 1+int(np.ceil(len(images)/col)),col, figsize=(10,10))\n",
        "#plt.subplots_adjust(wspace=2, hspace=2)\n",
        "for r in range(int(np.ceil(len(images)/col))):\n",
        "  row = axes[r]\n",
        "  for c in range(col):\n",
        "    if r*col+c >= len(images):\n",
        "      break;\n",
        "    # ファイルを開く\n",
        "    img = Image.open(dir + sources[r*col+c])\n",
        "    row[c].imshow(img,cmap=\"gray\")\n",
        "    row[c].axis('off')\n",
        "    #row[c].set_title(int(numbers[r*col+c]))\n",
        "plt.show()\n",
        "\n"
      ],
      "metadata": {
        "id": "U7xuOj9GZc6u"
      },
      "execution_count": null,
      "outputs": []
    },
    {
      "cell_type": "markdown",
      "source": [
        "## 🌀ステップ4:データを訓練データとテストデータに分ける\n"
      ],
      "metadata": {
        "id": "lpOepJE0oo7D"
      }
    },
    {
      "cell_type": "markdown",
      "source": [
        "機械学習を試行する場合、手持ちのデータを訓練データとテストデータに分けるのが一般です。訓練データのみを使って、機械学習し、なんらかの判定器を作り、訓練に使ったデータとは別のデータを判定させる事で、未知りデータに対してどのような精度が出るのかを明らかにします。"
      ],
      "metadata": {
        "id": "aV5H34rvov6h"
      }
    },
    {
      "cell_type": "code",
      "source": [
        "from sklearn.model_selection import train_test_split\n",
        "\n",
        "# ここで『Xからyを予測する』という機械学習に取り組む\n",
        "# つまり画像(を配列にしたもの)から画像に書かれている数字を予測する\n",
        "X = images\n",
        "y = numbers\n",
        "\n",
        "# 訓練データとテストデータに分ける(学習した画像とは違う画像で制度を検証するため)\n",
        "X_train,X_test,y_train,y_test= train_test_split(X,y)\n",
        "# 何も指定しないと25%がテストデータとなり75%が訓練データとなる\n",
        "# 以下のように明示的に割合を変える事も可能\n",
        "# X_train,X_test,y_train,y_test= train_test_split(X,y,test_size=0.6)\n",
        "\n",
        "print(\"訓練データ数: \", len(X_train))\n",
        "print(\"テストデータ数: \",len(X_test))\n",
        "\n",
        "np.savetxt('out.csv',X_train,delimiter=',')"
      ],
      "metadata": {
        "id": "9TvXwffWwk3Z"
      },
      "execution_count": null,
      "outputs": []
    },
    {
      "cell_type": "markdown",
      "source": [
        "## 🌀ステップ5:SVMを使い数字画像の判定器を作り画像を判定する\n"
      ],
      "metadata": {
        "id": "Xvfg2t5lpIxq"
      }
    },
    {
      "cell_type": "markdown",
      "source": [
        "では実際に機械学習で【数字画像の判定器】を作成し、それをテストデータに適用し正解率を出してみましょう。（テストデータのつくまり方によって毎回正解率が多少変化します）"
      ],
      "metadata": {
        "id": "oDKRVKztpWje"
      }
    },
    {
      "cell_type": "code",
      "source": [
        "# 教科書p.180のコードを使って、自前の画像データで\n",
        "# 学習・推定し、正解率を計測しよう\n",
        "from sklearn import svm\n",
        "from sklearn.metrics import accuracy_score\n",
        "\n",
        "model = svm.SVC(kernel=\"rbf\", gamma=0.001)\n",
        "model.fit(X_train,y_train)\n",
        "\n",
        "pred = model.predict(X_test)\n",
        "score = accuracy_score(y_test, pred)\n",
        "\n",
        "print(\"正解率: \",score*100,\"%\")"
      ],
      "metadata": {
        "id": "J4gvBsbLz0bp"
      },
      "execution_count": null,
      "outputs": []
    },
    {
      "cell_type": "markdown",
      "source": [
        "## 🌀ステップ6:sklearnのテストデータも追加しましょう"
      ],
      "metadata": {
        "id": "qjSmAUf7ptK-"
      }
    },
    {
      "cell_type": "markdown",
      "source": [
        "訓練データはもっと沢山あっても良いので、教科書にあったsklearnのデータセットも追加してみましょう。"
      ],
      "metadata": {
        "id": "pI0wcJdBpx0t"
      }
    },
    {
      "cell_type": "code",
      "source": [
        "import pandas as pd\n",
        "from sklearn.datasets import load_digits\n",
        "\n",
        "sklearn_dataset = load_digits()\n",
        "sklearn_images = sklearn_dataset.data\n",
        "sklearn_numbers = sklearn_dataset.target\n",
        "\n",
        "X_train_plus = np.concatenate([X_train, sklearn_images])\n",
        "y_train_plus = np.concatenate([y_train, sklearn_numbers])\n"
      ],
      "metadata": {
        "id": "ZqichtLWZ6dZ"
      },
      "execution_count": null,
      "outputs": []
    },
    {
      "cell_type": "markdown",
      "source": [
        "これでもう一度試します。"
      ],
      "metadata": {
        "id": "1WVL3Zq3p4p7"
      }
    },
    {
      "cell_type": "code",
      "source": [
        "from PIL import Image\n",
        "import matplotlib.pyplot as plt\n",
        "\n",
        "model = svm.SVC(kernel=\"rbf\", gamma=0.001)\n",
        "model.fit(X_train_plus,y_train_plus)\n",
        "\n",
        "pred = model.predict(X_test)\n",
        "score = accuracy_score(y_test, pred)\n",
        "\n",
        "print(\"正解率: \",score*100,\"%\")\n"
      ],
      "metadata": {
        "id": "Ho2GC-_Qb2j5"
      },
      "execution_count": null,
      "outputs": []
    },
    {
      "cell_type": "markdown",
      "source": [
        "正解率は上がりましたか？下がりましたか？（必ずしもデータ数がおおいからといって正解率が上がるわけではない事に注意してください。）\n",
        "\n",
        "さて、次に認識が違った画像のみを出してみましょう。どうでしょうか。認識が間違うだけの理由がありそうですか？"
      ],
      "metadata": {
        "id": "4HB1ovUFp6qH"
      }
    },
    {
      "cell_type": "code",
      "source": [
        "dame = 0\n",
        "for xt in range(len(X_test)):\n",
        "  pred = model.predict([X_test[xt]])\n",
        "  if pred[0] != y_test[xt]:\n",
        "    print(\"【間違い！】推定:\",int(pred[0]),\"正解:\",int(y_test[xt]))\n",
        "    img = X_test[xt].reshape([8, 8])\n",
        "    plt.imshow(img,cmap=\"gray\")\n",
        "    plt.show()\n",
        "    dame += 1\n",
        "print(len(X_test),\"画像中\",dame,\"個ダメ！\",\"正解率:\",(len(X_test)-dame)/len(X_test),\"%\")"
      ],
      "metadata": {
        "id": "HSzch2DlhjcZ"
      },
      "execution_count": null,
      "outputs": []
    },
    {
      "cell_type": "markdown",
      "source": [
        "## 🌀課題！　未知の画像の数字予測\n",
        "\n",
        "このノートでトレーニングした判定器を使って、全く別の画像を判定してみましょう。googleドライブのimg2ディレクトリに、手書きではなくコンピュータで描いた数字の画像が3セットあります。\n",
        "\n",
        "まずは、これをローカルにもってきます。"
      ],
      "metadata": {
        "id": "SS1tG_y7lZnx"
      }
    },
    {
      "cell_type": "code",
      "source": [
        "# Gdrive上からGoogle Colabの環境にダウンロードする\n",
        "!cp -r \"/content/gdrive/Shareddrives/2024-35A01／情報科学 e／横山 昌平/img2\" \"/content\"\n",
        "# 学習用データのサイズに縮小した画像を保存するディレクトリの作成\n",
        "!mkdir \"images2\""
      ],
      "metadata": {
        "id": "RwwB0cbYlKJc"
      },
      "execution_count": null,
      "outputs": []
    },
    {
      "cell_type": "markdown",
      "source": [
        "さて、これを判定してみましょう。これを課題とします。"
      ],
      "metadata": {
        "id": "d28hkFXgly2o"
      }
    },
    {
      "cell_type": "code",
      "source": [
        "## コードをここに"
      ],
      "metadata": {
        "id": "kNoohe3wl10s"
      },
      "execution_count": null,
      "outputs": []
    }
  ]
}