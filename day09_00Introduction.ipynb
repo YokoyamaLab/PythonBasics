{
  "nbformat": 4,
  "nbformat_minor": 0,
  "metadata": {
    "colab": {
      "provenance": [],
      "authorship_tag": "ABX9TyPjDKCgwhMyZceSMzEhNwTr",
      "include_colab_link": true
    },
    "kernelspec": {
      "name": "python3",
      "display_name": "Python 3"
    },
    "language_info": {
      "name": "python"
    }
  },
  "cells": [
    {
      "cell_type": "markdown",
      "metadata": {
        "id": "view-in-github",
        "colab_type": "text"
      },
      "source": [
        "<a href=\"https://colab.research.google.com/github/YokoyamaLab/PythonBasics/blob/2024/day09_00Introduction.ipynb\" target=\"_parent\"><img src=\"https://colab.research.google.com/assets/colab-badge.svg\" alt=\"Open In Colab\"/></a>"
      ]
    },
    {
      "cell_type": "markdown",
      "source": [
        "# Day09 イントロダクション"
      ],
      "metadata": {
        "id": "LU1OZrJ1nMoU"
      }
    },
    {
      "cell_type": "markdown",
      "source": [
        "## 🌀本日の講義の進め方"
      ],
      "metadata": {
        "id": "B2vbzIy5nQny"
      }
    },
    {
      "cell_type": "markdown",
      "source": [
        "今日はPythonから機械学習を使う方法を学びます。沢山のアルゴリズムが出てきますが、個々のアルゴリズムの中身についてはこの講義の範疇を超えますので、詳しくは説明しませんが、『機械学習を使うノウハウ』を身につけましょう。"
      ],
      "metadata": {
        "id": "9lVdBBvnnT-9"
      }
    },
    {
      "cell_type": "markdown",
      "source": [
        "## 🌀機械学習アルゴリズムの選び方"
      ],
      "metadata": {
        "id": "LxZiKjHxnwuI"
      }
    },
    {
      "cell_type": "markdown",
      "source": [
        "教科書には沢山の機械学習のアルゴリズムが出てきます。Pythonの機械学習のライブラリであるscikit-learnはアルゴリズムを高度に抽象化していますので、殆ど同じようなコードで、様々なアルゴリズムを皆さんのデータに適用可能です。\n",
        "\n",
        "ただ、ここで問題になるのは、どのアルゴリズムを使えば良いのか？という点です。皆さんが何らかの分析したいデータを持っていたとして、分析の目的を果たすには、どの機械学習アルゴリズムを適用すれば良いのでしょうか？\n",
        "\n",
        "このアルゴリズムの選択には以下のフローチャート(scikit-learn公式)が役に立ちます。"
      ],
      "metadata": {
        "id": "XSDwbOJQoCS9"
      }
    },
    {
      "cell_type": "markdown",
      "source": [
        "![機械学習チートシート](https://github.com/YokoyamaLab/PythonBasics/blob/2024/images/day09_scikit-learn_algorithm_cheat-sheet.png?raw=true)"
      ],
      "metadata": {
        "id": "AAFAjs2-ouy2"
      }
    },
    {
      "cell_type": "markdown",
      "source": [
        "それでは、教科書のアルゴリズムを追っていきましょう。データの作り方はもう学んでいますので、ぜひ、教科書の例をやって時間があまったら入力データをすこし変えて、試してみましょう。"
      ],
      "metadata": {
        "id": "4zkQAsAOpvBU"
      }
    }
  ]
}