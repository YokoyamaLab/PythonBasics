{
  "nbformat": 4,
  "nbformat_minor": 0,
  "metadata": {
    "colab": {
      "provenance": [],
      "include_colab_link": true
    },
    "kernelspec": {
      "name": "python3",
      "display_name": "Python 3"
    },
    "language_info": {
      "name": "python"
    }
  },
  "cells": [
    {
      "cell_type": "markdown",
      "metadata": {
        "id": "view-in-github",
        "colab_type": "text"
      },
      "source": [
        "<a href=\"https://colab.research.google.com/github/YokoyamaLab/PythonBasics/blob/main/day09_07CSVFile.ipynb\" target=\"_parent\"><img src=\"https://colab.research.google.com/assets/colab-badge.svg\" alt=\"Open In Colab\"/></a>"
      ]
    },
    {
      "cell_type": "markdown",
      "source": [
        "# Day09 資料07 Web上のCSVファイルからの読み込み"
      ],
      "metadata": {
        "id": "OwNl-yxMQ8I-"
      }
    },
    {
      "cell_type": "markdown",
      "source": [
        "例\n",
        "https://www.data.jma.go.jp/obd/stats/data/mdrr/docs/csv_dl_readme.html\n",
        "\n",
        "ここにある最低気温のデータを使う。\n",
        "\n",
        "https://www.data.jma.go.jp/obd/stats/data/mdrr/tem_rct/alltable/mntemsadext00_rct.csv"
      ],
      "metadata": {
        "id": "VPsFbb6g1rJZ"
      }
    },
    {
      "cell_type": "code",
      "execution_count": null,
      "metadata": {
        "id": "9UA4bh6G1fXB"
      },
      "outputs": [],
      "source": [
        "# (pythonではなく)wgetコマンドでファイルをダウンロード\n",
        "! wget https://www.data.jma.go.jp/obd/stats/data/mdrr/tem_rct/alltable/mntemsadext00_rct.csv"
      ]
    },
    {
      "cell_type": "code",
      "source": [
        "import pandas as pd\n",
        "\n",
        "df = pd.read_csv('mntemsadext00_rct.csv', encoding=\"shift-jis\") #データによってはshift-jisの代わりにutf-8と入れる必要がある場合もあります\n",
        "\n",
        "# 沖縄県と青森県のデータのみを利用\n",
        "df_okinawa_aommori = df[df['都道府県'].isin(['沖縄県','青森県'])].reset_index()\n",
        "df_okinawa_aommori"
      ],
      "metadata": {
        "id": "n604no7G1osu"
      },
      "execution_count": null,
      "outputs": []
    },
    {
      "cell_type": "code",
      "source": [
        "#CSVを見るとわかりますが、なんとフィールド名に(今日とか昨日の)日付が入っていてそれが毎日更新されるという\n",
        "#ダメ仕様で、それに対応するために今日の日付・昨日の日付を算出します。\n",
        "import datetime\n",
        "from dateutil.relativedelta import relativedelta\n",
        "today = datetime.date.today()\n",
        "\n",
        "# 表中にある今日の最低気温、今年の最低気温で沖縄と青森を区別できるかチャレンジ\n",
        "X = df_okinawa_aommori[[str(today.day)+'日の最低気温(℃)','今年の最低気温（℃)（'+str((today+ relativedelta(days=-1)).day)+'日まで）']].values\n",
        "y = df_okinawa_aommori['都道府県'].map( {'沖縄県': 0, '青森県': 1} ).astype(int).values"
      ],
      "metadata": {
        "id": "BqOOXS-P4DhF"
      },
      "execution_count": null,
      "outputs": []
    },
    {
      "cell_type": "code",
      "source": [
        "import numpy as np\n",
        "import pandas as pd\n",
        "import matplotlib.pyplot as plt\n",
        "from matplotlib.colors import ListedColormap\n",
        "from sklearn.datasets import make_blobs\n",
        "from sklearn.model_selection import train_test_split\n",
        "from sklearn.metrics import accuracy_score\n",
        "\n",
        "# 散布図に分類の様子を描画する\n",
        "def plot_boundary(model, X, Y, target, xlabel, ylabel):\n",
        "    cmap_dots = ListedColormap([ \"#1f77b4\", \"#ff7f0e\", \"#2ca02c\"])\n",
        "    cmap_fills = ListedColormap([ \"#c6dcec\", \"#ffdec2\", \"#cae7ca\"])\n",
        "    plt.figure(figsize=(5, 5))\n",
        "    if model:\n",
        "        XX, YY = np.meshgrid(\n",
        "            np.linspace(X.min()-1, X.max()+1, 200),\n",
        "            np.linspace(Y.min()-1, Y.max()+1, 200))\n",
        "        pred = model.predict(np.c_[XX.ravel(), YY.ravel()]).reshape(XX.shape)\n",
        "        plt.pcolormesh(XX, YY, pred, cmap=cmap_fills, shading=\"auto\")\n",
        "        plt.contour(XX, YY, pred, colors=\"gray\")\n",
        "    plt.scatter(X, Y, c=target, cmap=cmap_dots)\n",
        "    plt.xlabel(xlabel)\n",
        "    plt.ylabel(ylabel)\n",
        "    plt.show()"
      ],
      "metadata": {
        "id": "Tot1DwaM9f-I"
      },
      "execution_count": null,
      "outputs": []
    },
    {
      "cell_type": "code",
      "source": [
        "from sklearn.ensemble import RandomForestClassifier\n",
        "\n",
        "# 訓練データ、テストデータに分ける\n",
        "X_train, X_test, y_train, y_test = train_test_split(X, y)\n",
        "\n",
        "# ランダムフォレストの学習モデルを作る（訓練データで）\n",
        "model = RandomForestClassifier()\n",
        "model.fit(X_train, y_train)\n",
        "\n",
        "# 正解率を調べる（テストデータで）\n",
        "pred = model.predict(X_test)\n",
        "score = accuracy_score(y_test, pred)\n",
        "print(\"正解率:\", score*100, \"%\")\n",
        "\n",
        "# この学習モデルの分類の状態を描画する（全データで）\n",
        "df = pd.DataFrame(X_test)\n",
        "print(df)\n",
        "print(y_test)\n",
        "plot_boundary(model, df[0], df[1], y_test, \"df [0]\", \"df [1]\")"
      ],
      "metadata": {
        "id": "ktr1JfGKBMmH"
      },
      "execution_count": null,
      "outputs": []
    }
  ]
}