{
  "nbformat": 4,
  "nbformat_minor": 0,
  "metadata": {
    "colab": {
      "provenance": [],
      "authorship_tag": "ABX9TyNSTQ1KGaAndR+Uwins1xQv",
      "include_colab_link": true
    },
    "kernelspec": {
      "name": "python3",
      "display_name": "Python 3"
    },
    "language_info": {
      "name": "python"
    }
  },
  "cells": [
    {
      "cell_type": "markdown",
      "metadata": {
        "id": "view-in-github",
        "colab_type": "text"
      },
      "source": [
        "<a href=\"https://colab.research.google.com/github/YokoyamaLab/PythonBasics/blob/main/DayLast_report.ipynb\" target=\"_parent\"><img src=\"https://colab.research.google.com/assets/colab-badge.svg\" alt=\"Open In Colab\"/></a>"
      ]
    },
    {
      "cell_type": "markdown",
      "source": [
        "# 情報科学C 最終レポート"
      ],
      "metadata": {
        "id": "ok31ygr_mAqJ"
      }
    },
    {
      "cell_type": "markdown",
      "source": [
        "これは最終課題用の提出ファイルです。\n",
        "\n",
        "## 最終課題のお題\n",
        "\n",
        "* 講義で出てきた機械学習アルゴリズムを使ってなんらかの分析・可視化をしてください。\n",
        "* データは自分で探してきてください。以下のサイトが参考になるかもしれません。「オープンデータ」というキーワードで検索すると色々と出てきますし、Qiitaなどでねそれを使ってPythonで分析する例も沢山出てきます。\n",
        "    * https://www.e-stat.go.jp/\n",
        "    * https://www.data.jma.go.jp/obd/stats/data/mdrr/docs/csv_dl_readme.html\n",
        "* データはこのノート内のプログラム・コマンドとしてダウンロードするか、もしくは、[最終課題用の共有フォルダ](https://drive.google.com/drive/folders/1wKAcJyO8Vh_kKvIyS7EbXdMLLcK_ZgYO?usp=sharing)にファイル名が被らないように学習番号をつけてアップロードし、このノートに読み込んでください。\n",
        "    * とにかく、このノートがファイル読み込みも含めてエラーなく実行できれば問題ありません。\n",
        "* 必ず「こういう結果が出てくるんじゃないかなぁ？」という仮説を立てましょう\n",
        "* 仮説が上手くいった例をレポートに書ければbetterですが、仮説が上手くいかなかったというのも立派な知見です。\n",
        "* 最終レポートですので、形式は自由としますが、わかりやすくまとめてください。"
      ],
      "metadata": {
        "id": "4TDXbzhaToyt"
      }
    },
    {
      "cell_type": "code",
      "source": [
        "#@title 学籍番号、名前\n",
        "id = \"\" #@param {type:\"string\"}\n",
        "name = \"\" #@param {type:\"string\"}"
      ],
      "metadata": {
        "cellView": "form",
        "id": "cXVfoCXJXx4S"
      },
      "execution_count": null,
      "outputs": []
    }
  ]
}
