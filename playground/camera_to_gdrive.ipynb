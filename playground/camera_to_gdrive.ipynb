{
  "nbformat": 4,
  "nbformat_minor": 0,
  "metadata": {
    "colab": {
      "provenance": [],
      "include_colab_link": true
    },
    "kernelspec": {
      "name": "python3",
      "display_name": "Python 3"
    }
  },
  "cells": [
    {
      "cell_type": "markdown",
      "metadata": {
        "id": "view-in-github",
        "colab_type": "text"
      },
      "source": [
        "<a href=\"https://colab.research.google.com/github/YokoyamaLab/PythonBasics/blob/main/playground/camera_to_gdrive.ipynb\" target=\"_parent\"><img src=\"https://colab.research.google.com/assets/colab-badge.svg\" alt=\"Open In Colab\"/></a>"
      ]
    },
    {
      "cell_type": "code",
      "source": [
        "#@title 学籍番号、名前\n",
        "id = \"\" #@param {type:\"string\"}\n",
        "name = \"\" #@param {type:\"string\"}"
      ],
      "metadata": {
        "id": "2Ix5rKd2Hp21"
      },
      "execution_count": null,
      "outputs": []
    },
    {
      "cell_type": "markdown",
      "source": [
        "## Step1. 写真を撮影して保存する機能を有効化する"
      ],
      "metadata": {
        "id": "1W9F8U6OLTO8"
      }
    },
    {
      "metadata": {
        "id": "T7tY2g3ATPo1"
      },
      "cell_type": "code",
      "source": [
        "from IPython.display import HTML, Image\n",
        "from google.colab.output import eval_js\n",
        "from base64 import b64decode\n",
        "\n",
        "VIDEO_HTML = \"\"\"\n",
        "<video autoplay\n",
        " width=800 height=600></video>\n",
        "<script>\n",
        "var video = document.querySelector('video')\n",
        "navigator.mediaDevices.getUserMedia({ video: true })\n",
        "  .then(stream=> video.srcObject = stream)\n",
        "  \n",
        "var data = new Promise(resolve=>{\n",
        "  video.onclick = ()=>{\n",
        "    var canvas = document.createElement('canvas')\n",
        "    var [w,h] = [video.offsetWidth, video.offsetHeight]\n",
        "    canvas.width = w\n",
        "    canvas.height = h\n",
        "    canvas.getContext('2d')\n",
        "          .drawImage(video, 0, 0, w, h)\n",
        "    video.srcObject.getVideoTracks()[0].stop()\n",
        "    video.replaceWith(canvas)\n",
        "    resolve(canvas.toDataURL('image/jpeg', %f))\n",
        "  }\n",
        "})\n",
        "</script>\n",
        "\"\"\"\n",
        "def take_photo(filename=id+'.jpg', quality=0.8):\n",
        "  display(HTML(VIDEO_HTML % quality))\n",
        "  data = eval_js(\"data\")\n",
        "  binary = b64decode(data.split(',')[1])\n",
        "  with open(filename, 'wb') as f:\n",
        "    f.write(binary)\n",
        "  return len(binary)"
      ],
      "execution_count": null,
      "outputs": []
    },
    {
      "cell_type": "markdown",
      "source": [
        "## Step2. 写真を撮影する"
      ],
      "metadata": {
        "id": "NF1B-BAWLdCL"
      }
    },
    {
      "cell_type": "markdown",
      "source": [
        "\n",
        "\n",
        "ブラウザがカメラ利用の可否を聞いてくるので許可をしてください。複数のカメラを搭載している場合は使いたい方のカメラを選んでください。カメラ画像が表示されたら、画像をクリックすると撮影されます。"
      ],
      "metadata": {
        "id": "UFPys5dELcw_"
      }
    },
    {
      "metadata": {
        "id": "QBFFBpx0TV5X",
        "colab": {
          "base_uri": "https://localhost:8080/",
          "height": 659
        },
        "outputId": "4c65f52b-4812-4105-ebc7-a7aad4dd4f89"
      },
      "cell_type": "code",
      "source": [
        "take_photo()"
      ],
      "execution_count": null,
      "outputs": [
        {
          "output_type": "display_data",
          "data": {
            "text/plain": [
              "<IPython.core.display.HTML object>"
            ],
            "text/html": [
              "\n",
              "<video autoplay\n",
              " width=800 height=600></video>\n",
              "<script>\n",
              "var video = document.querySelector('video')\n",
              "navigator.mediaDevices.getUserMedia({ video: true })\n",
              "  .then(stream=> video.srcObject = stream)\n",
              "  \n",
              "var data = new Promise(resolve=>{\n",
              "  video.onclick = ()=>{\n",
              "    var canvas = document.createElement('canvas')\n",
              "    var [w,h] = [video.offsetWidth, video.offsetHeight]\n",
              "    canvas.width = w\n",
              "    canvas.height = h\n",
              "    canvas.getContext('2d')\n",
              "          .drawImage(video, 0, 0, w, h)\n",
              "    video.srcObject.getVideoTracks()[0].stop()\n",
              "    video.replaceWith(canvas)\n",
              "    resolve(canvas.toDataURL('image/jpeg', 0.800000))\n",
              "  }\n",
              "})\n",
              "</script>\n"
            ]
          },
          "metadata": {}
        },
        {
          "output_type": "execute_result",
          "data": {
            "text/plain": [
              "55688"
            ]
          },
          "metadata": {},
          "execution_count": 5
        }
      ]
    },
    {
      "cell_type": "markdown",
      "source": [
        "## Step3. Google DriveをColaboに接続する"
      ],
      "metadata": {
        "id": "3hy1yN9dL-jV"
      }
    },
    {
      "cell_type": "markdown",
      "source": [
        "これもブラウザが許可するか聞いてくるので許可してください。"
      ],
      "metadata": {
        "id": "OOZ5bvOVME-i"
      }
    },
    {
      "metadata": {
        "id": "1x4ZAzzJTY0Y",
        "colab": {
          "base_uri": "https://localhost:8080/"
        },
        "outputId": "c05c8bcd-5959-47c4-807e-96a18ddbfdc2"
      },
      "cell_type": "code",
      "source": [
        "from google.colab import drive\n",
        "drive.mount('/content/drive')"
      ],
      "execution_count": null,
      "outputs": [
        {
          "output_type": "stream",
          "name": "stdout",
          "text": [
            "Mounted at /content/drive\n"
          ]
        }
      ]
    },
    {
      "cell_type": "markdown",
      "source": [
        "## Step4. 共有の格納場所に保存する"
      ],
      "metadata": {
        "id": "8WatC4HUML8H"
      }
    },
    {
      "cell_type": "markdown",
      "source": [
        "この講義の受講者間で共有できるフォルダに撮影した写真を保存します"
      ],
      "metadata": {
        "id": "IfI-M1spMToo"
      }
    },
    {
      "cell_type": "code",
      "source": [
        "!cp /content/*.jpg -r \"/content/drive/Shareddrives/2023-35A01／情報科学 c/test_images/\""
      ],
      "metadata": {
        "id": "6CftzWiPDogE"
      },
      "execution_count": null,
      "outputs": []
    },
    {
      "cell_type": "markdown",
      "source": [
        "成功していれば[ここにファイルが保存されているはず！](https://drive.google.com/drive/folders/1LmeDDJbkQkJOrv4ANVanVoPphT90nRfA?usp=share_link)"
      ],
      "metadata": {
        "id": "2_rXzM3xNa-_"
      }
    }
  ]
}