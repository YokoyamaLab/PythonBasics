{
  "nbformat": 4,
  "nbformat_minor": 0,
  "metadata": {
    "colab": {
      "provenance": [],
      "authorship_tag": "ABX9TyNLMkWfsbetHXNwZzq2Cthc",
      "include_colab_link": true
    },
    "kernelspec": {
      "name": "python3",
      "display_name": "Python 3"
    },
    "language_info": {
      "name": "python"
    }
  },
  "cells": [
    {
      "cell_type": "markdown",
      "metadata": {
        "id": "view-in-github",
        "colab_type": "text"
      },
      "source": [
        "<a href=\"https://colab.research.google.com/github/YokoyamaLab/PythonBasics/blob/main/playground/sort%3A/sort_string_integer.ipynb\" target=\"_parent\"><img src=\"https://colab.research.google.com/assets/colab-badge.svg\" alt=\"Open In Colab\"/></a>"
      ]
    },
    {
      "cell_type": "code",
      "source": [
        "# アンケートのデータは以下のように数値もテキストで入っています。\n",
        "table_str = [\n",
        "    ['150','アリス'],\n",
        "    ['25','ベル'],\n",
        "    ['30','ジャスミン']\n",
        "]\n",
        "\n",
        "# なのでそのままバブルソートにかけると・・・\n",
        "for row1 in table_str:\n",
        "  for row2 in table_str:\n",
        "    if row1[0] < row2[0]:\n",
        "      temp = row2[0]\n",
        "      row2[0] = row1[0]\n",
        "      row1[0] = temp\n",
        "\n",
        "# 小さい順なのに150<25<30と並んでしまいます(辞書順)\n",
        "print(\"辞書順によるソート\")\n",
        "print(table_str)\n",
        "\n",
        "# 整数として比較してやる場合は、比較時にint型に変えるにはint関数を使います\n",
        "for row1 in table_str:\n",
        "  for row2 in table_str:\n",
        "    if int(row1[0]) < int(row2[0]):\n",
        "      temp = row2[0]\n",
        "      row2[0] = row1[0]\n",
        "      row1[0] = temp\n",
        "\n",
        "# そうすれば数字として小さいものから並びます\n",
        "print(\"整数比較によるソート\")\n",
        "print(table_str)\n",
        "\n",
        "# 注意：宿題は大きい順です！\n",
        "\n"
      ],
      "metadata": {
        "id": "USOD7MWT-qW1",
        "outputId": "b1c06759-ee36-4f62-deaf-6b8d65a18a39",
        "colab": {
          "base_uri": "https://localhost:8080/"
        }
      },
      "execution_count": 17,
      "outputs": [
        {
          "output_type": "stream",
          "name": "stdout",
          "text": [
            "辞書順によるソート\n",
            "[['150', 'アリス'], ['25', 'ベル'], ['30', 'ジャスミン']]\n",
            "整数比較によるソート\n",
            "[['25', 'アリス'], ['30', 'ベル'], ['150', 'ジャスミン']]\n"
          ]
        }
      ]
    },
    {
      "cell_type": "code",
      "execution_count": null,
      "metadata": {
        "id": "TWSUi0Av-py3"
      },
      "outputs": [],
      "source": []
    }
  ]
}