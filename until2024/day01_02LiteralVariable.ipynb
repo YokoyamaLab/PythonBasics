{
  "nbformat": 4,
  "nbformat_minor": 0,
  "metadata": {
    "colab": {
      "provenance": [],
      "include_colab_link": true
    },
    "kernelspec": {
      "name": "python3",
      "display_name": "Python 3"
    },
    "language_info": {
      "name": "python"
    }
  },
  "cells": [
    {
      "cell_type": "markdown",
      "metadata": {
        "id": "view-in-github",
        "colab_type": "text"
      },
      "source": [
        "<a href=\"https://colab.research.google.com/github/YokoyamaLab/PythonBasics/blob/2024/day01_02LiteralVariable.ipynb\" target=\"_parent\"><img src=\"https://colab.research.google.com/assets/colab-badge.svg\" alt=\"Open In Colab\"/></a>"
      ]
    },
    {
      "cell_type": "markdown",
      "source": [
        "# Day01 資料02: リテラルと変数"
      ],
      "metadata": {
        "id": "DXRdOkaW0ev_"
      }
    },
    {
      "cell_type": "markdown",
      "source": [
        "## 🌀コメント\n",
        "\n",
        "まず最初にコメントの文法を知っておきましょう。コメントはプログラム中に、実行とは関係のない文章を含める方法で、コードのちょっとした説明等を書きこんでおくのに便利です。C系の言語、例えばJavaやC#はコメントとして```//```を用いますが、Pythonでは```#```を使います。これはRubyやPerlやShellスクリプトと同じ方法です。Webアプリケーションの実装でよく使われるPHPでは```//```と```#```が両方使えます。なおPythonでは複数行にまたがったコメントを書く```/* コメント */```に相当するものはありません。各行の先頭に```#```を各必要があります。\n",
        "\n"
      ],
      "metadata": {
        "id": "x0UtwU1NLuU_"
      }
    },
    {
      "cell_type": "code",
      "source": [
        "# ここに書かれている事はプログラムの実行とは何も関係ありません\n",
        "i = 1 + 1 # プログラムの任意のコードに続けてコメントを書く事も可能です。\n",
        "print(i) # これは変数iを出力する命令です。このセルを実行すると2が表示されるはずです。"
      ],
      "metadata": {
        "id": "PAKmxevlM-t6"
      },
      "execution_count": null,
      "outputs": []
    },
    {
      "cell_type": "markdown",
      "source": [
        "## 🌀リテラル"
      ],
      "metadata": {
        "id": "ppQYT3ileNdV"
      }
    },
    {
      "cell_type": "markdown",
      "source": [
        "> リテラル・直値（英: literal）は、「文字どおり」「字義どおり」を意味する語で、letter と同じくラテン語の littera（文字）に由来する\n",
        "\n",
        "> リテラルとは、数理論理学において、原子論理式あるいは原子論理式の否定のこと。\n",
        "\n",
        "※引用：Wikipedia「[リテラル](https://ja.wikipedia.org/wiki/%E3%83%AA%E3%83%86%E3%83%A9%E3%83%AB)」\n",
        "\n",
        "Pythonの文法に入る前に、Pythonでは「値(リテラル)」をどのように表すのかを見てみましょう。\n",
        "\n"
      ],
      "metadata": {
        "id": "AkehIK5g2s3C"
      }
    },
    {
      "cell_type": "markdown",
      "source": [
        "### 💮なんにも無い事を表す特殊な定数 ###"
      ],
      "metadata": {
        "id": "FSm2YhAZfIQP"
      }
    },
    {
      "cell_type": "markdown",
      "source": [
        "\n",
        "\n",
        "なんにも無い事を表す特殊な定数というと何のことか想像がつかないかもしれません。では、貴方が温度センサーを使ったアプリケーションを作っているとしましょう。温度センサーの値(気温=数値)をどこか変数として格納します。その時、変数を定義して、センサデータの値を、例えば一秒に一回等の頻度で更新していきます。そのとき、変数を定義する時点で、どんな初期値をその変数に割り当てるのが良いでしょうか？\n",
        "\n",
        "最初だから一応「**0**」という人がいるかもしれません。でも**0**は**0度**を表す數です。たまたまその時刻に0度だったという奇跡が無い限り、この初期値は間違った値を示しています。そんな時に便利な値がこの「なんにも無い事を表す特殊な定数」です。\n",
        "\n",
        "```\n",
        "None\n",
        "```\n",
        "\n",
        "JavaやCを始めとして殆どの言語で```null```や```NULL```として表されますが、Pythonは```None```を使います。これは意外と様々な所で出現しますが、この時点では「何も無いを表す必要がある」とだけ覚えておいてください。"
      ],
      "metadata": {
        "id": "4SXfjCOefGvT"
      }
    },
    {
      "cell_type": "markdown",
      "source": [
        "### 💮ブール値 ###"
      ],
      "metadata": {
        "id": "7Na7nkmAfLlb"
      }
    },
    {
      "cell_type": "markdown",
      "source": [
        "ブール値とはTrue(真)もしくはFalse(偽)の値の事です。コンピュータが0か1で表された二進数で動いている事は知っていると思いますが、まさしく「1 bit」とは0か１、すなわち```True```か```False```の事です。\n",
        "\n",
        "```\n",
        "True\n",
        "False\n",
        "```"
      ],
      "metadata": {
        "id": "3Q2K7b23evGI"
      }
    },
    {
      "cell_type": "markdown",
      "source": [
        "なお、実際に、Pythonではブール型のTrueは整数の1、Falseが整数の0と同等とされています。\n",
        "\n",
        "ブール値は1bitの情報量を持っていますが、メモリ上で1bitで表現されているわけではありません。確かめてみましょう。**__sizeof__()**は定数・変数がメモリ上で消費しているサイズを返す関数です。"
      ],
      "metadata": {
        "id": "hT5LaUajPYYN"
      }
    },
    {
      "cell_type": "code",
      "source": [
        "print(True.__sizeof__())\n",
        "print(False.__sizeof__())"
      ],
      "metadata": {
        "id": "icxp5mdbhGrR"
      },
      "execution_count": null,
      "outputs": []
    },
    {
      "cell_type": "markdown",
      "source": [
        "なんとTrueは28byte、Falseは24byteのメモリを消費してしまいます。じつはこれは整数の0と1が消費するメモリ量と同じです。"
      ],
      "metadata": {
        "id": "rDCU-Q26jyKv"
      }
    },
    {
      "cell_type": "code",
      "source": [
        "print((1).__sizeof__())\n",
        "print((0).__sizeof__())"
      ],
      "metadata": {
        "id": "BYkAnz_ekHap"
      },
      "execution_count": null,
      "outputs": []
    },
    {
      "cell_type": "markdown",
      "source": [
        "なんでTrueとFalseのサイズが違うの？とか疑問はあるかもしれませんが、Pythonの初日から、そんなマニアックな話に進むと、後が思いやられますので、ここでは説明はスキップしますが、1bitの情報を管理するのに1bitで済むわけでは無いという事は頭に留めておきましょう。\n",
        "\n",
        "もし「なぜ」が気になる人は[Stack Overflowに同様の質問](https://stackoverflow.com/questions/53015922/different-object-size-of-true-and-false-in-python-3)があったので、そちらを見てください。"
      ],
      "metadata": {
        "id": "QHEQ1xVZkG6b"
      }
    },
    {
      "cell_type": "markdown",
      "source": [
        "### 💮文字列 ###"
      ],
      "metadata": {
        "id": "V5eChxbwfOLC"
      }
    },
    {
      "cell_type": "markdown",
      "source": [
        "\n",
        "例えばブール値ではなく単なる文字列としてのTrueを表す時、プログラム上で単に```True```と書いてしまっては、それがブール値なのか文字列なのかコンピュータは理解する事ができません。そこで殆どの言語では文字列はブラケット(Bracket)で囲う事になっています。Pythonではシングルコーテーション(```'```)かダブルコーテーション(```\"```)で囲います。\n",
        "\n",
        "```\n",
        "'Hello World'\n",
        "\"Hello World\"\n",
        "```\n",
        "\n",
        "```'```と```\"```はどちらを使っても殆ど同じです。ただし、一点だけ注意する事があります。例えば以下の文を表示するプログラムを考えてみましょう。\n",
        "\n",
        "> I'm a student at Tsuda University.\n",
        "\n",
        "そこで、以下の様なコードを実装してみました。"
      ],
      "metadata": {
        "id": "UH_CmGMiGR-O"
      }
    },
    {
      "cell_type": "code",
      "source": [
        "print('I'm a student at Tsuda Unibersity')"
      ],
      "metadata": {
        "id": "tVyxMXN7QY7g"
      },
      "execution_count": null,
      "outputs": []
    },
    {
      "cell_type": "markdown",
      "source": [
        "このコードを実行すると**SyntaxError**というエラーが出てくると思います。なぜでしょうか？\n",
        "\n",
        "**I'm**の**m**の所でエラーがでいますから、おそらくアポストロフィーの問題だと予想がつきます。インタープリタは```'I'm a student...'```最初の**'**の出現で、「ほうほう次の文字からは文字列として解釈すれば良いんだな」と身構えます。そして**I**を読みこみ、その次の文字は**'**ですので、「よし、文字列はここまで！」となります、そして次に**m**が読み込まれて・・・「ん？これはなんだ？」となってしまいます。\n",
        "\n",
        "このような事態を回避するには二つ方法があります。\n",
        "\n",
        "1.   ダブルコーテーション(```\"```)を使う\n",
        "2.   エスケープシーケンスを使う\n",
        "\n",
        "当然ですが文字列をダブルコーテーションで括れば、このような問題は起きません。試してみましょう。\n"
      ],
      "metadata": {
        "id": "bWVkVRErQTRq"
      }
    },
    {
      "cell_type": "code",
      "source": [
        "print(\"I'm a student at Tsuda University.\")"
      ],
      "metadata": {
        "id": "-w-9aU7IRsV_"
      },
      "execution_count": null,
      "outputs": []
    },
    {
      "cell_type": "markdown",
      "source": [
        "エラー無くでてきましたね？\n",
        "\n",
        "もう一つの**エスケープシーケンス**とは何でしょうか。これは「**次に続く文字(あるいは数字列)は私とセットで解釈してね！**」という特殊な文字列の事で、Pythonでは(そしてJavaやJavaScriptなど多くの言語で)、```\\```が使われます。説明だけだと分からないと思いますので、試してみましょう。"
      ],
      "metadata": {
        "id": "3u29Y5gyR18i"
      }
    },
    {
      "cell_type": "code",
      "source": [
        "print('I\\'m a student at Tsuda University.')"
      ],
      "metadata": {
        "id": "q_w-loDzSaVU"
      },
      "execution_count": null,
      "outputs": []
    },
    {
      "cell_type": "markdown",
      "source": [
        "文字列の括りにシングルコーテーションを使っていますが、エラー無く動作しました。これは```\\'```が「**ここでシングルコーテーションが出てくるけれど、これは文字列の終わりを意味するのではなくて、文字列の一部としての記号だからね**」という意味で解釈されます。\n",
        "\n",
        "エスケープシーケンスの使い道は他にも色々とありますが、注意点もあります。例えば、皆さんがオンラインショッピングサイトの実装をしたとしましょう。ある商品を13万4千円で販売しようと思い、その価格を表示するために以下のプログラムを作ったとします。では、これを実行してみましょう。"
      ],
      "metadata": {
        "id": "MfHf1EehSly_"
      }
    },
    {
      "cell_type": "code",
      "source": [
        "print('\\134000-')"
      ],
      "metadata": {
        "id": "Rc2Hy-QKSrAm"
      },
      "execution_count": null,
      "outputs": []
    },
    {
      "cell_type": "markdown",
      "source": [
        "なんと「0円」と出てきてしまいました。これでは良くて始末書、悪くて解雇ですね。\n",
        "\n",
        "なぜこんな事が起こったのでしょうか。\n",
        "\n",
        "実は```\\```に続く数字の列はASCIIコードとして解釈するというエスケープシーケンスのルールがあったからです。コンピュータは文字をビットパターン(0と1の列)として符号化します。符号化のルールは世界的な取り決めがあり、最も基本となるのがASCII (American Standard Code for Information Interchange)と呼ばれる一つの文字を7bitで表す符号化方式です。Pythonでは```\\```に続いて数字が三文字続いた場合、それを八進数で表された7bit ASCIIコードとして解釈します。\n",
        "\n",
        "この現象を理解するために、ASCIIコードの日本版の規格**JIS X 0201**を使って説明します。Wikipediaの『JIS X 0201』の項目に[ASCIIコード表](https://ja.wikipedia.org/wiki/JIS_X_0201#%E3%83%A9%E3%83%86%E3%83%B3%E6%96%87%E5%AD%97%E7%94%A8%E5%9B%B3%E5%BD%A2%E6%96%87%E5%AD%97%E9%9B%86%E5%90%88)があるので見てみましょう。\n",
        "\n",
        "この表には八進表現が書いていないので八進数**134**の十六進表現である**5C**で調べてみると、```\\```である事が分かります。つまり```\\134000-```という文字列の最初の4文字```\\134```は八進ASCIIで円マーク```\\```と解釈されてしまい、結果として```\\000-```になっていたのでした。\n",
        "\n",
        "ここで疑問が沸きます。円マークを表示したい場合は一体全体どうやったら良いのでしょうか。\n",
        "\n",
        "実は、これもエスケープシーケンスを使います。エスケープシーケンスとしての```\\```ではなく、文字としての```\\```を表すためには、```\\\\```と書きます。やってみましょう。"
      ],
      "metadata": {
        "id": "NzyBkNh4XqsZ"
      }
    },
    {
      "cell_type": "code",
      "source": [
        "print('\\\\134000-')"
      ],
      "metadata": {
        "id": "F6dBt-imf-vr"
      },
      "execution_count": null,
      "outputs": []
    },
    {
      "cell_type": "markdown",
      "source": [
        "これなら解雇されずに済みます。\n",
        "\n",
        "他にも便利なエスケープシーケンスがありますので覚えて置きましょう。"
      ],
      "metadata": {
        "id": "66tBfVlTgGHQ"
      }
    },
    {
      "cell_type": "code",
      "source": [
        "# タブを表す \\t\n",
        "print('Column1\\tColumn2')"
      ],
      "metadata": {
        "id": "QfKirdkHguq1"
      },
      "execution_count": null,
      "outputs": []
    },
    {
      "cell_type": "code",
      "source": [
        "# 改行を表す \\n\n",
        "print(\"line1\\nline2\")"
      ],
      "metadata": {
        "id": "rGVKw7i9gmVQ"
      },
      "execution_count": null,
      "outputs": []
    },
    {
      "cell_type": "markdown",
      "source": [
        "**なぜエスケープシーケンスを表す最初の文字がなぜ円マーク(```\\```)なのか**について、最後に少しだけ触れておきます。\n",
        "\n",
        "エスケープシーケンスは[英語版のWikipedia](https://en.wikipedia.org/wiki/Escape_sequence)を見ると次のような説明があります。\n",
        "\n",
        "> In C and many derivative programming languages, a string escape sequence is a series of two or more characters, starting with a backslash ```\\```."
      ],
      "metadata": {
        "id": "5rokc-xAjtvX"
      }
    },
    {
      "cell_type": "markdown",
      "source": [
        "ここには明確にエスケープシーケンスは**バックスラッシュで始まる**と書かれています。一方で、私達の知っているバックスラッシュは```\\```ではなく、**\\**ではないでしょうか？\n",
        "\n",
        "これには歴史的な深い訳があります。[ASCII表](https://ja.wikipedia.org/wiki/ASCII)はアメリカで作られたものですので```$```マークは入っていますが```\\```は元々存在しません。もちろん1970年代の事ですから、```€```もありません。ASCII表は英語を表すためだけに作られたものですので、日本語はおろかフランス語も表す事が出来ませんでした。\n",
        "\n",
        "そこでこのASCIIを世界標準にするために[ISO/IEC 646](https://ja.wikipedia.org/wiki/ISO/IEC_646#%E7%AC%A6%E5%8F%B7%E8%A1%A8)が生まれました。これはASCII表の記号部分の一部を、未定義として、各国が勝手に定義してよいようにしたものです。問題の**0x5C**はまさに未定義(各国が勝手に定義して良い)の部分で、フランスはここに```ç```を割り当て、日本はここに```\\```を割り当てた訳です。Comme ça?\n",
        "\n",
        "その後、ヨーロッパ諸言語は[ISO/IEC 8859](https://ja.wikipedia.org/wiki/ISO/IEC_8859)という規格において、[ダイアクリティカルマーク](https://ja.wikipedia.org/wiki/%E3%83%80%E3%82%A4%E3%82%A2%E3%82%AF%E3%83%AA%E3%83%86%E3%82%A3%E3%82%AB%E3%83%AB%E3%83%9E%E3%83%BC%E3%82%AF)を整理したのですが、```\\```は日本以外と整合性のとれないまま、現在に至っています。\n",
        "\n",
        "なお、現在はASCIIとも互角性のある[Unicode表](https://ja.wikipedia.org/wiki/Unicode)とそれを元にした[UTF-8](https://ja.wikipedia.org/wiki/UTF-8)が主流で、PythonもデフォルトでUnicodeで文字列を管理しています。\n",
        "\n",
        "Unicodeは世界中のありとあらゆる文字を表現できるようにするプロジェクトで、それ以前は言語ごとにコード体系が異なっており、例えば日本語と韓国語を混ぜたような文書は作る事が出来ませんでした。Unicodeには漢字もハングルも、そして絵文字さえも一つのUnicode表に含まれていますので、こんな事が出来ます。"
      ],
      "metadata": {
        "id": "YFx6xgaGleLJ"
      }
    },
    {
      "cell_type": "code",
      "source": [
        "print('こんにちは\\n안녕하세요\\nආයුබෝවන්\\nسلام\\nவணக்கம்')"
      ],
      "metadata": {
        "id": "68FCLXsIuvOm"
      },
      "execution_count": null,
      "outputs": []
    },
    {
      "cell_type": "markdown",
      "source": [
        "上から、日本語、韓国語、シンハラ語、ペルシア語、タミル語です。ペルシア語は右から左に読みます。\n",
        "\n",
        "複数行の文字列をエスケープシーケンス```\\n```を使えば一行で書ける事は分かりましたが、複数行でソースコード中に書く事もできます。以下の例を見てください。"
      ],
      "metadata": {
        "id": "dYRk3rHXvIQn"
      }
    },
    {
      "cell_type": "code",
      "source": [
        "print('''こんにちは\n",
        "안녕하세요\n",
        "ආයුබෝවන්\n",
        "سلام\n",
        "வணக்கம்\n",
        "''')"
      ],
      "metadata": {
        "id": "0F2mABwtv5af"
      },
      "execution_count": null,
      "outputs": []
    },
    {
      "cell_type": "markdown",
      "source": [
        "この方法は**ビアドキュメント**と呼ばれたりします。\n",
        "\n",
        "さて、文字列はここまで、次に数値を表す方法を学びましょう。"
      ],
      "metadata": {
        "id": "2W50kwj4wPqF"
      }
    },
    {
      "cell_type": "markdown",
      "source": [],
      "metadata": {
        "id": "abnoKRb7fVFE"
      }
    },
    {
      "cell_type": "markdown",
      "source": [
        "### 💮数値 ###"
      ],
      "metadata": {
        "id": "Y-i7f2defdTI"
      }
    },
    {
      "cell_type": "markdown",
      "source": [
        "コンピュータの日本語訳が「***電子計算機***」である事からも想像がつきますが、プログラミングが何のために生まれたかというと、数値を計算するためです。当然Pythonでも数値を扱うことができます。Pythonでは整数値と小数値、そして複素数を扱う事ができます。"
      ],
      "metadata": {
        "id": "-7TOJQNZfgeO"
      }
    },
    {
      "cell_type": "markdown",
      "source": [
        "#### 整数 ####"
      ],
      "metadata": {
        "id": "FN2bkiNXfjbk"
      }
    },
    {
      "cell_type": "markdown",
      "source": [
        "\n",
        "```\n",
        "1234\n",
        "```\n",
        "\n",
        "殆どの言語でソースコード中に数字をそのまま書けば、それは整数として解釈されます。例えば上記の例では千二百三十四を表します。ただ、実は厳密にいうと**ただの整数**ではなく、**十進数の整数**としてプログラムは扱っています。コンピュータ自体は2進数で動いていますので、二進法や十六進法で數を扱う事も多いです。またコンピュータではかつて一文字を6bit(八進法二桁)で表していた事もあり、歴史的な経緯で八進法も使われます。十進法の数値と区別するために、リテラルは以下の様に表現します。\n"
      ],
      "metadata": {
        "id": "Ro5UhxzxBL-c"
      }
    },
    {
      "cell_type": "code",
      "source": [
        "# 十進法\n",
        "print(51966)\n",
        "\n",
        "# 二進法\n",
        "print(0b1100101011111110)\n",
        "\n",
        "# 八進法\n",
        "print(0o145376)\n",
        "\n",
        "# 十六進法\n",
        "print(0xCAFE)"
      ],
      "metadata": {
        "id": "4LfvFleiA5hJ"
      },
      "execution_count": null,
      "outputs": []
    },
    {
      "cell_type": "markdown",
      "source": [
        "どうですか？全て**51966**が表示されましたか？\n",
        "\n",
        "インタープリタが区別できるように、十進法以外では特別な接頭辞が付きます。二進法(Binary number system)の場合は```0b```、八進法(Octal number system)の場合は```0o```、十六進法(Hexadecimal number system)の場合は```0x```を数値の先頭に付けます。\n",
        "\n",
        "では、それ以外のN進法はどうでしょうか。それを実現するためにPythonでは```int(N, base=B)```という関数が準備されています。これは```N```という文字列を```B```進法で解釈して数値化するという意味の関数で、最大で36進法まで表現できます。では**143I**を**三十六進法**で解釈して表示してみましょう。"
      ],
      "metadata": {
        "id": "fMMMyMDdCtgy"
      }
    },
    {
      "cell_type": "code",
      "source": [
        "print(int(\"143I\",base=36))"
      ],
      "metadata": {
        "id": "W3D_YyITFz_f"
      },
      "execution_count": null,
      "outputs": []
    },
    {
      "cell_type": "markdown",
      "source": [
        "やはりこれも**51966**になりました。上記のコードは皆さんの手元で編集可能ですので、数値を変えて試してみる事も可能です。（この講義では出てくるプログラム例は、ぜひ講義を聴きながら、適当に改変してみて実行しなおしてみる事をお勧めします。自分で少しでも改造すれば、Pythonの文法が頭に入りやすくなります。）"
      ],
      "metadata": {
        "id": "8gVhAEZkG4Yn"
      }
    },
    {
      "cell_type": "markdown",
      "source": [
        "#### 小数 ####"
      ],
      "metadata": {
        "id": "XlM0D_N-w-yC"
      }
    },
    {
      "cell_type": "markdown",
      "source": [
        "プログラムで扱う数値は整数だけではありません、当然、小数の値も扱えなければなりません。小数の値も整数とおなじく、プログラム内で記述する事ができます。以下のセルを実行してみましょう。"
      ],
      "metadata": {
        "id": "LCWltGI82Hya"
      }
    },
    {
      "cell_type": "code",
      "source": [
        "print(123.45)\n",
        "print(12345e-2)"
      ],
      "metadata": {
        "id": "AhHHGksLIXY7"
      },
      "execution_count": null,
      "outputs": []
    },
    {
      "cell_type": "markdown",
      "source": [
        "書き方は二種類あり、前者の```123.45```のようにそのまま小数値を書く方法と、『有効数字』と親和性の高い後者の方法があります。ちなみに後者は以下の式で示される小数値の事で、```123.45```を表します。\n",
        "\n",
        "$$\n",
        "12345 \\times 10^{-2}\n",
        "$$\n",
        "\n",
        "では、次の例はどうでしょうか。"
      ],
      "metadata": {
        "id": "Ebn59JKUImFc"
      }
    },
    {
      "cell_type": "code",
      "source": [
        "print(0.1)\n",
        "print(0.10000000000000001)\n",
        "print(0.1000000000000000055511151231257827021181583404541015625)"
      ],
      "metadata": {
        "id": "PKpfIN_A2Qdx"
      },
      "execution_count": null,
      "outputs": []
    },
    {
      "cell_type": "markdown",
      "source": [
        "あれ？異なった小数値を表示しようとしているのに、全部が**0.1**になってしまいました。なんででしょう。\n",
        "\n",
        "実は、コンピュータは、一件数値計算が得意なような顔をしていますが、0.1という簡単な小数値すら、まともに理解する事ができません。\n",
        "\n",
        "コンピュータはあらゆる値を二進数で管理しています。これが小数値の扱いに問題を引き起こします。どういう事かと言うと、十進数の**0.1**はすなわち「10分の1」を意味しますが、この「10分の1」が二進数では巡回小数になってしまうのです。\n",
        "\n",
        "> 0.0001100110011001100110011001100110011001100110011...\n",
        "\n",
        "プログラミング言語では小数の値を[浮動小数点数](https://ja.wikipedia.org/wiki/%E6%B5%AE%E5%8B%95%E5%B0%8F%E6%95%B0%E7%82%B9%E6%95%B0)として管理します。巡回小数の場合、コンピュータのメモリは無限ではないので、ある程度の桁数までしか表せません。Pythonを含む殆どの言語で64bitを使って表します。これを[倍精度浮動小数点数](https://ja.wikipedia.org/wiki/%E5%80%8D%E7%B2%BE%E5%BA%A6%E6%B5%AE%E5%8B%95%E5%B0%8F%E6%95%B0%E7%82%B9%E6%95%B0)と言います。浮動小数点数とは、あらゆる小数を以下のような式で表します。\n",
        "\n",
        "$$\n",
        "-123\\times 2^{-45}\n",
        "$$\n",
        "\n",
        "もちろん**-123**の部分と**-45**の部分は可変です。ここを変える事によって二進法で表す事のできる小数値を表現します。倍精度浮動小数点では、これを64bitで表すのですが、当然長さに限界があります。0.1は巡回小数になる事は説明しましたが、64bitの概数では次の様に表されます。\n",
        "\n",
        "$$\n",
        "3602879701896397 \\times 2^{-55}\n",
        "$$\n",
        "\n",
        "この値は厳密に計算すると```0.1000000000000000055511151231257827021181583404541015625```なのですが、これをPythonでは(そして多くのプログラミング言語でも)```0.1```と表示します。なので、冒頭で示した例の様になるのです。\n",
        "\n",
        "長々と説明しましたが、簡単に言うと**十進法で示せて当たり前の数が二進法では示せない**という事を常に心の片隅に置いておきましょうという事です。\n",
        "\n",
        "これ以上は詳しく説明しませんが、以下のような事も起きます。オソロシヤ。"
      ],
      "metadata": {
        "id": "WYm8crTX2TDl"
      }
    },
    {
      "cell_type": "code",
      "source": [
        "# 0.1を三回足す\n",
        "print(0.1+0.1+0.1)\n",
        "\n",
        "# 0.1を10倍しそれを三回足した後で10で割る\n",
        "print((0.1 * 10 + 0.1 * 10 + 0.1 * 10) / 10)"
      ],
      "metadata": {
        "id": "cx6HAjJIxHMN"
      },
      "execution_count": null,
      "outputs": []
    },
    {
      "cell_type": "markdown",
      "source": [
        "#### 複素数 ####"
      ],
      "metadata": {
        "id": "GAUpsTXbdjzM"
      }
    },
    {
      "cell_type": "markdown",
      "source": [
        "Pythonでは複素数の値も扱えます。これは単に```2+8j```等と書くだけです。"
      ],
      "metadata": {
        "id": "9IDMWgxddoHj"
      }
    },
    {
      "cell_type": "code",
      "source": [
        "print((2 + 8j) * (2 + 8j))"
      ],
      "metadata": {
        "id": "SuFA2yacElJM"
      },
      "execution_count": null,
      "outputs": []
    },
    {
      "cell_type": "markdown",
      "source": [
        "ただし、これまでに紹介した実数を前提とした整数型・小数型から複素数へ自由に行き来できる訳では無い事は注意してください。例えば以下のセルを実行してみましょう。Pythonで平方根は```math.sqrt(N)```という関数で求めます。なので、以下の式は数学的な知識があれば、答えは```5i```になる予想が付くと思います。"
      ],
      "metadata": {
        "id": "PTr5QkutF15y"
      }
    },
    {
      "cell_type": "code",
      "source": [
        "print(math.sqrt(-25))"
      ],
      "metadata": {
        "id": "LoBj7lOmK0PJ"
      },
      "execution_count": null,
      "outputs": []
    },
    {
      "cell_type": "markdown",
      "source": [
        "エラーが出てきたと思います。```math.sqrt(N)```が複素数に対応していないためにこのエラーが引き起こされます。幸いPythonには高度な数値計算の為のライブラリが豊富に用意されており、**numpy**というライブラリを利用すると、答えが複素数になるような平方根を計算する事ができます。"
      ],
      "metadata": {
        "id": "dPTQmgjlK6fg"
      }
    },
    {
      "cell_type": "code",
      "source": [
        "import numpy\n",
        "numpy.lib.scimath.sqrt(-25)"
      ],
      "metadata": {
        "id": "4o7zPYYgK6H4"
      },
      "execution_count": null,
      "outputs": []
    },
    {
      "cell_type": "markdown",
      "source": [
        "答えは**5j**とでてきました。もしかしたら皆さんは虚数単位を**i**と習ったかもしれませんが、Pythonでは**j**としています。これは電気系の勉強をしている人にはお馴染みですが、それ以外の人には少々驚きかもしれません。\n",
        "\n",
        "Pythonを初めてすぐに複素数の扱いが必要になる事は無いとは思いますが、複素数を扱う時は『ライブラリを選ぶ』と覚えておきましょう。"
      ],
      "metadata": {
        "id": "rRZ7yEJFK6af"
      }
    },
    {
      "cell_type": "markdown",
      "source": [
        "## 🌀変数 ##"
      ],
      "metadata": {
        "id": "CCfS1AQrOtnu"
      }
    },
    {
      "cell_type": "markdown",
      "source": [
        "### 💮変数定義とデータ型 ###"
      ],
      "metadata": {
        "id": "ALagGsPeCdje"
      }
    },
    {
      "cell_type": "markdown",
      "source": [
        "ここまでリテラルを学んできましたが、リテラルは大抵変数に代入して利用するので、変数の定義の仕方も覚えてしまいましょう。"
      ],
      "metadata": {
        "id": "hh3fny2wPWVL"
      }
    },
    {
      "cell_type": "code",
      "source": [
        "name = '津田梅子'\n",
        "print(name)"
      ],
      "metadata": {
        "id": "6VjDqso2OvzU"
      },
      "execution_count": null,
      "outputs": []
    },
    {
      "cell_type": "markdown",
      "source": [
        "これまでにJava等の言語を習得してきた人にとってはすこし拍子抜けするのではないでしょうか。\n",
        "\n",
        "\n",
        "```\n",
        "String name = \"津田梅子\";\n",
        "```\n",
        "\n",
        "Javaの場合はこのように変数の型を定義しなくてはならなかったと思います。Pyhonではそれは不要です。ただ型が無い訳ではありません。```type(var)```という型を調べる関数がありますが、試しに先ほどの例の型を見てみましょう。\n"
      ],
      "metadata": {
        "id": "5XuV-okURt3a"
      }
    },
    {
      "cell_type": "code",
      "source": [
        "print(type(name))\n",
        "print(type(1))\n",
        "print(type(1.0))\n",
        "print(type(1j))"
      ],
      "metadata": {
        "id": "abbxB81fSrqY"
      },
      "execution_count": null,
      "outputs": []
    },
    {
      "cell_type": "markdown",
      "source": [
        "**name**はきちんと**str**つまり**String型**だと出てきました。整数は**int**(Integer)、小数は**float**、複素数は**complex**となりました。このように、Pythonでは変数の型は自動的に決定されます。\n",
        "\n",
        "では演算時はどうでしょうか？以下のコードを見てみましょう。"
      ],
      "metadata": {
        "id": "AVWkQjjSTJOe"
      }
    },
    {
      "cell_type": "code",
      "source": [
        "str_1 = 'Hello';\n",
        "str_2 = 'World';\n",
        "int_1 = 1\n",
        "int_2 = 2\n",
        "\n",
        "print(str_1 + str_2)\n",
        "print(int_1 + int_2)"
      ],
      "metadata": {
        "id": "CRt1OHbYRm2K"
      },
      "execution_count": null,
      "outputs": []
    },
    {
      "cell_type": "markdown",
      "source": [
        "この様に同じ『**+**』という演算子ですが、文字列同士の場合は**連結**となり、整数同士だと**加算**となります。型を明示しなくても、変数に格納されているデータに応じて、適切な演算が行われます。なお、```print(str_1 + int_1)```のような異なる型ではエラーができます。"
      ],
      "metadata": {
        "id": "8sOMZ-E4SEio"
      }
    },
    {
      "cell_type": "markdown",
      "source": [
        "この方法論は『弱い型付け』とも呼ばれ、他にもRubyやJavaScript、PHP、Perl等が当てはまります。一方でJavaやC等は変数定義の時点で明示的に型を示す必要があり『強い型付け』と分類されます。\n"
      ],
      "metadata": {
        "id": "TjZlARsURfYx"
      }
    },
    {
      "cell_type": "markdown",
      "source": [
        "### 💮変数名をどうするか ###"
      ],
      "metadata": {
        "id": "gIRGDzOLChob"
      }
    },
    {
      "cell_type": "markdown",
      "source": [
        "皆さんは、変数名の命名をどうしていますか？\n",
        "\n",
        "例えば年齢を入れるから**age**という変数名にするとか、カウンターを表す変数だから、頭文字をとって**c**とする等としていると思います。変数名の命名方法にはいくつか流派がありますが、まずはPythonとしてのルールを見てみましょう。\n",
        "\n",
        "以下のような変数名は許されると思いますか？"
      ],
      "metadata": {
        "id": "jXFSjeEdCpcC"
      }
    },
    {
      "cell_type": "code",
      "source": [
        "年齢 = 22\n",
        "print(年齢)"
      ],
      "metadata": {
        "id": "LCO_8-7PEb2d"
      },
      "execution_count": null,
      "outputs": []
    },
    {
      "cell_type": "markdown",
      "source": [
        "なんと、これは実行が成功します。実は変数名等に日本語を使う事が出来ます。次はどうでしょうか？"
      ],
      "metadata": {
        "id": "NAnZ9ONUEj9X"
      }
    },
    {
      "cell_type": "code",
      "source": [
        "㍍ = 100\n",
        "print(㍍)"
      ],
      "metadata": {
        "id": "eDApt7lnF-6L"
      },
      "execution_count": null,
      "outputs": []
    },
    {
      "cell_type": "markdown",
      "source": [
        "残念ながらこれはダメでした。ここら辺のルールは複雑なので割愛しますが、皆さんがすでに習っているJavaも日本語の変数名が付けられます。\n",
        "\n",
        "日本語話者以外にプログラムを理解させたくない場合には便利かもしれませんが、それ以外に利点がないので、辞めて置く方が無難です。\n",
        "\n",
        "それ以外にも、変数名にはいくつかPythonの文法上の制約があります。例えば数字で始まる変数名は使えません。"
      ],
      "metadata": {
        "id": "Mi7Bg3OIGEkS"
      }
    },
    {
      "cell_type": "code",
      "source": [
        "5gatsu = 'May'"
      ],
      "metadata": {
        "id": "jy9tPsxRHA4l"
      },
      "execution_count": null,
      "outputs": []
    },
    {
      "cell_type": "markdown",
      "source": [
        "**_**(アンダーバー)以外の記号は使えません。"
      ],
      "metadata": {
        "id": "Pn1l0nDxHOuP"
      }
    },
    {
      "cell_type": "code",
      "source": [
        "age_of_customer = 22\n",
        "age-of-customer = 22"
      ],
      "metadata": {
        "id": "O0xvLhEmHUfT"
      },
      "execution_count": null,
      "outputs": []
    },
    {
      "cell_type": "markdown",
      "source": [
        "言語仕様として予約されている語は変数名で使えません\n",
        "\n",
        "1.   リスト項目\n",
        "2.   リスト項目\n",
        "\n"
      ],
      "metadata": {
        "id": "VV_V7wl4Hjo6"
      }
    },
    {
      "cell_type": "code",
      "source": [
        "True = 123"
      ],
      "metadata": {
        "id": "khbs4DzLHxLX"
      },
      "execution_count": null,
      "outputs": []
    },
    {
      "cell_type": "markdown",
      "source": [
        "その他、**False**、**None**や、今後説明する制御構文に使われる**if**や**for**等も変数名にする事が出来ません。このような語を**予約語**と呼びます。"
      ],
      "metadata": {
        "id": "miuzJYfVH4SH"
      }
    },
    {
      "cell_type": "markdown",
      "source": [
        "### 💮変数名のお作法 ###"
      ],
      "metadata": {
        "id": "2AEXm1vdJpBO"
      }
    },
    {
      "cell_type": "markdown",
      "source": [
        "変数名は**a**でも**b**でも**c**でも良いのですが、他人や一週間後の自分が読む事を考えると、**その変数が何であるのか**がきちんと分かる名前にする事が良いとされています。ただ、分かりやすい名前を考えれば考えるほど、数単語からなる変数名を付けたくなります。例えば学籍番号を管理するために**Student id number**という変数を作りたい場合どうしましょうか。Pythonとしての制約は、**変数名の途中にスペースが含められない**という事だけです。\n",
        "\n",
        "以下のような変数名はどうでしょうか？"
      ],
      "metadata": {
        "id": "33LwjM3dKBEG"
      }
    },
    {
      "cell_type": "code",
      "source": [
        "Studentidnumber = '12345678'"
      ],
      "metadata": {
        "id": "h3Rg0o73Liqy"
      },
      "execution_count": null,
      "outputs": []
    },
    {
      "cell_type": "markdown",
      "source": [
        "Pythonの文法としては問題無いので、実行可能です。ただ、人間的には非常に読みにくいと思います。そこで、「**読みやすい方法**」が**いくつか**慣習として確立しています。\n",
        "\n",
        "**Upper Camel Case**\n",
        "\n",
        "各単語の最初のアルファベットを大文字にしてくっつけたもの\n",
        "\n",
        "```\n",
        "StudentIdNumber\n",
        "```\n",
        "\n",
        "**Lower Camel Case**\n",
        "\n",
        "Upper Camel Caseと同様だか一番最初の文字を小文字にするもの\n",
        "\n",
        "```\n",
        "studentIdNumber\n",
        "```\n",
        "\n",
        "**Kebab Case**\n",
        "\n",
        "スペースの代わりに**-**(ハイフン)を用いるもの (Pythonでは禁止)\n",
        "\n",
        "```\n",
        "student-id-number\n",
        "```\n",
        "\n",
        "**Sneak Case**\n",
        "\n",
        "スペースの代わりに**_**(アンダーバー)を用いるもの\n",
        "```\n",
        "student_id_number\n",
        "```\n"
      ],
      "metadata": {
        "id": "05gugwWWLpnz"
      }
    },
    {
      "cell_type": "markdown",
      "source": [
        "Pythonでは慣習として**変数名にはSneak Case**を使います。なお、今後学習しますが、関数名もSnake Case、クラス名はUpper Camell Case、クラスのメソッド名にはSnake Caseを用います。"
      ],
      "metadata": {
        "id": "_GDLvH4aJx0R"
      }
    },
    {
      "cell_type": "markdown",
      "source": [
        "## 🌀定数"
      ],
      "metadata": {
        "id": "RhsXJSBVgOvC"
      }
    },
    {
      "cell_type": "markdown",
      "source": [
        "Pythonには定数はありません。\n",
        "\n",
        "Pythonには定数はありません。\n",
        "\n",
        "Pythonには定数はありません。\n",
        "\n",
        "変数は自由に上書きができます。一方で定数は上書きが出来ない変数です。cの場合は```const float pi = 3.14f;```のように定義しますし、JavaScriptでは```const pi = 3.14;```のように定義します。Javaの場合は```final float pi = 3.14```です。このように宣言された定数は、実行時に別の値を新たに代入する事はできずエラーになります。\n",
        "\n",
        "JavaScriptではπは```Math.PI```という定数が予め定義されています。定数ですのでこれを更新はできません。ではPythonではどうでしょうか。Pythonでもmath.piとしてπを扱う事ができます。\n"
      ],
      "metadata": {
        "id": "y2m1paF3gRih"
      }
    },
    {
      "cell_type": "code",
      "source": [
        "import math\n",
        "print(math.pi)\n",
        "# 3.141592653589793が表示されるはず\n",
        "# ゆとりをもって「円周率を3にします」\n",
        "math.pi = 3  # 定数ならばここでエラーが出るはずですが、Pythonではでません\n",
        "# ではmath.piの中身がどうなったか見てみましょう。\n",
        "print(math.pi)"
      ],
      "metadata": {
        "id": "H2nG46WbgtlY"
      },
      "execution_count": null,
      "outputs": []
    },
    {
      "cell_type": "markdown",
      "source": [
        "ちなみに上記のセルを二回目実行すると、一行目も3になってしまいます。このノートにおいては、ランタイムを再起動(上のメニューにあります)しない限り、```math.pi```は**3**のままですのでご注意ください。"
      ],
      "metadata": {
        "id": "SalJE_1ZlA77"
      }
    },
    {
      "cell_type": "markdown",
      "source": [
        "## 🌀複合的なデータ型"
      ],
      "metadata": {
        "id": "qkQOKECqH2iP"
      }
    },
    {
      "cell_type": "markdown",
      "source": [
        "### 💮日付時間型"
      ],
      "metadata": {
        "id": "qITde3b8H48c"
      }
    },
    {
      "cell_type": "markdown",
      "source": [
        "リテラルだけでは表しにくい情報も当然Pythonでは利用する事ができます。その代表的なものに日付や時間があります。Pythonにはデフォルトでdatetimeというモジュールがあり、それを活用すると手軽に日付や時間表現を変数として保持する事ができます。datetimeモジュールを使うにはプログラムの冒頭で**import**します。```datetime.datetime.now()```は現在時刻を得る関数で**now_time**に現在時刻が格納されます。"
      ],
      "metadata": {
        "id": "7TauWXz_IAjZ"
      }
    },
    {
      "cell_type": "code",
      "source": [
        "import datetime\n",
        "\n",
        "now_time = datetime.datetime.now()\n",
        "print(now_time)"
      ],
      "metadata": {
        "id": "ok2yL745Ih4Q"
      },
      "execution_count": null,
      "outputs": []
    },
    {
      "cell_type": "markdown",
      "source": [
        "現在時刻がでてきましたか？おそらく9時間キッカリ遅い時間が表示されているのではないでしょうか。Google ColabのサーバはUTC(イギリスあたりの時刻)で動いており、日本時間(JST)とは9時間の時差があります。\n",
        "\n",
        "datetime型には日付計算のための便利な機能が沢山あり、減算演算子を使って、**津田梅子の誕生日(1864年12月31日)と今日の差分**を取るなんて事も可能です。"
      ],
      "metadata": {
        "id": "16u1RtxqJZg3"
      }
    },
    {
      "cell_type": "code",
      "source": [
        "umeko_birthday = datetime.datetime(1864, 12, 31) # 津田梅子の誕生日\n",
        "umeko_age = now_time - umeko_birthday            # 津田梅子の誕生日　－　今日の日付\n",
        "print(umeko_age.days)                            # 差を日数で表す"
      ],
      "metadata": {
        "id": "fgr1vbDgKVwx"
      },
      "execution_count": null,
      "outputs": []
    },
    {
      "cell_type": "markdown",
      "source": [
        "## 🌀まとめ ##"
      ],
      "metadata": {
        "id": "BfYpD5cP-vWG"
      }
    },
    {
      "cell_type": "markdown",
      "source": [
        "この**ノートブック**(Colabで表示しているこのコンテンツはJupyter Notebook形式のファイルですので、こう呼びます)では、Pythonのプログラム中で現れる様々なデータ型の値とそれを変数へ代入する方法を学びました。"
      ],
      "metadata": {
        "id": "TqpcyVsE-9ph"
      }
    }
  ]
}