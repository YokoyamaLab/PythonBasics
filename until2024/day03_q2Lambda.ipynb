{
  "nbformat": 4,
  "nbformat_minor": 0,
  "metadata": {
    "colab": {
      "provenance": [],
      "include_colab_link": true
    },
    "kernelspec": {
      "name": "python3",
      "display_name": "Python 3"
    },
    "language_info": {
      "name": "python"
    }
  },
  "cells": [
    {
      "cell_type": "markdown",
      "metadata": {
        "id": "view-in-github",
        "colab_type": "text"
      },
      "source": [
        "<a href=\"https://colab.research.google.com/github/YokoyamaLab/PythonBasics/blob/2024/day03_q2Lambda.ipynb\" target=\"_parent\"><img src=\"https://colab.research.google.com/assets/colab-badge.svg\" alt=\"Open In Colab\"/></a>"
      ]
    },
    {
      "cell_type": "markdown",
      "source": [
        "# Day03 課題Q2 発展課題"
      ],
      "metadata": {
        "id": "ei0kw-5dhD8c"
      }
    },
    {
      "cell_type": "markdown",
      "source": [
        "> 発展課題は提出必須ではありません\n",
        "\n",
        "まず、以下のセルに学籍番号と名前を入れて、実行してください。Google Classroomから配布された場合はこのファイルに直接書き込んで保存してください。Classroomの課題のページで[**提出**]ボタンを押さないと、提出した事になりませんので注意してください。"
      ],
      "metadata": {
        "id": "cbFRS8YdhBkv"
      }
    },
    {
      "cell_type": "code",
      "execution_count": null,
      "metadata": {
        "cellView": "form",
        "id": "NcLtFaPzg6lf"
      },
      "outputs": [],
      "source": [
        "#@title 学籍番号、名前\n",
        "id = \"\" #@param {type:\"string\"}\n",
        "name = \"\" #@param {type:\"string\"}"
      ]
    },
    {
      "cell_type": "markdown",
      "source": [
        "【課題】ランダムで生成したリストをMapで処理し、3の倍数か3が付く数の時だけ、正負を反転させよ。尚、ラムダ式を使い一行のプログラムで示せ。\n",
        "\n",
        "\n",
        "まず、以下のコードでランダムなリストを生成します。"
      ],
      "metadata": {
        "id": "9xdAcTLOhbHX"
      }
    },
    {
      "cell_type": "code",
      "source": [
        "import random\n",
        "in_list = random.sample(range(-50,50), k=30)\n",
        "print(in_list)"
      ],
      "metadata": {
        "id": "KC1XZazDh9Qz"
      },
      "execution_count": null,
      "outputs": []
    },
    {
      "cell_type": "markdown",
      "source": [
        "**in_list**は長さ30の-50～50までの整数を持つリストです。これを3の倍数か3が付く数の時だけ符号を反転させて、**out_list**という変数に格納してください。\n",
        "\n",
        "なお、53という数字に3が含まれているか調べるには、一度**str()**関数で文字列型にしてから**in**を使って調べられます。3の倍数かは3で割った余りで調べられるので、それをorで結ぶと、題意を満たす条件文が作れます。"
      ],
      "metadata": {
        "id": "O0qug7QniVeK"
      }
    },
    {
      "cell_type": "code",
      "source": [
        "n53 = 53\n",
        "n52 = 52\n",
        "n51 = 51\n",
        "print( '3' in str(n53) or n53 % 3 == 0)\n",
        "print( '3' in str(n52) or n52 % 3 == 0)\n",
        "print( '3' in str(n51) or n51 % 3 == 0)"
      ],
      "metadata": {
        "id": "lw3rlzaER5_Q"
      },
      "execution_count": null,
      "outputs": []
    },
    {
      "cell_type": "markdown",
      "source": [
        "コードは一行で実現してください。"
      ],
      "metadata": {
        "id": "fR_F8P3ORn3H"
      }
    },
    {
      "cell_type": "code",
      "source": [
        "# ここに実装\n",
        "out_list ="
      ],
      "metadata": {
        "id": "iK3sg8f1izbo"
      },
      "execution_count": null,
      "outputs": []
    },
    {
      "cell_type": "markdown",
      "source": [
        "以下のコードでout_listを確認して、正しければ提出してください。"
      ],
      "metadata": {
        "id": "nHyz0D3Ji4cY"
      }
    },
    {
      "cell_type": "code",
      "source": [
        "print(in_list)\n",
        "print(out_list)"
      ],
      "metadata": {
        "id": "P24KgJHEi7Go"
      },
      "execution_count": null,
      "outputs": []
    },
    {
      "cell_type": "markdown",
      "source": [
        "**期限**\n",
        "\n",
        "次回講義の１日前の23:59までに提出したものを評価します。\n"
      ],
      "metadata": {
        "id": "ZVex5IVzjFhp"
      }
    },
    {
      "cell_type": "markdown",
      "source": [
        "# おしまい"
      ],
      "metadata": {
        "id": "8IN18Q1NjI4v"
      }
    },
    {
      "cell_type": "markdown",
      "source": [
        "講義内で説明した方法に従って、この宿題を提出してください。お疲れ様でした。\n"
      ],
      "metadata": {
        "id": "AMCDRpxMjKgf"
      }
    }
  ]
}