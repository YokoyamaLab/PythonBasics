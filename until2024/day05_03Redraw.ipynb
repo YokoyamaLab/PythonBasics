{
  "nbformat": 4,
  "nbformat_minor": 0,
  "metadata": {
    "colab": {
      "provenance": [],
      "authorship_tag": "ABX9TyPPPd43J+JpzE0Vv4TccSFj",
      "include_colab_link": true
    },
    "kernelspec": {
      "name": "python3",
      "display_name": "Python 3"
    },
    "language_info": {
      "name": "python"
    }
  },
  "cells": [
    {
      "cell_type": "markdown",
      "metadata": {
        "id": "view-in-github",
        "colab_type": "text"
      },
      "source": [
        "<a href=\"https://colab.research.google.com/github/YokoyamaLab/PythonBasics/blob/2024/day05_03Redraw.ipynb\" target=\"_parent\"><img src=\"https://colab.research.google.com/assets/colab-badge.svg\" alt=\"Open In Colab\"/></a>"
      ]
    },
    {
      "cell_type": "markdown",
      "source": [
        "\n",
        "# Day05 資料03 参考情報\n",
        "\n",
        "## 画像の再描画"
      ],
      "metadata": {
        "id": "sPOXaRLlv-1O"
      }
    },
    {
      "cell_type": "markdown",
      "source": [
        "colabの出力は基本的にはコマンドラインでプログラムを動かした時の標準出力を表示しているにすぎないので、オンデマンドな書き換え等が容易ではありません。このノートではその方法を示しています。"
      ],
      "metadata": {
        "id": "dYgKXub106u9"
      }
    },
    {
      "cell_type": "code",
      "source": [
        "from google.colab import drive\n",
        "drive.mount(\"/content/gdrive\")"
      ],
      "metadata": {
        "id": "bbRlZaxL57P1"
      },
      "execution_count": null,
      "outputs": []
    },
    {
      "cell_type": "code",
      "source": [
        "# Gdrive上からGoogle Colabの環境にダウンロードする\n",
        "!cp \"/content/gdrive/Shareddrives/2024-35A01／情報科学 e／横山 昌平/lib/face_component.py\" \"/content\"\n",
        "!cp \"/content/gdrive/Shareddrives/2024-35A01／情報科学 e／横山 昌平/lib/face_students.py\" \"/content\""
      ],
      "metadata": {
        "id": "BuMpMEXN59BI"
      },
      "execution_count": null,
      "outputs": []
    },
    {
      "cell_type": "code",
      "source": [
        "# 元となるクラスを読みこむ\n",
        "from face_component import *\n",
        "# 宿題でみんなが提出したクラスを読みこむ\n",
        "from face_students import *\n",
        "# その他必要なクラスを読みこむ\n",
        "from PIL import Image, ImageDraw, ImageFont\n",
        "import math,sys,inspect,time"
      ],
      "metadata": {
        "id": "PxvvRErk5-8p"
      },
      "execution_count": null,
      "outputs": []
    },
    {
      "cell_type": "markdown",
      "source": [
        "### その１：画像を何回も表示する（ダメな例）"
      ],
      "metadata": {
        "id": "uOAiKGtmwCy3"
      }
    },
    {
      "cell_type": "markdown",
      "source": [
        "まず2個の顔を連続して出すコードを示します。\n",
        "\n",
        "ここでは、顔１を描いた後に、顔２を描く時、顔１を上書きして欲しいのですが、２つ目の顔しか出てきません。"
      ],
      "metadata": {
        "id": "U9-ZBG-8xzph"
      }
    },
    {
      "cell_type": "code",
      "execution_count": null,
      "metadata": {
        "id": "26OV2DsWv-Fd"
      },
      "outputs": [],
      "source": [
        "image = Image.new(\"RGBA\", (400, 400), (236, 239, 241))\n",
        "canvas = ImageDraw.Draw(image)\n",
        "skincolor=(249, 168, 37)\n",
        "face = Face(skincolor)\n",
        "face.draw(canvas)\n",
        "eyes = Eyes(skincolor)\n",
        "eyes.draw(canvas)\n",
        "mouth = Mouth(skincolor)\n",
        "mouth.draw(canvas)\n",
        "nose = Nose(skincolor)\n",
        "nose.draw(canvas)\n",
        "ears = Ears(skincolor)\n",
        "ears.draw(canvas)\n",
        "hair = Hair(skincolor)\n",
        "hair.draw(canvas)\n",
        "# ここで表示しようとしている顔(髪の毛が直線)は表示されない\n",
        "image\n",
        "\n",
        "# ５秒休憩\n",
        "time.sleep(5)\n",
        "\n",
        "image = Image.new(\"RGBA\", (400, 400), (236, 239, 241))\n",
        "canvas = ImageDraw.Draw(image)\n",
        "skincolor=(249, 168, 37)\n",
        "face = Face(skincolor)\n",
        "face.draw(canvas)\n",
        "eyes = Eyes(skincolor)\n",
        "eyes.draw(canvas)\n",
        "mouth = Mouth(skincolor)\n",
        "mouth.draw(canvas)\n",
        "nose = Nose(skincolor)\n",
        "nose.draw(canvas)\n",
        "ears = Ears(skincolor)\n",
        "ears.draw(canvas)\n",
        "hair = SmoothHair(skincolor)\n",
        "hair.draw(canvas)\n",
        "# ここで表示しようとしている顔(髪の毛が曲線)は表示される\n",
        "image"
      ]
    },
    {
      "cell_type": "markdown",
      "source": [
        "## その２：画像を表示するのにIPythonのdipslayを使う"
      ],
      "metadata": {
        "id": "JUTgGPTPwSj4"
      }
    },
    {
      "cell_type": "markdown",
      "source": [
        "画像の表示部が```image```から```display(image)```に代わっている事に注目してください。そして、数秒スリープの後、```clear_output```で画面を一旦クリアし、また、いつも通り画像を描画しています。これを使えば、例えばランダムな顔を表示するパラパラアニメ的なものも作れるかもしれません。\n",
        "\n",
        "下記の例では、ある顔を5秒間表示し、その後、別の顔に抱えるコード例です。"
      ],
      "metadata": {
        "id": "TW75myO4yMJs"
      }
    },
    {
      "cell_type": "code",
      "source": [
        "# 再描画のためにいったん画面をクリアする機能をimportする\n",
        "from IPython.display import clear_output"
      ],
      "metadata": {
        "id": "G-ONDUhXGlVJ"
      },
      "execution_count": null,
      "outputs": []
    },
    {
      "cell_type": "code",
      "source": [
        "\n",
        "\n",
        "image = Image.new(\"RGBA\", (400, 400), (236, 239, 241))\n",
        "canvas = ImageDraw.Draw(image)\n",
        "skincolor=(249, 168, 37)\n",
        "face = Face(skincolor)\n",
        "face.draw(canvas)\n",
        "eyes = Eyes(skincolor)\n",
        "eyes.draw(canvas)\n",
        "mouth = Mouth(skincolor)\n",
        "mouth.draw(canvas)\n",
        "nose = Nose(skincolor)\n",
        "nose.draw(canvas)\n",
        "ears = Ears(skincolor)\n",
        "ears.draw(canvas)\n",
        "hair = Hair(skincolor)\n",
        "hair.draw(canvas)\n",
        "buf = io.BytesIO()\n",
        "display(image)\n",
        "\n",
        "# ５秒休憩\n",
        "time.sleep(5)\n",
        "\n",
        "# 画面をクリアする　！！ここ重要\n",
        "clear_output(True)\n",
        "\n",
        "# クリアした後で描く\n",
        "image = Image.new(\"RGBA\", (400, 400), (236, 239, 241))\n",
        "canvas = ImageDraw.Draw(image)\n",
        "skincolor=(249, 168, 37)\n",
        "face = Face(skincolor)\n",
        "face.draw(canvas)\n",
        "eyes = Eyes(skincolor)\n",
        "eyes.draw(canvas)\n",
        "mouth = Mouth(skincolor)\n",
        "mouth.draw(canvas)\n",
        "nose = Nose(skincolor)\n",
        "nose.draw(canvas)\n",
        "ears = Ears(skincolor)\n",
        "ears.draw(canvas)\n",
        "hair = SmoothHair(skincolor)\n",
        "hair.draw(canvas)\n",
        "display(image)"
      ],
      "metadata": {
        "id": "zmMIcG9IwZL5"
      },
      "execution_count": null,
      "outputs": []
    }
  ]
}