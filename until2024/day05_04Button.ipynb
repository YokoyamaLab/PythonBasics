{
  "nbformat": 4,
  "nbformat_minor": 0,
  "metadata": {
    "colab": {
      "provenance": [],
      "include_colab_link": true
    },
    "kernelspec": {
      "name": "python3",
      "display_name": "Python 3"
    },
    "language_info": {
      "name": "python"
    }
  },
  "cells": [
    {
      "cell_type": "markdown",
      "metadata": {
        "id": "view-in-github",
        "colab_type": "text"
      },
      "source": [
        "<a href=\"https://colab.research.google.com/github/YokoyamaLab/PythonBasics/blob/2024/day05_04Button.ipynb\" target=\"_parent\"><img src=\"https://colab.research.google.com/assets/colab-badge.svg\" alt=\"Open In Colab\"/></a>"
      ]
    },
    {
      "cell_type": "markdown",
      "source": [
        "\n",
        "# Day05 資料04 参考情報\n",
        "\n",
        "## 画面のボタンをクリックして関数を呼び出す"
      ],
      "metadata": {
        "id": "qp2D5VnWUP2y"
      }
    },
    {
      "cell_type": "markdown",
      "source": [
        "ipywidgetsを使うと、colabの画面上にボタンを出すことができ、さらにそのボタンが押された時に、なんらかの関数を呼び出す事ができます。"
      ],
      "metadata": {
        "id": "-PRYmiiGWD9Y"
      }
    },
    {
      "cell_type": "code",
      "execution_count": null,
      "metadata": {
        "id": "oAjROD9AUL6o"
      },
      "outputs": [],
      "source": [
        "from IPython.display import display,clear_output\n",
        "from ipywidgets import Button,Layout\n",
        "\n",
        "button = Button(description=\"ここを押すと？\",layout=Layout(width='300px', height='50px'))\n",
        "\n",
        "def on_button_clicked(b):\n",
        "    print(\"この関数が呼ばれ、この文字列が表示される\")\n",
        "\n",
        "button.on_click(on_button_clicked)\n",
        "\n",
        "display(button)"
      ]
    },
    {
      "cell_type": "code",
      "source": [
        "buttons = (\n",
        "    Button(description=\"ボタン1\"layout=Layout(width='250px', height='50px')),\n",
        "    Button(description=\"ボタン2\"layout=Layout(width='250px', height='50px')),\n",
        "    Button(description=\"ボタン3\"layout=Layout(width='250px', height='50px'))\n",
        ")\n",
        "\n",
        "def on_buttons_clicked(b):\n",
        "  clear_output();  # 画面を一旦まっさらにする\n",
        "  redraw_button(); # ボタンを書き直す\n",
        "  print(\"複数のボタンのうち[\",b.description,\"]と書かれたボタンがクリックされた！\") # 押されたボタンに応じた処理をする\n",
        "\n",
        "def redraw_button():\n",
        "  for i in range(len(buttons)):\n",
        "    buttons[i].on_click(on_buttons_clicked)\n",
        "    display(buttons[i])\n",
        "\n",
        "redraw_button();\n"
      ],
      "metadata": {
        "id": "gNugONVNWa-V"
      },
      "execution_count": null,
      "outputs": []
    }
  ]
}