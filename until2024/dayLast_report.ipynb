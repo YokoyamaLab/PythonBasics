{
  "nbformat": 4,
  "nbformat_minor": 0,
  "metadata": {
    "colab": {
      "provenance": [],
      "include_colab_link": true
    },
    "kernelspec": {
      "name": "python3",
      "display_name": "Python 3"
    },
    "language_info": {
      "name": "python"
    }
  },
  "cells": [
    {
      "cell_type": "markdown",
      "metadata": {
        "id": "view-in-github",
        "colab_type": "text"
      },
      "source": [
        "<a href=\"https://colab.research.google.com/github/YokoyamaLab/PythonBasics/blob/2024/dayLast_report.ipynb\" target=\"_parent\"><img src=\"https://colab.research.google.com/assets/colab-badge.svg\" alt=\"Open In Colab\"/></a>"
      ]
    },
    {
      "cell_type": "markdown",
      "source": [
        "# 情報科学C 最終レポート"
      ],
      "metadata": {
        "id": "ok31ygr_mAqJ"
      }
    },
    {
      "cell_type": "markdown",
      "source": [
        "これは最終課題用の提出ファイルです。\n",
        "\n",
        "## 最終課題のお題\n",
        "\n",
        "* 講義で出てきた機械学習アルゴリズムを使ってなんらかの分析・可視化をしてください。\n",
        "* データは自分で探してきてください。以下のサイトが参考になるかもしれません。ほかにも「オープンデータ」というキーワードで検索すると色々と出てきますし、それを使ってPythonで分析する例も沢山出てきます。\n",
        "    * https://www.e-stat.go.jp/\n",
        "    * https://www.data.jma.go.jp/obd/stats/data/mdrr/docs/csv_dl_readme.html\n",
        "* データはこのノート内のプログラム・コマンドとしてダウンロードするか、もしくは、[最終課題用の共有フォルダ](https://drive.google.com/drive/folders/1uFEWq3H0RLboq6ECP0xoog_Yz3567weE?usp=drive_link)にファイル名が被らないように学籍番号をつけてアップロードし、このノートに読み込んでください。\n",
        "* このフォルダのパスは```/content/gdrive/Shareddrives/2024-35A01／情報科学 e／横山 昌平/dayLast```です。他の課題と同じく```cp```でローカルにコピーしてから使うようにプログラム書くと良いでしょう。\n",
        "    * とにかく、このノートがファイル読み込みも含めてエラーなく実行できれば問題ありません。\n",
        "* 必ず「こういう結果が出てくるんじゃないかなぁ？」という仮説を立てましょう\n",
        "* 仮説が上手くいった例をレポートに書ければbetterですが、仮説が上手くいかなかったというのも立派な知見です。\n",
        "* 最終レポートですので、形式は自由としますが、わかりやすくまとめてください。"
      ],
      "metadata": {
        "id": "4TDXbzhaToyt"
      }
    },
    {
      "cell_type": "code",
      "source": [
        "#@title 学籍番号、名前\n",
        "id = \"\" #@param {type:\"string\"}\n",
        "name = \"\" #@param {type:\"string\"}"
      ],
      "metadata": {
        "cellView": "form",
        "id": "cXVfoCXJXx4S"
      },
      "execution_count": null,
      "outputs": []
    },
    {
      "cell_type": "markdown",
      "source": [
        "ここにレポートをまとめてください。"
      ],
      "metadata": {
        "id": "HdZoMQhGHVlO"
      }
    }
  ]
}